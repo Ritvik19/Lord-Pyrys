{
 "cells": [
  {
   "cell_type": "markdown",
   "metadata": {},
   "source": [
    "# Libraries"
   ]
  },
  {
   "cell_type": "code",
   "execution_count": 1,
   "metadata": {
    "ExecuteTime": {
     "end_time": "2019-08-25T04:19:45.787587Z",
     "start_time": "2019-08-25T04:19:44.641600Z"
    }
   },
   "outputs": [],
   "source": [
    "import praw\n",
    "import pandas as pd\n",
    "from tqdm.auto import tqdm\n",
    "from datetime import datetime\n",
    "import os.path"
   ]
  },
  {
   "cell_type": "code",
   "execution_count": 2,
   "metadata": {
    "ExecuteTime": {
     "end_time": "2019-08-25T04:19:45.798037Z",
     "start_time": "2019-08-25T04:19:45.790514Z"
    }
   },
   "outputs": [],
   "source": [
    "pd.options.display.max_colwidth = -1"
   ]
  },
  {
   "cell_type": "markdown",
   "metadata": {},
   "source": [
    "# Scraping"
   ]
  },
  {
   "cell_type": "code",
   "execution_count": 3,
   "metadata": {
    "ExecuteTime": {
     "end_time": "2019-08-25T04:19:45.940801Z",
     "start_time": "2019-08-25T04:19:45.804013Z"
    }
   },
   "outputs": [],
   "source": [
    "with open('E:/API-Credentials/Reddit.txt') as f:\n",
    "    credentials = list(map(lambda x: x.strip(), f.readlines()))"
   ]
  },
  {
   "cell_type": "code",
   "execution_count": 4,
   "metadata": {
    "ExecuteTime": {
     "end_time": "2019-08-25T04:19:47.219863Z",
     "start_time": "2019-08-25T04:19:45.945271Z"
    }
   },
   "outputs": [
    {
     "name": "stdout",
     "output_type": "stream",
     "text": [
      "Ritvik19\n"
     ]
    }
   ],
   "source": [
    "reddit = praw.Reddit(client_id=credentials[0],\n",
    "                     client_secret=credentials[1],\n",
    "                     password=credentials[2],\n",
    "                     user_agent=credentials[3],\n",
    "                     username=credentials[4])\n",
    "print(reddit.user.me())"
   ]
  },
  {
   "cell_type": "code",
   "execution_count": 5,
   "metadata": {
    "ExecuteTime": {
     "end_time": "2019-08-25T04:20:31.198621Z",
     "start_time": "2019-08-25T04:19:47.229870Z"
    }
   },
   "outputs": [
    {
     "data": {
      "application/vnd.jupyter.widget-view+json": {
       "model_id": "83e59e650eec4dd38678846fc927c52e",
       "version_major": 2,
       "version_minor": 0
      },
      "text/plain": [
       "HBox(children=(IntProgress(value=1, bar_style='info', max=1), HTML(value='')))"
      ]
     },
     "metadata": {},
     "output_type": "display_data"
    },
    {
     "name": "stdout",
     "output_type": "stream",
     "text": [
      "\n"
     ]
    }
   ],
   "source": [
    "subreddit = reddit.subreddit('LifeProTips')\n",
    "redds = []\n",
    "ts = []\n",
    "\n",
    "top_subreddit = subreddit.new(limit=1000)\n",
    "for sr in tqdm(top_subreddit):\n",
    "    if not sr.stickied:\n",
    "        redds.append(sr.title)\n",
    "        ts.append(sr.created_utc)"
   ]
  },
  {
   "cell_type": "code",
   "execution_count": 6,
   "metadata": {
    "ExecuteTime": {
     "end_time": "2019-08-25T04:20:31.235223Z",
     "start_time": "2019-08-25T04:20:31.204184Z"
    }
   },
   "outputs": [],
   "source": [
    "ts = list(map(lambda x : datetime.fromtimestamp(x).strftime(\"%Y/%m/%d %H:%M:%S\"), ts))"
   ]
  },
  {
   "cell_type": "code",
   "execution_count": 7,
   "metadata": {
    "ExecuteTime": {
     "end_time": "2019-08-25T04:20:31.435122Z",
     "start_time": "2019-08-25T04:20:31.240236Z"
    }
   },
   "outputs": [],
   "source": [
    "FILEPATH = 'E:/Scrapped-Data/Reddit-Life Pro Tips.csv'"
   ]
  },
  {
   "cell_type": "code",
   "execution_count": 8,
   "metadata": {
    "ExecuteTime": {
     "end_time": "2019-08-25T04:20:31.987847Z",
     "start_time": "2019-08-25T04:20:31.443082Z"
    }
   },
   "outputs": [
    {
     "name": "stdout",
     "output_type": "stream",
     "text": [
      "996\n",
      "986 New Reddits\n",
      "3145\n"
     ]
    }
   ],
   "source": [
    "if os.path.exists(FILEPATH):\n",
    "    d_old = pd.read_csv(FILEPATH)\n",
    "    d_new = pd.DataFrame({'Reddit':redds, 'TimeStamp':ts})\n",
    "    print(len(d_new))\n",
    "    d_all = pd.concat([d_new, d_old], axis=0)\n",
    "else:\n",
    "    d_all = pd.DataFrame({'Reddit':redds, 'TimeStamp':ts})\n",
    "d_all.drop_duplicates(subset=['Reddit'],inplace=True)\n",
    "d_all.sort_values('TimeStamp', ascending=False, inplace=True)\n",
    "d_all.to_csv(FILEPATH, index=False)\n",
    "print(f'{len(d_all)-len(d_old)} New Reddits') if os.path.exists(FILEPATH) else ()\n",
    "print(len(d_all))"
   ]
  },
  {
   "cell_type": "code",
   "execution_count": 9,
   "metadata": {
    "ExecuteTime": {
     "end_time": "2019-08-25T04:20:32.024745Z",
     "start_time": "2019-08-25T04:20:31.993082Z"
    }
   },
   "outputs": [
    {
     "data": {
      "text/html": [
       "<div>\n",
       "<style scoped>\n",
       "    .dataframe tbody tr th:only-of-type {\n",
       "        vertical-align: middle;\n",
       "    }\n",
       "\n",
       "    .dataframe tbody tr th {\n",
       "        vertical-align: top;\n",
       "    }\n",
       "\n",
       "    .dataframe thead th {\n",
       "        text-align: right;\n",
       "    }\n",
       "</style>\n",
       "<table border=\"1\" class=\"dataframe\">\n",
       "  <thead>\n",
       "    <tr style=\"text-align: right;\">\n",
       "      <th></th>\n",
       "      <th>Reddit</th>\n",
       "      <th>TimeStamp</th>\n",
       "    </tr>\n",
       "  </thead>\n",
       "  <tbody>\n",
       "    <tr>\n",
       "      <th>0</th>\n",
       "      <td>LPT: Before buying a wine, search it on the app Vivino, it as reviews, details, informations about all the wines. An expensive wine doest mean it's a good wine.</td>\n",
       "      <td>2019/08/25 09:40:14</td>\n",
       "    </tr>\n",
       "    <tr>\n",
       "      <th>1</th>\n",
       "      <td>LPT: Need kindling? Find a carpenter</td>\n",
       "      <td>2019/08/25 09:02:54</td>\n",
       "    </tr>\n",
       "    <tr>\n",
       "      <th>2</th>\n",
       "      <td>LPT: If you’re new to DIY projects and plan on doing any electrical work buy a voltage tester to verify circuits are truly off when you think they are.</td>\n",
       "      <td>2019/08/25 08:43:21</td>\n",
       "    </tr>\n",
       "    <tr>\n",
       "      <th>3</th>\n",
       "      <td>LPT: Nail down shingles to every step (if it's wood) to make sure that you won't slide down the steps after it's rained.</td>\n",
       "      <td>2019/08/25 08:38:22</td>\n",
       "    </tr>\n",
       "    <tr>\n",
       "      <th>4</th>\n",
       "      <td>[LPT Request] I am an introvert moving to a new state to go to college, how do I make friends?</td>\n",
       "      <td>2019/08/25 08:37:21</td>\n",
       "    </tr>\n",
       "  </tbody>\n",
       "</table>\n",
       "</div>"
      ],
      "text/plain": [
       "                                                                                                                                                             Reddit  \\\n",
       "0  LPT: Before buying a wine, search it on the app Vivino, it as reviews, details, informations about all the wines. An expensive wine doest mean it's a good wine.   \n",
       "1  LPT: Need kindling? Find a carpenter                                                                                                                               \n",
       "2  LPT: If you’re new to DIY projects and plan on doing any electrical work buy a voltage tester to verify circuits are truly off when you think they are.            \n",
       "3  LPT: Nail down shingles to every step (if it's wood) to make sure that you won't slide down the steps after it's rained.                                           \n",
       "4  [LPT Request] I am an introvert moving to a new state to go to college, how do I make friends?                                                                     \n",
       "\n",
       "             TimeStamp  \n",
       "0  2019/08/25 09:40:14  \n",
       "1  2019/08/25 09:02:54  \n",
       "2  2019/08/25 08:43:21  \n",
       "3  2019/08/25 08:38:22  \n",
       "4  2019/08/25 08:37:21  "
      ]
     },
     "execution_count": 9,
     "metadata": {},
     "output_type": "execute_result"
    }
   ],
   "source": [
    "d_all.head()"
   ]
  }
 ],
 "metadata": {
  "kernelspec": {
   "display_name": "Python 3",
   "language": "python",
   "name": "python3"
  },
  "language_info": {
   "codemirror_mode": {
    "name": "ipython",
    "version": 3
   },
   "file_extension": ".py",
   "mimetype": "text/x-python",
   "name": "python",
   "nbconvert_exporter": "python",
   "pygments_lexer": "ipython3",
   "version": "3.7.3"
  },
  "toc": {
   "base_numbering": 1,
   "nav_menu": {},
   "number_sections": true,
   "sideBar": true,
   "skip_h1_title": false,
   "title_cell": "Table of Contents",
   "title_sidebar": "Contents",
   "toc_cell": false,
   "toc_position": {},
   "toc_section_display": true,
   "toc_window_display": false
  },
  "varInspector": {
   "cols": {
    "lenName": 16,
    "lenType": 16,
    "lenVar": 40
   },
   "kernels_config": {
    "python": {
     "delete_cmd_postfix": "",
     "delete_cmd_prefix": "del ",
     "library": "var_list.py",
     "varRefreshCmd": "print(var_dic_list())"
    },
    "r": {
     "delete_cmd_postfix": ") ",
     "delete_cmd_prefix": "rm(",
     "library": "var_list.r",
     "varRefreshCmd": "cat(var_dic_list()) "
    }
   },
   "types_to_exclude": [
    "module",
    "function",
    "builtin_function_or_method",
    "instance",
    "_Feature"
   ],
   "window_display": false
  }
 },
 "nbformat": 4,
 "nbformat_minor": 2
}
