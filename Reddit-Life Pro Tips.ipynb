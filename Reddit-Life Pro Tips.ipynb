{
 "cells": [
  {
   "cell_type": "markdown",
   "metadata": {},
   "source": [
    "# Libraries"
   ]
  },
  {
   "cell_type": "code",
   "execution_count": 1,
   "metadata": {
    "ExecuteTime": {
     "end_time": "2019-07-17T14:51:13.881620Z",
     "start_time": "2019-07-17T14:51:12.556167Z"
    }
   },
   "outputs": [],
   "source": [
    "import praw\n",
    "import pandas as pd\n",
    "from tqdm import tqdm\n",
    "from datetime import datetime"
   ]
  },
  {
   "cell_type": "markdown",
   "metadata": {},
   "source": [
    "# Scraping"
   ]
  },
  {
   "cell_type": "code",
   "execution_count": 2,
   "metadata": {
    "ExecuteTime": {
     "end_time": "2019-07-17T14:51:13.900570Z",
     "start_time": "2019-07-17T14:51:13.885609Z"
    }
   },
   "outputs": [],
   "source": [
    "with open('E:/RedditCredentials.txt') as f:\n",
    "    credentials = list(map(lambda x: x.strip(), f.readlines()))"
   ]
  },
  {
   "cell_type": "code",
   "execution_count": 3,
   "metadata": {
    "ExecuteTime": {
     "end_time": "2019-07-17T14:51:16.015912Z",
     "start_time": "2019-07-17T14:51:13.904559Z"
    }
   },
   "outputs": [
    {
     "name": "stdout",
     "output_type": "stream",
     "text": [
      "Ritvik19\n"
     ]
    }
   ],
   "source": [
    "reddit = praw.Reddit(client_id=credentials[0],\n",
    "                     client_secret=credentials[1],\n",
    "                     password=credentials[2],\n",
    "                     user_agent=credentials[3],\n",
    "                     username=credentials[4])\n",
    "print(reddit.user.me())"
   ]
  },
  {
   "cell_type": "code",
   "execution_count": 4,
   "metadata": {
    "ExecuteTime": {
     "end_time": "2019-07-17T14:51:37.574241Z",
     "start_time": "2019-07-17T14:51:16.019901Z"
    }
   },
   "outputs": [
    {
     "name": "stderr",
     "output_type": "stream",
     "text": [
      "897it [00:21, 41.66it/s]\n"
     ]
    }
   ],
   "source": [
    "subreddit = reddit.subreddit('LifeProTips')\n",
    "redds = []\n",
    "ts = []\n",
    "\n",
    "top_subreddit = subreddit.top(limit=1000)\n",
    "for sr in tqdm(top_subreddit):\n",
    "    redds.append(sr.title)\n",
    "    ts.append(sr.created_utc)"
   ]
  },
  {
   "cell_type": "code",
   "execution_count": 5,
   "metadata": {
    "ExecuteTime": {
     "end_time": "2019-07-17T14:51:37.592194Z",
     "start_time": "2019-07-17T14:51:37.576235Z"
    }
   },
   "outputs": [],
   "source": [
    "ts = list(map(lambda x : datetime.fromtimestamp(x).strftime(\"%m/%d/%Y %H:%M:%S\"), ts))"
   ]
  },
  {
   "cell_type": "code",
   "execution_count": 6,
   "metadata": {
    "ExecuteTime": {
     "end_time": "2019-07-17T14:51:37.787668Z",
     "start_time": "2019-07-17T14:51:37.595185Z"
    }
   },
   "outputs": [],
   "source": [
    "FILEPATH = 'E:/Scrapped-Data/Reddit-Life Pro Tips.csv'\n",
    "d_old = pd.read_csv(FILEPATH)\n",
    "d_new = pd.DataFrame({'Reddit':redds, 'TimeStamp':ts})\n",
    "\n",
    "d_all = pd.concat([d_new, d_old], axis=0)\n",
    "d_all.drop_duplicates(inplace=True)\n",
    "d_all.to_csv(FILEPATH, index=False)"
   ]
  },
  {
   "cell_type": "code",
   "execution_count": 7,
   "metadata": {
    "ExecuteTime": {
     "end_time": "2019-07-17T14:51:37.909344Z",
     "start_time": "2019-07-17T14:51:37.791660Z"
    }
   },
   "outputs": [
    {
     "data": {
      "text/html": [
       "<div>\n",
       "<style scoped>\n",
       "    .dataframe tbody tr th:only-of-type {\n",
       "        vertical-align: middle;\n",
       "    }\n",
       "\n",
       "    .dataframe tbody tr th {\n",
       "        vertical-align: top;\n",
       "    }\n",
       "\n",
       "    .dataframe thead th {\n",
       "        text-align: right;\n",
       "    }\n",
       "</style>\n",
       "<table border=\"1\" class=\"dataframe\">\n",
       "  <thead>\n",
       "    <tr style=\"text-align: right;\">\n",
       "      <th></th>\n",
       "      <th>Reddit</th>\n",
       "      <th>TimeStamp</th>\n",
       "    </tr>\n",
       "  </thead>\n",
       "  <tbody>\n",
       "    <tr>\n",
       "      <th>0</th>\n",
       "      <td>LPT: Try not to be mean or toxic in online gam...</td>\n",
       "      <td>12/24/2018 20:05:05</td>\n",
       "    </tr>\n",
       "    <tr>\n",
       "      <th>1</th>\n",
       "      <td>LPT: if your LPT is about fucking coconuts, it...</td>\n",
       "      <td>08/08/2017 00:10:23</td>\n",
       "    </tr>\n",
       "    <tr>\n",
       "      <th>2</th>\n",
       "      <td>LPT: If you like one song by an artist, but do...</td>\n",
       "      <td>04/05/2018 04:50:48</td>\n",
       "    </tr>\n",
       "    <tr>\n",
       "      <th>3</th>\n",
       "      <td>LPT: Pay Attention to the smell of your home w...</td>\n",
       "      <td>11/26/2017 21:29:21</td>\n",
       "    </tr>\n",
       "    <tr>\n",
       "      <th>4</th>\n",
       "      <td>LPT: for those of you going to college for the...</td>\n",
       "      <td>08/18/2018 22:30:21</td>\n",
       "    </tr>\n",
       "  </tbody>\n",
       "</table>\n",
       "</div>"
      ],
      "text/plain": [
       "                                              Reddit            TimeStamp\n",
       "0  LPT: Try not to be mean or toxic in online gam...  12/24/2018 20:05:05\n",
       "1  LPT: if your LPT is about fucking coconuts, it...  08/08/2017 00:10:23\n",
       "2  LPT: If you like one song by an artist, but do...  04/05/2018 04:50:48\n",
       "3  LPT: Pay Attention to the smell of your home w...  11/26/2017 21:29:21\n",
       "4  LPT: for those of you going to college for the...  08/18/2018 22:30:21"
      ]
     },
     "execution_count": 7,
     "metadata": {},
     "output_type": "execute_result"
    }
   ],
   "source": [
    "d_all.head()"
   ]
  },
  {
   "cell_type": "code",
   "execution_count": 8,
   "metadata": {
    "ExecuteTime": {
     "end_time": "2019-07-17T14:51:38.056949Z",
     "start_time": "2019-07-17T14:51:37.914332Z"
    }
   },
   "outputs": [
    {
     "name": "stdout",
     "output_type": "stream",
     "text": [
      "0 New Reddits\n"
     ]
    }
   ],
   "source": [
    "print(f'{len(d_all)-len(d_old)} New Reddits')"
   ]
  },
  {
   "cell_type": "code",
   "execution_count": null,
   "metadata": {},
   "outputs": [],
   "source": []
  }
 ],
 "metadata": {
  "kernelspec": {
   "display_name": "Python 3",
   "language": "python",
   "name": "python3"
  },
  "language_info": {
   "codemirror_mode": {
    "name": "ipython",
    "version": 3
   },
   "file_extension": ".py",
   "mimetype": "text/x-python",
   "name": "python",
   "nbconvert_exporter": "python",
   "pygments_lexer": "ipython3",
   "version": "3.7.3"
  },
  "toc": {
   "base_numbering": 1,
   "nav_menu": {},
   "number_sections": true,
   "sideBar": true,
   "skip_h1_title": false,
   "title_cell": "Table of Contents",
   "title_sidebar": "Contents",
   "toc_cell": false,
   "toc_position": {},
   "toc_section_display": true,
   "toc_window_display": false
  },
  "varInspector": {
   "cols": {
    "lenName": 16,
    "lenType": 16,
    "lenVar": 40
   },
   "kernels_config": {
    "python": {
     "delete_cmd_postfix": "",
     "delete_cmd_prefix": "del ",
     "library": "var_list.py",
     "varRefreshCmd": "print(var_dic_list())"
    },
    "r": {
     "delete_cmd_postfix": ") ",
     "delete_cmd_prefix": "rm(",
     "library": "var_list.r",
     "varRefreshCmd": "cat(var_dic_list()) "
    }
   },
   "types_to_exclude": [
    "module",
    "function",
    "builtin_function_or_method",
    "instance",
    "_Feature"
   ],
   "window_display": false
  }
 },
 "nbformat": 4,
 "nbformat_minor": 2
}
