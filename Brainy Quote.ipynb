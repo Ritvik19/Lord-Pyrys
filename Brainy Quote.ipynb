{
 "cells": [
  {
   "cell_type": "code",
   "execution_count": 1,
   "metadata": {
    "ExecuteTime": {
     "end_time": "2019-09-22T15:44:53.191236Z",
     "start_time": "2019-09-22T15:44:52.044306Z"
    }
   },
   "outputs": [],
   "source": [
    "from selenium import webdriver\n",
    "import urllib.request as req\n",
    "import pandas as pd\n",
    "import os\n",
    "import datetime, time, random"
   ]
  },
  {
   "cell_type": "code",
   "execution_count": 2,
   "metadata": {
    "ExecuteTime": {
     "end_time": "2019-09-22T15:44:53.201202Z",
     "start_time": "2019-09-22T15:44:53.195218Z"
    }
   },
   "outputs": [],
   "source": [
    "urls = ['https://www.brainyquote.com/topics/motivational-quotes',\n",
    "        'https://www.brainyquote.com/topics/attitude-quotes',\n",
    "        'https://www.brainyquote.com/topics/life-quotes',\n",
    "        'https://www.brainyquote.com/topics/inspirational-quotes',\n",
    "        'https://www.brainyquote.com/topics/smile-quotes',\n",
    "        'https://www.brainyquote.com/topics/funny-quotes',\n",
    "        'https://www.brainyquote.com/topics/positive-quotes',\n",
    "        'https://www.brainyquote.com/topics/nature-quotes',\n",
    "        'https://www.brainyquote.com/topics/sad-quotes',\n",
    "        'https://www.brainyquote.com/topics/teacher-quotes'\n",
    "]"
   ]
  },
  {
   "cell_type": "code",
   "execution_count": 3,
   "metadata": {
    "ExecuteTime": {
     "end_time": "2019-09-22T15:44:53.325904Z",
     "start_time": "2019-09-22T15:44:53.205194Z"
    }
   },
   "outputs": [
    {
     "data": {
      "text/plain": [
       "10"
      ]
     },
     "execution_count": 3,
     "metadata": {},
     "output_type": "execute_result"
    }
   ],
   "source": [
    "len(urls)"
   ]
  },
  {
   "cell_type": "code",
   "execution_count": 4,
   "metadata": {
    "ExecuteTime": {
     "end_time": "2019-09-22T16:46:48.950047Z",
     "start_time": "2019-09-22T15:44:53.329861Z"
    }
   },
   "outputs": [
    {
     "name": "stdout",
     "output_type": "stream",
     "text": [
      "[INFO] Total time taken to scroll Motivational till the end 0:01:45.366074\n",
      "250\n",
      "[INFO] Total time taken to scroll Attitude till the end 0:06:33.659967\n",
      "1000\n",
      "[INFO] Total time taken to scroll Life till the end 0:06:19.594210\n",
      "1000\n",
      "[INFO] Total time taken to scroll Inspirational till the end 0:03:20.369282\n",
      "441\n",
      "[INFO] Total time taken to scroll Smile till the end 0:05:56.763299\n",
      "889\n",
      "[INFO] Total time taken to scroll Funny till the end 0:06:58.656781\n",
      "1000\n",
      "[INFO] Total time taken to scroll Positive till the end 0:06:43.883804\n",
      "1000\n",
      "[INFO] Total time taken to scroll Nature till the end 0:06:57.773159\n",
      "1000\n",
      "[INFO] Total time taken to scroll Sad till the end 0:06:46.488099\n",
      "1000\n",
      "[INFO] Total time taken to scroll Teacher till the end 0:06:33.133387\n",
      "1000\n"
     ]
    }
   ],
   "source": [
    "options = webdriver.ChromeOptions()\n",
    "options.add_argument(\"--start-maximized\")\n",
    "\n",
    "driver = webdriver.Chrome(options=options)\n",
    "for i in range(10):\n",
    "    url = urls[i]\n",
    "    cat = url.split('/')[-1].split('-')[0].title()\n",
    "    driver.get(url)\n",
    "\n",
    "    last_height = driver.execute_script(\"return document.body.scrollHeight\")\n",
    "\n",
    "    start = datetime.datetime.now()\n",
    "\n",
    "    while True:\n",
    "        driver.execute_script(\"window.scrollTo(0, document.body.scrollHeight);\")\n",
    "        time.sleep(10*(random.random()+0.5))\n",
    "\n",
    "        new_height = driver.execute_script(\"return document.body.scrollHeight\")\n",
    "        if new_height == last_height:\n",
    "            break\n",
    "        last_height = new_height\n",
    "\n",
    "    end = datetime.datetime.now()\n",
    "    delta = end-start\n",
    "    print(f\"[INFO] Total time taken to scroll {cat} till the end {delta}\")\n",
    "\n",
    "    quotes = driver.find_elements_by_css_selector('a.b-qt.oncl_q')\n",
    "    \n",
    "    quotes_ = []\n",
    "\n",
    "    for tag in quotes:\n",
    "        quotes_.append(tag.text)\n",
    "    print(len(quotes))\n",
    "    pd.DataFrame({\n",
    "        'Quote': quotes_\n",
    "    }).to_csv(f'E:/Scrapped-Data/BrainyQuote/{cat}.csv', index=False)"
   ]
  },
  {
   "cell_type": "code",
   "execution_count": null,
   "metadata": {},
   "outputs": [],
   "source": []
  }
 ],
 "metadata": {
  "kernelspec": {
   "display_name": "Python 3",
   "language": "python",
   "name": "python3"
  },
  "language_info": {
   "codemirror_mode": {
    "name": "ipython",
    "version": 3
   },
   "file_extension": ".py",
   "mimetype": "text/x-python",
   "name": "python",
   "nbconvert_exporter": "python",
   "pygments_lexer": "ipython3",
   "version": "3.7.3"
  },
  "toc": {
   "base_numbering": 1,
   "nav_menu": {},
   "number_sections": true,
   "sideBar": true,
   "skip_h1_title": false,
   "title_cell": "Table of Contents",
   "title_sidebar": "Contents",
   "toc_cell": false,
   "toc_position": {},
   "toc_section_display": true,
   "toc_window_display": false
  },
  "varInspector": {
   "cols": {
    "lenName": 16,
    "lenType": 16,
    "lenVar": 40
   },
   "kernels_config": {
    "python": {
     "delete_cmd_postfix": "",
     "delete_cmd_prefix": "del ",
     "library": "var_list.py",
     "varRefreshCmd": "print(var_dic_list())"
    },
    "r": {
     "delete_cmd_postfix": ") ",
     "delete_cmd_prefix": "rm(",
     "library": "var_list.r",
     "varRefreshCmd": "cat(var_dic_list()) "
    }
   },
   "types_to_exclude": [
    "module",
    "function",
    "builtin_function_or_method",
    "instance",
    "_Feature"
   ],
   "window_display": false
  }
 },
 "nbformat": 4,
 "nbformat_minor": 2
}
