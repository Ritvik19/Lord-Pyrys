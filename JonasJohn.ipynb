{
 "cells": [
  {
   "cell_type": "markdown",
   "metadata": {},
   "source": [
    "# Libraries"
   ]
  },
  {
   "cell_type": "code",
   "execution_count": 1,
   "metadata": {
    "ExecuteTime": {
     "end_time": "2019-05-11T09:51:23.305680Z",
     "start_time": "2019-05-11T09:51:22.995498Z"
    }
   },
   "outputs": [],
   "source": [
    "import requests, bs4"
   ]
  },
  {
   "cell_type": "code",
   "execution_count": 2,
   "metadata": {
    "ExecuteTime": {
     "end_time": "2019-05-11T09:51:23.879468Z",
     "start_time": "2019-05-11T09:51:23.307663Z"
    }
   },
   "outputs": [],
   "source": [
    "import numpy as np\n",
    "import pandas as pd"
   ]
  },
  {
   "cell_type": "code",
   "execution_count": 3,
   "metadata": {
    "ExecuteTime": {
     "end_time": "2019-05-11T09:51:23.887442Z",
     "start_time": "2019-05-11T09:51:23.882455Z"
    }
   },
   "outputs": [],
   "source": [
    "from IPython.display import clear_output"
   ]
  },
  {
   "cell_type": "code",
   "execution_count": 4,
   "metadata": {
    "ExecuteTime": {
     "end_time": "2019-05-11T09:51:24.049367Z",
     "start_time": "2019-05-11T09:51:23.891432Z"
    }
   },
   "outputs": [],
   "source": [
    "pd.options.display.max_columns = 5\n",
    "pd.options.display.max_colwidth = -1"
   ]
  },
  {
   "cell_type": "markdown",
   "metadata": {},
   "source": [
    "# Scraping"
   ]
  },
  {
   "cell_type": "code",
   "execution_count": 5,
   "metadata": {
    "ExecuteTime": {
     "end_time": "2019-05-11T09:52:57.100571Z",
     "start_time": "2019-05-11T09:51:24.057347Z"
    }
   },
   "outputs": [
    {
     "name": "stdout",
     "output_type": "stream",
     "text": [
      "143\n",
      "http://www.jonasjohn.de/snippets/html4strict/go-to-top.htm\n"
     ]
    }
   ],
   "source": [
    "count = 1\n",
    "JSL = pd.DataFrame(columns=['Title', 'Code', 'Language', 'URL'])\n",
    "url = 'http://www.jonasjohn.de/snippets/all.htm'\n",
    "res = requests.get(url)\n",
    "if res.status_code == requests.codes.ok:\n",
    "    ressoup = bs4.BeautifulSoup(res.text, 'lxml')\n",
    "    elems_span = ressoup.select('li span')[3:]\n",
    "    elems_a = ressoup.select('li a')[3:]\n",
    "    for e1,e2 in zip(elems_span, elems_a):\n",
    "        clear_output(wait=True)\n",
    "        print(count)\n",
    "        count += 1\n",
    "        if count not in [30]:\n",
    "            u = 'http://www.jonasjohn.de'+e2.get('href')\n",
    "            print(u)\n",
    "            res = requests.get(u)\n",
    "            if res.status_code == requests.codes.ok:\n",
    "                ressoup = bs4.BeautifulSoup(res.text, 'lxml')\n",
    "                code = ressoup.select('pre')[0].getText()\n",
    "            else:\n",
    "                print('Something went wrong inside')\n",
    "                code = ''\n",
    "            new_code = pd.DataFrame({\n",
    "                'Title': [e2.getText()],\n",
    "                'Language': [e1.getText()[1:-1]],\n",
    "                'URL': [u],\n",
    "                'Code': [code]\n",
    "            })\n",
    "            JSL = pd.concat([JSL, new_code], axis=0)\n",
    "else:\n",
    "    print('Something went wrong')"
   ]
  },
  {
   "cell_type": "code",
   "execution_count": 7,
   "metadata": {
    "ExecuteTime": {
     "end_time": "2019-05-11T09:53:17.819227Z",
     "start_time": "2019-05-11T09:53:17.814270Z"
    },
    "cell_style": "split"
   },
   "outputs": [],
   "source": [
    "JSL = JSL.reset_index(drop=True)"
   ]
  },
  {
   "cell_type": "code",
   "execution_count": 8,
   "metadata": {
    "ExecuteTime": {
     "end_time": "2019-05-11T09:53:31.677099Z",
     "start_time": "2019-05-11T09:53:31.671089Z"
    },
    "cell_style": "split",
    "scrolled": true
   },
   "outputs": [
    {
     "data": {
      "text/plain": [
       "142"
      ]
     },
     "execution_count": 8,
     "metadata": {},
     "output_type": "execute_result"
    }
   ],
   "source": [
    "len(JSL)"
   ]
  },
  {
   "cell_type": "code",
   "execution_count": 11,
   "metadata": {
    "ExecuteTime": {
     "end_time": "2019-05-11T09:54:43.285877Z",
     "start_time": "2019-05-11T09:54:43.225944Z"
    },
    "cell_style": "split"
   },
   "outputs": [],
   "source": [
    "JSL.to_csv('E:/Scrapped-Data/JonasJohn.csv', index=False)"
   ]
  },
  {
   "cell_type": "code",
   "execution_count": null,
   "metadata": {},
   "outputs": [],
   "source": []
  }
 ],
 "metadata": {
  "kernelspec": {
   "display_name": "Python 3",
   "language": "python",
   "name": "python3"
  },
  "language_info": {
   "codemirror_mode": {
    "name": "ipython",
    "version": 3
   },
   "file_extension": ".py",
   "mimetype": "text/x-python",
   "name": "python",
   "nbconvert_exporter": "python",
   "pygments_lexer": "ipython3",
   "version": "3.7.3"
  },
  "toc": {
   "base_numbering": 1,
   "nav_menu": {},
   "number_sections": true,
   "sideBar": true,
   "skip_h1_title": false,
   "title_cell": "Table of Contents",
   "title_sidebar": "Contents",
   "toc_cell": false,
   "toc_position": {},
   "toc_section_display": true,
   "toc_window_display": false
  },
  "varInspector": {
   "cols": {
    "lenName": 16,
    "lenType": 16,
    "lenVar": 40
   },
   "kernels_config": {
    "python": {
     "delete_cmd_postfix": "",
     "delete_cmd_prefix": "del ",
     "library": "var_list.py",
     "varRefreshCmd": "print(var_dic_list())"
    },
    "r": {
     "delete_cmd_postfix": ") ",
     "delete_cmd_prefix": "rm(",
     "library": "var_list.r",
     "varRefreshCmd": "cat(var_dic_list()) "
    }
   },
   "types_to_exclude": [
    "module",
    "function",
    "builtin_function_or_method",
    "instance",
    "_Feature"
   ],
   "window_display": false
  }
 },
 "nbformat": 4,
 "nbformat_minor": 2
}
