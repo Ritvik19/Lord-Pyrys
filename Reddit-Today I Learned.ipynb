{
 "cells": [
  {
   "cell_type": "markdown",
   "metadata": {},
   "source": [
    "# Libraries"
   ]
  },
  {
   "cell_type": "code",
   "execution_count": 1,
   "metadata": {
    "ExecuteTime": {
     "end_time": "2019-07-17T14:19:21.526406Z",
     "start_time": "2019-07-17T14:19:16.416367Z"
    }
   },
   "outputs": [],
   "source": [
    "import praw\n",
    "import pandas as pd\n",
    "from tqdm import tqdm"
   ]
  },
  {
   "cell_type": "markdown",
   "metadata": {},
   "source": [
    "# Scraping"
   ]
  },
  {
   "cell_type": "code",
   "execution_count": 2,
   "metadata": {
    "ExecuteTime": {
     "end_time": "2019-07-17T14:19:21.541938Z",
     "start_time": "2019-07-17T14:19:21.530967Z"
    }
   },
   "outputs": [],
   "source": [
    "with open('E:/RedditCredentials.txt') as f:\n",
    "    credentials = list(map(lambda x: x.strip(), f.readlines()))"
   ]
  },
  {
   "cell_type": "code",
   "execution_count": 3,
   "metadata": {
    "ExecuteTime": {
     "end_time": "2019-07-17T14:19:24.036620Z",
     "start_time": "2019-07-17T14:19:21.554470Z"
    }
   },
   "outputs": [
    {
     "name": "stdout",
     "output_type": "stream",
     "text": [
      "Ritvik19\n"
     ]
    }
   ],
   "source": [
    "reddit = praw.Reddit(client_id=credentials[0],\n",
    "                     client_secret=credentials[1],\n",
    "                     password=credentials[2],\n",
    "                     user_agent=credentials[3],\n",
    "                     username=credentials[4])\n",
    "print(reddit.user.me())"
   ]
  },
  {
   "cell_type": "code",
   "execution_count": 4,
   "metadata": {
    "ExecuteTime": {
     "end_time": "2019-07-17T14:19:41.755985Z",
     "start_time": "2019-07-17T14:19:24.040818Z"
    }
   },
   "outputs": [
    {
     "name": "stderr",
     "output_type": "stream",
     "text": [
      "988it [00:17, 56.32it/s]\n"
     ]
    }
   ],
   "source": [
    "subreddit = reddit.subreddit('todayilearned')\n",
    "til = []\n",
    "\n",
    "top_subreddit = subreddit.top(limit=1000)\n",
    "for sr in tqdm(top_subreddit):\n",
    "    til.append(sr.title)"
   ]
  },
  {
   "cell_type": "code",
   "execution_count": 5,
   "metadata": {
    "ExecuteTime": {
     "end_time": "2019-07-17T14:19:41.920466Z",
     "start_time": "2019-07-17T14:19:41.758974Z"
    }
   },
   "outputs": [],
   "source": [
    "d_old = pd.read_csv('E:/Scrapped-Data/Reddit-Today I Learned.csv')\n",
    "d_new = pd.DataFrame(til, columns=['TodayILearned'])\n",
    "\n",
    "d_all = pd.concat([d_new, d_old], axis=0)\n",
    "d_all.drop_duplicates(inplace=True)\n",
    "d_all.to_csv('E:/Scrapped-Data/Reddit-Today I Learned.csv', index=False)"
   ]
  },
  {
   "cell_type": "code",
   "execution_count": 6,
   "metadata": {
    "ExecuteTime": {
     "end_time": "2019-07-17T14:19:42.023963Z",
     "start_time": "2019-07-17T14:19:41.923456Z"
    }
   },
   "outputs": [
    {
     "name": "stdout",
     "output_type": "stream",
     "text": [
      "0 New Reddits\n"
     ]
    }
   ],
   "source": [
    "print(f'{len(d_all)-len(d_old)} New Reddits')"
   ]
  },
  {
   "cell_type": "code",
   "execution_count": null,
   "metadata": {},
   "outputs": [],
   "source": []
  }
 ],
 "metadata": {
  "kernelspec": {
   "display_name": "Python 3",
   "language": "python",
   "name": "python3"
  },
  "language_info": {
   "codemirror_mode": {
    "name": "ipython",
    "version": 3
   },
   "file_extension": ".py",
   "mimetype": "text/x-python",
   "name": "python",
   "nbconvert_exporter": "python",
   "pygments_lexer": "ipython3",
   "version": "3.7.3"
  },
  "toc": {
   "base_numbering": 1,
   "nav_menu": {},
   "number_sections": true,
   "sideBar": true,
   "skip_h1_title": false,
   "title_cell": "Table of Contents",
   "title_sidebar": "Contents",
   "toc_cell": false,
   "toc_position": {},
   "toc_section_display": true,
   "toc_window_display": false
  },
  "varInspector": {
   "cols": {
    "lenName": 16,
    "lenType": 16,
    "lenVar": 40
   },
   "kernels_config": {
    "python": {
     "delete_cmd_postfix": "",
     "delete_cmd_prefix": "del ",
     "library": "var_list.py",
     "varRefreshCmd": "print(var_dic_list())"
    },
    "r": {
     "delete_cmd_postfix": ") ",
     "delete_cmd_prefix": "rm(",
     "library": "var_list.r",
     "varRefreshCmd": "cat(var_dic_list()) "
    }
   },
   "types_to_exclude": [
    "module",
    "function",
    "builtin_function_or_method",
    "instance",
    "_Feature"
   ],
   "window_display": false
  }
 },
 "nbformat": 4,
 "nbformat_minor": 2
}
