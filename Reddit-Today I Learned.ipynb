{
 "cells": [
  {
   "cell_type": "markdown",
   "metadata": {},
   "source": [
    "# Libraries"
   ]
  },
  {
   "cell_type": "code",
   "execution_count": 1,
   "metadata": {
    "ExecuteTime": {
     "end_time": "2019-07-19T16:47:39.292093Z",
     "start_time": "2019-07-19T16:47:38.160907Z"
    }
   },
   "outputs": [],
   "source": [
    "import praw\n",
    "import pandas as pd\n",
    "from tqdm import tqdm\n",
    "from datetime import datetime"
   ]
  },
  {
   "cell_type": "markdown",
   "metadata": {},
   "source": [
    "# Scraping"
   ]
  },
  {
   "cell_type": "code",
   "execution_count": 2,
   "metadata": {
    "ExecuteTime": {
     "end_time": "2019-07-19T16:47:39.301981Z",
     "start_time": "2019-07-19T16:47:39.294003Z"
    }
   },
   "outputs": [],
   "source": [
    "with open('E:/RedditCredentials.txt') as f:\n",
    "    credentials = list(map(lambda x: x.strip(), f.readlines()))"
   ]
  },
  {
   "cell_type": "code",
   "execution_count": 3,
   "metadata": {
    "ExecuteTime": {
     "end_time": "2019-07-19T16:47:41.311458Z",
     "start_time": "2019-07-19T16:47:39.306968Z"
    }
   },
   "outputs": [
    {
     "name": "stdout",
     "output_type": "stream",
     "text": [
      "Ritvik19\n"
     ]
    }
   ],
   "source": [
    "reddit = praw.Reddit(client_id=credentials[0],\n",
    "                     client_secret=credentials[1],\n",
    "                     password=credentials[2],\n",
    "                     user_agent=credentials[3],\n",
    "                     username=credentials[4])\n",
    "print(reddit.user.me())"
   ]
  },
  {
   "cell_type": "code",
   "execution_count": 4,
   "metadata": {
    "ExecuteTime": {
     "end_time": "2019-07-19T16:48:02.945674Z",
     "start_time": "2019-07-19T16:47:41.315420Z"
    }
   },
   "outputs": [
    {
     "name": "stderr",
     "output_type": "stream",
     "text": [
      "987it [00:21, 45.68it/s]\n"
     ]
    }
   ],
   "source": [
    "subreddit = reddit.subreddit('todayilearned')\n",
    "redds = []\n",
    "ts = []\n",
    "\n",
    "top_subreddit = subreddit.top(limit=1000)\n",
    "for sr in tqdm(top_subreddit):\n",
    "    redds.append(sr.title)\n",
    "    ts.append(sr.created_utc)"
   ]
  },
  {
   "cell_type": "code",
   "execution_count": 5,
   "metadata": {
    "ExecuteTime": {
     "end_time": "2019-07-19T16:48:02.973598Z",
     "start_time": "2019-07-19T16:48:02.950660Z"
    }
   },
   "outputs": [],
   "source": [
    "ts = list(map(lambda x : datetime.fromtimestamp(x).strftime(\"%Y/%m/%d %H:%M:%S\"), ts))"
   ]
  },
  {
   "cell_type": "code",
   "execution_count": 6,
   "metadata": {
    "ExecuteTime": {
     "end_time": "2019-07-19T16:48:03.157849Z",
     "start_time": "2019-07-19T16:48:02.976595Z"
    }
   },
   "outputs": [],
   "source": [
    "FILEPATH = 'E:/Scrapped-Data/Reddit-Today I Learned.csv'"
   ]
  },
  {
   "cell_type": "code",
   "execution_count": 7,
   "metadata": {
    "ExecuteTime": {
     "end_time": "2019-07-19T16:48:03.307367Z",
     "start_time": "2019-07-19T16:48:03.159872Z"
    }
   },
   "outputs": [],
   "source": [
    "# First Time\n",
    "# d_all = pd.DataFrame({'Reddit':redds, 'TimeStamp':ts})\n",
    "# d_all.drop_duplicates(inplace=True)\n",
    "# d_all.sort_values('TimeStamp', ascending=False, inplace=True)\n",
    "# d_all.to_csv(FILEPATH, index=False)"
   ]
  },
  {
   "cell_type": "code",
   "execution_count": 8,
   "metadata": {
    "ExecuteTime": {
     "end_time": "2019-07-19T16:48:03.482534Z",
     "start_time": "2019-07-19T16:48:03.311357Z"
    }
   },
   "outputs": [],
   "source": [
    "d_old = pd.read_csv(FILEPATH)\n",
    "d_new = pd.DataFrame({'Reddit':redds, 'TimeStamp':ts})\n",
    "\n",
    "d_all = pd.concat([d_new, d_old], axis=0)\n",
    "d_all.drop_duplicates(inplace=True)\n",
    "d_all.sort_values('TimeStamp', ascending=False, inplace=True)\n",
    "d_all.to_csv(FILEPATH, index=False)"
   ]
  },
  {
   "cell_type": "code",
   "execution_count": 9,
   "metadata": {
    "ExecuteTime": {
     "end_time": "2019-07-19T16:48:03.566539Z",
     "start_time": "2019-07-19T16:48:03.485521Z"
    }
   },
   "outputs": [
    {
     "data": {
      "text/html": [
       "<div>\n",
       "<style scoped>\n",
       "    .dataframe tbody tr th:only-of-type {\n",
       "        vertical-align: middle;\n",
       "    }\n",
       "\n",
       "    .dataframe tbody tr th {\n",
       "        vertical-align: top;\n",
       "    }\n",
       "\n",
       "    .dataframe thead th {\n",
       "        text-align: right;\n",
       "    }\n",
       "</style>\n",
       "<table border=\"1\" class=\"dataframe\">\n",
       "  <thead>\n",
       "    <tr style=\"text-align: right;\">\n",
       "      <th></th>\n",
       "      <th>Reddit</th>\n",
       "      <th>TimeStamp</th>\n",
       "    </tr>\n",
       "  </thead>\n",
       "  <tbody>\n",
       "    <tr>\n",
       "      <th>10</th>\n",
       "      <td>TIL In 1959, police were called to a segregate...</td>\n",
       "      <td>2019/07/18 02:08:31</td>\n",
       "    </tr>\n",
       "    <tr>\n",
       "      <th>761</th>\n",
       "      <td>TIL about shrinkflation, the practice of steal...</td>\n",
       "      <td>2019/07/17 20:41:01</td>\n",
       "    </tr>\n",
       "    <tr>\n",
       "      <th>960</th>\n",
       "      <td>TIL in 1964, when Bob Dylan first met The Beat...</td>\n",
       "      <td>2019/07/15 22:20:56</td>\n",
       "    </tr>\n",
       "    <tr>\n",
       "      <th>112</th>\n",
       "      <td>TIL President Diouf began an anti-AIDS program...</td>\n",
       "      <td>2019/07/14 22:35:57</td>\n",
       "    </tr>\n",
       "    <tr>\n",
       "      <th>620</th>\n",
       "      <td>TIl The reason Roger Moore stopped being James...</td>\n",
       "      <td>2019/07/14 15:46:26</td>\n",
       "    </tr>\n",
       "  </tbody>\n",
       "</table>\n",
       "</div>"
      ],
      "text/plain": [
       "                                                Reddit            TimeStamp\n",
       "10   TIL In 1959, police were called to a segregate...  2019/07/18 02:08:31\n",
       "761  TIL about shrinkflation, the practice of steal...  2019/07/17 20:41:01\n",
       "960  TIL in 1964, when Bob Dylan first met The Beat...  2019/07/15 22:20:56\n",
       "112  TIL President Diouf began an anti-AIDS program...  2019/07/14 22:35:57\n",
       "620  TIl The reason Roger Moore stopped being James...  2019/07/14 15:46:26"
      ]
     },
     "execution_count": 9,
     "metadata": {},
     "output_type": "execute_result"
    }
   ],
   "source": [
    "d_all.head()"
   ]
  },
  {
   "cell_type": "code",
   "execution_count": 10,
   "metadata": {
    "ExecuteTime": {
     "end_time": "2019-07-19T16:48:03.762352Z",
     "start_time": "2019-07-19T16:48:03.568499Z"
    }
   },
   "outputs": [
    {
     "name": "stdout",
     "output_type": "stream",
     "text": [
      "0 New Reddits\n"
     ]
    }
   ],
   "source": [
    "print(f'{len(d_all)-len(d_old)} New Reddits')"
   ]
  },
  {
   "cell_type": "code",
   "execution_count": null,
   "metadata": {},
   "outputs": [],
   "source": []
  }
 ],
 "metadata": {
  "kernelspec": {
   "display_name": "Python 3",
   "language": "python",
   "name": "python3"
  },
  "language_info": {
   "codemirror_mode": {
    "name": "ipython",
    "version": 3
   },
   "file_extension": ".py",
   "mimetype": "text/x-python",
   "name": "python",
   "nbconvert_exporter": "python",
   "pygments_lexer": "ipython3",
   "version": "3.7.3"
  },
  "toc": {
   "base_numbering": 1,
   "nav_menu": {},
   "number_sections": true,
   "sideBar": true,
   "skip_h1_title": false,
   "title_cell": "Table of Contents",
   "title_sidebar": "Contents",
   "toc_cell": false,
   "toc_position": {},
   "toc_section_display": true,
   "toc_window_display": false
  },
  "varInspector": {
   "cols": {
    "lenName": 16,
    "lenType": 16,
    "lenVar": 40
   },
   "kernels_config": {
    "python": {
     "delete_cmd_postfix": "",
     "delete_cmd_prefix": "del ",
     "library": "var_list.py",
     "varRefreshCmd": "print(var_dic_list())"
    },
    "r": {
     "delete_cmd_postfix": ") ",
     "delete_cmd_prefix": "rm(",
     "library": "var_list.r",
     "varRefreshCmd": "cat(var_dic_list()) "
    }
   },
   "types_to_exclude": [
    "module",
    "function",
    "builtin_function_or_method",
    "instance",
    "_Feature"
   ],
   "window_display": false
  }
 },
 "nbformat": 4,
 "nbformat_minor": 2
}
