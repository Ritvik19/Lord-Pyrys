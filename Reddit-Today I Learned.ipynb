{
 "cells": [
  {
   "cell_type": "markdown",
   "metadata": {},
   "source": [
    "# Libraries"
   ]
  },
  {
   "cell_type": "code",
   "execution_count": 1,
   "metadata": {
    "ExecuteTime": {
     "end_time": "2019-08-02T14:26:59.182282Z",
     "start_time": "2019-08-02T14:26:57.831140Z"
    }
   },
   "outputs": [],
   "source": [
    "import praw\n",
    "import pandas as pd\n",
    "from tqdm import tqdm\n",
    "from datetime import datetime"
   ]
  },
  {
   "cell_type": "code",
   "execution_count": 2,
   "metadata": {
    "ExecuteTime": {
     "end_time": "2019-08-02T14:26:59.204174Z",
     "start_time": "2019-08-02T14:26:59.187221Z"
    }
   },
   "outputs": [],
   "source": [
    "pd.options.display.max_colwidth = -1"
   ]
  },
  {
   "cell_type": "markdown",
   "metadata": {},
   "source": [
    "# Scraping"
   ]
  },
  {
   "cell_type": "code",
   "execution_count": 3,
   "metadata": {
    "ExecuteTime": {
     "end_time": "2019-08-02T14:26:59.396088Z",
     "start_time": "2019-08-02T14:26:59.220130Z"
    }
   },
   "outputs": [],
   "source": [
    "with open('E:/RedditCredentials.txt') as f:\n",
    "    credentials = list(map(lambda x: x.strip(), f.readlines()))"
   ]
  },
  {
   "cell_type": "code",
   "execution_count": 4,
   "metadata": {
    "ExecuteTime": {
     "end_time": "2019-08-02T14:27:01.499578Z",
     "start_time": "2019-08-02T14:26:59.404064Z"
    }
   },
   "outputs": [
    {
     "name": "stdout",
     "output_type": "stream",
     "text": [
      "Ritvik19\n"
     ]
    }
   ],
   "source": [
    "reddit = praw.Reddit(client_id=credentials[0],\n",
    "                     client_secret=credentials[1],\n",
    "                     password=credentials[2],\n",
    "                     user_agent=credentials[3],\n",
    "                     username=credentials[4])\n",
    "print(reddit.user.me())"
   ]
  },
  {
   "cell_type": "code",
   "execution_count": 5,
   "metadata": {
    "ExecuteTime": {
     "end_time": "2019-08-02T14:27:29.344745Z",
     "start_time": "2019-08-02T14:27:01.502240Z"
    }
   },
   "outputs": [
    {
     "name": "stderr",
     "output_type": "stream",
     "text": [
      "963it [00:27, 34.62it/s]\n"
     ]
    }
   ],
   "source": [
    "subreddit = reddit.subreddit('todayilearned')\n",
    "redds = []\n",
    "ts = []\n",
    "\n",
    "top_subreddit = subreddit.new(limit=1000)\n",
    "for sr in tqdm(top_subreddit):\n",
    "    if not sr.stickied:\n",
    "        redds.append(sr.title)\n",
    "        ts.append(sr.created_utc)"
   ]
  },
  {
   "cell_type": "code",
   "execution_count": 6,
   "metadata": {
    "ExecuteTime": {
     "end_time": "2019-08-02T14:27:29.375664Z",
     "start_time": "2019-08-02T14:27:29.349733Z"
    }
   },
   "outputs": [],
   "source": [
    "ts = list(map(lambda x : datetime.fromtimestamp(x).strftime(\"%Y/%m/%d %H:%M:%S\"), ts))"
   ]
  },
  {
   "cell_type": "code",
   "execution_count": 7,
   "metadata": {
    "ExecuteTime": {
     "end_time": "2019-08-02T14:27:29.508152Z",
     "start_time": "2019-08-02T14:27:29.381656Z"
    }
   },
   "outputs": [],
   "source": [
    "FILEPATH = 'E:/Scrapped-Data/Reddit-Today I Learned.csv'"
   ]
  },
  {
   "cell_type": "code",
   "execution_count": 8,
   "metadata": {
    "ExecuteTime": {
     "end_time": "2019-08-02T14:27:29.641872Z",
     "start_time": "2019-08-02T14:27:29.519123Z"
    }
   },
   "outputs": [],
   "source": [
    "# First Time\n",
    "# d_all = pd.DataFrame({'Reddit':redds, 'TimeStamp':ts})\n",
    "# d_all.drop_duplicates(inplace=True)\n",
    "# d_all.sort_values('TimeStamp', ascending=False, inplace=True)\n",
    "# d_all.to_csv(FILEPATH, index=False)"
   ]
  },
  {
   "cell_type": "code",
   "execution_count": 9,
   "metadata": {
    "ExecuteTime": {
     "end_time": "2019-08-02T14:27:29.967469Z",
     "start_time": "2019-08-02T14:27:29.651222Z"
    }
   },
   "outputs": [
    {
     "name": "stdout",
     "output_type": "stream",
     "text": [
      "963\n"
     ]
    }
   ],
   "source": [
    "d_old = pd.read_csv(FILEPATH)\n",
    "d_new = pd.DataFrame({'Reddit':redds, 'TimeStamp':ts})\n",
    "print(len(d_new))\n",
    "d_all = pd.concat([d_new, d_old], axis=0)\n",
    "d_all.drop_duplicates(inplace=True)\n",
    "d_all.sort_values('TimeStamp', ascending=False, inplace=True)\n",
    "d_all.to_csv(FILEPATH, index=False)"
   ]
  },
  {
   "cell_type": "code",
   "execution_count": 10,
   "metadata": {
    "ExecuteTime": {
     "end_time": "2019-08-02T14:27:29.998423Z",
     "start_time": "2019-08-02T14:27:29.969468Z"
    }
   },
   "outputs": [
    {
     "data": {
      "text/html": [
       "<div>\n",
       "<style scoped>\n",
       "    .dataframe tbody tr th:only-of-type {\n",
       "        vertical-align: middle;\n",
       "    }\n",
       "\n",
       "    .dataframe tbody tr th {\n",
       "        vertical-align: top;\n",
       "    }\n",
       "\n",
       "    .dataframe thead th {\n",
       "        text-align: right;\n",
       "    }\n",
       "</style>\n",
       "<table border=\"1\" class=\"dataframe\">\n",
       "  <thead>\n",
       "    <tr style=\"text-align: right;\">\n",
       "      <th></th>\n",
       "      <th>Reddit</th>\n",
       "      <th>TimeStamp</th>\n",
       "    </tr>\n",
       "  </thead>\n",
       "  <tbody>\n",
       "    <tr>\n",
       "      <th>0</th>\n",
       "      <td>TIL of U.S. Secret Service agent Jerry Parr, who saved President Ronald Reagan's life during a 1981 assassination attempt. Parr was inspired to join the Secret Service by the 1939 movie \"Code of the Secret Service\"... which starred a young Ronald Reagan.</td>\n",
       "      <td>2019/08/02 19:51:45</td>\n",
       "    </tr>\n",
       "    <tr>\n",
       "      <th>1</th>\n",
       "      <td>TIL that starting life underwater, in tough times the Rocky Mountain Tiger Salamander can resort to cannibalism and even seal its gills and grow lungs to live on land.</td>\n",
       "      <td>2019/08/02 19:46:46</td>\n",
       "    </tr>\n",
       "    <tr>\n",
       "      <th>2</th>\n",
       "      <td>TIL Charles Manson was only 5 foot 2 inches tall</td>\n",
       "      <td>2019/08/02 19:45:31</td>\n",
       "    </tr>\n",
       "    <tr>\n",
       "      <th>3</th>\n",
       "      <td>TIL despite both being measured in pounds, there is still discrepancy as to what an Imperial \"ton\" is, with a British \"long ton\" existing which is equal to 2240 pounds and a U.S. \"short ton\" equal to 2000 pounds.</td>\n",
       "      <td>2019/08/02 19:43:04</td>\n",
       "    </tr>\n",
       "    <tr>\n",
       "      <th>4</th>\n",
       "      <td>TIL Canada, the UK, and Oceania somehow created the equivalent of maths \"dialects\", varying order of operations from PEMDAS with BEDMAS, BODMAS, and BIDMAS.</td>\n",
       "      <td>2019/08/02 19:38:31</td>\n",
       "    </tr>\n",
       "  </tbody>\n",
       "</table>\n",
       "</div>"
      ],
      "text/plain": [
       "                                                                                                                                                                                                                                                           Reddit  \\\n",
       "0  TIL of U.S. Secret Service agent Jerry Parr, who saved President Ronald Reagan's life during a 1981 assassination attempt. Parr was inspired to join the Secret Service by the 1939 movie \"Code of the Secret Service\"... which starred a young Ronald Reagan.   \n",
       "1  TIL that starting life underwater, in tough times the Rocky Mountain Tiger Salamander can resort to cannibalism and even seal its gills and grow lungs to live on land.                                                                                          \n",
       "2  TIL Charles Manson was only 5 foot 2 inches tall                                                                                                                                                                                                                 \n",
       "3  TIL despite both being measured in pounds, there is still discrepancy as to what an Imperial \"ton\" is, with a British \"long ton\" existing which is equal to 2240 pounds and a U.S. \"short ton\" equal to 2000 pounds.                                             \n",
       "4  TIL Canada, the UK, and Oceania somehow created the equivalent of maths \"dialects\", varying order of operations from PEMDAS with BEDMAS, BODMAS, and BIDMAS.                                                                                                     \n",
       "\n",
       "             TimeStamp  \n",
       "0  2019/08/02 19:51:45  \n",
       "1  2019/08/02 19:46:46  \n",
       "2  2019/08/02 19:45:31  \n",
       "3  2019/08/02 19:43:04  \n",
       "4  2019/08/02 19:38:31  "
      ]
     },
     "execution_count": 10,
     "metadata": {},
     "output_type": "execute_result"
    }
   ],
   "source": [
    "d_all.head()"
   ]
  },
  {
   "cell_type": "code",
   "execution_count": 11,
   "metadata": {
    "ExecuteTime": {
     "end_time": "2019-08-02T14:27:30.118769Z",
     "start_time": "2019-08-02T14:27:30.002412Z"
    }
   },
   "outputs": [
    {
     "name": "stdout",
     "output_type": "stream",
     "text": [
      "770 New Reddits\n"
     ]
    }
   ],
   "source": [
    "print(f'{len(d_all)-len(d_old)} New Reddits')"
   ]
  },
  {
   "cell_type": "code",
   "execution_count": 12,
   "metadata": {
    "ExecuteTime": {
     "end_time": "2019-08-02T14:27:30.235533Z",
     "start_time": "2019-08-02T14:27:30.126634Z"
    }
   },
   "outputs": [
    {
     "data": {
      "text/plain": [
       "2723"
      ]
     },
     "execution_count": 12,
     "metadata": {},
     "output_type": "execute_result"
    }
   ],
   "source": [
    "len(d_all)"
   ]
  },
  {
   "cell_type": "code",
   "execution_count": null,
   "metadata": {},
   "outputs": [],
   "source": []
  }
 ],
 "metadata": {
  "kernelspec": {
   "display_name": "Python 3",
   "language": "python",
   "name": "python3"
  },
  "language_info": {
   "codemirror_mode": {
    "name": "ipython",
    "version": 3
   },
   "file_extension": ".py",
   "mimetype": "text/x-python",
   "name": "python",
   "nbconvert_exporter": "python",
   "pygments_lexer": "ipython3",
   "version": "3.7.3"
  },
  "toc": {
   "base_numbering": 1,
   "nav_menu": {},
   "number_sections": true,
   "sideBar": true,
   "skip_h1_title": false,
   "title_cell": "Table of Contents",
   "title_sidebar": "Contents",
   "toc_cell": false,
   "toc_position": {},
   "toc_section_display": true,
   "toc_window_display": false
  },
  "varInspector": {
   "cols": {
    "lenName": 16,
    "lenType": 16,
    "lenVar": 40
   },
   "kernels_config": {
    "python": {
     "delete_cmd_postfix": "",
     "delete_cmd_prefix": "del ",
     "library": "var_list.py",
     "varRefreshCmd": "print(var_dic_list())"
    },
    "r": {
     "delete_cmd_postfix": ") ",
     "delete_cmd_prefix": "rm(",
     "library": "var_list.r",
     "varRefreshCmd": "cat(var_dic_list()) "
    }
   },
   "types_to_exclude": [
    "module",
    "function",
    "builtin_function_or_method",
    "instance",
    "_Feature"
   ],
   "window_display": false
  }
 },
 "nbformat": 4,
 "nbformat_minor": 2
}
