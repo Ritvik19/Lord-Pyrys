{
 "cells": [
  {
   "cell_type": "markdown",
   "metadata": {},
   "source": [
    "# Libraries"
   ]
  },
  {
   "cell_type": "code",
   "execution_count": 1,
   "metadata": {
    "ExecuteTime": {
     "end_time": "2019-07-12T16:16:00.286127Z",
     "start_time": "2019-07-12T16:15:58.174769Z"
    }
   },
   "outputs": [],
   "source": [
    "import requests, bs4\n",
    "import numpy as np\n",
    "import pandas as pd\n",
    "from selenium import webdriver\n",
    "from IPython.display import clear_output"
   ]
  },
  {
   "cell_type": "code",
   "execution_count": 2,
   "metadata": {
    "ExecuteTime": {
     "end_time": "2019-07-12T16:16:00.302224Z",
     "start_time": "2019-07-12T16:16:00.291113Z"
    }
   },
   "outputs": [],
   "source": [
    "import time\n",
    "import datetime\n",
    "def timestamp():\n",
    "    return datetime.datetime.fromtimestamp(time.time()).strftime('%Y-%m-%d-%H-%M')"
   ]
  },
  {
   "cell_type": "code",
   "execution_count": 3,
   "metadata": {
    "ExecuteTime": {
     "end_time": "2019-07-12T16:16:00.433730Z",
     "start_time": "2019-07-12T16:16:00.306073Z"
    }
   },
   "outputs": [],
   "source": [
    "import re"
   ]
  },
  {
   "cell_type": "markdown",
   "metadata": {},
   "source": [
    "# Scraping"
   ]
  },
  {
   "cell_type": "code",
   "execution_count": 4,
   "metadata": {
    "ExecuteTime": {
     "end_time": "2019-07-12T16:16:02.494225Z",
     "start_time": "2019-07-12T16:16:00.438716Z"
    }
   },
   "outputs": [],
   "source": [
    "url = 'https://www.reddit.com/r/todayilearned/'\n",
    "res = requests.get(url)\n",
    "website = res.text\n",
    "\n",
    "print(website)\n",
    "\n",
    "posts = list(map(lambda x :x[1], re.findall(r'<h3(.*)>(.*)</h3>', website)))"
   ]
  },
  {
   "cell_type": "markdown",
   "metadata": {},
   "source": [
    "**Run the cell above for scraping using requests module**\n",
    "\n",
    "**Run the cell below for scraping using selenium**"
   ]
  },
  {
   "cell_type": "code",
   "execution_count": null,
   "metadata": {
    "ExecuteTime": {
     "end_time": "2019-07-12T16:16:02.785443Z",
     "start_time": "2019-07-12T16:16:02.646813Z"
    }
   },
   "outputs": [],
   "source": [
    "driver = webdriver.Chrome()\n",
    "driver.get('https://www.reddit.com/r/todayilearned/')\n",
    "content = driver.page_source\n",
    "elems = driver.find_elements_by_tag_name('h3')\n",
    "posts = [x.text for x in elems]"
   ]
  },
  {
   "cell_type": "code",
   "execution_count": 7,
   "metadata": {
    "ExecuteTime": {
     "end_time": "2019-07-12T16:16:02.785443Z",
     "start_time": "2019-07-12T16:16:02.646813Z"
    }
   },
   "outputs": [
    {
     "data": {
      "text/plain": [
       "['TIL in 1985, Ryan White was refused re-entry to his school due to him having AIDS. 117 Parents and 50 teachers petitioned for his ban. People even cancelled their subscriptions as White was the paperboy and they believed they would be infected via newsprint.',\n",
       " 'TIL: That Native Americans were in contact with the Donner party several times, and actively offered them food. Only to be &quot;Scared off/denied&quot; and the Donner party to unfortunately choose cannibalism.',\n",
       " 'TIL rice does not need to grow underwater — paddies are flooded to control weeds — Today a System of Rice Intensification is practised in 20 countries that has greater yields, using 30-60% less water.',\n",
       " 'TIL in one of Charles XII&#x27;s (King of Sweden) drunken escapades he forced a bear to drink so much wine that it fell out of the palace window and died. After this incident Charles vowed to quit drinking which he adhered to, with a few small exceptions, for the rest of his life.',\n",
       " 'TIL: The red flag, when used by pirates, came to mean &quot;no quarter given&quot;, meaning that no mercy would be shown, and no life would be spared, while a black flag usually meant that those who surrendered without a fight would be allowed to live.',\n",
       " 'TIL &#x27;Organic&#x27; food in the EU does not mean &#x27;no pesticides.&#x27; It means up to 28 pesticides allowed.',\n",
       " 'TIL Cranberries aren&#x27;t grown under water, instead the fields are flooded with 18 inches of water the night before, in order to harvest the cranberries easier.',\n",
       " 'TIL when Olympic gymnast Nadia Comaneci earned the first perfect score in the Olympics, the scoreboard displayed &quot;1.00&quot; instead of a perfect &quot;10&quot;. Omega SA, the manufacturer of the scoreboard did not program the device to display a 10, since they thought it was impossible to attain.']"
      ]
     },
     "execution_count": 7,
     "metadata": {},
     "output_type": "execute_result"
    }
   ],
   "source": [
    "print(str(len(posts))+'\\n\\n'+'\\n\\n'.join(posts))"
   ]
  },
  {
   "cell_type": "code",
   "execution_count": 8,
   "metadata": {
    "ExecuteTime": {
     "end_time": "2019-07-12T16:16:02.795431Z",
     "start_time": "2019-07-12T16:16:02.790633Z"
    }
   },
   "outputs": [],
   "source": [
    "filename = 'E:/Scrapped-Data/Reddit-Today I Learned ['+timestamp()+'].json'\n",
    "pd.DataFrame(elems, columns=['Reddit']).to_json(filename)"
   ]
  },
  {
   "cell_type": "code",
   "execution_count": null,
   "metadata": {},
   "outputs": [],
   "source": []
  }
 ],
 "metadata": {
  "kernelspec": {
   "display_name": "Python 3",
   "language": "python",
   "name": "python3"
  },
  "language_info": {
   "codemirror_mode": {
    "name": "ipython",
    "version": 3
   },
   "file_extension": ".py",
   "mimetype": "text/x-python",
   "name": "python",
   "nbconvert_exporter": "python",
   "pygments_lexer": "ipython3",
   "version": "3.7.3"
  },
  "toc": {
   "base_numbering": 1,
   "nav_menu": {},
   "number_sections": true,
   "sideBar": true,
   "skip_h1_title": false,
   "title_cell": "Table of Contents",
   "title_sidebar": "Contents",
   "toc_cell": false,
   "toc_position": {},
   "toc_section_display": true,
   "toc_window_display": false
  },
  "varInspector": {
   "cols": {
    "lenName": 16,
    "lenType": 16,
    "lenVar": 40
   },
   "kernels_config": {
    "python": {
     "delete_cmd_postfix": "",
     "delete_cmd_prefix": "del ",
     "library": "var_list.py",
     "varRefreshCmd": "print(var_dic_list())"
    },
    "r": {
     "delete_cmd_postfix": ") ",
     "delete_cmd_prefix": "rm(",
     "library": "var_list.r",
     "varRefreshCmd": "cat(var_dic_list()) "
    }
   },
   "types_to_exclude": [
    "module",
    "function",
    "builtin_function_or_method",
    "instance",
    "_Feature"
   ],
   "window_display": false
  }
 },
 "nbformat": 4,
 "nbformat_minor": 2
}
