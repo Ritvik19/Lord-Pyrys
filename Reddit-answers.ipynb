{
 "cells": [
  {
   "cell_type": "markdown",
   "metadata": {},
   "source": [
    "# Libraries"
   ]
  },
  {
   "cell_type": "code",
   "execution_count": 1,
   "metadata": {
    "ExecuteTime": {
     "end_time": "2019-08-25T04:21:32.770258Z",
     "start_time": "2019-08-25T04:21:31.349066Z"
    }
   },
   "outputs": [],
   "source": [
    "import praw\n",
    "import pandas as pd\n",
    "from tqdm.auto import tqdm\n",
    "from datetime import datetime\n",
    "import os.path"
   ]
  },
  {
   "cell_type": "code",
   "execution_count": 2,
   "metadata": {
    "ExecuteTime": {
     "end_time": "2019-08-25T04:21:32.785775Z",
     "start_time": "2019-08-25T04:21:32.776247Z"
    }
   },
   "outputs": [],
   "source": [
    "pd.options.display.max_colwidth = -1"
   ]
  },
  {
   "cell_type": "markdown",
   "metadata": {},
   "source": [
    "# Scraping"
   ]
  },
  {
   "cell_type": "code",
   "execution_count": 3,
   "metadata": {
    "ExecuteTime": {
     "end_time": "2019-08-25T04:21:32.939844Z",
     "start_time": "2019-08-25T04:21:32.793979Z"
    }
   },
   "outputs": [],
   "source": [
    "with open('E:/RedditCredentials.txt') as f:\n",
    "    credentials = list(map(lambda x: x.strip(), f.readlines()))"
   ]
  },
  {
   "cell_type": "code",
   "execution_count": 4,
   "metadata": {
    "ExecuteTime": {
     "end_time": "2019-08-25T04:21:34.359911Z",
     "start_time": "2019-08-25T04:21:32.948819Z"
    }
   },
   "outputs": [
    {
     "name": "stdout",
     "output_type": "stream",
     "text": [
      "Ritvik19\n"
     ]
    }
   ],
   "source": [
    "reddit = praw.Reddit(client_id=credentials[0],\n",
    "                     client_secret=credentials[1],\n",
    "                     password=credentials[2],\n",
    "                     user_agent=credentials[3],\n",
    "                     username=credentials[4])\n",
    "print(reddit.user.me())"
   ]
  },
  {
   "cell_type": "code",
   "execution_count": 5,
   "metadata": {
    "ExecuteTime": {
     "end_time": "2019-08-25T05:46:37.344701Z",
     "start_time": "2019-08-25T04:21:34.374716Z"
    }
   },
   "outputs": [
    {
     "data": {
      "application/vnd.jupyter.widget-view+json": {
       "model_id": "12ab23626240442fb7272b181b66155d",
       "version_major": 2,
       "version_minor": 0
      },
      "text/plain": [
       "HBox(children=(IntProgress(value=1, bar_style='info', max=1), HTML(value='')))"
      ]
     },
     "metadata": {},
     "output_type": "display_data"
    },
    {
     "name": "stdout",
     "output_type": "stream",
     "text": [
      "'MoreComments' object has no attribute 'body'\n",
      "'MoreComments' object has no attribute 'body'\n",
      "\n"
     ]
    }
   ],
   "source": [
    "subreddit = reddit.subreddit('answers')\n",
    "redds = []\n",
    "ts = []\n",
    "comment1 = []\n",
    "comment2 = []\n",
    "comment3 = []\n",
    "comment4 = []\n",
    "comment5 = []\n",
    "\n",
    "top_subreddit = subreddit.hot(limit=1000)\n",
    "for sr in tqdm(top_subreddit):\n",
    "    try:\n",
    "        if not sr.stickied:\n",
    "            comments = sr.comments.list()\n",
    "            if len(comments) >= 5:\n",
    "                redds.append(sr.title)\n",
    "                ts.append(sr.created_utc)\n",
    "                try:\n",
    "                    comment1.append(comments[0].body)\n",
    "                except Exception as e:\n",
    "                    print(e)\n",
    "                    comment1.append('')\n",
    "                try:\n",
    "                    comment2.append(comments[1].body)\n",
    "                except Exception as e:\n",
    "                    print(e)\n",
    "                    comment2.append('')\n",
    "                try:\n",
    "                    comment3.append(comments[2].body)\n",
    "                except Exception as e:\n",
    "                    print(e)\n",
    "                    comment3.append('')\n",
    "                try:\n",
    "                    comment4.append(comments[3].body)\n",
    "                except Exception as e:\n",
    "                    print(e)\n",
    "                    comment4.append('')\n",
    "                try:\n",
    "                    comment5.append(comments[4].body)\n",
    "                except Exception as e:\n",
    "                    print(e)\n",
    "                    comment5.append('')\n",
    "    except Exception as e:\n",
    "        print(e)"
   ]
  },
  {
   "cell_type": "code",
   "execution_count": 6,
   "metadata": {
    "ExecuteTime": {
     "end_time": "2019-08-25T05:46:37.388649Z",
     "start_time": "2019-08-25T05:46:37.354635Z"
    }
   },
   "outputs": [],
   "source": [
    "ts = list(map(lambda x : datetime.fromtimestamp(x).strftime(\"%Y/%m/%d %H:%M:%S\"), ts))"
   ]
  },
  {
   "cell_type": "code",
   "execution_count": 7,
   "metadata": {
    "ExecuteTime": {
     "end_time": "2019-08-25T05:46:37.561440Z",
     "start_time": "2019-08-25T05:46:37.396664Z"
    }
   },
   "outputs": [],
   "source": [
    "FILEPATH = 'E:/Scrapped-Data/Reddit-answers.csv'"
   ]
  },
  {
   "cell_type": "code",
   "execution_count": 8,
   "metadata": {
    "ExecuteTime": {
     "end_time": "2019-08-25T05:46:37.978181Z",
     "start_time": "2019-08-25T05:46:37.574481Z"
    }
   },
   "outputs": [
    {
     "name": "stdout",
     "output_type": "stream",
     "text": [
      "403\n",
      "0 New Reddits\n",
      "931\n"
     ]
    }
   ],
   "source": [
    "if os.path.exists(FILEPATH):\n",
    "    d_old = pd.read_csv(FILEPATH)\n",
    "    d_new = pd.DataFrame({'Reddit':redds, 'TimeStamp':ts, 'Comment1':comment1, 'Comment2':comment2, 'Comment3':comment3, \n",
    "                          'Comment4':comment4, 'Comment5':comment5})\n",
    "    print(len(d_new))\n",
    "    d_all = pd.concat([d_new, d_old], axis=0)\n",
    "else:\n",
    "    d_all = pd.DataFrame({'Reddit':redds, 'TimeStamp':ts, 'Comment1':comment1, 'Comment2':comment2, 'Comment3':comment3, \n",
    "                      'Comment4':comment4, 'Comment5':comment5})\n",
    "d_all.drop_duplicates(subset=['Reddit'],inplace=True)\n",
    "d_all.sort_values('TimeStamp', ascending=False, inplace=True)\n",
    "d_all.to_csv(FILEPATH, index=False)\n",
    "print(f'{len(d_all)-len(d_old)} New Reddits') if os.path.exists(FILEPATH) else ()\n",
    "print(len(d_all))"
   ]
  },
  {
   "cell_type": "code",
   "execution_count": 9,
   "metadata": {
    "ExecuteTime": {
     "end_time": "2019-08-25T05:46:38.019890Z",
     "start_time": "2019-08-25T05:46:37.983706Z"
    }
   },
   "outputs": [
    {
     "data": {
      "text/html": [
       "<div>\n",
       "<style scoped>\n",
       "    .dataframe tbody tr th:only-of-type {\n",
       "        vertical-align: middle;\n",
       "    }\n",
       "\n",
       "    .dataframe tbody tr th {\n",
       "        vertical-align: top;\n",
       "    }\n",
       "\n",
       "    .dataframe thead th {\n",
       "        text-align: right;\n",
       "    }\n",
       "</style>\n",
       "<table border=\"1\" class=\"dataframe\">\n",
       "  <thead>\n",
       "    <tr style=\"text-align: right;\">\n",
       "      <th></th>\n",
       "      <th>Reddit</th>\n",
       "      <th>TimeStamp</th>\n",
       "      <th>Comment1</th>\n",
       "      <th>Comment2</th>\n",
       "      <th>Comment3</th>\n",
       "      <th>Comment4</th>\n",
       "      <th>Comment5</th>\n",
       "    </tr>\n",
       "  </thead>\n",
       "  <tbody>\n",
       "    <tr>\n",
       "      <th>5</th>\n",
       "      <td>Actions to take if unsure burglar is outside house?</td>\n",
       "      <td>2019/08/25 08:48:22</td>\n",
       "      <td>Please remember that all comments must be helpful, relevant, and respectful. All replies must be a genuine effort to answer the question helpfully; joke answers are not allowed. If you see any comments that violate this rule, please hit report.\\n\\nWhen your question is answered, we encourage you to flair your post. To do this automatically simply make a comment that says **!answered** (OP only)\\n\\n*I am a bot, and this action was performed automatically. Please [contact the moderators of this subreddit](/message/compose/?to=/r/answers) if you have any questions or concerns.*</td>\n",
       "      <td>Either call the police or don't worry about it. Those are your only options.</td>\n",
       "      <td>If it's motion-activated, they sometimes get turned on by flying insects or passing animals like cats and dogs. If you've been watching for a while and nothing has been out of the ordinary, then you're almost certainly safe.</td>\n",
       "      <td>Thanks. Should I turn on lights demonstrating I'm awake or keep on the down low in the mean time?</td>\n",
       "      <td>Can small flyings insects trigger them? Well I've been looking out the front for over 30 minutes but not the back. Unless the triggering of the light caused them to hide out until we calm down. Should I turn lights on demonstrating I'm awake or keep on the down low for the moment?</td>\n",
       "    </tr>\n",
       "    <tr>\n",
       "      <th>7</th>\n",
       "      <td>How to get lots of peices of glass out of my skin</td>\n",
       "      <td>2019/08/25 04:07:37</td>\n",
       "      <td>Please remember that all comments must be helpful, relevant, and respectful. All replies must be a genuine effort to answer the question helpfully; joke answers are not allowed. If you see any comments that violate this rule, please hit report.\\n\\nWhen your question is answered, we encourage you to flair your post. To do this automatically simply make a comment that says **!answered** (OP only)\\n\\n*I am a bot, and this action was performed automatically. Please [contact the moderators of this subreddit](/message/compose/?to=/r/answers) if you have any questions or concerns.*</td>\n",
       "      <td>You should not try to shower them off or wipe them off or scrub them off, that will just cause more abrasion. You need to pick them out individually. So long as none are deep or causing significant bleeding, you don't need a doctor to do it, but if possible have someone with a steady hand help you.</td>\n",
       "      <td>Tweezers and a shot for every piece you pull out and you’ll be just fine.</td>\n",
       "      <td>If you try to shower them off, not only will it not work for anything that's more than just hanging on your skin, you'll clog your drain with broken glass.\\n\\nPick things out with tweezers and sanitize with alcohol. Collect the glass shards in a dish or tray and keep them until you know insurance is going to pay up, then throw them away safely (recycle them if possible). Wrap yourself in bandages after you're done. Go get some ice cream after that.</td>\n",
       "      <td>Right answer. Tweezers and a steady hand.</td>\n",
       "    </tr>\n",
       "    <tr>\n",
       "      <th>3</th>\n",
       "      <td>Is midnight part of the night or the next day?</td>\n",
       "      <td>2019/08/25 03:06:07</td>\n",
       "      <td>Please remember that all comments must be helpful, relevant, and respectful. All replies must be a genuine effort to answer the question helpfully; joke answers are not allowed. If you see any comments that violate this rule, please hit report.\\n\\nWhen your question is answered, we encourage you to flair your post. To do this automatically simply make a comment that says **!answered** (OP only)\\n\\n*I am a bot, and this action was performed automatically. Please [contact the moderators of this subreddit](/message/compose/?to=/r/answers) if you have any questions or concerns.*</td>\n",
       "      <td>Morning</td>\n",
       "      <td>the time after midnight and before the first light of sun in an area is technically both \"night\" and \"morning\".\\n\\n\"2 in the morning\" at a place where it is still pitch black outside at that time is also at \"nighttime\"</td>\n",
       "      <td>It's neither.  Look at legal contracts.  If they want to specify the end of the day, they say 11:59 PM.  If they want to specify the start of the day, they say 12:01 AM.  Midnight is the moment between the two days.</td>\n",
       "      <td>Mid.. dle. night. U tell me</td>\n",
       "    </tr>\n",
       "    <tr>\n",
       "      <th>1</th>\n",
       "      <td>Is my brother's brother-in-law also my brother-in-law?</td>\n",
       "      <td>2019/08/25 02:12:34</td>\n",
       "      <td>Please remember that all comments must be helpful, relevant, and respectful. All replies must be a genuine effort to answer the question helpfully; joke answers are not allowed. If you see any comments that violate this rule, please hit report.\\n\\nWhen your question is answered, we encourage you to flair your post. To do this automatically simply make a comment that says **!answered** (OP only)\\n\\n*I am a bot, and this action was performed automatically. Please [contact the moderators of this subreddit](/message/compose/?to=/r/answers) if you have any questions or concerns.*</td>\n",
       "      <td>Not technically. Ben is just teddys sisters brother in law.</td>\n",
       "      <td>They are [co-brothers-in-law](https://en.wiktionary.org/wiki/co-in-law).</td>\n",
       "      <td>Hey :)\\n\\nI'd say: No, he is not your brother-in-law.\\n\\nWell, at least not your immediate brother-in-law. He kinda is you 'second brother-in-law' similar to a second cousin.\\nI don't know, if there is an English term for that. In Germany we use the lovely word 'Schwippschwager' [\"shwipp-shwuhger\"] :D\\nHope that helped!</td>\n",
       "      <td>No</td>\n",
       "    </tr>\n",
       "    <tr>\n",
       "      <th>0</th>\n",
       "      <td>Facebook wants my identity.</td>\n",
       "      <td>2019/08/25 01:27:50</td>\n",
       "      <td>Please remember that all comments must be helpful, relevant, and respectful. All replies must be a genuine effort to answer the question helpfully; joke answers are not allowed. If you see any comments that violate this rule, please hit report.\\n\\nWhen your question is answered, we encourage you to flair your post. To do this automatically simply make a comment that says **!answered** (OP only)\\n\\n*I am a bot, and this action was performed automatically. Please [contact the moderators of this subreddit](/message/compose/?to=/r/answers) if you have any questions or concerns.*</td>\n",
       "      <td>Someone flagged your account as fake.</td>\n",
       "      <td>They did this to me, sent in a canned copy of my ID, then they determined that I was ineligible to have an account.  That was a month ago and in retrospect I couldn't be happier to be gone.</td>\n",
       "      <td>Oh I don’t know.. why would Facebook of all companies want someone’s ID? \\n\\nYeah just burn the account and start over</td>\n",
       "      <td>My FB account got hacked a couple of years ago and after I reset the password I deleted the app on all devices. I have been so relieved not to have to deal with all the bull that floats across its pages.\\n\\nI never realised how much time it wasted. Stick Fb where the sun doesn't shine.</td>\n",
       "    </tr>\n",
       "  </tbody>\n",
       "</table>\n",
       "</div>"
      ],
      "text/plain": [
       "                                                   Reddit  \\\n",
       "5  Actions to take if unsure burglar is outside house?      \n",
       "7  How to get lots of peices of glass out of my skin        \n",
       "3  Is midnight part of the night or the next day?           \n",
       "1  Is my brother's brother-in-law also my brother-in-law?   \n",
       "0  Facebook wants my identity.                              \n",
       "\n",
       "             TimeStamp  \\\n",
       "5  2019/08/25 08:48:22   \n",
       "7  2019/08/25 04:07:37   \n",
       "3  2019/08/25 03:06:07   \n",
       "1  2019/08/25 02:12:34   \n",
       "0  2019/08/25 01:27:50   \n",
       "\n",
       "                                                                                                                                                                                                                                                                                                                                                                                                                                                                                                                                                                                                Comment1  \\\n",
       "5  Please remember that all comments must be helpful, relevant, and respectful. All replies must be a genuine effort to answer the question helpfully; joke answers are not allowed. If you see any comments that violate this rule, please hit report.\\n\\nWhen your question is answered, we encourage you to flair your post. To do this automatically simply make a comment that says **!answered** (OP only)\\n\\n*I am a bot, and this action was performed automatically. Please [contact the moderators of this subreddit](/message/compose/?to=/r/answers) if you have any questions or concerns.*   \n",
       "7  Please remember that all comments must be helpful, relevant, and respectful. All replies must be a genuine effort to answer the question helpfully; joke answers are not allowed. If you see any comments that violate this rule, please hit report.\\n\\nWhen your question is answered, we encourage you to flair your post. To do this automatically simply make a comment that says **!answered** (OP only)\\n\\n*I am a bot, and this action was performed automatically. Please [contact the moderators of this subreddit](/message/compose/?to=/r/answers) if you have any questions or concerns.*   \n",
       "3  Please remember that all comments must be helpful, relevant, and respectful. All replies must be a genuine effort to answer the question helpfully; joke answers are not allowed. If you see any comments that violate this rule, please hit report.\\n\\nWhen your question is answered, we encourage you to flair your post. To do this automatically simply make a comment that says **!answered** (OP only)\\n\\n*I am a bot, and this action was performed automatically. Please [contact the moderators of this subreddit](/message/compose/?to=/r/answers) if you have any questions or concerns.*   \n",
       "1  Please remember that all comments must be helpful, relevant, and respectful. All replies must be a genuine effort to answer the question helpfully; joke answers are not allowed. If you see any comments that violate this rule, please hit report.\\n\\nWhen your question is answered, we encourage you to flair your post. To do this automatically simply make a comment that says **!answered** (OP only)\\n\\n*I am a bot, and this action was performed automatically. Please [contact the moderators of this subreddit](/message/compose/?to=/r/answers) if you have any questions or concerns.*   \n",
       "0  Please remember that all comments must be helpful, relevant, and respectful. All replies must be a genuine effort to answer the question helpfully; joke answers are not allowed. If you see any comments that violate this rule, please hit report.\\n\\nWhen your question is answered, we encourage you to flair your post. To do this automatically simply make a comment that says **!answered** (OP only)\\n\\n*I am a bot, and this action was performed automatically. Please [contact the moderators of this subreddit](/message/compose/?to=/r/answers) if you have any questions or concerns.*   \n",
       "\n",
       "                                                                                                                                                                                                                                                                                                      Comment2  \\\n",
       "5  Either call the police or don't worry about it. Those are your only options.                                                                                                                                                                                                                                  \n",
       "7  You should not try to shower them off or wipe them off or scrub them off, that will just cause more abrasion. You need to pick them out individually. So long as none are deep or causing significant bleeding, you don't need a doctor to do it, but if possible have someone with a steady hand help you.   \n",
       "3  Morning                                                                                                                                                                                                                                                                                                       \n",
       "1  Not technically. Ben is just teddys sisters brother in law.                                                                                                                                                                                                                                                   \n",
       "0  Someone flagged your account as fake.                                                                                                                                                                                                                                                                         \n",
       "\n",
       "                                                                                                                                                                                                                           Comment3  \\\n",
       "5  If it's motion-activated, they sometimes get turned on by flying insects or passing animals like cats and dogs. If you've been watching for a while and nothing has been out of the ordinary, then you're almost certainly safe.   \n",
       "7  Tweezers and a shot for every piece you pull out and you’ll be just fine.                                                                                                                                                          \n",
       "3  the time after midnight and before the first light of sun in an area is technically both \"night\" and \"morning\".\\n\\n\"2 in the morning\" at a place where it is still pitch black outside at that time is also at \"nighttime\"         \n",
       "1  They are [co-brothers-in-law](https://en.wiktionary.org/wiki/co-in-law).                                                                                                                                                           \n",
       "0  They did this to me, sent in a canned copy of my ID, then they determined that I was ineligible to have an account.  That was a month ago and in retrospect I couldn't be happier to be gone.                                      \n",
       "\n",
       "                                                                                                                                                                                                                                                                                                                                                                                                                                                               Comment4  \\\n",
       "5  Thanks. Should I turn on lights demonstrating I'm awake or keep on the down low in the mean time?                                                                                                                                                                                                                                                                                                                                                                      \n",
       "7  If you try to shower them off, not only will it not work for anything that's more than just hanging on your skin, you'll clog your drain with broken glass.\\n\\nPick things out with tweezers and sanitize with alcohol. Collect the glass shards in a dish or tray and keep them until you know insurance is going to pay up, then throw them away safely (recycle them if possible). Wrap yourself in bandages after you're done. Go get some ice cream after that.   \n",
       "3  It's neither.  Look at legal contracts.  If they want to specify the end of the day, they say 11:59 PM.  If they want to specify the start of the day, they say 12:01 AM.  Midnight is the moment between the two days.                                                                                                                                                                                                                                                \n",
       "1  Hey :)\\n\\nI'd say: No, he is not your brother-in-law.\\n\\nWell, at least not your immediate brother-in-law. He kinda is you 'second brother-in-law' similar to a second cousin.\\nI don't know, if there is an English term for that. In Germany we use the lovely word 'Schwippschwager' [\"shwipp-shwuhger\"] :D\\nHope that helped!                                                                                                                                      \n",
       "0  Oh I don’t know.. why would Facebook of all companies want someone’s ID? \\n\\nYeah just burn the account and start over                                                                                                                                                                                                                                                                                                                                                 \n",
       "\n",
       "                                                                                                                                                                                                                                                                                         Comment5  \n",
       "5  Can small flyings insects trigger them? Well I've been looking out the front for over 30 minutes but not the back. Unless the triggering of the light caused them to hide out until we calm down. Should I turn lights on demonstrating I'm awake or keep on the down low for the moment?       \n",
       "7  Right answer. Tweezers and a steady hand.                                                                                                                                                                                                                                                       \n",
       "3  Mid.. dle. night. U tell me                                                                                                                                                                                                                                                                     \n",
       "1  No                                                                                                                                                                                                                                                                                              \n",
       "0  My FB account got hacked a couple of years ago and after I reset the password I deleted the app on all devices. I have been so relieved not to have to deal with all the bull that floats across its pages.\\n\\nI never realised how much time it wasted. Stick Fb where the sun doesn't shine.  "
      ]
     },
     "execution_count": 9,
     "metadata": {},
     "output_type": "execute_result"
    }
   ],
   "source": [
    "d_all.head()"
   ]
  }
 ],
 "metadata": {
  "kernelspec": {
   "display_name": "Python 3",
   "language": "python",
   "name": "python3"
  },
  "language_info": {
   "codemirror_mode": {
    "name": "ipython",
    "version": 3
   },
   "file_extension": ".py",
   "mimetype": "text/x-python",
   "name": "python",
   "nbconvert_exporter": "python",
   "pygments_lexer": "ipython3",
   "version": "3.7.3"
  },
  "toc": {
   "base_numbering": 1,
   "nav_menu": {},
   "number_sections": true,
   "sideBar": true,
   "skip_h1_title": false,
   "title_cell": "Table of Contents",
   "title_sidebar": "Contents",
   "toc_cell": false,
   "toc_position": {},
   "toc_section_display": true,
   "toc_window_display": false
  },
  "varInspector": {
   "cols": {
    "lenName": 16,
    "lenType": 16,
    "lenVar": 40
   },
   "kernels_config": {
    "python": {
     "delete_cmd_postfix": "",
     "delete_cmd_prefix": "del ",
     "library": "var_list.py",
     "varRefreshCmd": "print(var_dic_list())"
    },
    "r": {
     "delete_cmd_postfix": ") ",
     "delete_cmd_prefix": "rm(",
     "library": "var_list.r",
     "varRefreshCmd": "cat(var_dic_list()) "
    }
   },
   "types_to_exclude": [
    "module",
    "function",
    "builtin_function_or_method",
    "instance",
    "_Feature"
   ],
   "window_display": false
  }
 },
 "nbformat": 4,
 "nbformat_minor": 2
}
