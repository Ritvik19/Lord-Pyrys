{
 "cells": [
  {
   "cell_type": "markdown",
   "metadata": {},
   "source": [
    "# Libraries"
   ]
  },
  {
   "cell_type": "code",
   "execution_count": 1,
   "metadata": {
    "ExecuteTime": {
     "end_time": "2019-05-12T03:33:52.656251Z",
     "start_time": "2019-05-12T03:33:51.683373Z"
    }
   },
   "outputs": [],
   "source": [
    "import requests, bs4\n",
    "import numpy as np\n",
    "import pandas as pd\n",
    "from IPython.display import clear_output\n",
    "\n",
    "pd.options.display.max_columns = 5\n",
    "pd.options.display.max_colwidth = -1"
   ]
  },
  {
   "cell_type": "markdown",
   "metadata": {},
   "source": [
    "# Scraping"
   ]
  },
  {
   "cell_type": "code",
   "execution_count": 2,
   "metadata": {
    "ExecuteTime": {
     "end_time": "2019-05-12T03:33:53.986197Z",
     "start_time": "2019-05-12T03:33:52.659245Z"
    }
   },
   "outputs": [],
   "source": [
    "URL = 'https://www.thecrazyprogrammer.com/2015/01/useful-jquery-code-snippets.html'\n",
    "res = requests.get(URL)\n",
    "if res.status_code == requests.codes.ok:\n",
    "    ressoup = bs4.BeautifulSoup(res.text, 'lxml')\n",
    "    elems_h4 = ressoup.select('h4')[:9]\n",
    "    elems_pre = ressoup.select('.crayon-pre')\n",
    "    h4 = []\n",
    "    pre = []\n",
    "    for e1,e2 in zip(elems_h4, elems_pre):\n",
    "        h4.append(e1.getText().strip())\n",
    "        pre.append(e2.getText())\n",
    "else:\n",
    "    print('Something went wrong')\n",
    "pd.DataFrame({\n",
    "    'Title': h4,\n",
    "    'Code': pre\n",
    "}).to_csv('E:/Scrapped-Data/jQuery.csv', index=False)"
   ]
  },
  {
   "cell_type": "code",
   "execution_count": null,
   "metadata": {},
   "outputs": [],
   "source": []
  }
 ],
 "metadata": {
  "kernelspec": {
   "display_name": "Python 3",
   "language": "python",
   "name": "python3"
  },
  "language_info": {
   "codemirror_mode": {
    "name": "ipython",
    "version": 3
   },
   "file_extension": ".py",
   "mimetype": "text/x-python",
   "name": "python",
   "nbconvert_exporter": "python",
   "pygments_lexer": "ipython3",
   "version": "3.7.3"
  },
  "toc": {
   "base_numbering": 1,
   "nav_menu": {},
   "number_sections": true,
   "sideBar": true,
   "skip_h1_title": false,
   "title_cell": "Table of Contents",
   "title_sidebar": "Contents",
   "toc_cell": false,
   "toc_position": {},
   "toc_section_display": true,
   "toc_window_display": false
  },
  "varInspector": {
   "cols": {
    "lenName": 16,
    "lenType": 16,
    "lenVar": 40
   },
   "kernels_config": {
    "python": {
     "delete_cmd_postfix": "",
     "delete_cmd_prefix": "del ",
     "library": "var_list.py",
     "varRefreshCmd": "print(var_dic_list())"
    },
    "r": {
     "delete_cmd_postfix": ") ",
     "delete_cmd_prefix": "rm(",
     "library": "var_list.r",
     "varRefreshCmd": "cat(var_dic_list()) "
    }
   },
   "types_to_exclude": [
    "module",
    "function",
    "builtin_function_or_method",
    "instance",
    "_Feature"
   ],
   "window_display": false
  }
 },
 "nbformat": 4,
 "nbformat_minor": 2
}
