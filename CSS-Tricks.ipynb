{
 "cells": [
  {
   "cell_type": "markdown",
   "metadata": {},
   "source": [
    "# Library"
   ]
  },
  {
   "cell_type": "code",
   "execution_count": 1,
   "metadata": {
    "ExecuteTime": {
     "end_time": "2019-05-29T18:17:33.441144Z",
     "start_time": "2019-05-29T18:17:32.115052Z"
    }
   },
   "outputs": [],
   "source": [
    "import requests, bs4\n",
    "import numpy as np\n",
    "import pandas as pd\n",
    "from IPython.display import clear_output\n",
    "\n",
    "pd.options.display.max_columns = 5\n",
    "pd.options.display.max_colwidth = -1"
   ]
  },
  {
   "cell_type": "markdown",
   "metadata": {},
   "source": [
    "# URLs to Scrape"
   ]
  },
  {
   "cell_type": "code",
   "execution_count": 2,
   "metadata": {
    "ExecuteTime": {
     "end_time": "2019-05-29T18:17:33.455107Z",
     "start_time": "2019-05-29T18:17:33.444688Z"
    }
   },
   "outputs": [],
   "source": [
    "url_sources = [\n",
    "    'https://css-tricks.com/snippets/html/',\n",
    "    'https://css-tricks.com/snippets/css/',\n",
    "    'https://css-tricks.com/snippets/sass/',\n",
    "    'https://css-tricks.com/snippets/svg/',\n",
    "    'https://css-tricks.com/snippets/htaccess/',\n",
    "    'https://css-tricks.com/snippets/javascript/',\n",
    "    'https://css-tricks.com/snippets/jquery/',\n",
    "    'https://css-tricks.com/snippets/wordpress/',\n",
    "    'https://css-tricks.com/snippets/php/'\n",
    "]"
   ]
  },
  {
   "cell_type": "code",
   "execution_count": 3,
   "metadata": {
    "ExecuteTime": {
     "end_time": "2019-05-29T18:17:45.488638Z",
     "start_time": "2019-05-29T18:17:33.458380Z"
    }
   },
   "outputs": [],
   "source": [
    "urls = []\n",
    "for url in url_sources:\n",
    "    res = requests.get(url)\n",
    "    if res.status_code == requests.codes.ok:\n",
    "        ressoup = bs4.BeautifulSoup(res.text, 'lxml')\n",
    "        elems = ressoup.select('.snippet-title')\n",
    "        for e in elems:\n",
    "            urls.append(e.get('href').strip())\n",
    "    else:\n",
    "        print('Something went wrong')"
   ]
  },
  {
   "cell_type": "code",
   "execution_count": 4,
   "metadata": {
    "ExecuteTime": {
     "end_time": "2019-05-29T18:17:45.510669Z",
     "start_time": "2019-05-29T18:17:45.491679Z"
    }
   },
   "outputs": [
    {
     "name": "stdout",
     "output_type": "stream",
     "text": [
      "5715 635\n"
     ]
    }
   ],
   "source": [
    "print(len(urls), len(set(urls)))"
   ]
  },
  {
   "cell_type": "code",
   "execution_count": 5,
   "metadata": {
    "ExecuteTime": {
     "end_time": "2019-05-29T18:17:45.638002Z",
     "start_time": "2019-05-29T18:17:45.513663Z"
    }
   },
   "outputs": [],
   "source": [
    "urls = list(set(urls))"
   ]
  },
  {
   "cell_type": "markdown",
   "metadata": {},
   "source": [
    "# Scraping"
   ]
  },
  {
   "cell_type": "code",
   "execution_count": 6,
   "metadata": {
    "ExecuteTime": {
     "end_time": "2019-05-29T18:17:45.768954Z",
     "start_time": "2019-05-29T18:17:45.641352Z"
    }
   },
   "outputs": [],
   "source": [
    "CSSTricks = pd.DataFrame(columns=['Title', 'Language', 'Code'])"
   ]
  },
  {
   "cell_type": "code",
   "execution_count": 7,
   "metadata": {
    "ExecuteTime": {
     "end_time": "2019-05-29T18:17:45.873762Z",
     "start_time": "2019-05-29T18:17:45.773282Z"
    }
   },
   "outputs": [],
   "source": [
    "urls_e = []"
   ]
  },
  {
   "cell_type": "code",
   "execution_count": 8,
   "metadata": {
    "ExecuteTime": {
     "end_time": "2019-05-29T18:35:31.494895Z",
     "start_time": "2019-05-29T18:17:45.879404Z"
    }
   },
   "outputs": [
    {
     "name": "stdout",
     "output_type": "stream",
     "text": [
      "635 /635\n",
      "outerHTML jQuery Plugin\n",
      "jQuery Code Snippets\n",
      "$.fn.outerHTML = function(){\n",
      " \n",
      "    // IE, Chrome & Safari will comply with the non-standard outerHTML, all others (FF) will have a fall-back for cloning\n",
      "    return (!this.length) ? this : (this[0].outerHTML || (\n",
      "      function(el){\n",
      "          var div = document.createElement('div');\n",
      "          div.appendChild(el.cloneNode(true));\n",
      "          var contents = div.innerHTML;\n",
      "          div = null;\n",
      "          return contents;\n",
      "    })(this[0]));\n",
      " \n",
      "}\n",
      "\n",
      "\n"
     ]
    }
   ],
   "source": [
    "for i, u in enumerate(urls):\n",
    "    print(i+1, '/635')\n",
    "    res = requests.get(u)\n",
    "    if res.status_code == requests.codes.ok:\n",
    "        ressoup = bs4.BeautifulSoup(res.text, 'lxml')\n",
    "        try:\n",
    "            elems = ressoup.select('.article-and-sidebar pre')\n",
    "            title = ressoup.select('.breadcrumb_last')[0].getText()\n",
    "            language = ressoup.select('.header-breadcrumbs-inside a')[2].getText()\n",
    "            print(title)\n",
    "            print(language)\n",
    "            code = ''\n",
    "            for e in elems:\n",
    "                code += e.getText() + '\\n\\n'\n",
    "            print(code)\n",
    "            CSSTricks = pd.concat([CSSTricks, pd.DataFrame({\n",
    "                'Title': [title],\n",
    "                'Language': [language],\n",
    "                'Code': [code]\n",
    "            })], axis=0)\n",
    "        except IndexError:\n",
    "            urls_e.append(u)\n",
    "            print('Exception Occured', u)\n",
    "        clear_output(wait=True)\n",
    "    else:\n",
    "        print('Something went wrong')"
   ]
  },
  {
   "cell_type": "code",
   "execution_count": 9,
   "metadata": {
    "ExecuteTime": {
     "end_time": "2019-05-29T18:35:31.505898Z",
     "start_time": "2019-05-29T18:35:31.499138Z"
    }
   },
   "outputs": [
    {
     "name": "stdout",
     "output_type": "stream",
     "text": [
      "['https://css-tricks.com/snippets/css/media-queries-for-standard-devices/', 'https://css-tricks.com/snippets/css/complete-guide-grid/', 'https://css-tricks.com/snippets/css/a-guide-to-flexbox/']\n"
     ]
    }
   ],
   "source": [
    "print(urls_e)"
   ]
  },
  {
   "cell_type": "code",
   "execution_count": 10,
   "metadata": {
    "ExecuteTime": {
     "end_time": "2019-05-29T18:35:31.664309Z",
     "start_time": "2019-05-29T18:35:31.509040Z"
    }
   },
   "outputs": [
    {
     "name": "stdout",
     "output_type": "stream",
     "text": [
      "632\n"
     ]
    }
   ],
   "source": [
    "print(len(CSSTricks))"
   ]
  },
  {
   "cell_type": "code",
   "execution_count": 11,
   "metadata": {
    "ExecuteTime": {
     "end_time": "2019-05-29T18:36:11.725602Z",
     "start_time": "2019-05-29T18:36:11.703217Z"
    }
   },
   "outputs": [
    {
     "data": {
      "text/plain": [
       "array(['PHP', 'CSS', 'WordPress', 'jQuery Code Snippets', 'HTML',\n",
       "       'JavaScript', 'Sass', 'SVG', 'HTAccess', 'Selectors'], dtype=object)"
      ]
     },
     "execution_count": 11,
     "metadata": {},
     "output_type": "execute_result"
    }
   ],
   "source": [
    "CSSTricks['Language'].unique()"
   ]
  },
  {
   "cell_type": "code",
   "execution_count": 12,
   "metadata": {
    "ExecuteTime": {
     "end_time": "2019-05-29T18:36:23.790826Z",
     "start_time": "2019-05-29T18:36:22.346290Z"
    }
   },
   "outputs": [],
   "source": [
    "CSSTricks.to_csv('E:/Scrapped-Data/CSSTricks.csv', index=False)"
   ]
  },
  {
   "cell_type": "code",
   "execution_count": null,
   "metadata": {},
   "outputs": [],
   "source": []
  }
 ],
 "metadata": {
  "kernelspec": {
   "display_name": "Python 3",
   "language": "python",
   "name": "python3"
  },
  "language_info": {
   "codemirror_mode": {
    "name": "ipython",
    "version": 3
   },
   "file_extension": ".py",
   "mimetype": "text/x-python",
   "name": "python",
   "nbconvert_exporter": "python",
   "pygments_lexer": "ipython3",
   "version": "3.7.3"
  },
  "toc": {
   "base_numbering": 1,
   "nav_menu": {},
   "number_sections": true,
   "sideBar": true,
   "skip_h1_title": false,
   "title_cell": "Table of Contents",
   "title_sidebar": "Contents",
   "toc_cell": false,
   "toc_position": {},
   "toc_section_display": true,
   "toc_window_display": false
  },
  "varInspector": {
   "cols": {
    "lenName": 16,
    "lenType": 16,
    "lenVar": 40
   },
   "kernels_config": {
    "python": {
     "delete_cmd_postfix": "",
     "delete_cmd_prefix": "del ",
     "library": "var_list.py",
     "varRefreshCmd": "print(var_dic_list())"
    },
    "r": {
     "delete_cmd_postfix": ") ",
     "delete_cmd_prefix": "rm(",
     "library": "var_list.r",
     "varRefreshCmd": "cat(var_dic_list()) "
    }
   },
   "types_to_exclude": [
    "module",
    "function",
    "builtin_function_or_method",
    "instance",
    "_Feature"
   ],
   "window_display": false
  }
 },
 "nbformat": 4,
 "nbformat_minor": 2
}
