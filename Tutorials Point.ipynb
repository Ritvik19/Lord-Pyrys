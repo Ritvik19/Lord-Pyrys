{
 "cells": [
  {
   "cell_type": "markdown",
   "metadata": {},
   "source": [
    "# Libraries"
   ]
  },
  {
   "cell_type": "code",
   "execution_count": 1,
   "metadata": {
    "ExecuteTime": {
     "end_time": "2019-05-10T15:48:26.284014Z",
     "start_time": "2019-05-10T15:48:25.984814Z"
    }
   },
   "outputs": [],
   "source": [
    "import requests, bs4"
   ]
  },
  {
   "cell_type": "code",
   "execution_count": 2,
   "metadata": {
    "ExecuteTime": {
     "end_time": "2019-05-10T15:48:29.630981Z",
     "start_time": "2019-05-10T15:48:26.287006Z"
    }
   },
   "outputs": [],
   "source": [
    "import numpy as np\n",
    "import pandas as pd"
   ]
  },
  {
   "cell_type": "code",
   "execution_count": 3,
   "metadata": {
    "ExecuteTime": {
     "end_time": "2019-05-10T15:48:29.637963Z",
     "start_time": "2019-05-10T15:48:29.633973Z"
    }
   },
   "outputs": [],
   "source": [
    "from IPython.display import clear_output"
   ]
  },
  {
   "cell_type": "code",
   "execution_count": 4,
   "metadata": {
    "ExecuteTime": {
     "end_time": "2019-05-10T15:48:29.764627Z",
     "start_time": "2019-05-10T15:48:29.641952Z"
    }
   },
   "outputs": [],
   "source": [
    "pd.options.display.max_columns = 5\n",
    "pd.options.display.max_colwidth = -1"
   ]
  },
  {
   "cell_type": "markdown",
   "metadata": {
    "ExecuteTime": {
     "end_time": "2019-05-10T13:13:50.041370Z",
     "start_time": "2019-05-10T13:13:50.018434Z"
    }
   },
   "source": [
    "# Scraping"
   ]
  },
  {
   "cell_type": "code",
   "execution_count": 5,
   "metadata": {
    "ExecuteTime": {
     "end_time": "2019-05-10T15:48:29.896304Z",
     "start_time": "2019-05-10T15:48:29.775594Z"
    }
   },
   "outputs": [],
   "source": [
    "tutorialspoint = pd.DataFrame(columns=['Title', 'Language', 'Code'])"
   ]
  },
  {
   "cell_type": "markdown",
   "metadata": {},
   "source": [
    "## Take 1"
   ]
  },
  {
   "cell_type": "code",
   "execution_count": 7,
   "metadata": {
    "ExecuteTime": {
     "end_time": "2019-05-10T16:06:11.347989Z",
     "start_time": "2019-05-10T15:51:10.827092Z"
    }
   },
   "outputs": [
    {
     "name": "stdout",
     "output_type": "stream",
     "text": [
      "565 /8401\n"
     ]
    },
    {
     "ename": "SSLError",
     "evalue": "HTTPSConnectionPool(host='www.tutorialspoint.com', port=443): Max retries exceeded with url: /programming_examples/565 (Caused by SSLError(SSLError(\"bad handshake: SysCallError(10054, 'WSAECONNRESET')\")))",
     "output_type": "error",
     "traceback": [
      "\u001b[1;31m---------------------------------------------------------------------------\u001b[0m",
      "\u001b[1;31mSysCallError\u001b[0m                              Traceback (most recent call last)",
      "\u001b[1;32mD:\\Users\\Ritvik\\Anaconda3\\envs\\datascience\\lib\\site-packages\\urllib3\\contrib\\pyopenssl.py\u001b[0m in \u001b[0;36mwrap_socket\u001b[1;34m(self, sock, server_side, do_handshake_on_connect, suppress_ragged_eofs, server_hostname)\u001b[0m\n\u001b[0;32m    452\u001b[0m             \u001b[1;32mtry\u001b[0m\u001b[1;33m:\u001b[0m\u001b[1;33m\u001b[0m\u001b[1;33m\u001b[0m\u001b[0m\n\u001b[1;32m--> 453\u001b[1;33m                 \u001b[0mcnx\u001b[0m\u001b[1;33m.\u001b[0m\u001b[0mdo_handshake\u001b[0m\u001b[1;33m(\u001b[0m\u001b[1;33m)\u001b[0m\u001b[1;33m\u001b[0m\u001b[1;33m\u001b[0m\u001b[0m\n\u001b[0m\u001b[0;32m    454\u001b[0m             \u001b[1;32mexcept\u001b[0m \u001b[0mOpenSSL\u001b[0m\u001b[1;33m.\u001b[0m\u001b[0mSSL\u001b[0m\u001b[1;33m.\u001b[0m\u001b[0mWantReadError\u001b[0m\u001b[1;33m:\u001b[0m\u001b[1;33m\u001b[0m\u001b[1;33m\u001b[0m\u001b[0m\n",
      "\u001b[1;32mD:\\Users\\Ritvik\\Anaconda3\\envs\\datascience\\lib\\site-packages\\OpenSSL\\SSL.py\u001b[0m in \u001b[0;36mdo_handshake\u001b[1;34m(self)\u001b[0m\n\u001b[0;32m   1914\u001b[0m         \u001b[0mresult\u001b[0m \u001b[1;33m=\u001b[0m \u001b[0m_lib\u001b[0m\u001b[1;33m.\u001b[0m\u001b[0mSSL_do_handshake\u001b[0m\u001b[1;33m(\u001b[0m\u001b[0mself\u001b[0m\u001b[1;33m.\u001b[0m\u001b[0m_ssl\u001b[0m\u001b[1;33m)\u001b[0m\u001b[1;33m\u001b[0m\u001b[1;33m\u001b[0m\u001b[0m\n\u001b[1;32m-> 1915\u001b[1;33m         \u001b[0mself\u001b[0m\u001b[1;33m.\u001b[0m\u001b[0m_raise_ssl_error\u001b[0m\u001b[1;33m(\u001b[0m\u001b[0mself\u001b[0m\u001b[1;33m.\u001b[0m\u001b[0m_ssl\u001b[0m\u001b[1;33m,\u001b[0m \u001b[0mresult\u001b[0m\u001b[1;33m)\u001b[0m\u001b[1;33m\u001b[0m\u001b[1;33m\u001b[0m\u001b[0m\n\u001b[0m\u001b[0;32m   1916\u001b[0m \u001b[1;33m\u001b[0m\u001b[0m\n",
      "\u001b[1;32mD:\\Users\\Ritvik\\Anaconda3\\envs\\datascience\\lib\\site-packages\\OpenSSL\\SSL.py\u001b[0m in \u001b[0;36m_raise_ssl_error\u001b[1;34m(self, ssl, result)\u001b[0m\n\u001b[0;32m   1638\u001b[0m                     \u001b[1;32mif\u001b[0m \u001b[0merrno\u001b[0m \u001b[1;33m!=\u001b[0m \u001b[1;36m0\u001b[0m\u001b[1;33m:\u001b[0m\u001b[1;33m\u001b[0m\u001b[1;33m\u001b[0m\u001b[0m\n\u001b[1;32m-> 1639\u001b[1;33m                         \u001b[1;32mraise\u001b[0m \u001b[0mSysCallError\u001b[0m\u001b[1;33m(\u001b[0m\u001b[0merrno\u001b[0m\u001b[1;33m,\u001b[0m \u001b[0merrorcode\u001b[0m\u001b[1;33m.\u001b[0m\u001b[0mget\u001b[0m\u001b[1;33m(\u001b[0m\u001b[0merrno\u001b[0m\u001b[1;33m)\u001b[0m\u001b[1;33m)\u001b[0m\u001b[1;33m\u001b[0m\u001b[1;33m\u001b[0m\u001b[0m\n\u001b[0m\u001b[0;32m   1640\u001b[0m                 \u001b[1;32mraise\u001b[0m \u001b[0mSysCallError\u001b[0m\u001b[1;33m(\u001b[0m\u001b[1;33m-\u001b[0m\u001b[1;36m1\u001b[0m\u001b[1;33m,\u001b[0m \u001b[1;34m\"Unexpected EOF\"\u001b[0m\u001b[1;33m)\u001b[0m\u001b[1;33m\u001b[0m\u001b[1;33m\u001b[0m\u001b[0m\n",
      "\u001b[1;31mSysCallError\u001b[0m: (10054, 'WSAECONNRESET')",
      "\nDuring handling of the above exception, another exception occurred:\n",
      "\u001b[1;31mSSLError\u001b[0m                                  Traceback (most recent call last)",
      "\u001b[1;32mD:\\Users\\Ritvik\\Anaconda3\\envs\\datascience\\lib\\site-packages\\urllib3\\connectionpool.py\u001b[0m in \u001b[0;36murlopen\u001b[1;34m(self, method, url, body, headers, retries, redirect, assert_same_host, timeout, pool_timeout, release_conn, chunked, body_pos, **response_kw)\u001b[0m\n\u001b[0;32m    599\u001b[0m                                                   \u001b[0mbody\u001b[0m\u001b[1;33m=\u001b[0m\u001b[0mbody\u001b[0m\u001b[1;33m,\u001b[0m \u001b[0mheaders\u001b[0m\u001b[1;33m=\u001b[0m\u001b[0mheaders\u001b[0m\u001b[1;33m,\u001b[0m\u001b[1;33m\u001b[0m\u001b[1;33m\u001b[0m\u001b[0m\n\u001b[1;32m--> 600\u001b[1;33m                                                   chunked=chunked)\n\u001b[0m\u001b[0;32m    601\u001b[0m \u001b[1;33m\u001b[0m\u001b[0m\n",
      "\u001b[1;32mD:\\Users\\Ritvik\\Anaconda3\\envs\\datascience\\lib\\site-packages\\urllib3\\connectionpool.py\u001b[0m in \u001b[0;36m_make_request\u001b[1;34m(self, conn, method, url, timeout, chunked, **httplib_request_kw)\u001b[0m\n\u001b[0;32m    342\u001b[0m         \u001b[1;32mtry\u001b[0m\u001b[1;33m:\u001b[0m\u001b[1;33m\u001b[0m\u001b[1;33m\u001b[0m\u001b[0m\n\u001b[1;32m--> 343\u001b[1;33m             \u001b[0mself\u001b[0m\u001b[1;33m.\u001b[0m\u001b[0m_validate_conn\u001b[0m\u001b[1;33m(\u001b[0m\u001b[0mconn\u001b[0m\u001b[1;33m)\u001b[0m\u001b[1;33m\u001b[0m\u001b[1;33m\u001b[0m\u001b[0m\n\u001b[0m\u001b[0;32m    344\u001b[0m         \u001b[1;32mexcept\u001b[0m \u001b[1;33m(\u001b[0m\u001b[0mSocketTimeout\u001b[0m\u001b[1;33m,\u001b[0m \u001b[0mBaseSSLError\u001b[0m\u001b[1;33m)\u001b[0m \u001b[1;32mas\u001b[0m \u001b[0me\u001b[0m\u001b[1;33m:\u001b[0m\u001b[1;33m\u001b[0m\u001b[1;33m\u001b[0m\u001b[0m\n",
      "\u001b[1;32mD:\\Users\\Ritvik\\Anaconda3\\envs\\datascience\\lib\\site-packages\\urllib3\\connectionpool.py\u001b[0m in \u001b[0;36m_validate_conn\u001b[1;34m(self, conn)\u001b[0m\n\u001b[0;32m    838\u001b[0m         \u001b[1;32mif\u001b[0m \u001b[1;32mnot\u001b[0m \u001b[0mgetattr\u001b[0m\u001b[1;33m(\u001b[0m\u001b[0mconn\u001b[0m\u001b[1;33m,\u001b[0m \u001b[1;34m'sock'\u001b[0m\u001b[1;33m,\u001b[0m \u001b[1;32mNone\u001b[0m\u001b[1;33m)\u001b[0m\u001b[1;33m:\u001b[0m  \u001b[1;31m# AppEngine might not have  `.sock`\u001b[0m\u001b[1;33m\u001b[0m\u001b[1;33m\u001b[0m\u001b[0m\n\u001b[1;32m--> 839\u001b[1;33m             \u001b[0mconn\u001b[0m\u001b[1;33m.\u001b[0m\u001b[0mconnect\u001b[0m\u001b[1;33m(\u001b[0m\u001b[1;33m)\u001b[0m\u001b[1;33m\u001b[0m\u001b[1;33m\u001b[0m\u001b[0m\n\u001b[0m\u001b[0;32m    840\u001b[0m \u001b[1;33m\u001b[0m\u001b[0m\n",
      "\u001b[1;32mD:\\Users\\Ritvik\\Anaconda3\\envs\\datascience\\lib\\site-packages\\urllib3\\connection.py\u001b[0m in \u001b[0;36mconnect\u001b[1;34m(self)\u001b[0m\n\u001b[0;32m    343\u001b[0m             \u001b[0mserver_hostname\u001b[0m\u001b[1;33m=\u001b[0m\u001b[0mserver_hostname\u001b[0m\u001b[1;33m,\u001b[0m\u001b[1;33m\u001b[0m\u001b[1;33m\u001b[0m\u001b[0m\n\u001b[1;32m--> 344\u001b[1;33m             ssl_context=context)\n\u001b[0m\u001b[0;32m    345\u001b[0m \u001b[1;33m\u001b[0m\u001b[0m\n",
      "\u001b[1;32mD:\\Users\\Ritvik\\Anaconda3\\envs\\datascience\\lib\\site-packages\\urllib3\\util\\ssl_.py\u001b[0m in \u001b[0;36mssl_wrap_socket\u001b[1;34m(sock, keyfile, certfile, cert_reqs, ca_certs, server_hostname, ssl_version, ciphers, ssl_context, ca_cert_dir)\u001b[0m\n\u001b[0;32m    343\u001b[0m         \u001b[1;32mif\u001b[0m \u001b[0mHAS_SNI\u001b[0m \u001b[1;32mand\u001b[0m \u001b[0mserver_hostname\u001b[0m \u001b[1;32mis\u001b[0m \u001b[1;32mnot\u001b[0m \u001b[1;32mNone\u001b[0m\u001b[1;33m:\u001b[0m\u001b[1;33m\u001b[0m\u001b[1;33m\u001b[0m\u001b[0m\n\u001b[1;32m--> 344\u001b[1;33m             \u001b[1;32mreturn\u001b[0m \u001b[0mcontext\u001b[0m\u001b[1;33m.\u001b[0m\u001b[0mwrap_socket\u001b[0m\u001b[1;33m(\u001b[0m\u001b[0msock\u001b[0m\u001b[1;33m,\u001b[0m \u001b[0mserver_hostname\u001b[0m\u001b[1;33m=\u001b[0m\u001b[0mserver_hostname\u001b[0m\u001b[1;33m)\u001b[0m\u001b[1;33m\u001b[0m\u001b[1;33m\u001b[0m\u001b[0m\n\u001b[0m\u001b[0;32m    345\u001b[0m \u001b[1;33m\u001b[0m\u001b[0m\n",
      "\u001b[1;32mD:\\Users\\Ritvik\\Anaconda3\\envs\\datascience\\lib\\site-packages\\urllib3\\contrib\\pyopenssl.py\u001b[0m in \u001b[0;36mwrap_socket\u001b[1;34m(self, sock, server_side, do_handshake_on_connect, suppress_ragged_eofs, server_hostname)\u001b[0m\n\u001b[0;32m    458\u001b[0m             \u001b[1;32mexcept\u001b[0m \u001b[0mOpenSSL\u001b[0m\u001b[1;33m.\u001b[0m\u001b[0mSSL\u001b[0m\u001b[1;33m.\u001b[0m\u001b[0mError\u001b[0m \u001b[1;32mas\u001b[0m \u001b[0me\u001b[0m\u001b[1;33m:\u001b[0m\u001b[1;33m\u001b[0m\u001b[1;33m\u001b[0m\u001b[0m\n\u001b[1;32m--> 459\u001b[1;33m                 \u001b[1;32mraise\u001b[0m \u001b[0mssl\u001b[0m\u001b[1;33m.\u001b[0m\u001b[0mSSLError\u001b[0m\u001b[1;33m(\u001b[0m\u001b[1;34m'bad handshake: %r'\u001b[0m \u001b[1;33m%\u001b[0m \u001b[0me\u001b[0m\u001b[1;33m)\u001b[0m\u001b[1;33m\u001b[0m\u001b[1;33m\u001b[0m\u001b[0m\n\u001b[0m\u001b[0;32m    460\u001b[0m             \u001b[1;32mbreak\u001b[0m\u001b[1;33m\u001b[0m\u001b[1;33m\u001b[0m\u001b[0m\n",
      "\u001b[1;31mSSLError\u001b[0m: (\"bad handshake: SysCallError(10054, 'WSAECONNRESET')\",)",
      "\nDuring handling of the above exception, another exception occurred:\n",
      "\u001b[1;31mMaxRetryError\u001b[0m                             Traceback (most recent call last)",
      "\u001b[1;32mD:\\Users\\Ritvik\\Anaconda3\\envs\\datascience\\lib\\site-packages\\requests\\adapters.py\u001b[0m in \u001b[0;36msend\u001b[1;34m(self, request, stream, timeout, verify, cert, proxies)\u001b[0m\n\u001b[0;32m    448\u001b[0m                     \u001b[0mretries\u001b[0m\u001b[1;33m=\u001b[0m\u001b[0mself\u001b[0m\u001b[1;33m.\u001b[0m\u001b[0mmax_retries\u001b[0m\u001b[1;33m,\u001b[0m\u001b[1;33m\u001b[0m\u001b[1;33m\u001b[0m\u001b[0m\n\u001b[1;32m--> 449\u001b[1;33m                     \u001b[0mtimeout\u001b[0m\u001b[1;33m=\u001b[0m\u001b[0mtimeout\u001b[0m\u001b[1;33m\u001b[0m\u001b[1;33m\u001b[0m\u001b[0m\n\u001b[0m\u001b[0;32m    450\u001b[0m                 )\n",
      "\u001b[1;32mD:\\Users\\Ritvik\\Anaconda3\\envs\\datascience\\lib\\site-packages\\urllib3\\connectionpool.py\u001b[0m in \u001b[0;36murlopen\u001b[1;34m(self, method, url, body, headers, retries, redirect, assert_same_host, timeout, pool_timeout, release_conn, chunked, body_pos, **response_kw)\u001b[0m\n\u001b[0;32m    637\u001b[0m             retries = retries.increment(method, url, error=e, _pool=self,\n\u001b[1;32m--> 638\u001b[1;33m                                         _stacktrace=sys.exc_info()[2])\n\u001b[0m\u001b[0;32m    639\u001b[0m             \u001b[0mretries\u001b[0m\u001b[1;33m.\u001b[0m\u001b[0msleep\u001b[0m\u001b[1;33m(\u001b[0m\u001b[1;33m)\u001b[0m\u001b[1;33m\u001b[0m\u001b[1;33m\u001b[0m\u001b[0m\n",
      "\u001b[1;32mD:\\Users\\Ritvik\\Anaconda3\\envs\\datascience\\lib\\site-packages\\urllib3\\util\\retry.py\u001b[0m in \u001b[0;36mincrement\u001b[1;34m(self, method, url, response, error, _pool, _stacktrace)\u001b[0m\n\u001b[0;32m    397\u001b[0m         \u001b[1;32mif\u001b[0m \u001b[0mnew_retry\u001b[0m\u001b[1;33m.\u001b[0m\u001b[0mis_exhausted\u001b[0m\u001b[1;33m(\u001b[0m\u001b[1;33m)\u001b[0m\u001b[1;33m:\u001b[0m\u001b[1;33m\u001b[0m\u001b[1;33m\u001b[0m\u001b[0m\n\u001b[1;32m--> 398\u001b[1;33m             \u001b[1;32mraise\u001b[0m \u001b[0mMaxRetryError\u001b[0m\u001b[1;33m(\u001b[0m\u001b[0m_pool\u001b[0m\u001b[1;33m,\u001b[0m \u001b[0murl\u001b[0m\u001b[1;33m,\u001b[0m \u001b[0merror\u001b[0m \u001b[1;32mor\u001b[0m \u001b[0mResponseError\u001b[0m\u001b[1;33m(\u001b[0m\u001b[0mcause\u001b[0m\u001b[1;33m)\u001b[0m\u001b[1;33m)\u001b[0m\u001b[1;33m\u001b[0m\u001b[1;33m\u001b[0m\u001b[0m\n\u001b[0m\u001b[0;32m    399\u001b[0m \u001b[1;33m\u001b[0m\u001b[0m\n",
      "\u001b[1;31mMaxRetryError\u001b[0m: HTTPSConnectionPool(host='www.tutorialspoint.com', port=443): Max retries exceeded with url: /programming_examples/565 (Caused by SSLError(SSLError(\"bad handshake: SysCallError(10054, 'WSAECONNRESET')\")))",
      "\nDuring handling of the above exception, another exception occurred:\n",
      "\u001b[1;31mSSLError\u001b[0m                                  Traceback (most recent call last)",
      "\u001b[1;32m<ipython-input-7-58f89252c1d8>\u001b[0m in \u001b[0;36m<module>\u001b[1;34m\u001b[0m\n\u001b[0;32m      3\u001b[0m     \u001b[0mclear_output\u001b[0m\u001b[1;33m(\u001b[0m\u001b[0mwait\u001b[0m\u001b[1;33m=\u001b[0m\u001b[1;32mTrue\u001b[0m\u001b[1;33m)\u001b[0m\u001b[1;33m\u001b[0m\u001b[1;33m\u001b[0m\u001b[0m\n\u001b[0;32m      4\u001b[0m     \u001b[0mprint\u001b[0m\u001b[1;33m(\u001b[0m\u001b[0mi\u001b[0m\u001b[1;33m,\u001b[0m \u001b[1;34m'/8401'\u001b[0m\u001b[1;33m)\u001b[0m\u001b[1;33m\u001b[0m\u001b[1;33m\u001b[0m\u001b[0m\n\u001b[1;32m----> 5\u001b[1;33m     \u001b[0mres\u001b[0m \u001b[1;33m=\u001b[0m \u001b[0mrequests\u001b[0m\u001b[1;33m.\u001b[0m\u001b[0mget\u001b[0m\u001b[1;33m(\u001b[0m\u001b[0murl\u001b[0m\u001b[1;33m)\u001b[0m\u001b[1;33m\u001b[0m\u001b[1;33m\u001b[0m\u001b[0m\n\u001b[0m\u001b[0;32m      6\u001b[0m     \u001b[1;32mif\u001b[0m \u001b[0mres\u001b[0m\u001b[1;33m.\u001b[0m\u001b[0mstatus_code\u001b[0m \u001b[1;33m==\u001b[0m \u001b[0mrequests\u001b[0m\u001b[1;33m.\u001b[0m\u001b[0mcodes\u001b[0m\u001b[1;33m.\u001b[0m\u001b[0mok\u001b[0m\u001b[1;33m:\u001b[0m\u001b[1;33m\u001b[0m\u001b[1;33m\u001b[0m\u001b[0m\n\u001b[0;32m      7\u001b[0m         \u001b[0mressoup\u001b[0m \u001b[1;33m=\u001b[0m \u001b[0mbs4\u001b[0m\u001b[1;33m.\u001b[0m\u001b[0mBeautifulSoup\u001b[0m\u001b[1;33m(\u001b[0m\u001b[0mres\u001b[0m\u001b[1;33m.\u001b[0m\u001b[0mtext\u001b[0m\u001b[1;33m,\u001b[0m \u001b[1;34m'lxml'\u001b[0m\u001b[1;33m)\u001b[0m\u001b[1;33m\u001b[0m\u001b[1;33m\u001b[0m\u001b[0m\n",
      "\u001b[1;32mD:\\Users\\Ritvik\\Anaconda3\\envs\\datascience\\lib\\site-packages\\requests\\api.py\u001b[0m in \u001b[0;36mget\u001b[1;34m(url, params, **kwargs)\u001b[0m\n\u001b[0;32m     73\u001b[0m \u001b[1;33m\u001b[0m\u001b[0m\n\u001b[0;32m     74\u001b[0m     \u001b[0mkwargs\u001b[0m\u001b[1;33m.\u001b[0m\u001b[0msetdefault\u001b[0m\u001b[1;33m(\u001b[0m\u001b[1;34m'allow_redirects'\u001b[0m\u001b[1;33m,\u001b[0m \u001b[1;32mTrue\u001b[0m\u001b[1;33m)\u001b[0m\u001b[1;33m\u001b[0m\u001b[1;33m\u001b[0m\u001b[0m\n\u001b[1;32m---> 75\u001b[1;33m     \u001b[1;32mreturn\u001b[0m \u001b[0mrequest\u001b[0m\u001b[1;33m(\u001b[0m\u001b[1;34m'get'\u001b[0m\u001b[1;33m,\u001b[0m \u001b[0murl\u001b[0m\u001b[1;33m,\u001b[0m \u001b[0mparams\u001b[0m\u001b[1;33m=\u001b[0m\u001b[0mparams\u001b[0m\u001b[1;33m,\u001b[0m \u001b[1;33m**\u001b[0m\u001b[0mkwargs\u001b[0m\u001b[1;33m)\u001b[0m\u001b[1;33m\u001b[0m\u001b[1;33m\u001b[0m\u001b[0m\n\u001b[0m\u001b[0;32m     76\u001b[0m \u001b[1;33m\u001b[0m\u001b[0m\n\u001b[0;32m     77\u001b[0m \u001b[1;33m\u001b[0m\u001b[0m\n",
      "\u001b[1;32mD:\\Users\\Ritvik\\Anaconda3\\envs\\datascience\\lib\\site-packages\\requests\\api.py\u001b[0m in \u001b[0;36mrequest\u001b[1;34m(method, url, **kwargs)\u001b[0m\n\u001b[0;32m     58\u001b[0m     \u001b[1;31m# cases, and look like a memory leak in others.\u001b[0m\u001b[1;33m\u001b[0m\u001b[1;33m\u001b[0m\u001b[1;33m\u001b[0m\u001b[0m\n\u001b[0;32m     59\u001b[0m     \u001b[1;32mwith\u001b[0m \u001b[0msessions\u001b[0m\u001b[1;33m.\u001b[0m\u001b[0mSession\u001b[0m\u001b[1;33m(\u001b[0m\u001b[1;33m)\u001b[0m \u001b[1;32mas\u001b[0m \u001b[0msession\u001b[0m\u001b[1;33m:\u001b[0m\u001b[1;33m\u001b[0m\u001b[1;33m\u001b[0m\u001b[0m\n\u001b[1;32m---> 60\u001b[1;33m         \u001b[1;32mreturn\u001b[0m \u001b[0msession\u001b[0m\u001b[1;33m.\u001b[0m\u001b[0mrequest\u001b[0m\u001b[1;33m(\u001b[0m\u001b[0mmethod\u001b[0m\u001b[1;33m=\u001b[0m\u001b[0mmethod\u001b[0m\u001b[1;33m,\u001b[0m \u001b[0murl\u001b[0m\u001b[1;33m=\u001b[0m\u001b[0murl\u001b[0m\u001b[1;33m,\u001b[0m \u001b[1;33m**\u001b[0m\u001b[0mkwargs\u001b[0m\u001b[1;33m)\u001b[0m\u001b[1;33m\u001b[0m\u001b[1;33m\u001b[0m\u001b[0m\n\u001b[0m\u001b[0;32m     61\u001b[0m \u001b[1;33m\u001b[0m\u001b[0m\n\u001b[0;32m     62\u001b[0m \u001b[1;33m\u001b[0m\u001b[0m\n",
      "\u001b[1;32mD:\\Users\\Ritvik\\Anaconda3\\envs\\datascience\\lib\\site-packages\\requests\\sessions.py\u001b[0m in \u001b[0;36mrequest\u001b[1;34m(self, method, url, params, data, headers, cookies, files, auth, timeout, allow_redirects, proxies, hooks, stream, verify, cert, json)\u001b[0m\n\u001b[0;32m    531\u001b[0m         }\n\u001b[0;32m    532\u001b[0m         \u001b[0msend_kwargs\u001b[0m\u001b[1;33m.\u001b[0m\u001b[0mupdate\u001b[0m\u001b[1;33m(\u001b[0m\u001b[0msettings\u001b[0m\u001b[1;33m)\u001b[0m\u001b[1;33m\u001b[0m\u001b[1;33m\u001b[0m\u001b[0m\n\u001b[1;32m--> 533\u001b[1;33m         \u001b[0mresp\u001b[0m \u001b[1;33m=\u001b[0m \u001b[0mself\u001b[0m\u001b[1;33m.\u001b[0m\u001b[0msend\u001b[0m\u001b[1;33m(\u001b[0m\u001b[0mprep\u001b[0m\u001b[1;33m,\u001b[0m \u001b[1;33m**\u001b[0m\u001b[0msend_kwargs\u001b[0m\u001b[1;33m)\u001b[0m\u001b[1;33m\u001b[0m\u001b[1;33m\u001b[0m\u001b[0m\n\u001b[0m\u001b[0;32m    534\u001b[0m \u001b[1;33m\u001b[0m\u001b[0m\n\u001b[0;32m    535\u001b[0m         \u001b[1;32mreturn\u001b[0m \u001b[0mresp\u001b[0m\u001b[1;33m\u001b[0m\u001b[1;33m\u001b[0m\u001b[0m\n",
      "\u001b[1;32mD:\\Users\\Ritvik\\Anaconda3\\envs\\datascience\\lib\\site-packages\\requests\\sessions.py\u001b[0m in \u001b[0;36msend\u001b[1;34m(self, request, **kwargs)\u001b[0m\n\u001b[0;32m    644\u001b[0m \u001b[1;33m\u001b[0m\u001b[0m\n\u001b[0;32m    645\u001b[0m         \u001b[1;31m# Send the request\u001b[0m\u001b[1;33m\u001b[0m\u001b[1;33m\u001b[0m\u001b[1;33m\u001b[0m\u001b[0m\n\u001b[1;32m--> 646\u001b[1;33m         \u001b[0mr\u001b[0m \u001b[1;33m=\u001b[0m \u001b[0madapter\u001b[0m\u001b[1;33m.\u001b[0m\u001b[0msend\u001b[0m\u001b[1;33m(\u001b[0m\u001b[0mrequest\u001b[0m\u001b[1;33m,\u001b[0m \u001b[1;33m**\u001b[0m\u001b[0mkwargs\u001b[0m\u001b[1;33m)\u001b[0m\u001b[1;33m\u001b[0m\u001b[1;33m\u001b[0m\u001b[0m\n\u001b[0m\u001b[0;32m    647\u001b[0m \u001b[1;33m\u001b[0m\u001b[0m\n\u001b[0;32m    648\u001b[0m         \u001b[1;31m# Total elapsed time of the request (approximately)\u001b[0m\u001b[1;33m\u001b[0m\u001b[1;33m\u001b[0m\u001b[1;33m\u001b[0m\u001b[0m\n",
      "\u001b[1;32mD:\\Users\\Ritvik\\Anaconda3\\envs\\datascience\\lib\\site-packages\\requests\\adapters.py\u001b[0m in \u001b[0;36msend\u001b[1;34m(self, request, stream, timeout, verify, cert, proxies)\u001b[0m\n\u001b[0;32m    512\u001b[0m             \u001b[1;32mif\u001b[0m \u001b[0misinstance\u001b[0m\u001b[1;33m(\u001b[0m\u001b[0me\u001b[0m\u001b[1;33m.\u001b[0m\u001b[0mreason\u001b[0m\u001b[1;33m,\u001b[0m \u001b[0m_SSLError\u001b[0m\u001b[1;33m)\u001b[0m\u001b[1;33m:\u001b[0m\u001b[1;33m\u001b[0m\u001b[1;33m\u001b[0m\u001b[0m\n\u001b[0;32m    513\u001b[0m                 \u001b[1;31m# This branch is for urllib3 v1.22 and later.\u001b[0m\u001b[1;33m\u001b[0m\u001b[1;33m\u001b[0m\u001b[1;33m\u001b[0m\u001b[0m\n\u001b[1;32m--> 514\u001b[1;33m                 \u001b[1;32mraise\u001b[0m \u001b[0mSSLError\u001b[0m\u001b[1;33m(\u001b[0m\u001b[0me\u001b[0m\u001b[1;33m,\u001b[0m \u001b[0mrequest\u001b[0m\u001b[1;33m=\u001b[0m\u001b[0mrequest\u001b[0m\u001b[1;33m)\u001b[0m\u001b[1;33m\u001b[0m\u001b[1;33m\u001b[0m\u001b[0m\n\u001b[0m\u001b[0;32m    515\u001b[0m \u001b[1;33m\u001b[0m\u001b[0m\n\u001b[0;32m    516\u001b[0m             \u001b[1;32mraise\u001b[0m \u001b[0mConnectionError\u001b[0m\u001b[1;33m(\u001b[0m\u001b[0me\u001b[0m\u001b[1;33m,\u001b[0m \u001b[0mrequest\u001b[0m\u001b[1;33m=\u001b[0m\u001b[0mrequest\u001b[0m\u001b[1;33m)\u001b[0m\u001b[1;33m\u001b[0m\u001b[1;33m\u001b[0m\u001b[0m\n",
      "\u001b[1;31mSSLError\u001b[0m: HTTPSConnectionPool(host='www.tutorialspoint.com', port=443): Max retries exceeded with url: /programming_examples/565 (Caused by SSLError(SSLError(\"bad handshake: SysCallError(10054, 'WSAECONNRESET')\")))"
     ]
    }
   ],
   "source": [
    "for i in range(1, 8402):\n",
    "    url = 'https://www.tutorialspoint.com/programming_examples/'+str(i)\n",
    "    clear_output(wait=True)\n",
    "    print(i, '/8401')\n",
    "    res = requests.get(url)\n",
    "    if res.status_code == requests.codes.ok:\n",
    "        ressoup = bs4.BeautifulSoup(res.text, 'lxml')\n",
    "        h2elems = list(map(lambda x: x.getText().strip(), ressoup.select('h2')))\n",
    "        preelems = list(map(lambda x: x.getText(), ressoup.select('pre')))\n",
    "        spanelems = list(map(lambda x: x.getText(), ressoup.select('span')[17:27]))\n",
    "        new_code = pd.DataFrame({\n",
    "            'Title': h2elems,\n",
    "            'Code': preelems,\n",
    "            'Language': spanelems\n",
    "        })\n",
    "        tutorialspoint = pd.concat([tutorialspoint, new_code], axis=0)\n",
    "    else:\n",
    "        print('Something went wrong')"
   ]
  },
  {
   "cell_type": "code",
   "execution_count": 8,
   "metadata": {
    "ExecuteTime": {
     "end_time": "2019-05-10T16:07:28.480214Z",
     "start_time": "2019-05-10T16:07:28.463226Z"
    }
   },
   "outputs": [
    {
     "data": {
      "text/plain": [
       "5557"
      ]
     },
     "execution_count": 8,
     "metadata": {},
     "output_type": "execute_result"
    }
   ],
   "source": [
    "tutorialspoint = tutorialspoint.reset_index(drop=True)\n",
    "len(tutorialspoint)"
   ]
  },
  {
   "cell_type": "code",
   "execution_count": 9,
   "metadata": {
    "ExecuteTime": {
     "end_time": "2019-05-10T16:07:29.690189Z",
     "start_time": "2019-05-10T16:07:29.672211Z"
    }
   },
   "outputs": [
    {
     "data": {
      "text/html": [
       "<div>\n",
       "<style scoped>\n",
       "    .dataframe tbody tr th:only-of-type {\n",
       "        vertical-align: middle;\n",
       "    }\n",
       "\n",
       "    .dataframe tbody tr th {\n",
       "        vertical-align: top;\n",
       "    }\n",
       "\n",
       "    .dataframe thead th {\n",
       "        text-align: right;\n",
       "    }\n",
       "</style>\n",
       "<table border=\"1\" class=\"dataframe\">\n",
       "  <thead>\n",
       "    <tr style=\"text-align: right;\">\n",
       "      <th></th>\n",
       "      <th>Code</th>\n",
       "      <th>Language</th>\n",
       "      <th>Title</th>\n",
       "    </tr>\n",
       "  </thead>\n",
       "  <tbody>\n",
       "    <tr>\n",
       "      <th>0</th>\n",
       "      <td>program hello\\n   Print *, \"Hello World!...4....\"\\nend program Hello</td>\n",
       "      <td>fortran</td>\n",
       "      <td>Hello World Program in FORTRAN-95</td>\n",
       "    </tr>\n",
       "    <tr>\n",
       "      <th>1</th>\n",
       "      <td>#include &lt;iostream&gt;\\n#include &lt;sstream&gt;\\n#include &lt;cstring&gt;\\n#include &lt;ctime&gt;\\n#include &lt;unistd.h&gt;\\n#define M 3\\n#define w 10\\nusing namespace std;\\nstring nomiferramenta[]={\"scatolaDiChiodi\",\"forbici\",\"chiaveInglese\",\"cacciavite\",\"martello\",\"nastroBiadesivo\"};\\nstring nomifarmacia[]={\"aspirine\",\"oki\",\"sciroppoPerLaGola\",\"brioski\",\"cerotti\",\"disinfettante\"};\\nstring nomifruttivendolo[]={\"saccoDiPatate\",\"radicchio\",\"cetriolo\",\"finocchio\",\"pomodoro\",\"casettaDiFragole\"};\\nstring nomiNegozioDiVestiti[]={\"maglietta\",\"felpa\",\"pantaloni\",\"gonna\",\"cappello\",\"giacca\"};\\nstring nomiNegoziodianimani[]={\"parrocchetto\",\"aski\",\"carlino\",\"cocorito\",\"tartarugaD'acqua\",\"geco\"};\\nstring nomi[]={\"Marco\",\"Giorgio\",\"Astolfo\",\"Daria\",\"Anna\",\"CicciaPanza\"};\\nstring nomic[]={\"Ada\",\"Gioia\",\"Aurora\",\"Tonia\",\"Eva\"};\\ndouble c=(rand()%10);\\nstruct Cosa{\\n    string nome=\"nulla\";\\n    int pos=c=(rand()%10);\\n    int q=0;\\n    double prezzo=c=(rand()%30);\\n};\\nstruct  Persona{\\n    string nome;\\n    Cosa  oggetto;\\n    double soldi=100.0;\\n};\\n\\nstruct Negozio{\\n    string nome;\\n    Cosa cose[M];\\n    int N=M;\\n    Persona commessa;\\n};\\n\\nvoid inizializzaNegozio(Negozio &amp;neg, string nome){\\n    srand(time(0));\\n    string nomiN[7]{\"Supermecato\",\"Negoziodianimani\",\"NegozioDiVestiti\",\"NegozioDiGiocattoli\",\"Farmacia\",\"NegozioElettronica\",\"Ferramenta\"};\\n    string nomi[]={\"Ada\",\"Gioia\",\"Aurora\",\"Tonia\",\"Eva\"};\\n    neg.nome=nome=nomiN[rand()%7];\\n    neg.commessa.nome=nomi[rand()%5];\\n    stringstream ss;\\n    for(int i=0;i&lt;neg.N;i++) {\\n        ss.str(\"\"); ss&lt;&lt;\"oggetto_\"&lt;&lt; i;\\n        neg.cose[i].nome= ss.str();\\n        neg.cose[i].q=w+i;\\n    }\\n}\\nvoid preleva(Negozio &amp;neg,int pos,int quant){\\n    if(neg.cose[pos].q &gt;= quant) {\\n        neg.cose[pos].q -=quant;\\n    }else {\\n        neg.cose[pos].q=0;\\n        cout &lt;&lt; \"scorte non sufficienti!!!\\n\";\\n    }\\n}\\nvoid deposita(Negozio &amp;neg,int pos,int quant){\\n    neg.cose[pos].q += quant;\\n}\\nvoid stampaNegozio(Negozio neg){\\n        cout&lt;&lt;neg.nome&lt;&lt;\" gestita da \"+neg.commessa.nome+\" ha \"&lt;&lt;neg.N&lt;&lt;\" reparti:\\n\";\\n    for(int i=0;i&lt;neg.N;i++)\\n        cout&lt;&lt;neg.cose[i].nome&lt;&lt;\" con la quantita\\' di \"&lt;&lt; neg.cose[i].q&lt;&lt;\"\\n\";\\n}\\n\\nvoid gestioneNegozio(Negozio &amp;neg,string nome){\\n    inizializzaNegozio(neg, nome);\\n    stampaNegozio(neg);\\n    preleva(neg,2,5);\\n    deposita(neg,0,7);\\n    stampaNegozio(neg);\\n}\\nvoid stampaCliente(Persona cliente){\\n    std::cout &lt;&lt; cliente.nome &lt;&lt; \" ha \" &lt;&lt; cliente.oggetto.nome;\\n    std::cout &lt;&lt; \" e \" &lt;&lt; cliente.soldi &lt;&lt; \" Euro\\n\";\\n}\\n\\nint main() {\\n    srand(time (0));\\n   // for(int t=0;t&lt;5;t++){\\n    Negozio neg;\\n    string nome;\\n    inizializzaNegozio(neg,nome);\\n    stampaNegozio(neg);\\n   \\n    for(int k=0;k&lt;c;k++){\\n         Persona cliente;\\n    cliente.nome=nomic[rand()%6];\\n    stampaCliente(cliente);\\n    preleva(neg,2,1);\\n    cliente.oggetto = neg.cose[rand()%3];\\n    cliente.soldi -= neg.cose[2].prezzo;\\n    stampaCliente(cliente);\\n    }\\n    stampaNegozio(neg);\\n    cout&lt;&lt;\"\\n\\n\\n\\n\\n\";\\n//}\\n   return 0;\\n}</td>\n",
       "      <td>cpp</td>\n",
       "      <td>Learning Constants, String and Structure in C</td>\n",
       "    </tr>\n",
       "    <tr>\n",
       "      <th>2</th>\n",
       "      <td>/* Simple Hello, World! program */\\nvoid main(){\\n   print(\"Hello, World!\");\\n}</td>\n",
       "      <td>dart</td>\n",
       "      <td>Sample Dart Online Program</td>\n",
       "    </tr>\n",
       "    <tr>\n",
       "      <th>3</th>\n",
       "      <td>&lt;!DOCTYPE html&gt;\\n&lt;html&gt;\\n&lt;title&gt;Web Page Design&lt;/title&gt;\\n&lt;head&gt;\\n&lt;style type=\"text/css\"&gt;\\ndiv\\n{\\n   width:100px;\\n   height:75px;\\n   background-color:red;\\n   border:1px solid black;\\n}\\n#div2\\n{\\n   transform:rotate(30deg);\\n   -ms-transform:rotate(30deg); /* IE 9 */\\n   -moz-transform:rotate(30deg); /* Firefox */\\n   -webkit-transform:rotate(30deg); /* Safari and Chrome */\\n   -o-transform:rotate(30deg); /* Opera */\\n   background-color:yellow;\\n}\\n&lt;/style&gt;\\n&lt;/head&gt;\\n&lt;body&gt;\\n&lt;div&gt;Hello, World!&lt;/div&gt;\\n&lt;div id=\"div2\"&gt;Hello, CSS3!&lt;/div&gt;\\n&lt;/body&gt;\\n&lt;/html&gt;</td>\n",
       "      <td>html</td>\n",
       "      <td>Text Formatting using HTML5 and CSS</td>\n",
       "    </tr>\n",
       "    <tr>\n",
       "      <th>4</th>\n",
       "      <td>&lt;!DOCTYPE html&gt;\\n&lt;html&gt;\\n&lt;title&gt;Web Page Design&lt;/title&gt;\\n&lt;head&gt;\\n&lt;script&gt;\\nfunction sayHello() {\\n   document.write(\"Hello, Coding Ground!\");\\n}\\nsayHello();\\n&lt;/script&gt;\\n&lt;/head&gt;\\n&lt;body&gt;\\n&lt;/body&gt;\\n&lt;/html&gt;</td>\n",
       "      <td>javascript</td>\n",
       "      <td>JavaScript Html Sample  Program</td>\n",
       "    </tr>\n",
       "  </tbody>\n",
       "</table>\n",
       "</div>"
      ],
      "text/plain": [
       "                                                                                                                                                                                                                                                                                                                                                                                                                                                                                                                                                                                                                                                                                                                                                                                                                                                                                                                                                                                                                                                                                                                                                                                                                                                                                                                                                                                                                                                                                                                                                                                                                                                                                                                                                                                                                                                                                                                                                                                                                                                                                                                                                                                                                                                                                                                                                                                                                                                                                                                                                                                                                                                                                                                                                                                                                                                                                                                                                                                                                                                                                                                                                       Code  \\\n",
       "0  program hello\\n   Print *, \"Hello World!...4....\"\\nend program Hello                                                                                                                                                                                                                                                                                                                                                                                                                                                                                                                                                                                                                                                                                                                                                                                                                                                                                                                                                                                                                                                                                                                                                                                                                                                                                                                                                                                                                                                                                                                                                                                                                                                                                                                                                                                                                                                                                                                                                                                                                                                                                                                                                                                                                                                                                                                                                                                                                                                                                                                                                                                                                                                                                                                                                                                                                                                                                                                                                                                                                                                                                       \n",
       "1  #include <iostream>\\n#include <sstream>\\n#include <cstring>\\n#include <ctime>\\n#include <unistd.h>\\n#define M 3\\n#define w 10\\nusing namespace std;\\nstring nomiferramenta[]={\"scatolaDiChiodi\",\"forbici\",\"chiaveInglese\",\"cacciavite\",\"martello\",\"nastroBiadesivo\"};\\nstring nomifarmacia[]={\"aspirine\",\"oki\",\"sciroppoPerLaGola\",\"brioski\",\"cerotti\",\"disinfettante\"};\\nstring nomifruttivendolo[]={\"saccoDiPatate\",\"radicchio\",\"cetriolo\",\"finocchio\",\"pomodoro\",\"casettaDiFragole\"};\\nstring nomiNegozioDiVestiti[]={\"maglietta\",\"felpa\",\"pantaloni\",\"gonna\",\"cappello\",\"giacca\"};\\nstring nomiNegoziodianimani[]={\"parrocchetto\",\"aski\",\"carlino\",\"cocorito\",\"tartarugaD'acqua\",\"geco\"};\\nstring nomi[]={\"Marco\",\"Giorgio\",\"Astolfo\",\"Daria\",\"Anna\",\"CicciaPanza\"};\\nstring nomic[]={\"Ada\",\"Gioia\",\"Aurora\",\"Tonia\",\"Eva\"};\\ndouble c=(rand()%10);\\nstruct Cosa{\\n    string nome=\"nulla\";\\n    int pos=c=(rand()%10);\\n    int q=0;\\n    double prezzo=c=(rand()%30);\\n};\\nstruct  Persona{\\n    string nome;\\n    Cosa  oggetto;\\n    double soldi=100.0;\\n};\\n\\nstruct Negozio{\\n    string nome;\\n    Cosa cose[M];\\n    int N=M;\\n    Persona commessa;\\n};\\n\\nvoid inizializzaNegozio(Negozio &neg, string nome){\\n    srand(time(0));\\n    string nomiN[7]{\"Supermecato\",\"Negoziodianimani\",\"NegozioDiVestiti\",\"NegozioDiGiocattoli\",\"Farmacia\",\"NegozioElettronica\",\"Ferramenta\"};\\n    string nomi[]={\"Ada\",\"Gioia\",\"Aurora\",\"Tonia\",\"Eva\"};\\n    neg.nome=nome=nomiN[rand()%7];\\n    neg.commessa.nome=nomi[rand()%5];\\n    stringstream ss;\\n    for(int i=0;i<neg.N;i++) {\\n        ss.str(\"\"); ss<<\"oggetto_\"<< i;\\n        neg.cose[i].nome= ss.str();\\n        neg.cose[i].q=w+i;\\n    }\\n}\\nvoid preleva(Negozio &neg,int pos,int quant){\\n    if(neg.cose[pos].q >= quant) {\\n        neg.cose[pos].q -=quant;\\n    }else {\\n        neg.cose[pos].q=0;\\n        cout << \"scorte non sufficienti!!!\\n\";\\n    }\\n}\\nvoid deposita(Negozio &neg,int pos,int quant){\\n    neg.cose[pos].q += quant;\\n}\\nvoid stampaNegozio(Negozio neg){\\n        cout<<neg.nome<<\" gestita da \"+neg.commessa.nome+\" ha \"<<neg.N<<\" reparti:\\n\";\\n    for(int i=0;i<neg.N;i++)\\n        cout<<neg.cose[i].nome<<\" con la quantita\\' di \"<< neg.cose[i].q<<\"\\n\";\\n}\\n\\nvoid gestioneNegozio(Negozio &neg,string nome){\\n    inizializzaNegozio(neg, nome);\\n    stampaNegozio(neg);\\n    preleva(neg,2,5);\\n    deposita(neg,0,7);\\n    stampaNegozio(neg);\\n}\\nvoid stampaCliente(Persona cliente){\\n    std::cout << cliente.nome << \" ha \" << cliente.oggetto.nome;\\n    std::cout << \" e \" << cliente.soldi << \" Euro\\n\";\\n}\\n\\nint main() {\\n    srand(time (0));\\n   // for(int t=0;t<5;t++){\\n    Negozio neg;\\n    string nome;\\n    inizializzaNegozio(neg,nome);\\n    stampaNegozio(neg);\\n   \\n    for(int k=0;k<c;k++){\\n         Persona cliente;\\n    cliente.nome=nomic[rand()%6];\\n    stampaCliente(cliente);\\n    preleva(neg,2,1);\\n    cliente.oggetto = neg.cose[rand()%3];\\n    cliente.soldi -= neg.cose[2].prezzo;\\n    stampaCliente(cliente);\\n    }\\n    stampaNegozio(neg);\\n    cout<<\"\\n\\n\\n\\n\\n\";\\n//}\\n   return 0;\\n}   \n",
       "2  /* Simple Hello, World! program */\\nvoid main(){\\n   print(\"Hello, World!\");\\n}                                                                                                                                                                                                                                                                                                                                                                                                                                                                                                                                                                                                                                                                                                                                                                                                                                                                                                                                                                                                                                                                                                                                                                                                                                                                                                                                                                                                                                                                                                                                                                                                                                                                                                                                                                                                                                                                                                                                                                                                                                                                                                                                                                                                                                                                                                                                                                                                                                                                                                                                                                                                                                                                                                                                                                                                                                                                                                                                                                                                                                                                            \n",
       "3  <!DOCTYPE html>\\n<html>\\n<title>Web Page Design</title>\\n<head>\\n<style type=\"text/css\">\\ndiv\\n{\\n   width:100px;\\n   height:75px;\\n   background-color:red;\\n   border:1px solid black;\\n}\\n#div2\\n{\\n   transform:rotate(30deg);\\n   -ms-transform:rotate(30deg); /* IE 9 */\\n   -moz-transform:rotate(30deg); /* Firefox */\\n   -webkit-transform:rotate(30deg); /* Safari and Chrome */\\n   -o-transform:rotate(30deg); /* Opera */\\n   background-color:yellow;\\n}\\n</style>\\n</head>\\n<body>\\n<div>Hello, World!</div>\\n<div id=\"div2\">Hello, CSS3!</div>\\n</body>\\n</html>                                                                                                                                                                                                                                                                                                                                                                                                                                                                                                                                                                                                                                                                                                                                                                                                                                                                                                                                                                                                                                                                                                                                                                                                                                                                                                                                                                                                                                                                                                                                                                                                                                                                                                                                                                                                                                                                                                                                                                                                                                                                                                                                                                                                                                                                                                                                                                                                                                                                                                                                                                          \n",
       "4  <!DOCTYPE html>\\n<html>\\n<title>Web Page Design</title>\\n<head>\\n<script>\\nfunction sayHello() {\\n   document.write(\"Hello, Coding Ground!\");\\n}\\nsayHello();\\n</script>\\n</head>\\n<body>\\n</body>\\n</html>                                                                                                                                                                                                                                                                                                                                                                                                                                                                                                                                                                                                                                                                                                                                                                                                                                                                                                                                                                                                                                                                                                                                                                                                                                                                                                                                                                                                                                                                                                                                                                                                                                                                                                                                                                                                                                                                                                                                                                                                                                                                                                                                                                                                                                                                                                                                                                                                                                                                                                                                                                                                                                                                                                                                                                                                                                                                                                                                                \n",
       "\n",
       "     Language                                          Title  \n",
       "0  fortran     Hello World Program in FORTRAN-95              \n",
       "1  cpp         Learning Constants, String and Structure in C  \n",
       "2  dart        Sample Dart Online Program                     \n",
       "3  html        Text Formatting using HTML5 and CSS            \n",
       "4  javascript  JavaScript Html Sample  Program                "
      ]
     },
     "execution_count": 9,
     "metadata": {},
     "output_type": "execute_result"
    }
   ],
   "source": [
    "tutorialspoint.head()"
   ]
  },
  {
   "cell_type": "code",
   "execution_count": 10,
   "metadata": {
    "ExecuteTime": {
     "end_time": "2019-05-10T16:07:34.440925Z",
     "start_time": "2019-05-10T16:07:34.404026Z"
    }
   },
   "outputs": [
    {
     "data": {
      "text/html": [
       "<div>\n",
       "<style scoped>\n",
       "    .dataframe tbody tr th:only-of-type {\n",
       "        vertical-align: middle;\n",
       "    }\n",
       "\n",
       "    .dataframe tbody tr th {\n",
       "        vertical-align: top;\n",
       "    }\n",
       "\n",
       "    .dataframe thead th {\n",
       "        text-align: right;\n",
       "    }\n",
       "</style>\n",
       "<table border=\"1\" class=\"dataframe\">\n",
       "  <thead>\n",
       "    <tr style=\"text-align: right;\">\n",
       "      <th></th>\n",
       "      <th>Code</th>\n",
       "      <th>Language</th>\n",
       "      <th>Title</th>\n",
       "    </tr>\n",
       "  </thead>\n",
       "  <tbody>\n",
       "    <tr>\n",
       "      <th>5542</th>\n",
       "      <td># Hello World program in Python\\n    \\nprint (\"Assessment\")\\nprint (\"angles of a triangle\")\\nA = float(input(\"enter angle A in degrees:\\n \"))\\nB = float(input(\"enter angle B in degrees:\\n\"))\\nC = round(180-A - B ,1)\\nprint (\"missing angle is\",C,\"degrees\")</td>\n",
       "      <td>python3</td>\n",
       "      <td>t,tttttriangle</td>\n",
       "    </tr>\n",
       "    <tr>\n",
       "      <th>5543</th>\n",
       "      <td>print(\"Angles of a triangle\")\\nD = float(input(\"D-A+B\\n\"))\\nA = float(input(\"enter A in degrees\\n\"))\\nB = float(input(\"enter B in degrees\\n\"))\\nC = round(A + B - D,1)\\nprint(\"angle C is\",C,\"degrees\")</td>\n",
       "      <td>python3</td>\n",
       "      <td>Triangle angles</td>\n",
       "    </tr>\n",
       "    <tr>\n",
       "      <th>5544</th>\n",
       "      <td>section\\t.text\\n   global _start\\t ;must be declared for linker (gcc)\\n\\t\\n_start:\\t         ;tell linker entry point\\n   mov\\tedx,len1  ;message length\\n   mov\\tecx,msg  ;message to write\\n   mov\\tebx,1    ;file descriptor (stdout)\\n   mov\\teax,4    ;system call number (sys_write)\\n   int\\t0x80     ;call kernel\\n\\t\\n   mov\\tedx,len2    ;message length\\n   mov\\tecx,s2   ;message to write\\n   mov\\tebx,1    ;file descriptor (stdout)\\n   mov\\teax,4    ;system call number (sys_write)\\n   int\\t0x80     ;call kernel\\n\\t\\n   mov\\teax,1    ;system call number (sys_exit)\\n   int\\t0x80     ;call kernel\\n\\t\\nsection\\t.data\\nmsg db 'Displaying 9 stars',0xa ;a message\\nlen1 equ $ - msg  ;length of message\\ns2 times 9 db '*'\\nlen2 equ $ - s2</td>\n",
       "      <td>asm</td>\n",
       "      <td>Compile and Execute Assembly Online</td>\n",
       "    </tr>\n",
       "    <tr>\n",
       "      <th>5545</th>\n",
       "      <td>BEGIN TRANSACTION;\\n\\n/* Create a table called NAMES */\\nCREATE TABLE NAMES(Id integer, Name text, PRIMARY KEY(Id), UNIQUE(Name));\\n\\n/* Create few records in this table */\\nINSERT INTO NAMES VALUES(1,'Tom');\\nINSERT INTO NAMES VALUES(2,'Lucy');\\nINSERT INTO NAMES VALUES(3,'Frank');\\nINSERT INTO NAMES VALUES(4,'Jane');\\nINSERT INTO NAMES VALUES(5,'Robert');\\nCOMMIT;\\n\\n/* Display all the records from the table */\\nSELECT Id, Name FROM NAMES N WHERE N.Name='Tom';\\n</td>\n",
       "      <td>sqlite</td>\n",
       "      <td>Execute SQL Online</td>\n",
       "    </tr>\n",
       "    <tr>\n",
       "      <th>5546</th>\n",
       "      <td>BEGIN TRANSACTION;\\n\\n/* Create a table called NAMES */\\nCREATE TABLE NAMES(Id integer PRIMARY KEY, Name text);\\n\\n/* Create few records in this table */\\nINSERT INTO NAMES VALUES(1,'Tom');\\nINSERT INTO NAMES VALUES(2,'Lucy');\\nINSERT INTO NAMES VALUES(3,'Frank');\\nINSERT INTO NAMES VALUES(4,'Jane');\\nINSERT INTO NAMES VALUES(5,'Robert');\\nCOMMIT;\\n\\n/* Display all the records from the table */\\nSELECT * FROM NAMES;</td>\n",
       "      <td>sqlite</td>\n",
       "      <td>Execute SQL Online</td>\n",
       "    </tr>\n",
       "    <tr>\n",
       "      <th>5547</th>\n",
       "      <td>print(\"angles of a triangle\")\\na=float(input(\"input angle in degrees:\\n\"))\\nb=float(input(\"input angle in degrees:\\n\"))\\nc=round(180-b-a,1)\\nif a==b and a==c and b==c:\\n    print (\"this is a equilateral triangle\")\\nelif a==b or a==c or c==b:\\n    print (\"this is a isosceles triangle\")\\nelif a==90 or b==90 or c==90:\\n        print (\"this is a right triangle\")\\nelif a==0 or b==0 or c==0:\\n    print (\"this triangle is incorrect\")\\nelse:\\n    print (\"this is a scalene triangle\")</td>\n",
       "      <td>python3</td>\n",
       "      <td>Execute Python-3 Online</td>\n",
       "    </tr>\n",
       "    <tr>\n",
       "      <th>5548</th>\n",
       "      <td>PRAGMA foreign_keys = ON;PRAGMA foreign_keys;\\r\\nBEGIN TRANSACTION;\\r\\nDROP TABLE IF EXISTS Semester;DROP TABLE IF EXISTS Professor;DROP TABLE IF EXISTS Course;DROP TABLE IF EXISTS Teaches;\\r\\n\\r\\n\\r\\nCREATE TABLE Semester (semesterID INTEGER, PRIMARY KEY(semesterID));CREATE TABLE Course (courseID INTEGER, PRIMARY KEY(courseID));CREATE TABLE Professor (professorID INTEGER, PRIMARY KEY(professorID));\\r\\n\\r\\nCREATE TABLE Teaches (courseID INTEGER, semesterID INTEGER, professorID INTEGER,  PRIMARY KEY(courseID,semesterID,professorID),    FOREIGN KEY (courseID) REFERENCES Course,    FOREIGN KEY (professorID) REFERENCES Professor,    FOREIGN KEY (semesterID) REFERENCES Semester    );\\r\\n\\r\\nDROP TABLE IF EXISTS Semester;DROP TABLE IF EXISTS Professor;DROP TABLE IF EXISTS Course;DROP TABLE IF EXISTS Teaches;\\r\\n/* This is a comment *//* Example 3.14 */\\r\\nDROP TABLE IF EXISTS Employees;DROP TABLE IF EXISTS Manages;DROP TABLE IF EXISTS Works_In;DROP TABLE IF EXISTS Departments;DROP TABLE IF EXISTS Dependent_Child;\\r\\n/* Simple tables without reference */\\r\\nCREATE TABLE Employees(ssn INTEGER, salary REAL, phone INTEGER, PRIMARY KEY (ssn));\\r\\nCREATE TABLE Departments (dno INTEGER, dname CHAR(20), budget REAL, PRIMARY KEY (dno));\\r\\n/* Now the tables for the relationship sets */\\r\\nCREATE TABLE Works_In(ssn INTEGER, dno INTEGER, PRIMARY KEY(ssn,dno), FOREIGN KEY (dno) REFERENCES Departments, FOREIGN KEY (ssn) REFERENCES Employees);\\r\\nCREATE TABLE Manages(ssn INTEGER, dno INTEGER, PRIMARY KEY(dno), FOREIGN KEY (dno) REFERENCES Departments, FOREIGN KEY (ssn) REFERENCES Employees);\\r\\nCREATE TABLE Dependent_Child(name CHAR(20), age INTEGER, ssn INTEGER NOT NULL, PRIMARY KEY(name, ssn), FOREIGN KEY (ssn) REFERENCES Employees (ssn) ON DELETE CASCADE);\\r\\nINSERT INTO Employees VALUES(111, 2100.0, 6067);INSERT INTO Employees VALUES(222, 2100.0, 5067);INSERT INTO Employees VALUES(333, 2100.0, 3067);\\r\\nINSERT INTO Departments VALUES(11,'Database Dept.', 29387.0);INSERT INTO Departments VALUES(22,'Foobar', 329387.0);INSERT INTO Departments VALUES(32,'Mathe Dept.', 3249387.0);INSERT INTO Departments VALUES(34,'Statistics Dept.', 3249387.0);\\r\\nINSERT INTO Dependent_Child VALUES('Emil', 3, 222);INSERT INTO Dependent_Child VALUES('Alwin', 6, 111);INSERT INTO Dependent_Child VALUES('Elisa', 7, 222);INSERT INTO Dependent_Child VALUES('Ina', 3, 111);INSERT INTO Dependent_Child VALUES('Ina', 3, 222);\\r\\nCOMMIT;\\r\\nSELECT * FROM Dependent_Child;/*SELECT * FROM Employees; */BEGIN TRANSACTION;DELETE FROM Employees WHERE ssn = 111;COMMIT;\\r\\nSELECT * FROM Employees;SELECT * FROM Dependent_Child;\\r\\n\\r\\n\\r\\n\\r\\n\\r\\n\\r\\n\\r\\n\\r\\n\\r\\n\\r\\n\\r\\n\\r\\n\\r\\n\\r\\n\\r\\n\\r\\n\\r\\n\\r\\n\\r\\n\\r\\n</td>\n",
       "      <td>sqlite</td>\n",
       "      <td>Execute SQL Online</td>\n",
       "    </tr>\n",
       "    <tr>\n",
       "      <th>5549</th>\n",
       "      <td>import java.math.BigInteger;\\nimport java.security.InvalidKeyException;\\nimport java.security.NoSuchAlgorithmException;\\nimport java.util.Arrays;\\nimport java.util.Base64;\\nimport javax.crypto.BadPaddingException;\\nimport javax.crypto.Cipher;\\nimport javax.crypto.IllegalBlockSizeException;\\nimport javax.crypto.NoSuchPaddingException;\\nimport javax.crypto.SecretKey;\\nimport javax.crypto.spec.SecretKeySpec;\\nimport javax.xml.bind.DatatypeConverter;\\n\\n\\npublic class HelloWorld{\\n\\n    static final byte []key = new byte[] {'5', '8', 'E', '5', 'B', '9', '1', 'D', '0', '4', 'E', '4', '3', '5', '0', '2'};\\n\\n     public static void main(String []args)\\n     {\\n         \\n          try {\\n            String msg = \"T725;63;6546777;\"; \\n\\n            System.out.println(\"key: \" + new String(key));\\n            System.out.println(\"hex(key): \" + new BigInteger(key).toString(16));\\n            System.out.println(\"msg: \" + msg);\\n            String enc = HelloWorld.encrypt(msg);\\n            System.out.println(enc);\\n          }\\n        catch (Exception e)\\n        {\\n            System.out.println(\"error: \" + e.getLocalizedMessage());\\n        }\\n     }\\n     \\n     public static String encrypt(String message)\\n    {\\n        String r = \"\";\\n        try {\\n            SecretKey secretKey = new SecretKeySpec(key, \"AES\");\\n           final Cipher cipher = Cipher.getInstance(\"AES/ECB/PKCS5Padding\");\\n            //final Cipher cipher = Cipher.getInstance(\"AES/ECB/NoPadding\");\\n            cipher.init(Cipher.ENCRYPT_MODE, secretKey);\\n            byte[] encrypted = cipher.doFinal(message.getBytes());\\n            r = Base64.getEncoder().encodeToString(encrypted);\\n        }\\n        catch (NoSuchAlgorithmException | NoSuchPaddingException \\n                | InvalidKeyException | IllegalBlockSizeException | BadPaddingException e)\\n        {\\n            System.out.println(\"error: \" + e.getLocalizedMessage());\\n        }\\n        return r;\\n    }\\n}</td>\n",
       "      <td>java</td>\n",
       "      <td>aesjava</td>\n",
       "    </tr>\n",
       "    <tr>\n",
       "      <th>5550</th>\n",
       "      <td>#include &lt;stdio.h&gt;\\n\\nint main()\\n{\\n int a;\\n \\n    printf(\"Enter a number:\\n\" );\\n    scanf(\"%d\",&amp;a);\\n { \\n   if(a%2==0)\\nprintf(\"The number is Even\\n\" );\\n}   \\n{\\n   else if(a%2==1)\\n\\nprintf(\"The number is Odd\\n\");\\n}    \\n  return 0;\\n}</td>\n",
       "      <td>c</td>\n",
       "      <td>Ages</td>\n",
       "    </tr>\n",
       "    <tr>\n",
       "      <th>5551</th>\n",
       "      <td>public class HelloWorld{\\n\\n     public static void main(String []args){\\n         int a=7;\\n         int b=7;\\n         boolean x,y,z;\\n         x=a%2==0;\\n         y=b%2==0;\\n         z=x||y;\\n         \\n        System.out.println(z);\\n     }\\n}</td>\n",
       "      <td>java</td>\n",
       "      <td>Compile and Execute Java Online</td>\n",
       "    </tr>\n",
       "    <tr>\n",
       "      <th>5552</th>\n",
       "      <td># Hello World program in Python\\n    \\nprint \"Hello World!\\n\"\\n</td>\n",
       "      <td>python</td>\n",
       "      <td>Execute Python Online</td>\n",
       "    </tr>\n",
       "    <tr>\n",
       "      <th>5553</th>\n",
       "      <td># Hello World program in Python\\n    \\nprint (\"Hello World!\");\\njhhchdjglfxh</td>\n",
       "      <td>python3</td>\n",
       "      <td>lmkpokl</td>\n",
       "    </tr>\n",
       "    <tr>\n",
       "      <th>5554</th>\n",
       "      <td>col = 1\\ntotal = ''\\n\\nwhile col &lt; 10:\\n    row = 1 \\n    while row &lt; 10 :\\n        total += str(row) + ' x ' + str(col) + '  '\\n        row += 1\\n        if row == 10:\\n            total += '\\n'\\n    col +=1\\n    \\nprint(total)</td>\n",
       "      <td>python</td>\n",
       "      <td>ninexnine</td>\n",
       "    </tr>\n",
       "    <tr>\n",
       "      <th>5555</th>\n",
       "      <td>&lt;!DOCTYPE html&gt;\\n&lt;html&gt;\\n&lt;head&gt;\\n&lt;style&gt;\\n.myclass * { \\n    display: block;\\n    border: 2px solid blue;\\n    color: red;\\n    padding: 5px;\\n    margin:10px;\\n}\\n&lt;/style&gt;\\n&lt;script src=\"https://ajax.googleapis.com/ajax/libs/jquery/3.2.1/jquery.min.js\"&gt;&lt;/script&gt;\\n&lt;script&gt;\\n$(document).ready(function(){\\n    $('ol','this').css({\"color\": \"maroon\", \"border\": \"5px solid maroon\"});\\n});\\n&lt;/script&gt;\\n&lt;/head&gt;\\n\\n&lt;body class=\"myclass\"&gt;body\\n  &lt;div style=\"width:500px;\"&gt;div\\n    &lt;ol&gt;ol - This is the third ancestor \\n    &lt;ol&gt;ol - This is the second ancestor\\n      &lt;li&gt;li - This is the direct parent element\\n        &lt;span&gt;demo&lt;/span&gt;\\n        &lt;span class=\"one\"&gt;demo - using class selector with closest() method&lt;/span&gt;\\n      &lt;/li&gt;\\n    &lt;/ol&gt;\\n    &lt;/ol&gt;   \\n  &lt;/div&gt;\\n&lt;/body&gt;</td>\n",
       "      <td>jquery</td>\n",
       "      <td>akash1</td>\n",
       "    </tr>\n",
       "    <tr>\n",
       "      <th>5556</th>\n",
       "      <td>Unable to open file!</td>\n",
       "      <td>python</td>\n",
       "      <td>Execute Python Online</td>\n",
       "    </tr>\n",
       "  </tbody>\n",
       "</table>\n",
       "</div>"
      ],
      "text/plain": [
       "                                                                                                                                                                                                                                                                                                                                                                                                                                                                                                                                                                                                                                                                                                                                                                                                                                                                                                                                                                                                                                                                                                                                                                                                                                                                                                                                                                                                                                                                                                                                                                                                                                                                                                                                                                                                                                                                                                                                                                                                                                                                                                                                                                                                                                                                                                                                                                                                                                                                                                                                                                                                                                                                                                                                                                                                         Code  \\\n",
       "5542  # Hello World program in Python\\n    \\nprint (\"Assessment\")\\nprint (\"angles of a triangle\")\\nA = float(input(\"enter angle A in degrees:\\n \"))\\nB = float(input(\"enter angle B in degrees:\\n\"))\\nC = round(180-A - B ,1)\\nprint (\"missing angle is\",C,\"degrees\")                                                                                                                                                                                                                                                                                                                                                                                                                                                                                                                                                                                                                                                                                                                                                                                                                                                                                                                                                                                                                                                                                                                                                                                                                                                                                                                                                                                                                                                                                                                                                                                                                                                                                                                                                                                                                                                                                                                                                                                                                                                                                                                                                                                                                                                                                                                                                                                                                                                                                                                                           \n",
       "5543  print(\"Angles of a triangle\")\\nD = float(input(\"D-A+B\\n\"))\\nA = float(input(\"enter A in degrees\\n\"))\\nB = float(input(\"enter B in degrees\\n\"))\\nC = round(A + B - D,1)\\nprint(\"angle C is\",C,\"degrees\")                                                                                                                                                                                                                                                                                                                                                                                                                                                                                                                                                                                                                                                                                                                                                                                                                                                                                                                                                                                                                                                                                                                                                                                                                                                                                                                                                                                                                                                                                                                                                                                                                                                                                                                                                                                                                                                                                                                                                                                                                                                                                                                                                                                                                                                                                                                                                                                                                                                                                                                                                                                                   \n",
       "5544  section\\t.text\\n   global _start\\t ;must be declared for linker (gcc)\\n\\t\\n_start:\\t         ;tell linker entry point\\n   mov\\tedx,len1  ;message length\\n   mov\\tecx,msg  ;message to write\\n   mov\\tebx,1    ;file descriptor (stdout)\\n   mov\\teax,4    ;system call number (sys_write)\\n   int\\t0x80     ;call kernel\\n\\t\\n   mov\\tedx,len2    ;message length\\n   mov\\tecx,s2   ;message to write\\n   mov\\tebx,1    ;file descriptor (stdout)\\n   mov\\teax,4    ;system call number (sys_write)\\n   int\\t0x80     ;call kernel\\n\\t\\n   mov\\teax,1    ;system call number (sys_exit)\\n   int\\t0x80     ;call kernel\\n\\t\\nsection\\t.data\\nmsg db 'Displaying 9 stars',0xa ;a message\\nlen1 equ $ - msg  ;length of message\\ns2 times 9 db '*'\\nlen2 equ $ - s2                                                                                                                                                                                                                                                                                                                                                                                                                                                                                                                                                                                                                                                                                                                                                                                                                                                                                                                                                                                                                                                                                                                                                                                                                                                                                                                                                                                                                                                                                                                                                                                                                                                                                                                                                                                                                                                                                                                                                                                                                                         \n",
       "5545  BEGIN TRANSACTION;\\n\\n/* Create a table called NAMES */\\nCREATE TABLE NAMES(Id integer, Name text, PRIMARY KEY(Id), UNIQUE(Name));\\n\\n/* Create few records in this table */\\nINSERT INTO NAMES VALUES(1,'Tom');\\nINSERT INTO NAMES VALUES(2,'Lucy');\\nINSERT INTO NAMES VALUES(3,'Frank');\\nINSERT INTO NAMES VALUES(4,'Jane');\\nINSERT INTO NAMES VALUES(5,'Robert');\\nCOMMIT;\\n\\n/* Display all the records from the table */\\nSELECT Id, Name FROM NAMES N WHERE N.Name='Tom';\\n                                                                                                                                                                                                                                                                                                                                                                                                                                                                                                                                                                                                                                                                                                                                                                                                                                                                                                                                                                                                                                                                                                                                                                                                                                                                                                                                                                                                                                                                                                                                                                                                                                                                                                                                                                                                                                                                                                                                                                                                                                                                                                                                                                                                                                                                                                                      \n",
       "5546  BEGIN TRANSACTION;\\n\\n/* Create a table called NAMES */\\nCREATE TABLE NAMES(Id integer PRIMARY KEY, Name text);\\n\\n/* Create few records in this table */\\nINSERT INTO NAMES VALUES(1,'Tom');\\nINSERT INTO NAMES VALUES(2,'Lucy');\\nINSERT INTO NAMES VALUES(3,'Frank');\\nINSERT INTO NAMES VALUES(4,'Jane');\\nINSERT INTO NAMES VALUES(5,'Robert');\\nCOMMIT;\\n\\n/* Display all the records from the table */\\nSELECT * FROM NAMES;                                                                                                                                                                                                                                                                                                                                                                                                                                                                                                                                                                                                                                                                                                                                                                                                                                                                                                                                                                                                                                                                                                                                                                                                                                                                                                                                                                                                                                                                                                                                                                                                                                                                                                                                                                                                                                                                                                                                                                                                                                                                                                                                                                                                                                                                                                                                                                       \n",
       "5547  print(\"angles of a triangle\")\\na=float(input(\"input angle in degrees:\\n\"))\\nb=float(input(\"input angle in degrees:\\n\"))\\nc=round(180-b-a,1)\\nif a==b and a==c and b==c:\\n    print (\"this is a equilateral triangle\")\\nelif a==b or a==c or c==b:\\n    print (\"this is a isosceles triangle\")\\nelif a==90 or b==90 or c==90:\\n        print (\"this is a right triangle\")\\nelif a==0 or b==0 or c==0:\\n    print (\"this triangle is incorrect\")\\nelse:\\n    print (\"this is a scalene triangle\")                                                                                                                                                                                                                                                                                                                                                                                                                                                                                                                                                                                                                                                                                                                                                                                                                                                                                                                                                                                                                                                                                                                                                                                                                                                                                                                                                                                                                                                                                                                                                                                                                                                                                                                                                                                                                                                                                                                                                                                                                                                                                                                                                                                                                                                                                                           \n",
       "5548  PRAGMA foreign_keys = ON;PRAGMA foreign_keys;\\r\\nBEGIN TRANSACTION;\\r\\nDROP TABLE IF EXISTS Semester;DROP TABLE IF EXISTS Professor;DROP TABLE IF EXISTS Course;DROP TABLE IF EXISTS Teaches;\\r\\n\\r\\n\\r\\nCREATE TABLE Semester (semesterID INTEGER, PRIMARY KEY(semesterID));CREATE TABLE Course (courseID INTEGER, PRIMARY KEY(courseID));CREATE TABLE Professor (professorID INTEGER, PRIMARY KEY(professorID));\\r\\n\\r\\nCREATE TABLE Teaches (courseID INTEGER, semesterID INTEGER, professorID INTEGER,  PRIMARY KEY(courseID,semesterID,professorID),    FOREIGN KEY (courseID) REFERENCES Course,    FOREIGN KEY (professorID) REFERENCES Professor,    FOREIGN KEY (semesterID) REFERENCES Semester    );\\r\\n\\r\\nDROP TABLE IF EXISTS Semester;DROP TABLE IF EXISTS Professor;DROP TABLE IF EXISTS Course;DROP TABLE IF EXISTS Teaches;\\r\\n/* This is a comment *//* Example 3.14 */\\r\\nDROP TABLE IF EXISTS Employees;DROP TABLE IF EXISTS Manages;DROP TABLE IF EXISTS Works_In;DROP TABLE IF EXISTS Departments;DROP TABLE IF EXISTS Dependent_Child;\\r\\n/* Simple tables without reference */\\r\\nCREATE TABLE Employees(ssn INTEGER, salary REAL, phone INTEGER, PRIMARY KEY (ssn));\\r\\nCREATE TABLE Departments (dno INTEGER, dname CHAR(20), budget REAL, PRIMARY KEY (dno));\\r\\n/* Now the tables for the relationship sets */\\r\\nCREATE TABLE Works_In(ssn INTEGER, dno INTEGER, PRIMARY KEY(ssn,dno), FOREIGN KEY (dno) REFERENCES Departments, FOREIGN KEY (ssn) REFERENCES Employees);\\r\\nCREATE TABLE Manages(ssn INTEGER, dno INTEGER, PRIMARY KEY(dno), FOREIGN KEY (dno) REFERENCES Departments, FOREIGN KEY (ssn) REFERENCES Employees);\\r\\nCREATE TABLE Dependent_Child(name CHAR(20), age INTEGER, ssn INTEGER NOT NULL, PRIMARY KEY(name, ssn), FOREIGN KEY (ssn) REFERENCES Employees (ssn) ON DELETE CASCADE);\\r\\nINSERT INTO Employees VALUES(111, 2100.0, 6067);INSERT INTO Employees VALUES(222, 2100.0, 5067);INSERT INTO Employees VALUES(333, 2100.0, 3067);\\r\\nINSERT INTO Departments VALUES(11,'Database Dept.', 29387.0);INSERT INTO Departments VALUES(22,'Foobar', 329387.0);INSERT INTO Departments VALUES(32,'Mathe Dept.', 3249387.0);INSERT INTO Departments VALUES(34,'Statistics Dept.', 3249387.0);\\r\\nINSERT INTO Dependent_Child VALUES('Emil', 3, 222);INSERT INTO Dependent_Child VALUES('Alwin', 6, 111);INSERT INTO Dependent_Child VALUES('Elisa', 7, 222);INSERT INTO Dependent_Child VALUES('Ina', 3, 111);INSERT INTO Dependent_Child VALUES('Ina', 3, 222);\\r\\nCOMMIT;\\r\\nSELECT * FROM Dependent_Child;/*SELECT * FROM Employees; */BEGIN TRANSACTION;DELETE FROM Employees WHERE ssn = 111;COMMIT;\\r\\nSELECT * FROM Employees;SELECT * FROM Dependent_Child;\\r\\n\\r\\n\\r\\n\\r\\n\\r\\n\\r\\n\\r\\n\\r\\n\\r\\n\\r\\n\\r\\n\\r\\n\\r\\n\\r\\n\\r\\n\\r\\n\\r\\n\\r\\n\\r\\n\\r\\n   \n",
       "5549  import java.math.BigInteger;\\nimport java.security.InvalidKeyException;\\nimport java.security.NoSuchAlgorithmException;\\nimport java.util.Arrays;\\nimport java.util.Base64;\\nimport javax.crypto.BadPaddingException;\\nimport javax.crypto.Cipher;\\nimport javax.crypto.IllegalBlockSizeException;\\nimport javax.crypto.NoSuchPaddingException;\\nimport javax.crypto.SecretKey;\\nimport javax.crypto.spec.SecretKeySpec;\\nimport javax.xml.bind.DatatypeConverter;\\n\\n\\npublic class HelloWorld{\\n\\n    static final byte []key = new byte[] {'5', '8', 'E', '5', 'B', '9', '1', 'D', '0', '4', 'E', '4', '3', '5', '0', '2'};\\n\\n     public static void main(String []args)\\n     {\\n         \\n          try {\\n            String msg = \"T725;63;6546777;\"; \\n\\n            System.out.println(\"key: \" + new String(key));\\n            System.out.println(\"hex(key): \" + new BigInteger(key).toString(16));\\n            System.out.println(\"msg: \" + msg);\\n            String enc = HelloWorld.encrypt(msg);\\n            System.out.println(enc);\\n          }\\n        catch (Exception e)\\n        {\\n            System.out.println(\"error: \" + e.getLocalizedMessage());\\n        }\\n     }\\n     \\n     public static String encrypt(String message)\\n    {\\n        String r = \"\";\\n        try {\\n            SecretKey secretKey = new SecretKeySpec(key, \"AES\");\\n           final Cipher cipher = Cipher.getInstance(\"AES/ECB/PKCS5Padding\");\\n            //final Cipher cipher = Cipher.getInstance(\"AES/ECB/NoPadding\");\\n            cipher.init(Cipher.ENCRYPT_MODE, secretKey);\\n            byte[] encrypted = cipher.doFinal(message.getBytes());\\n            r = Base64.getEncoder().encodeToString(encrypted);\\n        }\\n        catch (NoSuchAlgorithmException | NoSuchPaddingException \\n                | InvalidKeyException | IllegalBlockSizeException | BadPaddingException e)\\n        {\\n            System.out.println(\"error: \" + e.getLocalizedMessage());\\n        }\\n        return r;\\n    }\\n}                                                                                                                                                                                                                                                                                                                                                                                                                                                                                                                                                                                                                                                                                                                                                            \n",
       "5550  #include <stdio.h>\\n\\nint main()\\n{\\n int a;\\n \\n    printf(\"Enter a number:\\n\" );\\n    scanf(\"%d\",&a);\\n { \\n   if(a%2==0)\\nprintf(\"The number is Even\\n\" );\\n}   \\n{\\n   else if(a%2==1)\\n\\nprintf(\"The number is Odd\\n\");\\n}    \\n  return 0;\\n}                                                                                                                                                                                                                                                                                                                                                                                                                                                                                                                                                                                                                                                                                                                                                                                                                                                                                                                                                                                                                                                                                                                                                                                                                                                                                                                                                                                                                                                                                                                                                                                                                                                                                                                                                                                                                                                                                                                                                                                                                                                                                                                                                                                                                                                                                                                                                                                                                                                                                                                                                       \n",
       "5551  public class HelloWorld{\\n\\n     public static void main(String []args){\\n         int a=7;\\n         int b=7;\\n         boolean x,y,z;\\n         x=a%2==0;\\n         y=b%2==0;\\n         z=x||y;\\n         \\n        System.out.println(z);\\n     }\\n}                                                                                                                                                                                                                                                                                                                                                                                                                                                                                                                                                                                                                                                                                                                                                                                                                                                                                                                                                                                                                                                                                                                                                                                                                                                                                                                                                                                                                                                                                                                                                                                                                                                                                                                                                                                                                                                                                                                                                                                                                                                                                                                                                                                                                                                                                                                                                                                                                                                                                                                                                   \n",
       "5552  # Hello World program in Python\\n    \\nprint \"Hello World!\\n\"\\n                                                                                                                                                                                                                                                                                                                                                                                                                                                                                                                                                                                                                                                                                                                                                                                                                                                                                                                                                                                                                                                                                                                                                                                                                                                                                                                                                                                                                                                                                                                                                                                                                                                                                                                                                                                                                                                                                                                                                                                                                                                                                                                                                                                                                                                                                                                                                                                                                                                                                                                                                                                                                                                                                                                                           \n",
       "5553  # Hello World program in Python\\n    \\nprint (\"Hello World!\");\\njhhchdjglfxh                                                                                                                                                                                                                                                                                                                                                                                                                                                                                                                                                                                                                                                                                                                                                                                                                                                                                                                                                                                                                                                                                                                                                                                                                                                                                                                                                                                                                                                                                                                                                                                                                                                                                                                                                                                                                                                                                                                                                                                                                                                                                                                                                                                                                                                                                                                                                                                                                                                                                                                                                                                                                                                                                                                              \n",
       "5554  col = 1\\ntotal = ''\\n\\nwhile col < 10:\\n    row = 1 \\n    while row < 10 :\\n        total += str(row) + ' x ' + str(col) + '  '\\n        row += 1\\n        if row == 10:\\n            total += '\\n'\\n    col +=1\\n    \\nprint(total)                                                                                                                                                                                                                                                                                                                                                                                                                                                                                                                                                                                                                                                                                                                                                                                                                                                                                                                                                                                                                                                                                                                                                                                                                                                                                                                                                                                                                                                                                                                                                                                                                                                                                                                                                                                                                                                                                                                                                                                                                                                                                                                                                                                                                                                                                                                                                                                                                                                                                                                                                                      \n",
       "5555  <!DOCTYPE html>\\n<html>\\n<head>\\n<style>\\n.myclass * { \\n    display: block;\\n    border: 2px solid blue;\\n    color: red;\\n    padding: 5px;\\n    margin:10px;\\n}\\n</style>\\n<script src=\"https://ajax.googleapis.com/ajax/libs/jquery/3.2.1/jquery.min.js\"></script>\\n<script>\\n$(document).ready(function(){\\n    $('ol','this').css({\"color\": \"maroon\", \"border\": \"5px solid maroon\"});\\n});\\n</script>\\n</head>\\n\\n<body class=\"myclass\">body\\n  <div style=\"width:500px;\">div\\n    <ol>ol - This is the third ancestor \\n    <ol>ol - This is the second ancestor\\n      <li>li - This is the direct parent element\\n        <span>demo</span>\\n        <span class=\"one\">demo - using class selector with closest() method</span>\\n      </li>\\n    </ol>\\n    </ol>   \\n  </div>\\n</body>                                                                                                                                                                                                                                                                                                                                                                                                                                                                                                                                                                                                                                                                                                                                                                                                                                                                                                                                                                                                                                                                                                                                                                                                                                                                                                                                                                                                                                                                                                                                                                                                                                                                                                                                                                                                                                                                                                                                                                                                         \n",
       "5556  Unable to open file!                                                                                                                                                                                                                                                                                                                                                                                                                                                                                                                                                                                                                                                                                                                                                                                                                                                                                                                                                                                                                                                                                                                                                                                                                                                                                                                                                                                                                                                                                                                                                                                                                                                                                                                                                                                                                                                                                                                                                                                                                                                                                                                                                                                                                                                                                                                                                                                                                                                                                                                                                                                                                                                                                                                                                                                      \n",
       "\n",
       "     Language                                Title  \n",
       "5542  python3  t,tttttriangle                       \n",
       "5543  python3  Triangle angles                      \n",
       "5544  asm      Compile and Execute Assembly Online  \n",
       "5545  sqlite   Execute SQL Online                   \n",
       "5546  sqlite   Execute SQL Online                   \n",
       "5547  python3  Execute Python-3 Online              \n",
       "5548  sqlite   Execute SQL Online                   \n",
       "5549  java     aesjava                              \n",
       "5550  c        Ages                                 \n",
       "5551  java     Compile and Execute Java Online      \n",
       "5552  python   Execute Python Online                \n",
       "5553  python3  lmkpokl                              \n",
       "5554  python   ninexnine                            \n",
       "5555  jquery   akash1                               \n",
       "5556  python   Execute Python Online                "
      ]
     },
     "execution_count": 10,
     "metadata": {},
     "output_type": "execute_result"
    }
   ],
   "source": [
    "tutorialspoint.tail(15)"
   ]
  },
  {
   "cell_type": "code",
   "execution_count": 11,
   "metadata": {
    "ExecuteTime": {
     "end_time": "2019-05-10T16:08:53.884957Z",
     "start_time": "2019-05-10T16:08:47.857602Z"
    }
   },
   "outputs": [],
   "source": [
    "tutorialspoint.to_csv('E:\\\\Scrapped-Data\\\\TutorialsPointProgrammingExamples.csv', index=False)"
   ]
  },
  {
   "cell_type": "markdown",
   "metadata": {},
   "source": [
    "## Take 2"
   ]
  },
  {
   "cell_type": "code",
   "execution_count": 17,
   "metadata": {
    "ExecuteTime": {
     "end_time": "2019-05-10T16:12:28.274798Z",
     "start_time": "2019-05-10T16:12:28.140160Z"
    }
   },
   "outputs": [
    {
     "ename": "ParserError",
     "evalue": "Error tokenizing data. C error: Buffer overflow caught - possible malformed input file.\n",
     "output_type": "error",
     "traceback": [
      "\u001b[1;31m---------------------------------------------------------------------------\u001b[0m",
      "\u001b[1;31mParserError\u001b[0m                               Traceback (most recent call last)",
      "\u001b[1;32m<ipython-input-17-929724b93384>\u001b[0m in \u001b[0;36m<module>\u001b[1;34m\u001b[0m\n\u001b[1;32m----> 1\u001b[1;33m \u001b[0mtutorialspoint\u001b[0m \u001b[1;33m=\u001b[0m \u001b[0mpd\u001b[0m\u001b[1;33m.\u001b[0m\u001b[0mread_csv\u001b[0m\u001b[1;33m(\u001b[0m\u001b[1;34m'E://Scrapped-Data/TutorialsPointProgrammingExamples.csv'\u001b[0m\u001b[1;33m,\u001b[0m \u001b[0mencoding\u001b[0m\u001b[1;33m=\u001b[0m\u001b[1;34m'UTF-8'\u001b[0m\u001b[1;33m)\u001b[0m\u001b[1;33m\u001b[0m\u001b[1;33m\u001b[0m\u001b[0m\n\u001b[0m",
      "\u001b[1;32mD:\\Users\\Ritvik\\Anaconda3\\envs\\datascience\\lib\\site-packages\\pandas\\io\\parsers.py\u001b[0m in \u001b[0;36mparser_f\u001b[1;34m(filepath_or_buffer, sep, delimiter, header, names, index_col, usecols, squeeze, prefix, mangle_dupe_cols, dtype, engine, converters, true_values, false_values, skipinitialspace, skiprows, nrows, na_values, keep_default_na, na_filter, verbose, skip_blank_lines, parse_dates, infer_datetime_format, keep_date_col, date_parser, dayfirst, iterator, chunksize, compression, thousands, decimal, lineterminator, quotechar, quoting, escapechar, comment, encoding, dialect, tupleize_cols, error_bad_lines, warn_bad_lines, skipfooter, doublequote, delim_whitespace, low_memory, memory_map, float_precision)\u001b[0m\n\u001b[0;32m    676\u001b[0m                     skip_blank_lines=skip_blank_lines)\n\u001b[0;32m    677\u001b[0m \u001b[1;33m\u001b[0m\u001b[0m\n\u001b[1;32m--> 678\u001b[1;33m         \u001b[1;32mreturn\u001b[0m \u001b[0m_read\u001b[0m\u001b[1;33m(\u001b[0m\u001b[0mfilepath_or_buffer\u001b[0m\u001b[1;33m,\u001b[0m \u001b[0mkwds\u001b[0m\u001b[1;33m)\u001b[0m\u001b[1;33m\u001b[0m\u001b[1;33m\u001b[0m\u001b[0m\n\u001b[0m\u001b[0;32m    679\u001b[0m \u001b[1;33m\u001b[0m\u001b[0m\n\u001b[0;32m    680\u001b[0m     \u001b[0mparser_f\u001b[0m\u001b[1;33m.\u001b[0m\u001b[0m__name__\u001b[0m \u001b[1;33m=\u001b[0m \u001b[0mname\u001b[0m\u001b[1;33m\u001b[0m\u001b[1;33m\u001b[0m\u001b[0m\n",
      "\u001b[1;32mD:\\Users\\Ritvik\\Anaconda3\\envs\\datascience\\lib\\site-packages\\pandas\\io\\parsers.py\u001b[0m in \u001b[0;36m_read\u001b[1;34m(filepath_or_buffer, kwds)\u001b[0m\n\u001b[0;32m    444\u001b[0m \u001b[1;33m\u001b[0m\u001b[0m\n\u001b[0;32m    445\u001b[0m     \u001b[1;32mtry\u001b[0m\u001b[1;33m:\u001b[0m\u001b[1;33m\u001b[0m\u001b[1;33m\u001b[0m\u001b[0m\n\u001b[1;32m--> 446\u001b[1;33m         \u001b[0mdata\u001b[0m \u001b[1;33m=\u001b[0m \u001b[0mparser\u001b[0m\u001b[1;33m.\u001b[0m\u001b[0mread\u001b[0m\u001b[1;33m(\u001b[0m\u001b[0mnrows\u001b[0m\u001b[1;33m)\u001b[0m\u001b[1;33m\u001b[0m\u001b[1;33m\u001b[0m\u001b[0m\n\u001b[0m\u001b[0;32m    447\u001b[0m     \u001b[1;32mfinally\u001b[0m\u001b[1;33m:\u001b[0m\u001b[1;33m\u001b[0m\u001b[1;33m\u001b[0m\u001b[0m\n\u001b[0;32m    448\u001b[0m         \u001b[0mparser\u001b[0m\u001b[1;33m.\u001b[0m\u001b[0mclose\u001b[0m\u001b[1;33m(\u001b[0m\u001b[1;33m)\u001b[0m\u001b[1;33m\u001b[0m\u001b[1;33m\u001b[0m\u001b[0m\n",
      "\u001b[1;32mD:\\Users\\Ritvik\\Anaconda3\\envs\\datascience\\lib\\site-packages\\pandas\\io\\parsers.py\u001b[0m in \u001b[0;36mread\u001b[1;34m(self, nrows)\u001b[0m\n\u001b[0;32m   1034\u001b[0m                 \u001b[1;32mraise\u001b[0m \u001b[0mValueError\u001b[0m\u001b[1;33m(\u001b[0m\u001b[1;34m'skipfooter not supported for iteration'\u001b[0m\u001b[1;33m)\u001b[0m\u001b[1;33m\u001b[0m\u001b[1;33m\u001b[0m\u001b[0m\n\u001b[0;32m   1035\u001b[0m \u001b[1;33m\u001b[0m\u001b[0m\n\u001b[1;32m-> 1036\u001b[1;33m         \u001b[0mret\u001b[0m \u001b[1;33m=\u001b[0m \u001b[0mself\u001b[0m\u001b[1;33m.\u001b[0m\u001b[0m_engine\u001b[0m\u001b[1;33m.\u001b[0m\u001b[0mread\u001b[0m\u001b[1;33m(\u001b[0m\u001b[0mnrows\u001b[0m\u001b[1;33m)\u001b[0m\u001b[1;33m\u001b[0m\u001b[1;33m\u001b[0m\u001b[0m\n\u001b[0m\u001b[0;32m   1037\u001b[0m \u001b[1;33m\u001b[0m\u001b[0m\n\u001b[0;32m   1038\u001b[0m         \u001b[1;31m# May alter columns / col_dict\u001b[0m\u001b[1;33m\u001b[0m\u001b[1;33m\u001b[0m\u001b[1;33m\u001b[0m\u001b[0m\n",
      "\u001b[1;32mD:\\Users\\Ritvik\\Anaconda3\\envs\\datascience\\lib\\site-packages\\pandas\\io\\parsers.py\u001b[0m in \u001b[0;36mread\u001b[1;34m(self, nrows)\u001b[0m\n\u001b[0;32m   1846\u001b[0m     \u001b[1;32mdef\u001b[0m \u001b[0mread\u001b[0m\u001b[1;33m(\u001b[0m\u001b[0mself\u001b[0m\u001b[1;33m,\u001b[0m \u001b[0mnrows\u001b[0m\u001b[1;33m=\u001b[0m\u001b[1;32mNone\u001b[0m\u001b[1;33m)\u001b[0m\u001b[1;33m:\u001b[0m\u001b[1;33m\u001b[0m\u001b[1;33m\u001b[0m\u001b[0m\n\u001b[0;32m   1847\u001b[0m         \u001b[1;32mtry\u001b[0m\u001b[1;33m:\u001b[0m\u001b[1;33m\u001b[0m\u001b[1;33m\u001b[0m\u001b[0m\n\u001b[1;32m-> 1848\u001b[1;33m             \u001b[0mdata\u001b[0m \u001b[1;33m=\u001b[0m \u001b[0mself\u001b[0m\u001b[1;33m.\u001b[0m\u001b[0m_reader\u001b[0m\u001b[1;33m.\u001b[0m\u001b[0mread\u001b[0m\u001b[1;33m(\u001b[0m\u001b[0mnrows\u001b[0m\u001b[1;33m)\u001b[0m\u001b[1;33m\u001b[0m\u001b[1;33m\u001b[0m\u001b[0m\n\u001b[0m\u001b[0;32m   1849\u001b[0m         \u001b[1;32mexcept\u001b[0m \u001b[0mStopIteration\u001b[0m\u001b[1;33m:\u001b[0m\u001b[1;33m\u001b[0m\u001b[1;33m\u001b[0m\u001b[0m\n\u001b[0;32m   1850\u001b[0m             \u001b[1;32mif\u001b[0m \u001b[0mself\u001b[0m\u001b[1;33m.\u001b[0m\u001b[0m_first_chunk\u001b[0m\u001b[1;33m:\u001b[0m\u001b[1;33m\u001b[0m\u001b[1;33m\u001b[0m\u001b[0m\n",
      "\u001b[1;32mpandas\\_libs\\parsers.pyx\u001b[0m in \u001b[0;36mpandas._libs.parsers.TextReader.read\u001b[1;34m()\u001b[0m\n",
      "\u001b[1;32mpandas\\_libs\\parsers.pyx\u001b[0m in \u001b[0;36mpandas._libs.parsers.TextReader._read_low_memory\u001b[1;34m()\u001b[0m\n",
      "\u001b[1;32mpandas\\_libs\\parsers.pyx\u001b[0m in \u001b[0;36mpandas._libs.parsers.TextReader._read_rows\u001b[1;34m()\u001b[0m\n",
      "\u001b[1;32mpandas\\_libs\\parsers.pyx\u001b[0m in \u001b[0;36mpandas._libs.parsers.TextReader._tokenize_rows\u001b[1;34m()\u001b[0m\n",
      "\u001b[1;32mpandas\\_libs\\parsers.pyx\u001b[0m in \u001b[0;36mpandas._libs.parsers.raise_parser_error\u001b[1;34m()\u001b[0m\n",
      "\u001b[1;31mParserError\u001b[0m: Error tokenizing data. C error: Buffer overflow caught - possible malformed input file.\n"
     ]
    }
   ],
   "source": [
    "tutorialspoint = pd.read_csv('E://Scrapped-Data/TutorialsPointProgrammingExamples.csv', encoding='UTF-8')"
   ]
  },
  {
   "cell_type": "code",
   "execution_count": 16,
   "metadata": {
    "ExecuteTime": {
     "end_time": "2019-05-10T16:11:20.619705Z",
     "start_time": "2019-05-10T16:11:20.612695Z"
    }
   },
   "outputs": [
    {
     "name": "stdout",
     "output_type": "stream",
     "text": [
      "Error line 1: iterator should return strings, not bytes (did you open the file in text mode?)\n"
     ]
    }
   ],
   "source": [
    "import csv\n",
    "with open('E://Scrapped-Data/TutorialsPointProgrammingExamples.csv', 'rb') as f:\n",
    "    reader = csv.reader(f)\n",
    "    linenumber = 1\n",
    "    try:\n",
    "        for row in reader:\n",
    "            linenumber += 1\n",
    "    except Exception as e:\n",
    "        print ((\"Error line %d: %s\" % (linenumber, e)))"
   ]
  },
  {
   "cell_type": "code",
   "execution_count": 13,
   "metadata": {
    "ExecuteTime": {
     "end_time": "2019-05-10T16:09:04.548067Z",
     "start_time": "2019-05-10T16:09:02.755030Z"
    }
   },
   "outputs": [
    {
     "name": "stdout",
     "output_type": "stream",
     "text": [
      "566 /8401\n"
     ]
    },
    {
     "ename": "SSLError",
     "evalue": "HTTPSConnectionPool(host='www.tutorialspoint.com', port=443): Max retries exceeded with url: /programming_examples/566 (Caused by SSLError(SSLError(\"bad handshake: SysCallError(10054, 'WSAECONNRESET')\")))",
     "output_type": "error",
     "traceback": [
      "\u001b[1;31m---------------------------------------------------------------------------\u001b[0m",
      "\u001b[1;31mSysCallError\u001b[0m                              Traceback (most recent call last)",
      "\u001b[1;32mD:\\Users\\Ritvik\\Anaconda3\\envs\\datascience\\lib\\site-packages\\urllib3\\contrib\\pyopenssl.py\u001b[0m in \u001b[0;36mwrap_socket\u001b[1;34m(self, sock, server_side, do_handshake_on_connect, suppress_ragged_eofs, server_hostname)\u001b[0m\n\u001b[0;32m    452\u001b[0m             \u001b[1;32mtry\u001b[0m\u001b[1;33m:\u001b[0m\u001b[1;33m\u001b[0m\u001b[1;33m\u001b[0m\u001b[0m\n\u001b[1;32m--> 453\u001b[1;33m                 \u001b[0mcnx\u001b[0m\u001b[1;33m.\u001b[0m\u001b[0mdo_handshake\u001b[0m\u001b[1;33m(\u001b[0m\u001b[1;33m)\u001b[0m\u001b[1;33m\u001b[0m\u001b[1;33m\u001b[0m\u001b[0m\n\u001b[0m\u001b[0;32m    454\u001b[0m             \u001b[1;32mexcept\u001b[0m \u001b[0mOpenSSL\u001b[0m\u001b[1;33m.\u001b[0m\u001b[0mSSL\u001b[0m\u001b[1;33m.\u001b[0m\u001b[0mWantReadError\u001b[0m\u001b[1;33m:\u001b[0m\u001b[1;33m\u001b[0m\u001b[1;33m\u001b[0m\u001b[0m\n",
      "\u001b[1;32mD:\\Users\\Ritvik\\Anaconda3\\envs\\datascience\\lib\\site-packages\\OpenSSL\\SSL.py\u001b[0m in \u001b[0;36mdo_handshake\u001b[1;34m(self)\u001b[0m\n\u001b[0;32m   1914\u001b[0m         \u001b[0mresult\u001b[0m \u001b[1;33m=\u001b[0m \u001b[0m_lib\u001b[0m\u001b[1;33m.\u001b[0m\u001b[0mSSL_do_handshake\u001b[0m\u001b[1;33m(\u001b[0m\u001b[0mself\u001b[0m\u001b[1;33m.\u001b[0m\u001b[0m_ssl\u001b[0m\u001b[1;33m)\u001b[0m\u001b[1;33m\u001b[0m\u001b[1;33m\u001b[0m\u001b[0m\n\u001b[1;32m-> 1915\u001b[1;33m         \u001b[0mself\u001b[0m\u001b[1;33m.\u001b[0m\u001b[0m_raise_ssl_error\u001b[0m\u001b[1;33m(\u001b[0m\u001b[0mself\u001b[0m\u001b[1;33m.\u001b[0m\u001b[0m_ssl\u001b[0m\u001b[1;33m,\u001b[0m \u001b[0mresult\u001b[0m\u001b[1;33m)\u001b[0m\u001b[1;33m\u001b[0m\u001b[1;33m\u001b[0m\u001b[0m\n\u001b[0m\u001b[0;32m   1916\u001b[0m \u001b[1;33m\u001b[0m\u001b[0m\n",
      "\u001b[1;32mD:\\Users\\Ritvik\\Anaconda3\\envs\\datascience\\lib\\site-packages\\OpenSSL\\SSL.py\u001b[0m in \u001b[0;36m_raise_ssl_error\u001b[1;34m(self, ssl, result)\u001b[0m\n\u001b[0;32m   1638\u001b[0m                     \u001b[1;32mif\u001b[0m \u001b[0merrno\u001b[0m \u001b[1;33m!=\u001b[0m \u001b[1;36m0\u001b[0m\u001b[1;33m:\u001b[0m\u001b[1;33m\u001b[0m\u001b[1;33m\u001b[0m\u001b[0m\n\u001b[1;32m-> 1639\u001b[1;33m                         \u001b[1;32mraise\u001b[0m \u001b[0mSysCallError\u001b[0m\u001b[1;33m(\u001b[0m\u001b[0merrno\u001b[0m\u001b[1;33m,\u001b[0m \u001b[0merrorcode\u001b[0m\u001b[1;33m.\u001b[0m\u001b[0mget\u001b[0m\u001b[1;33m(\u001b[0m\u001b[0merrno\u001b[0m\u001b[1;33m)\u001b[0m\u001b[1;33m)\u001b[0m\u001b[1;33m\u001b[0m\u001b[1;33m\u001b[0m\u001b[0m\n\u001b[0m\u001b[0;32m   1640\u001b[0m                 \u001b[1;32mraise\u001b[0m \u001b[0mSysCallError\u001b[0m\u001b[1;33m(\u001b[0m\u001b[1;33m-\u001b[0m\u001b[1;36m1\u001b[0m\u001b[1;33m,\u001b[0m \u001b[1;34m\"Unexpected EOF\"\u001b[0m\u001b[1;33m)\u001b[0m\u001b[1;33m\u001b[0m\u001b[1;33m\u001b[0m\u001b[0m\n",
      "\u001b[1;31mSysCallError\u001b[0m: (10054, 'WSAECONNRESET')",
      "\nDuring handling of the above exception, another exception occurred:\n",
      "\u001b[1;31mSSLError\u001b[0m                                  Traceback (most recent call last)",
      "\u001b[1;32mD:\\Users\\Ritvik\\Anaconda3\\envs\\datascience\\lib\\site-packages\\urllib3\\connectionpool.py\u001b[0m in \u001b[0;36murlopen\u001b[1;34m(self, method, url, body, headers, retries, redirect, assert_same_host, timeout, pool_timeout, release_conn, chunked, body_pos, **response_kw)\u001b[0m\n\u001b[0;32m    599\u001b[0m                                                   \u001b[0mbody\u001b[0m\u001b[1;33m=\u001b[0m\u001b[0mbody\u001b[0m\u001b[1;33m,\u001b[0m \u001b[0mheaders\u001b[0m\u001b[1;33m=\u001b[0m\u001b[0mheaders\u001b[0m\u001b[1;33m,\u001b[0m\u001b[1;33m\u001b[0m\u001b[1;33m\u001b[0m\u001b[0m\n\u001b[1;32m--> 600\u001b[1;33m                                                   chunked=chunked)\n\u001b[0m\u001b[0;32m    601\u001b[0m \u001b[1;33m\u001b[0m\u001b[0m\n",
      "\u001b[1;32mD:\\Users\\Ritvik\\Anaconda3\\envs\\datascience\\lib\\site-packages\\urllib3\\connectionpool.py\u001b[0m in \u001b[0;36m_make_request\u001b[1;34m(self, conn, method, url, timeout, chunked, **httplib_request_kw)\u001b[0m\n\u001b[0;32m    342\u001b[0m         \u001b[1;32mtry\u001b[0m\u001b[1;33m:\u001b[0m\u001b[1;33m\u001b[0m\u001b[1;33m\u001b[0m\u001b[0m\n\u001b[1;32m--> 343\u001b[1;33m             \u001b[0mself\u001b[0m\u001b[1;33m.\u001b[0m\u001b[0m_validate_conn\u001b[0m\u001b[1;33m(\u001b[0m\u001b[0mconn\u001b[0m\u001b[1;33m)\u001b[0m\u001b[1;33m\u001b[0m\u001b[1;33m\u001b[0m\u001b[0m\n\u001b[0m\u001b[0;32m    344\u001b[0m         \u001b[1;32mexcept\u001b[0m \u001b[1;33m(\u001b[0m\u001b[0mSocketTimeout\u001b[0m\u001b[1;33m,\u001b[0m \u001b[0mBaseSSLError\u001b[0m\u001b[1;33m)\u001b[0m \u001b[1;32mas\u001b[0m \u001b[0me\u001b[0m\u001b[1;33m:\u001b[0m\u001b[1;33m\u001b[0m\u001b[1;33m\u001b[0m\u001b[0m\n",
      "\u001b[1;32mD:\\Users\\Ritvik\\Anaconda3\\envs\\datascience\\lib\\site-packages\\urllib3\\connectionpool.py\u001b[0m in \u001b[0;36m_validate_conn\u001b[1;34m(self, conn)\u001b[0m\n\u001b[0;32m    838\u001b[0m         \u001b[1;32mif\u001b[0m \u001b[1;32mnot\u001b[0m \u001b[0mgetattr\u001b[0m\u001b[1;33m(\u001b[0m\u001b[0mconn\u001b[0m\u001b[1;33m,\u001b[0m \u001b[1;34m'sock'\u001b[0m\u001b[1;33m,\u001b[0m \u001b[1;32mNone\u001b[0m\u001b[1;33m)\u001b[0m\u001b[1;33m:\u001b[0m  \u001b[1;31m# AppEngine might not have  `.sock`\u001b[0m\u001b[1;33m\u001b[0m\u001b[1;33m\u001b[0m\u001b[0m\n\u001b[1;32m--> 839\u001b[1;33m             \u001b[0mconn\u001b[0m\u001b[1;33m.\u001b[0m\u001b[0mconnect\u001b[0m\u001b[1;33m(\u001b[0m\u001b[1;33m)\u001b[0m\u001b[1;33m\u001b[0m\u001b[1;33m\u001b[0m\u001b[0m\n\u001b[0m\u001b[0;32m    840\u001b[0m \u001b[1;33m\u001b[0m\u001b[0m\n",
      "\u001b[1;32mD:\\Users\\Ritvik\\Anaconda3\\envs\\datascience\\lib\\site-packages\\urllib3\\connection.py\u001b[0m in \u001b[0;36mconnect\u001b[1;34m(self)\u001b[0m\n\u001b[0;32m    343\u001b[0m             \u001b[0mserver_hostname\u001b[0m\u001b[1;33m=\u001b[0m\u001b[0mserver_hostname\u001b[0m\u001b[1;33m,\u001b[0m\u001b[1;33m\u001b[0m\u001b[1;33m\u001b[0m\u001b[0m\n\u001b[1;32m--> 344\u001b[1;33m             ssl_context=context)\n\u001b[0m\u001b[0;32m    345\u001b[0m \u001b[1;33m\u001b[0m\u001b[0m\n",
      "\u001b[1;32mD:\\Users\\Ritvik\\Anaconda3\\envs\\datascience\\lib\\site-packages\\urllib3\\util\\ssl_.py\u001b[0m in \u001b[0;36mssl_wrap_socket\u001b[1;34m(sock, keyfile, certfile, cert_reqs, ca_certs, server_hostname, ssl_version, ciphers, ssl_context, ca_cert_dir)\u001b[0m\n\u001b[0;32m    343\u001b[0m         \u001b[1;32mif\u001b[0m \u001b[0mHAS_SNI\u001b[0m \u001b[1;32mand\u001b[0m \u001b[0mserver_hostname\u001b[0m \u001b[1;32mis\u001b[0m \u001b[1;32mnot\u001b[0m \u001b[1;32mNone\u001b[0m\u001b[1;33m:\u001b[0m\u001b[1;33m\u001b[0m\u001b[1;33m\u001b[0m\u001b[0m\n\u001b[1;32m--> 344\u001b[1;33m             \u001b[1;32mreturn\u001b[0m \u001b[0mcontext\u001b[0m\u001b[1;33m.\u001b[0m\u001b[0mwrap_socket\u001b[0m\u001b[1;33m(\u001b[0m\u001b[0msock\u001b[0m\u001b[1;33m,\u001b[0m \u001b[0mserver_hostname\u001b[0m\u001b[1;33m=\u001b[0m\u001b[0mserver_hostname\u001b[0m\u001b[1;33m)\u001b[0m\u001b[1;33m\u001b[0m\u001b[1;33m\u001b[0m\u001b[0m\n\u001b[0m\u001b[0;32m    345\u001b[0m \u001b[1;33m\u001b[0m\u001b[0m\n",
      "\u001b[1;32mD:\\Users\\Ritvik\\Anaconda3\\envs\\datascience\\lib\\site-packages\\urllib3\\contrib\\pyopenssl.py\u001b[0m in \u001b[0;36mwrap_socket\u001b[1;34m(self, sock, server_side, do_handshake_on_connect, suppress_ragged_eofs, server_hostname)\u001b[0m\n\u001b[0;32m    458\u001b[0m             \u001b[1;32mexcept\u001b[0m \u001b[0mOpenSSL\u001b[0m\u001b[1;33m.\u001b[0m\u001b[0mSSL\u001b[0m\u001b[1;33m.\u001b[0m\u001b[0mError\u001b[0m \u001b[1;32mas\u001b[0m \u001b[0me\u001b[0m\u001b[1;33m:\u001b[0m\u001b[1;33m\u001b[0m\u001b[1;33m\u001b[0m\u001b[0m\n\u001b[1;32m--> 459\u001b[1;33m                 \u001b[1;32mraise\u001b[0m \u001b[0mssl\u001b[0m\u001b[1;33m.\u001b[0m\u001b[0mSSLError\u001b[0m\u001b[1;33m(\u001b[0m\u001b[1;34m'bad handshake: %r'\u001b[0m \u001b[1;33m%\u001b[0m \u001b[0me\u001b[0m\u001b[1;33m)\u001b[0m\u001b[1;33m\u001b[0m\u001b[1;33m\u001b[0m\u001b[0m\n\u001b[0m\u001b[0;32m    460\u001b[0m             \u001b[1;32mbreak\u001b[0m\u001b[1;33m\u001b[0m\u001b[1;33m\u001b[0m\u001b[0m\n",
      "\u001b[1;31mSSLError\u001b[0m: (\"bad handshake: SysCallError(10054, 'WSAECONNRESET')\",)",
      "\nDuring handling of the above exception, another exception occurred:\n",
      "\u001b[1;31mMaxRetryError\u001b[0m                             Traceback (most recent call last)",
      "\u001b[1;32mD:\\Users\\Ritvik\\Anaconda3\\envs\\datascience\\lib\\site-packages\\requests\\adapters.py\u001b[0m in \u001b[0;36msend\u001b[1;34m(self, request, stream, timeout, verify, cert, proxies)\u001b[0m\n\u001b[0;32m    448\u001b[0m                     \u001b[0mretries\u001b[0m\u001b[1;33m=\u001b[0m\u001b[0mself\u001b[0m\u001b[1;33m.\u001b[0m\u001b[0mmax_retries\u001b[0m\u001b[1;33m,\u001b[0m\u001b[1;33m\u001b[0m\u001b[1;33m\u001b[0m\u001b[0m\n\u001b[1;32m--> 449\u001b[1;33m                     \u001b[0mtimeout\u001b[0m\u001b[1;33m=\u001b[0m\u001b[0mtimeout\u001b[0m\u001b[1;33m\u001b[0m\u001b[1;33m\u001b[0m\u001b[0m\n\u001b[0m\u001b[0;32m    450\u001b[0m                 )\n",
      "\u001b[1;32mD:\\Users\\Ritvik\\Anaconda3\\envs\\datascience\\lib\\site-packages\\urllib3\\connectionpool.py\u001b[0m in \u001b[0;36murlopen\u001b[1;34m(self, method, url, body, headers, retries, redirect, assert_same_host, timeout, pool_timeout, release_conn, chunked, body_pos, **response_kw)\u001b[0m\n\u001b[0;32m    637\u001b[0m             retries = retries.increment(method, url, error=e, _pool=self,\n\u001b[1;32m--> 638\u001b[1;33m                                         _stacktrace=sys.exc_info()[2])\n\u001b[0m\u001b[0;32m    639\u001b[0m             \u001b[0mretries\u001b[0m\u001b[1;33m.\u001b[0m\u001b[0msleep\u001b[0m\u001b[1;33m(\u001b[0m\u001b[1;33m)\u001b[0m\u001b[1;33m\u001b[0m\u001b[1;33m\u001b[0m\u001b[0m\n",
      "\u001b[1;32mD:\\Users\\Ritvik\\Anaconda3\\envs\\datascience\\lib\\site-packages\\urllib3\\util\\retry.py\u001b[0m in \u001b[0;36mincrement\u001b[1;34m(self, method, url, response, error, _pool, _stacktrace)\u001b[0m\n\u001b[0;32m    397\u001b[0m         \u001b[1;32mif\u001b[0m \u001b[0mnew_retry\u001b[0m\u001b[1;33m.\u001b[0m\u001b[0mis_exhausted\u001b[0m\u001b[1;33m(\u001b[0m\u001b[1;33m)\u001b[0m\u001b[1;33m:\u001b[0m\u001b[1;33m\u001b[0m\u001b[1;33m\u001b[0m\u001b[0m\n\u001b[1;32m--> 398\u001b[1;33m             \u001b[1;32mraise\u001b[0m \u001b[0mMaxRetryError\u001b[0m\u001b[1;33m(\u001b[0m\u001b[0m_pool\u001b[0m\u001b[1;33m,\u001b[0m \u001b[0murl\u001b[0m\u001b[1;33m,\u001b[0m \u001b[0merror\u001b[0m \u001b[1;32mor\u001b[0m \u001b[0mResponseError\u001b[0m\u001b[1;33m(\u001b[0m\u001b[0mcause\u001b[0m\u001b[1;33m)\u001b[0m\u001b[1;33m)\u001b[0m\u001b[1;33m\u001b[0m\u001b[1;33m\u001b[0m\u001b[0m\n\u001b[0m\u001b[0;32m    399\u001b[0m \u001b[1;33m\u001b[0m\u001b[0m\n",
      "\u001b[1;31mMaxRetryError\u001b[0m: HTTPSConnectionPool(host='www.tutorialspoint.com', port=443): Max retries exceeded with url: /programming_examples/566 (Caused by SSLError(SSLError(\"bad handshake: SysCallError(10054, 'WSAECONNRESET')\")))",
      "\nDuring handling of the above exception, another exception occurred:\n",
      "\u001b[1;31mSSLError\u001b[0m                                  Traceback (most recent call last)",
      "\u001b[1;32m<ipython-input-13-f77f80cd05eb>\u001b[0m in \u001b[0;36m<module>\u001b[1;34m\u001b[0m\n\u001b[0;32m      3\u001b[0m     \u001b[0mclear_output\u001b[0m\u001b[1;33m(\u001b[0m\u001b[0mwait\u001b[0m\u001b[1;33m=\u001b[0m\u001b[1;32mTrue\u001b[0m\u001b[1;33m)\u001b[0m\u001b[1;33m\u001b[0m\u001b[1;33m\u001b[0m\u001b[0m\n\u001b[0;32m      4\u001b[0m     \u001b[0mprint\u001b[0m\u001b[1;33m(\u001b[0m\u001b[0mi\u001b[0m\u001b[1;33m,\u001b[0m \u001b[1;34m'/8401'\u001b[0m\u001b[1;33m)\u001b[0m\u001b[1;33m\u001b[0m\u001b[1;33m\u001b[0m\u001b[0m\n\u001b[1;32m----> 5\u001b[1;33m     \u001b[0mres\u001b[0m \u001b[1;33m=\u001b[0m \u001b[0mrequests\u001b[0m\u001b[1;33m.\u001b[0m\u001b[0mget\u001b[0m\u001b[1;33m(\u001b[0m\u001b[0murl\u001b[0m\u001b[1;33m)\u001b[0m\u001b[1;33m\u001b[0m\u001b[1;33m\u001b[0m\u001b[0m\n\u001b[0m\u001b[0;32m      6\u001b[0m     \u001b[1;32mif\u001b[0m \u001b[0mres\u001b[0m\u001b[1;33m.\u001b[0m\u001b[0mstatus_code\u001b[0m \u001b[1;33m==\u001b[0m \u001b[0mrequests\u001b[0m\u001b[1;33m.\u001b[0m\u001b[0mcodes\u001b[0m\u001b[1;33m.\u001b[0m\u001b[0mok\u001b[0m\u001b[1;33m:\u001b[0m\u001b[1;33m\u001b[0m\u001b[1;33m\u001b[0m\u001b[0m\n\u001b[0;32m      7\u001b[0m         \u001b[0mressoup\u001b[0m \u001b[1;33m=\u001b[0m \u001b[0mbs4\u001b[0m\u001b[1;33m.\u001b[0m\u001b[0mBeautifulSoup\u001b[0m\u001b[1;33m(\u001b[0m\u001b[0mres\u001b[0m\u001b[1;33m.\u001b[0m\u001b[0mtext\u001b[0m\u001b[1;33m,\u001b[0m \u001b[1;34m'lxml'\u001b[0m\u001b[1;33m)\u001b[0m\u001b[1;33m\u001b[0m\u001b[1;33m\u001b[0m\u001b[0m\n",
      "\u001b[1;32mD:\\Users\\Ritvik\\Anaconda3\\envs\\datascience\\lib\\site-packages\\requests\\api.py\u001b[0m in \u001b[0;36mget\u001b[1;34m(url, params, **kwargs)\u001b[0m\n\u001b[0;32m     73\u001b[0m \u001b[1;33m\u001b[0m\u001b[0m\n\u001b[0;32m     74\u001b[0m     \u001b[0mkwargs\u001b[0m\u001b[1;33m.\u001b[0m\u001b[0msetdefault\u001b[0m\u001b[1;33m(\u001b[0m\u001b[1;34m'allow_redirects'\u001b[0m\u001b[1;33m,\u001b[0m \u001b[1;32mTrue\u001b[0m\u001b[1;33m)\u001b[0m\u001b[1;33m\u001b[0m\u001b[1;33m\u001b[0m\u001b[0m\n\u001b[1;32m---> 75\u001b[1;33m     \u001b[1;32mreturn\u001b[0m \u001b[0mrequest\u001b[0m\u001b[1;33m(\u001b[0m\u001b[1;34m'get'\u001b[0m\u001b[1;33m,\u001b[0m \u001b[0murl\u001b[0m\u001b[1;33m,\u001b[0m \u001b[0mparams\u001b[0m\u001b[1;33m=\u001b[0m\u001b[0mparams\u001b[0m\u001b[1;33m,\u001b[0m \u001b[1;33m**\u001b[0m\u001b[0mkwargs\u001b[0m\u001b[1;33m)\u001b[0m\u001b[1;33m\u001b[0m\u001b[1;33m\u001b[0m\u001b[0m\n\u001b[0m\u001b[0;32m     76\u001b[0m \u001b[1;33m\u001b[0m\u001b[0m\n\u001b[0;32m     77\u001b[0m \u001b[1;33m\u001b[0m\u001b[0m\n",
      "\u001b[1;32mD:\\Users\\Ritvik\\Anaconda3\\envs\\datascience\\lib\\site-packages\\requests\\api.py\u001b[0m in \u001b[0;36mrequest\u001b[1;34m(method, url, **kwargs)\u001b[0m\n\u001b[0;32m     58\u001b[0m     \u001b[1;31m# cases, and look like a memory leak in others.\u001b[0m\u001b[1;33m\u001b[0m\u001b[1;33m\u001b[0m\u001b[1;33m\u001b[0m\u001b[0m\n\u001b[0;32m     59\u001b[0m     \u001b[1;32mwith\u001b[0m \u001b[0msessions\u001b[0m\u001b[1;33m.\u001b[0m\u001b[0mSession\u001b[0m\u001b[1;33m(\u001b[0m\u001b[1;33m)\u001b[0m \u001b[1;32mas\u001b[0m \u001b[0msession\u001b[0m\u001b[1;33m:\u001b[0m\u001b[1;33m\u001b[0m\u001b[1;33m\u001b[0m\u001b[0m\n\u001b[1;32m---> 60\u001b[1;33m         \u001b[1;32mreturn\u001b[0m \u001b[0msession\u001b[0m\u001b[1;33m.\u001b[0m\u001b[0mrequest\u001b[0m\u001b[1;33m(\u001b[0m\u001b[0mmethod\u001b[0m\u001b[1;33m=\u001b[0m\u001b[0mmethod\u001b[0m\u001b[1;33m,\u001b[0m \u001b[0murl\u001b[0m\u001b[1;33m=\u001b[0m\u001b[0murl\u001b[0m\u001b[1;33m,\u001b[0m \u001b[1;33m**\u001b[0m\u001b[0mkwargs\u001b[0m\u001b[1;33m)\u001b[0m\u001b[1;33m\u001b[0m\u001b[1;33m\u001b[0m\u001b[0m\n\u001b[0m\u001b[0;32m     61\u001b[0m \u001b[1;33m\u001b[0m\u001b[0m\n\u001b[0;32m     62\u001b[0m \u001b[1;33m\u001b[0m\u001b[0m\n",
      "\u001b[1;32mD:\\Users\\Ritvik\\Anaconda3\\envs\\datascience\\lib\\site-packages\\requests\\sessions.py\u001b[0m in \u001b[0;36mrequest\u001b[1;34m(self, method, url, params, data, headers, cookies, files, auth, timeout, allow_redirects, proxies, hooks, stream, verify, cert, json)\u001b[0m\n\u001b[0;32m    531\u001b[0m         }\n\u001b[0;32m    532\u001b[0m         \u001b[0msend_kwargs\u001b[0m\u001b[1;33m.\u001b[0m\u001b[0mupdate\u001b[0m\u001b[1;33m(\u001b[0m\u001b[0msettings\u001b[0m\u001b[1;33m)\u001b[0m\u001b[1;33m\u001b[0m\u001b[1;33m\u001b[0m\u001b[0m\n\u001b[1;32m--> 533\u001b[1;33m         \u001b[0mresp\u001b[0m \u001b[1;33m=\u001b[0m \u001b[0mself\u001b[0m\u001b[1;33m.\u001b[0m\u001b[0msend\u001b[0m\u001b[1;33m(\u001b[0m\u001b[0mprep\u001b[0m\u001b[1;33m,\u001b[0m \u001b[1;33m**\u001b[0m\u001b[0msend_kwargs\u001b[0m\u001b[1;33m)\u001b[0m\u001b[1;33m\u001b[0m\u001b[1;33m\u001b[0m\u001b[0m\n\u001b[0m\u001b[0;32m    534\u001b[0m \u001b[1;33m\u001b[0m\u001b[0m\n\u001b[0;32m    535\u001b[0m         \u001b[1;32mreturn\u001b[0m \u001b[0mresp\u001b[0m\u001b[1;33m\u001b[0m\u001b[1;33m\u001b[0m\u001b[0m\n",
      "\u001b[1;32mD:\\Users\\Ritvik\\Anaconda3\\envs\\datascience\\lib\\site-packages\\requests\\sessions.py\u001b[0m in \u001b[0;36msend\u001b[1;34m(self, request, **kwargs)\u001b[0m\n\u001b[0;32m    644\u001b[0m \u001b[1;33m\u001b[0m\u001b[0m\n\u001b[0;32m    645\u001b[0m         \u001b[1;31m# Send the request\u001b[0m\u001b[1;33m\u001b[0m\u001b[1;33m\u001b[0m\u001b[1;33m\u001b[0m\u001b[0m\n\u001b[1;32m--> 646\u001b[1;33m         \u001b[0mr\u001b[0m \u001b[1;33m=\u001b[0m \u001b[0madapter\u001b[0m\u001b[1;33m.\u001b[0m\u001b[0msend\u001b[0m\u001b[1;33m(\u001b[0m\u001b[0mrequest\u001b[0m\u001b[1;33m,\u001b[0m \u001b[1;33m**\u001b[0m\u001b[0mkwargs\u001b[0m\u001b[1;33m)\u001b[0m\u001b[1;33m\u001b[0m\u001b[1;33m\u001b[0m\u001b[0m\n\u001b[0m\u001b[0;32m    647\u001b[0m \u001b[1;33m\u001b[0m\u001b[0m\n\u001b[0;32m    648\u001b[0m         \u001b[1;31m# Total elapsed time of the request (approximately)\u001b[0m\u001b[1;33m\u001b[0m\u001b[1;33m\u001b[0m\u001b[1;33m\u001b[0m\u001b[0m\n",
      "\u001b[1;32mD:\\Users\\Ritvik\\Anaconda3\\envs\\datascience\\lib\\site-packages\\requests\\adapters.py\u001b[0m in \u001b[0;36msend\u001b[1;34m(self, request, stream, timeout, verify, cert, proxies)\u001b[0m\n\u001b[0;32m    512\u001b[0m             \u001b[1;32mif\u001b[0m \u001b[0misinstance\u001b[0m\u001b[1;33m(\u001b[0m\u001b[0me\u001b[0m\u001b[1;33m.\u001b[0m\u001b[0mreason\u001b[0m\u001b[1;33m,\u001b[0m \u001b[0m_SSLError\u001b[0m\u001b[1;33m)\u001b[0m\u001b[1;33m:\u001b[0m\u001b[1;33m\u001b[0m\u001b[1;33m\u001b[0m\u001b[0m\n\u001b[0;32m    513\u001b[0m                 \u001b[1;31m# This branch is for urllib3 v1.22 and later.\u001b[0m\u001b[1;33m\u001b[0m\u001b[1;33m\u001b[0m\u001b[1;33m\u001b[0m\u001b[0m\n\u001b[1;32m--> 514\u001b[1;33m                 \u001b[1;32mraise\u001b[0m \u001b[0mSSLError\u001b[0m\u001b[1;33m(\u001b[0m\u001b[0me\u001b[0m\u001b[1;33m,\u001b[0m \u001b[0mrequest\u001b[0m\u001b[1;33m=\u001b[0m\u001b[0mrequest\u001b[0m\u001b[1;33m)\u001b[0m\u001b[1;33m\u001b[0m\u001b[1;33m\u001b[0m\u001b[0m\n\u001b[0m\u001b[0;32m    515\u001b[0m \u001b[1;33m\u001b[0m\u001b[0m\n\u001b[0;32m    516\u001b[0m             \u001b[1;32mraise\u001b[0m \u001b[0mConnectionError\u001b[0m\u001b[1;33m(\u001b[0m\u001b[0me\u001b[0m\u001b[1;33m,\u001b[0m \u001b[0mrequest\u001b[0m\u001b[1;33m=\u001b[0m\u001b[0mrequest\u001b[0m\u001b[1;33m)\u001b[0m\u001b[1;33m\u001b[0m\u001b[1;33m\u001b[0m\u001b[0m\n",
      "\u001b[1;31mSSLError\u001b[0m: HTTPSConnectionPool(host='www.tutorialspoint.com', port=443): Max retries exceeded with url: /programming_examples/566 (Caused by SSLError(SSLError(\"bad handshake: SysCallError(10054, 'WSAECONNRESET')\")))"
     ]
    }
   ],
   "source": [
    "for i in range(565, 8402):\n",
    "    url = 'https://www.tutorialspoint.com/programming_examples/'+str(i)\n",
    "    clear_output(wait=True)\n",
    "    print(i, '/8401')\n",
    "    res = requests.get(url)\n",
    "    if res.status_code == requests.codes.ok:\n",
    "        ressoup = bs4.BeautifulSoup(res.text, 'lxml')\n",
    "        h2elems = list(map(lambda x: x.getText().strip(), ressoup.select('h2')))\n",
    "        preelems = list(map(lambda x: x.getText(), ressoup.select('pre')))\n",
    "        spanelems = list(map(lambda x: x.getText(), ressoup.select('span')[17:27]))\n",
    "        new_code = pd.DataFrame({\n",
    "            'Title': h2elems,\n",
    "            'Code': preelems,\n",
    "            'Language': spanelems\n",
    "        })\n",
    "        tutorialspoint = pd.concat([tutorialspoint, new_code], axis=0)\n",
    "    else:\n",
    "        print('Something went wrong')"
   ]
  },
  {
   "cell_type": "code",
   "execution_count": 18,
   "metadata": {
    "ExecuteTime": {
     "end_time": "2019-05-10T15:45:16.488555Z",
     "start_time": "2019-05-10T15:45:16.471606Z"
    }
   },
   "outputs": [
    {
     "data": {
      "text/plain": [
       "929"
      ]
     },
     "execution_count": 18,
     "metadata": {},
     "output_type": "execute_result"
    }
   ],
   "source": [
    "tutorialspoint = tutorialspoint.drop_duplicates() \n",
    "tutorialspoint = tutorialspoint.reset_index(drop=True)\n",
    "len(tutorialspoint)"
   ]
  },
  {
   "cell_type": "code",
   "execution_count": 19,
   "metadata": {
    "ExecuteTime": {
     "end_time": "2019-05-10T15:45:21.148375Z",
     "start_time": "2019-05-10T15:45:21.130423Z"
    }
   },
   "outputs": [
    {
     "data": {
      "text/html": [
       "<div>\n",
       "<style scoped>\n",
       "    .dataframe tbody tr th:only-of-type {\n",
       "        vertical-align: middle;\n",
       "    }\n",
       "\n",
       "    .dataframe tbody tr th {\n",
       "        vertical-align: top;\n",
       "    }\n",
       "\n",
       "    .dataframe thead th {\n",
       "        text-align: right;\n",
       "    }\n",
       "</style>\n",
       "<table border=\"1\" class=\"dataframe\">\n",
       "  <thead>\n",
       "    <tr style=\"text-align: right;\">\n",
       "      <th></th>\n",
       "      <th>Code</th>\n",
       "      <th>Language</th>\n",
       "      <th>Title</th>\n",
       "    </tr>\n",
       "  </thead>\n",
       "  <tbody>\n",
       "    <tr>\n",
       "      <th>924</th>\n",
       "      <td>public class Homework5 {\\n// return the desired value of numbers in brackets \\n     public static void main(String []args){\\n         printNumbers(12);\\n         printNumbers(5);\\n     }\\n    public static void printNumbers(int n) {\\n       for(int i=1;i&lt;=n; i++){\\n        System.out.print(\"[\" + i + \"] \");\\n       }\\n      System.out.println(\"\");\\n     }\\n     \\n}</td>\n",
       "      <td>java</td>\n",
       "      <td>Homework 5</td>\n",
       "    </tr>\n",
       "    <tr>\n",
       "      <th>925</th>\n",
       "      <td>#include &lt;stdio.h&gt;\\n#include &lt;stdlib.h&gt;\\n\\nstruct stack\\n{\\n\\tint maxsize;\\t\\n    int top;\\t\\t\\n    int *items;\\n};\\n\\nstruct stack* newStack(int capacity)\\n{\\n    struct stack *pt = (struct stack*)malloc(sizeof(struct stack));\\n\\n\\tpt-&gt;maxsize = capacity;\\n    pt-&gt;top = -1;\\n\\tpt-&gt;items = (int*)malloc(sizeof(int) * capacity);\\n\\n    return pt;\\n}\\n\\nint size(struct stack *pt)\\n{\\n    return pt-&gt;top + 1;\\n}\\n\\n\\nint isEmpty(struct stack *pt)\\n{\\n    return pt-&gt;top == -1;\\t\\n}\\n\\n\\nint isFull(struct stack *pt)\\n{\\n    return pt-&gt;top == pt-&gt;maxsize - 1;\\n}\\n\\n\\nvoid push(struct stack *pt, int x)\\n{\\n\\tif (isFull(pt))\\n    {\\n        printf(\"Pilha cheia\\n\");\\n        exit(EXIT_FAILURE);\\n    }\\n\\n\\tprintf(\"Inserindo %d\\n\", x);\\n\\t\\n\\n    pt-&gt;items[++pt-&gt;top] = x;\\n}\\n\\nint peek(struct stack *pt)\\n{\\n    if (!isEmpty(pt))\\n        return pt-&gt;items[pt-&gt;top];\\n    else\\n        exit(EXIT_FAILURE);\\n}\\n\\nint pop(struct stack *pt)\\n{\\n    if (isEmpty(pt))\\n    {\\n        printf(\"Pilha vazia\\n\");\\n        exit(EXIT_FAILURE);\\n    }\\n\\n    printf(\"Removendo %d\\n\", peek(pt));\\n\\n    return pt-&gt;items[pt-&gt;top--];\\n}\\n\\nint main()\\n{\\n    struct stack *pt = newStack(100);\\n    int i=0;\\n    while (i&lt;100){\\n        push(pt, i);\\n        i++;\\n        if(i==100){\\n            printf(\"Tamanho da pilha %d\\n\", size(pt));\\n            while(i&lt;150){\\n                pop(pt);\\n                i++;\\n            }\\n        }\\n    }\\n        \\n\\tprintf(\"Tamanho da pilha %d\\n\", size(pt));\\n\\n    return 0;\\n}</td>\n",
       "      <td>c</td>\n",
       "      <td>gusta</td>\n",
       "    </tr>\n",
       "    <tr>\n",
       "      <th>926</th>\n",
       "      <td>a=1,b=a+1,num=0,f==100\\n while num==0:\\n    c=a+b\\n    b+=1\\n    c=c+b\\n    if b&lt;f:\\n    print num\\n    if b==f:\\n    num==1\\n    print c\\n</td>\n",
       "      <td>python</td>\n",
       "      <td>Execute Python Online</td>\n",
       "    </tr>\n",
       "    <tr>\n",
       "      <th>927</th>\n",
       "      <td>#include &lt;iostream&gt;\\n#include &lt;string&gt;\\n#include &lt;memory&gt;\\n\\nusing namespace std;\\n\\ntypedef unsigned char byte;\\n\\nclass styledChar\\n{\\n    public:\\n        styledChar() {};\\n        styledChar(wchar_t chr): _chr(chr), _styleIndex(0) {};\\n        wchar_t GetChar() const { return _chr; };\\n        byte GetStyleIndex() const { return _styleIndex; };\\n        void SetStyleIndex(byte styleIndex) { _styleIndex = styleIndex; };\\n    private:\\n        wchar_t _chr;\\n        byte _styleIndex;\\n};\\n\\nclass styledString: public basic_string&lt;styledChar&gt;\\n{\\n    public:\\n        styledString(const wstring&amp; right) : basic_string&lt;styledChar&gt;(CreateBuf(right).get(), right.length())\\n        {\\n        }\\n    \\n    private:\\n        static unique_ptr&lt;styledChar[]&gt; CreateBuf(const wstring&amp; right)\\n        {\\n            unique_ptr&lt;styledChar[]&gt; buf(new styledChar[right.length()]);\\n            int i = 0;\\n            for (auto r : right)\\n            {\\n                styledChar ch(r);\\n                buf[i++] = ch;\\n            }\\n            return buf;\\n        }\\n        \\n    friend wostream&amp; operator&lt;&lt; (wostream &amp;out, const styledString &amp;str)\\n    {\\n        for(auto c : str)\\n        {\\n            out &lt;&lt; c.GetChar();\\n        }       \\n        return out;\\n    };\\n};\\n\\nint main()\\n{\\n   styledString s(L\"test string\");\\n   \\n\\n   wcout &lt;&lt; s &lt;&lt; endl; \\n   \\n   return 0;\\n}</td>\n",
       "      <td>cpp</td>\n",
       "      <td>Custorm string</td>\n",
       "    </tr>\n",
       "    <tr>\n",
       "      <th>928</th>\n",
       "      <td>#nikhol\\nSingh\\nAllshabsd\\nXxxx\\nSon\\nHappy\\nBoy\\nCar\\nRun\\nGood\\nGold\\nFat\\nBst\\nJam\\nVaninclude &lt;stdio.h&gt;\\n\\nint main()\\n{\\n    printf(\"Hello, World!\\n\");\\n\\n    return 0;\\n}</td>\n",
       "      <td>c</td>\n",
       "      <td>hamptor</td>\n",
       "    </tr>\n",
       "  </tbody>\n",
       "</table>\n",
       "</div>"
      ],
      "text/plain": [
       "                                                                                                                                                                                                                                                                                                                                                                                                                                                                                                                                                                                                                                                                                                                                                                                                                                                                                                                                                                                                                                                                                                                                                                                                                                                                                                                                                                                                                                                                                                                                                                    Code  \\\n",
       "924  public class Homework5 {\\n// return the desired value of numbers in brackets \\n     public static void main(String []args){\\n         printNumbers(12);\\n         printNumbers(5);\\n     }\\n    public static void printNumbers(int n) {\\n       for(int i=1;i<=n; i++){\\n        System.out.print(\"[\" + i + \"] \");\\n       }\\n      System.out.println(\"\");\\n     }\\n     \\n}                                                                                                                                                                                                                                                                                                                                                                                                                                                                                                                                                                                                                                                                                                                                                                                                                                                                                                                                                                                                                                                                                                                                                                                        \n",
       "925  #include <stdio.h>\\n#include <stdlib.h>\\n\\nstruct stack\\n{\\n\\tint maxsize;\\t\\n    int top;\\t\\t\\n    int *items;\\n};\\n\\nstruct stack* newStack(int capacity)\\n{\\n    struct stack *pt = (struct stack*)malloc(sizeof(struct stack));\\n\\n\\tpt->maxsize = capacity;\\n    pt->top = -1;\\n\\tpt->items = (int*)malloc(sizeof(int) * capacity);\\n\\n    return pt;\\n}\\n\\nint size(struct stack *pt)\\n{\\n    return pt->top + 1;\\n}\\n\\n\\nint isEmpty(struct stack *pt)\\n{\\n    return pt->top == -1;\\t\\n}\\n\\n\\nint isFull(struct stack *pt)\\n{\\n    return pt->top == pt->maxsize - 1;\\n}\\n\\n\\nvoid push(struct stack *pt, int x)\\n{\\n\\tif (isFull(pt))\\n    {\\n        printf(\"Pilha cheia\\n\");\\n        exit(EXIT_FAILURE);\\n    }\\n\\n\\tprintf(\"Inserindo %d\\n\", x);\\n\\t\\n\\n    pt->items[++pt->top] = x;\\n}\\n\\nint peek(struct stack *pt)\\n{\\n    if (!isEmpty(pt))\\n        return pt->items[pt->top];\\n    else\\n        exit(EXIT_FAILURE);\\n}\\n\\nint pop(struct stack *pt)\\n{\\n    if (isEmpty(pt))\\n    {\\n        printf(\"Pilha vazia\\n\");\\n        exit(EXIT_FAILURE);\\n    }\\n\\n    printf(\"Removendo %d\\n\", peek(pt));\\n\\n    return pt->items[pt->top--];\\n}\\n\\nint main()\\n{\\n    struct stack *pt = newStack(100);\\n    int i=0;\\n    while (i<100){\\n        push(pt, i);\\n        i++;\\n        if(i==100){\\n            printf(\"Tamanho da pilha %d\\n\", size(pt));\\n            while(i<150){\\n                pop(pt);\\n                i++;\\n            }\\n        }\\n    }\\n        \\n\\tprintf(\"Tamanho da pilha %d\\n\", size(pt));\\n\\n    return 0;\\n}   \n",
       "926  a=1,b=a+1,num=0,f==100\\n while num==0:\\n    c=a+b\\n    b+=1\\n    c=c+b\\n    if b<f:\\n    print num\\n    if b==f:\\n    num==1\\n    print c\\n                                                                                                                                                                                                                                                                                                                                                                                                                                                                                                                                                                                                                                                                                                                                                                                                                                                                                                                                                                                                                                                                                                                                                                                                                                                                                                                                                                                                                           \n",
       "927  #include <iostream>\\n#include <string>\\n#include <memory>\\n\\nusing namespace std;\\n\\ntypedef unsigned char byte;\\n\\nclass styledChar\\n{\\n    public:\\n        styledChar() {};\\n        styledChar(wchar_t chr): _chr(chr), _styleIndex(0) {};\\n        wchar_t GetChar() const { return _chr; };\\n        byte GetStyleIndex() const { return _styleIndex; };\\n        void SetStyleIndex(byte styleIndex) { _styleIndex = styleIndex; };\\n    private:\\n        wchar_t _chr;\\n        byte _styleIndex;\\n};\\n\\nclass styledString: public basic_string<styledChar>\\n{\\n    public:\\n        styledString(const wstring& right) : basic_string<styledChar>(CreateBuf(right).get(), right.length())\\n        {\\n        }\\n    \\n    private:\\n        static unique_ptr<styledChar[]> CreateBuf(const wstring& right)\\n        {\\n            unique_ptr<styledChar[]> buf(new styledChar[right.length()]);\\n            int i = 0;\\n            for (auto r : right)\\n            {\\n                styledChar ch(r);\\n                buf[i++] = ch;\\n            }\\n            return buf;\\n        }\\n        \\n    friend wostream& operator<< (wostream &out, const styledString &str)\\n    {\\n        for(auto c : str)\\n        {\\n            out << c.GetChar();\\n        }       \\n        return out;\\n    };\\n};\\n\\nint main()\\n{\\n   styledString s(L\"test string\");\\n   \\n\\n   wcout << s << endl; \\n   \\n   return 0;\\n}                                                                                                                          \n",
       "928  #nikhol\\nSingh\\nAllshabsd\\nXxxx\\nSon\\nHappy\\nBoy\\nCar\\nRun\\nGood\\nGold\\nFat\\nBst\\nJam\\nVaninclude <stdio.h>\\n\\nint main()\\n{\\n    printf(\"Hello, World!\\n\");\\n\\n    return 0;\\n}                                                                                                                                                                                                                                                                                                                                                                                                                                                                                                                                                                                                                                                                                                                                                                                                                                                                                                                                                                                                                                                                                                                                                                                                                                                                                                                                                                                      \n",
       "\n",
       "    Language                  Title  \n",
       "924  java     Homework 5             \n",
       "925  c        gusta                  \n",
       "926  python   Execute Python Online  \n",
       "927  cpp      Custorm string         \n",
       "928  c        hamptor                "
      ]
     },
     "execution_count": 19,
     "metadata": {},
     "output_type": "execute_result"
    }
   ],
   "source": [
    "tutorialspoint.tail()"
   ]
  },
  {
   "cell_type": "code",
   "execution_count": null,
   "metadata": {},
   "outputs": [],
   "source": [
    "tutorialspoint.to_csv('E:\\\\Scrapped-Data\\\\TutorialsPointProgrammingExamples.csv', index=False)"
   ]
  }
 ],
 "metadata": {
  "kernelspec": {
   "display_name": "Python 3",
   "language": "python",
   "name": "python3"
  },
  "language_info": {
   "codemirror_mode": {
    "name": "ipython",
    "version": 3
   },
   "file_extension": ".py",
   "mimetype": "text/x-python",
   "name": "python",
   "nbconvert_exporter": "python",
   "pygments_lexer": "ipython3",
   "version": "3.7.3"
  },
  "toc": {
   "base_numbering": 1,
   "nav_menu": {},
   "number_sections": true,
   "sideBar": true,
   "skip_h1_title": false,
   "title_cell": "Table of Contents",
   "title_sidebar": "Contents",
   "toc_cell": false,
   "toc_position": {},
   "toc_section_display": true,
   "toc_window_display": false
  },
  "varInspector": {
   "cols": {
    "lenName": 16,
    "lenType": 16,
    "lenVar": 40
   },
   "kernels_config": {
    "python": {
     "delete_cmd_postfix": "",
     "delete_cmd_prefix": "del ",
     "library": "var_list.py",
     "varRefreshCmd": "print(var_dic_list())"
    },
    "r": {
     "delete_cmd_postfix": ") ",
     "delete_cmd_prefix": "rm(",
     "library": "var_list.r",
     "varRefreshCmd": "cat(var_dic_list()) "
    }
   },
   "types_to_exclude": [
    "module",
    "function",
    "builtin_function_or_method",
    "instance",
    "_Feature"
   ],
   "window_display": false
  }
 },
 "nbformat": 4,
 "nbformat_minor": 2
}
