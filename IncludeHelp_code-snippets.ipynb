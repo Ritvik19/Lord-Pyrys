{
 "cells": [
  {
   "cell_type": "markdown",
   "metadata": {},
   "source": [
    "https://www.includehelp.com/code-snippets/"
   ]
  },
  {
   "cell_type": "markdown",
   "metadata": {},
   "source": [
    "# Libraries"
   ]
  },
  {
   "cell_type": "code",
   "execution_count": 1,
   "metadata": {
    "ExecuteTime": {
     "end_time": "2019-05-30T08:27:48.502837Z",
     "start_time": "2019-05-30T08:27:47.586926Z"
    }
   },
   "outputs": [],
   "source": [
    "import requests, bs4\n",
    "import pandas as pd\n",
    "from IPython.display import clear_output\n",
    "\n",
    "pd.options.display.max_columns = 5\n",
    "pd.options.display.max_colwidth = -1"
   ]
  },
  {
   "cell_type": "markdown",
   "metadata": {},
   "source": [
    "# URLs to Scrape"
   ]
  },
  {
   "cell_type": "code",
   "execution_count": 2,
   "metadata": {
    "ExecuteTime": {
     "end_time": "2019-05-30T08:27:51.601586Z",
     "start_time": "2019-05-30T08:27:49.718767Z"
    }
   },
   "outputs": [],
   "source": [
    "url = 'https://www.includehelp.com/code-snippets/'\n",
    "urls = []\n",
    "res = requests.get(url)\n",
    "if res.status_code == requests.codes.ok:\n",
    "    ressoup = bs4.BeautifulSoup(res.text, 'lxml')\n",
    "    elems = ressoup.select('.w3-row.w3-padding.w3-sand a')\n",
    "    for e in elems:\n",
    "        urls.append('https://www.includehelp.com/code-snippets/'+e.get('href'))\n",
    "else:\n",
    "    print('Something went wrong')"
   ]
  },
  {
   "cell_type": "code",
   "execution_count": 3,
   "metadata": {
    "ExecuteTime": {
     "end_time": "2019-05-30T08:27:52.833029Z",
     "start_time": "2019-05-30T08:27:52.818557Z"
    }
   },
   "outputs": [
    {
     "data": {
      "text/plain": [
       "75"
      ]
     },
     "execution_count": 3,
     "metadata": {},
     "output_type": "execute_result"
    }
   ],
   "source": [
    "len(urls)"
   ]
  },
  {
   "cell_type": "markdown",
   "metadata": {
    "ExecuteTime": {
     "end_time": "2019-05-30T08:14:17.830746Z",
     "start_time": "2019-05-30T08:14:17.813764Z"
    }
   },
   "source": [
    "# Scraping"
   ]
  },
  {
   "cell_type": "code",
   "execution_count": 4,
   "metadata": {
    "ExecuteTime": {
     "end_time": "2019-05-30T08:27:54.380660Z",
     "start_time": "2019-05-30T08:27:54.364649Z"
    }
   },
   "outputs": [],
   "source": [
    "IncludeHelp = pd.DataFrame(columns=['Title', 'Code', 'Language'])"
   ]
  },
  {
   "cell_type": "code",
   "execution_count": 5,
   "metadata": {
    "ExecuteTime": {
     "end_time": "2019-05-30T08:29:20.666672Z",
     "start_time": "2019-05-30T08:27:56.169637Z"
    }
   },
   "outputs": [
    {
     "name": "stdout",
     "output_type": "stream",
     "text": [
      "75 / 75\n",
      "Generate random number within a range in JavaScript\n",
      "JavaScript\n",
      "function randomNumber(start, end) {\n",
      "  var diff = end - start;\n",
      "  return Math.floor((Math.random)*diff + start);\n",
      "}\n",
      "console.log(randomNumber(1111, 9999));\n",
      "\n",
      "\n",
      "\n"
     ]
    }
   ],
   "source": [
    "for i, u in enumerate(urls):\n",
    "    print(i+1, '/ 75')\n",
    "    res = requests.get(u)\n",
    "    if res.status_code == requests.codes.ok:\n",
    "        ressoup = bs4.BeautifulSoup(res.text, 'lxml')\n",
    "        title = ressoup.select('h1')[0].getText()\n",
    "        language = ressoup.select('a')[74].getText()\n",
    "        print(title)\n",
    "        print(language)\n",
    "        code = ''\n",
    "        elems = ressoup.select('pre')\n",
    "        for e in elems:\n",
    "            code += e.getText()+'\\n\\n'\n",
    "        print(code)\n",
    "        IncludeHelp = pd.concat([IncludeHelp, pd.DataFrame({\n",
    "            'Title': [title],\n",
    "            'Code': [code],\n",
    "            'Language': [language]\n",
    "        })], axis=0)\n",
    "        clear_output(wait=True)\n",
    "    else:\n",
    "        print('Something went wrong')"
   ]
  },
  {
   "cell_type": "code",
   "execution_count": 7,
   "metadata": {
    "ExecuteTime": {
     "end_time": "2019-05-30T08:30:00.457953Z",
     "start_time": "2019-05-30T08:30:00.423615Z"
    }
   },
   "outputs": [],
   "source": [
    "IncludeHelp.to_csv('E:\\Scrapped-Data/IncludeHelp_code-snippets.csv', index=False)"
   ]
  },
  {
   "cell_type": "code",
   "execution_count": null,
   "metadata": {},
   "outputs": [],
   "source": []
  }
 ],
 "metadata": {
  "kernelspec": {
   "display_name": "Python 3",
   "language": "python",
   "name": "python3"
  },
  "language_info": {
   "codemirror_mode": {
    "name": "ipython",
    "version": 3
   },
   "file_extension": ".py",
   "mimetype": "text/x-python",
   "name": "python",
   "nbconvert_exporter": "python",
   "pygments_lexer": "ipython3",
   "version": "3.7.3"
  },
  "toc": {
   "base_numbering": 1,
   "nav_menu": {},
   "number_sections": true,
   "sideBar": true,
   "skip_h1_title": false,
   "title_cell": "Table of Contents",
   "title_sidebar": "Contents",
   "toc_cell": false,
   "toc_position": {},
   "toc_section_display": true,
   "toc_window_display": false
  },
  "varInspector": {
   "cols": {
    "lenName": 16,
    "lenType": 16,
    "lenVar": 40
   },
   "kernels_config": {
    "python": {
     "delete_cmd_postfix": "",
     "delete_cmd_prefix": "del ",
     "library": "var_list.py",
     "varRefreshCmd": "print(var_dic_list())"
    },
    "r": {
     "delete_cmd_postfix": ") ",
     "delete_cmd_prefix": "rm(",
     "library": "var_list.r",
     "varRefreshCmd": "cat(var_dic_list()) "
    }
   },
   "types_to_exclude": [
    "module",
    "function",
    "builtin_function_or_method",
    "instance",
    "_Feature"
   ],
   "window_display": false
  }
 },
 "nbformat": 4,
 "nbformat_minor": 2
}
