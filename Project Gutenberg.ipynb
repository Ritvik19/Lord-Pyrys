{
 "cells": [
  {
   "cell_type": "markdown",
   "metadata": {},
   "source": [
    "# Libraries"
   ]
  },
  {
   "cell_type": "code",
   "execution_count": 1,
   "metadata": {
    "ExecuteTime": {
     "end_time": "2019-07-30T16:38:04.411477Z",
     "start_time": "2019-07-30T16:37:59.964375Z"
    }
   },
   "outputs": [],
   "source": [
    "import requests, bs4\n",
    "import numpy as np\n",
    "import pandas as pd\n",
    "from IPython.display import clear_output"
   ]
  },
  {
   "cell_type": "code",
   "execution_count": 2,
   "metadata": {
    "ExecuteTime": {
     "end_time": "2019-07-30T16:38:04.421454Z",
     "start_time": "2019-07-30T16:38:04.415532Z"
    }
   },
   "outputs": [],
   "source": [
    "import pickle"
   ]
  },
  {
   "cell_type": "markdown",
   "metadata": {},
   "source": [
    "# Scraping"
   ]
  },
  {
   "cell_type": "code",
   "execution_count": 3,
   "metadata": {
    "ExecuteTime": {
     "end_time": "2019-07-30T16:38:08.175410Z",
     "start_time": "2019-07-30T16:38:04.425678Z"
    }
   },
   "outputs": [],
   "source": [
    "subcategories = []\n",
    "for url in ['https://www.gutenberg.org/w/index.php?title=Category:Bookshelf&pageuntil=The+Contemporary+Review+%28Bookshelf%29#mw-pages',\n",
    "           'https://www.gutenberg.org/w/index.php?title=Category:Bookshelf&pagefrom=The+Contemporary+Review+%28Bookshelf%29#mw-pages']:\n",
    "    res = requests.get(url)\n",
    "    if res.status_code == requests.codes.ok:\n",
    "        ressoup = bs4.BeautifulSoup(res.text, 'lxml')\n",
    "        elems = ressoup.select('li a')\n",
    "        for i, e in enumerate(elems[26:-14]):\n",
    "            subcategories.append('https://www.gutenberg.org'+e.get('href').strip())\n",
    "    else:\n",
    "        print('Something went wrong')"
   ]
  },
  {
   "cell_type": "code",
   "execution_count": null,
   "metadata": {
    "ExecuteTime": {
     "start_time": "2019-07-30T16:37:59.981Z"
    }
   },
   "outputs": [
    {
     "data": {
      "text/plain": [
       "243"
      ]
     },
     "execution_count": 4,
     "metadata": {},
     "output_type": "execute_result"
    }
   ],
   "source": [
    "len(subcategories)"
   ]
  },
  {
   "cell_type": "code",
   "execution_count": null,
   "metadata": {
    "ExecuteTime": {
     "start_time": "2019-07-30T16:37:59.985Z"
    }
   },
   "outputs": [],
   "source": [
    "pickle.dump(subcategories, open('E:/Scrapped-Data/Bookmarks/subcategories.pkl', 'wb'))"
   ]
  },
  {
   "cell_type": "code",
   "execution_count": null,
   "metadata": {
    "ExecuteTime": {
     "start_time": "2019-07-30T16:37:59.989Z"
    }
   },
   "outputs": [],
   "source": [
    "subcategories = pickle.load(open('E:/Scrapped-Data/Bookmarks/subcategories.pkl', 'rb'))"
   ]
  },
  {
   "cell_type": "code",
   "execution_count": null,
   "metadata": {
    "ExecuteTime": {
     "start_time": "2019-07-30T16:37:59.994Z"
    }
   },
   "outputs": [
    {
     "name": "stdout",
     "output_type": "stream",
     "text": [
      "102/243\n"
     ]
    }
   ],
   "source": [
    "books = []\n",
    "for i, url in enumerate(subcategories):\n",
    "    print(f'{i+1}/{len(subcategories)}')\n",
    "    res = requests.get(url)\n",
    "    if res.status_code == requests.codes.ok:\n",
    "        ressoup = bs4.BeautifulSoup(res.text, 'lxml')\n",
    "        elems = ressoup.select('li a')\n",
    "        for e in elems[4:-12]:\n",
    "            if e.get('href').strip().startswith('//www.gutenberg.org/'):\n",
    "                books.append('https:'+e.get('href').strip())\n",
    "    else:\n",
    "        print('Something went wrong')\n",
    "    clear_output(wait=True)"
   ]
  },
  {
   "cell_type": "code",
   "execution_count": null,
   "metadata": {
    "ExecuteTime": {
     "start_time": "2019-07-30T16:38:00.000Z"
    }
   },
   "outputs": [],
   "source": [
    "len(books)"
   ]
  },
  {
   "cell_type": "code",
   "execution_count": null,
   "metadata": {
    "ExecuteTime": {
     "start_time": "2019-07-30T16:38:00.005Z"
    }
   },
   "outputs": [],
   "source": [
    "pickle.dump(books, open('E:/Scrapped-Data/Bookmarks/books.pkl', 'wb'))"
   ]
  },
  {
   "cell_type": "code",
   "execution_count": null,
   "metadata": {
    "ExecuteTime": {
     "start_time": "2019-07-30T16:38:00.014Z"
    }
   },
   "outputs": [],
   "source": [
    "books = pickle.load(open('E:/Scrapped-Data/Bookmarks/books.pkl', 'rb'))"
   ]
  },
  {
   "cell_type": "code",
   "execution_count": null,
   "metadata": {
    "ExecuteTime": {
     "start_time": "2019-07-30T16:38:00.022Z"
    }
   },
   "outputs": [],
   "source": [
    "for url in books:\n",
    "    print(f'{i+1}/{len(books)}')\n",
    "    res = requests.get(url)\n",
    "    if res.status_code == requests.codes.ok:\n",
    "        ressoup = bs4.BeautifulSoup(res.text, 'lxml')\n",
    "        title = ressoup.select('h1')[0].getText().strip()\n",
    "        text = 'https:'+ressoup.select('a.link')[5].get('href').strip()\n",
    "        print(title, text)\n",
    "        u = text\n",
    "        res = requests.get(u)\n",
    "        with open('E:/Scrapped-Data/ProjectGutenberg/'+title+'.txt', 'wb') as f:\n",
    "            for chunk in res.iter_content(100000):\n",
    "                    f.write(chunk)\n",
    "        print('File Written Successfully')\n",
    "    else:\n",
    "        print('Something went wrong')\n",
    "    clear_output(wait=True)"
   ]
  },
  {
   "cell_type": "code",
   "execution_count": null,
   "metadata": {},
   "outputs": [],
   "source": []
  }
 ],
 "metadata": {
  "kernelspec": {
   "display_name": "Python 3",
   "language": "python",
   "name": "python3"
  },
  "language_info": {
   "codemirror_mode": {
    "name": "ipython",
    "version": 3
   },
   "file_extension": ".py",
   "mimetype": "text/x-python",
   "name": "python",
   "nbconvert_exporter": "python",
   "pygments_lexer": "ipython3",
   "version": "3.7.3"
  },
  "toc": {
   "base_numbering": 1,
   "nav_menu": {},
   "number_sections": true,
   "sideBar": true,
   "skip_h1_title": false,
   "title_cell": "Table of Contents",
   "title_sidebar": "Contents",
   "toc_cell": false,
   "toc_position": {},
   "toc_section_display": true,
   "toc_window_display": false
  },
  "varInspector": {
   "cols": {
    "lenName": 16,
    "lenType": 16,
    "lenVar": 40
   },
   "kernels_config": {
    "python": {
     "delete_cmd_postfix": "",
     "delete_cmd_prefix": "del ",
     "library": "var_list.py",
     "varRefreshCmd": "print(var_dic_list())"
    },
    "r": {
     "delete_cmd_postfix": ") ",
     "delete_cmd_prefix": "rm(",
     "library": "var_list.r",
     "varRefreshCmd": "cat(var_dic_list()) "
    }
   },
   "types_to_exclude": [
    "module",
    "function",
    "builtin_function_or_method",
    "instance",
    "_Feature"
   ],
   "window_display": false
  }
 },
 "nbformat": 4,
 "nbformat_minor": 2
}
