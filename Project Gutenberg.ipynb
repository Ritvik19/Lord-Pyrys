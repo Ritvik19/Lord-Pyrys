{
 "cells": [
  {
   "cell_type": "markdown",
   "metadata": {},
   "source": [
    "# Libraries"
   ]
  },
  {
   "cell_type": "code",
   "execution_count": 1,
   "metadata": {
    "ExecuteTime": {
     "end_time": "2019-07-30T14:04:03.023893Z",
     "start_time": "2019-07-30T14:04:01.143417Z"
    }
   },
   "outputs": [],
   "source": [
    "import requests, bs4\n",
    "import numpy as np\n",
    "import pandas as pd\n",
    "from IPython.display import clear_output"
   ]
  },
  {
   "cell_type": "markdown",
   "metadata": {},
   "source": [
    "# Scraping"
   ]
  },
  {
   "cell_type": "code",
   "execution_count": 20,
   "metadata": {
    "ExecuteTime": {
     "end_time": "2019-07-30T14:25:59.767014Z",
     "start_time": "2019-07-30T14:25:58.618905Z"
    }
   },
   "outputs": [
    {
     "name": "stdout",
     "output_type": "stream",
     "text": [
      "0\n",
      "The Complete Works of William Shakespeare\n",
      "//www.gutenberg.org/ebooks/100\n",
      "1\n",
      "Hamlet, Prince of Denmark\n",
      "//www.gutenberg.org/ebooks/1524\n",
      "2\n",
      "Macbeth\n",
      "//www.gutenberg.org/ebooks/2264\n",
      "3\n",
      "Pygmalion\n",
      "//www.gutenberg.org/ebooks/3825\n",
      "4\n",
      "Oedipus Trilogy\n",
      "//www.gutenberg.org/ebooks/31\n",
      "5\n",
      "The Importance of Being Earnest: A Trivial Comedy for Serious People\n",
      "//www.gutenberg.org/ebooks/844\n",
      "6\n",
      "An Ideal Husband\n",
      "//www.gutenberg.org/ebooks/885\n",
      "7\n",
      "A Woman of No Importance\n",
      "//www.gutenberg.org/ebooks/854\n"
     ]
    }
   ],
   "source": [
    "books = []\n",
    "url = 'https://www.gutenberg.org/wiki/Plays_(Bookshelf)'\n",
    "res = requests.get(url)\n",
    "if res.status_code == requests.codes.ok:\n",
    "    ressoup = bs4.BeautifulSoup(res.text, 'lxml')\n",
    "    elems = ressoup.select('li a')\n",
    "    for i, e in enumerate(elems[5:-12:2]):\n",
    "        print(i)\n",
    "        print(e.getText())\n",
    "        print(e.get('href').strip())\n",
    "        books.append('https:'+e.get('href').strip())\n",
    "\n",
    "else:\n",
    "    print('Something went wrong')"
   ]
  },
  {
   "cell_type": "code",
   "execution_count": 16,
   "metadata": {
    "ExecuteTime": {
     "end_time": "2019-07-30T14:24:17.170923Z",
     "start_time": "2019-07-30T14:24:15.982481Z"
    }
   },
   "outputs": [
    {
     "name": "stdout",
     "output_type": "stream",
     "text": [
      "The Complete Works of William Shakespeare by William Shakespeare https://www.gutenberg.org/files/100/100-0.txt\n"
     ]
    }
   ],
   "source": [
    "url = 'https://www.gutenberg.org/ebooks/100'\n",
    "res = requests.get(url)\n",
    "if res.status_code == requests.codes.ok:\n",
    "    ressoup = bs4.BeautifulSoup(res.text, 'lxml')\n",
    "    title = ressoup.select('h1')[0].getText().strip()\n",
    "    text = 'https:'+ressoup.select('a.link')[5].get('href').strip()\n",
    "    print(title, text)\n",
    "else:\n",
    "    print('Something went wrong')"
   ]
  },
  {
   "cell_type": "code",
   "execution_count": 21,
   "metadata": {
    "ExecuteTime": {
     "end_time": "2019-07-30T14:28:44.224228Z",
     "start_time": "2019-07-30T14:28:31.985878Z"
    }
   },
   "outputs": [],
   "source": [
    "url = text\n",
    "res = requests.get(url)\n",
    "with open('E:/Scrapped-Data/ProjectGutenberg/'+title+'.txt', 'wb') as f:\n",
    "    for chunk in res.iter_content(100000):\n",
    "            f.write(chunk)"
   ]
  },
  {
   "cell_type": "code",
   "execution_count": null,
   "metadata": {},
   "outputs": [],
   "source": []
  }
 ],
 "metadata": {
  "kernelspec": {
   "display_name": "Python 3",
   "language": "python",
   "name": "python3"
  },
  "language_info": {
   "codemirror_mode": {
    "name": "ipython",
    "version": 3
   },
   "file_extension": ".py",
   "mimetype": "text/x-python",
   "name": "python",
   "nbconvert_exporter": "python",
   "pygments_lexer": "ipython3",
   "version": "3.7.3"
  },
  "toc": {
   "base_numbering": 1,
   "nav_menu": {},
   "number_sections": true,
   "sideBar": true,
   "skip_h1_title": false,
   "title_cell": "Table of Contents",
   "title_sidebar": "Contents",
   "toc_cell": false,
   "toc_position": {},
   "toc_section_display": true,
   "toc_window_display": false
  },
  "varInspector": {
   "cols": {
    "lenName": 16,
    "lenType": 16,
    "lenVar": 40
   },
   "kernels_config": {
    "python": {
     "delete_cmd_postfix": "",
     "delete_cmd_prefix": "del ",
     "library": "var_list.py",
     "varRefreshCmd": "print(var_dic_list())"
    },
    "r": {
     "delete_cmd_postfix": ") ",
     "delete_cmd_prefix": "rm(",
     "library": "var_list.r",
     "varRefreshCmd": "cat(var_dic_list()) "
    }
   },
   "types_to_exclude": [
    "module",
    "function",
    "builtin_function_or_method",
    "instance",
    "_Feature"
   ],
   "window_display": false
  }
 },
 "nbformat": 4,
 "nbformat_minor": 2
}
