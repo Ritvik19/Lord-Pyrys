{
 "cells": [
  {
   "cell_type": "markdown",
   "metadata": {},
   "source": [
    "# Libraries"
   ]
  },
  {
   "cell_type": "code",
   "execution_count": 1,
   "metadata": {
    "ExecuteTime": {
     "end_time": "2019-08-25T04:21:45.709551Z",
     "start_time": "2019-08-25T04:21:44.469198Z"
    }
   },
   "outputs": [],
   "source": [
    "import praw\n",
    "import pandas as pd\n",
    "from tqdm.auto import tqdm\n",
    "from datetime import datetime\n",
    "import os.path"
   ]
  },
  {
   "cell_type": "code",
   "execution_count": 2,
   "metadata": {
    "ExecuteTime": {
     "end_time": "2019-08-25T04:21:45.718452Z",
     "start_time": "2019-08-25T04:21:45.713100Z"
    }
   },
   "outputs": [],
   "source": [
    "pd.options.display.max_colwidth = -1"
   ]
  },
  {
   "cell_type": "markdown",
   "metadata": {},
   "source": [
    "# Scraping"
   ]
  },
  {
   "cell_type": "code",
   "execution_count": 3,
   "metadata": {
    "ExecuteTime": {
     "end_time": "2019-08-25T04:21:45.897618Z",
     "start_time": "2019-08-25T04:21:45.722661Z"
    }
   },
   "outputs": [],
   "source": [
    "with open('E:/RedditCredentials.txt') as f:\n",
    "    credentials = list(map(lambda x: x.strip(), f.readlines()))"
   ]
  },
  {
   "cell_type": "code",
   "execution_count": 4,
   "metadata": {
    "ExecuteTime": {
     "end_time": "2019-08-25T04:21:48.399162Z",
     "start_time": "2019-08-25T04:21:45.905816Z"
    }
   },
   "outputs": [
    {
     "name": "stdout",
     "output_type": "stream",
     "text": [
      "Ritvik19\n"
     ]
    }
   ],
   "source": [
    "reddit = praw.Reddit(client_id=credentials[0],\n",
    "                     client_secret=credentials[1],\n",
    "                     password=credentials[2],\n",
    "                     user_agent=credentials[3],\n",
    "                     username=credentials[4])\n",
    "print(reddit.user.me())"
   ]
  },
  {
   "cell_type": "code",
   "execution_count": 5,
   "metadata": {
    "ExecuteTime": {
     "end_time": "2019-08-25T05:48:39.132716Z",
     "start_time": "2019-08-25T04:21:48.408214Z"
    }
   },
   "outputs": [
    {
     "data": {
      "application/vnd.jupyter.widget-view+json": {
       "model_id": "bb524ba9d9a0423c98e46dde0ff04849",
       "version_major": 2,
       "version_minor": 0
      },
      "text/plain": [
       "HBox(children=(IntProgress(value=1, bar_style='info', max=1), HTML(value='')))"
      ]
     },
     "metadata": {},
     "output_type": "display_data"
    },
    {
     "name": "stdout",
     "output_type": "stream",
     "text": [
      "\n"
     ]
    }
   ],
   "source": [
    "subreddit = reddit.subreddit('AskReddit')\n",
    "redds = []\n",
    "ts = []\n",
    "comment1 = []\n",
    "comment2 = []\n",
    "comment3 = []\n",
    "comment4 = []\n",
    "comment5 = []\n",
    "\n",
    "top_subreddit = subreddit.hot(limit=1000)\n",
    "for sr in tqdm(top_subreddit):\n",
    "    try:\n",
    "        if not sr.stickied:\n",
    "            comments = sr.comments.list()\n",
    "            if len(comments) >= 5:\n",
    "                redds.append(sr.title)\n",
    "                ts.append(sr.created_utc)\n",
    "                comment1.append(comments[0].body)\n",
    "                comment2.append(comments[1].body)\n",
    "                comment3.append(comments[2].body)\n",
    "                comment4.append(comments[3].body)\n",
    "                comment5.append(comments[4].body)\n",
    "    except Exception as e:\n",
    "        print(e)"
   ]
  },
  {
   "cell_type": "code",
   "execution_count": 6,
   "metadata": {
    "ExecuteTime": {
     "end_time": "2019-08-25T05:48:39.179178Z",
     "start_time": "2019-08-25T05:48:39.141692Z"
    }
   },
   "outputs": [],
   "source": [
    "ts = list(map(lambda x : datetime.fromtimestamp(x).strftime(\"%Y/%m/%d %H:%M:%S\"), ts))"
   ]
  },
  {
   "cell_type": "code",
   "execution_count": 7,
   "metadata": {
    "ExecuteTime": {
     "end_time": "2019-08-25T05:48:39.361917Z",
     "start_time": "2019-08-25T05:48:39.183245Z"
    }
   },
   "outputs": [],
   "source": [
    "FILEPATH = 'E:/Scrapped-Data/Reddit-Ask Reddit.csv'"
   ]
  },
  {
   "cell_type": "code",
   "execution_count": 8,
   "metadata": {
    "ExecuteTime": {
     "end_time": "2019-08-25T05:48:41.730780Z",
     "start_time": "2019-08-25T05:48:39.380230Z"
    }
   },
   "outputs": [
    {
     "name": "stdout",
     "output_type": "stream",
     "text": [
      "718\n",
      "156 New Reddits\n",
      "34126\n"
     ]
    }
   ],
   "source": [
    "if os.path.exists(FILEPATH):\n",
    "    d_old = pd.read_csv(FILEPATH)\n",
    "    d_new = pd.DataFrame({'Reddit':redds, 'TimeStamp':ts, 'Comment1':comment1, 'Comment2':comment2, 'Comment3':comment3, \n",
    "                          'Comment4':comment4, 'Comment5':comment5})\n",
    "    print(len(d_new))\n",
    "    d_all = pd.concat([d_new, d_old], axis=0)\n",
    "else:\n",
    "    d_all = pd.DataFrame({'Reddit':redds, 'TimeStamp':ts, 'Comment1':comment1, 'Comment2':comment2, 'Comment3':comment3, \n",
    "                      'Comment4':comment4, 'Comment5':comment5})\n",
    "d_all.drop_duplicates(subset=['Reddit'],inplace=True)\n",
    "d_all.sort_values('TimeStamp', ascending=False, inplace=True)\n",
    "d_all.to_csv(FILEPATH, index=False)\n",
    "print(f'{len(d_all)-len(d_old)} New Reddits') if os.path.exists(FILEPATH) else ()\n",
    "print(len(d_all))"
   ]
  },
  {
   "cell_type": "code",
   "execution_count": 9,
   "metadata": {
    "ExecuteTime": {
     "end_time": "2019-08-25T05:48:41.777096Z",
     "start_time": "2019-08-25T05:48:41.736736Z"
    }
   },
   "outputs": [
    {
     "data": {
      "text/html": [
       "<div>\n",
       "<style scoped>\n",
       "    .dataframe tbody tr th:only-of-type {\n",
       "        vertical-align: middle;\n",
       "    }\n",
       "\n",
       "    .dataframe tbody tr th {\n",
       "        vertical-align: top;\n",
       "    }\n",
       "\n",
       "    .dataframe thead th {\n",
       "        text-align: right;\n",
       "    }\n",
       "</style>\n",
       "<table border=\"1\" class=\"dataframe\">\n",
       "  <thead>\n",
       "    <tr style=\"text-align: right;\">\n",
       "      <th></th>\n",
       "      <th>Reddit</th>\n",
       "      <th>TimeStamp</th>\n",
       "      <th>Comment1</th>\n",
       "      <th>Comment2</th>\n",
       "      <th>Comment3</th>\n",
       "      <th>Comment4</th>\n",
       "      <th>Comment5</th>\n",
       "    </tr>\n",
       "  </thead>\n",
       "  <tbody>\n",
       "    <tr>\n",
       "      <th>557</th>\n",
       "      <td>Dear Gamers of Reddit, why do you use the platform you currently are using?</td>\n",
       "      <td>2019/08/25 11:02:22</td>\n",
       "      <td>Because PS4 is badass</td>\n",
       "      <td>Grew up a Nintendo kid, wanted to branch out, got the Xbox one because the backwards compatibility was better at the time and I had played Xbox 360 at other friends houses. I plan to try play station next.</td>\n",
       "      <td>Because I can get games for really cheap on Steam</td>\n",
       "      <td>To get all the ladies. Why else?</td>\n",
       "      <td>PC. Because loading time is for pussies</td>\n",
       "    </tr>\n",
       "    <tr>\n",
       "      <th>563</th>\n",
       "      <td>What would you do if the internet stopped working?</td>\n",
       "      <td>2019/08/25 11:01:02</td>\n",
       "      <td>If it was a local problem, I'd work to get it fixed.\\n\\nIf it was a global, permanent problem, I'd likely toss myself from a very high building.</td>\n",
       "      <td>work on it</td>\n",
       "      <td>Actually talk to people....gross</td>\n",
       "      <td>Start fapping with the already downloaded porn videos</td>\n",
       "      <td>Cry.</td>\n",
       "    </tr>\n",
       "    <tr>\n",
       "      <th>569</th>\n",
       "      <td>You get to choose your own name, what is it?</td>\n",
       "      <td>2019/08/25 10:59:18</td>\n",
       "      <td>ItsAllInMyOwnHead</td>\n",
       "      <td>Jeff Bezos\\n\\nThat way I get all of his money. That's how it works.</td>\n",
       "      <td>General Dick Tater</td>\n",
       "      <td>Nichole hinderson</td>\n",
       "      <td>I already did.</td>\n",
       "    </tr>\n",
       "    <tr>\n",
       "      <th>574</th>\n",
       "      <td>What's the funniest thing you've done while under the influence of drugs or alcohol?</td>\n",
       "      <td>2019/08/25 10:58:14</td>\n",
       "      <td>Trying to turn into my friends driveway but instead I pulled right into his yard</td>\n",
       "      <td>I don’t remember</td>\n",
       "      <td>Nut in a few girls. Good times.</td>\n",
       "      <td>I'll never forget, I was trying to explain to my friend how to connect his switch controls to his Switch. We were stoned af. And I kept telling him there was a small button you had to press on the back like a reset button. And I was looking all over trying to find that damn button.\\n\\nTL;DR I was explaining how to reset a PS4 control whole holding a Switch Joycon.</td>\n",
       "      <td>Classic Im sorry I ruined your yard</td>\n",
       "    </tr>\n",
       "    <tr>\n",
       "      <th>577</th>\n",
       "      <td>Who is the oldest historical figure that is still widely know about?</td>\n",
       "      <td>2019/08/25 10:56:56</td>\n",
       "      <td>Lucy</td>\n",
       "      <td>Keith Richards</td>\n",
       "      <td>Adam</td>\n",
       "      <td>Nefertiti</td>\n",
       "      <td>Caesar</td>\n",
       "    </tr>\n",
       "  </tbody>\n",
       "</table>\n",
       "</div>"
      ],
      "text/plain": [
       "                                                                                   Reddit  \\\n",
       "557  Dear Gamers of Reddit, why do you use the platform you currently are using?            \n",
       "563  What would you do if the internet stopped working?                                     \n",
       "569  You get to choose your own name, what is it?                                           \n",
       "574  What's the funniest thing you've done while under the influence of drugs or alcohol?   \n",
       "577  Who is the oldest historical figure that is still widely know about?                   \n",
       "\n",
       "               TimeStamp  \\\n",
       "557  2019/08/25 11:02:22   \n",
       "563  2019/08/25 11:01:02   \n",
       "569  2019/08/25 10:59:18   \n",
       "574  2019/08/25 10:58:14   \n",
       "577  2019/08/25 10:56:56   \n",
       "\n",
       "                                                                                                                                             Comment1  \\\n",
       "557  Because PS4 is badass                                                                                                                              \n",
       "563  If it was a local problem, I'd work to get it fixed.\\n\\nIf it was a global, permanent problem, I'd likely toss myself from a very high building.   \n",
       "569  ItsAllInMyOwnHead                                                                                                                                  \n",
       "574  Trying to turn into my friends driveway but instead I pulled right into his yard                                                                   \n",
       "577  Lucy                                                                                                                                               \n",
       "\n",
       "                                                                                                                                                                                                          Comment2  \\\n",
       "557  Grew up a Nintendo kid, wanted to branch out, got the Xbox one because the backwards compatibility was better at the time and I had played Xbox 360 at other friends houses. I plan to try play station next.   \n",
       "563  work on it                                                                                                                                                                                                      \n",
       "569  Jeff Bezos\\n\\nThat way I get all of his money. That's how it works.                                                                                                                                             \n",
       "574  I don’t remember                                                                                                                                                                                                \n",
       "577  Keith Richards                                                                                                                                                                                                  \n",
       "\n",
       "                                              Comment3  \\\n",
       "557  Because I can get games for really cheap on Steam   \n",
       "563  Actually talk to people....gross                    \n",
       "569  General Dick Tater                                  \n",
       "574  Nut in a few girls. Good times.                     \n",
       "577  Adam                                                \n",
       "\n",
       "                                                                                                                                                                                                                                                                                                                                                                           Comment4  \\\n",
       "557  To get all the ladies. Why else?                                                                                                                                                                                                                                                                                                                                                 \n",
       "563  Start fapping with the already downloaded porn videos                                                                                                                                                                                                                                                                                                                            \n",
       "569  Nichole hinderson                                                                                                                                                                                                                                                                                                                                                                \n",
       "574  I'll never forget, I was trying to explain to my friend how to connect his switch controls to his Switch. We were stoned af. And I kept telling him there was a small button you had to press on the back like a reset button. And I was looking all over trying to find that damn button.\\n\\nTL;DR I was explaining how to reset a PS4 control whole holding a Switch Joycon.   \n",
       "577  Nefertiti                                                                                                                                                                                                                                                                                                                                                                        \n",
       "\n",
       "                                    Comment5  \n",
       "557  PC. Because loading time is for pussies  \n",
       "563  Cry.                                     \n",
       "569  I already did.                           \n",
       "574  Classic Im sorry I ruined your yard      \n",
       "577  Caesar                                   "
      ]
     },
     "execution_count": 9,
     "metadata": {},
     "output_type": "execute_result"
    }
   ],
   "source": [
    "d_all.head()"
   ]
  }
 ],
 "metadata": {
  "kernelspec": {
   "display_name": "Python 3",
   "language": "python",
   "name": "python3"
  },
  "language_info": {
   "codemirror_mode": {
    "name": "ipython",
    "version": 3
   },
   "file_extension": ".py",
   "mimetype": "text/x-python",
   "name": "python",
   "nbconvert_exporter": "python",
   "pygments_lexer": "ipython3",
   "version": "3.7.3"
  },
  "toc": {
   "base_numbering": 1,
   "nav_menu": {},
   "number_sections": true,
   "sideBar": true,
   "skip_h1_title": false,
   "title_cell": "Table of Contents",
   "title_sidebar": "Contents",
   "toc_cell": false,
   "toc_position": {},
   "toc_section_display": true,
   "toc_window_display": false
  },
  "varInspector": {
   "cols": {
    "lenName": 16,
    "lenType": 16,
    "lenVar": 40
   },
   "kernels_config": {
    "python": {
     "delete_cmd_postfix": "",
     "delete_cmd_prefix": "del ",
     "library": "var_list.py",
     "varRefreshCmd": "print(var_dic_list())"
    },
    "r": {
     "delete_cmd_postfix": ") ",
     "delete_cmd_prefix": "rm(",
     "library": "var_list.r",
     "varRefreshCmd": "cat(var_dic_list()) "
    }
   },
   "types_to_exclude": [
    "module",
    "function",
    "builtin_function_or_method",
    "instance",
    "_Feature"
   ],
   "window_display": false
  }
 },
 "nbformat": 4,
 "nbformat_minor": 2
}
