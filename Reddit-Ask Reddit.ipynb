{
 "cells": [
  {
   "cell_type": "markdown",
   "metadata": {},
   "source": [
    "# Libraries"
   ]
  },
  {
   "cell_type": "code",
   "execution_count": 1,
   "metadata": {
    "ExecuteTime": {
     "end_time": "2019-07-29T12:13:29.468039Z",
     "start_time": "2019-07-29T12:13:13.030985Z"
    }
   },
   "outputs": [],
   "source": [
    "import praw\n",
    "import pandas as pd\n",
    "from tqdm import tqdm\n",
    "from datetime import datetime"
   ]
  },
  {
   "cell_type": "code",
   "execution_count": 2,
   "metadata": {
    "ExecuteTime": {
     "end_time": "2019-07-29T12:13:29.476003Z",
     "start_time": "2019-07-29T12:13:29.472011Z"
    }
   },
   "outputs": [],
   "source": [
    "pd.options.display.max_colwidth = -1"
   ]
  },
  {
   "cell_type": "markdown",
   "metadata": {},
   "source": [
    "# Scraping"
   ]
  },
  {
   "cell_type": "code",
   "execution_count": 3,
   "metadata": {
    "ExecuteTime": {
     "end_time": "2019-07-29T12:13:29.836037Z",
     "start_time": "2019-07-29T12:13:29.479989Z"
    }
   },
   "outputs": [],
   "source": [
    "with open('E:/RedditCredentials.txt') as f:\n",
    "    credentials = list(map(lambda x: x.strip(), f.readlines()))"
   ]
  },
  {
   "cell_type": "code",
   "execution_count": 4,
   "metadata": {
    "ExecuteTime": {
     "end_time": "2019-07-29T12:13:33.416460Z",
     "start_time": "2019-07-29T12:13:29.839031Z"
    }
   },
   "outputs": [
    {
     "name": "stdout",
     "output_type": "stream",
     "text": [
      "Ritvik19\n"
     ]
    }
   ],
   "source": [
    "reddit = praw.Reddit(client_id=credentials[0],\n",
    "                     client_secret=credentials[1],\n",
    "                     password=credentials[2],\n",
    "                     user_agent=credentials[3],\n",
    "                     username=credentials[4])\n",
    "print(reddit.user.me())"
   ]
  },
  {
   "cell_type": "code",
   "execution_count": 5,
   "metadata": {
    "ExecuteTime": {
     "end_time": "2019-07-29T12:29:38.852301Z",
     "start_time": "2019-07-29T12:13:33.419452Z"
    }
   },
   "outputs": [
    {
     "name": "stderr",
     "output_type": "stream",
     "text": [
      "814it [16:05,  1.44it/s]\n"
     ]
    }
   ],
   "source": [
    "subreddit = reddit.subreddit('AskReddit')\n",
    "redds = []\n",
    "ts = []\n",
    "comment1 = []\n",
    "comment2 = []\n",
    "comment3 = []\n",
    "comment4 = []\n",
    "comment5 = []\n",
    "\n",
    "top_subreddit = subreddit.hot(limit=1000)\n",
    "for sr in tqdm(top_subreddit):\n",
    "    try:\n",
    "        if not sr.stickied:\n",
    "            comments = sr.comments.list()\n",
    "            if len(comments) >= 5:\n",
    "                redds.append(sr.title)\n",
    "                ts.append(sr.created_utc)\n",
    "                comment1.append(comments[0].body)\n",
    "                comment2.append(comments[1].body)\n",
    "                comment3.append(comments[2].body)\n",
    "                comment4.append(comments[3].body)\n",
    "                comment5.append(comments[4].body)\n",
    "    except Exception as e:\n",
    "        print(e)"
   ]
  },
  {
   "cell_type": "code",
   "execution_count": 6,
   "metadata": {
    "ExecuteTime": {
     "end_time": "2019-07-29T12:29:38.868259Z",
     "start_time": "2019-07-29T12:29:38.855293Z"
    }
   },
   "outputs": [],
   "source": [
    "ts = list(map(lambda x : datetime.fromtimestamp(x).strftime(\"%Y/%m/%d %H:%M:%S\"), ts))"
   ]
  },
  {
   "cell_type": "code",
   "execution_count": 7,
   "metadata": {
    "ExecuteTime": {
     "end_time": "2019-07-29T12:29:39.076699Z",
     "start_time": "2019-07-29T12:29:38.871250Z"
    }
   },
   "outputs": [],
   "source": [
    "FILEPATH = 'E:/Scrapped-Data/Reddit-Ask Reddit.csv'"
   ]
  },
  {
   "cell_type": "code",
   "execution_count": 8,
   "metadata": {
    "ExecuteTime": {
     "end_time": "2019-07-29T12:29:39.379888Z",
     "start_time": "2019-07-29T12:29:39.080690Z"
    }
   },
   "outputs": [],
   "source": [
    "# First Time\n",
    "# d_all = pd.DataFrame({'Reddit':redds, 'TimeStamp':ts, 'Comment1':comment1, 'Comment2':comment2, 'Comment3':comment3, \n",
    "#                       'Comment4':comment4, 'Comment5':comment5})\n",
    "# d_all.drop_duplicates(subset=['Reddit'],inplace=True)\n",
    "# d_all.sort_values('TimeStamp', ascending=False, inplace=True)\n",
    "# d_all.to_csv(FILEPATH, index=False)"
   ]
  },
  {
   "cell_type": "code",
   "execution_count": 9,
   "metadata": {
    "ExecuteTime": {
     "end_time": "2019-07-29T12:29:40.001225Z",
     "start_time": "2019-07-29T12:29:39.382880Z"
    }
   },
   "outputs": [],
   "source": [
    "d_old = pd.read_csv(FILEPATH)\n",
    "d_new = pd.DataFrame({'Reddit':redds, 'TimeStamp':ts, 'Comment1':comment1, 'Comment2':comment2, 'Comment3':comment3, \n",
    "                      'Comment4':comment4, 'Comment5':comment5})\n",
    "\n",
    "d_all = pd.concat([d_new, d_old], axis=0)\n",
    "d_all.drop_duplicates(subset=['Reddit'],inplace=True)\n",
    "d_all.sort_values('TimeStamp', ascending=False, inplace=True)\n",
    "d_all.to_csv(FILEPATH, index=False)"
   ]
  },
  {
   "cell_type": "code",
   "execution_count": 10,
   "metadata": {
    "ExecuteTime": {
     "end_time": "2019-07-29T12:29:40.087995Z",
     "start_time": "2019-07-29T12:29:40.003222Z"
    }
   },
   "outputs": [
    {
     "data": {
      "text/html": [
       "<div>\n",
       "<style scoped>\n",
       "    .dataframe tbody tr th:only-of-type {\n",
       "        vertical-align: middle;\n",
       "    }\n",
       "\n",
       "    .dataframe tbody tr th {\n",
       "        vertical-align: top;\n",
       "    }\n",
       "\n",
       "    .dataframe thead th {\n",
       "        text-align: right;\n",
       "    }\n",
       "</style>\n",
       "<table border=\"1\" class=\"dataframe\">\n",
       "  <thead>\n",
       "    <tr style=\"text-align: right;\">\n",
       "      <th></th>\n",
       "      <th>Reddit</th>\n",
       "      <th>TimeStamp</th>\n",
       "      <th>Comment1</th>\n",
       "      <th>Comment2</th>\n",
       "      <th>Comment3</th>\n",
       "      <th>Comment4</th>\n",
       "      <th>Comment5</th>\n",
       "    </tr>\n",
       "  </thead>\n",
       "  <tbody>\n",
       "    <tr>\n",
       "      <th>389</th>\n",
       "      <td>if you were a colour what would it be and why?</td>\n",
       "      <td>2019/07/29 17:50:30</td>\n",
       "      <td>Green...... get on anywhere</td>\n",
       "      <td>Red because im starving</td>\n",
       "      <td>Black because I’m dead inside</td>\n",
       "      <td>Orange because it's the new black</td>\n",
       "      <td>Plaid\\n\\nbecause it rhymes with \"rad\" and \"your dad\"</td>\n",
       "    </tr>\n",
       "    <tr>\n",
       "      <th>399</th>\n",
       "      <td>I’m bored. What should I do?</td>\n",
       "      <td>2019/07/29 17:48:27</td>\n",
       "      <td>Play with your woody.</td>\n",
       "      <td>commit a hate crime</td>\n",
       "      <td>Learn a trait. Cooking, music, sports.</td>\n",
       "      <td>There’s plenty of videos on Youtube you can watch for free</td>\n",
       "      <td>Why don't you just relax? Have you done it lately?</td>\n",
       "    </tr>\n",
       "    <tr>\n",
       "      <th>403</th>\n",
       "      <td>What is your go-to way to pass time at work when you are bored?</td>\n",
       "      <td>2019/07/29 17:47:37</td>\n",
       "      <td>Fake pooping and playing on phone</td>\n",
       "      <td>I wish!</td>\n",
       "      <td>Reddit</td>\n",
       "      <td>Reddit</td>\n",
       "      <td>Browsing reddit or eating anything I can find.</td>\n",
       "    </tr>\n",
       "    <tr>\n",
       "      <th>414</th>\n",
       "      <td>What did you get obsessed with to the point that it became unhealthy?</td>\n",
       "      <td>2019/07/29 17:42:54</td>\n",
       "      <td>Reddit</td>\n",
       "      <td>Lucifer (tv series)</td>\n",
       "      <td>Fucking farmville. Never played social media games until one day back during Myspace, a girl i had a crush on asked me to play it to help her.\\n\\n3 months later I am setting my alarm to harvest my field.</td>\n",
       "      <td>Crack</td>\n",
       "      <td>jerking</td>\n",
       "    </tr>\n",
       "    <tr>\n",
       "      <th>416</th>\n",
       "      <td>What would be some downsides to known superpowers?</td>\n",
       "      <td>2019/07/29 17:42:53</td>\n",
       "      <td>Super Strength\\n\\nYou might kill someone unintentionally</td>\n",
       "      <td>The inability to control them</td>\n",
       "      <td>Not being Karl urban</td>\n",
       "      <td>Or crushing your dick</td>\n",
       "      <td>By the time you kill someone you probably crashed a 100 hands 'by shaking'.</td>\n",
       "    </tr>\n",
       "  </tbody>\n",
       "</table>\n",
       "</div>"
      ],
      "text/plain": [
       "                                                                    Reddit  \\\n",
       "389  if you were a colour what would it be and why?                          \n",
       "399  I’m bored. What should I do?                                            \n",
       "403  What is your go-to way to pass time at work when you are bored?         \n",
       "414  What did you get obsessed with to the point that it became unhealthy?   \n",
       "416  What would be some downsides to known superpowers?                      \n",
       "\n",
       "               TimeStamp  \\\n",
       "389  2019/07/29 17:50:30   \n",
       "399  2019/07/29 17:48:27   \n",
       "403  2019/07/29 17:47:37   \n",
       "414  2019/07/29 17:42:54   \n",
       "416  2019/07/29 17:42:53   \n",
       "\n",
       "                                                     Comment1  \\\n",
       "389  Green...... get on anywhere                                \n",
       "399  Play with your woody.                                      \n",
       "403  Fake pooping and playing on phone                          \n",
       "414  Reddit                                                     \n",
       "416  Super Strength\\n\\nYou might kill someone unintentionally   \n",
       "\n",
       "                          Comment2  \\\n",
       "389  Red because im starving         \n",
       "399  commit a hate crime             \n",
       "403  I wish!                         \n",
       "414  Lucifer (tv series)             \n",
       "416  The inability to control them   \n",
       "\n",
       "                                                                                                                                                                                                        Comment3  \\\n",
       "389  Black because I’m dead inside                                                                                                                                                                                 \n",
       "399  Learn a trait. Cooking, music, sports.                                                                                                                                                                        \n",
       "403  Reddit                                                                                                                                                                                                        \n",
       "414  Fucking farmville. Never played social media games until one day back during Myspace, a girl i had a crush on asked me to play it to help her.\\n\\n3 months later I am setting my alarm to harvest my field.   \n",
       "416  Not being Karl urban                                                                                                                                                                                          \n",
       "\n",
       "                                                       Comment4  \\\n",
       "389  Orange because it's the new black                            \n",
       "399  There’s plenty of videos on Youtube you can watch for free   \n",
       "403  Reddit                                                       \n",
       "414  Crack                                                        \n",
       "416  Or crushing your dick                                        \n",
       "\n",
       "                                                                        Comment5  \n",
       "389  Plaid\\n\\nbecause it rhymes with \"rad\" and \"your dad\"                         \n",
       "399  Why don't you just relax? Have you done it lately?                           \n",
       "403  Browsing reddit or eating anything I can find.                               \n",
       "414  jerking                                                                      \n",
       "416  By the time you kill someone you probably crashed a 100 hands 'by shaking'.  "
      ]
     },
     "execution_count": 10,
     "metadata": {},
     "output_type": "execute_result"
    }
   ],
   "source": [
    "d_all.head()"
   ]
  },
  {
   "cell_type": "code",
   "execution_count": 11,
   "metadata": {
    "ExecuteTime": {
     "end_time": "2019-07-29T12:29:40.179750Z",
     "start_time": "2019-07-29T12:29:40.090988Z"
    }
   },
   "outputs": [
    {
     "name": "stdout",
     "output_type": "stream",
     "text": [
      "546 New Reddits\n"
     ]
    }
   ],
   "source": [
    "print(f'{len(d_all)-len(d_old)} New Reddits')"
   ]
  },
  {
   "cell_type": "code",
   "execution_count": 12,
   "metadata": {
    "ExecuteTime": {
     "end_time": "2019-07-29T12:29:40.302421Z",
     "start_time": "2019-07-29T12:29:40.182742Z"
    }
   },
   "outputs": [
    {
     "data": {
      "text/plain": [
       "3154"
      ]
     },
     "execution_count": 12,
     "metadata": {},
     "output_type": "execute_result"
    }
   ],
   "source": [
    "len(d_all)"
   ]
  },
  {
   "cell_type": "code",
   "execution_count": null,
   "metadata": {},
   "outputs": [],
   "source": []
  }
 ],
 "metadata": {
  "kernelspec": {
   "display_name": "Python 3",
   "language": "python",
   "name": "python3"
  },
  "language_info": {
   "codemirror_mode": {
    "name": "ipython",
    "version": 3
   },
   "file_extension": ".py",
   "mimetype": "text/x-python",
   "name": "python",
   "nbconvert_exporter": "python",
   "pygments_lexer": "ipython3",
   "version": "3.7.3"
  },
  "toc": {
   "base_numbering": 1,
   "nav_menu": {},
   "number_sections": true,
   "sideBar": true,
   "skip_h1_title": false,
   "title_cell": "Table of Contents",
   "title_sidebar": "Contents",
   "toc_cell": false,
   "toc_position": {},
   "toc_section_display": true,
   "toc_window_display": false
  },
  "varInspector": {
   "cols": {
    "lenName": 16,
    "lenType": 16,
    "lenVar": 40
   },
   "kernels_config": {
    "python": {
     "delete_cmd_postfix": "",
     "delete_cmd_prefix": "del ",
     "library": "var_list.py",
     "varRefreshCmd": "print(var_dic_list())"
    },
    "r": {
     "delete_cmd_postfix": ") ",
     "delete_cmd_prefix": "rm(",
     "library": "var_list.r",
     "varRefreshCmd": "cat(var_dic_list()) "
    }
   },
   "types_to_exclude": [
    "module",
    "function",
    "builtin_function_or_method",
    "instance",
    "_Feature"
   ],
   "window_display": false
  }
 },
 "nbformat": 4,
 "nbformat_minor": 2
}
