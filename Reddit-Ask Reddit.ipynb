{
 "cells": [
  {
   "cell_type": "markdown",
   "metadata": {},
   "source": [
    "# Libraries"
   ]
  },
  {
   "cell_type": "code",
   "execution_count": 1,
   "metadata": {
    "ExecuteTime": {
     "end_time": "2019-07-28T08:03:34.015261Z",
     "start_time": "2019-07-28T08:03:32.605037Z"
    }
   },
   "outputs": [],
   "source": [
    "import praw\n",
    "import pandas as pd\n",
    "from tqdm import tqdm\n",
    "from datetime import datetime"
   ]
  },
  {
   "cell_type": "code",
   "execution_count": 2,
   "metadata": {
    "ExecuteTime": {
     "end_time": "2019-07-28T08:03:34.025236Z",
     "start_time": "2019-07-28T08:03:34.017258Z"
    }
   },
   "outputs": [],
   "source": [
    "pd.options.display.max_colwidth = -1"
   ]
  },
  {
   "cell_type": "markdown",
   "metadata": {},
   "source": [
    "# Scraping"
   ]
  },
  {
   "cell_type": "code",
   "execution_count": 3,
   "metadata": {
    "ExecuteTime": {
     "end_time": "2019-07-28T08:03:34.168851Z",
     "start_time": "2019-07-28T08:03:34.031222Z"
    }
   },
   "outputs": [],
   "source": [
    "with open('E:/RedditCredentials.txt') as f:\n",
    "    credentials = list(map(lambda x: x.strip(), f.readlines()))"
   ]
  },
  {
   "cell_type": "code",
   "execution_count": 4,
   "metadata": {
    "ExecuteTime": {
     "end_time": "2019-07-28T08:03:36.296163Z",
     "start_time": "2019-07-28T08:03:34.172841Z"
    }
   },
   "outputs": [
    {
     "name": "stdout",
     "output_type": "stream",
     "text": [
      "Ritvik19\n"
     ]
    }
   ],
   "source": [
    "reddit = praw.Reddit(client_id=credentials[0],\n",
    "                     client_secret=credentials[1],\n",
    "                     password=credentials[2],\n",
    "                     user_agent=credentials[3],\n",
    "                     username=credentials[4])\n",
    "print(reddit.user.me())"
   ]
  },
  {
   "cell_type": "code",
   "execution_count": 5,
   "metadata": {
    "ExecuteTime": {
     "end_time": "2019-07-28T08:26:07.867660Z",
     "start_time": "2019-07-28T08:03:36.299156Z"
    }
   },
   "outputs": [
    {
     "name": "stderr",
     "output_type": "stream",
     "text": [
      "977it [22:31,  2.31s/it]\n"
     ]
    }
   ],
   "source": [
    "subreddit = reddit.subreddit('AskReddit')\n",
    "redds = []\n",
    "ts = []\n",
    "comment1 = []\n",
    "comment2 = []\n",
    "comment3 = []\n",
    "comment4 = []\n",
    "comment5 = []\n",
    "\n",
    "top_subreddit = subreddit.hot(limit=1000)\n",
    "for sr in tqdm(top_subreddit):\n",
    "    if not sr.stickied:\n",
    "        comments = sr.comments.list()\n",
    "        if len(comments) >= 5:\n",
    "            redds.append(sr.title)\n",
    "            ts.append(sr.created_utc)\n",
    "            comment1.append(comments[0].body)\n",
    "            comment2.append(comments[1].body)\n",
    "            comment3.append(comments[2].body)\n",
    "            comment4.append(comments[3].body)\n",
    "            comment5.append(comments[4].body)                "
   ]
  },
  {
   "cell_type": "code",
   "execution_count": 6,
   "metadata": {
    "ExecuteTime": {
     "end_time": "2019-07-28T08:26:07.887607Z",
     "start_time": "2019-07-28T08:26:07.870654Z"
    }
   },
   "outputs": [],
   "source": [
    "ts = list(map(lambda x : datetime.fromtimestamp(x).strftime(\"%Y/%m/%d %H:%M:%S\"), ts))"
   ]
  },
  {
   "cell_type": "code",
   "execution_count": 7,
   "metadata": {
    "ExecuteTime": {
     "end_time": "2019-07-28T08:26:08.048184Z",
     "start_time": "2019-07-28T08:26:07.890598Z"
    }
   },
   "outputs": [],
   "source": [
    "FILEPATH = 'E:/Scrapped-Data/Reddit-Ask Reddit.csv'"
   ]
  },
  {
   "cell_type": "code",
   "execution_count": 8,
   "metadata": {
    "ExecuteTime": {
     "end_time": "2019-07-28T08:26:08.175837Z",
     "start_time": "2019-07-28T08:26:08.052166Z"
    }
   },
   "outputs": [],
   "source": [
    "# First Time\n",
    "# d_all = pd.DataFrame({'Reddit':redds, 'TimeStamp':ts, 'Comment1':comment1, 'Comment2':comment2, 'Comment3':comment3, \n",
    "#                       'Comment4':comment4, 'Comment5':comment5})\n",
    "# d_all.drop_duplicates(subset=['Reddit'],inplace=True)\n",
    "# d_all.sort_values('TimeStamp', ascending=False, inplace=True)\n",
    "# d_all.to_csv(FILEPATH, index=False)"
   ]
  },
  {
   "cell_type": "code",
   "execution_count": 9,
   "metadata": {
    "ExecuteTime": {
     "end_time": "2019-07-28T08:26:08.368320Z",
     "start_time": "2019-07-28T08:26:08.179827Z"
    }
   },
   "outputs": [],
   "source": [
    "d_old = pd.read_csv(FILEPATH)\n",
    "d_new = pd.DataFrame({'Reddit':redds, 'TimeStamp':ts, 'Comment1':comment1, 'Comment2':comment2, 'Comment3':comment3, \n",
    "                      'Comment4':comment4, 'Comment5':comment5})\n",
    "\n",
    "d_all = pd.concat([d_new, d_old], axis=0)\n",
    "d_all.drop_duplicates(subset=['Reddit'],inplace=True)\n",
    "d_all.sort_values('TimeStamp', ascending=False, inplace=True)\n",
    "d_all.to_csv(FILEPATH, index=False)"
   ]
  },
  {
   "cell_type": "code",
   "execution_count": 10,
   "metadata": {
    "ExecuteTime": {
     "end_time": "2019-07-28T08:26:08.484014Z",
     "start_time": "2019-07-28T08:26:08.371313Z"
    }
   },
   "outputs": [
    {
     "data": {
      "text/html": [
       "<div>\n",
       "<style scoped>\n",
       "    .dataframe tbody tr th:only-of-type {\n",
       "        vertical-align: middle;\n",
       "    }\n",
       "\n",
       "    .dataframe tbody tr th {\n",
       "        vertical-align: top;\n",
       "    }\n",
       "\n",
       "    .dataframe thead th {\n",
       "        text-align: right;\n",
       "    }\n",
       "</style>\n",
       "<table border=\"1\" class=\"dataframe\">\n",
       "  <thead>\n",
       "    <tr style=\"text-align: right;\">\n",
       "      <th></th>\n",
       "      <th>Reddit</th>\n",
       "      <th>TimeStamp</th>\n",
       "      <th>Comment1</th>\n",
       "      <th>Comment2</th>\n",
       "      <th>Comment3</th>\n",
       "      <th>Comment4</th>\n",
       "      <th>Comment5</th>\n",
       "    </tr>\n",
       "  </thead>\n",
       "  <tbody>\n",
       "    <tr>\n",
       "      <th>657</th>\n",
       "      <td>You’re naked and trapped in the bathroom of a mall that is open 24/7. There are no windows. What do you do next?</td>\n",
       "      <td>2019/07/28 13:45:36</td>\n",
       "      <td>Ponder how the fuck that happened</td>\n",
       "      <td>start doing default dance</td>\n",
       "      <td>I'd just ask someone to get me some food and then I'd be chill. I could probably survive in a mall bathroom forever.</td>\n",
       "      <td>Flood the toilet and wait until everyone leaves because of all the water</td>\n",
       "      <td>Makeshift papier mache suit with the loo roll?</td>\n",
       "    </tr>\n",
       "    <tr>\n",
       "      <th>664</th>\n",
       "      <td>What is the worst thing you can hear while paint balling?</td>\n",
       "      <td>2019/07/28 13:43:27</td>\n",
       "      <td>Real gun fire.</td>\n",
       "      <td>Cardi B</td>\n",
       "      <td>Your mom in the bunker getting fucked by your best friend</td>\n",
       "      <td>Spanish moaning or the sound of getting hit real hard in the testicles</td>\n",
       "      <td>\"Robert's got a quick hand...\"</td>\n",
       "    </tr>\n",
       "    <tr>\n",
       "      <th>667</th>\n",
       "      <td>who is a scumbag ? ?</td>\n",
       "      <td>2019/07/28 13:42:25</td>\n",
       "      <td>Steve</td>\n",
       "      <td>Steve.</td>\n",
       "      <td>Steve.</td>\n",
       "      <td>Any street cop in America. They’re not looking to protect the innocent or stop crimes. They’re only interested in finding the local government by handing out fat tickets.</td>\n",
       "      <td>Brett Kavanaugh</td>\n",
       "    </tr>\n",
       "    <tr>\n",
       "      <th>679</th>\n",
       "      <td>What's the worst way to start a conversation with a stranger?</td>\n",
       "      <td>2019/07/28 13:39:47</td>\n",
       "      <td>“Can I smell your balls? No? It must be your feet then. So anyways....”</td>\n",
       "      <td>\"What are YOU looking at?!?\"</td>\n",
       "      <td>Oi cunt</td>\n",
       "      <td>Oi cuuunt.</td>\n",
       "      <td>Telling them about all the jailbait you saw at the mall.</td>\n",
       "    </tr>\n",
       "    <tr>\n",
       "      <th>321</th>\n",
       "      <td>Pee pee pants or poo poo pants. Why?</td>\n",
       "      <td>2019/07/28 13:37:55</td>\n",
       "      <td>Peepee pants. Easier to clean, smells less, feels not as bad as poopoo.</td>\n",
       "      <td>I think poo poo pants. Because it implies they are loose butthole and not tight butthole.</td>\n",
       "      <td>Well, if you had poo poo pants, you’d have something solid and saggy hanging down in your underpants. No one would like that tbh, so I’m sure everyone’s preference would be pee pee pants, but with that preference, there is a wet sogginess that is there also. So I’m speaking for myself when saying this I choose pee pee pants.</td>\n",
       "      <td>I would shit my pants cuz u can just drop em pants and take out the load rather than having soaked smelly pissed pants</td>\n",
       "      <td>Why not pee pee poo poo pants?</td>\n",
       "    </tr>\n",
       "  </tbody>\n",
       "</table>\n",
       "</div>"
      ],
      "text/plain": [
       "                                                                                                               Reddit  \\\n",
       "657  You’re naked and trapped in the bathroom of a mall that is open 24/7. There are no windows. What do you do next?   \n",
       "664  What is the worst thing you can hear while paint balling?                                                          \n",
       "667  who is a scumbag ? ?                                                                                               \n",
       "679  What's the worst way to start a conversation with a stranger?                                                      \n",
       "321  Pee pee pants or poo poo pants. Why?                                                                               \n",
       "\n",
       "               TimeStamp  \\\n",
       "657  2019/07/28 13:45:36   \n",
       "664  2019/07/28 13:43:27   \n",
       "667  2019/07/28 13:42:25   \n",
       "679  2019/07/28 13:39:47   \n",
       "321  2019/07/28 13:37:55   \n",
       "\n",
       "                                                                    Comment1  \\\n",
       "657  Ponder how the fuck that happened                                         \n",
       "664  Real gun fire.                                                            \n",
       "667  Steve                                                                     \n",
       "679  “Can I smell your balls? No? It must be your feet then. So anyways....”   \n",
       "321  Peepee pants. Easier to clean, smells less, feels not as bad as poopoo.   \n",
       "\n",
       "                                                                                      Comment2  \\\n",
       "657  start doing default dance                                                                   \n",
       "664  Cardi B                                                                                     \n",
       "667  Steve.                                                                                      \n",
       "679  \"What are YOU looking at?!?\"                                                                \n",
       "321  I think poo poo pants. Because it implies they are loose butthole and not tight butthole.   \n",
       "\n",
       "                                                                                                                                                                                                                                                                                                                                   Comment3  \\\n",
       "657  I'd just ask someone to get me some food and then I'd be chill. I could probably survive in a mall bathroom forever.                                                                                                                                                                                                                     \n",
       "664  Your mom in the bunker getting fucked by your best friend                                                                                                                                                                                                                                                                                \n",
       "667  Steve.                                                                                                                                                                                                                                                                                                                                   \n",
       "679  Oi cunt                                                                                                                                                                                                                                                                                                                                  \n",
       "321  Well, if you had poo poo pants, you’d have something solid and saggy hanging down in your underpants. No one would like that tbh, so I’m sure everyone’s preference would be pee pee pants, but with that preference, there is a wet sogginess that is there also. So I’m speaking for myself when saying this I choose pee pee pants.   \n",
       "\n",
       "                                                                                                                                                                       Comment4  \\\n",
       "657  Flood the toilet and wait until everyone leaves because of all the water                                                                                                     \n",
       "664  Spanish moaning or the sound of getting hit real hard in the testicles                                                                                                       \n",
       "667  Any street cop in America. They’re not looking to protect the innocent or stop crimes. They’re only interested in finding the local government by handing out fat tickets.   \n",
       "679  Oi cuuunt.                                                                                                                                                                   \n",
       "321  I would shit my pants cuz u can just drop em pants and take out the load rather than having soaked smelly pissed pants                                                       \n",
       "\n",
       "                                                     Comment5  \n",
       "657  Makeshift papier mache suit with the loo roll?            \n",
       "664  \"Robert's got a quick hand...\"                            \n",
       "667  Brett Kavanaugh                                           \n",
       "679  Telling them about all the jailbait you saw at the mall.  \n",
       "321  Why not pee pee poo poo pants?                            "
      ]
     },
     "execution_count": 10,
     "metadata": {},
     "output_type": "execute_result"
    }
   ],
   "source": [
    "d_all.head()"
   ]
  },
  {
   "cell_type": "code",
   "execution_count": 11,
   "metadata": {
    "ExecuteTime": {
     "end_time": "2019-07-28T08:26:08.610673Z",
     "start_time": "2019-07-28T08:26:08.487004Z"
    }
   },
   "outputs": [
    {
     "name": "stdout",
     "output_type": "stream",
     "text": [
      "696 New Reddits\n"
     ]
    }
   ],
   "source": [
    "print(f'{len(d_all)-len(d_old)} New Reddits')"
   ]
  },
  {
   "cell_type": "code",
   "execution_count": 12,
   "metadata": {
    "ExecuteTime": {
     "end_time": "2019-07-28T08:26:08.742322Z",
     "start_time": "2019-07-28T08:26:08.613695Z"
    }
   },
   "outputs": [
    {
     "data": {
      "text/plain": [
       "816"
      ]
     },
     "execution_count": 12,
     "metadata": {},
     "output_type": "execute_result"
    }
   ],
   "source": [
    "len(d_all)"
   ]
  },
  {
   "cell_type": "code",
   "execution_count": null,
   "metadata": {},
   "outputs": [],
   "source": []
  }
 ],
 "metadata": {
  "kernelspec": {
   "display_name": "Python 3",
   "language": "python",
   "name": "python3"
  },
  "language_info": {
   "codemirror_mode": {
    "name": "ipython",
    "version": 3
   },
   "file_extension": ".py",
   "mimetype": "text/x-python",
   "name": "python",
   "nbconvert_exporter": "python",
   "pygments_lexer": "ipython3",
   "version": "3.7.3"
  },
  "toc": {
   "base_numbering": 1,
   "nav_menu": {},
   "number_sections": true,
   "sideBar": true,
   "skip_h1_title": false,
   "title_cell": "Table of Contents",
   "title_sidebar": "Contents",
   "toc_cell": false,
   "toc_position": {},
   "toc_section_display": true,
   "toc_window_display": false
  },
  "varInspector": {
   "cols": {
    "lenName": 16,
    "lenType": 16,
    "lenVar": 40
   },
   "kernels_config": {
    "python": {
     "delete_cmd_postfix": "",
     "delete_cmd_prefix": "del ",
     "library": "var_list.py",
     "varRefreshCmd": "print(var_dic_list())"
    },
    "r": {
     "delete_cmd_postfix": ") ",
     "delete_cmd_prefix": "rm(",
     "library": "var_list.r",
     "varRefreshCmd": "cat(var_dic_list()) "
    }
   },
   "types_to_exclude": [
    "module",
    "function",
    "builtin_function_or_method",
    "instance",
    "_Feature"
   ],
   "window_display": false
  }
 },
 "nbformat": 4,
 "nbformat_minor": 2
}
