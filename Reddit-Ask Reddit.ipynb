{
 "cells": [
  {
   "cell_type": "markdown",
   "metadata": {},
   "source": [
    "# Libraries"
   ]
  },
  {
   "cell_type": "code",
   "execution_count": 1,
   "metadata": {
    "ExecuteTime": {
     "end_time": "2019-08-02T14:25:40.858338Z",
     "start_time": "2019-08-02T14:25:39.211818Z"
    }
   },
   "outputs": [],
   "source": [
    "import praw\n",
    "import pandas as pd\n",
    "from tqdm import tqdm\n",
    "from datetime import datetime"
   ]
  },
  {
   "cell_type": "code",
   "execution_count": 2,
   "metadata": {
    "ExecuteTime": {
     "end_time": "2019-08-02T14:25:40.867727Z",
     "start_time": "2019-08-02T14:25:40.862740Z"
    }
   },
   "outputs": [],
   "source": [
    "pd.options.display.max_colwidth = -1"
   ]
  },
  {
   "cell_type": "markdown",
   "metadata": {},
   "source": [
    "# Scraping"
   ]
  },
  {
   "cell_type": "code",
   "execution_count": 3,
   "metadata": {
    "ExecuteTime": {
     "end_time": "2019-08-02T14:25:41.026871Z",
     "start_time": "2019-08-02T14:25:40.871720Z"
    }
   },
   "outputs": [],
   "source": [
    "with open('E:/RedditCredentials.txt') as f:\n",
    "    credentials = list(map(lambda x: x.strip(), f.readlines()))"
   ]
  },
  {
   "cell_type": "code",
   "execution_count": 4,
   "metadata": {
    "ExecuteTime": {
     "end_time": "2019-08-02T14:25:43.924859Z",
     "start_time": "2019-08-02T14:25:41.031781Z"
    }
   },
   "outputs": [
    {
     "name": "stdout",
     "output_type": "stream",
     "text": [
      "Ritvik19\n"
     ]
    }
   ],
   "source": [
    "reddit = praw.Reddit(client_id=credentials[0],\n",
    "                     client_secret=credentials[1],\n",
    "                     password=credentials[2],\n",
    "                     user_agent=credentials[3],\n",
    "                     username=credentials[4])\n",
    "print(reddit.user.me())"
   ]
  },
  {
   "cell_type": "code",
   "execution_count": 5,
   "metadata": {
    "ExecuteTime": {
     "end_time": "2019-08-02T14:50:12.240711Z",
     "start_time": "2019-08-02T14:25:43.932837Z"
    }
   },
   "outputs": [
    {
     "name": "stderr",
     "output_type": "stream",
     "text": [
      "941it [24:28,  1.39s/it]\n"
     ]
    }
   ],
   "source": [
    "subreddit = reddit.subreddit('AskReddit')\n",
    "redds = []\n",
    "ts = []\n",
    "comment1 = []\n",
    "comment2 = []\n",
    "comment3 = []\n",
    "comment4 = []\n",
    "comment5 = []\n",
    "\n",
    "top_subreddit = subreddit.hot(limit=1000)\n",
    "for sr in tqdm(top_subreddit):\n",
    "    try:\n",
    "        if not sr.stickied:\n",
    "            comments = sr.comments.list()\n",
    "            if len(comments) >= 5:\n",
    "                redds.append(sr.title)\n",
    "                ts.append(sr.created_utc)\n",
    "                comment1.append(comments[0].body)\n",
    "                comment2.append(comments[1].body)\n",
    "                comment3.append(comments[2].body)\n",
    "                comment4.append(comments[3].body)\n",
    "                comment5.append(comments[4].body)\n",
    "    except Exception as e:\n",
    "        print(e)"
   ]
  },
  {
   "cell_type": "code",
   "execution_count": 6,
   "metadata": {
    "ExecuteTime": {
     "end_time": "2019-08-02T14:50:12.261875Z",
     "start_time": "2019-08-02T14:50:12.244097Z"
    }
   },
   "outputs": [],
   "source": [
    "ts = list(map(lambda x : datetime.fromtimestamp(x).strftime(\"%Y/%m/%d %H:%M:%S\"), ts))"
   ]
  },
  {
   "cell_type": "code",
   "execution_count": 7,
   "metadata": {
    "ExecuteTime": {
     "end_time": "2019-08-02T14:50:12.413319Z",
     "start_time": "2019-08-02T14:50:12.264641Z"
    }
   },
   "outputs": [],
   "source": [
    "FILEPATH = 'E:/Scrapped-Data/Reddit-Ask Reddit.csv'"
   ]
  },
  {
   "cell_type": "code",
   "execution_count": 8,
   "metadata": {
    "ExecuteTime": {
     "end_time": "2019-08-02T14:50:12.559592Z",
     "start_time": "2019-08-02T14:50:12.419230Z"
    }
   },
   "outputs": [],
   "source": [
    "# First Time\n",
    "# d_all = pd.DataFrame({'Reddit':redds, 'TimeStamp':ts, 'Comment1':comment1, 'Comment2':comment2, 'Comment3':comment3, \n",
    "#                       'Comment4':comment4, 'Comment5':comment5})\n",
    "# d_all.drop_duplicates(subset=['Reddit'],inplace=True)\n",
    "# d_all.sort_values('TimeStamp', ascending=False, inplace=True)\n",
    "# d_all.to_csv(FILEPATH, index=False)"
   ]
  },
  {
   "cell_type": "code",
   "execution_count": 9,
   "metadata": {
    "ExecuteTime": {
     "end_time": "2019-08-02T14:50:13.477569Z",
     "start_time": "2019-08-02T14:50:12.573664Z"
    }
   },
   "outputs": [
    {
     "name": "stdout",
     "output_type": "stream",
     "text": [
      "744\n"
     ]
    }
   ],
   "source": [
    "d_old = pd.read_csv(FILEPATH)\n",
    "d_new = pd.DataFrame({'Reddit':redds, 'TimeStamp':ts, 'Comment1':comment1, 'Comment2':comment2, 'Comment3':comment3, \n",
    "                      'Comment4':comment4, 'Comment5':comment5})\n",
    "print(len(d_new))\n",
    "d_all = pd.concat([d_new, d_old], axis=0)\n",
    "d_all.drop_duplicates(subset=['Reddit'],inplace=True)\n",
    "d_all.sort_values('TimeStamp', ascending=False, inplace=True)\n",
    "d_all.to_csv(FILEPATH, index=False)"
   ]
  },
  {
   "cell_type": "code",
   "execution_count": 10,
   "metadata": {
    "ExecuteTime": {
     "end_time": "2019-08-02T14:50:13.510384Z",
     "start_time": "2019-08-02T14:50:13.480857Z"
    }
   },
   "outputs": [
    {
     "data": {
      "text/html": [
       "<div>\n",
       "<style scoped>\n",
       "    .dataframe tbody tr th:only-of-type {\n",
       "        vertical-align: middle;\n",
       "    }\n",
       "\n",
       "    .dataframe tbody tr th {\n",
       "        vertical-align: top;\n",
       "    }\n",
       "\n",
       "    .dataframe thead th {\n",
       "        text-align: right;\n",
       "    }\n",
       "</style>\n",
       "<table border=\"1\" class=\"dataframe\">\n",
       "  <thead>\n",
       "    <tr style=\"text-align: right;\">\n",
       "      <th></th>\n",
       "      <th>Reddit</th>\n",
       "      <th>TimeStamp</th>\n",
       "      <th>Comment1</th>\n",
       "      <th>Comment2</th>\n",
       "      <th>Comment3</th>\n",
       "      <th>Comment4</th>\n",
       "      <th>Comment5</th>\n",
       "    </tr>\n",
       "  </thead>\n",
       "  <tbody>\n",
       "    <tr>\n",
       "      <th>664</th>\n",
       "      <td>You are given the ability to watch any film or tv series again for the first time, what do you pick?</td>\n",
       "      <td>2019/08/02 20:15:10</td>\n",
       "      <td>Breaking fucking bad</td>\n",
       "      <td>MYTHBUSTERS</td>\n",
       "      <td>Futurama, because i'll bloody love the series.</td>\n",
       "      <td>Matrix</td>\n",
       "      <td>Star Wars</td>\n",
       "    </tr>\n",
       "    <tr>\n",
       "      <th>669</th>\n",
       "      <td>What do you do when you feel like a plastic bag, drifting through the wind, wanting to start again?</td>\n",
       "      <td>2019/08/02 20:12:11</td>\n",
       "      <td>I'd Stop using ask ask reddit</td>\n",
       "      <td>Sleep</td>\n",
       "      <td>You gotta ignite the light and let it shine</td>\n",
       "      <td>Baby you're fireworks.</td>\n",
       "      <td>Build a house of cards one blow from caving in</td>\n",
       "    </tr>\n",
       "    <tr>\n",
       "      <th>671</th>\n",
       "      <td>What is the dumbest way you have hurt yourself?</td>\n",
       "      <td>2019/08/02 20:11:27</td>\n",
       "      <td>How much time you got?</td>\n",
       "      <td>Stepped on a rock with an edge at the beach and split my foot in two.</td>\n",
       "      <td>I ran into the bathroom and hit my head on the soap bar in the tub. It was bleeding all over. Got a mark on my head still from it</td>\n",
       "      <td>When I was a toddler I got my head stuck in the gap between the floor and the bottom of the radiator</td>\n",
       "      <td>Stuck my foot in a fireplace</td>\n",
       "    </tr>\n",
       "    <tr>\n",
       "      <th>675</th>\n",
       "      <td>Why do you think humanity will/won’t colonise other planets?</td>\n",
       "      <td>2019/08/02 20:10:23</td>\n",
       "      <td>AI will decide we've screwed up Earth enough.</td>\n",
       "      <td>Because we'll die sooner cause of the climate change etc</td>\n",
       "      <td>It will because it will have to. At some point in the future earth won't be able to sustain us all anymore.</td>\n",
       "      <td>They won't because of logistics and physics.\\nIf something bad happens in space there is nothing we can do except watch hundreds of millions of dollars and precious engineers go to waste.</td>\n",
       "      <td>I don't think we'll ever be capable of terraforming close by planets such as Mars and the ones that habital are too far away.</td>\n",
       "    </tr>\n",
       "    <tr>\n",
       "      <th>681</th>\n",
       "      <td>Redditors at what age did you started masturbating?</td>\n",
       "      <td>2019/08/02 20:07:34</td>\n",
       "      <td>Six or eight. I can't remember exactly. It was before 10.</td>\n",
       "      <td>6th grade I think. So whatever age that is</td>\n",
       "      <td>12 or 13</td>\n",
       "      <td>At about age 10</td>\n",
       "      <td>10 i think\\n\\nEdit: Actually nah, in like second or third grade. So 8 or 9 im pretty sure</td>\n",
       "    </tr>\n",
       "  </tbody>\n",
       "</table>\n",
       "</div>"
      ],
      "text/plain": [
       "                                                                                                   Reddit  \\\n",
       "664  You are given the ability to watch any film or tv series again for the first time, what do you pick?   \n",
       "669  What do you do when you feel like a plastic bag, drifting through the wind, wanting to start again?    \n",
       "671  What is the dumbest way you have hurt yourself?                                                        \n",
       "675  Why do you think humanity will/won’t colonise other planets?                                           \n",
       "681  Redditors at what age did you started masturbating?                                                    \n",
       "\n",
       "               TimeStamp  \\\n",
       "664  2019/08/02 20:15:10   \n",
       "669  2019/08/02 20:12:11   \n",
       "671  2019/08/02 20:11:27   \n",
       "675  2019/08/02 20:10:23   \n",
       "681  2019/08/02 20:07:34   \n",
       "\n",
       "                                                      Comment1  \\\n",
       "664  Breaking fucking bad                                        \n",
       "669  I'd Stop using ask ask reddit                               \n",
       "671  How much time you got?                                      \n",
       "675  AI will decide we've screwed up Earth enough.               \n",
       "681  Six or eight. I can't remember exactly. It was before 10.   \n",
       "\n",
       "                                                                  Comment2  \\\n",
       "664  MYTHBUSTERS                                                             \n",
       "669  Sleep                                                                   \n",
       "671  Stepped on a rock with an edge at the beach and split my foot in two.   \n",
       "675  Because we'll die sooner cause of the climate change etc                \n",
       "681  6th grade I think. So whatever age that is                              \n",
       "\n",
       "                                                                                                                              Comment3  \\\n",
       "664  Futurama, because i'll bloody love the series.                                                                                      \n",
       "669  You gotta ignite the light and let it shine                                                                                         \n",
       "671  I ran into the bathroom and hit my head on the soap bar in the tub. It was bleeding all over. Got a mark on my head still from it   \n",
       "675  It will because it will have to. At some point in the future earth won't be able to sustain us all anymore.                         \n",
       "681  12 or 13                                                                                                                            \n",
       "\n",
       "                                                                                                                                                                                        Comment4  \\\n",
       "664  Matrix                                                                                                                                                                                        \n",
       "669  Baby you're fireworks.                                                                                                                                                                        \n",
       "671  When I was a toddler I got my head stuck in the gap between the floor and the bottom of the radiator                                                                                          \n",
       "675  They won't because of logistics and physics.\\nIf something bad happens in space there is nothing we can do except watch hundreds of millions of dollars and precious engineers go to waste.   \n",
       "681  At about age 10                                                                                                                                                                               \n",
       "\n",
       "                                                                                                                          Comment5  \n",
       "664  Star Wars                                                                                                                      \n",
       "669  Build a house of cards one blow from caving in                                                                                 \n",
       "671  Stuck my foot in a fireplace                                                                                                   \n",
       "675  I don't think we'll ever be capable of terraforming close by planets such as Mars and the ones that habital are too far away.  \n",
       "681  10 i think\\n\\nEdit: Actually nah, in like second or third grade. So 8 or 9 im pretty sure                                      "
      ]
     },
     "execution_count": 10,
     "metadata": {},
     "output_type": "execute_result"
    }
   ],
   "source": [
    "d_all.head()"
   ]
  },
  {
   "cell_type": "code",
   "execution_count": 11,
   "metadata": {
    "ExecuteTime": {
     "end_time": "2019-08-02T14:50:13.707881Z",
     "start_time": "2019-08-02T14:50:13.513377Z"
    }
   },
   "outputs": [
    {
     "name": "stdout",
     "output_type": "stream",
     "text": [
      "375 New Reddits\n"
     ]
    }
   ],
   "source": [
    "print(f'{len(d_all)-len(d_old)} New Reddits')"
   ]
  },
  {
   "cell_type": "code",
   "execution_count": 12,
   "metadata": {
    "ExecuteTime": {
     "end_time": "2019-08-02T14:50:14.115433Z",
     "start_time": "2019-08-02T14:50:13.716850Z"
    }
   },
   "outputs": [
    {
     "data": {
      "text/plain": [
       "10299"
      ]
     },
     "execution_count": 12,
     "metadata": {},
     "output_type": "execute_result"
    }
   ],
   "source": [
    "len(d_all)"
   ]
  },
  {
   "cell_type": "code",
   "execution_count": null,
   "metadata": {},
   "outputs": [],
   "source": []
  }
 ],
 "metadata": {
  "kernelspec": {
   "display_name": "Python 3",
   "language": "python",
   "name": "python3"
  },
  "language_info": {
   "codemirror_mode": {
    "name": "ipython",
    "version": 3
   },
   "file_extension": ".py",
   "mimetype": "text/x-python",
   "name": "python",
   "nbconvert_exporter": "python",
   "pygments_lexer": "ipython3",
   "version": "3.7.3"
  },
  "toc": {
   "base_numbering": 1,
   "nav_menu": {},
   "number_sections": true,
   "sideBar": true,
   "skip_h1_title": false,
   "title_cell": "Table of Contents",
   "title_sidebar": "Contents",
   "toc_cell": false,
   "toc_position": {},
   "toc_section_display": true,
   "toc_window_display": false
  },
  "varInspector": {
   "cols": {
    "lenName": 16,
    "lenType": 16,
    "lenVar": 40
   },
   "kernels_config": {
    "python": {
     "delete_cmd_postfix": "",
     "delete_cmd_prefix": "del ",
     "library": "var_list.py",
     "varRefreshCmd": "print(var_dic_list())"
    },
    "r": {
     "delete_cmd_postfix": ") ",
     "delete_cmd_prefix": "rm(",
     "library": "var_list.r",
     "varRefreshCmd": "cat(var_dic_list()) "
    }
   },
   "types_to_exclude": [
    "module",
    "function",
    "builtin_function_or_method",
    "instance",
    "_Feature"
   ],
   "window_display": false
  }
 },
 "nbformat": 4,
 "nbformat_minor": 2
}
