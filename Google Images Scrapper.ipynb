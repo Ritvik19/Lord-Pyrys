{
 "cells": [
  {
   "cell_type": "code",
   "execution_count": 1,
   "metadata": {
    "ExecuteTime": {
     "end_time": "2019-08-03T14:56:28.841333Z",
     "start_time": "2019-08-03T14:56:28.659736Z"
    }
   },
   "outputs": [],
   "source": [
    "from selenium import webdriver\n",
    "import urllib.request as req\n",
    "import os"
   ]
  },
  {
   "cell_type": "code",
   "execution_count": 2,
   "metadata": {
    "ExecuteTime": {
     "end_time": "2019-08-03T14:56:37.848160Z",
     "start_time": "2019-08-03T14:56:30.937879Z"
    }
   },
   "outputs": [
    {
     "name": "stdout",
     "output_type": "stream",
     "text": [
      "dogs\n",
      "15\n"
     ]
    }
   ],
   "source": [
    "query = input()\n",
    "number_of_images = int(input())"
   ]
  },
  {
   "cell_type": "code",
   "execution_count": 3,
   "metadata": {
    "ExecuteTime": {
     "end_time": "2019-08-03T14:56:39.139721Z",
     "start_time": "2019-08-03T14:56:39.132724Z"
    }
   },
   "outputs": [],
   "source": [
    "directory = 'E:/Scrapped-Data/Images/' + query.replace(' ', '_')\n",
    "\n",
    "try:\n",
    "    os.makedirs(directory)\n",
    "except:\n",
    "    pass"
   ]
  },
  {
   "cell_type": "code",
   "execution_count": 4,
   "metadata": {
    "ExecuteTime": {
     "end_time": "2019-08-03T14:56:40.045284Z",
     "start_time": "2019-08-03T14:56:40.040297Z"
    }
   },
   "outputs": [],
   "source": [
    "url = 'https://www.google.com/search?q=' + query.replace(' ', '+') + '&source=lnms&tbm=isch'"
   ]
  },
  {
   "cell_type": "code",
   "execution_count": 5,
   "metadata": {
    "ExecuteTime": {
     "end_time": "2019-08-03T15:00:05.970507Z",
     "start_time": "2019-08-03T14:56:41.023668Z"
    }
   },
   "outputs": [],
   "source": [
    "driver = webdriver.Chrome()\n",
    "driver.get(url)\n",
    "html = str(driver.page_source.encode('ascii', 'ignore').decode('ascii'))\n",
    "iterator = 0\n",
    "while iterator < number_of_images:\n",
    "    last_image = ''\n",
    "\n",
    "    doc_height = driver.execute_script(\"return document.body.scrollHeight\")\n",
    "\n",
    "    # \"ou\":\" appears when parsing the html at every occurrence of an image.\n",
    "    # Also, making sure too many images haven't been saved\n",
    "    while html.find('\"ou\":\"') != -1 and iterator < number_of_images:\n",
    "        html = html[html.find('\"ou\":\"') + 6:]\n",
    "        image_url = html[:html.find('\"')]\n",
    "\n",
    "        last_image = image_url\n",
    "\n",
    "        # on rare occassion, after the .file_type, there occures a ? followed by a list of random letters and numbers.\n",
    "        # Removing that so that the file is saved properly\n",
    "        if image_url.find(\"?\") != -1:\n",
    "            image_url = image_url[:image_url.find('?')]\n",
    "\n",
    "        try:\n",
    "            req.urlretrieve(image_url, directory +'/image_' + str(iterator) + image_url[image_url.rfind('.'):])\n",
    "            iterator += 1\n",
    "        except:\n",
    "            pass\n",
    "\n",
    "    if iterator < number_of_images:\n",
    "        driver.execute_script(\"window.scrollTo(0, document.body.scrollHeight);\")\n",
    "\n",
    "        try:\n",
    "            driver.find_element_by_css_selector('#smb').click()\n",
    "        except:\n",
    "            pass\n",
    "\n",
    "        time.sleep(0.5)\n",
    "\n",
    "        new_doc_height = driver.execute_script(\"return document.body.scrollHeight\")\n",
    "\n",
    "        if new_doc_height == doc_height:\n",
    "            break\n",
    "\n",
    "        doc_height = new_doc_height\n",
    "\n",
    "        html = str(driver.page_source.encode('ascii', 'ignore').decode('ascii'))\n",
    "        html = html[html.find(last_image):]"
   ]
  },
  {
   "cell_type": "code",
   "execution_count": null,
   "metadata": {},
   "outputs": [],
   "source": []
  }
 ],
 "metadata": {
  "kernelspec": {
   "display_name": "Python 3",
   "language": "python",
   "name": "python3"
  },
  "language_info": {
   "codemirror_mode": {
    "name": "ipython",
    "version": 3
   },
   "file_extension": ".py",
   "mimetype": "text/x-python",
   "name": "python",
   "nbconvert_exporter": "python",
   "pygments_lexer": "ipython3",
   "version": "3.7.3"
  },
  "toc": {
   "base_numbering": 1,
   "nav_menu": {},
   "number_sections": true,
   "sideBar": true,
   "skip_h1_title": false,
   "title_cell": "Table of Contents",
   "title_sidebar": "Contents",
   "toc_cell": false,
   "toc_position": {},
   "toc_section_display": true,
   "toc_window_display": false
  },
  "varInspector": {
   "cols": {
    "lenName": 16,
    "lenType": 16,
    "lenVar": 40
   },
   "kernels_config": {
    "python": {
     "delete_cmd_postfix": "",
     "delete_cmd_prefix": "del ",
     "library": "var_list.py",
     "varRefreshCmd": "print(var_dic_list())"
    },
    "r": {
     "delete_cmd_postfix": ") ",
     "delete_cmd_prefix": "rm(",
     "library": "var_list.r",
     "varRefreshCmd": "cat(var_dic_list()) "
    }
   },
   "types_to_exclude": [
    "module",
    "function",
    "builtin_function_or_method",
    "instance",
    "_Feature"
   ],
   "window_display": false
  }
 },
 "nbformat": 4,
 "nbformat_minor": 2
}
