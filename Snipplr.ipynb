{
 "cells": [
  {
   "cell_type": "markdown",
   "metadata": {},
   "source": [
    "# Libraries"
   ]
  },
  {
   "cell_type": "code",
   "execution_count": 1,
   "metadata": {
    "ExecuteTime": {
     "end_time": "2019-05-11T09:07:48.686552Z",
     "start_time": "2019-05-11T09:07:46.270535Z"
    }
   },
   "outputs": [],
   "source": [
    "import requests, bs4"
   ]
  },
  {
   "cell_type": "code",
   "execution_count": 2,
   "metadata": {
    "ExecuteTime": {
     "end_time": "2019-05-11T09:07:52.426532Z",
     "start_time": "2019-05-11T09:07:48.689488Z"
    }
   },
   "outputs": [],
   "source": [
    "import numpy as np\n",
    "import pandas as pd"
   ]
  },
  {
   "cell_type": "code",
   "execution_count": 3,
   "metadata": {
    "ExecuteTime": {
     "end_time": "2019-05-11T09:07:52.434517Z",
     "start_time": "2019-05-11T09:07:52.429528Z"
    }
   },
   "outputs": [],
   "source": [
    "from IPython.display import clear_output"
   ]
  },
  {
   "cell_type": "code",
   "execution_count": 4,
   "metadata": {
    "ExecuteTime": {
     "end_time": "2019-05-11T09:07:52.576121Z",
     "start_time": "2019-05-11T09:07:52.438505Z"
    }
   },
   "outputs": [],
   "source": [
    "pd.options.display.max_columns = 5\n",
    "pd.options.display.max_colwidth = -1"
   ]
  },
  {
   "cell_type": "markdown",
   "metadata": {},
   "source": [
    "# URLs to Scrape"
   ]
  },
  {
   "cell_type": "code",
   "execution_count": 5,
   "metadata": {
    "ExecuteTime": {
     "end_time": "2019-05-11T05:39:37.767460Z",
     "start_time": "2019-05-11T05:36:16.567349Z"
    }
   },
   "outputs": [
    {
     "name": "stdout",
     "output_type": "stream",
     "text": [
      "1742\n"
     ]
    }
   ],
   "source": [
    "urls_javascript = []\n",
    "for i in range(1,45):\n",
    "    clear_output(wait=True)\n",
    "    print(i)\n",
    "    url = 'https://snipplr.com/popular/language/javascript/page/'+str(i)\n",
    "    res = requests.get(url)\n",
    "    if res.status_code == requests.codes.ok:\n",
    "        ressoup = bs4.BeautifulSoup(res.text, 'lxml')\n",
    "        elems = ressoup.select('h3 a')\n",
    "        for i, e in enumerate(elems):\n",
    "            u = e.get('href')\n",
    "            if i%2 == 1:\n",
    "                urls_javascript.append('https://snipplr.com'+u)\n",
    "    else:\n",
    "        print('Something went wrong')\n",
    "clear_output(wait=True)\n",
    "print(len(urls_javascript))\n",
    "\n",
    "with open('urls_javascript', 'w') as f:\n",
    "    for item in urls_javascript:\n",
    "        f.write(\"%s\\n\" % item)"
   ]
  },
  {
   "cell_type": "code",
   "execution_count": 6,
   "metadata": {
    "ExecuteTime": {
     "end_time": "2019-05-11T05:40:19.355336Z",
     "start_time": "2019-05-11T05:39:37.770439Z"
    }
   },
   "outputs": [
    {
     "name": "stdout",
     "output_type": "stream",
     "text": [
      "901\n"
     ]
    }
   ],
   "source": [
    "urls_html = []\n",
    "for i in range(1,24):\n",
    "    clear_output(wait=True)\n",
    "    print(i)\n",
    "    url = 'https://snipplr.com/popular/language/html/page/'+str(i)\n",
    "    res = requests.get(url)\n",
    "    if res.status_code == requests.codes.ok:\n",
    "        ressoup = bs4.BeautifulSoup(res.text, 'lxml')\n",
    "        elems = ressoup.select('h3 a')\n",
    "        for i, e in enumerate(elems):\n",
    "            u = e.get('href')\n",
    "            if i%2 == 1:\n",
    "                urls_html.append('https://snipplr.com'+u)\n",
    "    else:\n",
    "        print('Something went wrong')\n",
    "clear_output(wait=True)\n",
    "print(len(urls_html))\n",
    "\n",
    "with open('urls_html', 'w') as f:\n",
    "    for item in urls_html:\n",
    "        f.write(\"%s\\n\" % item)"
   ]
  },
  {
   "cell_type": "code",
   "execution_count": 7,
   "metadata": {
    "ExecuteTime": {
     "end_time": "2019-05-11T05:43:34.845620Z",
     "start_time": "2019-05-11T05:40:19.357329Z"
    }
   },
   "outputs": [
    {
     "name": "stdout",
     "output_type": "stream",
     "text": [
      "1369\n"
     ]
    }
   ],
   "source": [
    "urls_css = []\n",
    "for i in range(1,36):\n",
    "    clear_output(wait=True)\n",
    "    print(i)\n",
    "    url = 'https://snipplr.com/popular/language/css/page/'+str(i)\n",
    "    res = requests.get(url)\n",
    "    if res.status_code == requests.codes.ok:\n",
    "        ressoup = bs4.BeautifulSoup(res.text, 'lxml')\n",
    "        elems = ressoup.select('h3 a')\n",
    "        for i, e in enumerate(elems):\n",
    "            u = e.get('href')\n",
    "            if i%2 == 1:\n",
    "                urls_css.append('https://snipplr.com'+u)\n",
    "    else:\n",
    "        print('Something went wrong')\n",
    "clear_output(wait=True)\n",
    "print(len(urls_css))\n",
    "\n",
    "with open('urls_css', 'w') as f:\n",
    "    for item in urls_css:\n",
    "        f.write(\"%s\\n\" % item)"
   ]
  },
  {
   "cell_type": "code",
   "execution_count": 8,
   "metadata": {
    "ExecuteTime": {
     "end_time": "2019-05-11T05:43:34.859551Z",
     "start_time": "2019-05-11T05:43:34.850577Z"
    }
   },
   "outputs": [
    {
     "name": "stdout",
     "output_type": "stream",
     "text": [
      "1742 901 1369\n"
     ]
    }
   ],
   "source": [
    "print(len(urls_javascript), len(urls_html), len(urls_css))"
   ]
  },
  {
   "cell_type": "markdown",
   "metadata": {},
   "source": [
    "# Scraping"
   ]
  },
  {
   "cell_type": "code",
   "execution_count": 5,
   "metadata": {
    "ExecuteTime": {
     "end_time": "2019-05-11T09:07:59.857231Z",
     "start_time": "2019-05-11T09:07:59.853241Z"
    }
   },
   "outputs": [],
   "source": [
    "FILEPATH = \"e:/Scrapped-Data/Snipplr.csv\""
   ]
  },
  {
   "cell_type": "code",
   "execution_count": 6,
   "metadata": {
    "ExecuteTime": {
     "end_time": "2019-05-11T09:08:00.232448Z",
     "start_time": "2019-05-11T09:07:59.863216Z"
    }
   },
   "outputs": [],
   "source": [
    "snipplr = pd.DataFrame(columns=['Language' ,'Title', 'Snippet'])"
   ]
  },
  {
   "cell_type": "code",
   "execution_count": 7,
   "metadata": {
    "ExecuteTime": {
     "end_time": "2019-05-11T09:08:00.386862Z",
     "start_time": "2019-05-11T09:08:00.240398Z"
    }
   },
   "outputs": [],
   "source": [
    "with open('urls_javascript') as f:\n",
    "    urls_javascript = f.readlines()"
   ]
  },
  {
   "cell_type": "code",
   "execution_count": null,
   "metadata": {
    "ExecuteTime": {
     "start_time": "2019-05-11T09:09:18.188Z"
    }
   },
   "outputs": [
    {
     "name": "stdout",
     "output_type": "stream",
     "text": [
      "62 / 1742\n"
     ]
    }
   ],
   "source": [
    "for i, url in enumerate(urls_javascript):\n",
    "    clear_output(wait=True)\n",
    "    print(i+1,'/ 1742')\n",
    "    res = requests.get(url.strip())\n",
    "    if res.status_code == requests.codes.ok:\n",
    "        ressoup = bs4.BeautifulSoup(res.text, 'lxml')\n",
    "        h1 = ressoup.select('h1')[0].getText()\n",
    "        snippet = ''\n",
    "        elems = ressoup.select('pre div')\n",
    "        for e in elems:\n",
    "            snippet += e.getText() + '\\n'\n",
    "        new_snippet = pd.DataFrame({\n",
    "            'Title': [h1],\n",
    "            'Snippet': [snippet] ,\n",
    "            'Language': ['JavaScript']\n",
    "        })\n",
    "        snipplr = pd.concat([snipplr, new_snippet], axis=0)\n",
    "        snipplr.to_csv(FILEPATH, index=False)\n",
    "    else:\n",
    "        print('Something went wrong')"
   ]
  },
  {
   "cell_type": "code",
   "execution_count": null,
   "metadata": {
    "ExecuteTime": {
     "start_time": "2019-05-11T08:34:23.602Z"
    }
   },
   "outputs": [],
   "source": [
    "len(snipplr)"
   ]
  },
  {
   "cell_type": "code",
   "execution_count": null,
   "metadata": {},
   "outputs": [],
   "source": []
  },
  {
   "cell_type": "code",
   "execution_count": null,
   "metadata": {},
   "outputs": [],
   "source": []
  },
  {
   "cell_type": "code",
   "execution_count": null,
   "metadata": {},
   "outputs": [],
   "source": []
  }
 ],
 "metadata": {
  "kernelspec": {
   "display_name": "Python 3",
   "language": "python",
   "name": "python3"
  },
  "language_info": {
   "codemirror_mode": {
    "name": "ipython",
    "version": 3
   },
   "file_extension": ".py",
   "mimetype": "text/x-python",
   "name": "python",
   "nbconvert_exporter": "python",
   "pygments_lexer": "ipython3",
   "version": "3.7.3"
  },
  "toc": {
   "base_numbering": 1,
   "nav_menu": {},
   "number_sections": true,
   "sideBar": true,
   "skip_h1_title": false,
   "title_cell": "Table of Contents",
   "title_sidebar": "Contents",
   "toc_cell": false,
   "toc_position": {},
   "toc_section_display": true,
   "toc_window_display": false
  },
  "varInspector": {
   "cols": {
    "lenName": 16,
    "lenType": 16,
    "lenVar": 40
   },
   "kernels_config": {
    "python": {
     "delete_cmd_postfix": "",
     "delete_cmd_prefix": "del ",
     "library": "var_list.py",
     "varRefreshCmd": "print(var_dic_list())"
    },
    "r": {
     "delete_cmd_postfix": ") ",
     "delete_cmd_prefix": "rm(",
     "library": "var_list.r",
     "varRefreshCmd": "cat(var_dic_list()) "
    }
   },
   "position": {
    "height": "265px",
    "left": "996px",
    "right": "20px",
    "top": "120px",
    "width": "350px"
   },
   "types_to_exclude": [
    "module",
    "function",
    "builtin_function_or_method",
    "instance",
    "_Feature"
   ],
   "window_display": false
  }
 },
 "nbformat": 4,
 "nbformat_minor": 2
}
