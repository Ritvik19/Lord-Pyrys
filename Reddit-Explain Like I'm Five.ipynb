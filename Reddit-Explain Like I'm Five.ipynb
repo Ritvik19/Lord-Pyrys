{
 "cells": [
  {
   "cell_type": "markdown",
   "metadata": {},
   "source": [
    "# Libraries"
   ]
  },
  {
   "cell_type": "code",
   "execution_count": 1,
   "metadata": {
    "ExecuteTime": {
     "end_time": "2019-07-29T13:11:42.788223Z",
     "start_time": "2019-07-29T13:11:41.229917Z"
    }
   },
   "outputs": [],
   "source": [
    "import praw\n",
    "import pandas as pd\n",
    "from tqdm import tqdm\n",
    "from datetime import datetime"
   ]
  },
  {
   "cell_type": "code",
   "execution_count": 2,
   "metadata": {
    "ExecuteTime": {
     "end_time": "2019-07-29T13:11:42.797309Z",
     "start_time": "2019-07-29T13:11:42.791326Z"
    }
   },
   "outputs": [],
   "source": [
    "pd.options.display.max_colwidth = -1"
   ]
  },
  {
   "cell_type": "markdown",
   "metadata": {},
   "source": [
    "# Scraping"
   ]
  },
  {
   "cell_type": "code",
   "execution_count": 3,
   "metadata": {
    "ExecuteTime": {
     "end_time": "2019-07-29T13:11:42.970743Z",
     "start_time": "2019-07-29T13:11:42.801299Z"
    }
   },
   "outputs": [],
   "source": [
    "with open('E:/RedditCredentials.txt') as f:\n",
    "    credentials = list(map(lambda x: x.strip(), f.readlines()))"
   ]
  },
  {
   "cell_type": "code",
   "execution_count": 4,
   "metadata": {
    "ExecuteTime": {
     "end_time": "2019-07-29T13:11:44.924869Z",
     "start_time": "2019-07-29T13:11:42.975269Z"
    }
   },
   "outputs": [
    {
     "name": "stdout",
     "output_type": "stream",
     "text": [
      "Ritvik19\n"
     ]
    }
   ],
   "source": [
    "reddit = praw.Reddit(client_id=credentials[0],\n",
    "                     client_secret=credentials[1],\n",
    "                     password=credentials[2],\n",
    "                     user_agent=credentials[3],\n",
    "                     username=credentials[4])\n",
    "print(reddit.user.me())"
   ]
  },
  {
   "cell_type": "code",
   "execution_count": 5,
   "metadata": {
    "ExecuteTime": {
     "end_time": "2019-07-29T13:20:03.392593Z",
     "start_time": "2019-07-29T13:11:44.927836Z"
    }
   },
   "outputs": [
    {
     "name": "stderr",
     "output_type": "stream",
     "text": [
      "485it [08:18,  1.08it/s]\n"
     ]
    }
   ],
   "source": [
    "subreddit = reddit.subreddit('explainlikeimfive')\n",
    "redds = []\n",
    "ts = []\n",
    "comment1 = []\n",
    "comment2 = []\n",
    "comment3 = []\n",
    "comment4 = []\n",
    "comment5 = []\n",
    "\n",
    "top_subreddit = subreddit.hot(limit=1000)\n",
    "for sr in tqdm(top_subreddit):\n",
    "    try:\n",
    "        if not sr.stickied:\n",
    "            comments = sr.comments.list()\n",
    "            if len(comments) >= 5:\n",
    "                redds.append(sr.title)\n",
    "                ts.append(sr.created_utc)\n",
    "                comment1.append(comments[0].body)\n",
    "                comment2.append(comments[1].body)\n",
    "                comment3.append(comments[2].body)\n",
    "                comment4.append(comments[3].body)\n",
    "                comment5.append(comments[4].body)\n",
    "    except Exception as e:\n",
    "        print(e)"
   ]
  },
  {
   "cell_type": "code",
   "execution_count": 6,
   "metadata": {
    "ExecuteTime": {
     "end_time": "2019-07-29T13:20:03.406554Z",
     "start_time": "2019-07-29T13:20:03.395586Z"
    }
   },
   "outputs": [],
   "source": [
    "ts = list(map(lambda x : datetime.fromtimestamp(x).strftime(\"%Y/%m/%d %H:%M:%S\"), ts))\n",
    "redds = list(map(lambda x: x[6:] if x.startswith('ELI5: ') else x, redds))"
   ]
  },
  {
   "cell_type": "code",
   "execution_count": 7,
   "metadata": {
    "ExecuteTime": {
     "end_time": "2019-07-29T13:20:03.557152Z",
     "start_time": "2019-07-29T13:20:03.409547Z"
    }
   },
   "outputs": [],
   "source": [
    "FILEPATH = \"E:/Scrapped-Data/Reddit-Explain Like I'm Five.csv\""
   ]
  },
  {
   "cell_type": "code",
   "execution_count": 8,
   "metadata": {
    "ExecuteTime": {
     "end_time": "2019-07-29T13:20:03.746652Z",
     "start_time": "2019-07-29T13:20:03.562140Z"
    }
   },
   "outputs": [],
   "source": [
    "# First Time\n",
    "# d_all = pd.DataFrame({'Reddit':redds, 'TimeStamp':ts, 'Comment1':comment1, 'Comment2':comment2, 'Comment3':comment3, \n",
    "#                       'Comment4':comment4, 'Comment5':comment5})\n",
    "# d_all.drop_duplicates(subset=['Reddit'],inplace=True)\n",
    "# d_all.sort_values('TimeStamp', ascending=False, inplace=True)\n",
    "# d_all.to_csv(FILEPATH, index=False)"
   ]
  },
  {
   "cell_type": "code",
   "execution_count": 9,
   "metadata": {
    "ExecuteTime": {
     "end_time": "2019-07-29T13:20:03.967054Z",
     "start_time": "2019-07-29T13:20:03.750636Z"
    }
   },
   "outputs": [],
   "source": [
    "d_old = pd.read_csv(FILEPATH)\n",
    "d_new = pd.DataFrame({'Reddit':redds, 'TimeStamp':ts, 'Comment1':comment1, 'Comment2':comment2, 'Comment3':comment3, \n",
    "                      'Comment4':comment4, 'Comment5':comment5})\n",
    "\n",
    "d_all = pd.concat([d_new, d_old], axis=0)\n",
    "d_all.drop_duplicates(subset=['Reddit'],inplace=True)\n",
    "d_all.sort_values('TimeStamp', ascending=False, inplace=True)\n",
    "d_all.to_csv(FILEPATH, index=False)"
   ]
  },
  {
   "cell_type": "code",
   "execution_count": 10,
   "metadata": {
    "ExecuteTime": {
     "end_time": "2019-07-29T13:20:04.096711Z",
     "start_time": "2019-07-29T13:20:03.970047Z"
    }
   },
   "outputs": [
    {
     "data": {
      "text/html": [
       "<div>\n",
       "<style scoped>\n",
       "    .dataframe tbody tr th:only-of-type {\n",
       "        vertical-align: middle;\n",
       "    }\n",
       "\n",
       "    .dataframe tbody tr th {\n",
       "        vertical-align: top;\n",
       "    }\n",
       "\n",
       "    .dataframe thead th {\n",
       "        text-align: right;\n",
       "    }\n",
       "</style>\n",
       "<table border=\"1\" class=\"dataframe\">\n",
       "  <thead>\n",
       "    <tr style=\"text-align: right;\">\n",
       "      <th></th>\n",
       "      <th>Reddit</th>\n",
       "      <th>TimeStamp</th>\n",
       "      <th>Comment1</th>\n",
       "      <th>Comment2</th>\n",
       "      <th>Comment3</th>\n",
       "      <th>Comment4</th>\n",
       "      <th>Comment5</th>\n",
       "    </tr>\n",
       "  </thead>\n",
       "  <tbody>\n",
       "    <tr>\n",
       "      <th>15</th>\n",
       "      <td>Why do car companies name their cars differently in different regions?</td>\n",
       "      <td>2019/07/29 18:01:45</td>\n",
       "      <td>For a lot of different reasons. \\n\\nIn some cases, the name means something specific in the local language. \\n\\nSometimes the name is already a registered trademark for another product in a certain country.\\n\\nAnd then again sometimes it just marketing strategies.</td>\n",
       "      <td>Because names can sale cars. In certain countries when people do initial testing o in target audience, they make sure to try out different names and see which is more memorable to people. Because, if you can easily remember a car name over some other car name, the marketing company has some it's duty.</td>\n",
       "      <td>I don’t understand? I highly doubt if people will stop buying the Camry if they name it the Corolla, will they?</td>\n",
       "      <td>Actually yes. The sales in UK was plummeting for for Corolla, so they ranged it Auris(gold) and realised it in 2006, bam! Sales went through the roof.</td>\n",
       "      <td>Another reason could stem from the fact that it can be an offensive or stupid meaning name in a different language.\\nhttps://www.carthrottle.com/post/49rx9gg/</td>\n",
       "    </tr>\n",
       "    <tr>\n",
       "      <th>2</th>\n",
       "      <td>Why are children viewed as more of a financial burden than they used to?</td>\n",
       "      <td>2019/07/29 18:01:09</td>\n",
       "      <td>The expenses that have outpaced inflation the most are those that children require. Health care, housing, education. It can cost tens of thousands just to have a pregnancy and delivery.</td>\n",
       "      <td>Kids don't help increase the family income like they did when farming was less automated. Both my parents hoed rows of cotton, corn, beans, etc as children. They fed the animals, and in the fall picked cotton. Even though he lived on a farm, dad also worked at a full-service gas station before he was a teenager up until he left for college. All his earnings went to help the family.</td>\n",
       "      <td>I think it would come down to the cost of education being a lot higher. \\n\\nSo when your grandmother was growing up, anything more than a gradeschool or highschool efucation was absolutley not neccesary to be succesful. For example, my great grandfather grew up and got an 8th grade education, left home and started working at chrystlers. He retired at like 45-50 im pretty sure. Had enough cash to live very comfortably until he died at 89.\\n\\nToday there arent any jobs that you could get with an 8th grade education and ever retire.\\n\\nSo the quality of education is much higher and therefore so is the cost. \\n\\nI would also argue that the quality of life is much higher than before for a child. But i think its more education.</td>\n",
       "      <td>Any household that had like 8 - 10 kids back in the 1900 - 1950 era would absolutely have a stay at home mom whose sole job was to take care of the 8 - 10 kids.\\n\\nAfter the women's rights movement and after WW2 we saw women enter the workforce at close to equal amounts as men.\\n\\nAfter a few decades the economy has become such that only like the top 8 - 10% of wage earners can afford to have their spouses be home makers. Which means for all the rest of us, both parents have to work, which means day care.\\n\\nFor my two kids, daycare was $25/day, times two kids, times 20 days per month or $1000 per month. Somebody making minimum wage makes $7.25 x 40 x 4 or $1160 per month.\\n\\nIn short, children are viewed as a financial burden because they absolutely are. And I've only used daycare as an example... That doesn't feed or clothe or house them, and even then, that's just keeping them alive... wait until I tell you about the ballet lessons that cost $800 x 4 classes per year. Oh... and we'd like our kids to be able to snowboard with us... lets tack on another 4 - 6 grand. Piano lessons? Gymnastics? Any other activity? More money.\\n\\nWe estimate we spend about 14K per year per kid. With two kids we spend about as much as the poverty line just raising halfway decent kids.</td>\n",
       "      <td>A child delivery cost less if you pay for it before the date of.</td>\n",
       "    </tr>\n",
       "    <tr>\n",
       "      <th>17</th>\n",
       "      <td>How Do Military Operations Get Named?</td>\n",
       "      <td>2019/07/29 17:45:38</td>\n",
       "      <td>I think I read somewhere it's a random generator. After all, if you're job is to think of cool names about \"the death ray fired at the sun\" you as a human may inadvertently reveal details of the project subconsciously, like Operation Ray-Ban, Operation Icarus, Operation SPF3000, Operation Lantern Archon. Etc...\\n\\nA computer prefilled with wordlists (usually with heroic or patriotic, sfw words) won't accidentally slip. A newly designed plunger for toilets may be Project Ovation, where as the Deathstar is deemed \"Operation Velvet\" since the computer doesn't know the difference between death stars and plungers. And the exclusion of NSFW language prevents the exact scenario of \"Your son died serving his country in Operation Buttmunch for the Shitstain campaign\"</td>\n",
       "      <td>&gt;I'd name an offensive something like Operation Buttmunch.\\n\\nAre you going to be the person that tells the wife of the dead serviceman that they died during Operation Buttmunch or other similarly titled name?\\n\\nCodenames are code names, but there are decorum points to prevent the above happening.</td>\n",
       "      <td>When will he at last have military operations named Operation Drunk Clown, Operation Silly Bunny, Operation Happy Flower, Operation Psychedelic Candy, and Operation Incompetent Interior Decorator?</td>\n",
       "      <td>Half the time, they're just random bullshit that has no meaning at all - the point of a codename is to hide the details of what's actually happening (eg - Jade Helm, Neptune Spear).  The other half of the time, they're chosen for PR purposes to make the mission sound righteous/patriotic/etc (eg - Desert Storm, Enduring Freedom).</td>\n",
       "      <td>You put me in mind of this system used for a similar purpose...\\n\\nhttps://en.wikipedia.org/wiki/List_of_Rainbow_Codes</td>\n",
       "    </tr>\n",
       "    <tr>\n",
       "      <th>8</th>\n",
       "      <td>Why do gunshots sound so different at distance?</td>\n",
       "      <td>2019/07/29 15:01:05</td>\n",
       "      <td>The bang at the gun is from the explosion of propellant. \\n\\nThe snap downrange is the shockwave from the bullet going faster than sound. This sound is drowned out by the bang when you're closer to the gun. \\n\\nThere is also a whizzing sound as the bullet destabilizes or ricochets and starts to tumble. This is caused by the rapid change in air pressure as the bullet goes from aerodynamic point first to sideways into the air and back.</td>\n",
       "      <td>It's called the Doppler effect, which is  an increase (or decrease) in the frequency of sound, light, or other waves as the source and observer move towards (or away from) each other. The effect causes the sudden change in pitch noticeable in the sirens of emergency vehicles that pass by.</td>\n",
       "      <td>Ah this makes perfect sense.\\nYou even explained the difference between the crack and whizzing sounds.\\nThanks!</td>\n",
       "      <td>I know about this and I feel it answers some but not all of it.\\nWhen you’re next to (let’s just say firing the gun for ease of discussion) the gun, the sound remains low.\\nIf a bullet whizzes by you, it’s fairly stable in its pitch.\\nIs this just because it’s so fast we cannot hear the Doppler effect?</td>\n",
       "      <td>It does answer it. When you are close to the source of the sound it sounds different that when you are far away from it.\\nIf you sat next to a fire truck with it's siren on, it would sound different than if it was down the street. This is due to the way sound waves travel.\\n\\nThe same applies on a firing range. You're standing there with your gun and to you it's making this deep manly bang sound, but on the other end of the range it just sounds like a firecracker.\\nIt's the sound of the muzzle not the bullet that you actually hear.\\n\\nYou can't really appreciate the difference in the sound because you are not in the two positions at the same time.\\n\\nEdit: [Here's](https://www.youtube.com/watch?v=JvxTn8XO83k) an admittedly bad video that explains it a bit.</td>\n",
       "    </tr>\n",
       "    <tr>\n",
       "      <th>13</th>\n",
       "      <td>How snorted substances affect the brain without properly being ingested or injected</td>\n",
       "      <td>2019/07/29 14:58:08</td>\n",
       "      <td>Chemicals dissolve in the mucus which coats most of the surface in the nose/back of throat. It can diffuse through the cells and  enter your bloodstream directly. Same thing when you put something under your tongue, like lsd.</td>\n",
       "      <td>Substances pass across mucous membranes lining all our insides. Crushed aspirin under the tongue is recommended for heart attack first aid. Lots of medicines can be taken as suppositories in the rectal cavity. It's also how swallowed medicines in the stomach get into the blood stream so quickly after all, you don't need to wait hours for digestion for a painkiller to take effect.\\n\\nLots can even travel through the skin. Ibuprofen cream for sore joints and nicotine patches for example. We are not as impermeable as you might imagine!</td>\n",
       "      <td>The entire reason that ingesting spring has an effect is that your gut absorbs it into your bloodstream. When you shift something, if the chemical molecule is small enough, it can go through your nasal passage right into your blood directly.</td>\n",
       "      <td>Ever had your own mucus go down from your nose to your throat?</td>\n",
       "      <td>When you snort a substance it is still partially ingested due to the fact, since the nasal passages are connected to your throat and trachea. At that point normal absorption of said substance occurs</td>\n",
       "    </tr>\n",
       "  </tbody>\n",
       "</table>\n",
       "</div>"
      ],
      "text/plain": [
       "                                                                                 Reddit  \\\n",
       "15  Why do car companies name their cars differently in different regions?                \n",
       "2   Why are children viewed as more of a financial burden than they used to?              \n",
       "17  How Do Military Operations Get Named?                                                 \n",
       "8   Why do gunshots sound so different at distance?                                       \n",
       "13  How snorted substances affect the brain without properly being ingested or injected   \n",
       "\n",
       "              TimeStamp  \\\n",
       "15  2019/07/29 18:01:45   \n",
       "2   2019/07/29 18:01:09   \n",
       "17  2019/07/29 17:45:38   \n",
       "8   2019/07/29 15:01:05   \n",
       "13  2019/07/29 14:58:08   \n",
       "\n",
       "                                                                                                                                                                                                                                                                                                                                                                                                                                                                                                                                                                                                                                                                                                                                                                                            Comment1  \\\n",
       "15  For a lot of different reasons. \\n\\nIn some cases, the name means something specific in the local language. \\n\\nSometimes the name is already a registered trademark for another product in a certain country.\\n\\nAnd then again sometimes it just marketing strategies.                                                                                                                                                                                                                                                                                                                                                                                                                                                                                                                           \n",
       "2   The expenses that have outpaced inflation the most are those that children require. Health care, housing, education. It can cost tens of thousands just to have a pregnancy and delivery.                                                                                                                                                                                                                                                                                                                                                                                                                                                                                                                                                                                                          \n",
       "17  I think I read somewhere it's a random generator. After all, if you're job is to think of cool names about \"the death ray fired at the sun\" you as a human may inadvertently reveal details of the project subconsciously, like Operation Ray-Ban, Operation Icarus, Operation SPF3000, Operation Lantern Archon. Etc...\\n\\nA computer prefilled with wordlists (usually with heroic or patriotic, sfw words) won't accidentally slip. A newly designed plunger for toilets may be Project Ovation, where as the Deathstar is deemed \"Operation Velvet\" since the computer doesn't know the difference between death stars and plungers. And the exclusion of NSFW language prevents the exact scenario of \"Your son died serving his country in Operation Buttmunch for the Shitstain campaign\"   \n",
       "8   The bang at the gun is from the explosion of propellant. \\n\\nThe snap downrange is the shockwave from the bullet going faster than sound. This sound is drowned out by the bang when you're closer to the gun. \\n\\nThere is also a whizzing sound as the bullet destabilizes or ricochets and starts to tumble. This is caused by the rapid change in air pressure as the bullet goes from aerodynamic point first to sideways into the air and back.                                                                                                                                                                                                                                                                                                                                              \n",
       "13   Chemicals dissolve in the mucus which coats most of the surface in the nose/back of throat. It can diffuse through the cells and  enter your bloodstream directly. Same thing when you put something under your tongue, like lsd.                                                                                                                                                                                                                                                                                                                                                                                                                                                                                                                                                                 \n",
       "\n",
       "                                                                                                                                                                                                                                                                                                                                                                                                                                                                                                                                                      Comment2  \\\n",
       "15  Because names can sale cars. In certain countries when people do initial testing o in target audience, they make sure to try out different names and see which is more memorable to people. Because, if you can easily remember a car name over some other car name, the marketing company has some it's duty.                                                                                                                                                                                                                                               \n",
       "2   Kids don't help increase the family income like they did when farming was less automated. Both my parents hoed rows of cotton, corn, beans, etc as children. They fed the animals, and in the fall picked cotton. Even though he lived on a farm, dad also worked at a full-service gas station before he was a teenager up until he left for college. All his earnings went to help the family.                                                                                                                                                             \n",
       "17  >I'd name an offensive something like Operation Buttmunch.\\n\\nAre you going to be the person that tells the wife of the dead serviceman that they died during Operation Buttmunch or other similarly titled name?\\n\\nCodenames are code names, but there are decorum points to prevent the above happening.                                                                                                                                                                                                                                                  \n",
       "8   It's called the Doppler effect, which is  an increase (or decrease) in the frequency of sound, light, or other waves as the source and observer move towards (or away from) each other. The effect causes the sudden change in pitch noticeable in the sirens of emergency vehicles that pass by.                                                                                                                                                                                                                                                            \n",
       "13  Substances pass across mucous membranes lining all our insides. Crushed aspirin under the tongue is recommended for heart attack first aid. Lots of medicines can be taken as suppositories in the rectal cavity. It's also how swallowed medicines in the stomach get into the blood stream so quickly after all, you don't need to wait hours for digestion for a painkiller to take effect.\\n\\nLots can even travel through the skin. Ibuprofen cream for sore joints and nicotine patches for example. We are not as impermeable as you might imagine!   \n",
       "\n",
       "                                                                                                                                                                                                                                                                                                                                                                                                                                                                                                                                                                                                                                                                                                                                                       Comment3  \\\n",
       "15  I don’t understand? I highly doubt if people will stop buying the Camry if they name it the Corolla, will they?                                                                                                                                                                                                                                                                                                                                                                                                                                                                                                                                                                                                                                               \n",
       "2   I think it would come down to the cost of education being a lot higher. \\n\\nSo when your grandmother was growing up, anything more than a gradeschool or highschool efucation was absolutley not neccesary to be succesful. For example, my great grandfather grew up and got an 8th grade education, left home and started working at chrystlers. He retired at like 45-50 im pretty sure. Had enough cash to live very comfortably until he died at 89.\\n\\nToday there arent any jobs that you could get with an 8th grade education and ever retire.\\n\\nSo the quality of education is much higher and therefore so is the cost. \\n\\nI would also argue that the quality of life is much higher than before for a child. But i think its more education.   \n",
       "17  When will he at last have military operations named Operation Drunk Clown, Operation Silly Bunny, Operation Happy Flower, Operation Psychedelic Candy, and Operation Incompetent Interior Decorator?                                                                                                                                                                                                                                                                                                                                                                                                                                                                                                                                                          \n",
       "8   Ah this makes perfect sense.\\nYou even explained the difference between the crack and whizzing sounds.\\nThanks!                                                                                                                                                                                                                                                                                                                                                                                                                                                                                                                                                                                                                                               \n",
       "13  The entire reason that ingesting spring has an effect is that your gut absorbs it into your bloodstream. When you shift something, if the chemical molecule is small enough, it can go through your nasal passage right into your blood directly.                                                                                                                                                                                                                                                                                                                                                                                                                                                                                                             \n",
       "\n",
       "                                                                                                                                                                                                                                                                                                                                                                                                                                                                                                                                                                                                                                                                                                                                                                                                                                                                                                                                                                                                                                                                                                                                                                                                                                                                                                                                 Comment4  \\\n",
       "15  Actually yes. The sales in UK was plummeting for for Corolla, so they ranged it Auris(gold) and realised it in 2006, bam! Sales went through the roof.                                                                                                                                                                                                                                                                                                                                                                                                                                                                                                                                                                                                                                                                                                                                                                                                                                                                                                                                                                                                                                                                                                                                                                                  \n",
       "2   Any household that had like 8 - 10 kids back in the 1900 - 1950 era would absolutely have a stay at home mom whose sole job was to take care of the 8 - 10 kids.\\n\\nAfter the women's rights movement and after WW2 we saw women enter the workforce at close to equal amounts as men.\\n\\nAfter a few decades the economy has become such that only like the top 8 - 10% of wage earners can afford to have their spouses be home makers. Which means for all the rest of us, both parents have to work, which means day care.\\n\\nFor my two kids, daycare was $25/day, times two kids, times 20 days per month or $1000 per month. Somebody making minimum wage makes $7.25 x 40 x 4 or $1160 per month.\\n\\nIn short, children are viewed as a financial burden because they absolutely are. And I've only used daycare as an example... That doesn't feed or clothe or house them, and even then, that's just keeping them alive... wait until I tell you about the ballet lessons that cost $800 x 4 classes per year. Oh... and we'd like our kids to be able to snowboard with us... lets tack on another 4 - 6 grand. Piano lessons? Gymnastics? Any other activity? More money.\\n\\nWe estimate we spend about 14K per year per kid. With two kids we spend about as much as the poverty line just raising halfway decent kids.   \n",
       "17  Half the time, they're just random bullshit that has no meaning at all - the point of a codename is to hide the details of what's actually happening (eg - Jade Helm, Neptune Spear).  The other half of the time, they're chosen for PR purposes to make the mission sound righteous/patriotic/etc (eg - Desert Storm, Enduring Freedom).                                                                                                                                                                                                                                                                                                                                                                                                                                                                                                                                                                                                                                                                                                                                                                                                                                                                                                                                                                                              \n",
       "8   I know about this and I feel it answers some but not all of it.\\nWhen you’re next to (let’s just say firing the gun for ease of discussion) the gun, the sound remains low.\\nIf a bullet whizzes by you, it’s fairly stable in its pitch.\\nIs this just because it’s so fast we cannot hear the Doppler effect?                                                                                                                                                                                                                                                                                                                                                                                                                                                                                                                                                                                                                                                                                                                                                                                                                                                                                                                                                                                                                         \n",
       "13  Ever had your own mucus go down from your nose to your throat?                                                                                                                                                                                                                                                                                                                                                                                                                                                                                                                                                                                                                                                                                                                                                                                                                                                                                                                                                                                                                                                                                                                                                                                                                                                                          \n",
       "\n",
       "                                                                                                                                                                                                                                                                                                                                                                                                                                                                                                                                                                                                                                                                                                                                                                                          Comment5  \n",
       "15  Another reason could stem from the fact that it can be an offensive or stupid meaning name in a different language.\\nhttps://www.carthrottle.com/post/49rx9gg/                                                                                                                                                                                                                                                                                                                                                                                                                                                                                                                                                                                                                                  \n",
       "2   A child delivery cost less if you pay for it before the date of.                                                                                                                                                                                                                                                                                                                                                                                                                                                                                                                                                                                                                                                                                                                                \n",
       "17  You put me in mind of this system used for a similar purpose...\\n\\nhttps://en.wikipedia.org/wiki/List_of_Rainbow_Codes                                                                                                                                                                                                                                                                                                                                                                                                                                                                                                                                                                                                                                                                          \n",
       "8   It does answer it. When you are close to the source of the sound it sounds different that when you are far away from it.\\nIf you sat next to a fire truck with it's siren on, it would sound different than if it was down the street. This is due to the way sound waves travel.\\n\\nThe same applies on a firing range. You're standing there with your gun and to you it's making this deep manly bang sound, but on the other end of the range it just sounds like a firecracker.\\nIt's the sound of the muzzle not the bullet that you actually hear.\\n\\nYou can't really appreciate the difference in the sound because you are not in the two positions at the same time.\\n\\nEdit: [Here's](https://www.youtube.com/watch?v=JvxTn8XO83k) an admittedly bad video that explains it a bit.  \n",
       "13  When you snort a substance it is still partially ingested due to the fact, since the nasal passages are connected to your throat and trachea. At that point normal absorption of said substance occurs                                                                                                                                                                                                                                                                                                                                                                                                                                                                                                                                                                                          "
      ]
     },
     "execution_count": 10,
     "metadata": {},
     "output_type": "execute_result"
    }
   ],
   "source": [
    "d_all.head()"
   ]
  },
  {
   "cell_type": "code",
   "execution_count": 13,
   "metadata": {
    "ExecuteTime": {
     "end_time": "2019-07-29T14:06:26.745903Z",
     "start_time": "2019-07-29T14:06:26.737928Z"
    }
   },
   "outputs": [
    {
     "name": "stdout",
     "output_type": "stream",
     "text": [
      "1 New Reddits\n"
     ]
    }
   ],
   "source": [
    "print(f'{len(d_all)-len(d_old)} New Reddits')"
   ]
  },
  {
   "cell_type": "code",
   "execution_count": 12,
   "metadata": {
    "ExecuteTime": {
     "end_time": "2019-07-29T13:20:04.402888Z",
     "start_time": "2019-07-29T13:20:04.257279Z"
    }
   },
   "outputs": [
    {
     "data": {
      "text/plain": [
       "258"
      ]
     },
     "execution_count": 12,
     "metadata": {},
     "output_type": "execute_result"
    }
   ],
   "source": [
    "len(d_all)"
   ]
  },
  {
   "cell_type": "code",
   "execution_count": null,
   "metadata": {},
   "outputs": [],
   "source": []
  }
 ],
 "metadata": {
  "kernelspec": {
   "display_name": "Python 3",
   "language": "python",
   "name": "python3"
  },
  "language_info": {
   "codemirror_mode": {
    "name": "ipython",
    "version": 3
   },
   "file_extension": ".py",
   "mimetype": "text/x-python",
   "name": "python",
   "nbconvert_exporter": "python",
   "pygments_lexer": "ipython3",
   "version": "3.7.3"
  },
  "toc": {
   "base_numbering": 1,
   "nav_menu": {},
   "number_sections": true,
   "sideBar": true,
   "skip_h1_title": false,
   "title_cell": "Table of Contents",
   "title_sidebar": "Contents",
   "toc_cell": false,
   "toc_position": {},
   "toc_section_display": true,
   "toc_window_display": false
  },
  "varInspector": {
   "cols": {
    "lenName": 16,
    "lenType": 16,
    "lenVar": 40
   },
   "kernels_config": {
    "python": {
     "delete_cmd_postfix": "",
     "delete_cmd_prefix": "del ",
     "library": "var_list.py",
     "varRefreshCmd": "print(var_dic_list())"
    },
    "r": {
     "delete_cmd_postfix": ") ",
     "delete_cmd_prefix": "rm(",
     "library": "var_list.r",
     "varRefreshCmd": "cat(var_dic_list()) "
    }
   },
   "types_to_exclude": [
    "module",
    "function",
    "builtin_function_or_method",
    "instance",
    "_Feature"
   ],
   "window_display": false
  }
 },
 "nbformat": 4,
 "nbformat_minor": 2
}
