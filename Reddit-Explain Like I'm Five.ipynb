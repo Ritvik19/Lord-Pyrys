{
 "cells": [
  {
   "cell_type": "markdown",
   "metadata": {},
   "source": [
    "# Libraries"
   ]
  },
  {
   "cell_type": "code",
   "execution_count": 1,
   "metadata": {
    "ExecuteTime": {
     "end_time": "2019-08-02T14:26:01.040089Z",
     "start_time": "2019-08-02T14:25:59.754565Z"
    }
   },
   "outputs": [],
   "source": [
    "import praw\n",
    "import pandas as pd\n",
    "from tqdm import tqdm\n",
    "from datetime import datetime"
   ]
  },
  {
   "cell_type": "code",
   "execution_count": 2,
   "metadata": {
    "ExecuteTime": {
     "end_time": "2019-08-02T14:26:01.050240Z",
     "start_time": "2019-08-02T14:26:01.044084Z"
    }
   },
   "outputs": [],
   "source": [
    "pd.options.display.max_colwidth = -1"
   ]
  },
  {
   "cell_type": "markdown",
   "metadata": {},
   "source": [
    "# Scraping"
   ]
  },
  {
   "cell_type": "code",
   "execution_count": 3,
   "metadata": {
    "ExecuteTime": {
     "end_time": "2019-08-02T14:26:01.225817Z",
     "start_time": "2019-08-02T14:26:01.053203Z"
    }
   },
   "outputs": [],
   "source": [
    "with open('E:/RedditCredentials.txt') as f:\n",
    "    credentials = list(map(lambda x: x.strip(), f.readlines()))"
   ]
  },
  {
   "cell_type": "code",
   "execution_count": 4,
   "metadata": {
    "ExecuteTime": {
     "end_time": "2019-08-02T14:26:03.302825Z",
     "start_time": "2019-08-02T14:26:01.232431Z"
    }
   },
   "outputs": [
    {
     "name": "stdout",
     "output_type": "stream",
     "text": [
      "Ritvik19\n"
     ]
    }
   ],
   "source": [
    "reddit = praw.Reddit(client_id=credentials[0],\n",
    "                     client_secret=credentials[1],\n",
    "                     password=credentials[2],\n",
    "                     user_agent=credentials[3],\n",
    "                     username=credentials[4])\n",
    "print(reddit.user.me())"
   ]
  },
  {
   "cell_type": "code",
   "execution_count": 5,
   "metadata": {
    "ExecuteTime": {
     "end_time": "2019-08-02T14:37:51.439791Z",
     "start_time": "2019-08-02T14:26:03.310838Z"
    }
   },
   "outputs": [
    {
     "name": "stderr",
     "output_type": "stream",
     "text": [
      "482it [11:48,  1.41s/it]\n"
     ]
    }
   ],
   "source": [
    "subreddit = reddit.subreddit('explainlikeimfive')\n",
    "redds = []\n",
    "ts = []\n",
    "comment1 = []\n",
    "comment2 = []\n",
    "comment3 = []\n",
    "comment4 = []\n",
    "comment5 = []\n",
    "\n",
    "top_subreddit = subreddit.hot(limit=1000)\n",
    "for sr in tqdm(top_subreddit):\n",
    "    try:\n",
    "        if not sr.stickied:\n",
    "            comments = sr.comments.list()\n",
    "            if len(comments) >= 5:\n",
    "                redds.append(sr.title)\n",
    "                ts.append(sr.created_utc)\n",
    "                comment1.append(comments[0].body)\n",
    "                comment2.append(comments[1].body)\n",
    "                comment3.append(comments[2].body)\n",
    "                comment4.append(comments[3].body)\n",
    "                comment5.append(comments[4].body)\n",
    "    except Exception as e:\n",
    "        print(e)"
   ]
  },
  {
   "cell_type": "code",
   "execution_count": 6,
   "metadata": {
    "ExecuteTime": {
     "end_time": "2019-08-02T14:37:51.478686Z",
     "start_time": "2019-08-02T14:37:51.448767Z"
    }
   },
   "outputs": [],
   "source": [
    "ts = list(map(lambda x : datetime.fromtimestamp(x).strftime(\"%Y/%m/%d %H:%M:%S\"), ts))\n",
    "redds = list(map(lambda x: x[6:] if x.startswith('ELI5: ') else x, redds))"
   ]
  },
  {
   "cell_type": "code",
   "execution_count": 7,
   "metadata": {
    "ExecuteTime": {
     "end_time": "2019-08-02T14:37:51.633689Z",
     "start_time": "2019-08-02T14:37:51.490654Z"
    }
   },
   "outputs": [],
   "source": [
    "FILEPATH = \"E:/Scrapped-Data/Reddit-Explain Like I'm Five.csv\""
   ]
  },
  {
   "cell_type": "code",
   "execution_count": 8,
   "metadata": {
    "ExecuteTime": {
     "end_time": "2019-08-02T14:37:51.770323Z",
     "start_time": "2019-08-02T14:37:51.645957Z"
    }
   },
   "outputs": [],
   "source": [
    "# First Time\n",
    "# d_all = pd.DataFrame({'Reddit':redds, 'TimeStamp':ts, 'Comment1':comment1, 'Comment2':comment2, 'Comment3':comment3, \n",
    "#                       'Comment4':comment4, 'Comment5':comment5})\n",
    "# d_all.drop_duplicates(subset=['Reddit'],inplace=True)\n",
    "# d_all.sort_values('TimeStamp', ascending=False, inplace=True)\n",
    "# d_all.to_csv(FILEPATH, index=False)"
   ]
  },
  {
   "cell_type": "code",
   "execution_count": 9,
   "metadata": {
    "ExecuteTime": {
     "end_time": "2019-08-02T14:37:52.047143Z",
     "start_time": "2019-08-02T14:37:51.778779Z"
    }
   },
   "outputs": [
    {
     "name": "stdout",
     "output_type": "stream",
     "text": [
      "276\n"
     ]
    }
   ],
   "source": [
    "d_old = pd.read_csv(FILEPATH)\n",
    "d_new = pd.DataFrame({'Reddit':redds, 'TimeStamp':ts, 'Comment1':comment1, 'Comment2':comment2, 'Comment3':comment3, \n",
    "                      'Comment4':comment4, 'Comment5':comment5})\n",
    "print(len(d_new))\n",
    "d_all = pd.concat([d_new, d_old], axis=0)\n",
    "d_all.drop_duplicates(subset=['Reddit'],inplace=True)\n",
    "d_all.sort_values('TimeStamp', ascending=False, inplace=True)\n",
    "d_all.to_csv(FILEPATH, index=False)"
   ]
  },
  {
   "cell_type": "code",
   "execution_count": 10,
   "metadata": {
    "ExecuteTime": {
     "end_time": "2019-08-02T14:37:52.085525Z",
     "start_time": "2019-08-02T14:37:52.050073Z"
    }
   },
   "outputs": [
    {
     "data": {
      "text/html": [
       "<div>\n",
       "<style scoped>\n",
       "    .dataframe tbody tr th:only-of-type {\n",
       "        vertical-align: middle;\n",
       "    }\n",
       "\n",
       "    .dataframe tbody tr th {\n",
       "        vertical-align: top;\n",
       "    }\n",
       "\n",
       "    .dataframe thead th {\n",
       "        text-align: right;\n",
       "    }\n",
       "</style>\n",
       "<table border=\"1\" class=\"dataframe\">\n",
       "  <thead>\n",
       "    <tr style=\"text-align: right;\">\n",
       "      <th></th>\n",
       "      <th>Reddit</th>\n",
       "      <th>TimeStamp</th>\n",
       "      <th>Comment1</th>\n",
       "      <th>Comment2</th>\n",
       "      <th>Comment3</th>\n",
       "      <th>Comment4</th>\n",
       "      <th>Comment5</th>\n",
       "    </tr>\n",
       "  </thead>\n",
       "  <tbody>\n",
       "    <tr>\n",
       "      <th>18</th>\n",
       "      <td>why does bread go so hard and dry so quickly in the sun?</td>\n",
       "      <td>2019/08/02 18:28:58</td>\n",
       "      <td>I'm pretty sure it's because the hydration is taken out of it. The moisture in it disapates and it hardens up as a result.</td>\n",
       "      <td>It happens so quickly though, was literally sitting here and within 2 minutes it’s hard and dry</td>\n",
       "      <td>Was it in the bag or no? And what was the temperature?</td>\n",
       "      <td>That is because bread is spongy, which means it has a large surface-area to volume ratio and molecules of water can evaporate from many different positions.</td>\n",
       "      <td>Because the sunlight heat up the bread and the water evaporate from it. There is not a lot of water in so compare it to how fast a thin fabric that you have squeezed out all water can from it, it change quickly from feeling a bit moist to dyr in direct sunlight.</td>\n",
       "    </tr>\n",
       "    <tr>\n",
       "      <th>2</th>\n",
       "      <td>ELI5:What is wrong with Genetically Modified Foods?</td>\n",
       "      <td>2019/08/02 17:57:10</td>\n",
       "      <td>It wouldn't be fair to say there is *nothing* potentially harmful about GMO foods. It is theoretically possible for GMO foods to be dangerous both for your health and for farming practises - But the same goes for non GMO food too.\\n\\nIn reality, GMO products are highly tested, studied and regulated to a degree that makes them perfectly safe. We've been genetically altering plant species for centuries, it's just that the modern genetic engineering done in labs \"looks\" scary to those who don't understand the science.</td>\n",
       "      <td>If it weren't for GMO a lot more of the world would go hungry. I also don't understand why it's bad.\\nThings like DDT on crops is what is bad.</td>\n",
       "      <td>Basically nothing.  But people get squeamish when you discuss inserting a gene from a fish into a strawberry, or engineering a salmon to be 25% larger.  \\n\\nThere's also unintended consequences, such as the glyphosate resistance inserted into corn spreading to noxious weeds like hogweed.</td>\n",
       "      <td>GMO just describes something that was made using a certain tool. It says nothing about what was made at all.\\n\\nI like to use this example: building homes using a nailgun or a hammer.\\n\\nUsing a nailgun, I can use crappy materials and do a poor job and come out with a terrible, unsafe house. Or I can do the job right and create a great home.\\n\\nUsing a hammer, I can use crappy materials and do a poor job and come out with a terrible, unsafe house. Or I can do the job right and create a great home.\\n\\nWhether the home is safe depends on how it was built, not whether or not I used a nail gun or a hammer. I could build a nearly identical house using either tool, and it would be effectively the same. Someone who said \"Homes made with nailguns are unproven and unsafe\" is basically saying something ridiculous, right? Why judge something based on the tool used when it is the house that was built that matters?\\n\\nThis is true for GMOs too. I could use GE to create something that is genetically identical to something we consider \"natural\"  - thus it would be no different - and so it is silly to be afraid of the method, rather than what was produced.</td>\n",
       "      <td>It's not the foods. It's the business practices around the foods. These business practices can be highly aggressive and sometimes rather exploitative.\\n\\nIt's kinda like buying a printer. The printer is cheap, and then you're forced to buy DRM containing ink cartridges to use it.</td>\n",
       "    </tr>\n",
       "    <tr>\n",
       "      <th>19</th>\n",
       "      <td>Why does sleeping (even an hour) dehydrate you?</td>\n",
       "      <td>2019/08/02 17:44:00</td>\n",
       "      <td>Just living dehydrates you. That's why we need to drink all through the day. When you sleep, you aren't replenishing water.</td>\n",
       "      <td>You breathe out water vapour all the time, your body is constantly metabolising even when asleep, so you use up water.\\n\\nAdditionally, you sweat whilst you are asleep and lose water that way in order to control your body temperature.</td>\n",
       "      <td>Additional to OP question, how much water should I drink before bed to have a decent hydration but not having to wake up every couple hours to drink water or go pee?</td>\n",
       "      <td>If you wake up feeling terribly dehydrated, it was likely you went to sleep dehydrated. \\n\\nCurled up nice and warm for an hour your body could also be sweating just a little bit to keep the temperature regulated and you lose water without realizing it.</td>\n",
       "      <td>It's better to stay hydrated throughout the day than cram water in before you sleep. \\n\\nAlso remember to balance your water intake with electrolytes like salt. If all you get is the water, you just pee out the extra. Which isn't harmful to you but it is annoying when you're waking up every few hours to do it.</td>\n",
       "    </tr>\n",
       "    <tr>\n",
       "      <th>20</th>\n",
       "      <td>ELI5 If there was a room full of mirrors what would it look lik</td>\n",
       "      <td>2019/08/02 17:41:52</td>\n",
       "      <td>Although, on a philosophical level, you could also say that it wouldn't look like anything if no one was around to see it......</td>\n",
       "      <td>You'd see the edges and the corners so I'd guess it would look like an endless, transparent wire-frame.</td>\n",
       "      <td>Dark, since there's no light source.\\n\\nMirrors themselves are usually slightly green from the glass, so if you put two mirrors face to face the repeating image fades away into green.</td>\n",
       "      <td>Assuming you at least put a light in it, [an endless plane made of copies of the same room receding into dark fog](https://youtu.be/WIhe_P4qDco)</td>\n",
       "      <td>Also no light source ^^</td>\n",
       "    </tr>\n",
       "    <tr>\n",
       "      <th>6</th>\n",
       "      <td>How do worker's co-ops actually work?</td>\n",
       "      <td>2019/08/02 17:37:48</td>\n",
       "      <td>A normal company is owned by shareholders. If a company has 10 shares, those shares are divided between people, and they can sell their share to other people. The shareholders elect a CEO and approve major decisions at stockholder meetings, often held once a year. The CEO runs the basics of the company, makes major appointments and so on, determines wages, etc. The excess profits the company makes which are not put into maintainence or expansion, are then divided by the shareholders. So if after everyone is paid, the bills are paid, and after the new factory has been built and paid for, the company has an extra 10 million dollars lying around, each share receives 1 million dollars. (In reality, it's more likely a company has thousands of shares.). Usually things like building the new factory have to be approved by shareholders, as it's \"Their\" excess money you are tapping into.\\n\\nOne person could own 6 of the 10 shares. This is called being a \"Majority shareholder\", it means they make all the decisions and the only reason for others to own shares is to get a slice of the profits after each year.\\n\\nIn a worker cooperative there are no shareholders of  this kind. Instead, working at the company (Sometimes, working there for a length of time like 3 years) gets you one share, and you cannot sell it. You can then elect the CEO, who will set wages, make major appointments, and so on. You can also receive your share of the companies profits at the end of each year. (Most cooperatives will differentiate here however, and say that while everyone gets one vote, some jobs earn more share of the profit than others. Mondragon uses 3 shares for unskilled labour, 5 for skilled labour, 7 for experts and managers.).\\n\\n&amp;#x200B;\\n\\nThe workers, like shareholders, can decide to call an emergency meeting to fire the CEO if they get up to shenanigans. They can propose things at the annual meetings like \"Wages must be set to X\" and vote on them.\\n\\n&amp;#x200B;\\n\\nImagine everything at the company was the same, but the workers and shareholders are the same people. Since they aren't doing the same job at the same time, nothing would actually change about your job and how you do it, beyond the fact that the people who own your company would be you and your co-workers. 9-5 your job remains the same and with the same stuff going on. It's just that once a year you go to the shareholder meeting and make decisions.\\n\\nSo basically, a workers cooperative are where Workers are like Batman. But instead of secretly being Batman, occasionally they become Bruce Wayne for a day. You wouldn't know it unless you happened to observe them changing out of their overalls into suits and ties to go to the stockholder meeting, though you might suspect something is amiss by the way their bosses seem not to be assholes to them, their work seems comfortable and well paid, and their CEO pops in to say hi and ask if they need anything.\\n\\nThis has a wide range of effects which are bit more complicated.</td>\n",
       "      <td>Thanks, that makes a lot of sense! For whatever reason I assumed that there would be more major changes.</td>\n",
       "      <td>There was this coop supermarket near me growing up, but it seemed to me other than slightly high wages than the minimum according to friends, it was just the same as any other store. apple also pay slightly more than minimum but they aren't a co-op.</td>\n",
       "      <td>There might be, depending on how this fundamental difference manifests itself. But day to day, it's pretty much the same, except suddenly your bosses and their bosses are chosen by your peers instead of people only interested in how much money the company makes. A co-op could decide to act the same way and be like; \"We're a co-op for people who don't care about the job being miserable, because it's all about the money money money\", and that's fine. Most wouldn't though.\\n\\n&amp;#x200B;\\n\\nAppointing a CEO who promises to freeze wages, downsize, and deliver more profit to shareholders is pretty common. Among workers that'd be like; \"I'll pay you all less so I can pay you all the same money I just took from you on a different day\" and they'd be like...\\n\\n&amp;#x200B;\\n\\n\"...No? We prefer the guy who wants to do a major investment into the dining hall, because that place is shit.\", or \"Actually we prefer the guy who convinced us to give up 2000 this year from the shareholder bonus each so he can invest it in improving our steel mill to keep it competitive, thus securing our jobs for another 10 years.\". (Shareholders prefering quick pay outs to investment is one major problem a lot of industries face, and is a major reason for outsourcing. I coulllldd give up some of my money to invest in your car plant in michigan and pay for repairs... or I could not do that, and instead use that money to buy shares in the chinese one instead.\".\\n\\n&amp;#x200B;\\n\\nShareholders can be like \"Well my investment is moving to china so I don't care.\".Workers are not likely to be like \"Rather than fix this one, why don't we all literally physically move to China and work there?\"\\n\\n&amp;#x200B;\\n\\nVulture capitalists are people who buy shares from people like the Michigan shareholder and say \"Sell us your shares to us so you can buy chinese ones. We want to fire everybody, sell the building, sell the machines for scrap, and so on.\".  \\n\\n\\nThis is an example of how worker coops can actually be more competitive than capitalism, by keeping the pressure on eachother to invest in their companies rather than just being like \"Well fuck it i'll buy shares in the other one.\".</td>\n",
       "      <td>The Coop supermarket in the UK is better than average... but not as good as you'd expect, because most of their effort is spent on voting to do things like fair trade, avoid investing in landmines and so on. That's one explanation. If you framed it purely on a local scale, the co-op is just a better than normal employer, but nothing revolutionary. But that'd be ignoring that all their goods pay third world farmers well, they don't use sweat shops, they don't invest in unethical businesses, are aiming for total renewability, and so on. That's where a lot of their focus is on their meetings and where a lot of the money goes. It could be something like that. Notably that the Coop Bank was one of the only ones to avoid the financial crisis, specifically because they voted against the practices that led to it for being predatory. They needed no bailout, and it's one of the reasons I personally hate the bailouts.\\n\\nThat's an example of how co-ops can differ wildly depending on the local company culture. Mondragon is practically the opposite. It has some of the best conditions for their employees in the country, and might be the best if you have no school qualifications. They regularly vote to improve their conditions. On the other hand, they are pretty ruthless about paying and treating third world workers further up the supply chain like crap.\\n\\nIt's always worth researching an employer, but with co-ops that's especially relevant.</td>\n",
       "    </tr>\n",
       "  </tbody>\n",
       "</table>\n",
       "</div>"
      ],
      "text/plain": [
       "                                                             Reddit  \\\n",
       "18  why does bread go so hard and dry so quickly in the sun?          \n",
       "2   ELI5:What is wrong with Genetically Modified Foods?               \n",
       "19  Why does sleeping (even an hour) dehydrate you?                   \n",
       "20  ELI5 If there was a room full of mirrors what would it look lik   \n",
       "6   How do worker's co-ops actually work?                             \n",
       "\n",
       "              TimeStamp  \\\n",
       "18  2019/08/02 18:28:58   \n",
       "2   2019/08/02 17:57:10   \n",
       "19  2019/08/02 17:44:00   \n",
       "20  2019/08/02 17:41:52   \n",
       "6   2019/08/02 17:37:48   \n",
       "\n",
       "                                                                                                                                                                                                                                                                                                                                                                                                                                                                                                                                                                                                                                                                                                                                                                                                                                                                                                                                                                                                                                                                                                                                                                                                                                                                                                                                                                                                                                                                                                                                                                                                                                                                                                                                                                                                                                                                                                                                                                                                                                                                                                                                                                                                                                                                                                                                                                                                                                                                                                                                                                                                                                                                                                                                                                                                                                                                                                                                                                                                                                                                                                                         Comment1  \\\n",
       "18  I'm pretty sure it's because the hydration is taken out of it. The moisture in it disapates and it hardens up as a result.                                                                                                                                                                                                                                                                                                                                                                                                                                                                                                                                                                                                                                                                                                                                                                                                                                                                                                                                                                                                                                                                                                                                                                                                                                                                                                                                                                                                                                                                                                                                                                                                                                                                                                                                                                                                                                                                                                                                                                                                                                                                                                                                                                                                                                                                                                                                                                                                                                                                                                                                                                                                                                                                                                                                                                                                                                                                                                                                                                                                      \n",
       "2   It wouldn't be fair to say there is *nothing* potentially harmful about GMO foods. It is theoretically possible for GMO foods to be dangerous both for your health and for farming practises - But the same goes for non GMO food too.\\n\\nIn reality, GMO products are highly tested, studied and regulated to a degree that makes them perfectly safe. We've been genetically altering plant species for centuries, it's just that the modern genetic engineering done in labs \"looks\" scary to those who don't understand the science.                                                                                                                                                                                                                                                                                                                                                                                                                                                                                                                                                                                                                                                                                                                                                                                                                                                                                                                                                                                                                                                                                                                                                                                                                                                                                                                                                                                                                                                                                                                                                                                                                                                                                                                                                                                                                                                                                                                                                                                                                                                                                                                                                                                                                                                                                                                                                                                                                                                                                                                                                                                        \n",
       "19  Just living dehydrates you. That's why we need to drink all through the day. When you sleep, you aren't replenishing water.                                                                                                                                                                                                                                                                                                                                                                                                                                                                                                                                                                                                                                                                                                                                                                                                                                                                                                                                                                                                                                                                                                                                                                                                                                                                                                                                                                                                                                                                                                                                                                                                                                                                                                                                                                                                                                                                                                                                                                                                                                                                                                                                                                                                                                                                                                                                                                                                                                                                                                                                                                                                                                                                                                                                                                                                                                                                                                                                                                                                     \n",
       "20  Although, on a philosophical level, you could also say that it wouldn't look like anything if no one was around to see it......                                                                                                                                                                                                                                                                                                                                                                                                                                                                                                                                                                                                                                                                                                                                                                                                                                                                                                                                                                                                                                                                                                                                                                                                                                                                                                                                                                                                                                                                                                                                                                                                                                                                                                                                                                                                                                                                                                                                                                                                                                                                                                                                                                                                                                                                                                                                                                                                                                                                                                                                                                                                                                                                                                                                                                                                                                                                                                                                                                                                 \n",
       "6   A normal company is owned by shareholders. If a company has 10 shares, those shares are divided between people, and they can sell their share to other people. The shareholders elect a CEO and approve major decisions at stockholder meetings, often held once a year. The CEO runs the basics of the company, makes major appointments and so on, determines wages, etc. The excess profits the company makes which are not put into maintainence or expansion, are then divided by the shareholders. So if after everyone is paid, the bills are paid, and after the new factory has been built and paid for, the company has an extra 10 million dollars lying around, each share receives 1 million dollars. (In reality, it's more likely a company has thousands of shares.). Usually things like building the new factory have to be approved by shareholders, as it's \"Their\" excess money you are tapping into.\\n\\nOne person could own 6 of the 10 shares. This is called being a \"Majority shareholder\", it means they make all the decisions and the only reason for others to own shares is to get a slice of the profits after each year.\\n\\nIn a worker cooperative there are no shareholders of  this kind. Instead, working at the company (Sometimes, working there for a length of time like 3 years) gets you one share, and you cannot sell it. You can then elect the CEO, who will set wages, make major appointments, and so on. You can also receive your share of the companies profits at the end of each year. (Most cooperatives will differentiate here however, and say that while everyone gets one vote, some jobs earn more share of the profit than others. Mondragon uses 3 shares for unskilled labour, 5 for skilled labour, 7 for experts and managers.).\\n\\n&#x200B;\\n\\nThe workers, like shareholders, can decide to call an emergency meeting to fire the CEO if they get up to shenanigans. They can propose things at the annual meetings like \"Wages must be set to X\" and vote on them.\\n\\n&#x200B;\\n\\nImagine everything at the company was the same, but the workers and shareholders are the same people. Since they aren't doing the same job at the same time, nothing would actually change about your job and how you do it, beyond the fact that the people who own your company would be you and your co-workers. 9-5 your job remains the same and with the same stuff going on. It's just that once a year you go to the shareholder meeting and make decisions.\\n\\nSo basically, a workers cooperative are where Workers are like Batman. But instead of secretly being Batman, occasionally they become Bruce Wayne for a day. You wouldn't know it unless you happened to observe them changing out of their overalls into suits and ties to go to the stockholder meeting, though you might suspect something is amiss by the way their bosses seem not to be assholes to them, their work seems comfortable and well paid, and their CEO pops in to say hi and ask if they need anything.\\n\\nThis has a wide range of effects which are bit more complicated.   \n",
       "\n",
       "                                                                                                                                                                                                                                      Comment2  \\\n",
       "18  It happens so quickly though, was literally sitting here and within 2 minutes it’s hard and dry                                                                                                                                              \n",
       "2   If it weren't for GMO a lot more of the world would go hungry. I also don't understand why it's bad.\\nThings like DDT on crops is what is bad.                                                                                               \n",
       "19  You breathe out water vapour all the time, your body is constantly metabolising even when asleep, so you use up water.\\n\\nAdditionally, you sweat whilst you are asleep and lose water that way in order to control your body temperature.   \n",
       "20  You'd see the edges and the corners so I'd guess it would look like an endless, transparent wire-frame.                                                                                                                                      \n",
       "6   Thanks, that makes a lot of sense! For whatever reason I assumed that there would be more major changes.                                                                                                                                     \n",
       "\n",
       "                                                                                                                                                                                                                                                                                            Comment3  \\\n",
       "18  Was it in the bag or no? And what was the temperature?                                                                                                                                                                                                                                             \n",
       "2   Basically nothing.  But people get squeamish when you discuss inserting a gene from a fish into a strawberry, or engineering a salmon to be 25% larger.  \\n\\nThere's also unintended consequences, such as the glyphosate resistance inserted into corn spreading to noxious weeds like hogweed.   \n",
       "19  Additional to OP question, how much water should I drink before bed to have a decent hydration but not having to wake up every couple hours to drink water or go pee?                                                                                                                              \n",
       "20  Dark, since there's no light source.\\n\\nMirrors themselves are usually slightly green from the glass, so if you put two mirrors face to face the repeating image fades away into green.                                                                                                            \n",
       "6   There was this coop supermarket near me growing up, but it seemed to me other than slightly high wages than the minimum according to friends, it was just the same as any other store. apple also pay slightly more than minimum but they aren't a co-op.                                          \n",
       "\n",
       "                                                                                                                                                                                                                                                                                                                                                                                                                                                                                                                                                                                                                                                                                                                                                                                                                                                                                                                                                                                                                                                                                                                                                                                                                                                                                                                                                                                                                                                                                                                                                                                                                                                                                                                                                                                                                                                                                                                                                                                                                                                                                                                                                                                                                                                 Comment4  \\\n",
       "18  That is because bread is spongy, which means it has a large surface-area to volume ratio and molecules of water can evaporate from many different positions.                                                                                                                                                                                                                                                                                                                                                                                                                                                                                                                                                                                                                                                                                                                                                                                                                                                                                                                                                                                                                                                                                                                                                                                                                                                                                                                                                                                                                                                                                                                                                                                                                                                                                                                                                                                                                                                                                                                                                                                                                                                                                            \n",
       "2   GMO just describes something that was made using a certain tool. It says nothing about what was made at all.\\n\\nI like to use this example: building homes using a nailgun or a hammer.\\n\\nUsing a nailgun, I can use crappy materials and do a poor job and come out with a terrible, unsafe house. Or I can do the job right and create a great home.\\n\\nUsing a hammer, I can use crappy materials and do a poor job and come out with a terrible, unsafe house. Or I can do the job right and create a great home.\\n\\nWhether the home is safe depends on how it was built, not whether or not I used a nail gun or a hammer. I could build a nearly identical house using either tool, and it would be effectively the same. Someone who said \"Homes made with nailguns are unproven and unsafe\" is basically saying something ridiculous, right? Why judge something based on the tool used when it is the house that was built that matters?\\n\\nThis is true for GMOs too. I could use GE to create something that is genetically identical to something we consider \"natural\"  - thus it would be no different - and so it is silly to be afraid of the method, rather than what was produced.                                                                                                                                                                                                                                                                                                                                                                                                                                                                                                                                                                                                                                                                                                                                                                                                                                                                                                                                                                                                                                                  \n",
       "19  If you wake up feeling terribly dehydrated, it was likely you went to sleep dehydrated. \\n\\nCurled up nice and warm for an hour your body could also be sweating just a little bit to keep the temperature regulated and you lose water without realizing it.                                                                                                                                                                                                                                                                                                                                                                                                                                                                                                                                                                                                                                                                                                                                                                                                                                                                                                                                                                                                                                                                                                                                                                                                                                                                                                                                                                                                                                                                                                                                                                                                                                                                                                                                                                                                                                                                                                                                                                                           \n",
       "20  Assuming you at least put a light in it, [an endless plane made of copies of the same room receding into dark fog](https://youtu.be/WIhe_P4qDco)                                                                                                                                                                                                                                                                                                                                                                                                                                                                                                                                                                                                                                                                                                                                                                                                                                                                                                                                                                                                                                                                                                                                                                                                                                                                                                                                                                                                                                                                                                                                                                                                                                                                                                                                                                                                                                                                                                                                                                                                                                                                                                        \n",
       "6   There might be, depending on how this fundamental difference manifests itself. But day to day, it's pretty much the same, except suddenly your bosses and their bosses are chosen by your peers instead of people only interested in how much money the company makes. A co-op could decide to act the same way and be like; \"We're a co-op for people who don't care about the job being miserable, because it's all about the money money money\", and that's fine. Most wouldn't though.\\n\\n&#x200B;\\n\\nAppointing a CEO who promises to freeze wages, downsize, and deliver more profit to shareholders is pretty common. Among workers that'd be like; \"I'll pay you all less so I can pay you all the same money I just took from you on a different day\" and they'd be like...\\n\\n&#x200B;\\n\\n\"...No? We prefer the guy who wants to do a major investment into the dining hall, because that place is shit.\", or \"Actually we prefer the guy who convinced us to give up 2000 this year from the shareholder bonus each so he can invest it in improving our steel mill to keep it competitive, thus securing our jobs for another 10 years.\". (Shareholders prefering quick pay outs to investment is one major problem a lot of industries face, and is a major reason for outsourcing. I coulllldd give up some of my money to invest in your car plant in michigan and pay for repairs... or I could not do that, and instead use that money to buy shares in the chinese one instead.\".\\n\\n&#x200B;\\n\\nShareholders can be like \"Well my investment is moving to china so I don't care.\".Workers are not likely to be like \"Rather than fix this one, why don't we all literally physically move to China and work there?\"\\n\\n&#x200B;\\n\\nVulture capitalists are people who buy shares from people like the Michigan shareholder and say \"Sell us your shares to us so you can buy chinese ones. We want to fire everybody, sell the building, sell the machines for scrap, and so on.\".  \\n\\n\\nThis is an example of how worker coops can actually be more competitive than capitalism, by keeping the pressure on eachother to invest in their companies rather than just being like \"Well fuck it i'll buy shares in the other one.\".   \n",
       "\n",
       "                                                                                                                                                                                                                                                                                                                                                                                                                                                                                                                                                                                                                                                                                                                                                                                                                                                                                                                                                                                                                                                                                                                                                                                                                                                                                                                                                                                                                                                                                                       Comment5  \n",
       "18  Because the sunlight heat up the bread and the water evaporate from it. There is not a lot of water in so compare it to how fast a thin fabric that you have squeezed out all water can from it, it change quickly from feeling a bit moist to dyr in direct sunlight.                                                                                                                                                                                                                                                                                                                                                                                                                                                                                                                                                                                                                                                                                                                                                                                                                                                                                                                                                                                                                                                                                                                                                                                                                                       \n",
       "2   It's not the foods. It's the business practices around the foods. These business practices can be highly aggressive and sometimes rather exploitative.\\n\\nIt's kinda like buying a printer. The printer is cheap, and then you're forced to buy DRM containing ink cartridges to use it.                                                                                                                                                                                                                                                                                                                                                                                                                                                                                                                                                                                                                                                                                                                                                                                                                                                                                                                                                                                                                                                                                                                                                                                                                     \n",
       "19  It's better to stay hydrated throughout the day than cram water in before you sleep. \\n\\nAlso remember to balance your water intake with electrolytes like salt. If all you get is the water, you just pee out the extra. Which isn't harmful to you but it is annoying when you're waking up every few hours to do it.                                                                                                                                                                                                                                                                                                                                                                                                                                                                                                                                                                                                                                                                                                                                                                                                                                                                                                                                                                                                                                                                                                                                                                                      \n",
       "20  Also no light source ^^                                                                                                                                                                                                                                                                                                                                                                                                                                                                                                                                                                                                                                                                                                                                                                                                                                                                                                                                                                                                                                                                                                                                                                                                                                                                                                                                                                                                                                                                                      \n",
       "6   The Coop supermarket in the UK is better than average... but not as good as you'd expect, because most of their effort is spent on voting to do things like fair trade, avoid investing in landmines and so on. That's one explanation. If you framed it purely on a local scale, the co-op is just a better than normal employer, but nothing revolutionary. But that'd be ignoring that all their goods pay third world farmers well, they don't use sweat shops, they don't invest in unethical businesses, are aiming for total renewability, and so on. That's where a lot of their focus is on their meetings and where a lot of the money goes. It could be something like that. Notably that the Coop Bank was one of the only ones to avoid the financial crisis, specifically because they voted against the practices that led to it for being predatory. They needed no bailout, and it's one of the reasons I personally hate the bailouts.\\n\\nThat's an example of how co-ops can differ wildly depending on the local company culture. Mondragon is practically the opposite. It has some of the best conditions for their employees in the country, and might be the best if you have no school qualifications. They regularly vote to improve their conditions. On the other hand, they are pretty ruthless about paying and treating third world workers further up the supply chain like crap.\\n\\nIt's always worth researching an employer, but with co-ops that's especially relevant.  "
      ]
     },
     "execution_count": 10,
     "metadata": {},
     "output_type": "execute_result"
    }
   ],
   "source": [
    "d_all.head()"
   ]
  },
  {
   "cell_type": "code",
   "execution_count": 11,
   "metadata": {
    "ExecuteTime": {
     "end_time": "2019-08-02T14:37:52.226941Z",
     "start_time": "2019-08-02T14:37:52.087458Z"
    }
   },
   "outputs": [
    {
     "name": "stdout",
     "output_type": "stream",
     "text": [
      "14 New Reddits\n"
     ]
    }
   ],
   "source": [
    "print(f'{len(d_all)-len(d_old)} New Reddits')"
   ]
  },
  {
   "cell_type": "code",
   "execution_count": 12,
   "metadata": {
    "ExecuteTime": {
     "end_time": "2019-08-02T14:37:52.363860Z",
     "start_time": "2019-08-02T14:37:52.231902Z"
    }
   },
   "outputs": [
    {
     "data": {
      "text/plain": [
       "546"
      ]
     },
     "execution_count": 12,
     "metadata": {},
     "output_type": "execute_result"
    }
   ],
   "source": [
    "len(d_all)"
   ]
  },
  {
   "cell_type": "code",
   "execution_count": null,
   "metadata": {},
   "outputs": [],
   "source": []
  }
 ],
 "metadata": {
  "kernelspec": {
   "display_name": "Python 3",
   "language": "python",
   "name": "python3"
  },
  "language_info": {
   "codemirror_mode": {
    "name": "ipython",
    "version": 3
   },
   "file_extension": ".py",
   "mimetype": "text/x-python",
   "name": "python",
   "nbconvert_exporter": "python",
   "pygments_lexer": "ipython3",
   "version": "3.7.3"
  },
  "toc": {
   "base_numbering": 1,
   "nav_menu": {},
   "number_sections": true,
   "sideBar": true,
   "skip_h1_title": false,
   "title_cell": "Table of Contents",
   "title_sidebar": "Contents",
   "toc_cell": false,
   "toc_position": {},
   "toc_section_display": true,
   "toc_window_display": false
  },
  "varInspector": {
   "cols": {
    "lenName": 16,
    "lenType": 16,
    "lenVar": 40
   },
   "kernels_config": {
    "python": {
     "delete_cmd_postfix": "",
     "delete_cmd_prefix": "del ",
     "library": "var_list.py",
     "varRefreshCmd": "print(var_dic_list())"
    },
    "r": {
     "delete_cmd_postfix": ") ",
     "delete_cmd_prefix": "rm(",
     "library": "var_list.r",
     "varRefreshCmd": "cat(var_dic_list()) "
    }
   },
   "types_to_exclude": [
    "module",
    "function",
    "builtin_function_or_method",
    "instance",
    "_Feature"
   ],
   "window_display": false
  }
 },
 "nbformat": 4,
 "nbformat_minor": 2
}
