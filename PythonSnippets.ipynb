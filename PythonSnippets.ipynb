{
 "cells": [
  {
   "cell_type": "markdown",
   "metadata": {},
   "source": [
    "# Libraries"
   ]
  },
  {
   "cell_type": "code",
   "execution_count": 1,
   "metadata": {
    "ExecuteTime": {
     "end_time": "2019-05-11T14:20:32.841502Z",
     "start_time": "2019-05-11T14:20:26.230864Z"
    }
   },
   "outputs": [],
   "source": [
    "import requests, bs4\n",
    "import numpy as np\n",
    "import pandas as pd\n",
    "from IPython.display import clear_output\n",
    "\n",
    "pd.options.display.max_columns = 5\n",
    "pd.options.display.max_colwidth = -1"
   ]
  },
  {
   "cell_type": "markdown",
   "metadata": {},
   "source": [
    "# URLs to Scrape"
   ]
  },
  {
   "cell_type": "code",
   "execution_count": 2,
   "metadata": {
    "ExecuteTime": {
     "end_time": "2019-05-11T14:20:34.143891Z",
     "start_time": "2019-05-11T14:20:32.846154Z"
    }
   },
   "outputs": [
    {
     "name": "stdout",
     "output_type": "stream",
     "text": [
      "20\n"
     ]
    }
   ],
   "source": [
    "URL = 'https://snippets.readthedocs.io/en/latest/'\n",
    "urls = []\n",
    "res = requests.get(URL)\n",
    "if res.status_code == requests.codes.ok:\n",
    "    ressoup = bs4.BeautifulSoup(res.text, 'lxml')\n",
    "    elems = ressoup.select('.reference.internal')\n",
    "    for e in elems:\n",
    "        if '#' not in e.get('href'):\n",
    "            urls.append('https://snippets.readthedocs.io/en/latest/'+e.get('href'))\n",
    "else:\n",
    "    print('Something went wrong')\n",
    "print(len(urls))"
   ]
  },
  {
   "cell_type": "markdown",
   "metadata": {},
   "source": [
    "# Scraping"
   ]
  },
  {
   "cell_type": "code",
   "execution_count": 3,
   "metadata": {
    "ExecuteTime": {
     "end_time": "2019-05-11T14:20:34.166261Z",
     "start_time": "2019-05-11T14:20:34.149094Z"
    }
   },
   "outputs": [],
   "source": [
    "PythonSnippets = pd.DataFrame(columns=['Title', 'Code'])"
   ]
  },
  {
   "cell_type": "code",
   "execution_count": 4,
   "metadata": {
    "ExecuteTime": {
     "end_time": "2019-05-11T14:20:35.490953Z",
     "start_time": "2019-05-11T14:20:34.172665Z"
    }
   },
   "outputs": [
    {
     "name": "stdout",
     "output_type": "stream",
     "text": [
      "5\n",
      "7\n",
      "5\n"
     ]
    }
   ],
   "source": [
    "titles = []\n",
    "codes = []\n",
    "res = requests.get(urls[0])\n",
    "if res.status_code == requests.codes.ok:\n",
    "    ressoup = bs4.BeautifulSoup(res.text, 'lxml')\n",
    "    elems_h2 = ressoup.select('h2')\n",
    "    for e in elems_h2:\n",
    "        titles.append(e.getText()[:-2].title())\n",
    "    elems_pre = ressoup.select('pre')\n",
    "    for e in elems_pre:\n",
    "        codes.append(e.getText())\n",
    "    print(len(titles))\n",
    "    print(len(codes))\n",
    "    codes[-3] = codes[-3]+'\\n'+codes[-2]+'\\n'+codes[-1]\n",
    "    codes.pop()\n",
    "    codes.pop()\n",
    "    print(len(codes))\n",
    "    newcodes = pd.DataFrame({\n",
    "        'Title': titles,\n",
    "        'Code': codes\n",
    "    })\n",
    "    PythonSnippets = pd.concat([PythonSnippets, newcodes], axis=0)\n",
    "else:\n",
    "    print('Something went wrong')"
   ]
  },
  {
   "cell_type": "code",
   "execution_count": 5,
   "metadata": {
    "ExecuteTime": {
     "end_time": "2019-05-11T14:20:36.674708Z",
     "start_time": "2019-05-11T14:20:35.495889Z"
    }
   },
   "outputs": [
    {
     "name": "stdout",
     "output_type": "stream",
     "text": [
      "4\n",
      "4\n"
     ]
    }
   ],
   "source": [
    "titles = []\n",
    "codes = []\n",
    "res = requests.get(urls[1])\n",
    "if res.status_code == requests.codes.ok:\n",
    "    ressoup = bs4.BeautifulSoup(res.text, 'lxml')\n",
    "    elems_h2 = ressoup.select('h2')\n",
    "    for e in elems_h2:\n",
    "        titles.append(e.getText()[:-2].title())\n",
    "    elems_pre = ressoup.select('pre')\n",
    "    for e in elems_pre:\n",
    "        codes.append(e.getText())\n",
    "    print(len(titles))\n",
    "    print(len(codes))\n",
    "    newcodes = pd.DataFrame({\n",
    "        'Title': titles,\n",
    "        'Code': codes\n",
    "    })\n",
    "    PythonSnippets = pd.concat([PythonSnippets, newcodes], axis=0)\n",
    "else:\n",
    "    print('Something went wrong')"
   ]
  },
  {
   "cell_type": "code",
   "execution_count": 6,
   "metadata": {
    "ExecuteTime": {
     "end_time": "2019-05-11T14:20:37.912671Z",
     "start_time": "2019-05-11T14:20:36.688096Z"
    }
   },
   "outputs": [
    {
     "name": "stdout",
     "output_type": "stream",
     "text": [
      "9\n",
      "10\n",
      "9\n"
     ]
    }
   ],
   "source": [
    "titles = []\n",
    "codes = []\n",
    "res = requests.get(urls[2])\n",
    "if res.status_code == requests.codes.ok:\n",
    "    ressoup = bs4.BeautifulSoup(res.text, 'lxml')\n",
    "    elems_h2 = ressoup.select('h2')\n",
    "    for e in elems_h2:\n",
    "        titles.append(e.getText()[:-2].title())\n",
    "    elems_pre = ressoup.select('pre')\n",
    "    for e in elems_pre:\n",
    "        codes.append(e.getText())\n",
    "    print(len(titles))\n",
    "    print(len(codes))\n",
    "    codes[3] = codes[3]+'\\n'+codes[4]\n",
    "    codes.pop(4)\n",
    "    print(len(codes))\n",
    "    newcodes = pd.DataFrame({\n",
    "        'Title': titles,\n",
    "        'Code': codes\n",
    "    })\n",
    "    PythonSnippets = pd.concat([PythonSnippets, newcodes], axis=0)\n",
    "else:\n",
    "    print('Something went wrong')"
   ]
  },
  {
   "cell_type": "code",
   "execution_count": 7,
   "metadata": {
    "ExecuteTime": {
     "end_time": "2019-05-11T14:20:39.089881Z",
     "start_time": "2019-05-11T14:20:37.931888Z"
    }
   },
   "outputs": [
    {
     "name": "stdout",
     "output_type": "stream",
     "text": [
      "2\n",
      "3\n",
      "2\n"
     ]
    }
   ],
   "source": [
    "titles = []\n",
    "codes = []\n",
    "res = requests.get(urls[3])\n",
    "if res.status_code == requests.codes.ok:\n",
    "    ressoup = bs4.BeautifulSoup(res.text, 'lxml')\n",
    "    elems_h2 = ressoup.select('h2')\n",
    "    for e in elems_h2:\n",
    "        titles.append(e.getText()[:-2].title())\n",
    "    elems_pre = ressoup.select('pre')\n",
    "    for e in elems_pre:\n",
    "        codes.append(e.getText())\n",
    "    print(len(titles))\n",
    "    print(len(codes))\n",
    "    codes[-2] = codes[-2]+'\\n'+codes[-1]\n",
    "    codes.pop()\n",
    "    print(len(codes))\n",
    "    newcodes = pd.DataFrame({\n",
    "        'Title': titles,\n",
    "        'Code': codes\n",
    "    })\n",
    "    PythonSnippets = pd.concat([PythonSnippets, newcodes], axis=0)\n",
    "else:\n",
    "    print('Something went wrong')"
   ]
  },
  {
   "cell_type": "code",
   "execution_count": 8,
   "metadata": {
    "ExecuteTime": {
     "end_time": "2019-05-11T14:20:40.245581Z",
     "start_time": "2019-05-11T14:20:39.103049Z"
    }
   },
   "outputs": [
    {
     "name": "stdout",
     "output_type": "stream",
     "text": [
      "2\n",
      "1\n",
      "1\n"
     ]
    }
   ],
   "source": [
    "titles = []\n",
    "codes = []\n",
    "res = requests.get(urls[4])\n",
    "if res.status_code == requests.codes.ok:\n",
    "    ressoup = bs4.BeautifulSoup(res.text, 'lxml')\n",
    "    elems_h2 = ressoup.select('h2')\n",
    "    for e in elems_h2:\n",
    "        titles.append(e.getText()[:-2].title())\n",
    "    elems_pre = ressoup.select('pre')\n",
    "    for e in elems_pre:\n",
    "        codes.append(e.getText())\n",
    "    print(len(titles))\n",
    "    print(len(codes))\n",
    "    titles.pop(0)\n",
    "    print(len(titles))\n",
    "    newcodes = pd.DataFrame({\n",
    "        'Title': titles,\n",
    "        'Code': codes\n",
    "    })\n",
    "    PythonSnippets = pd.concat([PythonSnippets, newcodes], axis=0)\n",
    "else:\n",
    "    print('Something went wrong')"
   ]
  },
  {
   "cell_type": "code",
   "execution_count": 9,
   "metadata": {
    "ExecuteTime": {
     "end_time": "2019-05-11T14:20:41.355746Z",
     "start_time": "2019-05-11T14:20:40.250539Z"
    }
   },
   "outputs": [
    {
     "name": "stdout",
     "output_type": "stream",
     "text": [
      "3\n",
      "3\n"
     ]
    }
   ],
   "source": [
    "titles = []\n",
    "codes = []\n",
    "res = requests.get(urls[5])\n",
    "if res.status_code == requests.codes.ok:\n",
    "    ressoup = bs4.BeautifulSoup(res.text, 'lxml')\n",
    "    elems_h2 = ressoup.select('h2')\n",
    "    for e in elems_h2:\n",
    "        titles.append(e.getText()[:-2].title())\n",
    "    elems_pre = ressoup.select('pre')\n",
    "    for e in elems_pre:\n",
    "        codes.append(e.getText())\n",
    "    print(len(titles))\n",
    "    print(len(codes))\n",
    "    newcodes = pd.DataFrame({\n",
    "        'Title': titles,\n",
    "        'Code': codes\n",
    "    })\n",
    "    PythonSnippets = pd.concat([PythonSnippets, newcodes], axis=0)\n",
    "else:\n",
    "    print('Something went wrong')"
   ]
  },
  {
   "cell_type": "code",
   "execution_count": 10,
   "metadata": {
    "ExecuteTime": {
     "end_time": "2019-05-11T14:20:42.539574Z",
     "start_time": "2019-05-11T14:20:41.357709Z"
    }
   },
   "outputs": [
    {
     "name": "stdout",
     "output_type": "stream",
     "text": [
      "2\n",
      "5\n",
      "2\n"
     ]
    }
   ],
   "source": [
    "titles = []\n",
    "codes = []\n",
    "res = requests.get(urls[6])\n",
    "if res.status_code == requests.codes.ok:\n",
    "    ressoup = bs4.BeautifulSoup(res.text, 'lxml')\n",
    "    elems_h2 = ressoup.select('h2')\n",
    "    for e in elems_h2:\n",
    "        titles.append(e.getText()[:-2].title())\n",
    "    elems_pre = ressoup.select('pre')\n",
    "    for e in elems_pre:\n",
    "        codes.append(e.getText())\n",
    "    print(len(titles))\n",
    "    print(len(codes))\n",
    "    codes_ = []\n",
    "    codes_.append(codes[0]+'\\n'+codes[1]+'\\n'+codes[2])\n",
    "    codes_.append(codes[3]+'\\n'+codes[4])\n",
    "    print(len(codes_))\n",
    "    newcodes = pd.DataFrame({\n",
    "        'Title': titles,\n",
    "        'Code': codes_\n",
    "    })\n",
    "    PythonSnippets = pd.concat([PythonSnippets, newcodes], axis=0)\n",
    "else:\n",
    "    print('Something went wrong')"
   ]
  },
  {
   "cell_type": "code",
   "execution_count": 11,
   "metadata": {
    "ExecuteTime": {
     "end_time": "2019-05-11T14:20:43.765726Z",
     "start_time": "2019-05-11T14:20:42.546556Z"
    }
   },
   "outputs": [
    {
     "name": "stdout",
     "output_type": "stream",
     "text": [
      "4\n",
      "7\n",
      "4\n"
     ]
    }
   ],
   "source": [
    "titles = []\n",
    "codes = []\n",
    "res = requests.get(urls[7])\n",
    "if res.status_code == requests.codes.ok:\n",
    "    ressoup = bs4.BeautifulSoup(res.text, 'lxml')\n",
    "    elems_h2 = ressoup.select('h2')\n",
    "    for e in elems_h2:\n",
    "        titles.append(e.getText()[:-2].title())\n",
    "    elems_pre = ressoup.select('pre')\n",
    "    for e in elems_pre:\n",
    "        codes.append(e.getText())\n",
    "    print(len(titles))\n",
    "    print(len(codes))\n",
    "    codes_ = []\n",
    "    codes_.append(codes[0])\n",
    "    codes_.append(codes[1]+'\\n'+codes[2]+'\\n'+codes[3]+'\\n'+codes[4])\n",
    "    codes_.append(codes[5])\n",
    "    codes_.append(codes[6])\n",
    "    print(len(codes_))\n",
    "    newcodes = pd.DataFrame({\n",
    "        'Title': titles,\n",
    "        'Code': codes_\n",
    "    })\n",
    "    PythonSnippets = pd.concat([PythonSnippets, newcodes], axis=0)\n",
    "else:\n",
    "    print('Something went wrong')"
   ]
  },
  {
   "cell_type": "code",
   "execution_count": 12,
   "metadata": {
    "ExecuteTime": {
     "end_time": "2019-05-11T14:20:44.965563Z",
     "start_time": "2019-05-11T14:20:43.773668Z"
    }
   },
   "outputs": [
    {
     "name": "stdout",
     "output_type": "stream",
     "text": [
      "4\n",
      "4\n"
     ]
    }
   ],
   "source": [
    "titles = []\n",
    "codes = []\n",
    "res = requests.get(urls[8])\n",
    "if res.status_code == requests.codes.ok:\n",
    "    ressoup = bs4.BeautifulSoup(res.text, 'lxml')\n",
    "    elems_h2 = ressoup.select('h2')\n",
    "    for e in elems_h2:\n",
    "        titles.append(e.getText()[:-2].title())\n",
    "    elems_pre = ressoup.select('pre')\n",
    "    for e in elems_pre:\n",
    "        codes.append(e.getText())\n",
    "    print(len(titles))\n",
    "    print(len(codes))\n",
    "    newcodes = pd.DataFrame({\n",
    "        'Title': titles,\n",
    "        'Code': codes\n",
    "    })\n",
    "    PythonSnippets = pd.concat([PythonSnippets, newcodes], axis=0)\n",
    "else:\n",
    "    print('Something went wrong')"
   ]
  },
  {
   "cell_type": "code",
   "execution_count": 13,
   "metadata": {
    "ExecuteTime": {
     "end_time": "2019-05-11T14:20:46.186928Z",
     "start_time": "2019-05-11T14:20:44.974508Z"
    }
   },
   "outputs": [
    {
     "name": "stdout",
     "output_type": "stream",
     "text": [
      "1\n",
      "6\n",
      "1\n"
     ]
    }
   ],
   "source": [
    "titles = []\n",
    "codes = []\n",
    "res = requests.get(urls[9])\n",
    "if res.status_code == requests.codes.ok:\n",
    "    ressoup = bs4.BeautifulSoup(res.text, 'lxml')\n",
    "    elems_h2 = ressoup.select('h2')\n",
    "    for e in elems_h2:\n",
    "        titles.append(e.getText()[:-2].title())\n",
    "    elems_pre = ressoup.select('pre')\n",
    "    for e in elems_pre:\n",
    "        codes.append(e.getText())\n",
    "    print(len(titles))\n",
    "    print(len(codes))\n",
    "    codes = '\\n'.join(codes)\n",
    "    print(len([codes]))\n",
    "    newcodes = pd.DataFrame({\n",
    "        'Title': titles,\n",
    "        'Code': [codes]\n",
    "    })\n",
    "    PythonSnippets = pd.concat([PythonSnippets, newcodes], axis=0)\n",
    "else:\n",
    "    print('Something went wrong')"
   ]
  },
  {
   "cell_type": "code",
   "execution_count": 14,
   "metadata": {
    "ExecuteTime": {
     "end_time": "2019-05-11T14:20:47.406904Z",
     "start_time": "2019-05-11T14:20:46.197953Z"
    }
   },
   "outputs": [
    {
     "name": "stdout",
     "output_type": "stream",
     "text": [
      "1\n",
      "2\n",
      "1\n"
     ]
    }
   ],
   "source": [
    "titles = []\n",
    "codes = []\n",
    "res = requests.get(urls[10])\n",
    "if res.status_code == requests.codes.ok:\n",
    "    ressoup = bs4.BeautifulSoup(res.text, 'lxml')\n",
    "    elems_h2 = ressoup.select('h2')\n",
    "    for e in elems_h2:\n",
    "        titles.append(e.getText()[:-2].title())\n",
    "    elems_pre = ressoup.select('pre')\n",
    "    for e in elems_pre:\n",
    "        codes.append(e.getText())\n",
    "    print(len(titles))\n",
    "    print(len(codes))\n",
    "    codes = '\\n'.join(codes)\n",
    "    print(len([codes]))\n",
    "    newcodes = pd.DataFrame({\n",
    "        'Title': titles,\n",
    "        'Code': [codes]\n",
    "    })\n",
    "    PythonSnippets = pd.concat([PythonSnippets, newcodes], axis=0)\n",
    "else:\n",
    "    print('Something went wrong')"
   ]
  },
  {
   "cell_type": "code",
   "execution_count": 15,
   "metadata": {
    "ExecuteTime": {
     "end_time": "2019-05-11T14:20:48.641642Z",
     "start_time": "2019-05-11T14:20:47.427865Z"
    }
   },
   "outputs": [
    {
     "name": "stdout",
     "output_type": "stream",
     "text": [
      "2\n",
      "2\n"
     ]
    }
   ],
   "source": [
    "titles = []\n",
    "codes = []\n",
    "res = requests.get(urls[12])\n",
    "if res.status_code == requests.codes.ok:\n",
    "    ressoup = bs4.BeautifulSoup(res.text, 'lxml')\n",
    "    elems_h2 = ressoup.select('h2')\n",
    "    for e in elems_h2:\n",
    "        titles.append(e.getText()[:-2].title())\n",
    "    elems_pre = ressoup.select('pre')\n",
    "    for e in elems_pre:\n",
    "        codes.append(e.getText())\n",
    "    print(len(titles))\n",
    "    print(len(codes))\n",
    "    newcodes = pd.DataFrame({\n",
    "        'Title': titles,\n",
    "        'Code': codes\n",
    "    })\n",
    "    PythonSnippets = pd.concat([PythonSnippets, newcodes], axis=0)\n",
    "else:\n",
    "    print('Something went wrong')"
   ]
  },
  {
   "cell_type": "code",
   "execution_count": 16,
   "metadata": {
    "ExecuteTime": {
     "end_time": "2019-05-11T14:20:49.844723Z",
     "start_time": "2019-05-11T14:20:48.656771Z"
    }
   },
   "outputs": [
    {
     "name": "stdout",
     "output_type": "stream",
     "text": [
      "2\n",
      "2\n"
     ]
    }
   ],
   "source": [
    "titles = []\n",
    "codes = []\n",
    "res = requests.get(urls[13])\n",
    "if res.status_code == requests.codes.ok:\n",
    "    ressoup = bs4.BeautifulSoup(res.text, 'lxml')\n",
    "    elems_h2 = ressoup.select('h2')\n",
    "    for e in elems_h2:\n",
    "        titles.append(e.getText()[:-2].title())\n",
    "    elems_pre = ressoup.select('pre')\n",
    "    for e in elems_pre:\n",
    "        codes.append(e.getText())\n",
    "    print(len(titles))\n",
    "    print(len(codes))\n",
    "    newcodes = pd.DataFrame({\n",
    "        'Title': titles,\n",
    "        'Code': codes\n",
    "    })\n",
    "    PythonSnippets = pd.concat([PythonSnippets, newcodes], axis=0)\n",
    "else:\n",
    "    print('Something went wrong')"
   ]
  },
  {
   "cell_type": "code",
   "execution_count": 17,
   "metadata": {
    "ExecuteTime": {
     "end_time": "2019-05-11T14:20:51.051513Z",
     "start_time": "2019-05-11T14:20:49.862709Z"
    }
   },
   "outputs": [
    {
     "name": "stdout",
     "output_type": "stream",
     "text": [
      "2\n",
      "2\n"
     ]
    }
   ],
   "source": [
    "titles = []\n",
    "codes = []\n",
    "res = requests.get(urls[14])\n",
    "if res.status_code == requests.codes.ok:\n",
    "    ressoup = bs4.BeautifulSoup(res.text, 'lxml')\n",
    "    elems_h2 = ressoup.select('h2')\n",
    "    for e in elems_h2:\n",
    "        titles.append(e.getText()[:-2].title())\n",
    "    elems_pre = ressoup.select('pre')\n",
    "    for e in elems_pre:\n",
    "        codes.append(e.getText())\n",
    "    print(len(titles))\n",
    "    print(len(codes))\n",
    "    newcodes = pd.DataFrame({\n",
    "        'Title': titles,\n",
    "        'Code': codes\n",
    "    })\n",
    "    PythonSnippets = pd.concat([PythonSnippets, newcodes], axis=0)\n",
    "else:\n",
    "    print('Something went wrong')"
   ]
  },
  {
   "cell_type": "code",
   "execution_count": 18,
   "metadata": {
    "ExecuteTime": {
     "end_time": "2019-05-11T14:20:52.230487Z",
     "start_time": "2019-05-11T14:20:51.061421Z"
    }
   },
   "outputs": [
    {
     "name": "stdout",
     "output_type": "stream",
     "text": [
      "5\n",
      "5\n"
     ]
    }
   ],
   "source": [
    "titles = []\n",
    "codes = []\n",
    "res = requests.get(urls[15])\n",
    "if res.status_code == requests.codes.ok:\n",
    "    ressoup = bs4.BeautifulSoup(res.text, 'lxml')\n",
    "    elems_h2 = ressoup.select('h2')\n",
    "    for e in elems_h2:\n",
    "        titles.append(e.getText()[:-2].title())\n",
    "    elems_pre = ressoup.select('pre')\n",
    "    for e in elems_pre:\n",
    "        codes.append(e.getText())\n",
    "    print(len(titles))\n",
    "    print(len(codes))\n",
    "    newcodes = pd.DataFrame({\n",
    "        'Title': titles,\n",
    "        'Code': codes\n",
    "    })\n",
    "    PythonSnippets = pd.concat([PythonSnippets, newcodes], axis=0)\n",
    "else:\n",
    "    print('Something went wrong')"
   ]
  },
  {
   "cell_type": "code",
   "execution_count": 19,
   "metadata": {
    "ExecuteTime": {
     "end_time": "2019-05-11T14:20:53.429971Z",
     "start_time": "2019-05-11T14:20:52.235446Z"
    }
   },
   "outputs": [
    {
     "name": "stdout",
     "output_type": "stream",
     "text": [
      "9\n",
      "9\n"
     ]
    }
   ],
   "source": [
    "titles = []\n",
    "codes = []\n",
    "res = requests.get(urls[16])\n",
    "if res.status_code == requests.codes.ok:\n",
    "    ressoup = bs4.BeautifulSoup(res.text, 'lxml')\n",
    "    elems_h2 = ressoup.select('h2')\n",
    "    for e in elems_h2:\n",
    "        titles.append(e.getText()[:-2].title())\n",
    "    elems_pre = ressoup.select('pre')\n",
    "    for e in elems_pre:\n",
    "        codes.append(e.getText())\n",
    "    print(len(titles))\n",
    "    print(len(codes))\n",
    "    newcodes = pd.DataFrame({\n",
    "        'Title': titles,\n",
    "        'Code': codes\n",
    "    })\n",
    "    PythonSnippets = pd.concat([PythonSnippets, newcodes], axis=0)\n",
    "else:\n",
    "    print('Something went wrong')"
   ]
  },
  {
   "cell_type": "code",
   "execution_count": 20,
   "metadata": {
    "ExecuteTime": {
     "end_time": "2019-05-11T14:20:54.592774Z",
     "start_time": "2019-05-11T14:20:53.438950Z"
    }
   },
   "outputs": [
    {
     "name": "stdout",
     "output_type": "stream",
     "text": [
      "2\n",
      "3\n",
      "2\n"
     ]
    }
   ],
   "source": [
    "titles = []\n",
    "codes = []\n",
    "res = requests.get(urls[17])\n",
    "if res.status_code == requests.codes.ok:\n",
    "    ressoup = bs4.BeautifulSoup(res.text, 'lxml')\n",
    "    elems_h2 = ressoup.select('h2')\n",
    "    for e in elems_h2:\n",
    "        titles.append(e.getText()[:-2].title())\n",
    "    elems_pre = ressoup.select('pre')\n",
    "    for e in elems_pre:\n",
    "        codes.append(e.getText())\n",
    "    print(len(titles))\n",
    "    print(len(codes))\n",
    "    codes_ = []\n",
    "    codes_.append(codes[0]+'\\n'+codes[1])\n",
    "    codes_.append(codes[2])\n",
    "    print(len(codes_))\n",
    "    newcodes = pd.DataFrame({\n",
    "        'Title': titles,\n",
    "        'Code': codes_\n",
    "    })\n",
    "    PythonSnippets = pd.concat([PythonSnippets, newcodes], axis=0)\n",
    "else:\n",
    "    print('Something went wrong')"
   ]
  },
  {
   "cell_type": "code",
   "execution_count": 21,
   "metadata": {
    "ExecuteTime": {
     "end_time": "2019-05-11T14:20:55.734473Z",
     "start_time": "2019-05-11T14:20:54.598616Z"
    }
   },
   "outputs": [
    {
     "name": "stdout",
     "output_type": "stream",
     "text": [
      "1\n",
      "1\n"
     ]
    }
   ],
   "source": [
    "titles = []\n",
    "codes = []\n",
    "res = requests.get(urls[18])\n",
    "if res.status_code == requests.codes.ok:\n",
    "    ressoup = bs4.BeautifulSoup(res.text, 'lxml')\n",
    "    elems_h2 = ressoup.select('h2')\n",
    "    for e in elems_h2:\n",
    "        titles.append(e.getText()[:-2].title())\n",
    "    elems_pre = ressoup.select('pre')\n",
    "    for e in elems_pre:\n",
    "        codes.append(e.getText())\n",
    "    print(len(titles))\n",
    "    print(len(codes))\n",
    "    newcodes = pd.DataFrame({\n",
    "        'Title': titles,\n",
    "        'Code': codes\n",
    "    })\n",
    "    PythonSnippets = pd.concat([PythonSnippets, newcodes], axis=0)\n",
    "else:\n",
    "    print('Something went wrong')"
   ]
  },
  {
   "cell_type": "code",
   "execution_count": 22,
   "metadata": {
    "ExecuteTime": {
     "end_time": "2019-05-11T14:20:57.008590Z",
     "start_time": "2019-05-11T14:20:55.744963Z"
    }
   },
   "outputs": [
    {
     "name": "stdout",
     "output_type": "stream",
     "text": [
      "3\n",
      "3\n"
     ]
    }
   ],
   "source": [
    "titles = []\n",
    "codes = []\n",
    "res = requests.get(urls[19])\n",
    "if res.status_code == requests.codes.ok:\n",
    "    ressoup = bs4.BeautifulSoup(res.text, 'lxml')\n",
    "    elems_h2 = ressoup.select('h2')\n",
    "    for e in elems_h2:\n",
    "        titles.append(e.getText()[:-2].title())\n",
    "    elems_pre = ressoup.select('pre')\n",
    "    for e in elems_pre:\n",
    "        codes.append(e.getText())\n",
    "    print(len(titles))\n",
    "    print(len(codes))\n",
    "    newcodes = pd.DataFrame({\n",
    "        'Title': titles,\n",
    "        'Code': codes\n",
    "    })\n",
    "    PythonSnippets = pd.concat([PythonSnippets, newcodes], axis=0)\n",
    "else:\n",
    "    print('Something went wrong')"
   ]
  },
  {
   "cell_type": "code",
   "execution_count": 23,
   "metadata": {
    "ExecuteTime": {
     "end_time": "2019-05-11T14:20:57.088602Z",
     "start_time": "2019-05-11T14:20:57.051814Z"
    }
   },
   "outputs": [
    {
     "data": {
      "text/plain": [
       "62"
      ]
     },
     "execution_count": 23,
     "metadata": {},
     "output_type": "execute_result"
    }
   ],
   "source": [
    "PythonSnippets = PythonSnippets.reset_index(drop=True)\n",
    "len(PythonSnippets)"
   ]
  },
  {
   "cell_type": "code",
   "execution_count": 24,
   "metadata": {
    "ExecuteTime": {
     "end_time": "2019-05-11T14:20:57.254530Z",
     "start_time": "2019-05-11T14:20:57.099872Z"
    }
   },
   "outputs": [
    {
     "data": {
      "text/html": [
       "<div>\n",
       "<style scoped>\n",
       "    .dataframe tbody tr th:only-of-type {\n",
       "        vertical-align: middle;\n",
       "    }\n",
       "\n",
       "    .dataframe tbody tr th {\n",
       "        vertical-align: top;\n",
       "    }\n",
       "\n",
       "    .dataframe thead th {\n",
       "        text-align: right;\n",
       "    }\n",
       "</style>\n",
       "<table border=\"1\" class=\"dataframe\">\n",
       "  <thead>\n",
       "    <tr style=\"text-align: right;\">\n",
       "      <th></th>\n",
       "      <th>Title</th>\n",
       "      <th>Code</th>\n",
       "    </tr>\n",
       "  </thead>\n",
       "  <tbody>\n",
       "    <tr>\n",
       "      <th>0</th>\n",
       "      <td>Not None Test</td>\n",
       "      <td>if value is not None:\\n    pass\\n</td>\n",
       "    </tr>\n",
       "    <tr>\n",
       "      <th>1</th>\n",
       "      <td>Dump Variable</td>\n",
       "      <td>import pprint\\n\\npprint.pprint(globals())\\n</td>\n",
       "    </tr>\n",
       "    <tr>\n",
       "      <th>2</th>\n",
       "      <td>Ternary Conditional Operator</td>\n",
       "      <td>&gt;&gt;&gt; 'true' if True else 'false'\\n'true'\\n&gt;&gt;&gt; 'true' if False else 'false'\\n'false'\\n</td>\n",
       "    </tr>\n",
       "    <tr>\n",
       "      <th>3</th>\n",
       "      <td>Accessing The Index In For Loops</td>\n",
       "      <td>for idx, val in enumerate(ints):\\n    print idx, val\\n</td>\n",
       "    </tr>\n",
       "    <tr>\n",
       "      <th>4</th>\n",
       "      <td>How Do I Check If A Variable Exists</td>\n",
       "      <td>if 'myVar' in locals():\\n    # myVar exists.\\n\\nif 'myVar' in globals():\\n    # myVar exists.\\n\\nif hasattr(obj, 'attr_name'):\\n    # obj.attr_name exists.\\n</td>\n",
       "    </tr>\n",
       "    <tr>\n",
       "      <th>5</th>\n",
       "      <td>Check If A String Is A Number</td>\n",
       "      <td>&gt;&gt;&gt; a = \"123\"\\n&gt;&gt;&gt; a.isdigit()\\nTrue\\n&gt;&gt;&gt; b = \"123abc\"\\n&gt;&gt;&gt; b.isdigit()\\nFalse\\n</td>\n",
       "    </tr>\n",
       "    <tr>\n",
       "      <th>6</th>\n",
       "      <td>Reverse A String</td>\n",
       "      <td>&gt;&gt;&gt; 'hello world'[::-1]\\n'dlrow olleh'\\n</td>\n",
       "    </tr>\n",
       "    <tr>\n",
       "      <th>7</th>\n",
       "      <td>Write Long String</td>\n",
       "      <td>string = (\"this is a \"\\n          \"really long long \"\\n          \"string\")\\n</td>\n",
       "    </tr>\n",
       "    <tr>\n",
       "      <th>8</th>\n",
       "      <td>Number With Leading Zeros</td>\n",
       "      <td>&gt;&gt;&gt; \"%02d\" % 1\\n'01'\\n&gt;&gt;&gt; \"%02d\" % 100\\n'100'\\n&gt;&gt;&gt; str(1).zfill(2)\\n'01'\\n&gt;&gt;&gt; str(100).zfill(2)\\n'100'\\n&gt;&gt;&gt; int('01')\\n1\\n</td>\n",
       "    </tr>\n",
       "    <tr>\n",
       "      <th>9</th>\n",
       "      <td>Check If A List Is Empty</td>\n",
       "      <td>if not a:\\n    print \"List is empty\"\\n</td>\n",
       "    </tr>\n",
       "    <tr>\n",
       "      <th>10</th>\n",
       "      <td>Empty A List</td>\n",
       "      <td>del l[:]\\n</td>\n",
       "    </tr>\n",
       "    <tr>\n",
       "      <th>11</th>\n",
       "      <td>Shuffle A List</td>\n",
       "      <td>from random import shuffle\\n# works in place\\nl = range(10)\\nshuffle(l)\\n</td>\n",
       "    </tr>\n",
       "    <tr>\n",
       "      <th>12</th>\n",
       "      <td>Append Vs Extend</td>\n",
       "      <td>x = [1, 2, 3]\\nx.append([4, 5])\\n# [1, 2, 3, [4, 5]]\\n\\nx = [1, 2, 3]\\nx.extend([4, 5])\\n# [1, 2, 3, 4, 5]\\n</td>\n",
       "    </tr>\n",
       "    <tr>\n",
       "      <th>13</th>\n",
       "      <td>Split A List Into Evenly Sized Chunks</td>\n",
       "      <td>def chunks(l, n):\\n    \"\"\" Yield successive n-sized chunks from l.\\n    \"\"\"\\n    for i in xrange(0, len(l), n):\\n        yield l[i:i+n]\\n</td>\n",
       "    </tr>\n",
       "    <tr>\n",
       "      <th>14</th>\n",
       "      <td>Finding The Index Of An Item</td>\n",
       "      <td>&gt;&gt;&gt; [\"foo\",\"bar\",\"baz\"].index('bar')\\n1\\n</td>\n",
       "    </tr>\n",
       "    <tr>\n",
       "      <th>15</th>\n",
       "      <td>Sort A List Of Dictionaries By Values Of The Dictionary</td>\n",
       "      <td>newlist = sorted(list_to_be_sorted, key=lambda k: k['name'])\\n</td>\n",
       "    </tr>\n",
       "    <tr>\n",
       "      <th>16</th>\n",
       "      <td>Randomly Select An Item From A List</td>\n",
       "      <td>import random\\n\\nfoo = ['a', 'b', 'c', 'd', 'e']\\nrandom.choice(foo)\\n</td>\n",
       "    </tr>\n",
       "    <tr>\n",
       "      <th>17</th>\n",
       "      <td>List Comprehension</td>\n",
       "      <td>new_list = [i * 2 for i in [1, 2, 3]]\\n</td>\n",
       "    </tr>\n",
       "    <tr>\n",
       "      <th>18</th>\n",
       "      <td>Merge (Union) Two Python Dictionaries</td>\n",
       "      <td>&gt;&gt;&gt; x = {'a':1, 'b': 2}\\n&gt;&gt;&gt; y = {'b':10, 'c': 11}\\n&gt;&gt;&gt; z = x.copy()\\n&gt;&gt;&gt; z.update(y)\\n{'a': 1, 'c': 11, 'b': 10}\\n</td>\n",
       "    </tr>\n",
       "    <tr>\n",
       "      <th>19</th>\n",
       "      <td>Create A Dictionary With List Comprehension</td>\n",
       "      <td>d = dict((key, value) for (key, value) in sequence)\\n\\nd = {key: value for (key, value) in sequence}\\n</td>\n",
       "    </tr>\n",
       "    <tr>\n",
       "      <th>20</th>\n",
       "      <td>Print A Object</td>\n",
       "      <td>Class User(object):\\n\\n    def __init__(self, name):\\n        self.name = name\\n\\n    def __repr__(self):\\n        return '&lt;User %r&gt;' % self.name\\n\\n    def __str__(self):\\n        return self.name\\n</td>\n",
       "    </tr>\n",
       "    <tr>\n",
       "      <th>21</th>\n",
       "      <td>Decorators 101</td>\n",
       "      <td>@EXPR\\ndef add(a, b):\\n    return a + b\\n\\n# The same thing as\\n\\ndef add(a, b):\\n    return a + b\\nadd = EXPR(add)\\n\\n@EXPR(ARG)\\ndef add(a, b):\\n    return a + b\\n\\n# The same thing as\\n\\ndef add(a, b):\\n    return a + b\\nadd = EXPR(ARG)(add)\\n</td>\n",
       "    </tr>\n",
       "    <tr>\n",
       "      <th>22</th>\n",
       "      <td>Good Decorator</td>\n",
       "      <td>from functools import wraps\\n\\ndef spam(repeats):\\n    def decorator(func):\\n        @wraps(func)\\n        def wrapper(*args, **kwargs):\\n            for i in range(repeats):\\n                func(*args, **kwargs)\\n        return wrapper\\n    return decorator\\n\\n@spam(11)\\ndef talk(word):\\n    \"\"\"talk docstring\"\"\"\\n    print word\\n</td>\n",
       "    </tr>\n",
       "    <tr>\n",
       "      <th>23</th>\n",
       "      <td>Method Decorator</td>\n",
       "      <td>from functools import update_wrapper\\n\\nclass MethodDecoratorDescriptor(object):\\n\\n    def __init__(self, func, decorator):\\n        self.func = func\\n        self.decorator = decorator\\n\\n    def __get__(self, obj, type=None):\\n        return self.decorator(self.func.__get__(obj, type))\\n\\ndef method_decorator(decorator):\\n    def decorate(f):\\n        return MethodDecoratorDescriptor(f, decorator)\\n    return decorate\\n\\n# usage\\ndef spam(f):\\n    def wrapper(value):\\n        return f(value) + \":spamed\"\\n    return update_wrapper(wrapper, f)\\n\\nclass MyClass(object):\\n\\n    @method_decorator(spam)\\n    def my(self, value):\\n        return value\\n\\nfoo = MyClass()\\nprint foo.my('hello')\\n</td>\n",
       "    </tr>\n",
       "    <tr>\n",
       "      <th>24</th>\n",
       "      <td>Iterator - The Python Yield Keyword Explained</td>\n",
       "      <td>&gt;&gt;&gt; mylist = [x*x for x in range(3)]\\n&gt;&gt;&gt; for i in mylist:\\n...    print(i)\\n0\\n1\\n4\\n\\n&gt;&gt;&gt; mygenerator = (x*x for x in range(3))\\n&gt;&gt;&gt; for i in mygenerator:\\n...    print(i)\\n0\\n1\\n4\\n\\n&gt;&gt;&gt; def createGenerator():\\n...    mylist = range(3)\\n...    for i in mylist:\\n...        yield i*i\\n...\\n&gt;&gt;&gt; mygenerator = createGenerator() # create a generator\\n&gt;&gt;&gt; print(mygenerator) # mygenerator is an object!\\n&lt;generator object createGenerator at 0xb7555c34&gt;\\n&gt;&gt;&gt; for i in mygenerator:\\n...     print(i)\\n0\\n1\\n4\\n</td>\n",
       "    </tr>\n",
       "    <tr>\n",
       "      <th>25</th>\n",
       "      <td>How Do I Determine If An Object Is Iterable</td>\n",
       "      <td>try:\\n    iterator = iter(theElement)\\nexcept TypeError:\\n    # not iterable\\nelse:\\n    # iterable\\n\\nimport collections\\n\\nif isinstance(theElement, collections.Iterable):\\n    # iterable\\nelse:\\n    # not iterable\\n</td>\n",
       "    </tr>\n",
       "    <tr>\n",
       "      <th>26</th>\n",
       "      <td>Descriptors 101</td>\n",
       "      <td>&gt;&gt;&gt; class Demo(object):\\n...     def hello(self):\\n...         pass\\n...\\n&gt;&gt;&gt; Demo.hello\\n&lt;unbound method Demo.hello&gt;\\n&gt;&gt;&gt; Demo.__dict__['hello']\\n&lt;function hello at 0x102b17668&gt;\\n&gt;&gt;&gt; Demo.__dict__['hello'].__get__(None, Demo)\\n&lt;unbound method Demo.hello&gt;\\n&gt;&gt;&gt;\\n&gt;&gt;&gt; Demo().hello\\n&lt;bound method Demo.hello of &lt;__main__.Demo object at 0x102b28550&gt;&gt;\\n&gt;&gt;&gt; Demo.__dict__['hello'].__get__(Demo(), Demo)\\n&lt;bound method Demo.hello of &lt;__main__.Demo object at 0x102b285d0&gt;&gt;\\n</td>\n",
       "    </tr>\n",
       "    <tr>\n",
       "      <th>27</th>\n",
       "      <td>Data And Non-Data Descriptors</td>\n",
       "      <td>class Demo(object):\\n\\n    def __init__(self):\\n        self.val = 'demo'\\n\\n    def __get__(self, obj, objtype):\\n        return self.val\\n\\n\\nclass Foo(object):\\n\\n    o = Demo()\\n\\n&gt;&gt;&gt; f = Foo()\\n&gt;&gt;&gt; f.o\\n'demo'\\n&gt;&gt;&gt; f.__dict__['o'] = 'demo2'\\n&gt;&gt;&gt; f.o\\n'demo2'\\n\\nclass Demo(object):\\n\\n    def __init__(self):\\n        self.val = 'demo'\\n\\n    def __get__(self, obj, objtype):\\n        return self.val\\n\\n    def __set__(self, obj, val):\\n        self.val = val\\n\\n&gt;&gt;&gt; f = Foo()\\n&gt;&gt;&gt; f.o\\n'demo'\\n&gt;&gt;&gt; f.__dict__['o'] = 'demo2'\\n&gt;&gt;&gt; f.o\\n'demo'\\n&gt;&gt;&gt; f.o = 'demo3'\\n&gt;&gt;&gt; f.o\\n'demo3'\\n</td>\n",
       "    </tr>\n",
       "    <tr>\n",
       "      <th>28</th>\n",
       "      <td>Better Way To Write Property</td>\n",
       "      <td>class Foo(object):\\n\\n    def _get_thing(self):\\n        \"\"\"Docstring\"\"\"\\n        return self._thing\\n\\n    def _set_thing(self, value):\\n        self._thing = value\\n\\n    thing = property(_get_thing, _set_thing)\\n    del _get_thing, _set_thing\\n</td>\n",
       "    </tr>\n",
       "    <tr>\n",
       "      <th>29</th>\n",
       "      <td>Cached Property</td>\n",
       "      <td>class cached_property(object):\\n    \"\"\"\\n    Decorator that creates converts a method with a single\\n    self argument into a property cached on the instance.\\n    \"\"\"\\n    def __init__(self, func):\\n        self.func = func\\n\\n    def __get__(self, instance, type):\\n        res = instance.__dict__[self.func.__name__] = self.func(instance)\\n        return res\\n</td>\n",
       "    </tr>\n",
       "    <tr>\n",
       "      <th>...</th>\n",
       "      <td>...</td>\n",
       "      <td>...</td>\n",
       "    </tr>\n",
       "    <tr>\n",
       "      <th>32</th>\n",
       "      <td>Ignore Exceptions</td>\n",
       "      <td>from contextlib import contextmanager\\n\\n@contextmanager\\ndef ignored(*exceptions):\\n    try:\\n        yield\\n    except exceptions:\\n        pass\\n\\nwith ignored(ValueError):\\n    int('string')\\n</td>\n",
       "    </tr>\n",
       "    <tr>\n",
       "      <th>33</th>\n",
       "      <td>Assert Raises</td>\n",
       "      <td>from unittest import TestCase\\n\\nclass MyTestCase(TestCase):\\n    def assert_raises(self, exc_type):\\n        return _ExceptionCatcher(self, exc_type)\\n\\nclass _ExceptionCatcher(object):\\n\\n    def __init__(self, test_case, exc_type):\\n        self.test_case = test_case\\n        self.exc_type = exc_type\\n\\n    def __enter__(self):\\n        return self\\n\\n    def __exit__(self, exc_type, exc_value, tb):\\n        exception_name = self.exc_type.__name__\\n        if exc_type is None:\\n            self.test_case.fail('Expected exception of type %r' %\\n                                exception_name)\\n        elif not issubclass(exc_type, self.exc_type):\\n            reraise(exc_type, exc_value, tb)\\n        return True\\n\\nclass DictTestCase(MyTestCase):\\n\\n    def test_empty_dict_access(self):\\n        d = {}\\n        with self.assert_raises(KeyError):\\n            d[42]\\n</td>\n",
       "    </tr>\n",
       "    <tr>\n",
       "      <th>34</th>\n",
       "      <td>Method 101</td>\n",
       "      <td>class FancyDict(dict):\\n    @classmethod\\n    def fromkeys(cls, keys, value=None):\\n        data = [(key, value) for key in keys]\\n        return cls(data)\\n\\n&gt;&gt;&gt; FancyDict(key1='value1', key2='value2', key3='value3')\\n{'key3': 'value3', 'key2': 'value2', 'key1': 'value1'}\\n&gt;&gt;&gt; FancyDict.fromkeys(['key1', 'key2'], 'value')\\n{'key2': 'value', 'key1': 'value'}\\n\\nclass Tiny(object):\\n    __slots__ = ['value']\\n    def __init__(self, value):\\n        self.value = value\\nt = Tiny(1)\\n\\n&gt;&gt;&gt; t.value\\n1\\n&gt;&gt;&gt; t.value2 = 2\\nTraceback (most recent call last):\\n  File \"&lt;stdin&gt;\", line 1, in &lt;module&gt;\\nAttributeError: 'Tiny' object has no attribute 'value2'\\n\\nclass WrappingInt(int):\\n    __slots__ = []\\n    def __new__(cls, value):\\n        value = value % 255\\n        self = int.__new__(cls, value)\\n        return self\\n\\nwrapping_int = WrappingInt(256)\\n\\n&gt;&gt;&gt; wrapping_int\\n1\\n</td>\n",
       "    </tr>\n",
       "    <tr>\n",
       "      <th>35</th>\n",
       "      <td>Metaclasses 101</td>\n",
       "      <td>class ManglingType(type):\\n    def __new__(cls, name, bases, attrs):\\n        for attr, value in attrs.items():\\n            if attr.startswith(\"__\"):\\n                continue\\n            attrs[\"foo_\" + attr] = value\\n            del attrs[attr]\\n        return type.__new__(cls, name, bases, attrs)\\n\\nclass MangledClass:\\n    __metaclass__ = ManglingType\\n\\n    def __init__(self, value):\\n        self.value = value\\n\\n    def test(self):\\n        return self.value\\n\\nmangled = MangledClass('test')\\n\\n&gt;&gt;&gt; mangled.test()\\nTraceback (most recent call last):\\n  File \"&lt;stdin&gt;\", line 1, in &lt;module&gt;\\nAttributeError: 'MangledClass' object has no attribute 'test'\\n&gt;&gt;&gt; mangled.foo_test()\\n'test'\\n</td>\n",
       "    </tr>\n",
       "    <tr>\n",
       "      <th>36</th>\n",
       "      <td>Get All Module Files</td>\n",
       "      <td>def _iter_module_files():\\n    for module in sys.modules.values():\\n        filename = getattr(module, '__file__', None)\\n        if filename:\\n            if filename[-4:] in ('.pyc', '.pyo'):\\n                filename = filename[:-1]\\n            yield filename\\n</td>\n",
       "    </tr>\n",
       "    <tr>\n",
       "      <th>37</th>\n",
       "      <td>Dynamic Module Import</td>\n",
       "      <td>def import_string(import_name):\\n    \"\"\"Import a module based on a string.\\n\\n    :param import_name: the dotted name for the object to import.\\n    :return: imported object\\n    \"\"\"\\n    if '.' in import_name:\\n        module, obj = import_name.rsplit('.', 1)\\n    else:\\n        return __import__(import_name)\\n    return getattr(__import__(module, None, None, [obj]), obj)\\n</td>\n",
       "    </tr>\n",
       "    <tr>\n",
       "      <th>38</th>\n",
       "      <td>Read From Stdin</td>\n",
       "      <td>import sys\\n\\nfor line in sys.stdin:\\n    print line\\n</td>\n",
       "    </tr>\n",
       "    <tr>\n",
       "      <th>39</th>\n",
       "      <td>Print To Stderr</td>\n",
       "      <td>print &gt;&gt; sys.stderr, 'spam'\\n</td>\n",
       "    </tr>\n",
       "    <tr>\n",
       "      <th>40</th>\n",
       "      <td>Url Quote</td>\n",
       "      <td>from urllib import quote_plus\\n\\nquoted = quote_plus(url)\\n</td>\n",
       "    </tr>\n",
       "    <tr>\n",
       "      <th>41</th>\n",
       "      <td>Url Encode</td>\n",
       "      <td>from urllib import urlencode\\n\\nencoded = urlencode({'key': 'value'})\\nencoded = urlencode([('key1', 'value1'), ('key2', 'value2')])\\n</td>\n",
       "    </tr>\n",
       "    <tr>\n",
       "      <th>42</th>\n",
       "      <td>Simple Http Web Server</td>\n",
       "      <td>$ python -m SimpleHTTPServer [port]\\n</td>\n",
       "    </tr>\n",
       "    <tr>\n",
       "      <th>43</th>\n",
       "      <td>Http Get</td>\n",
       "      <td>import urllib2\\nurllib2.urlopen(\"http://example.com/\").read()\\n</td>\n",
       "    </tr>\n",
       "    <tr>\n",
       "      <th>44</th>\n",
       "      <td>Http Head</td>\n",
       "      <td>&gt;&gt;&gt; import httplib\\n&gt;&gt;&gt; conn = httplib.HTTPConnection(\"www.google.com\")\\n&gt;&gt;&gt; conn.request(\"HEAD\", \"/index.html\")\\n&gt;&gt;&gt; res = conn.getresponse()\\n&gt;&gt;&gt; print res.status, res.reason\\n200 OK\\n</td>\n",
       "    </tr>\n",
       "    <tr>\n",
       "      <th>45</th>\n",
       "      <td>Http Post</td>\n",
       "      <td>&gt;&gt;&gt; import httplib, urllib\\n&gt;&gt;&gt; params = urllib.urlencode({'key': 'value'})\\n&gt;&gt;&gt; headers = {\"Content-type\": \"application/x-www-form-urlencoded\",\\n...            \"Accept\": \"text/plain\"}\\n&gt;&gt;&gt; conn = httplib.HTTPConnection(\"www.example.com\")\\n&gt;&gt;&gt; conn.request(\"POST\", \"\", params, headers)\\n&gt;&gt;&gt; response = conn.getresponse()\\n&gt;&gt;&gt; print response.status, response.reason\\n200 OK\\n&gt;&gt;&gt; conn.close()\\n</td>\n",
       "    </tr>\n",
       "    <tr>\n",
       "      <th>46</th>\n",
       "      <td>Http Put</td>\n",
       "      <td>import urllib2\\nopener = urllib2.build_opener(urllib2.HTTPHandler)\\nrequest = urllib2.Request('http://example.org', data='your_put_data')\\nrequest.add_header('Content-Type', 'your/contenttype')\\nrequest.get_method = lambda: 'PUT'\\nurl = opener.open(request)\\n</td>\n",
       "    </tr>\n",
       "    <tr>\n",
       "      <th>47</th>\n",
       "      <td>Check If File Exists</td>\n",
       "      <td>import os.path\\nos.path.isfile(filename)\\n</td>\n",
       "    </tr>\n",
       "    <tr>\n",
       "      <th>48</th>\n",
       "      <td>Unicode (Utf8) Reading And Writing To Files</td>\n",
       "      <td>&gt;&gt;&gt; import codecs\\n&gt;&gt;&gt; f = codecs.open(\"test\", \"r\", \"utf-8\")\\n&gt;&gt;&gt; f.read()\\n</td>\n",
       "    </tr>\n",
       "    <tr>\n",
       "      <th>49</th>\n",
       "      <td>Extracting Extension From Filename</td>\n",
       "      <td>import os\\nfilename, ext = os.path.splitext('/path/to/somefile.ext')\\n</td>\n",
       "    </tr>\n",
       "    <tr>\n",
       "      <th>50</th>\n",
       "      <td>Get File Creation &amp; Modification Date/Times</td>\n",
       "      <td>import os.path, time\\nprint \"last modified: %s\" % time.ctime(os.path.getmtime(file))\\nprint \"created: %s\" % time.ctime(os.path.getctime(file))\\n</td>\n",
       "    </tr>\n",
       "    <tr>\n",
       "      <th>51</th>\n",
       "      <td>Find Current Directory And File’S Directory</td>\n",
       "      <td>os.getcwd()\\nos.path.dirname(os.path.realpath(__file__))\\n</td>\n",
       "    </tr>\n",
       "    <tr>\n",
       "      <th>52</th>\n",
       "      <td>Remove/Delete A Folder That Is Not Empty</td>\n",
       "      <td>import shutil\\n\\nshutil.rmtree('/folder_name')\\n</td>\n",
       "    </tr>\n",
       "    <tr>\n",
       "      <th>53</th>\n",
       "      <td>Recursively Walk A Directory</td>\n",
       "      <td>import os\\nroot = 'your root path here'\\n\\n# dirs are the directory list under dirpath\\n# files are the file list under dirpath\\nfor dirpath, dirs, files in os.walk(root):\\n    for filename in files:\\n        fullpath = os.path.join(dirpath, filename)\\n        print fullpath\\n</td>\n",
       "    </tr>\n",
       "    <tr>\n",
       "      <th>54</th>\n",
       "      <td>Get File Size</td>\n",
       "      <td>&gt;&gt;&gt; import os\\n&gt;&gt;&gt; statinfo = os.stat('index.rst')\\n&gt;&gt;&gt; statinfo.st_size\\n487\\n</td>\n",
       "    </tr>\n",
       "    <tr>\n",
       "      <th>55</th>\n",
       "      <td>Reading Binary File</td>\n",
       "      <td>with open(\"myfile\", \"rb\") as f:\\n    byte = f.read(1)\\n    while byte:\\n        # Do stuff with byte.\\n        byte = f.read(1)\\n</td>\n",
       "    </tr>\n",
       "    <tr>\n",
       "      <th>56</th>\n",
       "      <td>Sending Email With Python</td>\n",
       "      <td># Import smtplib for the actual sending function\\nimport smtplib\\n\\n# Import the email modules we'll need\\nfrom email.mime.text import MIMEText\\n\\n# Create a text/plain message\\nmsg = MIMEText(body)\\n\\n# me == the sender's email address\\n# you == the recipient's email address\\nmsg['Subject'] = 'The contents of %s' % textfile\\nmsg['From'] = me\\nmsg['To'] = you\\n\\n# Send the message via our own SMTP server, but don't include the\\n# envelope header.\\ns = smtplib.SMTP('localhost')\\ns.sendmail(me, [you], msg.as_string())\\ns.quit()\\n\\n# Import smtplib for the actual sending function\\nimport smtplib\\n\\n# Here are the email package modules we'll need\\nfrom email.mime.image import MIMEImage\\nfrom email.mime.multipart import MIMEMultipart\\n\\nCOMMASPACE = ', '\\n\\n# Create the container (outer) email message.\\nmsg = MIMEMultipart()\\nmsg['Subject'] = 'Our family reunion'\\n# me == the sender's email address\\n# family = the list of all recipients' email addresses\\nmsg['From'] = me\\nmsg['To'] = COMMASPACE.join(family)\\nmsg.preamble = 'Our family reunion'\\n\\n# Assume we know that the image files are all in PNG format\\nfor file in pngfiles:\\n    # Open the files in binary mode.  Let the MIMEImage class automatically\\n    # guess the specific image type.\\n    fp = open(file, 'rb')\\n    img = MIMEImage(fp.read())\\n    fp.close()\\n    msg.attach(img)\\n\\n# Send the email via our own SMTP server.\\ns = smtplib.SMTP('localhost')\\ns.sendmail(me, family, msg.as_string())\\ns.quit()\\n</td>\n",
       "    </tr>\n",
       "    <tr>\n",
       "      <th>57</th>\n",
       "      <td>Sending Mail Via Sendmail From Python</td>\n",
       "      <td>from email.mime.text import MIMEText\\nfrom subprocess import Popen, PIPE\\n\\nmsg = MIMEText(\"Here is the body of my message\")\\nmsg[\"From\"] = \"me@example.com\"\\nmsg[\"To\"] = \"you@example.com\"\\nmsg[\"Subject\"] = \"This is the subject.\"\\np = Popen([\"/usr/sbin/sendmail\", \"-t\"], stdin=PIPE)\\np.communicate(msg.as_string())\\n</td>\n",
       "    </tr>\n",
       "    <tr>\n",
       "      <th>58</th>\n",
       "      <td>Converting String Into Datetime</td>\n",
       "      <td>from datetime import datetime\\n\\ndate_object = datetime.strptime('Jun 1 2005  1:33PM', '%b %d %Y %I:%M%p')\\n</td>\n",
       "    </tr>\n",
       "    <tr>\n",
       "      <th>59</th>\n",
       "      <td>Calling An External Command</td>\n",
       "      <td>from subprocess import call\\ncall([\"ls\", \"-l\"])\\n</td>\n",
       "    </tr>\n",
       "    <tr>\n",
       "      <th>60</th>\n",
       "      <td>Subprocess Input, Output And Returncode</td>\n",
       "      <td>from subprocess import Popen, PIPE\\n\\np = Popen([\"ls\", \"-l\"], stdin=PIPE, stdout=PIPE, stderr=PIPE)\\nstd_input = \"/\"\\nout, err = p.communicate(std_input)\\nreturncode = p.returncode\\n</td>\n",
       "    </tr>\n",
       "    <tr>\n",
       "      <th>61</th>\n",
       "      <td>Use String To Call Subprocess Instead Of List</td>\n",
       "      <td>from subprocess import call\\nimport shlex\\n\\ncommand = \"ls -l\"\\ncall(shlex.split(command))\\n</td>\n",
       "    </tr>\n",
       "  </tbody>\n",
       "</table>\n",
       "<p>62 rows × 2 columns</p>\n",
       "</div>"
      ],
      "text/plain": [
       "                                                      Title  \\\n",
       "0   Not None Test                                             \n",
       "1   Dump Variable                                             \n",
       "2   Ternary Conditional Operator                              \n",
       "3   Accessing The Index In For Loops                          \n",
       "4   How Do I Check If A Variable Exists                       \n",
       "5   Check If A String Is A Number                             \n",
       "6   Reverse A String                                          \n",
       "7   Write Long String                                         \n",
       "8   Number With Leading Zeros                                 \n",
       "9   Check If A List Is Empty                                  \n",
       "10  Empty A List                                              \n",
       "11  Shuffle A List                                            \n",
       "12  Append Vs Extend                                          \n",
       "13  Split A List Into Evenly Sized Chunks                     \n",
       "14  Finding The Index Of An Item                              \n",
       "15  Sort A List Of Dictionaries By Values Of The Dictionary   \n",
       "16  Randomly Select An Item From A List                       \n",
       "17  List Comprehension                                        \n",
       "18  Merge (Union) Two Python Dictionaries                     \n",
       "19  Create A Dictionary With List Comprehension               \n",
       "20  Print A Object                                            \n",
       "21  Decorators 101                                            \n",
       "22  Good Decorator                                            \n",
       "23  Method Decorator                                          \n",
       "24  Iterator - The Python Yield Keyword Explained             \n",
       "25  How Do I Determine If An Object Is Iterable               \n",
       "26  Descriptors 101                                           \n",
       "27  Data And Non-Data Descriptors                             \n",
       "28  Better Way To Write Property                              \n",
       "29  Cached Property                                           \n",
       "..              ...                                           \n",
       "32  Ignore Exceptions                                         \n",
       "33  Assert Raises                                             \n",
       "34  Method 101                                                \n",
       "35  Metaclasses 101                                           \n",
       "36  Get All Module Files                                      \n",
       "37  Dynamic Module Import                                     \n",
       "38  Read From Stdin                                           \n",
       "39  Print To Stderr                                           \n",
       "40  Url Quote                                                 \n",
       "41  Url Encode                                                \n",
       "42  Simple Http Web Server                                    \n",
       "43  Http Get                                                  \n",
       "44  Http Head                                                 \n",
       "45  Http Post                                                 \n",
       "46  Http Put                                                  \n",
       "47  Check If File Exists                                      \n",
       "48  Unicode (Utf8) Reading And Writing To Files               \n",
       "49  Extracting Extension From Filename                        \n",
       "50  Get File Creation & Modification Date/Times               \n",
       "51  Find Current Directory And File’S Directory               \n",
       "52  Remove/Delete A Folder That Is Not Empty                  \n",
       "53  Recursively Walk A Directory                              \n",
       "54  Get File Size                                             \n",
       "55  Reading Binary File                                       \n",
       "56  Sending Email With Python                                 \n",
       "57  Sending Mail Via Sendmail From Python                     \n",
       "58  Converting String Into Datetime                           \n",
       "59  Calling An External Command                               \n",
       "60  Subprocess Input, Output And Returncode                   \n",
       "61  Use String To Call Subprocess Instead Of List             \n",
       "\n",
       "                                                                                                                                                                                                                                                                                                                                                                                                                                                                                                                                                                                                                                                                                                                                                                                                                                                                                                                                                                                                                                                                                                                                                                                                                                                                                                                                                                                                                                                                                                                                        Code  \n",
       "0   if value is not None:\\n    pass\\n                                                                                                                                                                                                                                                                                                                                                                                                                                                                                                                                                                                                                                                                                                                                                                                                                                                                                                                                                                                                                                                                                                                                                                                                                                                                                                                                                                                                                                                                                                         \n",
       "1   import pprint\\n\\npprint.pprint(globals())\\n                                                                                                                                                                                                                                                                                                                                                                                                                                                                                                                                                                                                                                                                                                                                                                                                                                                                                                                                                                                                                                                                                                                                                                                                                                                                                                                                                                                                                                                                                               \n",
       "2   >>> 'true' if True else 'false'\\n'true'\\n>>> 'true' if False else 'false'\\n'false'\\n                                                                                                                                                                                                                                                                                                                                                                                                                                                                                                                                                                                                                                                                                                                                                                                                                                                                                                                                                                                                                                                                                                                                                                                                                                                                                                                                                                                                                                                      \n",
       "3   for idx, val in enumerate(ints):\\n    print idx, val\\n                                                                                                                                                                                                                                                                                                                                                                                                                                                                                                                                                                                                                                                                                                                                                                                                                                                                                                                                                                                                                                                                                                                                                                                                                                                                                                                                                                                                                                                                                    \n",
       "4   if 'myVar' in locals():\\n    # myVar exists.\\n\\nif 'myVar' in globals():\\n    # myVar exists.\\n\\nif hasattr(obj, 'attr_name'):\\n    # obj.attr_name exists.\\n                                                                                                                                                                                                                                                                                                                                                                                                                                                                                                                                                                                                                                                                                                                                                                                                                                                                                                                                                                                                                                                                                                                                                                                                                                                                                                                                                                             \n",
       "5   >>> a = \"123\"\\n>>> a.isdigit()\\nTrue\\n>>> b = \"123abc\"\\n>>> b.isdigit()\\nFalse\\n                                                                                                                                                                                                                                                                                                                                                                                                                                                                                                                                                                                                                                                                                                                                                                                                                                                                                                                                                                                                                                                                                                                                                                                                                                                                                                                                                                                                                                                          \n",
       "6   >>> 'hello world'[::-1]\\n'dlrow olleh'\\n                                                                                                                                                                                                                                                                                                                                                                                                                                                                                                                                                                                                                                                                                                                                                                                                                                                                                                                                                                                                                                                                                                                                                                                                                                                                                                                                                                                                                                                                                                  \n",
       "7   string = (\"this is a \"\\n          \"really long long \"\\n          \"string\")\\n                                                                                                                                                                                                                                                                                                                                                                                                                                                                                                                                                                                                                                                                                                                                                                                                                                                                                                                                                                                                                                                                                                                                                                                                                                                                                                                                                                                                                                                              \n",
       "8   >>> \"%02d\" % 1\\n'01'\\n>>> \"%02d\" % 100\\n'100'\\n>>> str(1).zfill(2)\\n'01'\\n>>> str(100).zfill(2)\\n'100'\\n>>> int('01')\\n1\\n                                                                                                                                                                                                                                                                                                                                                                                                                                                                                                                                                                                                                                                                                                                                                                                                                                                                                                                                                                                                                                                                                                                                                                                                                                                                                                                                                                                                                \n",
       "9   if not a:\\n    print \"List is empty\"\\n                                                                                                                                                                                                                                                                                                                                                                                                                                                                                                                                                                                                                                                                                                                                                                                                                                                                                                                                                                                                                                                                                                                                                                                                                                                                                                                                                                                                                                                                                                    \n",
       "10  del l[:]\\n                                                                                                                                                                                                                                                                                                                                                                                                                                                                                                                                                                                                                                                                                                                                                                                                                                                                                                                                                                                                                                                                                                                                                                                                                                                                                                                                                                                                                                                                                                                                \n",
       "11  from random import shuffle\\n# works in place\\nl = range(10)\\nshuffle(l)\\n                                                                                                                                                                                                                                                                                                                                                                                                                                                                                                                                                                                                                                                                                                                                                                                                                                                                                                                                                                                                                                                                                                                                                                                                                                                                                                                                                                                                                                                                 \n",
       "12  x = [1, 2, 3]\\nx.append([4, 5])\\n# [1, 2, 3, [4, 5]]\\n\\nx = [1, 2, 3]\\nx.extend([4, 5])\\n# [1, 2, 3, 4, 5]\\n                                                                                                                                                                                                                                                                                                                                                                                                                                                                                                                                                                                                                                                                                                                                                                                                                                                                                                                                                                                                                                                                                                                                                                                                                                                                                                                                                                                                                              \n",
       "13  def chunks(l, n):\\n    \"\"\" Yield successive n-sized chunks from l.\\n    \"\"\"\\n    for i in xrange(0, len(l), n):\\n        yield l[i:i+n]\\n                                                                                                                                                                                                                                                                                                                                                                                                                                                                                                                                                                                                                                                                                                                                                                                                                                                                                                                                                                                                                                                                                                                                                                                                                                                                                                                                                                                                 \n",
       "14  >>> [\"foo\",\"bar\",\"baz\"].index('bar')\\n1\\n                                                                                                                                                                                                                                                                                                                                                                                                                                                                                                                                                                                                                                                                                                                                                                                                                                                                                                                                                                                                                                                                                                                                                                                                                                                                                                                                                                                                                                                                                                 \n",
       "15  newlist = sorted(list_to_be_sorted, key=lambda k: k['name'])\\n                                                                                                                                                                                                                                                                                                                                                                                                                                                                                                                                                                                                                                                                                                                                                                                                                                                                                                                                                                                                                                                                                                                                                                                                                                                                                                                                                                                                                                                                            \n",
       "16  import random\\n\\nfoo = ['a', 'b', 'c', 'd', 'e']\\nrandom.choice(foo)\\n                                                                                                                                                                                                                                                                                                                                                                                                                                                                                                                                                                                                                                                                                                                                                                                                                                                                                                                                                                                                                                                                                                                                                                                                                                                                                                                                                                                                                                                                    \n",
       "17  new_list = [i * 2 for i in [1, 2, 3]]\\n                                                                                                                                                                                                                                                                                                                                                                                                                                                                                                                                                                                                                                                                                                                                                                                                                                                                                                                                                                                                                                                                                                                                                                                                                                                                                                                                                                                                                                                                                                   \n",
       "18  >>> x = {'a':1, 'b': 2}\\n>>> y = {'b':10, 'c': 11}\\n>>> z = x.copy()\\n>>> z.update(y)\\n{'a': 1, 'c': 11, 'b': 10}\\n                                                                                                                                                                                                                                                                                                                                                                                                                                                                                                                                                                                                                                                                                                                                                                                                                                                                                                                                                                                                                                                                                                                                                                                                                                                                                                                                                                                                                       \n",
       "19  d = dict((key, value) for (key, value) in sequence)\\n\\nd = {key: value for (key, value) in sequence}\\n                                                                                                                                                                                                                                                                                                                                                                                                                                                                                                                                                                                                                                                                                                                                                                                                                                                                                                                                                                                                                                                                                                                                                                                                                                                                                                                                                                                                                                    \n",
       "20  Class User(object):\\n\\n    def __init__(self, name):\\n        self.name = name\\n\\n    def __repr__(self):\\n        return '<User %r>' % self.name\\n\\n    def __str__(self):\\n        return self.name\\n                                                                                                                                                                                                                                                                                                                                                                                                                                                                                                                                                                                                                                                                                                                                                                                                                                                                                                                                                                                                                                                                                                                                                                                                                                                                                                                                   \n",
       "21  @EXPR\\ndef add(a, b):\\n    return a + b\\n\\n# The same thing as\\n\\ndef add(a, b):\\n    return a + b\\nadd = EXPR(add)\\n\\n@EXPR(ARG)\\ndef add(a, b):\\n    return a + b\\n\\n# The same thing as\\n\\ndef add(a, b):\\n    return a + b\\nadd = EXPR(ARG)(add)\\n                                                                                                                                                                                                                                                                                                                                                                                                                                                                                                                                                                                                                                                                                                                                                                                                                                                                                                                                                                                                                                                                                                                                                                                                                                                                                    \n",
       "22  from functools import wraps\\n\\ndef spam(repeats):\\n    def decorator(func):\\n        @wraps(func)\\n        def wrapper(*args, **kwargs):\\n            for i in range(repeats):\\n                func(*args, **kwargs)\\n        return wrapper\\n    return decorator\\n\\n@spam(11)\\ndef talk(word):\\n    \"\"\"talk docstring\"\"\"\\n    print word\\n                                                                                                                                                                                                                                                                                                                                                                                                                                                                                                                                                                                                                                                                                                                                                                                                                                                                                                                                                                                                                                                                                                                                                                                             \n",
       "23  from functools import update_wrapper\\n\\nclass MethodDecoratorDescriptor(object):\\n\\n    def __init__(self, func, decorator):\\n        self.func = func\\n        self.decorator = decorator\\n\\n    def __get__(self, obj, type=None):\\n        return self.decorator(self.func.__get__(obj, type))\\n\\ndef method_decorator(decorator):\\n    def decorate(f):\\n        return MethodDecoratorDescriptor(f, decorator)\\n    return decorate\\n\\n# usage\\ndef spam(f):\\n    def wrapper(value):\\n        return f(value) + \":spamed\"\\n    return update_wrapper(wrapper, f)\\n\\nclass MyClass(object):\\n\\n    @method_decorator(spam)\\n    def my(self, value):\\n        return value\\n\\nfoo = MyClass()\\nprint foo.my('hello')\\n                                                                                                                                                                                                                                                                                                                                                                                                                                                                                                                                                                                                                                                                                                                                                                                                               \n",
       "24  >>> mylist = [x*x for x in range(3)]\\n>>> for i in mylist:\\n...    print(i)\\n0\\n1\\n4\\n\\n>>> mygenerator = (x*x for x in range(3))\\n>>> for i in mygenerator:\\n...    print(i)\\n0\\n1\\n4\\n\\n>>> def createGenerator():\\n...    mylist = range(3)\\n...    for i in mylist:\\n...        yield i*i\\n...\\n>>> mygenerator = createGenerator() # create a generator\\n>>> print(mygenerator) # mygenerator is an object!\\n<generator object createGenerator at 0xb7555c34>\\n>>> for i in mygenerator:\\n...     print(i)\\n0\\n1\\n4\\n                                                                                                                                                                                                                                                                                                                                                                                                                                                                                                                                                                                                                                                                                                                                                                                                                                                                                                                                                                                                                \n",
       "25  try:\\n    iterator = iter(theElement)\\nexcept TypeError:\\n    # not iterable\\nelse:\\n    # iterable\\n\\nimport collections\\n\\nif isinstance(theElement, collections.Iterable):\\n    # iterable\\nelse:\\n    # not iterable\\n                                                                                                                                                                                                                                                                                                                                                                                                                                                                                                                                                                                                                                                                                                                                                                                                                                                                                                                                                                                                                                                                                                                                                                                                                                                                                                                \n",
       "26  >>> class Demo(object):\\n...     def hello(self):\\n...         pass\\n...\\n>>> Demo.hello\\n<unbound method Demo.hello>\\n>>> Demo.__dict__['hello']\\n<function hello at 0x102b17668>\\n>>> Demo.__dict__['hello'].__get__(None, Demo)\\n<unbound method Demo.hello>\\n>>>\\n>>> Demo().hello\\n<bound method Demo.hello of <__main__.Demo object at 0x102b28550>>\\n>>> Demo.__dict__['hello'].__get__(Demo(), Demo)\\n<bound method Demo.hello of <__main__.Demo object at 0x102b285d0>>\\n                                                                                                                                                                                                                                                                                                                                                                                                                                                                                                                                                                                                                                                                                                                                                                                                                                                                                                                                                                                                                                                        \n",
       "27  class Demo(object):\\n\\n    def __init__(self):\\n        self.val = 'demo'\\n\\n    def __get__(self, obj, objtype):\\n        return self.val\\n\\n\\nclass Foo(object):\\n\\n    o = Demo()\\n\\n>>> f = Foo()\\n>>> f.o\\n'demo'\\n>>> f.__dict__['o'] = 'demo2'\\n>>> f.o\\n'demo2'\\n\\nclass Demo(object):\\n\\n    def __init__(self):\\n        self.val = 'demo'\\n\\n    def __get__(self, obj, objtype):\\n        return self.val\\n\\n    def __set__(self, obj, val):\\n        self.val = val\\n\\n>>> f = Foo()\\n>>> f.o\\n'demo'\\n>>> f.__dict__['o'] = 'demo2'\\n>>> f.o\\n'demo'\\n>>> f.o = 'demo3'\\n>>> f.o\\n'demo3'\\n                                                                                                                                                                                                                                                                                                                                                                                                                                                                                                                                                                                                                                                                                                                                                                                                                                                                                                                                \n",
       "28  class Foo(object):\\n\\n    def _get_thing(self):\\n        \"\"\"Docstring\"\"\"\\n        return self._thing\\n\\n    def _set_thing(self, value):\\n        self._thing = value\\n\\n    thing = property(_get_thing, _set_thing)\\n    del _get_thing, _set_thing\\n                                                                                                                                                                                                                                                                                                                                                                                                                                                                                                                                                                                                                                                                                                                                                                                                                                                                                                                                                                                                                                                                                                                                                                                                                                                                                   \n",
       "29  class cached_property(object):\\n    \"\"\"\\n    Decorator that creates converts a method with a single\\n    self argument into a property cached on the instance.\\n    \"\"\"\\n    def __init__(self, func):\\n        self.func = func\\n\\n    def __get__(self, instance, type):\\n        res = instance.__dict__[self.func.__name__] = self.func(instance)\\n        return res\\n                                                                                                                                                                                                                                                                                                                                                                                                                                                                                                                                                                                                                                                                                                                                                                                                                                                                                                                                                                                                                                                                                                                                                               \n",
       "..                                                                                                                                                                                                                                                                                                                                                                          ...                                                                                                                                                                                                                                                                                                                                                                                                                                                                                                                                                                                                                                                                                                                                                                                                                                                                                                                                                                                                                                                                                                                                                               \n",
       "32  from contextlib import contextmanager\\n\\n@contextmanager\\ndef ignored(*exceptions):\\n    try:\\n        yield\\n    except exceptions:\\n        pass\\n\\nwith ignored(ValueError):\\n    int('string')\\n                                                                                                                                                                                                                                                                                                                                                                                                                                                                                                                                                                                                                                                                                                                                                                                                                                                                                                                                                                                                                                                                                                                                                                                                                                                                                                                                      \n",
       "33  from unittest import TestCase\\n\\nclass MyTestCase(TestCase):\\n    def assert_raises(self, exc_type):\\n        return _ExceptionCatcher(self, exc_type)\\n\\nclass _ExceptionCatcher(object):\\n\\n    def __init__(self, test_case, exc_type):\\n        self.test_case = test_case\\n        self.exc_type = exc_type\\n\\n    def __enter__(self):\\n        return self\\n\\n    def __exit__(self, exc_type, exc_value, tb):\\n        exception_name = self.exc_type.__name__\\n        if exc_type is None:\\n            self.test_case.fail('Expected exception of type %r' %\\n                                exception_name)\\n        elif not issubclass(exc_type, self.exc_type):\\n            reraise(exc_type, exc_value, tb)\\n        return True\\n\\nclass DictTestCase(MyTestCase):\\n\\n    def test_empty_dict_access(self):\\n        d = {}\\n        with self.assert_raises(KeyError):\\n            d[42]\\n                                                                                                                                                                                                                                                                                                                                                                                                                                                                                                                                                                                                                           \n",
       "34  class FancyDict(dict):\\n    @classmethod\\n    def fromkeys(cls, keys, value=None):\\n        data = [(key, value) for key in keys]\\n        return cls(data)\\n\\n>>> FancyDict(key1='value1', key2='value2', key3='value3')\\n{'key3': 'value3', 'key2': 'value2', 'key1': 'value1'}\\n>>> FancyDict.fromkeys(['key1', 'key2'], 'value')\\n{'key2': 'value', 'key1': 'value'}\\n\\nclass Tiny(object):\\n    __slots__ = ['value']\\n    def __init__(self, value):\\n        self.value = value\\nt = Tiny(1)\\n\\n>>> t.value\\n1\\n>>> t.value2 = 2\\nTraceback (most recent call last):\\n  File \"<stdin>\", line 1, in <module>\\nAttributeError: 'Tiny' object has no attribute 'value2'\\n\\nclass WrappingInt(int):\\n    __slots__ = []\\n    def __new__(cls, value):\\n        value = value % 255\\n        self = int.__new__(cls, value)\\n        return self\\n\\nwrapping_int = WrappingInt(256)\\n\\n>>> wrapping_int\\n1\\n                                                                                                                                                                                                                                                                                                                                                                                                                                                                                                                                                                                                                            \n",
       "35  class ManglingType(type):\\n    def __new__(cls, name, bases, attrs):\\n        for attr, value in attrs.items():\\n            if attr.startswith(\"__\"):\\n                continue\\n            attrs[\"foo_\" + attr] = value\\n            del attrs[attr]\\n        return type.__new__(cls, name, bases, attrs)\\n\\nclass MangledClass:\\n    __metaclass__ = ManglingType\\n\\n    def __init__(self, value):\\n        self.value = value\\n\\n    def test(self):\\n        return self.value\\n\\nmangled = MangledClass('test')\\n\\n>>> mangled.test()\\nTraceback (most recent call last):\\n  File \"<stdin>\", line 1, in <module>\\nAttributeError: 'MangledClass' object has no attribute 'test'\\n>>> mangled.foo_test()\\n'test'\\n                                                                                                                                                                                                                                                                                                                                                                                                                                                                                                                                                                                                                                                                                                                                                                                                                \n",
       "36  def _iter_module_files():\\n    for module in sys.modules.values():\\n        filename = getattr(module, '__file__', None)\\n        if filename:\\n            if filename[-4:] in ('.pyc', '.pyo'):\\n                filename = filename[:-1]\\n            yield filename\\n                                                                                                                                                                                                                                                                                                                                                                                                                                                                                                                                                                                                                                                                                                                                                                                                                                                                                                                                                                                                                                                                                                                                                                                                                                                                 \n",
       "37  def import_string(import_name):\\n    \"\"\"Import a module based on a string.\\n\\n    :param import_name: the dotted name for the object to import.\\n    :return: imported object\\n    \"\"\"\\n    if '.' in import_name:\\n        module, obj = import_name.rsplit('.', 1)\\n    else:\\n        return __import__(import_name)\\n    return getattr(__import__(module, None, None, [obj]), obj)\\n                                                                                                                                                                                                                                                                                                                                                                                                                                                                                                                                                                                                                                                                                                                                                                                                                                                                                                                                                                                                                                                                                                                                                 \n",
       "38  import sys\\n\\nfor line in sys.stdin:\\n    print line\\n                                                                                                                                                                                                                                                                                                                                                                                                                                                                                                                                                                                                                                                                                                                                                                                                                                                                                                                                                                                                                                                                                                                                                                                                                                                                                                                                                                                                                                                                                    \n",
       "39  print >> sys.stderr, 'spam'\\n                                                                                                                                                                                                                                                                                                                                                                                                                                                                                                                                                                                                                                                                                                                                                                                                                                                                                                                                                                                                                                                                                                                                                                                                                                                                                                                                                                                                                                                                                                             \n",
       "40  from urllib import quote_plus\\n\\nquoted = quote_plus(url)\\n                                                                                                                                                                                                                                                                                                                                                                                                                                                                                                                                                                                                                                                                                                                                                                                                                                                                                                                                                                                                                                                                                                                                                                                                                                                                                                                                                                                                                                                                               \n",
       "41  from urllib import urlencode\\n\\nencoded = urlencode({'key': 'value'})\\nencoded = urlencode([('key1', 'value1'), ('key2', 'value2')])\\n                                                                                                                                                                                                                                                                                                                                                                                                                                                                                                                                                                                                                                                                                                                                                                                                                                                                                                                                                                                                                                                                                                                                                                                                                                                                                                                                                                                                    \n",
       "42  $ python -m SimpleHTTPServer [port]\\n                                                                                                                                                                                                                                                                                                                                                                                                                                                                                                                                                                                                                                                                                                                                                                                                                                                                                                                                                                                                                                                                                                                                                                                                                                                                                                                                                                                                                                                                                                     \n",
       "43  import urllib2\\nurllib2.urlopen(\"http://example.com/\").read()\\n                                                                                                                                                                                                                                                                                                                                                                                                                                                                                                                                                                                                                                                                                                                                                                                                                                                                                                                                                                                                                                                                                                                                                                                                                                                                                                                                                                                                                                                                           \n",
       "44  >>> import httplib\\n>>> conn = httplib.HTTPConnection(\"www.google.com\")\\n>>> conn.request(\"HEAD\", \"/index.html\")\\n>>> res = conn.getresponse()\\n>>> print res.status, res.reason\\n200 OK\\n                                                                                                                                                                                                                                                                                                                                                                                                                                                                                                                                                                                                                                                                                                                                                                                                                                                                                                                                                                                                                                                                                                                                                                                                                                                                                                                                                \n",
       "45  >>> import httplib, urllib\\n>>> params = urllib.urlencode({'key': 'value'})\\n>>> headers = {\"Content-type\": \"application/x-www-form-urlencoded\",\\n...            \"Accept\": \"text/plain\"}\\n>>> conn = httplib.HTTPConnection(\"www.example.com\")\\n>>> conn.request(\"POST\", \"\", params, headers)\\n>>> response = conn.getresponse()\\n>>> print response.status, response.reason\\n200 OK\\n>>> conn.close()\\n                                                                                                                                                                                                                                                                                                                                                                                                                                                                                                                                                                                                                                                                                                                                                                                                                                                                                                                                                                                                                                                                                                                                  \n",
       "46  import urllib2\\nopener = urllib2.build_opener(urllib2.HTTPHandler)\\nrequest = urllib2.Request('http://example.org', data='your_put_data')\\nrequest.add_header('Content-Type', 'your/contenttype')\\nrequest.get_method = lambda: 'PUT'\\nurl = opener.open(request)\\n                                                                                                                                                                                                                                                                                                                                                                                                                                                                                                                                                                                                                                                                                                                                                                                                                                                                                                                                                                                                                                                                                                                                                                                                                                                                       \n",
       "47  import os.path\\nos.path.isfile(filename)\\n                                                                                                                                                                                                                                                                                                                                                                                                                                                                                                                                                                                                                                                                                                                                                                                                                                                                                                                                                                                                                                                                                                                                                                                                                                                                                                                                                                                                                                                                                                \n",
       "48  >>> import codecs\\n>>> f = codecs.open(\"test\", \"r\", \"utf-8\")\\n>>> f.read()\\n                                                                                                                                                                                                                                                                                                                                                                                                                                                                                                                                                                                                                                                                                                                                                                                                                                                                                                                                                                                                                                                                                                                                                                                                                                                                                                                                                                                                                                                              \n",
       "49  import os\\nfilename, ext = os.path.splitext('/path/to/somefile.ext')\\n                                                                                                                                                                                                                                                                                                                                                                                                                                                                                                                                                                                                                                                                                                                                                                                                                                                                                                                                                                                                                                                                                                                                                                                                                                                                                                                                                                                                                                                                    \n",
       "50  import os.path, time\\nprint \"last modified: %s\" % time.ctime(os.path.getmtime(file))\\nprint \"created: %s\" % time.ctime(os.path.getctime(file))\\n                                                                                                                                                                                                                                                                                                                                                                                                                                                                                                                                                                                                                                                                                                                                                                                                                                                                                                                                                                                                                                                                                                                                                                                                                                                                                                                                                                                          \n",
       "51  os.getcwd()\\nos.path.dirname(os.path.realpath(__file__))\\n                                                                                                                                                                                                                                                                                                                                                                                                                                                                                                                                                                                                                                                                                                                                                                                                                                                                                                                                                                                                                                                                                                                                                                                                                                                                                                                                                                                                                                                                                \n",
       "52  import shutil\\n\\nshutil.rmtree('/folder_name')\\n                                                                                                                                                                                                                                                                                                                                                                                                                                                                                                                                                                                                                                                                                                                                                                                                                                                                                                                                                                                                                                                                                                                                                                                                                                                                                                                                                                                                                                                                                          \n",
       "53  import os\\nroot = 'your root path here'\\n\\n# dirs are the directory list under dirpath\\n# files are the file list under dirpath\\nfor dirpath, dirs, files in os.walk(root):\\n    for filename in files:\\n        fullpath = os.path.join(dirpath, filename)\\n        print fullpath\\n                                                                                                                                                                                                                                                                                                                                                                                                                                                                                                                                                                                                                                                                                                                                                                                                                                                                                                                                                                                                                                                                                                                                                                                                                                                     \n",
       "54  >>> import os\\n>>> statinfo = os.stat('index.rst')\\n>>> statinfo.st_size\\n487\\n                                                                                                                                                                                                                                                                                                                                                                                                                                                                                                                                                                                                                                                                                                                                                                                                                                                                                                                                                                                                                                                                                                                                                                                                                                                                                                                                                                                                                                                           \n",
       "55  with open(\"myfile\", \"rb\") as f:\\n    byte = f.read(1)\\n    while byte:\\n        # Do stuff with byte.\\n        byte = f.read(1)\\n                                                                                                                                                                                                                                                                                                                                                                                                                                                                                                                                                                                                                                                                                                                                                                                                                                                                                                                                                                                                                                                                                                                                                                                                                                                                                                                                                                                                         \n",
       "56  # Import smtplib for the actual sending function\\nimport smtplib\\n\\n# Import the email modules we'll need\\nfrom email.mime.text import MIMEText\\n\\n# Create a text/plain message\\nmsg = MIMEText(body)\\n\\n# me == the sender's email address\\n# you == the recipient's email address\\nmsg['Subject'] = 'The contents of %s' % textfile\\nmsg['From'] = me\\nmsg['To'] = you\\n\\n# Send the message via our own SMTP server, but don't include the\\n# envelope header.\\ns = smtplib.SMTP('localhost')\\ns.sendmail(me, [you], msg.as_string())\\ns.quit()\\n\\n# Import smtplib for the actual sending function\\nimport smtplib\\n\\n# Here are the email package modules we'll need\\nfrom email.mime.image import MIMEImage\\nfrom email.mime.multipart import MIMEMultipart\\n\\nCOMMASPACE = ', '\\n\\n# Create the container (outer) email message.\\nmsg = MIMEMultipart()\\nmsg['Subject'] = 'Our family reunion'\\n# me == the sender's email address\\n# family = the list of all recipients' email addresses\\nmsg['From'] = me\\nmsg['To'] = COMMASPACE.join(family)\\nmsg.preamble = 'Our family reunion'\\n\\n# Assume we know that the image files are all in PNG format\\nfor file in pngfiles:\\n    # Open the files in binary mode.  Let the MIMEImage class automatically\\n    # guess the specific image type.\\n    fp = open(file, 'rb')\\n    img = MIMEImage(fp.read())\\n    fp.close()\\n    msg.attach(img)\\n\\n# Send the email via our own SMTP server.\\ns = smtplib.SMTP('localhost')\\ns.sendmail(me, family, msg.as_string())\\ns.quit()\\n  \n",
       "57  from email.mime.text import MIMEText\\nfrom subprocess import Popen, PIPE\\n\\nmsg = MIMEText(\"Here is the body of my message\")\\nmsg[\"From\"] = \"me@example.com\"\\nmsg[\"To\"] = \"you@example.com\"\\nmsg[\"Subject\"] = \"This is the subject.\"\\np = Popen([\"/usr/sbin/sendmail\", \"-t\"], stdin=PIPE)\\np.communicate(msg.as_string())\\n                                                                                                                                                                                                                                                                                                                                                                                                                                                                                                                                                                                                                                                                                                                                                                                                                                                                                                                                                                                                                                                                                                                                                                                                               \n",
       "58  from datetime import datetime\\n\\ndate_object = datetime.strptime('Jun 1 2005  1:33PM', '%b %d %Y %I:%M%p')\\n                                                                                                                                                                                                                                                                                                                                                                                                                                                                                                                                                                                                                                                                                                                                                                                                                                                                                                                                                                                                                                                                                                                                                                                                                                                                                                                                                                                                                              \n",
       "59  from subprocess import call\\ncall([\"ls\", \"-l\"])\\n                                                                                                                                                                                                                                                                                                                                                                                                                                                                                                                                                                                                                                                                                                                                                                                                                                                                                                                                                                                                                                                                                                                                                                                                                                                                                                                                                                                                                                                                                         \n",
       "60  from subprocess import Popen, PIPE\\n\\np = Popen([\"ls\", \"-l\"], stdin=PIPE, stdout=PIPE, stderr=PIPE)\\nstd_input = \"/\"\\nout, err = p.communicate(std_input)\\nreturncode = p.returncode\\n                                                                                                                                                                                                                                                                                                                                                                                                                                                                                                                                                                                                                                                                                                                                                                                                                                                                                                                                                                                                                                                                                                                                                                                                                                                                                                                                                    \n",
       "61  from subprocess import call\\nimport shlex\\n\\ncommand = \"ls -l\"\\ncall(shlex.split(command))\\n                                                                                                                                                                                                                                                                                                                                                                                                                                                                                                                                                                                                                                                                                                                                                                                                                                                                                                                                                                                                                                                                                                                                                                                                                                                                                                                                                                                                                                              \n",
       "\n",
       "[62 rows x 2 columns]"
      ]
     },
     "execution_count": 24,
     "metadata": {},
     "output_type": "execute_result"
    }
   ],
   "source": [
    "PythonSnippets"
   ]
  },
  {
   "cell_type": "code",
   "execution_count": 25,
   "metadata": {
    "ExecuteTime": {
     "end_time": "2019-05-11T14:20:57.454635Z",
     "start_time": "2019-05-11T14:20:57.297164Z"
    }
   },
   "outputs": [],
   "source": [
    "PythonSnippets.to_csv('E:/Scrapped-Data/PythonSnippets.csv', index=False)"
   ]
  },
  {
   "cell_type": "code",
   "execution_count": null,
   "metadata": {},
   "outputs": [],
   "source": []
  }
 ],
 "metadata": {
  "kernelspec": {
   "display_name": "Python 3",
   "language": "python",
   "name": "python3"
  },
  "language_info": {
   "codemirror_mode": {
    "name": "ipython",
    "version": 3
   },
   "file_extension": ".py",
   "mimetype": "text/x-python",
   "name": "python",
   "nbconvert_exporter": "python",
   "pygments_lexer": "ipython3",
   "version": "3.7.3"
  },
  "toc": {
   "base_numbering": 1,
   "nav_menu": {},
   "number_sections": true,
   "sideBar": true,
   "skip_h1_title": false,
   "title_cell": "Table of Contents",
   "title_sidebar": "Contents",
   "toc_cell": false,
   "toc_position": {},
   "toc_section_display": true,
   "toc_window_display": false
  },
  "varInspector": {
   "cols": {
    "lenName": 16,
    "lenType": 16,
    "lenVar": 40
   },
   "kernels_config": {
    "python": {
     "delete_cmd_postfix": "",
     "delete_cmd_prefix": "del ",
     "library": "var_list.py",
     "varRefreshCmd": "print(var_dic_list())"
    },
    "r": {
     "delete_cmd_postfix": ") ",
     "delete_cmd_prefix": "rm(",
     "library": "var_list.r",
     "varRefreshCmd": "cat(var_dic_list()) "
    }
   },
   "types_to_exclude": [
    "module",
    "function",
    "builtin_function_or_method",
    "instance",
    "_Feature"
   ],
   "window_display": false
  }
 },
 "nbformat": 4,
 "nbformat_minor": 2
}
