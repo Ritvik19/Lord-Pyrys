{
 "cells": [
  {
   "cell_type": "markdown",
   "metadata": {},
   "source": [
    "# Library"
   ]
  },
  {
   "cell_type": "code",
   "execution_count": 1,
   "metadata": {
    "ExecuteTime": {
     "end_time": "2019-05-11T11:38:38.995815Z",
     "start_time": "2019-05-11T11:38:38.111353Z"
    }
   },
   "outputs": [],
   "source": [
    "import requests, bs4\n",
    "import numpy as np\n",
    "import pandas as pd\n",
    "from IPython.display import clear_output\n",
    "\n",
    "pd.options.display.max_columns = 5\n",
    "pd.options.display.max_colwidth = -1"
   ]
  },
  {
   "cell_type": "markdown",
   "metadata": {},
   "source": [
    "# URLs to Scrape"
   ]
  },
  {
   "cell_type": "code",
   "execution_count": 2,
   "metadata": {
    "ExecuteTime": {
     "end_time": "2019-05-11T11:38:39.004731Z",
     "start_time": "2019-05-11T11:38:38.998716Z"
    }
   },
   "outputs": [],
   "source": [
    "url_sources = [\n",
    "    'https://css-tricks.com/snippets/html/',\n",
    "    'https://css-tricks.com/snippets/css/',\n",
    "    'https://css-tricks.com/snippets/sass/',\n",
    "    'https://css-tricks.com/snippets/svg/',\n",
    "    'https://css-tricks.com/snippets/htaccess/',\n",
    "    'https://css-tricks.com/snippets/javascript/',\n",
    "    'https://css-tricks.com/snippets/jquery/',\n",
    "    'https://css-tricks.com/snippets/wordpress/',\n",
    "    'https://css-tricks.com/snippets/php/'\n",
    "]"
   ]
  },
  {
   "cell_type": "code",
   "execution_count": 3,
   "metadata": {
    "ExecuteTime": {
     "end_time": "2019-05-11T11:38:54.407317Z",
     "start_time": "2019-05-11T11:38:39.008689Z"
    }
   },
   "outputs": [],
   "source": [
    "urls = []\n",
    "for url in url_sources:\n",
    "    res = requests.get(url)\n",
    "    if res.status_code == requests.codes.ok:\n",
    "        ressoup = bs4.BeautifulSoup(res.text, 'lxml')\n",
    "        elems = ressoup.select('.snippet-title')\n",
    "        for e in elems:\n",
    "            urls.append(e.get('href').strip())\n",
    "    else:\n",
    "        print('Something went wrong')"
   ]
  },
  {
   "cell_type": "code",
   "execution_count": 4,
   "metadata": {
    "ExecuteTime": {
     "end_time": "2019-05-11T11:38:54.426214Z",
     "start_time": "2019-05-11T11:38:54.410252Z"
    }
   },
   "outputs": [
    {
     "name": "stdout",
     "output_type": "stream",
     "text": [
      "5706 634\n"
     ]
    }
   ],
   "source": [
    "print(len(urls), len(set(urls)))"
   ]
  },
  {
   "cell_type": "markdown",
   "metadata": {},
   "source": [
    "# Scraping"
   ]
  },
  {
   "cell_type": "code",
   "execution_count": 8,
   "metadata": {
    "ExecuteTime": {
     "end_time": "2019-05-11T11:43:21.056528Z",
     "start_time": "2019-05-11T11:43:21.040575Z"
    }
   },
   "outputs": [
    {
     "data": {
      "text/plain": [
       "'https://css-tricks.com/snippets/wordpress/custom-loop-based-on-custom-fields/'"
      ]
     },
     "execution_count": 8,
     "metadata": {},
     "output_type": "execute_result"
    }
   ],
   "source": [
    "urls[0]"
   ]
  },
  {
   "cell_type": "code",
   "execution_count": 5,
   "metadata": {
    "ExecuteTime": {
     "end_time": "2019-05-11T11:40:51.036532Z",
     "start_time": "2019-05-11T11:40:51.025562Z"
    }
   },
   "outputs": [],
   "source": [
    "CSSTricks = pd.DataFrame(columns=['Title', 'Language', 'Code', 'Explaination'])"
   ]
  },
  {
   "cell_type": "code",
   "execution_count": 11,
   "metadata": {
    "ExecuteTime": {
     "end_time": "2019-05-11T11:46:03.533916Z",
     "start_time": "2019-05-11T11:46:02.988772Z"
    }
   },
   "outputs": [
    {
     "name": "stdout",
     "output_type": "stream",
     "text": [
      "https://css-tricks.com/snippets/css/change-autocomplete-styles-webkit-browsers/\n",
      "0\n",
      "/* Change Autocomplete styles in Chrome*/\n",
      "input:-webkit-autofill,\n",
      "input:-webkit-autofill:hover, \n",
      "input:-webkit-autofill:focus,\n",
      "textarea:-webkit-autofill,\n",
      "textarea:-webkit-autofill:hover,\n",
      "textarea:-webkit-autofill:focus,\n",
      "select:-webkit-autofill,\n",
      "select:-webkit-autofill:hover,\n",
      "select:-webkit-autofill:focus {\n",
      "  border: 1px solid green;\n",
      "  -webkit-text-fill-color: green;\n",
      "  -webkit-box-shadow: 0 0 0px 1000px #000 inset;\n",
      "  transition: background-color 5000s ease-in-out 0s;\n",
      "}\n",
      "--\n",
      "1\n",
      ":-webkit-autofill,\n",
      ":-webkit-autofill:hover, \n",
      ":-webkit-autofill:focus {}\n",
      "\n",
      "--\n",
      "2\n",
      "@-webkit-keyframes autofill {\n",
      "    to {\n",
      "        color: #666;\n",
      "        background: transparent;\n",
      "    }\n",
      "}\n",
      "\n",
      "input:-webkit-autofill {\n",
      "    -webkit-animation-name: autofill;\n",
      "    -webkit-animation-fill-mode: both;\n",
      "}\n",
      "\n",
      "--\n"
     ]
    }
   ],
   "source": [
    "url = urls[1]\n",
    "print(url)\n",
    "res = requests.get(url)\n",
    "if res.status_code == requests.codes.ok:\n",
    "    ressoup = bs4.BeautifulSoup(res.text, 'lxml')\n",
    "    elems = ressoup.select('pre')\n",
    "    title = ressoup.select('.breadcrumb_last')[0].getText()\n",
    "    for i, e in enumerate(elems):\n",
    "        print(i)\n",
    "        print(e.getText())\n",
    "        print('--')\n",
    "        \n",
    "else:\n",
    "    print('Something went wrong')"
   ]
  },
  {
   "cell_type": "code",
   "execution_count": null,
   "metadata": {},
   "outputs": [],
   "source": []
  }
 ],
 "metadata": {
  "kernelspec": {
   "display_name": "Python 3",
   "language": "python",
   "name": "python3"
  },
  "language_info": {
   "codemirror_mode": {
    "name": "ipython",
    "version": 3
   },
   "file_extension": ".py",
   "mimetype": "text/x-python",
   "name": "python",
   "nbconvert_exporter": "python",
   "pygments_lexer": "ipython3",
   "version": "3.7.3"
  },
  "toc": {
   "base_numbering": 1,
   "nav_menu": {},
   "number_sections": true,
   "sideBar": true,
   "skip_h1_title": false,
   "title_cell": "Table of Contents",
   "title_sidebar": "Contents",
   "toc_cell": false,
   "toc_position": {},
   "toc_section_display": true,
   "toc_window_display": false
  },
  "varInspector": {
   "cols": {
    "lenName": 16,
    "lenType": 16,
    "lenVar": 40
   },
   "kernels_config": {
    "python": {
     "delete_cmd_postfix": "",
     "delete_cmd_prefix": "del ",
     "library": "var_list.py",
     "varRefreshCmd": "print(var_dic_list())"
    },
    "r": {
     "delete_cmd_postfix": ") ",
     "delete_cmd_prefix": "rm(",
     "library": "var_list.r",
     "varRefreshCmd": "cat(var_dic_list()) "
    }
   },
   "types_to_exclude": [
    "module",
    "function",
    "builtin_function_or_method",
    "instance",
    "_Feature"
   ],
   "window_display": false
  }
 },
 "nbformat": 4,
 "nbformat_minor": 2
}
