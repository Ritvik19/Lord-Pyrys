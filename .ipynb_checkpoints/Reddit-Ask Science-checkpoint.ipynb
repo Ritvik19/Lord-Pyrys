{
 "cells": [
  {
   "cell_type": "markdown",
   "metadata": {},
   "source": [
    "# Libraries"
   ]
  },
  {
   "cell_type": "code",
   "execution_count": 1,
   "metadata": {
    "ExecuteTime": {
     "end_time": "2019-08-25T04:21:41.300678Z",
     "start_time": "2019-08-25T04:21:40.083023Z"
    }
   },
   "outputs": [],
   "source": [
    "import praw\n",
    "import pandas as pd\n",
    "from tqdm.auto import tqdm\n",
    "from datetime import datetime\n",
    "import os.path"
   ]
  },
  {
   "cell_type": "code",
   "execution_count": 2,
   "metadata": {
    "ExecuteTime": {
     "end_time": "2019-08-25T04:21:41.308657Z",
     "start_time": "2019-08-25T04:21:41.303669Z"
    }
   },
   "outputs": [],
   "source": [
    "pd.options.display.max_colwidth = -1"
   ]
  },
  {
   "cell_type": "markdown",
   "metadata": {},
   "source": [
    "# Scraping"
   ]
  },
  {
   "cell_type": "code",
   "execution_count": 3,
   "metadata": {
    "ExecuteTime": {
     "end_time": "2019-08-25T04:21:41.553875Z",
     "start_time": "2019-08-25T04:21:41.312754Z"
    }
   },
   "outputs": [],
   "source": [
    "with open('E:/API-Credentials/Reddit.txt') as f:\n",
    "    credentials = list(map(lambda x: x.strip(), f.readlines()))"
   ]
  },
  {
   "cell_type": "code",
   "execution_count": 4,
   "metadata": {
    "ExecuteTime": {
     "end_time": "2019-08-25T04:21:43.695808Z",
     "start_time": "2019-08-25T04:21:41.558852Z"
    }
   },
   "outputs": [
    {
     "name": "stdout",
     "output_type": "stream",
     "text": [
      "Ritvik19\n"
     ]
    }
   ],
   "source": [
    "reddit = praw.Reddit(client_id=credentials[0],\n",
    "                     client_secret=credentials[1],\n",
    "                     password=credentials[2],\n",
    "                     user_agent=credentials[3],\n",
    "                     username=credentials[4])\n",
    "print(reddit.user.me())"
   ]
  },
  {
   "cell_type": "code",
   "execution_count": 5,
   "metadata": {
    "ExecuteTime": {
     "end_time": "2019-08-25T05:50:40.311736Z",
     "start_time": "2019-08-25T04:21:43.708973Z"
    }
   },
   "outputs": [
    {
     "data": {
      "application/vnd.jupyter.widget-view+json": {
       "model_id": "9f6334d2eab240e0a463b003d6715f78",
       "version_major": 2,
       "version_minor": 0
      },
      "text/plain": [
       "HBox(children=(IntProgress(value=1, bar_style='info', max=1), HTML(value='')))"
      ]
     },
     "metadata": {},
     "output_type": "display_data"
    },
    {
     "name": "stdout",
     "output_type": "stream",
     "text": [
      "\n"
     ]
    }
   ],
   "source": [
    "subreddit = reddit.subreddit('askscience')\n",
    "redds = []\n",
    "ts = []\n",
    "comment1 = []\n",
    "comment2 = []\n",
    "comment3 = []\n",
    "comment4 = []\n",
    "comment5 = []\n",
    "\n",
    "top_subreddit = subreddit.hot(limit=1000)\n",
    "for sr in tqdm(top_subreddit):\n",
    "    try:\n",
    "        if not sr.stickied:\n",
    "            comments = sr.comments.list()\n",
    "            if len(comments) >= 5:\n",
    "                redds.append(sr.title)\n",
    "                ts.append(sr.created_utc)\n",
    "                try:\n",
    "                    comment1.append(comments[0].body)\n",
    "                except Exception as e:\n",
    "                    print(e)\n",
    "                    comment1.append('')\n",
    "                try:\n",
    "                    comment2.append(comments[1].body)\n",
    "                except Exception as e:\n",
    "                    print(e)\n",
    "                    comment2.append('')\n",
    "                try:\n",
    "                    comment3.append(comments[2].body)\n",
    "                except Exception as e:\n",
    "                    print(e)\n",
    "                    comment3.append('')\n",
    "                try:\n",
    "                    comment4.append(comments[3].body)\n",
    "                except Exception as e:\n",
    "                    print(e)\n",
    "                    comment4.append('')\n",
    "                try:\n",
    "                    comment5.append(comments[4].body)\n",
    "                except Exception as e:\n",
    "                    print(e)\n",
    "                    comment5.append('')\n",
    "    except Exception as e:\n",
    "        print(e)"
   ]
  },
  {
   "cell_type": "code",
   "execution_count": 6,
   "metadata": {
    "ExecuteTime": {
     "end_time": "2019-08-25T05:50:40.343781Z",
     "start_time": "2019-08-25T05:50:40.321675Z"
    }
   },
   "outputs": [],
   "source": [
    "ts = list(map(lambda x : datetime.fromtimestamp(x).strftime(\"%Y/%m/%d %H:%M:%S\"), ts))"
   ]
  },
  {
   "cell_type": "code",
   "execution_count": 7,
   "metadata": {
    "ExecuteTime": {
     "end_time": "2019-08-25T05:50:40.486821Z",
     "start_time": "2019-08-25T05:50:40.348658Z"
    }
   },
   "outputs": [],
   "source": [
    "FILEPATH = 'E:/Scrapped-Data/Reddit-Ask Science.csv'"
   ]
  },
  {
   "cell_type": "code",
   "execution_count": 8,
   "metadata": {
    "ExecuteTime": {
     "end_time": "2019-08-25T05:50:40.803637Z",
     "start_time": "2019-08-25T05:50:40.495915Z"
    }
   },
   "outputs": [
    {
     "name": "stdout",
     "output_type": "stream",
     "text": [
      "350\n",
      "0 New Reddits\n",
      "575\n"
     ]
    }
   ],
   "source": [
    "if os.path.exists(FILEPATH):\n",
    "    d_old = pd.read_csv(FILEPATH)\n",
    "    d_new = pd.DataFrame({'Reddit':redds, 'TimeStamp':ts, 'Comment1':comment1, 'Comment2':comment2, 'Comment3':comment3, \n",
    "                          'Comment4':comment4, 'Comment5':comment5})\n",
    "    print(len(d_new))\n",
    "    d_all = pd.concat([d_new, d_old], axis=0)\n",
    "else:\n",
    "    d_all = pd.DataFrame({'Reddit':redds, 'TimeStamp':ts, 'Comment1':comment1, 'Comment2':comment2, 'Comment3':comment3, \n",
    "                      'Comment4':comment4, 'Comment5':comment5})\n",
    "d_all.drop_duplicates(subset=['Reddit'],inplace=True)\n",
    "d_all.sort_values('TimeStamp', ascending=False, inplace=True)\n",
    "d_all.to_csv(FILEPATH, index=False)\n",
    "print(f'{len(d_all)-len(d_old)} New Reddits') if os.path.exists(FILEPATH) else ()\n",
    "print(len(d_all))"
   ]
  },
  {
   "cell_type": "code",
   "execution_count": 9,
   "metadata": {
    "ExecuteTime": {
     "end_time": "2019-08-25T05:50:40.851857Z",
     "start_time": "2019-08-25T05:50:40.807689Z"
    }
   },
   "outputs": [
    {
     "data": {
      "text/html": [
       "<div>\n",
       "<style scoped>\n",
       "    .dataframe tbody tr th:only-of-type {\n",
       "        vertical-align: middle;\n",
       "    }\n",
       "\n",
       "    .dataframe tbody tr th {\n",
       "        vertical-align: top;\n",
       "    }\n",
       "\n",
       "    .dataframe thead th {\n",
       "        text-align: right;\n",
       "    }\n",
       "</style>\n",
       "<table border=\"1\" class=\"dataframe\">\n",
       "  <thead>\n",
       "    <tr style=\"text-align: right;\">\n",
       "      <th></th>\n",
       "      <th>Reddit</th>\n",
       "      <th>TimeStamp</th>\n",
       "      <th>Comment1</th>\n",
       "      <th>Comment2</th>\n",
       "      <th>Comment3</th>\n",
       "      <th>Comment4</th>\n",
       "      <th>Comment5</th>\n",
       "    </tr>\n",
       "  </thead>\n",
       "  <tbody>\n",
       "    <tr>\n",
       "      <th>3</th>\n",
       "      <td>How can the recently made C₁₈ ring have alternating single and triple bonds? Wouldn't the π orbitals allow every bond to be a double bond as well due to electron delocalization?</td>\n",
       "      <td>2019/08/24 19:42:41</td>\n",
       "      <td>I believe it was a discussion point which of the two forms was the most likely/stable.\\n\\nIn both cases you will have a strain on the molecules. Structures with C=C=C are geometrically peculiar, with the double bonds being twisted and electrons unable to flow between the orbitals (look up allenes). A much more stable case is C=C-C=C, as the electrons involved can move about more freely. Note that the notation here can confound as it does not (as I wrote it at least) imply a free movement of electrons, look up conjugated systems. The aromatic ring is the highest form of this freedom.\\n\\nA triple bond is similar to the C=C=C bond in imposing a linearity to the molecule, so forcing the structure in a ring will have a strain and only be possible with a certain number of carbon atoms forming said ring.\\n\\nFrom an orbital point of view the alternating single and triple bonds sounds more likely because it would allow the delocalization that the allene-like ring would not.</td>\n",
       "      <td>Pi electron delocalization in molecules is not always stabilizing. There are several other energies involved (like the energy of the sigma backbone), and Jahn-Teller and Peierls distortions can distort a structure from its \"ideal\" geometry. Classic examples include cyclobutadiene (which is rectangular, not square) and polyacetylene (which is a polymer of discrete alternating double bonds).</td>\n",
       "      <td>Speaking of linearity and the forms that carbon chains will form: does this greatly increase the possibilities that we’d find the alternating single-double bond *ring* in nature (benzene)? On the face of it, it would seem very unlikely to occur naturally if one does not understand the twisting forces.</td>\n",
       "      <td>&gt;Note that the notation here can confound as it does not (as I wrote it at least) imply a free movement of electrons\\n\\nSo they *can* move freely. The notation just doesn't lend itself easily to that interpretation.</td>\n",
       "      <td>Oh, and why does it count as an allotrope when it hasn't been isolated from the surface it's grown on?</td>\n",
       "    </tr>\n",
       "    <tr>\n",
       "      <th>5</th>\n",
       "      <td>Why do substances mix better by first mixing the smaller amount then diluting it, rather than just mixing all of it at once?</td>\n",
       "      <td>2019/08/24 19:26:43</td>\n",
       "      <td>In your question you present a statement as a fact. However, I never heard of this as being common in organic chemistry, so I’m wondering about the context.\\n\\nOne has to be careful about mixing highly reactive species together in a concentrated form. Usually this is not desirable, but there may be cases where it is.\\n\\nSo I’d turn your questions around and state that in general you will want reactions taking place in a solvent that is suitable for your reaction and add the reactant slowly to the solution. \\nIn some uncommon cases you might prefer a more direct but less controlled and potentially dangerous path of mixing highly concentrated species.\\n\\nBut maybe you have other applications in mind other than chemical synthesis?</td>\n",
       "      <td>I think you need to specify substances and mixing here because that can be a lot of things. \\n\\nA main reason for this method is that it is much easier to introduce high shearing within a smaller volume which means that end product can be more homogenous. \\n\\nHowever there are also major downsides: saturation (in the case of dissolving a solid in a liquid), any chemical reaction while mixing (thermal runaway, etc.).</td>\n",
       "      <td>[removed]</td>\n",
       "      <td>I'll try to elaborate :)\\n\\nI was thinking of situations where you mix a small amount of powder/liquid with a larger amount of liquid. For example dissolving something in water/ethanol/diethyl ether in a lab. \\n\\nOr in the kitchen when baking a cake you start with dry ingredients, then mix in liquids. Or when whisking sugar and egg whites, you add the egg whites into the sugar. Or chocolate milk you add milk on top of chocolate powder.\\n\\nOr when mixing cocktails, you add sugar, herbs, alcohol, then big amount of soda.\\n\\nI guess there's two things here. Mixing powder with a big amount of liquid, and mixing liquid with a big amount of liquid.\\n\\nMy chemistry teacher (high school) told me to start with the small amount, then add a little bit of the solvent and make a slurry, and then you dilute it further to the desired volume. Maybe there's some confirmation bias, but I feel like the recipes support this method, and I feel like that this method is actually really good (avoid clumps in pancakes etc.)\\n\\nIntuitively it feels very wrong to take the small amount of substance and pouring it on top of a container full of solvent.\\n\\nI hope that helped specify what I mean.</td>\n",
       "      <td>I tried to elaborate in another comment, I'll copy/paste.\\n\\nThe things you mentioned were very much the kinda stuff I was looking for, thanks!\\n\\n&gt; I'll try to elaborate :)\\n\\nI was thinking of situations where you mix a small amount of powder/liquid with a larger amount of liquid. For example dissolving something in water/ethanol/diethyl ether in a lab.\\n\\nOr in the kitchen when baking a cake you start with dry ingredients, then mix in liquids. Or when whisking sugar and egg whites, you add the egg whites into the sugar. Or chocolate milk you add milk on top of chocolate powder.\\n\\nOr when mixing cocktails, you add sugar, herbs, alcohol, then big amount of soda.\\n\\nI guess there's two things here. Mixing powder with a big amount of liquid, and mixing liquid with a big amount of liquid.\\n\\nMy chemistry teacher (high school) told me to start with the small amount, then add a little bit of the solvent and make a slurry, and then you dilute it further to the desired volume. Maybe there's some confirmation bias, but I feel like the recipes support this method, and I feel like that this method is actually really good (avoid clumps in pancakes etc.)\\n\\nIntuitively it feels very wrong to take the small amount of substance and pouring it on top of a container full of solvent.\\n\\nI hope that helped specify what I mean.</td>\n",
       "    </tr>\n",
       "    <tr>\n",
       "      <th>6</th>\n",
       "      <td>Why do microwaves cause sparks in metals but not regular light?</td>\n",
       "      <td>2019/08/24 18:34:01</td>\n",
       "      <td>Another factor in microwaves is their size; microwaves in microwave ovens tend to be low order standing waves, meaning that an electron being influenced by these microwaves can travel a macroscopic distance, creating all sorts of weird potentials. Visible light has wavelength less than a micrometer</td>\n",
       "      <td>[removed]</td>\n",
       "      <td>[removed]</td>\n",
       "      <td>This is the answer. [We can actually generate \"sparks\" (as in, dielectric breakdown) using visible light for conductive things that are sharp on (or below) the length scales of visible light](https://pubs.acs.org/doi/10.1021/acs.nanolett.5b03239).</td>\n",
       "      <td>Wuuuuuutttt???? None of this is remotely correct. Like it's so bonkers incorrect that I'm not sure if you're a troll.</td>\n",
       "    </tr>\n",
       "    <tr>\n",
       "      <th>0</th>\n",
       "      <td>How does masturbating \"reduce the risk of prostate cancer\"? Is it just a statistical correlation or is there a causal link?</td>\n",
       "      <td>2019/08/24 17:30:44</td>\n",
       "      <td>https://www.ncbi.nlm.nih.gov/pmc/articles/PMC5040619/\\n\\n&gt;In addition to the prostate stagnation hypothesis [7], a number of mechanisms have been proposed to explain an inverse association between ejaculation frequency and PCa. More frequent ejaculation may influence the function of peripheral-zone epithelial cells, hindering the metabolic switch from citrate secretion to citrate oxidation known to occur early in prostate tumorigenesis [33]. Alternatively, more frequent ejaculation may reduce the development of prostatic intraluminal crystalloids, which have been associated with higher risk of PCa [34,35]. Higher ejaculatory frequency may be linked to lowering of psychological tension and central sympathetic nervous system suppression, which could dampen the stimulation of prostate epithelial cell division [36]. Given the lack of modifiable risk factors identified for PCa to date, the specific biological mechanisms underlying these associations are worthy of further investigation.\\n\\n(PCa = prostate cancer)\\n\\nThose are some of the main proposed explanations, if there is a causal link (which is unproven, but suggested by data so far).\\n\\nAnd yes, it is difficult to demonstrate a causal link.</td>\n",
       "      <td>[removed]</td>\n",
       "      <td>[removed]</td>\n",
       "      <td>[removed]</td>\n",
       "      <td>It was an actual study. It was questionnaire based, so there was no investigation in to what the cause was. They simple asked people how often they had a sexy session and whether they had ever had prostate cancer.</td>\n",
       "    </tr>\n",
       "    <tr>\n",
       "      <th>2</th>\n",
       "      <td>I added cold water to Everclear (95% Ethanol) and the bottle felt warm, why?</td>\n",
       "      <td>2019/08/24 13:52:54</td>\n",
       "      <td>[Here](http://www.ddbst.com/en/EED/HE/HE%20Ethanol%3BWater.php) you can find some values for the enthalpy of mixing water and ethanol at different ethanol concentrations. In all cases, the processes is exothermic. That is, the process produces heat and warms your solution.\\n\\nEdit: why is this the case? It turns out that small chain alcohols are much better hydrogen bond donors and even better acceptors. This is due to the inductive affects of the carbon groups on the electron density of the oxygen. As such, they form stronger hydrogen bonds with the water molecules. This has been shown experimentally [here](https://pubs.acs.org/doi/abs/10.1021/acs.jpca.5b06678) and [here](https://pubs.rsc.org/en/content/articlelanding/2011/cp/c1cp20182d/unauth#!divAbstract).</td>\n",
       "      <td>If you wanna see something else that's pretty cool then mix X volume of water with X volume of alcohol and then notice that you get less than 2X total volume of mixture.\\n\\nI.e, 200ml of water + 200 ml of alcohol does not equal 400ml of mixture</td>\n",
       "      <td>Hydrogen bonding.  The water is better at it than ethanol so when the O and H get together they don't really \"form\" a complex or crystal but it's a pattern similar to that.  It draws everything closer and likely increases density. This releases energy which you notice as warmth.\\n\\nHeat of mixing for two substances generally comes from this sort of complexing between things with different charges.\\n\\nSimplest to see clearly is NaOH. Very visible volume change and very hot to the touch when you mix a strong solution.</td>\n",
       "      <td>How much less?</td>\n",
       "      <td>It'll depend on the proportions, a [50/50 mix by initial volumes will give a total volume of about 96%.](https://www.carolina.com/teacher-resources/Interactive/chemistry-lost-volume-demonstration/tr10785.tr)</td>\n",
       "    </tr>\n",
       "  </tbody>\n",
       "</table>\n",
       "</div>"
      ],
      "text/plain": [
       "                                                                                                                                                                              Reddit  \\\n",
       "3  How can the recently made C₁₈ ring have alternating single and triple bonds? Wouldn't the π orbitals allow every bond to be a double bond as well due to electron delocalization?   \n",
       "5  Why do substances mix better by first mixing the smaller amount then diluting it, rather than just mixing all of it at once?                                                        \n",
       "6  Why do microwaves cause sparks in metals but not regular light?                                                                                                                     \n",
       "0  How does masturbating \"reduce the risk of prostate cancer\"? Is it just a statistical correlation or is there a causal link?                                                         \n",
       "2  I added cold water to Everclear (95% Ethanol) and the bottle felt warm, why?                                                                                                        \n",
       "\n",
       "             TimeStamp  \\\n",
       "3  2019/08/24 19:42:41   \n",
       "5  2019/08/24 19:26:43   \n",
       "6  2019/08/24 18:34:01   \n",
       "0  2019/08/24 17:30:44   \n",
       "2  2019/08/24 13:52:54   \n",
       "\n",
       "                                                                                                                                                                                                                                                                                                                                                                                                                                                                                                                                                                                                                                                                                                                                                                                                                                                                                                                                                                                                                                                                                                                                                                                                                                                     Comment1  \\\n",
       "3  I believe it was a discussion point which of the two forms was the most likely/stable.\\n\\nIn both cases you will have a strain on the molecules. Structures with C=C=C are geometrically peculiar, with the double bonds being twisted and electrons unable to flow between the orbitals (look up allenes). A much more stable case is C=C-C=C, as the electrons involved can move about more freely. Note that the notation here can confound as it does not (as I wrote it at least) imply a free movement of electrons, look up conjugated systems. The aromatic ring is the highest form of this freedom.\\n\\nA triple bond is similar to the C=C=C bond in imposing a linearity to the molecule, so forcing the structure in a ring will have a strain and only be possible with a certain number of carbon atoms forming said ring.\\n\\nFrom an orbital point of view the alternating single and triple bonds sounds more likely because it would allow the delocalization that the allene-like ring would not.                                                                                                                                                                                                                                          \n",
       "5  In your question you present a statement as a fact. However, I never heard of this as being common in organic chemistry, so I’m wondering about the context.\\n\\nOne has to be careful about mixing highly reactive species together in a concentrated form. Usually this is not desirable, but there may be cases where it is.\\n\\nSo I’d turn your questions around and state that in general you will want reactions taking place in a solvent that is suitable for your reaction and add the reactant slowly to the solution. \\nIn some uncommon cases you might prefer a more direct but less controlled and potentially dangerous path of mixing highly concentrated species.\\n\\nBut maybe you have other applications in mind other than chemical synthesis?                                                                                                                                                                                                                                                                                                                                                                                                                                                                                            \n",
       "6  Another factor in microwaves is their size; microwaves in microwave ovens tend to be low order standing waves, meaning that an electron being influenced by these microwaves can travel a macroscopic distance, creating all sorts of weird potentials. Visible light has wavelength less than a micrometer                                                                                                                                                                                                                                                                                                                                                                                                                                                                                                                                                                                                                                                                                                                                                                                                                                                                                                                                                  \n",
       "0  https://www.ncbi.nlm.nih.gov/pmc/articles/PMC5040619/\\n\\n>In addition to the prostate stagnation hypothesis [7], a number of mechanisms have been proposed to explain an inverse association between ejaculation frequency and PCa. More frequent ejaculation may influence the function of peripheral-zone epithelial cells, hindering the metabolic switch from citrate secretion to citrate oxidation known to occur early in prostate tumorigenesis [33]. Alternatively, more frequent ejaculation may reduce the development of prostatic intraluminal crystalloids, which have been associated with higher risk of PCa [34,35]. Higher ejaculatory frequency may be linked to lowering of psychological tension and central sympathetic nervous system suppression, which could dampen the stimulation of prostate epithelial cell division [36]. Given the lack of modifiable risk factors identified for PCa to date, the specific biological mechanisms underlying these associations are worthy of further investigation.\\n\\n(PCa = prostate cancer)\\n\\nThose are some of the main proposed explanations, if there is a causal link (which is unproven, but suggested by data so far).\\n\\nAnd yes, it is difficult to demonstrate a causal link.   \n",
       "2  [Here](http://www.ddbst.com/en/EED/HE/HE%20Ethanol%3BWater.php) you can find some values for the enthalpy of mixing water and ethanol at different ethanol concentrations. In all cases, the processes is exothermic. That is, the process produces heat and warms your solution.\\n\\nEdit: why is this the case? It turns out that small chain alcohols are much better hydrogen bond donors and even better acceptors. This is due to the inductive affects of the carbon groups on the electron density of the oxygen. As such, they form stronger hydrogen bonds with the water molecules. This has been shown experimentally [here](https://pubs.acs.org/doi/abs/10.1021/acs.jpca.5b06678) and [here](https://pubs.rsc.org/en/content/articlelanding/2011/cp/c1cp20182d/unauth#!divAbstract).                                                                                                                                                                                                                                                                                                                                                                                                                                                            \n",
       "\n",
       "                                                                                                                                                                                                                                                                                                                                                                                                                              Comment2  \\\n",
       "3  Pi electron delocalization in molecules is not always stabilizing. There are several other energies involved (like the energy of the sigma backbone), and Jahn-Teller and Peierls distortions can distort a structure from its \"ideal\" geometry. Classic examples include cyclobutadiene (which is rectangular, not square) and polyacetylene (which is a polymer of discrete alternating double bonds).                              \n",
       "5  I think you need to specify substances and mixing here because that can be a lot of things. \\n\\nA main reason for this method is that it is much easier to introduce high shearing within a smaller volume which means that end product can be more homogenous. \\n\\nHowever there are also major downsides: saturation (in the case of dissolving a solid in a liquid), any chemical reaction while mixing (thermal runaway, etc.).   \n",
       "6  [removed]                                                                                                                                                                                                                                                                                                                                                                                                                             \n",
       "0  [removed]                                                                                                                                                                                                                                                                                                                                                                                                                             \n",
       "2  If you wanna see something else that's pretty cool then mix X volume of water with X volume of alcohol and then notice that you get less than 2X total volume of mixture.\\n\\nI.e, 200ml of water + 200 ml of alcohol does not equal 400ml of mixture                                                                                                                                                                                  \n",
       "\n",
       "                                                                                                                                                                                                                                                                                                                                                                                                                                                                                                                                    Comment3  \\\n",
       "3  Speaking of linearity and the forms that carbon chains will form: does this greatly increase the possibilities that we’d find the alternating single-double bond *ring* in nature (benzene)? On the face of it, it would seem very unlikely to occur naturally if one does not understand the twisting forces.                                                                                                                                                                                                                              \n",
       "5  [removed]                                                                                                                                                                                                                                                                                                                                                                                                                                                                                                                                   \n",
       "6  [removed]                                                                                                                                                                                                                                                                                                                                                                                                                                                                                                                                   \n",
       "0  [removed]                                                                                                                                                                                                                                                                                                                                                                                                                                                                                                                                   \n",
       "2  Hydrogen bonding.  The water is better at it than ethanol so when the O and H get together they don't really \"form\" a complex or crystal but it's a pattern similar to that.  It draws everything closer and likely increases density. This releases energy which you notice as warmth.\\n\\nHeat of mixing for two substances generally comes from this sort of complexing between things with different charges.\\n\\nSimplest to see clearly is NaOH. Very visible volume change and very hot to the touch when you mix a strong solution.   \n",
       "\n",
       "                                                                                                                                                                                                                                                                                                                                                                                                                                                                                                                                                                                                                                                                                                                                                                                                                                                                                                                                                                                                                                                                                                                                                                                                                           Comment4  \\\n",
       "3  >Note that the notation here can confound as it does not (as I wrote it at least) imply a free movement of electrons\\n\\nSo they *can* move freely. The notation just doesn't lend itself easily to that interpretation.                                                                                                                                                                                                                                                                                                                                                                                                                                                                                                                                                                                                                                                                                                                                                                                                                                                                                                                                                                                                            \n",
       "5  I'll try to elaborate :)\\n\\nI was thinking of situations where you mix a small amount of powder/liquid with a larger amount of liquid. For example dissolving something in water/ethanol/diethyl ether in a lab. \\n\\nOr in the kitchen when baking a cake you start with dry ingredients, then mix in liquids. Or when whisking sugar and egg whites, you add the egg whites into the sugar. Or chocolate milk you add milk on top of chocolate powder.\\n\\nOr when mixing cocktails, you add sugar, herbs, alcohol, then big amount of soda.\\n\\nI guess there's two things here. Mixing powder with a big amount of liquid, and mixing liquid with a big amount of liquid.\\n\\nMy chemistry teacher (high school) told me to start with the small amount, then add a little bit of the solvent and make a slurry, and then you dilute it further to the desired volume. Maybe there's some confirmation bias, but I feel like the recipes support this method, and I feel like that this method is actually really good (avoid clumps in pancakes etc.)\\n\\nIntuitively it feels very wrong to take the small amount of substance and pouring it on top of a container full of solvent.\\n\\nI hope that helped specify what I mean.   \n",
       "6  This is the answer. [We can actually generate \"sparks\" (as in, dielectric breakdown) using visible light for conductive things that are sharp on (or below) the length scales of visible light](https://pubs.acs.org/doi/10.1021/acs.nanolett.5b03239).                                                                                                                                                                                                                                                                                                                                                                                                                                                                                                                                                                                                                                                                                                                                                                                                                                                                                                                                                                            \n",
       "0  [removed]                                                                                                                                                                                                                                                                                                                                                                                                                                                                                                                                                                                                                                                                                                                                                                                                                                                                                                                                                                                                                                                                                                                                                                                                                          \n",
       "2  How much less?                                                                                                                                                                                                                                                                                                                                                                                                                                                                                                                                                                                                                                                                                                                                                                                                                                                                                                                                                                                                                                                                                                                                                                                                                     \n",
       "\n",
       "                                                                                                                                                                                                                                                                                                                                                                                                                                                                                                                                                                                                                                                                                                                                                                                                                                                                                                                                                                                                                                                                                                                                                                                                                                                                                                                                                                               Comment5  \n",
       "3  Oh, and why does it count as an allotrope when it hasn't been isolated from the surface it's grown on?                                                                                                                                                                                                                                                                                                                                                                                                                                                                                                                                                                                                                                                                                                                                                                                                                                                                                                                                                                                                                                                                                                                                                                                                                                                                                \n",
       "5  I tried to elaborate in another comment, I'll copy/paste.\\n\\nThe things you mentioned were very much the kinda stuff I was looking for, thanks!\\n\\n> I'll try to elaborate :)\\n\\nI was thinking of situations where you mix a small amount of powder/liquid with a larger amount of liquid. For example dissolving something in water/ethanol/diethyl ether in a lab.\\n\\nOr in the kitchen when baking a cake you start with dry ingredients, then mix in liquids. Or when whisking sugar and egg whites, you add the egg whites into the sugar. Or chocolate milk you add milk on top of chocolate powder.\\n\\nOr when mixing cocktails, you add sugar, herbs, alcohol, then big amount of soda.\\n\\nI guess there's two things here. Mixing powder with a big amount of liquid, and mixing liquid with a big amount of liquid.\\n\\nMy chemistry teacher (high school) told me to start with the small amount, then add a little bit of the solvent and make a slurry, and then you dilute it further to the desired volume. Maybe there's some confirmation bias, but I feel like the recipes support this method, and I feel like that this method is actually really good (avoid clumps in pancakes etc.)\\n\\nIntuitively it feels very wrong to take the small amount of substance and pouring it on top of a container full of solvent.\\n\\nI hope that helped specify what I mean.  \n",
       "6  Wuuuuuutttt???? None of this is remotely correct. Like it's so bonkers incorrect that I'm not sure if you're a troll.                                                                                                                                                                                                                                                                                                                                                                                                                                                                                                                                                                                                                                                                                                                                                                                                                                                                                                                                                                                                                                                                                                                                                                                                                                                                 \n",
       "0  It was an actual study. It was questionnaire based, so there was no investigation in to what the cause was. They simple asked people how often they had a sexy session and whether they had ever had prostate cancer.                                                                                                                                                                                                                                                                                                                                                                                                                                                                                                                                                                                                                                                                                                                                                                                                                                                                                                                                                                                                                                                                                                                                                                 \n",
       "2  It'll depend on the proportions, a [50/50 mix by initial volumes will give a total volume of about 96%.](https://www.carolina.com/teacher-resources/Interactive/chemistry-lost-volume-demonstration/tr10785.tr)                                                                                                                                                                                                                                                                                                                                                                                                                                                                                                                                                                                                                                                                                                                                                                                                                                                                                                                                                                                                                                                                                                                                                                       "
      ]
     },
     "execution_count": 9,
     "metadata": {},
     "output_type": "execute_result"
    }
   ],
   "source": [
    "d_all.head()"
   ]
  }
 ],
 "metadata": {
  "kernelspec": {
   "display_name": "Python 3",
   "language": "python",
   "name": "python3"
  },
  "language_info": {
   "codemirror_mode": {
    "name": "ipython",
    "version": 3
   },
   "file_extension": ".py",
   "mimetype": "text/x-python",
   "name": "python",
   "nbconvert_exporter": "python",
   "pygments_lexer": "ipython3",
   "version": "3.7.3"
  },
  "toc": {
   "base_numbering": 1,
   "nav_menu": {},
   "number_sections": true,
   "sideBar": true,
   "skip_h1_title": false,
   "title_cell": "Table of Contents",
   "title_sidebar": "Contents",
   "toc_cell": false,
   "toc_position": {},
   "toc_section_display": true,
   "toc_window_display": false
  },
  "varInspector": {
   "cols": {
    "lenName": 16,
    "lenType": 16,
    "lenVar": 40
   },
   "kernels_config": {
    "python": {
     "delete_cmd_postfix": "",
     "delete_cmd_prefix": "del ",
     "library": "var_list.py",
     "varRefreshCmd": "print(var_dic_list())"
    },
    "r": {
     "delete_cmd_postfix": ") ",
     "delete_cmd_prefix": "rm(",
     "library": "var_list.r",
     "varRefreshCmd": "cat(var_dic_list()) "
    }
   },
   "types_to_exclude": [
    "module",
    "function",
    "builtin_function_or_method",
    "instance",
    "_Feature"
   ],
   "window_display": false
  }
 },
 "nbformat": 4,
 "nbformat_minor": 2
}
