{
 "cells": [
  {
   "cell_type": "markdown",
   "metadata": {},
   "source": [
    "# Libraries"
   ]
  },
  {
   "cell_type": "code",
   "execution_count": 1,
   "metadata": {
    "ExecuteTime": {
     "end_time": "2019-05-29T13:29:33.435043Z",
     "start_time": "2019-05-29T13:29:25.476101Z"
    }
   },
   "outputs": [],
   "source": [
    "import requests, bs4"
   ]
  },
  {
   "cell_type": "code",
   "execution_count": 2,
   "metadata": {
    "ExecuteTime": {
     "end_time": "2019-05-29T13:29:51.423971Z",
     "start_time": "2019-05-29T13:29:33.493804Z"
    }
   },
   "outputs": [],
   "source": [
    "import numpy as np\n",
    "import pandas as pd"
   ]
  },
  {
   "cell_type": "code",
   "execution_count": 3,
   "metadata": {
    "ExecuteTime": {
     "end_time": "2019-05-29T13:29:51.448844Z",
     "start_time": "2019-05-29T13:29:51.439873Z"
    }
   },
   "outputs": [],
   "source": [
    "from IPython.display import clear_output"
   ]
  },
  {
   "cell_type": "code",
   "execution_count": 4,
   "metadata": {
    "ExecuteTime": {
     "end_time": "2019-05-29T13:29:51.564544Z",
     "start_time": "2019-05-29T13:29:51.460814Z"
    }
   },
   "outputs": [],
   "source": [
    "pd.options.display.max_columns = 5\n",
    "pd.options.display.max_colwidth = -1"
   ]
  },
  {
   "cell_type": "markdown",
   "metadata": {},
   "source": [
    "# URLs to Scrape"
   ]
  },
  {
   "cell_type": "code",
   "execution_count": 5,
   "metadata": {
    "ExecuteTime": {
     "end_time": "2019-05-29T06:13:04.776140Z",
     "start_time": "2019-05-29T06:11:53.112521Z"
    }
   },
   "outputs": [
    {
     "name": "stdout",
     "output_type": "stream",
     "text": [
      "1742\n"
     ]
    }
   ],
   "source": [
    "urls_javascript = []\n",
    "for i in range(1,45):\n",
    "    clear_output(wait=True)\n",
    "    print(i)\n",
    "    url = 'https://snipplr.com/popular/language/javascript/page/'+str(i)\n",
    "    res = requests.get(url)\n",
    "    if res.status_code == requests.codes.ok:\n",
    "        ressoup = bs4.BeautifulSoup(res.text, 'lxml')\n",
    "        elems = ressoup.select('h3 a')\n",
    "        for i, e in enumerate(elems):\n",
    "            u = e.get('href')\n",
    "            if i%2 == 1:\n",
    "                urls_javascript.append('https://snipplr.com'+u)\n",
    "    else:\n",
    "        print('Something went wrong')\n",
    "clear_output(wait=True)\n",
    "print(len(urls_javascript))\n",
    "\n",
    "with open('urls_javascript', 'w') as f:\n",
    "    for item in urls_javascript:\n",
    "        f.write(\"%s\\n\" % item)"
   ]
  },
  {
   "cell_type": "code",
   "execution_count": 6,
   "metadata": {
    "ExecuteTime": {
     "end_time": "2019-05-29T06:13:35.001118Z",
     "start_time": "2019-05-29T06:13:04.859607Z"
    }
   },
   "outputs": [
    {
     "name": "stdout",
     "output_type": "stream",
     "text": [
      "901\n"
     ]
    }
   ],
   "source": [
    "urls_html = []\n",
    "for i in range(1,24):\n",
    "    clear_output(wait=True)\n",
    "    print(i)\n",
    "    url = 'https://snipplr.com/popular/language/html/page/'+str(i)\n",
    "    res = requests.get(url)\n",
    "    if res.status_code == requests.codes.ok:\n",
    "        ressoup = bs4.BeautifulSoup(res.text, 'lxml')\n",
    "        elems = ressoup.select('h3 a')\n",
    "        for i, e in enumerate(elems):\n",
    "            u = e.get('href')\n",
    "            if i%2 == 1:\n",
    "                urls_html.append('https://snipplr.com'+u)\n",
    "    else:\n",
    "        print('Something went wrong')\n",
    "clear_output(wait=True)\n",
    "print(len(urls_html))\n",
    "\n",
    "with open('urls_html', 'w') as f:\n",
    "    for item in urls_html:\n",
    "        f.write(\"%s\\n\" % item)"
   ]
  },
  {
   "cell_type": "code",
   "execution_count": 7,
   "metadata": {
    "ExecuteTime": {
     "end_time": "2019-05-29T06:14:26.837455Z",
     "start_time": "2019-05-29T06:13:35.050208Z"
    }
   },
   "outputs": [
    {
     "name": "stdout",
     "output_type": "stream",
     "text": [
      "1369\n"
     ]
    }
   ],
   "source": [
    "urls_css = []\n",
    "for i in range(1,36):\n",
    "    clear_output(wait=True)\n",
    "    print(i)\n",
    "    url = 'https://snipplr.com/popular/language/css/page/'+str(i)\n",
    "    res = requests.get(url)\n",
    "    if res.status_code == requests.codes.ok:\n",
    "        ressoup = bs4.BeautifulSoup(res.text, 'lxml')\n",
    "        elems = ressoup.select('h3 a')\n",
    "        for i, e in enumerate(elems):\n",
    "            u = e.get('href')\n",
    "            if i%2 == 1:\n",
    "                urls_css.append('https://snipplr.com'+u)\n",
    "    else:\n",
    "        print('Something went wrong')\n",
    "clear_output(wait=True)\n",
    "print(len(urls_css))\n",
    "\n",
    "with open('urls_css', 'w') as f:\n",
    "    for item in urls_css:\n",
    "        f.write(\"%s\\n\" % item)"
   ]
  },
  {
   "cell_type": "code",
   "execution_count": 8,
   "metadata": {
    "ExecuteTime": {
     "end_time": "2019-05-29T06:14:26.941615Z",
     "start_time": "2019-05-29T06:14:26.931949Z"
    }
   },
   "outputs": [
    {
     "name": "stdout",
     "output_type": "stream",
     "text": [
      "1742 901 1369\n"
     ]
    }
   ],
   "source": [
    "print(len(urls_javascript), len(urls_html), len(urls_css))"
   ]
  },
  {
   "cell_type": "markdown",
   "metadata": {},
   "source": [
    "# Scraping"
   ]
  },
  {
   "cell_type": "code",
   "execution_count": 5,
   "metadata": {
    "ExecuteTime": {
     "end_time": "2019-05-29T13:29:51.746230Z",
     "start_time": "2019-05-29T13:29:51.584154Z"
    }
   },
   "outputs": [],
   "source": [
    "FILEPATH = \"e:/Scrapped-Data/Snipplr.csv\""
   ]
  },
  {
   "cell_type": "code",
   "execution_count": 10,
   "metadata": {
    "ExecuteTime": {
     "end_time": "2019-05-29T06:14:45.412294Z",
     "start_time": "2019-05-29T06:14:45.401778Z"
    }
   },
   "outputs": [],
   "source": [
    "snipplr = pd.DataFrame(columns=['Language' ,'Title', 'Snippet'])"
   ]
  },
  {
   "cell_type": "code",
   "execution_count": 11,
   "metadata": {
    "ExecuteTime": {
     "end_time": "2019-05-29T06:15:26.767604Z",
     "start_time": "2019-05-29T06:15:26.759247Z"
    }
   },
   "outputs": [],
   "source": [
    "with open('urls_javascript') as f:\n",
    "    urls_javascript = f.readlines()\n",
    "\n",
    "for i, url in enumerate(urls_javascript):\n",
    "    clear_output(wait=True)\n",
    "    print(i+1,'/ 1742')\n",
    "    res = requests.get(url.strip())\n",
    "    if res.status_code == requests.codes.ok:\n",
    "        ressoup = bs4.BeautifulSoup(res.text, 'lxml')\n",
    "        h1 = ressoup.select('h1')[0].getText()\n",
    "        snippet = ''\n",
    "        elems = ressoup.select('pre div')\n",
    "        for e in elems:\n",
    "            snippet += e.getText() + '\\n'\n",
    "        print(h1)\n",
    "        print(snippet)\n",
    "        new_snippet = pd.DataFrame({\n",
    "            'Title': [h1],\n",
    "            'Snippet': [snippet] ,\n",
    "            'Language': ['JavaScript']\n",
    "        })\n",
    "        snipplr = pd.concat([snipplr, new_snippet], axis=0)\n",
    "        snipplr.to_csv(FILEPATH, index=False)\n",
    "    else:\n",
    "        print('Something went wrong')"
   ]
  },
  {
   "cell_type": "code",
   "execution_count": 13,
   "metadata": {
    "ExecuteTime": {
     "end_time": "2019-05-29T07:31:29.066895Z",
     "start_time": "2019-05-29T07:31:29.052935Z"
    }
   },
   "outputs": [
    {
     "data": {
      "text/plain": [
       "1741"
      ]
     },
     "execution_count": 13,
     "metadata": {},
     "output_type": "execute_result"
    }
   ],
   "source": [
    "len(snipplr)"
   ]
  },
  {
   "cell_type": "code",
   "execution_count": 14,
   "metadata": {
    "ExecuteTime": {
     "end_time": "2019-05-29T08:29:02.004636Z",
     "start_time": "2019-05-29T07:31:35.138188Z"
    }
   },
   "outputs": [
    {
     "name": "stdout",
     "output_type": "stream",
     "text": [
      "1369 / 901\n",
      "Red Electrica - CSS\n",
      "/* andreas01 - an open source xhtml/css website layout by Andreas Viklund  - http://andreasviklund.com . Free to use for any purpose as long as the proper credits are given to the original author.\n",
      " \n",
      "\t\tVersion: 1.3 (Nov 28, 2005)\n",
      " \n",
      "\t\tScreen layout: */\n",
      " \n",
      "\tbody{\n",
      "\t\tmargin:0 auto;\n",
      "\t\tpadding:0;\n",
      "\t\tfont:76% Verdana,Tahoma,Arial,sans-serif;\n",
      "\t\tbackground:#f4f4f4 url(bg.gif) top center repeat-y;\n",
      "\t\tcolor:#303030;\n",
      "\t}\n",
      " \n",
      "\t#wrap{\n",
      "\t\tbackground:#ffffff;\n",
      "\t\tcolor:#303030;\n",
      "\t\tmargin:0 auto;\n",
      "\t\twidth:760px;\n",
      "\t}\n",
      " \n",
      "\t#header{\n",
      "\t\tclear:both;\n",
      "\t\tmargin:20px 0 0 0;\n",
      "\t\tpadding:0;\n",
      "\t\theight:45px;\n",
      "\t}\n",
      " \n",
      "\t#header h1{\n",
      "\t\twidth:250px;\n",
      "\t\tmargin:0 0 10px 0;\n",
      "\t\tfloat:left;\n",
      "\t}\n",
      " \n",
      "\t#header p{\n",
      "\t\twidth:500px;\n",
      "\t\tfloat:right;\n",
      "\t\ttext-align:center;\n",
      "\t\tcolor:#a0a0a0;\n",
      "\t\tmargin:0 0 10px 0;\n",
      "\t\tfont-size:0.8em;\n",
      "\t\tline-height:1.2em;\n",
      "\t\tbackground-color:inherit;\n",
      "\t}\n",
      " \n",
      "\t#frontphoto{\n",
      "\t\tmargin:0 0 10px 0;\n",
      "\t\tborder:0;\n",
      "\t}\n",
      " \n",
      "\t#avmenu{\n",
      "\t\tclear:left;\n",
      "\t\tfloat:left;\n",
      "\t\twidth:150px;\n",
      "\t\tmargin:0 0 10px 0;\n",
      "\t\tpadding:0;\n",
      "\t\tfont-size:0.9em;\n",
      "\t}\n",
      " \n",
      "\t#avmenu ul{\n",
      "\t\tlist-style:none;\n",
      "\t\twidth:150px;\n",
      "\t\tmargin:0 0 20px 0;\n",
      "\t\tpadding:0;\n",
      "\t\tfont-size:1.1em;\n",
      "\t}\n",
      " \n",
      "\t#avmenu li{\n",
      "\t\tmargin-bottom:4px;\n",
      "\t}\n",
      " \n",
      "\t#avmenu li a{\n",
      "\t\tfont-weight:bold;\n",
      "\t\theight:20px;\n",
      "\t\ttext-decoration:none;\n",
      "\t\tcolor:#505050;\n",
      "\t\tdisplay:block;\n",
      "\t\tpadding:6px 0 0 10px;\n",
      "\t\tbackground:#f4f4f4;\n",
      "\t\tborder-left:4px solid #cccccc;\n",
      "\t}\n",
      " \n",
      "\t#avmenu li a:hover{\n",
      "\t\tbackground:#eaeaea;\n",
      "\t\tcolor:#286ea0;\n",
      "\t\tborder-left:4px solid #286ea0;\n",
      "\t}\n",
      " \n",
      "\t.announce{\n",
      "\t\tmargin:10px 0 10px 0;\n",
      "\t\tpadding:10px;\n",
      "\t\twidth:130px;\n",
      "\t\tcolor:#505050;\n",
      "\t\tbackground-color:#f4f4f4;\n",
      "\t\tline-height:1.3em;\n",
      "\t}\n",
      " \n",
      "\t#extras{\n",
      "\t\tfloat:right;\n",
      "\t\twidth:120px;\n",
      "\t\tmargin:0 0 10px 0;\n",
      "\t\tpadding:0;\n",
      "\t\tfont-size:0.9em;\n",
      "\t\tline-height:1.5em;\n",
      "\t}\n",
      " \n",
      "\t#extras p{\n",
      "\t\tmargin:0 0 1.5em 0;\n",
      "\t}\n",
      " \n",
      "\t#content{\n",
      "\t\tmargin:0 130px 20px 160px;\n",
      "\t\tborder-left:1px solid #f0f0f0;\n",
      "\t\tborder-right:1px solid #f0f0f0;\n",
      "\t\tpadding:0 10px 0 10px;\n",
      "\t\tline-height:1.6em;\n",
      "\t\ttext-align:left;\n",
      "\t}\n",
      " \n",
      "\t#content h2{\n",
      "\t\tfont-size:1.5em;\n",
      "\t\tmargin:0 0 0.5em 0;\n",
      "\t}\n",
      " \n",
      "\t#content img{\n",
      "\t\tpadding:1px;\n",
      "\t\tdisplay:inline;\n",
      "\t\tbackground:#cccccc;\n",
      "\t\tcolor:#303030;\n",
      "\t\tborder:4px solid #f0f0f0;\n",
      "\t}\n",
      " \n",
      " \n",
      "\th3{\n",
      "\t\tfont-size:1.3em;\n",
      "\t\tmargin:0 0 10px 0;\n",
      "\t}\n",
      " \n",
      "\ta{\n",
      "\t\ttext-decoration:none;\n",
      "\t\tcolor:#286ea0;\n",
      "\t}\n",
      " \n",
      "\ta:hover{\n",
      "\t\ttext-decoration:underline;\n",
      "\t\tcolor:#286ea0;\n",
      "\t}\n",
      " \n",
      "\ta img{\n",
      "\t\tborder:0;\n",
      "\t}\n",
      " \n",
      "\t#footer{\n",
      "\t\tclear:both;\n",
      "\t\tmargin:0 auto;\n",
      "\t\tpadding:10px 0 20px 0;\n",
      "\t\tborder-top:4px solid #f0f0f0;\n",
      "\t\twidth:760px;\n",
      "\t\ttext-align:center;\n",
      "\t\tcolor:#808080;\n",
      "\t\tfont-size:0.9em;\n",
      "\t}\n",
      " \n",
      "\t#footer a{\n",
      "\t\tcolor:#808080;\n",
      "\t\ttext-decoration:none;\n",
      "\t}\n",
      " \n",
      "\t#footer a:hover{\n",
      "\t\ttext-decoration:underline;\n",
      "\t}\n",
      " \n",
      "\t.left{\n",
      "\t\tmargin:10px 10px 5px 0;\n",
      "\t\tfloat:left;\n",
      "\t}\n",
      " \n",
      "\t.right{\n",
      "\t\tmargin:10px 0 5px 10px;\n",
      "\t\tfloat:right;\n",
      "\t}\n",
      " \n",
      "\t.textright{\n",
      "\t\ttext-align:right;\n",
      "\t}\n",
      " \n",
      "\t.center{\n",
      "\t\ttext-align:center;\n",
      "\t}\n",
      " \n",
      "\t.small{\n",
      "\t\tfont-size:0.8em;\n",
      "\t}\n",
      " \n",
      "\t.bold{\n",
      "\t\tfont-weight:bold;\n",
      "\t}\n",
      " \n",
      "\t.hide{\n",
      "\t\tdisplay:none;\n",
      "\t}\n",
      "\t@font-face {\n",
      "\t\tfont-family: Brush Script MT;\n",
      "\t\tfont-style:  normal;\n",
      "\t\tfont-weight: normal;\n",
      "\t\tsrc: url(http://www.idvsac.com/redelectrica/BRUSHSC1.eot);\n",
      "\t}\n",
      "\tspan.rojo {color: #DE0000;\n",
      "\t\tfont-family: 'Brush Script MT', serif;\n",
      "\t\tfont-style: italic;\n",
      "\t}\n",
      "\tspan.rojo1 {\n",
      "\t\tcolor: #DE0000;\n",
      "\t\tfont-family: 'Brush Script MT', serif;\n",
      "\t\tfont-style: italic;\n",
      "\t\tmargin-left : -0.4em;\n",
      "\t}\n",
      "\tspan.azul {color: #005CA1;\n",
      "\t\tfont-family: 'Brush Script MT', serif;\n",
      "\t\tfont-style: italic;\n",
      "\t}\n",
      "\n"
     ]
    }
   ],
   "source": [
    "with open('urls_css') as f:\n",
    "    urls_css = f.readlines()\n",
    "\n",
    "for i, url in enumerate(urls_css):\n",
    "    clear_output(wait=True)\n",
    "    print(i+1,'/ 1369')\n",
    "    res = requests.get(url.strip())\n",
    "    if res.status_code == requests.codes.ok:\n",
    "        ressoup = bs4.BeautifulSoup(res.text, 'lxml')\n",
    "        h1 = ressoup.select('h1')[0].getText()\n",
    "        snippet = ''\n",
    "        elems = ressoup.select('pre div')\n",
    "        for e in elems:\n",
    "            snippet += e.getText() + '\\n'\n",
    "        print(h1)\n",
    "        print(snippet)\n",
    "        new_snippet = pd.DataFrame({\n",
    "            'Title': [h1],\n",
    "            'Snippet': [snippet] ,\n",
    "            'Language': ['css']\n",
    "        })\n",
    "        snipplr = pd.concat([snipplr, new_snippet], axis=0)\n",
    "        snipplr.to_csv(FILEPATH, index=False)\n",
    "    else:\n",
    "        print('Something went wrong')"
   ]
  },
  {
   "cell_type": "code",
   "execution_count": 15,
   "metadata": {
    "ExecuteTime": {
     "end_time": "2019-05-29T08:29:02.403480Z",
     "start_time": "2019-05-29T08:29:02.396499Z"
    }
   },
   "outputs": [
    {
     "data": {
      "text/plain": [
       "3110"
      ]
     },
     "execution_count": 15,
     "metadata": {},
     "output_type": "execute_result"
    }
   ],
   "source": [
    "len(snipplr)"
   ]
  },
  {
   "cell_type": "code",
   "execution_count": null,
   "metadata": {},
   "outputs": [],
   "source": []
  },
  {
   "cell_type": "code",
   "execution_count": 10,
   "metadata": {
    "ExecuteTime": {
     "end_time": "2019-05-29T13:31:35.710214Z",
     "start_time": "2019-05-29T13:31:35.603470Z"
    }
   },
   "outputs": [],
   "source": [
    "snipplr = pd.read_csv(FILEPATH)"
   ]
  },
  {
   "cell_type": "code",
   "execution_count": 11,
   "metadata": {
    "ExecuteTime": {
     "end_time": "2019-05-29T13:54:11.986031Z",
     "start_time": "2019-05-29T13:31:39.310671Z"
    }
   },
   "outputs": [
    {
     "name": "stdout",
     "output_type": "stream",
     "text": [
      "901 / 901\n",
      "OSCommerce Table Width\n",
      "Change\n",
      " \n",
      "<!-- body //-->\n",
      "<table border=\"0\" width=\"100%\" cellspacing=\"3\" cellpadding=\"3\">\n",
      "<tr>\n",
      "<td width=\"<?php echo BOX_WIDTH; ?>\" valign=\"top\"><table border=\"0\" width=\"<?php echo BOX_WIDTH; ?>\" cellspacing=\"0\" cellpadding=\"2\">\n",
      "<!-- left_navigation //-->\n",
      " \n",
      "To\n",
      " \n",
      "<!-- body //-->\n",
      "<table border=\"0\" width=\"770\" cellspacing=\"0\" cellpadding=\"0\" align=\"center\">\n",
      "<tr>\n",
      "<td width=\"<?php echo BOX_WIDTH; ?>\" valign=\"top\"><table border=\"0\" width=\"<?php echo BOX_WIDTH; ?>\" cellspacing=\"0\" cellpadding=\"2\">\n",
      "<!-- left_navigation //-->\n",
      " \n",
      "All of the files in the catalog folder plus the catalog/includes/header.php and catalog/includes/footer.php files will need to be changed. A quick find and replace in your editor will replace all the pages that have the same code as above in the catalog folder. The header.php and footer.php files have a little different code and would need to be manually changed.\n",
      "\n"
     ]
    }
   ],
   "source": [
    "with open('urls_html') as f:\n",
    "    urls_html = f.readlines()\n",
    "\n",
    "for i, url in enumerate(urls_html):\n",
    "    clear_output(wait=True)\n",
    "    print(i+1,'/ 901')\n",
    "    res = requests.get(url.strip())\n",
    "    if res.status_code == requests.codes.ok:\n",
    "        ressoup = bs4.BeautifulSoup(res.text, 'lxml')\n",
    "        h1 = ressoup.select('h1')[0].getText()\n",
    "        snippet = ''\n",
    "        elems = ressoup.select('pre div')\n",
    "        for e in elems:\n",
    "            snippet += e.getText() + '\\n'\n",
    "        print(h1)\n",
    "        print(snippet)\n",
    "        new_snippet = pd.DataFrame({\n",
    "            'Title': [h1],\n",
    "            'Snippet': [snippet] ,\n",
    "            'Language': ['html']\n",
    "        })\n",
    "        snipplr = pd.concat([snipplr, new_snippet], axis=0)\n",
    "        snipplr.to_csv(FILEPATH, index=False)\n",
    "    else:\n",
    "        print('Something went wrong')"
   ]
  },
  {
   "cell_type": "code",
   "execution_count": 12,
   "metadata": {
    "ExecuteTime": {
     "end_time": "2019-05-29T13:54:36.557560Z",
     "start_time": "2019-05-29T13:54:36.550580Z"
    }
   },
   "outputs": [
    {
     "data": {
      "text/plain": [
       "4349"
      ]
     },
     "execution_count": 12,
     "metadata": {},
     "output_type": "execute_result"
    }
   ],
   "source": [
    "len(snipplr)"
   ]
  },
  {
   "cell_type": "code",
   "execution_count": 14,
   "metadata": {
    "ExecuteTime": {
     "end_time": "2019-05-29T13:55:42.242543Z",
     "start_time": "2019-05-29T13:55:42.117011Z"
    }
   },
   "outputs": [],
   "source": [
    "snipplr = snipplr.drop_duplicates()"
   ]
  },
  {
   "cell_type": "code",
   "execution_count": 15,
   "metadata": {
    "ExecuteTime": {
     "end_time": "2019-05-29T13:55:52.470292Z",
     "start_time": "2019-05-29T13:55:52.464311Z"
    }
   },
   "outputs": [
    {
     "data": {
      "text/plain": [
       "4234"
      ]
     },
     "execution_count": 15,
     "metadata": {},
     "output_type": "execute_result"
    }
   ],
   "source": [
    "len(snipplr)"
   ]
  },
  {
   "cell_type": "code",
   "execution_count": 16,
   "metadata": {
    "ExecuteTime": {
     "end_time": "2019-05-29T13:57:03.723525Z",
     "start_time": "2019-05-29T13:57:03.517986Z"
    }
   },
   "outputs": [],
   "source": [
    "snipplr.to_csv(FILEPATH, index=False)"
   ]
  },
  {
   "cell_type": "code",
   "execution_count": null,
   "metadata": {},
   "outputs": [],
   "source": []
  }
 ],
 "metadata": {
  "kernelspec": {
   "display_name": "Python 3",
   "language": "python",
   "name": "python3"
  },
  "language_info": {
   "codemirror_mode": {
    "name": "ipython",
    "version": 3
   },
   "file_extension": ".py",
   "mimetype": "text/x-python",
   "name": "python",
   "nbconvert_exporter": "python",
   "pygments_lexer": "ipython3",
   "version": "3.7.3"
  },
  "toc": {
   "base_numbering": 1,
   "nav_menu": {},
   "number_sections": true,
   "sideBar": true,
   "skip_h1_title": false,
   "title_cell": "Table of Contents",
   "title_sidebar": "Contents",
   "toc_cell": false,
   "toc_position": {},
   "toc_section_display": true,
   "toc_window_display": false
  },
  "varInspector": {
   "cols": {
    "lenName": 16,
    "lenType": 16,
    "lenVar": 40
   },
   "kernels_config": {
    "python": {
     "delete_cmd_postfix": "",
     "delete_cmd_prefix": "del ",
     "library": "var_list.py",
     "varRefreshCmd": "print(var_dic_list())"
    },
    "r": {
     "delete_cmd_postfix": ") ",
     "delete_cmd_prefix": "rm(",
     "library": "var_list.r",
     "varRefreshCmd": "cat(var_dic_list()) "
    }
   },
   "position": {
    "height": "265px",
    "left": "996px",
    "right": "20px",
    "top": "120px",
    "width": "350px"
   },
   "types_to_exclude": [
    "module",
    "function",
    "builtin_function_or_method",
    "instance",
    "_Feature"
   ],
   "window_display": false
  }
 },
 "nbformat": 4,
 "nbformat_minor": 2
}
