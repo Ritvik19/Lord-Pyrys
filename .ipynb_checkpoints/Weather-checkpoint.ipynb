{
 "cells": [
  {
   "cell_type": "markdown",
   "metadata": {},
   "source": [
    "# Libraries"
   ]
  },
  {
   "cell_type": "code",
   "execution_count": 1,
   "metadata": {
    "ExecuteTime": {
     "end_time": "2019-09-09T14:43:03.401040Z",
     "start_time": "2019-09-09T14:43:02.220200Z"
    }
   },
   "outputs": [],
   "source": [
    "import requests, pandas as pd\n",
    "from datetime import datetime"
   ]
  },
  {
   "cell_type": "markdown",
   "metadata": {},
   "source": [
    "# API Request"
   ]
  },
  {
   "cell_type": "code",
   "execution_count": 2,
   "metadata": {
    "ExecuteTime": {
     "end_time": "2019-09-09T14:43:03.413012Z",
     "start_time": "2019-09-09T14:43:03.404033Z"
    }
   },
   "outputs": [],
   "source": [
    "with open('E:/API-Credentials/Weather.txt') as f:\n",
    "    API_KEY = f.read().strip()\n",
    "def APIRequest(mode, key, city):\n",
    "    # current weather\n",
    "    if mode == 0:\n",
    "        return 'http://api.openweathermap.org/data/2.5/weather?q='+city+'&APPID='+key\n",
    "    # 5 day forecast\n",
    "    if mode == 1:\n",
    "        return 'http://api.openweathermap.org/data/2.5/forecast?q='+city+'&APPID='+key"
   ]
  },
  {
   "cell_type": "code",
   "execution_count": 3,
   "metadata": {
    "ExecuteTime": {
     "end_time": "2019-09-09T14:43:03.536703Z",
     "start_time": "2019-09-09T14:43:03.417996Z"
    }
   },
   "outputs": [],
   "source": [
    "def weather(mode, key, city):\n",
    "    res = requests.get(APIRequest(mode, key, city))\n",
    "    data = res.json()\n",
    "    if mode == 0:\n",
    "        print(data['name'])\n",
    "        print(f\"Longitude: {data['coord']['lon']}\")\n",
    "        print(f\"Latitude : {data['coord']['lat']}\")\n",
    "        print(f\"Weather:\\n\\t{data['weather'][0]['main']}\\n\\t{data['weather'][0]['description']}\")\n",
    "        print(f\"Temperature: {data['main']['temp'] - 273.15:.2f} degree celsius\")\n",
    "        print(f\"Pressure   : {data['main']['pressure']} hecto pascal\")\n",
    "        print(f\"Humidity   : {data['main']['humidity']} %\")\n",
    "        print(f\"Wind Speed : {data['wind']['speed']} m/sec\")\n",
    "        print(f\"Wind Direc : {data['wind']['deg']}\")\n",
    "    if mode == 1:\n",
    "        print(data['city']['name'])\n",
    "        print(f\"Longitude: {data['city']['coord']['lon']}\")\n",
    "        print(f\"Latitude : {data['city']['coord']['lat']}\")\n",
    "        for i in data['list']:\n",
    "            print()\n",
    "            print(datetime.fromtimestamp(i['dt']))\n",
    "            print(f\"Weather:\\n\\t{i['weather'][0]['main']}\\n\\t{i['weather'][0]['description']}\")\n",
    "            print(f\"Temperature: {i['main']['temp'] - 273.15:.2f} degree celsius\")\n",
    "            print(f\"Pressure   : {i['main']['pressure']} hecto pascal\")\n",
    "            print(f\"Humidity   : {i['main']['humidity']} %\")\n",
    "            print(f\"Wind Speed : {i['wind']['speed']} m/sec\")\n",
    "            print(f\"Wind Direc : {i['wind']['deg']}\")"
   ]
  },
  {
   "cell_type": "code",
   "execution_count": 4,
   "metadata": {
    "ExecuteTime": {
     "end_time": "2019-09-09T14:43:05.111471Z",
     "start_time": "2019-09-09T14:43:03.539671Z"
    },
    "scrolled": false
   },
   "outputs": [
    {
     "name": "stdout",
     "output_type": "stream",
     "text": [
      "Moradabad\n",
      "Longitude: 78.77\n",
      "Latitude : 28.83\n",
      "Weather:\n",
      "\tClear\n",
      "\tclear sky\n",
      "Temperature: 29.57 degree celsius\n",
      "Pressure   : 1000.21 hecto pascal\n",
      "Humidity   : 69 %\n",
      "Wind Speed : 1.01 m/sec\n",
      "Wind Direc : 48.508\n"
     ]
    }
   ],
   "source": [
    "weather(0, API_KEY, 'moradabad')"
   ]
  },
  {
   "cell_type": "code",
   "execution_count": null,
   "metadata": {},
   "outputs": [],
   "source": []
  }
 ],
 "metadata": {
  "kernelspec": {
   "display_name": "Python 3",
   "language": "python",
   "name": "python3"
  },
  "language_info": {
   "codemirror_mode": {
    "name": "ipython",
    "version": 3
   },
   "file_extension": ".py",
   "mimetype": "text/x-python",
   "name": "python",
   "nbconvert_exporter": "python",
   "pygments_lexer": "ipython3",
   "version": "3.7.3"
  },
  "toc": {
   "base_numbering": 1,
   "nav_menu": {},
   "number_sections": true,
   "sideBar": true,
   "skip_h1_title": false,
   "title_cell": "Table of Contents",
   "title_sidebar": "Contents",
   "toc_cell": false,
   "toc_position": {},
   "toc_section_display": true,
   "toc_window_display": false
  },
  "varInspector": {
   "cols": {
    "lenName": 16,
    "lenType": 16,
    "lenVar": 40
   },
   "kernels_config": {
    "python": {
     "delete_cmd_postfix": "",
     "delete_cmd_prefix": "del ",
     "library": "var_list.py",
     "varRefreshCmd": "print(var_dic_list())"
    },
    "r": {
     "delete_cmd_postfix": ") ",
     "delete_cmd_prefix": "rm(",
     "library": "var_list.r",
     "varRefreshCmd": "cat(var_dic_list()) "
    }
   },
   "types_to_exclude": [
    "module",
    "function",
    "builtin_function_or_method",
    "instance",
    "_Feature"
   ],
   "window_display": false
  }
 },
 "nbformat": 4,
 "nbformat_minor": 2
}
