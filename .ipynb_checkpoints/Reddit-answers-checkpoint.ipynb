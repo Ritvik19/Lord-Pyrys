{
 "cells": [
  {
   "cell_type": "markdown",
   "metadata": {},
   "source": [
    "# Libraries"
   ]
  },
  {
   "cell_type": "code",
   "execution_count": 1,
   "metadata": {
    "ExecuteTime": {
     "end_time": "2019-08-02T15:40:35.038470Z",
     "start_time": "2019-08-02T15:40:33.559227Z"
    }
   },
   "outputs": [],
   "source": [
    "import praw\n",
    "import pandas as pd\n",
    "from tqdm import tqdm\n",
    "from datetime import datetime"
   ]
  },
  {
   "cell_type": "code",
   "execution_count": 2,
   "metadata": {
    "ExecuteTime": {
     "end_time": "2019-08-02T15:40:35.046759Z",
     "start_time": "2019-08-02T15:40:35.042559Z"
    }
   },
   "outputs": [],
   "source": [
    "pd.options.display.max_colwidth = -1"
   ]
  },
  {
   "cell_type": "markdown",
   "metadata": {},
   "source": [
    "# Scraping"
   ]
  },
  {
   "cell_type": "code",
   "execution_count": 3,
   "metadata": {
    "ExecuteTime": {
     "end_time": "2019-08-02T15:40:35.206073Z",
     "start_time": "2019-08-02T15:40:35.050747Z"
    }
   },
   "outputs": [],
   "source": [
    "with open('E:/RedditCredentials.txt') as f:\n",
    "    credentials = list(map(lambda x: x.strip(), f.readlines()))"
   ]
  },
  {
   "cell_type": "code",
   "execution_count": 4,
   "metadata": {
    "ExecuteTime": {
     "end_time": "2019-08-02T15:40:38.117349Z",
     "start_time": "2019-08-02T15:40:35.210625Z"
    }
   },
   "outputs": [
    {
     "name": "stdout",
     "output_type": "stream",
     "text": [
      "Ritvik19\n"
     ]
    }
   ],
   "source": [
    "reddit = praw.Reddit(client_id=credentials[0],\n",
    "                     client_secret=credentials[1],\n",
    "                     password=credentials[2],\n",
    "                     user_agent=credentials[3],\n",
    "                     username=credentials[4])\n",
    "print(reddit.user.me())"
   ]
  },
  {
   "cell_type": "code",
   "execution_count": 5,
   "metadata": {
    "ExecuteTime": {
     "end_time": "2019-08-02T15:59:11.665954Z",
     "start_time": "2019-08-02T15:40:38.126323Z"
    }
   },
   "outputs": [
    {
     "name": "stderr",
     "output_type": "stream",
     "text": [
      "693it [13:42,  1.22s/it]"
     ]
    },
    {
     "name": "stdout",
     "output_type": "stream",
     "text": [
      "'MoreComments' object has no attribute 'body'\n"
     ]
    },
    {
     "name": "stderr",
     "output_type": "stream",
     "text": [
      "763it [15:20,  1.57s/it]"
     ]
    },
    {
     "name": "stdout",
     "output_type": "stream",
     "text": [
      "'MoreComments' object has no attribute 'body'\n"
     ]
    },
    {
     "name": "stderr",
     "output_type": "stream",
     "text": [
      "770it [15:29,  1.24s/it]"
     ]
    },
    {
     "name": "stdout",
     "output_type": "stream",
     "text": [
      "'MoreComments' object has no attribute 'body'\n"
     ]
    },
    {
     "name": "stderr",
     "output_type": "stream",
     "text": [
      "918it [18:04,  1.13it/s]"
     ]
    },
    {
     "name": "stdout",
     "output_type": "stream",
     "text": [
      "'MoreComments' object has no attribute 'body'\n"
     ]
    },
    {
     "name": "stderr",
     "output_type": "stream",
     "text": [
      "955it [18:33,  1.29it/s]\n"
     ]
    }
   ],
   "source": [
    "subreddit = reddit.subreddit('answers')\n",
    "redds = []\n",
    "ts = []\n",
    "comment1 = []\n",
    "comment2 = []\n",
    "comment3 = []\n",
    "comment4 = []\n",
    "comment5 = []\n",
    "\n",
    "top_subreddit = subreddit.hot(limit=1000)\n",
    "for sr in tqdm(top_subreddit):\n",
    "    try:\n",
    "        if not sr.stickied:\n",
    "            comments = sr.comments.list()\n",
    "            if len(comments) >= 5:\n",
    "                redds.append(sr.title)\n",
    "                ts.append(sr.created_utc)\n",
    "                try:\n",
    "                    comment1.append(comments[0].body)\n",
    "                except Exception as e:\n",
    "                    print(e)\n",
    "                    comment1.append('')\n",
    "                try:\n",
    "                    comment2.append(comments[1].body)\n",
    "                except Exception as e:\n",
    "                    print(e)\n",
    "                    comment2.append('')\n",
    "                try:\n",
    "                    comment3.append(comments[2].body)\n",
    "                except Exception as e:\n",
    "                    print(e)\n",
    "                    comment3.append('')\n",
    "                try:\n",
    "                    comment4.append(comments[3].body)\n",
    "                except Exception as e:\n",
    "                    print(e)\n",
    "                    comment4.append('')\n",
    "                try:\n",
    "                    comment5.append(comments[4].body)\n",
    "                except Exception as e:\n",
    "                    print(e)\n",
    "                    comment5.append('')\n",
    "    except Exception as e:\n",
    "        print(e)"
   ]
  },
  {
   "cell_type": "code",
   "execution_count": 6,
   "metadata": {
    "ExecuteTime": {
     "end_time": "2019-08-02T15:59:11.705802Z",
     "start_time": "2019-08-02T15:59:11.677877Z"
    }
   },
   "outputs": [],
   "source": [
    "ts = list(map(lambda x : datetime.fromtimestamp(x).strftime(\"%Y/%m/%d %H:%M:%S\"), ts))"
   ]
  },
  {
   "cell_type": "code",
   "execution_count": 7,
   "metadata": {
    "ExecuteTime": {
     "end_time": "2019-08-02T15:59:11.910625Z",
     "start_time": "2019-08-02T15:59:11.710783Z"
    }
   },
   "outputs": [],
   "source": [
    "FILEPATH = 'E:/Scrapped-Data/Reddit-answers.csv'"
   ]
  },
  {
   "cell_type": "code",
   "execution_count": 8,
   "metadata": {
    "ExecuteTime": {
     "end_time": "2019-08-02T15:59:12.048029Z",
     "start_time": "2019-08-02T15:59:11.925583Z"
    }
   },
   "outputs": [],
   "source": [
    "# First Time\n",
    "# d_all = pd.DataFrame({'Reddit':redds, 'TimeStamp':ts, 'Comment1':comment1, 'Comment2':comment2, 'Comment3':comment3, \n",
    "#                       'Comment4':comment4, 'Comment5':comment5})\n",
    "# d_all.drop_duplicates(subset=['Reddit'],inplace=True)\n",
    "# d_all.sort_values('TimeStamp', ascending=False, inplace=True)\n",
    "# d_all.to_csv(FILEPATH, index=False)"
   ]
  },
  {
   "cell_type": "code",
   "execution_count": 9,
   "metadata": {
    "ExecuteTime": {
     "end_time": "2019-08-02T15:59:12.248449Z",
     "start_time": "2019-08-02T15:59:12.051020Z"
    }
   },
   "outputs": [
    {
     "name": "stdout",
     "output_type": "stream",
     "text": [
      "429\n"
     ]
    }
   ],
   "source": [
    "d_old = pd.read_csv(FILEPATH)\n",
    "d_new = pd.DataFrame({'Reddit':redds, 'TimeStamp':ts, 'Comment1':comment1, 'Comment2':comment2, 'Comment3':comment3, \n",
    "                      'Comment4':comment4, 'Comment5':comment5})\n",
    "print(len(d_new))\n",
    "d_all = pd.concat([d_new, d_old], axis=0)\n",
    "d_all.drop_duplicates(subset=['Reddit'],inplace=True)\n",
    "d_all.sort_values('TimeStamp', ascending=False, inplace=True)\n",
    "d_all.to_csv(FILEPATH, index=False)"
   ]
  },
  {
   "cell_type": "code",
   "execution_count": 10,
   "metadata": {
    "ExecuteTime": {
     "end_time": "2019-08-02T15:59:12.378529Z",
     "start_time": "2019-08-02T15:59:12.252432Z"
    }
   },
   "outputs": [
    {
     "data": {
      "text/html": [
       "<div>\n",
       "<style scoped>\n",
       "    .dataframe tbody tr th:only-of-type {\n",
       "        vertical-align: middle;\n",
       "    }\n",
       "\n",
       "    .dataframe tbody tr th {\n",
       "        vertical-align: top;\n",
       "    }\n",
       "\n",
       "    .dataframe thead th {\n",
       "        text-align: right;\n",
       "    }\n",
       "</style>\n",
       "<table border=\"1\" class=\"dataframe\">\n",
       "  <thead>\n",
       "    <tr style=\"text-align: right;\">\n",
       "      <th></th>\n",
       "      <th>Reddit</th>\n",
       "      <th>TimeStamp</th>\n",
       "      <th>Comment1</th>\n",
       "      <th>Comment2</th>\n",
       "      <th>Comment3</th>\n",
       "      <th>Comment4</th>\n",
       "      <th>Comment5</th>\n",
       "    </tr>\n",
       "  </thead>\n",
       "  <tbody>\n",
       "    <tr>\n",
       "      <th>11</th>\n",
       "      <td>Why does the United States keep getting involved in wars?</td>\n",
       "      <td>2019/08/02 15:40:12</td>\n",
       "      <td>Please remember that all comments must be helpful, relevant, and respectful. All replies must be a genuine effort to answer the question helpfully; joke answers are not allowed. If you see any comments that violate this rule, please hit report.\\n\\nWhen your question is answered, we encourage you to flair your post. To do this automatically simply make a comment that says **!answered** (OP only)\\n\\n*I am a bot, and this action was performed automatically. Please [contact the moderators of this subreddit](/message/compose/?to=/r/answers) if you have any questions or concerns.*</td>\n",
       "      <td>Also, since WWI and especially II the US has had an ever-growing military-industrial complex as a disproportionate part of its economy.   \\n\\nWars help provide more of a market for military equipment, vehicles and arms.  Peace is not good for business in this case.</td>\n",
       "      <td>Same reason we always have, oil.</td>\n",
       "      <td>Team America: World Police</td>\n",
       "      <td>Money. Alan watts said something that I believe come from Taoists, its along the lines of, sometimes the best intentions and niceness is not wanted by the other other party. It may seem like the USA is helping in the wars but alot of the time were not wanted. We're there for our benefit. Be it money or just an ego boost. I thinks its complete BS all the shit we get into.</td>\n",
       "    </tr>\n",
       "    <tr>\n",
       "      <th>9</th>\n",
       "      <td>What is the meaning of \"money + Beyoncé\" meme?</td>\n",
       "      <td>2019/08/02 11:10:24</td>\n",
       "      <td>Please remember that all comments must be helpful, relevant, and respectful. All replies must be a genuine effort to answer the question helpfully; joke answers are not allowed. If you see any comments that violate this rule, please hit report.\\n\\nWhen your question is answered, we encourage you to flair your post. To do this automatically simply make a comment that says **!answered** (OP only)\\n\\n*I am a bot, and this action was performed automatically. Please [contact the moderators of this subreddit](/message/compose/?to=/r/answers) if you have any questions or concerns.*</td>\n",
       "      <td>The guy (\"kae\") doesn't listen to Beyoncé anyway so he would have no problem taking that $10 million.</td>\n",
       "      <td>It means you're unable to draw conclusions from simple concepts.</td>\n",
       "      <td>Geez, aren't you feeling nasty today?</td>\n",
       "      <td>Just realistic</td>\n",
       "    </tr>\n",
       "    <tr>\n",
       "      <th>6</th>\n",
       "      <td>Can someone tell me the title of that creepy YouTube video with a doll doing a seizure like dance? And the other one with a lake face mannequin singing vocaloid?</td>\n",
       "      <td>2019/08/02 09:47:06</td>\n",
       "      <td>Please remember that all comments must be helpful, relevant, and respectful. All replies must be a genuine effort to answer the question helpfully; joke answers are not allowed. If you see any comments that violate this rule, please hit report.\\n\\nWhen your question is answered, we encourage you to flair your post. To do this automatically simply make a comment that says **!answered** (OP only)\\n\\n*I am a bot, and this action was performed automatically. Please [contact the moderators of this subreddit](/message/compose/?to=/r/answers) if you have any questions or concerns.*</td>\n",
       "      <td>The robot singing one is \"I feel fantastic\".</td>\n",
       "      <td>/r/tipOfMyTongue</td>\n",
       "      <td>Thanks!</td>\n",
       "      <td>No problem, if you want another weird YouTube video look up \"Obey the walrus\"</td>\n",
       "    </tr>\n",
       "    <tr>\n",
       "      <th>13</th>\n",
       "      <td>How can I find out if someone works at Google?</td>\n",
       "      <td>2019/08/02 09:21:47</td>\n",
       "      <td>Please remember that all comments must be helpful, relevant, and respectful. All replies must be a genuine effort to answer the question helpfully; joke answers are not allowed. If you see any comments that violate this rule, please hit report.\\n\\nWhen your question is answered, we encourage you to flair your post. To do this automatically simply make a comment that says **!answered** (OP only)\\n\\n*I am a bot, and this action was performed automatically. Please [contact the moderators of this subreddit](/message/compose/?to=/r/answers) if you have any questions or concerns.*</td>\n",
       "      <td>Google it.</td>\n",
       "      <td>\"Work at google\" can also be as a receptionist or janitor. You can find someone who works there and have them find out internally, or just forget about it hahaa</td>\n",
       "      <td>Check linkedin</td>\n",
       "      <td>If they're motivated to prove it, they can write a note to HR authorizing HR to verify that they're employed there.  But you'd have to ask them to do so.</td>\n",
       "    </tr>\n",
       "    <tr>\n",
       "      <th>8</th>\n",
       "      <td>How Can I Break My Light Bulb to Make It Look like It Burned Out?</td>\n",
       "      <td>2019/08/02 08:22:25</td>\n",
       "      <td>Please remember that all comments must be helpful, relevant, and respectful. All replies must be a genuine effort to answer the question helpfully; joke answers are not allowed. If you see any comments that violate this rule, please hit report.\\n\\nWhen your question is answered, we encourage you to flair your post. To do this automatically simply make a comment that says **!answered** (OP only)\\n\\n*I am a bot, and this action was performed automatically. Please [contact the moderators of this subreddit](/message/compose/?to=/r/answers) if you have any questions or concerns.*</td>\n",
       "      <td>This probably won't help, but when I was a kid a friend discovered that we could sometimes break the filament in an [incandescent bulb](https://upload.wikimedia.org/wikipedia/commons/b/b4/Gluehlampe_01_KMJ.png) without breaking the glass. We would take it out of its socket and then tap the base lightly on a concrete or hard tile surface many times.</td>\n",
       "      <td>Run too much power through the filament. idk how to do this safely. My first thought is to try some wire leads and a 9V battery</td>\n",
       "      <td>!answered</td>\n",
       "      <td>this helped and worked! thanks!</td>\n",
       "    </tr>\n",
       "  </tbody>\n",
       "</table>\n",
       "</div>"
      ],
      "text/plain": [
       "                                                                                                                                                               Reddit  \\\n",
       "11  Why does the United States keep getting involved in wars?                                                                                                           \n",
       "9   What is the meaning of \"money + Beyoncé\" meme?                                                                                                                      \n",
       "6   Can someone tell me the title of that creepy YouTube video with a doll doing a seizure like dance? And the other one with a lake face mannequin singing vocaloid?   \n",
       "13  How can I find out if someone works at Google?                                                                                                                      \n",
       "8   How Can I Break My Light Bulb to Make It Look like It Burned Out?                                                                                                   \n",
       "\n",
       "              TimeStamp  \\\n",
       "11  2019/08/02 15:40:12   \n",
       "9   2019/08/02 11:10:24   \n",
       "6   2019/08/02 09:47:06   \n",
       "13  2019/08/02 09:21:47   \n",
       "8   2019/08/02 08:22:25   \n",
       "\n",
       "                                                                                                                                                                                                                                                                                                                                                                                                                                                                                                                                                                                                 Comment1  \\\n",
       "11  Please remember that all comments must be helpful, relevant, and respectful. All replies must be a genuine effort to answer the question helpfully; joke answers are not allowed. If you see any comments that violate this rule, please hit report.\\n\\nWhen your question is answered, we encourage you to flair your post. To do this automatically simply make a comment that says **!answered** (OP only)\\n\\n*I am a bot, and this action was performed automatically. Please [contact the moderators of this subreddit](/message/compose/?to=/r/answers) if you have any questions or concerns.*   \n",
       "9   Please remember that all comments must be helpful, relevant, and respectful. All replies must be a genuine effort to answer the question helpfully; joke answers are not allowed. If you see any comments that violate this rule, please hit report.\\n\\nWhen your question is answered, we encourage you to flair your post. To do this automatically simply make a comment that says **!answered** (OP only)\\n\\n*I am a bot, and this action was performed automatically. Please [contact the moderators of this subreddit](/message/compose/?to=/r/answers) if you have any questions or concerns.*   \n",
       "6   Please remember that all comments must be helpful, relevant, and respectful. All replies must be a genuine effort to answer the question helpfully; joke answers are not allowed. If you see any comments that violate this rule, please hit report.\\n\\nWhen your question is answered, we encourage you to flair your post. To do this automatically simply make a comment that says **!answered** (OP only)\\n\\n*I am a bot, and this action was performed automatically. Please [contact the moderators of this subreddit](/message/compose/?to=/r/answers) if you have any questions or concerns.*   \n",
       "13  Please remember that all comments must be helpful, relevant, and respectful. All replies must be a genuine effort to answer the question helpfully; joke answers are not allowed. If you see any comments that violate this rule, please hit report.\\n\\nWhen your question is answered, we encourage you to flair your post. To do this automatically simply make a comment that says **!answered** (OP only)\\n\\n*I am a bot, and this action was performed automatically. Please [contact the moderators of this subreddit](/message/compose/?to=/r/answers) if you have any questions or concerns.*   \n",
       "8   Please remember that all comments must be helpful, relevant, and respectful. All replies must be a genuine effort to answer the question helpfully; joke answers are not allowed. If you see any comments that violate this rule, please hit report.\\n\\nWhen your question is answered, we encourage you to flair your post. To do this automatically simply make a comment that says **!answered** (OP only)\\n\\n*I am a bot, and this action was performed automatically. Please [contact the moderators of this subreddit](/message/compose/?to=/r/answers) if you have any questions or concerns.*   \n",
       "\n",
       "                                                                                                                                                                                                                                                                                                                                                          Comment2  \\\n",
       "11  Also, since WWI and especially II the US has had an ever-growing military-industrial complex as a disproportionate part of its economy.   \\n\\nWars help provide more of a market for military equipment, vehicles and arms.  Peace is not good for business in this case.                                                                                        \n",
       "9   The guy (\"kae\") doesn't listen to Beyoncé anyway so he would have no problem taking that $10 million.                                                                                                                                                                                                                                                            \n",
       "6   The robot singing one is \"I feel fantastic\".                                                                                                                                                                                                                                                                                                                     \n",
       "13  Google it.                                                                                                                                                                                                                                                                                                                                                       \n",
       "8   This probably won't help, but when I was a kid a friend discovered that we could sometimes break the filament in an [incandescent bulb](https://upload.wikimedia.org/wikipedia/commons/b/b4/Gluehlampe_01_KMJ.png) without breaking the glass. We would take it out of its socket and then tap the base lightly on a concrete or hard tile surface many times.   \n",
       "\n",
       "                                                                                                                                                            Comment3  \\\n",
       "11  Same reason we always have, oil.                                                                                                                                   \n",
       "9   It means you're unable to draw conclusions from simple concepts.                                                                                                   \n",
       "6   /r/tipOfMyTongue                                                                                                                                                   \n",
       "13  \"Work at google\" can also be as a receptionist or janitor. You can find someone who works there and have them find out internally, or just forget about it hahaa   \n",
       "8   Run too much power through the filament. idk how to do this safely. My first thought is to try some wire leads and a 9V battery                                    \n",
       "\n",
       "                                 Comment4  \\\n",
       "11  Team America: World Police              \n",
       "9   Geez, aren't you feeling nasty today?   \n",
       "6   Thanks!                                 \n",
       "13  Check linkedin                          \n",
       "8   !answered                               \n",
       "\n",
       "                                                                                                                                                                                                                                                                                                                                                                                 Comment5  \n",
       "11  Money. Alan watts said something that I believe come from Taoists, its along the lines of, sometimes the best intentions and niceness is not wanted by the other other party. It may seem like the USA is helping in the wars but alot of the time were not wanted. We're there for our benefit. Be it money or just an ego boost. I thinks its complete BS all the shit we get into.  \n",
       "9   Just realistic                                                                                                                                                                                                                                                                                                                                                                         \n",
       "6   No problem, if you want another weird YouTube video look up \"Obey the walrus\"                                                                                                                                                                                                                                                                                                          \n",
       "13  If they're motivated to prove it, they can write a note to HR authorizing HR to verify that they're employed there.  But you'd have to ask them to do so.                                                                                                                                                                                                                              \n",
       "8   this helped and worked! thanks!                                                                                                                                                                                                                                                                                                                                                        "
      ]
     },
     "execution_count": 10,
     "metadata": {},
     "output_type": "execute_result"
    }
   ],
   "source": [
    "d_all.head()"
   ]
  },
  {
   "cell_type": "code",
   "execution_count": 11,
   "metadata": {
    "ExecuteTime": {
     "end_time": "2019-08-02T15:59:12.509961Z",
     "start_time": "2019-08-02T15:59:12.382490Z"
    }
   },
   "outputs": [
    {
     "name": "stdout",
     "output_type": "stream",
     "text": [
      "0 New Reddits\n"
     ]
    }
   ],
   "source": [
    "print(f'{len(d_all)-len(d_old)} New Reddits')"
   ]
  },
  {
   "cell_type": "code",
   "execution_count": 12,
   "metadata": {
    "ExecuteTime": {
     "end_time": "2019-08-02T15:59:12.682280Z",
     "start_time": "2019-08-02T15:59:12.514979Z"
    }
   },
   "outputs": [
    {
     "data": {
      "text/plain": [
       "429"
      ]
     },
     "execution_count": 12,
     "metadata": {},
     "output_type": "execute_result"
    }
   ],
   "source": [
    "len(d_all)"
   ]
  },
  {
   "cell_type": "code",
   "execution_count": null,
   "metadata": {},
   "outputs": [],
   "source": []
  }
 ],
 "metadata": {
  "kernelspec": {
   "display_name": "Python 3",
   "language": "python",
   "name": "python3"
  },
  "language_info": {
   "codemirror_mode": {
    "name": "ipython",
    "version": 3
   },
   "file_extension": ".py",
   "mimetype": "text/x-python",
   "name": "python",
   "nbconvert_exporter": "python",
   "pygments_lexer": "ipython3",
   "version": "3.7.3"
  },
  "toc": {
   "base_numbering": 1,
   "nav_menu": {},
   "number_sections": true,
   "sideBar": true,
   "skip_h1_title": false,
   "title_cell": "Table of Contents",
   "title_sidebar": "Contents",
   "toc_cell": false,
   "toc_position": {},
   "toc_section_display": true,
   "toc_window_display": false
  },
  "varInspector": {
   "cols": {
    "lenName": 16,
    "lenType": 16,
    "lenVar": 40
   },
   "kernels_config": {
    "python": {
     "delete_cmd_postfix": "",
     "delete_cmd_prefix": "del ",
     "library": "var_list.py",
     "varRefreshCmd": "print(var_dic_list())"
    },
    "r": {
     "delete_cmd_postfix": ") ",
     "delete_cmd_prefix": "rm(",
     "library": "var_list.r",
     "varRefreshCmd": "cat(var_dic_list()) "
    }
   },
   "types_to_exclude": [
    "module",
    "function",
    "builtin_function_or_method",
    "instance",
    "_Feature"
   ],
   "window_display": false
  }
 },
 "nbformat": 4,
 "nbformat_minor": 2
}
