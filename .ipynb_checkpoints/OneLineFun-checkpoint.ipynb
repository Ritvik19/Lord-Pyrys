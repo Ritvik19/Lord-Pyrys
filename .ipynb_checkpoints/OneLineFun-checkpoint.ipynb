{
 "cells": [
  {
   "cell_type": "markdown",
   "metadata": {},
   "source": [
    "# Libraries"
   ]
  },
  {
   "cell_type": "code",
   "execution_count": 1,
   "metadata": {
    "ExecuteTime": {
     "end_time": "2019-10-16T18:37:24.584456Z",
     "start_time": "2019-10-16T18:37:23.033594Z"
    }
   },
   "outputs": [],
   "source": [
    "import requests, bs4\n",
    "import numpy as np\n",
    "import pandas as pd\n",
    "from IPython.display import clear_output\n",
    "from tqdm.auto import tqdm"
   ]
  },
  {
   "cell_type": "markdown",
   "metadata": {},
   "source": [
    "# Scraping"
   ]
  },
  {
   "cell_type": "code",
   "execution_count": 2,
   "metadata": {
    "ExecuteTime": {
     "end_time": "2019-10-16T18:51:58.525029Z",
     "start_time": "2019-10-16T18:37:24.587437Z"
    }
   },
   "outputs": [
    {
     "name": "stdout",
     "output_type": "stream",
     "text": [
      "527 / 528\n",
      "Rape is a terrible crime... I'll never understand how a man can traumatize a woman like that. That's why I always make sure they don't remember...\n",
      "Atheist problems: being considered strange because you don't believe in a magic man in the sky!\n",
      "Hitler's orange Jews. 100% concentrated.\n",
      "A woman of 35 thinks of having children. What does a man of 35 think of? Dating children.\n",
      "What did the card dealer say to the table of 16 year old girls? Blackjack is just like my sex life, I always hit on 16.\n",
      "Whats does giving your sister head and light beer have in common? Even though it tastes the same, you still know something is very wrong.\n",
      "God makes everyone in his own image, no? Yeah, he was drunk.\n",
      "How do you Circumcise a Cracker? Kick his 3-year old daughter in the jaw.\n",
      "Done!!! 5268\n"
     ]
    }
   ],
   "source": [
    "oneliners = []\n",
    "for i in range(1,528):\n",
    "    clear_output(wait=True)\n",
    "    print(f'{i:{3}} / 528')\n",
    "    url = f'https://onelinefun.com/{i}/'\n",
    "    res = requests.get(url)\n",
    "    if res.status_code == requests.codes.ok:\n",
    "        ressoup = bs4.BeautifulSoup(res.text, 'lxml')\n",
    "        elems = ressoup.select('div.o p')\n",
    "        for e in elems:\n",
    "            oneliners.append(e.getText())\n",
    "            print(e.getText())\n",
    "        pd.DataFrame({\n",
    "            'OneLiner': oneliners\n",
    "        }).to_csv('E:/Scrapped-Data/OneLiners.csv', index=False)\n",
    "    else:\n",
    "        print('Something went wrong')\n",
    "print('Done!!!', len(oneliners))"
   ]
  },
  {
   "cell_type": "code",
   "execution_count": null,
   "metadata": {},
   "outputs": [],
   "source": []
  }
 ],
 "metadata": {
  "kernelspec": {
   "display_name": "Python 3",
   "language": "python",
   "name": "python3"
  },
  "language_info": {
   "codemirror_mode": {
    "name": "ipython",
    "version": 3
   },
   "file_extension": ".py",
   "mimetype": "text/x-python",
   "name": "python",
   "nbconvert_exporter": "python",
   "pygments_lexer": "ipython3",
   "version": "3.7.3"
  },
  "toc": {
   "base_numbering": 1,
   "nav_menu": {},
   "number_sections": true,
   "sideBar": true,
   "skip_h1_title": false,
   "title_cell": "Table of Contents",
   "title_sidebar": "Contents",
   "toc_cell": false,
   "toc_position": {},
   "toc_section_display": true,
   "toc_window_display": false
  },
  "varInspector": {
   "cols": {
    "lenName": 16,
    "lenType": 16,
    "lenVar": 40
   },
   "kernels_config": {
    "python": {
     "delete_cmd_postfix": "",
     "delete_cmd_prefix": "del ",
     "library": "var_list.py",
     "varRefreshCmd": "print(var_dic_list())"
    },
    "r": {
     "delete_cmd_postfix": ") ",
     "delete_cmd_prefix": "rm(",
     "library": "var_list.r",
     "varRefreshCmd": "cat(var_dic_list()) "
    }
   },
   "types_to_exclude": [
    "module",
    "function",
    "builtin_function_or_method",
    "instance",
    "_Feature"
   ],
   "window_display": false
  }
 },
 "nbformat": 4,
 "nbformat_minor": 2
}
