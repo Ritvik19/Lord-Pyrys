{
 "cells": [
  {
   "cell_type": "markdown",
   "metadata": {},
   "source": [
    "# Libraries"
   ]
  },
  {
   "cell_type": "code",
   "execution_count": 1,
   "metadata": {
    "ExecuteTime": {
     "end_time": "2019-09-03T12:14:34.902996Z",
     "start_time": "2019-09-03T12:14:33.147521Z"
    }
   },
   "outputs": [],
   "source": [
    "import requests, bs4\n",
    "import numpy as np\n",
    "import pandas as pd\n",
    "from IPython.display import clear_output"
   ]
  },
  {
   "cell_type": "markdown",
   "metadata": {},
   "source": [
    "# Scraping"
   ]
  },
  {
   "cell_type": "code",
   "execution_count": 2,
   "metadata": {
    "ExecuteTime": {
     "end_time": "2019-09-03T12:14:36.175515Z",
     "start_time": "2019-09-03T12:14:34.906869Z"
    }
   },
   "outputs": [],
   "source": [
    "url = 'https://www.cricbuzz.com'\n",
    "headers = {\n",
    "    'User-Agent': 'Mozilla/5.0 (Windows NT 6.1)'\n",
    "}\n",
    "res = requests.get(url, headers=headers)\n",
    "if res.status_code == requests.codes.ok:\n",
    "    ressoup = bs4.BeautifulSoup(res.text, 'lxml')\n",
    "    elems = ressoup.select('div.cb-col.cb-col-25.cb-mtch-blk')\n",
    "    output = []\n",
    "    for e in elems:\n",
    "        o = \"\"\n",
    "        divs = e.select('div')\n",
    "        if len(divs) == 3:\n",
    "            for ed in e.select('div')[:2]:\n",
    "                o += ed.getText() + \"\\n\"\n",
    "        elif len(divs) == 7:\n",
    "            o += divs[1].getText() + \" \"\n",
    "            o += divs[2].getText() + \"\\n\"\n",
    "            o += divs[4].getText() + \" \"\n",
    "            o += divs[5].getText() + \"\\n\"\n",
    "            o += divs[6].getText() + \"\\n\"\n",
    "        o += url+e.select('a')[0].get('href')\n",
    "        output.append(o)\n",
    "    output = '\\n'.join(list(set(output)))\n",
    "else:\n",
    "    print('Something went wrong')"
   ]
  },
  {
   "cell_type": "code",
   "execution_count": 3,
   "metadata": {
    "ExecuteTime": {
     "end_time": "2019-09-03T12:14:36.190384Z",
     "start_time": "2019-09-03T12:14:36.179412Z"
    }
   },
   "outputs": [
    {
     "name": "stdout",
     "output_type": "stream",
     "text": [
      "AFG 289/9 decl, 14/0 (3.5 Ovs)\n",
      "BCBX.. 123\n",
      "Match drawn\n",
      "https://www.cricbuzz.com/live-cricket-scores/23377/bcbxi-vs-afg-2-day-practice-match-afghanistan-tour-of-bangladesh-only-test-2019\n",
      "England\n",
      "Australia\n",
      "https://www.cricbuzz.com/live-cricket-scores/20718/eng-vs-aus-4th-test-the-ashes-2019\n",
      "WI 117, 210-all out (59.5 Ovs)\n",
      "IND 416, 168/4 decl\n",
      "India won by 257 runs\n",
      "https://www.cricbuzz.com/live-cricket-scores/22860/wi-vs-ind-2nd-test-india-tour-of-west-indies-2019\n",
      "THAI.. 92/7 (17.0 Ovs)\n",
      "IREW \n",
      "(Match reduced to 17 overs per - side due to rain) - Innings Break\n",
      "https://www.cricbuzz.com/live-cricket-scores/23227/irew-vs-thaiw-9th-match-icc-womens-t20-world-cup-qualifier-2019\n",
      "Sri Lanka\n",
      "New Zealand\n",
      "https://www.cricbuzz.com/live-cricket-scores/22958/sl-vs-nz-2nd-t20i-new-zealand-tour-of-sri-lanka-2019\n"
     ]
    }
   ],
   "source": [
    "print(output)"
   ]
  },
  {
   "cell_type": "code",
   "execution_count": null,
   "metadata": {},
   "outputs": [],
   "source": []
  }
 ],
 "metadata": {
  "kernelspec": {
   "display_name": "Python 3",
   "language": "python",
   "name": "python3"
  },
  "language_info": {
   "codemirror_mode": {
    "name": "ipython",
    "version": 3
   },
   "file_extension": ".py",
   "mimetype": "text/x-python",
   "name": "python",
   "nbconvert_exporter": "python",
   "pygments_lexer": "ipython3",
   "version": "3.7.3"
  },
  "toc": {
   "base_numbering": 1,
   "nav_menu": {},
   "number_sections": true,
   "sideBar": true,
   "skip_h1_title": false,
   "title_cell": "Table of Contents",
   "title_sidebar": "Contents",
   "toc_cell": false,
   "toc_position": {},
   "toc_section_display": true,
   "toc_window_display": false
  },
  "varInspector": {
   "cols": {
    "lenName": 16,
    "lenType": 16,
    "lenVar": 40
   },
   "kernels_config": {
    "python": {
     "delete_cmd_postfix": "",
     "delete_cmd_prefix": "del ",
     "library": "var_list.py",
     "varRefreshCmd": "print(var_dic_list())"
    },
    "r": {
     "delete_cmd_postfix": ") ",
     "delete_cmd_prefix": "rm(",
     "library": "var_list.r",
     "varRefreshCmd": "cat(var_dic_list()) "
    }
   },
   "types_to_exclude": [
    "module",
    "function",
    "builtin_function_or_method",
    "instance",
    "_Feature"
   ],
   "window_display": false
  }
 },
 "nbformat": 4,
 "nbformat_minor": 2
}
