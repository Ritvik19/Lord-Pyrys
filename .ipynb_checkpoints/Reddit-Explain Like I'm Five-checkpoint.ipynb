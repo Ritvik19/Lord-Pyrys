{
 "cells": [
  {
   "cell_type": "markdown",
   "metadata": {},
   "source": [
    "# Libraries"
   ]
  },
  {
   "cell_type": "code",
   "execution_count": 1,
   "metadata": {
    "ExecuteTime": {
     "end_time": "2019-08-25T04:21:36.986274Z",
     "start_time": "2019-08-25T04:21:35.462162Z"
    }
   },
   "outputs": [],
   "source": [
    "import praw\n",
    "import pandas as pd\n",
    "from tqdm.auto import tqdm\n",
    "from datetime import datetime\n",
    "import os.path"
   ]
  },
  {
   "cell_type": "code",
   "execution_count": 2,
   "metadata": {
    "ExecuteTime": {
     "end_time": "2019-08-25T04:21:36.996801Z",
     "start_time": "2019-08-25T04:21:36.989264Z"
    }
   },
   "outputs": [],
   "source": [
    "pd.options.display.max_colwidth = -1"
   ]
  },
  {
   "cell_type": "markdown",
   "metadata": {},
   "source": [
    "# Scraping"
   ]
  },
  {
   "cell_type": "code",
   "execution_count": 3,
   "metadata": {
    "ExecuteTime": {
     "end_time": "2019-08-25T04:21:37.171387Z",
     "start_time": "2019-08-25T04:21:37.004779Z"
    }
   },
   "outputs": [],
   "source": [
    "with open('E:/RedditCredentials.txt') as f:\n",
    "    credentials = list(map(lambda x: x.strip(), f.readlines()))"
   ]
  },
  {
   "cell_type": "code",
   "execution_count": 4,
   "metadata": {
    "ExecuteTime": {
     "end_time": "2019-08-25T04:21:39.280020Z",
     "start_time": "2019-08-25T04:21:37.177325Z"
    }
   },
   "outputs": [
    {
     "name": "stdout",
     "output_type": "stream",
     "text": [
      "Ritvik19\n"
     ]
    }
   ],
   "source": [
    "reddit = praw.Reddit(client_id=credentials[0],\n",
    "                     client_secret=credentials[1],\n",
    "                     password=credentials[2],\n",
    "                     user_agent=credentials[3],\n",
    "                     username=credentials[4])\n",
    "print(reddit.user.me())"
   ]
  },
  {
   "cell_type": "code",
   "execution_count": 5,
   "metadata": {
    "ExecuteTime": {
     "end_time": "2019-08-25T05:13:35.475734Z",
     "start_time": "2019-08-25T04:21:39.292885Z"
    }
   },
   "outputs": [
    {
     "data": {
      "application/vnd.jupyter.widget-view+json": {
       "model_id": "5160465988ca485bb9022202a9b62176",
       "version_major": 2,
       "version_minor": 0
      },
      "text/plain": [
       "HBox(children=(IntProgress(value=1, bar_style='info', max=1), HTML(value='')))"
      ]
     },
     "metadata": {},
     "output_type": "display_data"
    },
    {
     "name": "stdout",
     "output_type": "stream",
     "text": [
      "\n"
     ]
    }
   ],
   "source": [
    "subreddit = reddit.subreddit('explainlikeimfive')\n",
    "redds = []\n",
    "ts = []\n",
    "comment1 = []\n",
    "comment2 = []\n",
    "comment3 = []\n",
    "comment4 = []\n",
    "comment5 = []\n",
    "\n",
    "top_subreddit = subreddit.hot(limit=1000)\n",
    "for sr in tqdm(top_subreddit):\n",
    "    try:\n",
    "        if not sr.stickied:\n",
    "            comments = sr.comments.list()\n",
    "            if len(comments) >= 5:\n",
    "                redds.append(sr.title)\n",
    "                ts.append(sr.created_utc)\n",
    "                comment1.append(comments[0].body)\n",
    "                comment2.append(comments[1].body)\n",
    "                comment3.append(comments[2].body)\n",
    "                comment4.append(comments[3].body)\n",
    "                comment5.append(comments[4].body)\n",
    "    except Exception as e:\n",
    "        print(e)"
   ]
  },
  {
   "cell_type": "code",
   "execution_count": 6,
   "metadata": {
    "ExecuteTime": {
     "end_time": "2019-08-25T05:13:35.510866Z",
     "start_time": "2019-08-25T05:13:35.484783Z"
    }
   },
   "outputs": [],
   "source": [
    "ts = list(map(lambda x : datetime.fromtimestamp(x).strftime(\"%Y/%m/%d %H:%M:%S\"), ts))\n",
    "redds = list(map(lambda x: x[6:] if x.startswith('ELI5: ') else x, redds))"
   ]
  },
  {
   "cell_type": "code",
   "execution_count": 7,
   "metadata": {
    "ExecuteTime": {
     "end_time": "2019-08-25T05:13:35.650590Z",
     "start_time": "2019-08-25T05:13:35.515919Z"
    }
   },
   "outputs": [],
   "source": [
    "FILEPATH = \"E:/Scrapped-Data/Reddit-Explain Like I'm Five.csv\""
   ]
  },
  {
   "cell_type": "code",
   "execution_count": 8,
   "metadata": {
    "ExecuteTime": {
     "end_time": "2019-08-25T05:13:36.133601Z",
     "start_time": "2019-08-25T05:13:35.663507Z"
    }
   },
   "outputs": [
    {
     "name": "stdout",
     "output_type": "stream",
     "text": [
      "229\n",
      "1 New Reddits\n",
      "2039\n"
     ]
    }
   ],
   "source": [
    "if os.path.exists(FILEPATH):\n",
    "    d_old = pd.read_csv(FILEPATH)\n",
    "    d_new = pd.DataFrame({'Reddit':redds, 'TimeStamp':ts, 'Comment1':comment1, 'Comment2':comment2, 'Comment3':comment3, \n",
    "                          'Comment4':comment4, 'Comment5':comment5})\n",
    "    print(len(d_new))\n",
    "    d_all = pd.concat([d_new, d_old], axis=0)\n",
    "else:\n",
    "    d_all = pd.DataFrame({'Reddit':redds, 'TimeStamp':ts, 'Comment1':comment1, 'Comment2':comment2, 'Comment3':comment3, \n",
    "                      'Comment4':comment4, 'Comment5':comment5})\n",
    "d_all.drop_duplicates(subset=['Reddit'],inplace=True)\n",
    "d_all.sort_values('TimeStamp', ascending=False, inplace=True)\n",
    "d_all.to_csv(FILEPATH, index=False)\n",
    "print(f'{len(d_all)-len(d_old)} New Reddits') if os.path.exists(FILEPATH) else ()\n",
    "print(len(d_all))"
   ]
  },
  {
   "cell_type": "code",
   "execution_count": null,
   "metadata": {
    "ExecuteTime": {
     "start_time": "2019-08-25T04:21:35.531Z"
    }
   },
   "outputs": [
    {
     "data": {
      "text/html": [
       "<div>\n",
       "<style scoped>\n",
       "    .dataframe tbody tr th:only-of-type {\n",
       "        vertical-align: middle;\n",
       "    }\n",
       "\n",
       "    .dataframe tbody tr th {\n",
       "        vertical-align: top;\n",
       "    }\n",
       "\n",
       "    .dataframe thead th {\n",
       "        text-align: right;\n",
       "    }\n",
       "</style>\n",
       "<table border=\"1\" class=\"dataframe\">\n",
       "  <thead>\n",
       "    <tr style=\"text-align: right;\">\n",
       "      <th></th>\n",
       "      <th>Reddit</th>\n",
       "      <th>TimeStamp</th>\n",
       "      <th>Comment1</th>\n",
       "      <th>Comment2</th>\n",
       "      <th>Comment3</th>\n",
       "      <th>Comment4</th>\n",
       "      <th>Comment5</th>\n",
       "    </tr>\n",
       "  </thead>\n",
       "  <tbody>\n",
       "    <tr>\n",
       "      <th>25</th>\n",
       "      <td>ELI5 How do musicians know that the chord progressions and other aspects of music they compose havent been composed by someone else yet?</td>\n",
       "      <td>2019/08/25 08:20:47</td>\n",
       "      <td>We don't. We just show up to practice all proud of ourselves for writing a cool riff untill the rest of the band goes \"isn't that an old riff from that one band\" and you swear you came up with it but you know that about 10 years ago you were really into that band so even though you can't remember the song, you probably did steal the riff.</td>\n",
       "      <td>We don't, considering music as a whole dates back probably even farther than the beginnings of recorded history.</td>\n",
       "      <td>Sometimes we don’t realize we’ve ripped off a song, at least not immediately (this has happened to me several times), sometimes we do but we think we can make it different enough that no one will notice or care. And sometimes it’s just a big fat coincidence. Since there’s only 12 notes (in the western scale, that is) and most things are in 4/4 time you kind of just have to roll the dice. \\n\\nSome anecdotes: \\n* Paul McCartney claims to have come up with the melody of the Beatles song “Yesterday” in a dream and immediately recorded a quick demo upon waking up, and spent a while showing it to various people before finishing it, to make sure he hadn’t unconsciously ripped someone off. \\n\\n* Another Beatle George Harrison claims he didn’t *consciously* plagiarize the doo-wop song “He’s So Fine” in writing “My Sweet Lord”, but he lost a lawsuit about it anyway.\\n\\n* The Flaming Lips realized while recording the song “Fight Test” that it sounded a lot like Cat Stevens’ “Father and Son”, and changed some bits accordingly, but it was still similar enough that Stevens filed suit and now he receives 75% of the song’s royalties. \\n\\nEDIT: realized I misremembered the flaming lips thing</td>\n",
       "      <td>They don't. In fact, most likely than not they already *have* been used in the past. Just [listen to this](https://www.youtube.com/watch?v=5pidokakU4I#t=23s) for proof.</td>\n",
       "      <td>Huh, interesting stories, is there any list of these?</td>\n",
       "    </tr>\n",
       "    <tr>\n",
       "      <th>12</th>\n",
       "      <td>Just read that when an organ is transplanted, the recipients immune system attacks the organ restlessly. Why does this happen if the recipient needed the organ to live?</td>\n",
       "      <td>2019/08/25 07:31:26</td>\n",
       "      <td>The word is relentlessly.\\n\\nBasically, the body doesn't know that it needs that organ.  The immune system isn't some intelligent being that can understand organ transplants.  All it knows is that there is a mass  that doesn't match the body, so it needs to kill it.</td>\n",
       "      <td>Your immune system isn't smart enough to know that the transplanted organ it's helpful or necessary. It just finds foreign material is a place where foreign material is not supposed to be, so it does its thing and attacks it. Keep in mind this is all triggered by a complex series of chemical reactions, there's no thinking involved.</td>\n",
       "      <td>Your immune system isn't a planning entity. It's more like a simple algorithm. All it sees is a foreign organism invading the host, on account of the implanted organ has different chemical identifiers than home grown tissue would. \\n\\n\"If I removed this organ I would die\" isn't a thought that would occur to your immune system cause it doesn't think in any meaningful way.</td>\n",
       "      <td>The organ is a foreign entity to the body. It does not naturally belong there and it does not matter if the body needs it to survive, the body does not know that and so attacks it like it does all foreign entities that get inside the body.</td>\n",
       "      <td>To add more info on top of everyone else's direct answers to the question, the immune system isn't really one cohesive unit so much as a hodgepodge of different types of cells that stack on top of each other (but also talk to each other a ton). Wall incoming...\\n\\n.\\n\\nThe first part is the [innate immune system](https://en.wikipedia.org/wiki/Innate_immune_system), which *most* organisms have some form of. It depends on a basic set of receptors for specific structures common to pathogens. For example, lots of bacteria have flagella, whiplike structures poking out of their bodies to move/swim. They're made of a protein called flagellin, which isn't in any of our cells. Innate immune cells have a specific receptor for flagellin. If there's some in your liver, neutrophils, macrophages, etc. recognize that it's not supposed to be there, and they gobble up or poison the bacteria.  \\n\\n**Analogy:** Your body is a country where everyone wears blue T-shirts and Levi's jeans and no one ever wears hats. Bacteria and viruses can wear hats or other clothes. The innate immune system is a militia army all across the country. They wear mass-produced special goggles that trigger a DANGER signal when they see someone wearing hats, or jackets, or leggings. Then they group up and go fight them with knives and axes.\\n\\n.\\n\\nBut that doesn't always work, some bacteria might mutate their flagellin to be less \"visible\" (camo hats) or just hide it outright. Sometimes a single bacteria is growing a *lot*, and you just need something more specific to that one. Enter the [adaptive immune system](https://en.wikipedia.org/wiki/Adaptive_immune_system). This evolved later: vertebrate animals have it, but not invertebrates, plants, or fungi. And this one is *wack*. Instead of specifically targeting molecules that are definitely on pathogens, they target anything and everything that is *not* found in you. Adaptive immune cells (T cells and B cells) are each created with a *single* receptor that is randomly mutated in specific spots, so that it might detect any one protein. One T cell might react against a bacterial protein, another might react against a plant protein, another might actually react to a human lung protein. The reason your immune system isn't constantly attacking your own body is because during the maturation process, special cells show self-proteins to those T and B cells, and if they react too strongly, they get killed. Once they pass this, they're released into the rest of the body. If they detect something, it's almost definitely *not* self, and they multiply like crazy to take down that one thing, either by (T cells) directly killing your own infected cells, or (B cells) creating antibodies that stick to them and flag them for the innate immune system. I could say so much more, but this is already way too long, so...  \\n\\n**Analogy:** Each adaptive immune cell is a soldier that handcrafts a unique pair of goggles. These goggles detect, for example, *only* red and yellow plaid shirts, or *only* Calvin jeans with flowers on them. Some soldiers might accidentally end up with goggles that flag blue T-shirts or Levi's jeans, but they get eliminated before they can go around shooting everyone. The system operates on the principle that if people in those clothes are supposed to be here, the goggles for those clothes wouldn't exist. Many many many of these soldiers with these unique goggles are trained, and most of them go their whole lives without shooting anybody. But once someone's goggles detect something, they call in a SWAT team to shoot everyone carrying that one feature.\\n\\n.\\n\\nHow does this relate to organ transplants? It all has to do with that second group. Your adaptive immune cells don't *know* that the foreign organ is supposed to help. Your soldiers don't know that that big group of people with white shirts and white pants is supposed to be another country's relief group coming in to help. Their goggles flag DANGER anyway. That's why when someone receives an organ transplant, they have to take immunosuppressants--stop the whole army.</td>\n",
       "    </tr>\n",
       "    <tr>\n",
       "      <th>15</th>\n",
       "      <td>ELI5 Why can't magnets create a true perpetual motion device.</td>\n",
       "      <td>2019/08/25 06:55:52</td>\n",
       "      <td>The short answer is that anything moving towards and then away from a magnet leaves with the same energy that it came in with. No arrangement of magnets can change this simple fact. The result is that a wheel cannot be spun by magnets unless the magnets themselves spin.</td>\n",
       "      <td>Because perpetual motion machines violate the second law of thermodynamics.  You can't break laws of physics, they are universally enforced.\\n\\nNearly perpetual motion is easy.  The Earth goes around the Sun because of gravity.  This motion has gone on for billions of years without any added energy.  It will go on for billions more, until the Sun grows larger and melts the Earth.\\n\\nIf this is \"perpetual\" enough for you, all you need is a vacuum as hard as outer space.  Magnetism is reversible enough if you eliminate friction.</td>\n",
       "      <td>Magnets are not a source of energy at all. They are just like springs: you can stretch things (pulling magnetically attracted objects apart) or release them (let the magnets pull them together), but no energy is created in this process, and in fact a little bit is lost/wasted due to friction.</td>\n",
       "      <td>How can you continually remove energy from a system without disrupting the system? Magnets aren’t magical. If you’ve got a series of magnets that’s doing *something*, you’ve put the energy into setting that up and setting it in motion - how can you get anything out of that without changing the way it works? And how would that change not inevitably disrupt the conditions you already put energy into setting up?\\n\\nIt all ends up being a net zero. Energy has to come from somewhere. It’s never free.</td>\n",
       "      <td>Magnets lose their magnetism over long periods of time, also arranging lots of magnets together they will eventually change to form a large single magnet.</td>\n",
       "    </tr>\n",
       "    <tr>\n",
       "      <th>19</th>\n",
       "      <td>Why do humans instinctively react to objects moving quickly towards them by closing their eyes or looking away?</td>\n",
       "      <td>2019/08/25 06:17:45</td>\n",
       "      <td>We instinctively duck if it's a large object, but close our eyes if it looks smaller, because that would be an insect or some dust.</td>\n",
       "      <td>It’s mainly about protecting your eyes. Pretty much any other part of your body can heal quite well but if you damage your eyes or even just one of them it can make survival extremely difficult.</td>\n",
       "      <td>The opposite, actually. If you don’t look away, you wind up getting hit in the eyes or face instead of the side of the head. Ideally you wouldn’t get hit anywhere in the head, but if you’re going to get hit somewhere, the eyes and face is definitely not what you want to be in the line of fire.</td>\n",
       "      <td>But what if it's clearly something that can be blocked, dodged or caught? Wouldn't it be better to completely prevent it rather than be hit in the side of the head with something that could potentially be fatal?</td>\n",
       "      <td>It’s an instinctive reaction specifically so that it happens in situations where you don’t have time to fully process and react.\\n\\nThere are a lot more things that can damage your eyes or face than can damage your skull, so on the whole it has been better to have a split second reaction that places emphasis on protecting vital and vulnerable parts over trying to catch something but putting those parts at risk in the fairly likely event that you fail.</td>\n",
       "    </tr>\n",
       "    <tr>\n",
       "      <th>9</th>\n",
       "      <td>How do radar machines time light in order to calculate distance if light is hundreds of times faster than electricity?</td>\n",
       "      <td>2019/08/25 06:13:32</td>\n",
       "      <td>Because it isn't. Electricity in a wire travels at 30 to 90 percent of the speed of light. So your premise is, fortunately, incorrect.</td>\n",
       "      <td>Much older systems would separate the emitter and receiver, but newer versions just integrate both functions into the same unit. Still, there is no switching; as you say that would be impractical. Rather it is always \"listening\" passively, or listening for returns from the emitting portion.</td>\n",
       "      <td>Not sure how a radar machine works but electricity moves at 95% the speed of light through a copper wire.</td>\n",
       "      <td>Radar units have what’s called a “circulator”.    It’s a device the antenna, transmitter, and receiver all connect to. The circulator is built so that the signal from the transmitter goes out to the antenna (but not back into the receiver) and the signal back from the antenna only goes back to the receiver. There is no need for a transmit/receive switch.</td>\n",
       "      <td>Ah. I think I was reading how fast electrons travel not electricity. Big difference</td>\n",
       "    </tr>\n",
       "  </tbody>\n",
       "</table>\n",
       "</div>"
      ],
      "text/plain": [
       "                                                                                                                                                                      Reddit  \\\n",
       "25  ELI5 How do musicians know that the chord progressions and other aspects of music they compose havent been composed by someone else yet?                                   \n",
       "12  Just read that when an organ is transplanted, the recipients immune system attacks the organ restlessly. Why does this happen if the recipient needed the organ to live?   \n",
       "15  ELI5 Why can't magnets create a true perpetual motion device.                                                                                                              \n",
       "19  Why do humans instinctively react to objects moving quickly towards them by closing their eyes or looking away?                                                            \n",
       "9   How do radar machines time light in order to calculate distance if light is hundreds of times faster than electricity?                                                     \n",
       "\n",
       "              TimeStamp  \\\n",
       "25  2019/08/25 08:20:47   \n",
       "12  2019/08/25 07:31:26   \n",
       "15  2019/08/25 06:55:52   \n",
       "19  2019/08/25 06:17:45   \n",
       "9   2019/08/25 06:13:32   \n",
       "\n",
       "                                                                                                                                                                                                                                                                                                                                                Comment1  \\\n",
       "25  We don't. We just show up to practice all proud of ourselves for writing a cool riff untill the rest of the band goes \"isn't that an old riff from that one band\" and you swear you came up with it but you know that about 10 years ago you were really into that band so even though you can't remember the song, you probably did steal the riff.   \n",
       "12  The word is relentlessly.\\n\\nBasically, the body doesn't know that it needs that organ.  The immune system isn't some intelligent being that can understand organ transplants.  All it knows is that there is a mass  that doesn't match the body, so it needs to kill it.                                                                             \n",
       "15  The short answer is that anything moving towards and then away from a magnet leaves with the same energy that it came in with. No arrangement of magnets can change this simple fact. The result is that a wheel cannot be spun by magnets unless the magnets themselves spin.                                                                         \n",
       "19  We instinctively duck if it's a large object, but close our eyes if it looks smaller, because that would be an insect or some dust.                                                                                                                                                                                                                    \n",
       "9   Because it isn't. Electricity in a wire travels at 30 to 90 percent of the speed of light. So your premise is, fortunately, incorrect.                                                                                                                                                                                                                 \n",
       "\n",
       "                                                                                                                                                                                                                                                                                                                                                                                                                                                                                                                                                Comment2  \\\n",
       "25  We don't, considering music as a whole dates back probably even farther than the beginnings of recorded history.                                                                                                                                                                                                                                                                                                                                                                                                                                       \n",
       "12  Your immune system isn't smart enough to know that the transplanted organ it's helpful or necessary. It just finds foreign material is a place where foreign material is not supposed to be, so it does its thing and attacks it. Keep in mind this is all triggered by a complex series of chemical reactions, there's no thinking involved.                                                                                                                                                                                                          \n",
       "15  Because perpetual motion machines violate the second law of thermodynamics.  You can't break laws of physics, they are universally enforced.\\n\\nNearly perpetual motion is easy.  The Earth goes around the Sun because of gravity.  This motion has gone on for billions of years without any added energy.  It will go on for billions more, until the Sun grows larger and melts the Earth.\\n\\nIf this is \"perpetual\" enough for you, all you need is a vacuum as hard as outer space.  Magnetism is reversible enough if you eliminate friction.   \n",
       "19  It’s mainly about protecting your eyes. Pretty much any other part of your body can heal quite well but if you damage your eyes or even just one of them it can make survival extremely difficult.                                                                                                                                                                                                                                                                                                                                                     \n",
       "9   Much older systems would separate the emitter and receiver, but newer versions just integrate both functions into the same unit. Still, there is no switching; as you say that would be impractical. Rather it is always \"listening\" passively, or listening for returns from the emitting portion.                                                                                                                                                                                                                                                    \n",
       "\n",
       "                                                                                                                                                                                                                                                                                                                                                                                                                                                                                                                                                                                                                                                                                                                                                                                                                                                                                                                                                                                                                                                                                                                                                                                                                                     Comment3  \\\n",
       "25  Sometimes we don’t realize we’ve ripped off a song, at least not immediately (this has happened to me several times), sometimes we do but we think we can make it different enough that no one will notice or care. And sometimes it’s just a big fat coincidence. Since there’s only 12 notes (in the western scale, that is) and most things are in 4/4 time you kind of just have to roll the dice. \\n\\nSome anecdotes: \\n* Paul McCartney claims to have come up with the melody of the Beatles song “Yesterday” in a dream and immediately recorded a quick demo upon waking up, and spent a while showing it to various people before finishing it, to make sure he hadn’t unconsciously ripped someone off. \\n\\n* Another Beatle George Harrison claims he didn’t *consciously* plagiarize the doo-wop song “He’s So Fine” in writing “My Sweet Lord”, but he lost a lawsuit about it anyway.\\n\\n* The Flaming Lips realized while recording the song “Fight Test” that it sounded a lot like Cat Stevens’ “Father and Son”, and changed some bits accordingly, but it was still similar enough that Stevens filed suit and now he receives 75% of the song’s royalties. \\n\\nEDIT: realized I misremembered the flaming lips thing   \n",
       "12  Your immune system isn't a planning entity. It's more like a simple algorithm. All it sees is a foreign organism invading the host, on account of the implanted organ has different chemical identifiers than home grown tissue would. \\n\\n\"If I removed this organ I would die\" isn't a thought that would occur to your immune system cause it doesn't think in any meaningful way.                                                                                                                                                                                                                                                                                                                                                                                                                                                                                                                                                                                                                                                                                                                                                                                                                                                       \n",
       "15  Magnets are not a source of energy at all. They are just like springs: you can stretch things (pulling magnetically attracted objects apart) or release them (let the magnets pull them together), but no energy is created in this process, and in fact a little bit is lost/wasted due to friction.                                                                                                                                                                                                                                                                                                                                                                                                                                                                                                                                                                                                                                                                                                                                                                                                                                                                                                                                       \n",
       "19  The opposite, actually. If you don’t look away, you wind up getting hit in the eyes or face instead of the side of the head. Ideally you wouldn’t get hit anywhere in the head, but if you’re going to get hit somewhere, the eyes and face is definitely not what you want to be in the line of fire.                                                                                                                                                                                                                                                                                                                                                                                                                                                                                                                                                                                                                                                                                                                                                                                                                                                                                                                                      \n",
       "9   Not sure how a radar machine works but electricity moves at 95% the speed of light through a copper wire.                                                                                                                                                                                                                                                                                                                                                                                                                                                                                                                                                                                                                                                                                                                                                                                                                                                                                                                                                                                                                                                                                                                                   \n",
       "\n",
       "                                                                                                                                                                                                                                                                                                                                                                                                                                                                                                                Comment4  \\\n",
       "25  They don't. In fact, most likely than not they already *have* been used in the past. Just [listen to this](https://www.youtube.com/watch?v=5pidokakU4I#t=23s) for proof.                                                                                                                                                                                                                                                                                                                                               \n",
       "12  The organ is a foreign entity to the body. It does not naturally belong there and it does not matter if the body needs it to survive, the body does not know that and so attacks it like it does all foreign entities that get inside the body.                                                                                                                                                                                                                                                                        \n",
       "15  How can you continually remove energy from a system without disrupting the system? Magnets aren’t magical. If you’ve got a series of magnets that’s doing *something*, you’ve put the energy into setting that up and setting it in motion - how can you get anything out of that without changing the way it works? And how would that change not inevitably disrupt the conditions you already put energy into setting up?\\n\\nIt all ends up being a net zero. Energy has to come from somewhere. It’s never free.   \n",
       "19  But what if it's clearly something that can be blocked, dodged or caught? Wouldn't it be better to completely prevent it rather than be hit in the side of the head with something that could potentially be fatal?                                                                                                                                                                                                                                                                                                    \n",
       "9   Radar units have what’s called a “circulator”.    It’s a device the antenna, transmitter, and receiver all connect to. The circulator is built so that the signal from the transmitter goes out to the antenna (but not back into the receiver) and the signal back from the antenna only goes back to the receiver. There is no need for a transmit/receive switch.                                                                                                                                                   \n",
       "\n",
       "                                                                                                                                                                                                                                                                                                                                                                                                                                                                                                                                                                                                                                                                                                                                                                                                                                                                                                                                                                                                                                                                                                                                                                                                                                                                                                                                                                                                                                                                                                                                                                                                                                                                                                                                                                                                                                                                                                                                                                                                                                                                                                                                                                                                                                                                                                                                                                                                                                                                                                                                                                                                                                                                                                                                                                                                                                                                                                                                                                                                                                                                                                                                                                                                                                                                                                                                                                                                                                                                                                                                                                                                                                                                                                                                                                                                                                                                                                                                                                                                                                                                                                                                                                                                                                                                   Comment5  \n",
       "25  Huh, interesting stories, is there any list of these?                                                                                                                                                                                                                                                                                                                                                                                                                                                                                                                                                                                                                                                                                                                                                                                                                                                                                                                                                                                                                                                                                                                                                                                                                                                                                                                                                                                                                                                                                                                                                                                                                                                                                                                                                                                                                                                                                                                                                                                                                                                                                                                                                                                                                                                                                                                                                                                                                                                                                                                                                                                                                                                                                                                                                                                                                                                                                                                                                                                                                                                                                                                                                                                                                                                                                                                                                                                                                                                                                                                                                                                                                                                                                                                                                                                                                                                                                                                                                                                                                                                                                                                                                                                                                    \n",
       "12  To add more info on top of everyone else's direct answers to the question, the immune system isn't really one cohesive unit so much as a hodgepodge of different types of cells that stack on top of each other (but also talk to each other a ton). Wall incoming...\\n\\n.\\n\\nThe first part is the [innate immune system](https://en.wikipedia.org/wiki/Innate_immune_system), which *most* organisms have some form of. It depends on a basic set of receptors for specific structures common to pathogens. For example, lots of bacteria have flagella, whiplike structures poking out of their bodies to move/swim. They're made of a protein called flagellin, which isn't in any of our cells. Innate immune cells have a specific receptor for flagellin. If there's some in your liver, neutrophils, macrophages, etc. recognize that it's not supposed to be there, and they gobble up or poison the bacteria.  \\n\\n**Analogy:** Your body is a country where everyone wears blue T-shirts and Levi's jeans and no one ever wears hats. Bacteria and viruses can wear hats or other clothes. The innate immune system is a militia army all across the country. They wear mass-produced special goggles that trigger a DANGER signal when they see someone wearing hats, or jackets, or leggings. Then they group up and go fight them with knives and axes.\\n\\n.\\n\\nBut that doesn't always work, some bacteria might mutate their flagellin to be less \"visible\" (camo hats) or just hide it outright. Sometimes a single bacteria is growing a *lot*, and you just need something more specific to that one. Enter the [adaptive immune system](https://en.wikipedia.org/wiki/Adaptive_immune_system). This evolved later: vertebrate animals have it, but not invertebrates, plants, or fungi. And this one is *wack*. Instead of specifically targeting molecules that are definitely on pathogens, they target anything and everything that is *not* found in you. Adaptive immune cells (T cells and B cells) are each created with a *single* receptor that is randomly mutated in specific spots, so that it might detect any one protein. One T cell might react against a bacterial protein, another might react against a plant protein, another might actually react to a human lung protein. The reason your immune system isn't constantly attacking your own body is because during the maturation process, special cells show self-proteins to those T and B cells, and if they react too strongly, they get killed. Once they pass this, they're released into the rest of the body. If they detect something, it's almost definitely *not* self, and they multiply like crazy to take down that one thing, either by (T cells) directly killing your own infected cells, or (B cells) creating antibodies that stick to them and flag them for the innate immune system. I could say so much more, but this is already way too long, so...  \\n\\n**Analogy:** Each adaptive immune cell is a soldier that handcrafts a unique pair of goggles. These goggles detect, for example, *only* red and yellow plaid shirts, or *only* Calvin jeans with flowers on them. Some soldiers might accidentally end up with goggles that flag blue T-shirts or Levi's jeans, but they get eliminated before they can go around shooting everyone. The system operates on the principle that if people in those clothes are supposed to be here, the goggles for those clothes wouldn't exist. Many many many of these soldiers with these unique goggles are trained, and most of them go their whole lives without shooting anybody. But once someone's goggles detect something, they call in a SWAT team to shoot everyone carrying that one feature.\\n\\n.\\n\\nHow does this relate to organ transplants? It all has to do with that second group. Your adaptive immune cells don't *know* that the foreign organ is supposed to help. Your soldiers don't know that that big group of people with white shirts and white pants is supposed to be another country's relief group coming in to help. Their goggles flag DANGER anyway. That's why when someone receives an organ transplant, they have to take immunosuppressants--stop the whole army.  \n",
       "15  Magnets lose their magnetism over long periods of time, also arranging lots of magnets together they will eventually change to form a large single magnet.                                                                                                                                                                                                                                                                                                                                                                                                                                                                                                                                                                                                                                                                                                                                                                                                                                                                                                                                                                                                                                                                                                                                                                                                                                                                                                                                                                                                                                                                                                                                                                                                                                                                                                                                                                                                                                                                                                                                                                                                                                                                                                                                                                                                                                                                                                                                                                                                                                                                                                                                                                                                                                                                                                                                                                                                                                                                                                                                                                                                                                                                                                                                                                                                                                                                                                                                                                                                                                                                                                                                                                                                                                                                                                                                                                                                                                                                                                                                                                                                                                                                                                               \n",
       "19  It’s an instinctive reaction specifically so that it happens in situations where you don’t have time to fully process and react.\\n\\nThere are a lot more things that can damage your eyes or face than can damage your skull, so on the whole it has been better to have a split second reaction that places emphasis on protecting vital and vulnerable parts over trying to catch something but putting those parts at risk in the fairly likely event that you fail.                                                                                                                                                                                                                                                                                                                                                                                                                                                                                                                                                                                                                                                                                                                                                                                                                                                                                                                                                                                                                                                                                                                                                                                                                                                                                                                                                                                                                                                                                                                                                                                                                                                                                                                                                                                                                                                                                                                                                                                                                                                                                                                                                                                                                                                                                                                                                                                                                                                                                                                                                                                                                                                                                                                                                                                                                                                                                                                                                                                                                                                                                                                                                                                                                                                                                                                                                                                                                                                                                                                                                                                                                                                                                                                                                                                                  \n",
       "9   Ah. I think I was reading how fast electrons travel not electricity. Big difference                                                                                                                                                                                                                                                                                                                                                                                                                                                                                                                                                                                                                                                                                                                                                                                                                                                                                                                                                                                                                                                                                                                                                                                                                                                                                                                                                                                                                                                                                                                                                                                                                                                                                                                                                                                                                                                                                                                                                                                                                                                                                                                                                                                                                                                                                                                                                                                                                                                                                                                                                                                                                                                                                                                                                                                                                                                                                                                                                                                                                                                                                                                                                                                                                                                                                                                                                                                                                                                                                                                                                                                                                                                                                                                                                                                                                                                                                                                                                                                                                                                                                                                                                                                      "
      ]
     },
     "execution_count": 9,
     "metadata": {},
     "output_type": "execute_result"
    }
   ],
   "source": [
    "d_all.head()"
   ]
  }
 ],
 "metadata": {
  "kernelspec": {
   "display_name": "Python 3",
   "language": "python",
   "name": "python3"
  },
  "language_info": {
   "codemirror_mode": {
    "name": "ipython",
    "version": 3
   },
   "file_extension": ".py",
   "mimetype": "text/x-python",
   "name": "python",
   "nbconvert_exporter": "python",
   "pygments_lexer": "ipython3",
   "version": "3.7.3"
  },
  "toc": {
   "base_numbering": 1,
   "nav_menu": {},
   "number_sections": true,
   "sideBar": true,
   "skip_h1_title": false,
   "title_cell": "Table of Contents",
   "title_sidebar": "Contents",
   "toc_cell": false,
   "toc_position": {},
   "toc_section_display": true,
   "toc_window_display": false
  },
  "varInspector": {
   "cols": {
    "lenName": 16,
    "lenType": 16,
    "lenVar": 40
   },
   "kernels_config": {
    "python": {
     "delete_cmd_postfix": "",
     "delete_cmd_prefix": "del ",
     "library": "var_list.py",
     "varRefreshCmd": "print(var_dic_list())"
    },
    "r": {
     "delete_cmd_postfix": ") ",
     "delete_cmd_prefix": "rm(",
     "library": "var_list.r",
     "varRefreshCmd": "cat(var_dic_list()) "
    }
   },
   "types_to_exclude": [
    "module",
    "function",
    "builtin_function_or_method",
    "instance",
    "_Feature"
   ],
   "window_display": false
  }
 },
 "nbformat": 4,
 "nbformat_minor": 2
}
