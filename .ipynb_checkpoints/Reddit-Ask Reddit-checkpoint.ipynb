{
 "cells": [
  {
   "cell_type": "markdown",
   "metadata": {},
   "source": [
    "# Libraries"
   ]
  },
  {
   "cell_type": "code",
   "execution_count": 13,
   "metadata": {
    "ExecuteTime": {
     "end_time": "2019-07-28T09:59:08.049038Z",
     "start_time": "2019-07-28T09:59:08.043053Z"
    }
   },
   "outputs": [],
   "source": [
    "import praw\n",
    "import pandas as pd\n",
    "from tqdm import tqdm\n",
    "from datetime import datetime"
   ]
  },
  {
   "cell_type": "code",
   "execution_count": 14,
   "metadata": {
    "ExecuteTime": {
     "end_time": "2019-07-28T09:59:08.247264Z",
     "start_time": "2019-07-28T09:59:08.057975Z"
    }
   },
   "outputs": [],
   "source": [
    "pd.options.display.max_colwidth = -1"
   ]
  },
  {
   "cell_type": "markdown",
   "metadata": {},
   "source": [
    "# Scraping"
   ]
  },
  {
   "cell_type": "code",
   "execution_count": 15,
   "metadata": {
    "ExecuteTime": {
     "end_time": "2019-07-28T09:59:08.391389Z",
     "start_time": "2019-07-28T09:59:08.251139Z"
    }
   },
   "outputs": [],
   "source": [
    "with open('E:/RedditCredentials.txt') as f:\n",
    "    credentials = list(map(lambda x: x.strip(), f.readlines()))"
   ]
  },
  {
   "cell_type": "code",
   "execution_count": 16,
   "metadata": {
    "ExecuteTime": {
     "end_time": "2019-07-28T09:59:10.467939Z",
     "start_time": "2019-07-28T09:59:08.395827Z"
    }
   },
   "outputs": [
    {
     "name": "stdout",
     "output_type": "stream",
     "text": [
      "Ritvik19\n"
     ]
    }
   ],
   "source": [
    "reddit = praw.Reddit(client_id=credentials[0],\n",
    "                     client_secret=credentials[1],\n",
    "                     password=credentials[2],\n",
    "                     user_agent=credentials[3],\n",
    "                     username=credentials[4])\n",
    "print(reddit.user.me())"
   ]
  },
  {
   "cell_type": "code",
   "execution_count": 17,
   "metadata": {
    "ExecuteTime": {
     "end_time": "2019-07-28T10:19:23.170369Z",
     "start_time": "2019-07-28T09:59:10.471971Z"
    }
   },
   "outputs": [
    {
     "name": "stderr",
     "output_type": "stream",
     "text": [
      "940it [20:12,  1.23it/s]\n"
     ]
    }
   ],
   "source": [
    "subreddit = reddit.subreddit('AskReddit')\n",
    "redds = []\n",
    "ts = []\n",
    "comment1 = []\n",
    "comment2 = []\n",
    "comment3 = []\n",
    "comment4 = []\n",
    "comment5 = []\n",
    "\n",
    "top_subreddit = subreddit.hot(limit=1000)\n",
    "for sr in tqdm(top_subreddit):\n",
    "    if not sr.stickied:\n",
    "        comments = sr.comments.list()\n",
    "        if len(comments) >= 5:\n",
    "            redds.append(sr.title)\n",
    "            ts.append(sr.created_utc)\n",
    "            comment1.append(comments[0].body)\n",
    "            comment2.append(comments[1].body)\n",
    "            comment3.append(comments[2].body)\n",
    "            comment4.append(comments[3].body)\n",
    "            comment5.append(comments[4].body)                "
   ]
  },
  {
   "cell_type": "code",
   "execution_count": 18,
   "metadata": {
    "ExecuteTime": {
     "end_time": "2019-07-28T10:19:23.209814Z",
     "start_time": "2019-07-28T10:19:23.178404Z"
    }
   },
   "outputs": [],
   "source": [
    "ts = list(map(lambda x : datetime.fromtimestamp(x).strftime(\"%Y/%m/%d %H:%M:%S\"), ts))"
   ]
  },
  {
   "cell_type": "code",
   "execution_count": 19,
   "metadata": {
    "ExecuteTime": {
     "end_time": "2019-07-28T10:19:23.430217Z",
     "start_time": "2019-07-28T10:19:23.215788Z"
    }
   },
   "outputs": [],
   "source": [
    "FILEPATH = 'E:/Scrapped-Data/Reddit-Ask Reddit.csv'"
   ]
  },
  {
   "cell_type": "code",
   "execution_count": 20,
   "metadata": {
    "ExecuteTime": {
     "end_time": "2019-07-28T10:19:23.593269Z",
     "start_time": "2019-07-28T10:19:23.433205Z"
    }
   },
   "outputs": [],
   "source": [
    "# First Time\n",
    "# d_all = pd.DataFrame({'Reddit':redds, 'TimeStamp':ts, 'Comment1':comment1, 'Comment2':comment2, 'Comment3':comment3, \n",
    "#                       'Comment4':comment4, 'Comment5':comment5})\n",
    "# d_all.drop_duplicates(subset=['Reddit'],inplace=True)\n",
    "# d_all.sort_values('TimeStamp', ascending=False, inplace=True)\n",
    "# d_all.to_csv(FILEPATH, index=False)"
   ]
  },
  {
   "cell_type": "code",
   "execution_count": 21,
   "metadata": {
    "ExecuteTime": {
     "end_time": "2019-07-28T10:19:24.138228Z",
     "start_time": "2019-07-28T10:19:23.597584Z"
    }
   },
   "outputs": [],
   "source": [
    "d_old = pd.read_csv(FILEPATH)\n",
    "d_new = pd.DataFrame({'Reddit':redds, 'TimeStamp':ts, 'Comment1':comment1, 'Comment2':comment2, 'Comment3':comment3, \n",
    "                      'Comment4':comment4, 'Comment5':comment5})\n",
    "\n",
    "d_all = pd.concat([d_new, d_old], axis=0)\n",
    "d_all.drop_duplicates(subset=['Reddit'],inplace=True)\n",
    "d_all.sort_values('TimeStamp', ascending=False, inplace=True)\n",
    "d_all.to_csv(FILEPATH, index=False)"
   ]
  },
  {
   "cell_type": "code",
   "execution_count": 22,
   "metadata": {
    "ExecuteTime": {
     "end_time": "2019-07-28T10:19:24.170180Z",
     "start_time": "2019-07-28T10:19:24.143213Z"
    }
   },
   "outputs": [
    {
     "data": {
      "text/html": [
       "<div>\n",
       "<style scoped>\n",
       "    .dataframe tbody tr th:only-of-type {\n",
       "        vertical-align: middle;\n",
       "    }\n",
       "\n",
       "    .dataframe tbody tr th {\n",
       "        vertical-align: top;\n",
       "    }\n",
       "\n",
       "    .dataframe thead th {\n",
       "        text-align: right;\n",
       "    }\n",
       "</style>\n",
       "<table border=\"1\" class=\"dataframe\">\n",
       "  <thead>\n",
       "    <tr style=\"text-align: right;\">\n",
       "      <th></th>\n",
       "      <th>Reddit</th>\n",
       "      <th>TimeStamp</th>\n",
       "      <th>Comment1</th>\n",
       "      <th>Comment2</th>\n",
       "      <th>Comment3</th>\n",
       "      <th>Comment4</th>\n",
       "      <th>Comment5</th>\n",
       "    </tr>\n",
       "  </thead>\n",
       "  <tbody>\n",
       "    <tr>\n",
       "      <th>568</th>\n",
       "      <td>What's is the best gift to buy a 2 year old?</td>\n",
       "      <td>2019/07/28 15:41:53</td>\n",
       "      <td>A gun</td>\n",
       "      <td>Boy or girl?</td>\n",
       "      <td>Duplos, playdoh, coloring books, crayons, toys, blankets.</td>\n",
       "      <td>Anything that comes in a big box, or just get a big box. Dont waste big money a toddler.</td>\n",
       "      <td>A girl, but I'm looking for something gender neutral.</td>\n",
       "    </tr>\n",
       "    <tr>\n",
       "      <th>572</th>\n",
       "      <td>What’s the best cake?</td>\n",
       "      <td>2019/07/28 15:41:10</td>\n",
       "      <td>Ice cream cake</td>\n",
       "      <td>Ice cream</td>\n",
       "      <td>Red Velvet, it’s like chocolate but sexy</td>\n",
       "      <td>#🍰</td>\n",
       "      <td>Red velvet</td>\n",
       "    </tr>\n",
       "    <tr>\n",
       "      <th>578</th>\n",
       "      <td>How come people find its acceptable to evangelise atheism but hate when religious people do the same?</td>\n",
       "      <td>2019/07/28 15:38:35</td>\n",
       "      <td>Because \"It's OK when I do it, but not for anyone else to do the same\".\\n\\nBasically, people are self-important idiots with very poor rationalization skills.</td>\n",
       "      <td>Atheism is hip and cool right now. \\n\\nI’m an atheist and I totally agree with you. People need to get off their high horse</td>\n",
       "      <td>Because the truth of the matter is that God, any god, does not exist. And advocating lies like God does exist is annoying as fuck, the same way Flat Earther, antivaxxers or evolution deniers are annoying.</td>\n",
       "      <td>Even atheists are wrong, we got the same God than in evangelion neon genesis or i reset the universe</td>\n",
       "      <td>atheism to me is just saying \"dont believe the religious claims because they can't be demonstrated\"  but if you do, then dont expect me to believe the same stuff</td>\n",
       "    </tr>\n",
       "    <tr>\n",
       "      <th>584</th>\n",
       "      <td>Do you plan for death? If so, how?</td>\n",
       "      <td>2019/07/28 15:36:35</td>\n",
       "      <td>I sleep in a coffin.</td>\n",
       "      <td>Checked the organ donation box on my driver's license.</td>\n",
       "      <td>I live</td>\n",
       "      <td>No. But it is smart to do so i guess.</td>\n",
       "      <td>To the point where mine is, in fact, planned. Yes.</td>\n",
       "    </tr>\n",
       "    <tr>\n",
       "      <th>585</th>\n",
       "      <td>Which subreddit makes you feel uncomfortable?</td>\n",
       "      <td>2019/07/28 15:36:32</td>\n",
       "      <td>r/childporn</td>\n",
       "      <td>r/imsorryjon\\n\\nIt's awesome tho</td>\n",
       "      <td>r/catsstandingup</td>\n",
       "      <td>R/depression</td>\n",
       "      <td>r/popping yet every time I open it I can’t stop looking. Disgusting yet beautiful in a strange way.</td>\n",
       "    </tr>\n",
       "  </tbody>\n",
       "</table>\n",
       "</div>"
      ],
      "text/plain": [
       "                                                                                                    Reddit  \\\n",
       "568  What's is the best gift to buy a 2 year old?                                                            \n",
       "572  What’s the best cake?                                                                                   \n",
       "578  How come people find its acceptable to evangelise atheism but hate when religious people do the same?   \n",
       "584  Do you plan for death? If so, how?                                                                      \n",
       "585  Which subreddit makes you feel uncomfortable?                                                           \n",
       "\n",
       "               TimeStamp  \\\n",
       "568  2019/07/28 15:41:53   \n",
       "572  2019/07/28 15:41:10   \n",
       "578  2019/07/28 15:38:35   \n",
       "584  2019/07/28 15:36:35   \n",
       "585  2019/07/28 15:36:32   \n",
       "\n",
       "                                                                                                                                                          Comment1  \\\n",
       "568  A gun                                                                                                                                                           \n",
       "572  Ice cream cake                                                                                                                                                  \n",
       "578  Because \"It's OK when I do it, but not for anyone else to do the same\".\\n\\nBasically, people are self-important idiots with very poor rationalization skills.   \n",
       "584  I sleep in a coffin.                                                                                                                                            \n",
       "585  r/childporn                                                                                                                                                     \n",
       "\n",
       "                                                                                                                        Comment2  \\\n",
       "568  Boy or girl?                                                                                                                  \n",
       "572  Ice cream                                                                                                                     \n",
       "578  Atheism is hip and cool right now. \\n\\nI’m an atheist and I totally agree with you. People need to get off their high horse   \n",
       "584  Checked the organ donation box on my driver's license.                                                                        \n",
       "585  r/imsorryjon\\n\\nIt's awesome tho                                                                                              \n",
       "\n",
       "                                                                                                                                                                                                         Comment3  \\\n",
       "568  Duplos, playdoh, coloring books, crayons, toys, blankets.                                                                                                                                                      \n",
       "572  Red Velvet, it’s like chocolate but sexy                                                                                                                                                                       \n",
       "578  Because the truth of the matter is that God, any god, does not exist. And advocating lies like God does exist is annoying as fuck, the same way Flat Earther, antivaxxers or evolution deniers are annoying.   \n",
       "584  I live                                                                                                                                                                                                         \n",
       "585  r/catsstandingup                                                                                                                                                                                               \n",
       "\n",
       "                                                                                                 Comment4  \\\n",
       "568  Anything that comes in a big box, or just get a big box. Dont waste big money a toddler.               \n",
       "572  #🍰                                                                                                     \n",
       "578  Even atheists are wrong, we got the same God than in evangelion neon genesis or i reset the universe   \n",
       "584  No. But it is smart to do so i guess.                                                                  \n",
       "585  R/depression                                                                                           \n",
       "\n",
       "                                                                                                                                                              Comment5  \n",
       "568  A girl, but I'm looking for something gender neutral.                                                                                                              \n",
       "572  Red velvet                                                                                                                                                         \n",
       "578  atheism to me is just saying \"dont believe the religious claims because they can't be demonstrated\"  but if you do, then dont expect me to believe the same stuff  \n",
       "584  To the point where mine is, in fact, planned. Yes.                                                                                                                 \n",
       "585  r/popping yet every time I open it I can’t stop looking. Disgusting yet beautiful in a strange way.                                                                "
      ]
     },
     "execution_count": 22,
     "metadata": {},
     "output_type": "execute_result"
    }
   ],
   "source": [
    "d_all.head()"
   ]
  },
  {
   "cell_type": "code",
   "execution_count": 23,
   "metadata": {
    "ExecuteTime": {
     "end_time": "2019-07-28T10:19:24.355695Z",
     "start_time": "2019-07-28T10:19:24.173446Z"
    }
   },
   "outputs": [
    {
     "name": "stdout",
     "output_type": "stream",
     "text": [
      "202 New Reddits\n"
     ]
    }
   ],
   "source": [
    "print(f'{len(d_all)-len(d_old)} New Reddits')"
   ]
  },
  {
   "cell_type": "code",
   "execution_count": 24,
   "metadata": {
    "ExecuteTime": {
     "end_time": "2019-07-28T10:19:24.513488Z",
     "start_time": "2019-07-28T10:19:24.360681Z"
    }
   },
   "outputs": [
    {
     "data": {
      "text/plain": [
       "1148"
      ]
     },
     "execution_count": 24,
     "metadata": {},
     "output_type": "execute_result"
    }
   ],
   "source": [
    "len(d_all)"
   ]
  },
  {
   "cell_type": "code",
   "execution_count": null,
   "metadata": {},
   "outputs": [],
   "source": []
  }
 ],
 "metadata": {
  "kernelspec": {
   "display_name": "Python 3",
   "language": "python",
   "name": "python3"
  },
  "language_info": {
   "codemirror_mode": {
    "name": "ipython",
    "version": 3
   },
   "file_extension": ".py",
   "mimetype": "text/x-python",
   "name": "python",
   "nbconvert_exporter": "python",
   "pygments_lexer": "ipython3",
   "version": "3.7.3"
  },
  "toc": {
   "base_numbering": 1,
   "nav_menu": {},
   "number_sections": true,
   "sideBar": true,
   "skip_h1_title": false,
   "title_cell": "Table of Contents",
   "title_sidebar": "Contents",
   "toc_cell": false,
   "toc_position": {},
   "toc_section_display": true,
   "toc_window_display": false
  },
  "varInspector": {
   "cols": {
    "lenName": 16,
    "lenType": 16,
    "lenVar": 40
   },
   "kernels_config": {
    "python": {
     "delete_cmd_postfix": "",
     "delete_cmd_prefix": "del ",
     "library": "var_list.py",
     "varRefreshCmd": "print(var_dic_list())"
    },
    "r": {
     "delete_cmd_postfix": ") ",
     "delete_cmd_prefix": "rm(",
     "library": "var_list.r",
     "varRefreshCmd": "cat(var_dic_list()) "
    }
   },
   "types_to_exclude": [
    "module",
    "function",
    "builtin_function_or_method",
    "instance",
    "_Feature"
   ],
   "window_display": false
  }
 },
 "nbformat": 4,
 "nbformat_minor": 2
}
