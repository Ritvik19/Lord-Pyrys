{
 "cells": [
  {
   "cell_type": "markdown",
   "metadata": {},
   "source": [
    "# Libraries"
   ]
  },
  {
   "cell_type": "code",
   "execution_count": 1,
   "metadata": {
    "ExecuteTime": {
     "end_time": "2019-09-01T07:31:45.604460Z",
     "start_time": "2019-09-01T07:31:44.187922Z"
    }
   },
   "outputs": [],
   "source": [
    "import requests, bs4\n",
    "import numpy as np\n",
    "import pandas as pd\n",
    "from IPython.display import clear_output"
   ]
  },
  {
   "cell_type": "markdown",
   "metadata": {},
   "source": [
    "# Scraping"
   ]
  },
  {
   "cell_type": "code",
   "execution_count": 2,
   "metadata": {
    "ExecuteTime": {
     "end_time": "2019-09-01T07:31:46.505219Z",
     "start_time": "2019-09-01T07:31:45.613508Z"
    }
   },
   "outputs": [
    {
     "name": "stdout",
     "output_type": "stream",
     "text": [
      "hello\n",
      "exclamation, noun\n",
      "\n",
      "A1 used when meeting or greeting someone: \n",
      "Hello, Paul. I haven't seen you for ages.\n",
      "\n",
      "A1 something that is said at the beginning of a phone conversation: \n",
      "I know her vaguely - we've exchanged hellos a few times.\n",
      "\n",
      "› something that is said to attract someone's attention: \n",
      "I just thought I'd call by and say hello.\n",
      "\n",
      "› informal said to someone who has just said or done something stupid, especially something that shows they are not noticing what is happening: \n",
      "And a big hello (= welcome) to all the parents who've come to see the show.\n",
      "\n",
      "› old-fashioned an expression of surprise: \n",
      "\"Hello, I'd like some information about flights to the US, please.\"\n",
      "\n",
      "Read More: https://dictionary.cambridge.org/dictionary/english/hello\n"
     ]
    }
   ],
   "source": [
    "query = 'hello'\n",
    "url = 'https://dictionary.cambridge.org/dictionary/english/'+query.lower()\n",
    "\n",
    "headers = {\n",
    "    'User-Agent': 'Mozilla/5.0 (Windows NT 6.1)'\n",
    "}\n",
    "\n",
    "res = requests.get(url, headers=headers)\n",
    "if res.status_code == requests.codes.ok:\n",
    "    ressoup = bs4.BeautifulSoup(res.text, 'lxml')\n",
    "    pos = ressoup.select('div.pos-header')[0].select('span.pos')\n",
    "    pos_ = []\n",
    "    for e in pos:\n",
    "        pos_.append(e.getText().strip())\n",
    "    definition = ressoup.select('div.entry-body__el')[0].select('p.def-head.semi-flush')\n",
    "    example = ressoup.select('div.entry-body__el')[0].select('span.eg')\n",
    "    result = ressoup.select('div.entry-body__el')[0].select('span.hw')[0].getText().strip()\n",
    "    result += '\\n' + ', '.join(pos_) + '\\n\\n'\n",
    "    for e1, e2 in zip(definition, example):\n",
    "        result += e1.getText()+'\\n'+e2.getText()+'\\n\\n'\n",
    "    result += 'Read More: '+url\n",
    "    \n",
    "    print(result)\n",
    "else:\n",
    "    print('Something went wrong')"
   ]
  },
  {
   "cell_type": "code",
   "execution_count": null,
   "metadata": {},
   "outputs": [],
   "source": []
  }
 ],
 "metadata": {
  "kernelspec": {
   "display_name": "Python 3",
   "language": "python",
   "name": "python3"
  },
  "language_info": {
   "codemirror_mode": {
    "name": "ipython",
    "version": 3
   },
   "file_extension": ".py",
   "mimetype": "text/x-python",
   "name": "python",
   "nbconvert_exporter": "python",
   "pygments_lexer": "ipython3",
   "version": "3.7.3"
  },
  "toc": {
   "base_numbering": 1,
   "nav_menu": {},
   "number_sections": true,
   "sideBar": true,
   "skip_h1_title": false,
   "title_cell": "Table of Contents",
   "title_sidebar": "Contents",
   "toc_cell": false,
   "toc_position": {},
   "toc_section_display": true,
   "toc_window_display": false
  },
  "varInspector": {
   "cols": {
    "lenName": 16,
    "lenType": 16,
    "lenVar": 40
   },
   "kernels_config": {
    "python": {
     "delete_cmd_postfix": "",
     "delete_cmd_prefix": "del ",
     "library": "var_list.py",
     "varRefreshCmd": "print(var_dic_list())"
    },
    "r": {
     "delete_cmd_postfix": ") ",
     "delete_cmd_prefix": "rm(",
     "library": "var_list.r",
     "varRefreshCmd": "cat(var_dic_list()) "
    }
   },
   "types_to_exclude": [
    "module",
    "function",
    "builtin_function_or_method",
    "instance",
    "_Feature"
   ],
   "window_display": false
  }
 },
 "nbformat": 4,
 "nbformat_minor": 2
}
