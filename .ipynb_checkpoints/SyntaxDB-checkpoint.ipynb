{
 "cells": [
  {
   "cell_type": "markdown",
   "metadata": {},
   "source": [
    "# Libraries"
   ]
  },
  {
   "cell_type": "code",
   "execution_count": 1,
   "metadata": {
    "ExecuteTime": {
     "end_time": "2019-05-10T06:19:48.823374Z",
     "start_time": "2019-05-10T06:19:48.212453Z"
    }
   },
   "outputs": [],
   "source": [
    "import requests, bs4"
   ]
  },
  {
   "cell_type": "code",
   "execution_count": 2,
   "metadata": {
    "ExecuteTime": {
     "end_time": "2019-05-10T06:19:57.408055Z",
     "start_time": "2019-05-10T06:19:48.827362Z"
    }
   },
   "outputs": [],
   "source": [
    "import numpy as np\n",
    "import pandas as pd"
   ]
  },
  {
   "cell_type": "markdown",
   "metadata": {},
   "source": [
    "# Scraping URLs to be Scrapped"
   ]
  },
  {
   "cell_type": "markdown",
   "metadata": {},
   "source": [
    "## Language URLs"
   ]
  },
  {
   "cell_type": "code",
   "execution_count": 3,
   "metadata": {
    "ExecuteTime": {
     "end_time": "2019-05-10T06:19:58.556582Z",
     "start_time": "2019-05-10T06:19:57.412041Z"
    }
   },
   "outputs": [
    {
     "name": "stdout",
     "output_type": "stream",
     "text": [
      "Java https://syntaxdb.com/ref/java\n",
      "C https://syntaxdb.com/ref/c\n",
      "C++ https://syntaxdb.com/ref/cpp\n",
      "C# https://syntaxdb.com/ref/csharp\n",
      "Python https://syntaxdb.com/ref/python\n",
      "Ruby https://syntaxdb.com/ref/ruby\n",
      "JavaScript https://syntaxdb.com/ref/javascript\n",
      "Swift https://syntaxdb.com/ref/swift\n",
      "Go https://syntaxdb.com/ref/go\n"
     ]
    }
   ],
   "source": [
    "language_dict = {}\n",
    "url = 'https://syntaxdb.com/reference'\n",
    "res = requests.get(url)\n",
    "if res.status_code == requests.codes.ok:\n",
    "    ressoup = bs4.BeautifulSoup(res.text, 'lxml')\n",
    "    elems = ressoup.select('#language-dropdown .deep-purple-text')\n",
    "    for e in elems:\n",
    "        language_dict[e.getText().strip()] = 'https://syntaxdb.com'+str(e.get('href'))\n",
    "else:\n",
    "    print('Something went wrong')\n",
    "for k, v in language_dict.items():\n",
    "    print(k, v)"
   ]
  },
  {
   "cell_type": "markdown",
   "metadata": {},
   "source": [
    "## Syntax URLs"
   ]
  },
  {
   "cell_type": "code",
   "execution_count": 4,
   "metadata": {
    "ExecuteTime": {
     "end_time": "2019-05-10T06:19:58.564559Z",
     "start_time": "2019-05-10T06:19:58.560570Z"
    }
   },
   "outputs": [],
   "source": [
    "syntax_dict = {}"
   ]
  },
  {
   "cell_type": "markdown",
   "metadata": {
    "ExecuteTime": {
     "end_time": "2019-05-10T05:48:22.901316Z",
     "start_time": "2019-05-10T05:48:22.896330Z"
    }
   },
   "source": [
    "### Java"
   ]
  },
  {
   "cell_type": "code",
   "execution_count": 5,
   "metadata": {
    "ExecuteTime": {
     "end_time": "2019-05-10T06:19:59.874756Z",
     "start_time": "2019-05-10T06:19:58.568549Z"
    }
   },
   "outputs": [
    {
     "name": "stdout",
     "output_type": "stream",
     "text": [
      "['https://syntaxdb.com/ref/java/print', 'https://syntaxdb.com/ref/java/user-input', 'https://syntaxdb.com/ref/java/commenting', 'https://syntaxdb.com/ref/java/read-files', 'https://syntaxdb.com/ref/java/write-file', 'https://syntaxdb.com/ref/java/import', 'https://syntaxdb.com/ref/java/data-types', 'https://syntaxdb.com/ref/java/type-cast', 'https://syntaxdb.com/ref/java/variable-dec', 'https://syntaxdb.com/ref/java/constants', 'https://syntaxdb.com/ref/java/arrays', 'https://syntaxdb.com/ref/java/hash-maps', 'https://syntaxdb.com/ref/java/hashset', 'https://syntaxdb.com/ref/java/if', 'https://syntaxdb.com/ref/java/switch', 'https://syntaxdb.com/ref/java/ternary', 'https://syntaxdb.com/ref/java/for-loop', 'https://syntaxdb.com/ref/java/for-each', 'https://syntaxdb.com/ref/java/while', 'https://syntaxdb.com/ref/java/do-while-loop', 'https://syntaxdb.com/ref/java/try-catch', 'https://syntaxdb.com/ref/java/class-declare', 'https://syntaxdb.com/ref/java/access-mod', 'https://syntaxdb.com/ref/java/constructor', 'https://syntaxdb.com/ref/java/instantiation', 'https://syntaxdb.com/ref/java/class-var', 'https://syntaxdb.com/ref/java/method-dec', 'https://syntaxdb.com/ref/java/class-methods', 'https://syntaxdb.com/ref/java/inheritance', 'https://syntaxdb.com/ref/java/interfaces', 'https://syntaxdb.com/ref/java/abstract', 'https://syntaxdb.com/ref/java/anonymous', 'https://syntaxdb.com/ref/java/dec-exception', 'https://syntaxdb.com/ref/java/throw-excep', 'https://syntaxdb.com/ref/java/string-var', 'https://syntaxdb.com/ref/java/string-length', 'https://syntaxdb.com/ref/java/string-compare', 'https://syntaxdb.com/ref/java/trim', 'https://syntaxdb.com/ref/java/split', 'https://syntaxdb.com/ref/java/substring', 'https://syntaxdb.com/ref/java/string-rep'] 41\n"
     ]
    }
   ],
   "source": [
    "urls = []\n",
    "res = requests.get('https://syntaxdb.com/ref/java')\n",
    "if res.status_code == requests.codes.ok:\n",
    "    ressoup = bs4.BeautifulSoup(res.text, 'lxml')\n",
    "    elems = ressoup.select('ul li a')\n",
    "    for i, e in enumerate(elems[10:-50]):\n",
    "#         print(i)\n",
    "#         print(e.getText())\n",
    "#         print(e.get('href'))\n",
    "        if e.get('href'):\n",
    "            urls.append('https://syntaxdb.com'+str(e.get('href')))\n",
    "else:\n",
    "    print('Something went wrong')\n",
    "syntax_dict['Java'] = urls   \n",
    "print(syntax_dict['Java'], len(syntax_dict['Java']))"
   ]
  },
  {
   "cell_type": "markdown",
   "metadata": {},
   "source": [
    "### C"
   ]
  },
  {
   "cell_type": "code",
   "execution_count": 6,
   "metadata": {
    "ExecuteTime": {
     "end_time": "2019-05-10T06:20:01.028756Z",
     "start_time": "2019-05-10T06:19:59.878746Z"
    }
   },
   "outputs": [
    {
     "name": "stdout",
     "output_type": "stream",
     "text": [
      "['https://syntaxdb.com/ref/c/print', 'https://syntaxdb.com/ref/c/user-input', 'https://syntaxdb.com/ref/c/commenting', 'https://syntaxdb.com/ref/c/include', 'https://syntaxdb.com/ref/c/local-variables', 'https://syntaxdb.com/ref/c/constants', 'https://syntaxdb.com/ref/c/array', 'https://syntaxdb.com/ref/c/pointers', 'https://syntaxdb.com/ref/c/structures', 'https://syntaxdb.com/ref/c/typedef', 'https://syntaxdb.com/ref/c/if', 'https://syntaxdb.com/ref/c/switch', 'https://syntaxdb.com/ref/c/for-loop', 'https://syntaxdb.com/ref/c/while', 'https://syntaxdb.com/ref/c/do-while-loop', 'https://syntaxdb.com/ref/c/function-dec', 'https://syntaxdb.com/ref/c/ternary'] 17\n"
     ]
    }
   ],
   "source": [
    "urls = []\n",
    "res = requests.get('https://syntaxdb.com/ref/c')\n",
    "if res.status_code == requests.codes.ok:\n",
    "    ressoup = bs4.BeautifulSoup(res.text, 'lxml')\n",
    "    elems = ressoup.select('ul li a')\n",
    "    for i, e in enumerate(elems[10:-26]):\n",
    "#         print(i)\n",
    "#         print(e.getText())\n",
    "#         print(e.get('href'))\n",
    "        if e.get('href'):\n",
    "            urls.append('https://syntaxdb.com'+str(e.get('href')))\n",
    "else:\n",
    "    print('Something went wrong')\n",
    "syntax_dict['C'] = urls   \n",
    "print(syntax_dict['C'], len(syntax_dict['C']))"
   ]
  },
  {
   "cell_type": "markdown",
   "metadata": {},
   "source": [
    "### Cpp"
   ]
  },
  {
   "cell_type": "code",
   "execution_count": 7,
   "metadata": {
    "ExecuteTime": {
     "end_time": "2019-05-10T06:20:02.207789Z",
     "start_time": "2019-05-10T06:20:01.034740Z"
    }
   },
   "outputs": [
    {
     "name": "stdout",
     "output_type": "stream",
     "text": [
      "['https://syntaxdb.com/ref/cpp/output', 'https://syntaxdb.com/ref/cpp/user-input', 'https://syntaxdb.com/ref/cpp/commenting', 'https://syntaxdb.com/ref/cpp/include', 'https://syntaxdb.com/ref/cpp/namespaces', 'https://syntaxdb.com/ref/cpp/read-files', 'https://syntaxdb.com/ref/cpp/write-file', 'https://syntaxdb.com/ref/cpp/local-variables', 'https://syntaxdb.com/ref/cpp/constants', 'https://syntaxdb.com/ref/cpp/array', 'https://syntaxdb.com/ref/cpp/pointers', 'https://syntaxdb.com/ref/cpp/structures', 'https://syntaxdb.com/ref/cpp/typedef', 'https://syntaxdb.com/ref/cpp/vectors', 'https://syntaxdb.com/ref/cpp/smart-pointers', 'https://syntaxdb.com/ref/cpp/if', 'https://syntaxdb.com/ref/cpp/switch', 'https://syntaxdb.com/ref/cpp/ternary', 'https://syntaxdb.com/ref/cpp/for-loop', 'https://syntaxdb.com/ref/cpp/while', 'https://syntaxdb.com/ref/cpp/do-while', 'https://syntaxdb.com/ref/cpp/class-declare', 'https://syntaxdb.com/ref/cpp/constructor', 'https://syntaxdb.com/ref/cpp/instantiation', 'https://syntaxdb.com/ref/cpp/functions', 'https://syntaxdb.com/ref/cpp/overload-op', 'https://syntaxdb.com/ref/cpp/inheritance', 'https://syntaxdb.com/ref/cpp/friend-function', 'https://syntaxdb.com/ref/cpp/friend-class', 'https://syntaxdb.com/ref/cpp/destructor', 'https://syntaxdb.com/ref/cpp/string-var'] 31\n"
     ]
    }
   ],
   "source": [
    "urls = []\n",
    "res = requests.get('https://syntaxdb.com/ref/cpp')\n",
    "if res.status_code == requests.codes.ok:\n",
    "    ressoup = bs4.BeautifulSoup(res.text, 'lxml')\n",
    "    elems = ressoup.select('ul li a')\n",
    "    for i, e in enumerate(elems[10:-40]):\n",
    "#         print(i)\n",
    "#         print(e.getText())\n",
    "#         print(e.get('href'))\n",
    "        if e.get('href'):\n",
    "            urls.append('https://syntaxdb.com'+str(e.get('href')))\n",
    "else:\n",
    "    print('Something went wrong')\n",
    "syntax_dict['C++'] = urls   \n",
    "print(syntax_dict['C++'], len(syntax_dict['C++']))"
   ]
  },
  {
   "cell_type": "markdown",
   "metadata": {},
   "source": [
    "### Csharp"
   ]
  },
  {
   "cell_type": "code",
   "execution_count": 8,
   "metadata": {
    "ExecuteTime": {
     "end_time": "2019-05-10T06:20:03.389322Z",
     "start_time": "2019-05-10T06:20:02.213772Z"
    }
   },
   "outputs": [
    {
     "name": "stdout",
     "output_type": "stream",
     "text": [
      "['https://syntaxdb.com/ref/csharp/write-console', 'https://syntaxdb.com/ref/csharp/commenting', 'https://syntaxdb.com/ref/csharp/user-input', 'https://syntaxdb.com/ref/csharp/read-file', 'https://syntaxdb.com/ref/csharp/write-file', 'https://syntaxdb.com/ref/csharp/namespace', 'https://syntaxdb.com/ref/csharp/data-types', 'https://syntaxdb.com/ref/csharp/variable-dec', 'https://syntaxdb.com/ref/csharp/parse', 'https://syntaxdb.com/ref/csharp/constants', 'https://syntaxdb.com/ref/csharp/pointers', 'https://syntaxdb.com/ref/csharp/array', 'https://syntaxdb.com/ref/csharp/lists', 'https://syntaxdb.com/ref/csharp/dictionaries', 'https://syntaxdb.com/ref/csharp/type-convert', 'https://syntaxdb.com/ref/csharp/struct', 'https://syntaxdb.com/ref/csharp/if-statement', 'https://syntaxdb.com/ref/csharp/switch', 'https://syntaxdb.com/ref/csharp/forloop', 'https://syntaxdb.com/ref/csharp/foreach', 'https://syntaxdb.com/ref/csharp/while', 'https://syntaxdb.com/ref/csharp/dowhile', 'https://syntaxdb.com/ref/csharp/try-catch', 'https://syntaxdb.com/ref/csharp/class-declare', 'https://syntaxdb.com/ref/csharp/access-mod', 'https://syntaxdb.com/ref/csharp/class-var', 'https://syntaxdb.com/ref/csharp/methods', 'https://syntaxdb.com/ref/csharp/static-methods', 'https://syntaxdb.com/ref/csharp/constructor', 'https://syntaxdb.com/ref/csharp/instantiation', 'https://syntaxdb.com/ref/csharp/interfaces', 'https://syntaxdb.com/ref/csharp/abstract', 'https://syntaxdb.com/ref/csharp/inheritance', 'https://syntaxdb.com/ref/csharp/string-var', 'https://syntaxdb.com/ref/csharp/string-length', 'https://syntaxdb.com/ref/csharp/string-compare', 'https://syntaxdb.com/ref/csharp/trim', 'https://syntaxdb.com/ref/csharp/string-split', 'https://syntaxdb.com/ref/csharp/string-rep'] 39\n"
     ]
    }
   ],
   "source": [
    "urls = []\n",
    "res = requests.get('https://syntaxdb.com/ref/csharp')\n",
    "if res.status_code == requests.codes.ok:\n",
    "    ressoup = bs4.BeautifulSoup(res.text, 'lxml')\n",
    "    elems = ressoup.select('ul li a')\n",
    "    for i, e in enumerate(elems[10:-48]):\n",
    "#         print(i)\n",
    "#         print(e.getText())\n",
    "#         print(e.get('href'))\n",
    "        if e.get('href'):\n",
    "            urls.append('https://syntaxdb.com'+str(e.get('href')))\n",
    "else:\n",
    "    print('Something went wrong')\n",
    "syntax_dict['C#'] = urls   \n",
    "print(syntax_dict['C#'], len(syntax_dict['C#']))"
   ]
  },
  {
   "cell_type": "markdown",
   "metadata": {},
   "source": [
    "### Python"
   ]
  },
  {
   "cell_type": "code",
   "execution_count": 9,
   "metadata": {
    "ExecuteTime": {
     "end_time": "2019-05-10T06:20:04.560318Z",
     "start_time": "2019-05-10T06:20:03.394305Z"
    }
   },
   "outputs": [
    {
     "name": "stdout",
     "output_type": "stream",
     "text": [
      "['https://syntaxdb.com/ref/python/print', 'https://syntaxdb.com/ref/python/user-input', 'https://syntaxdb.com/ref/python/commenting', 'https://syntaxdb.com/ref/python/read-file', 'https://syntaxdb.com/ref/python/write-file', 'https://syntaxdb.com/ref/python/import', 'https://syntaxdb.com/ref/python/variable-dec', 'https://syntaxdb.com/ref/python/lists', 'https://syntaxdb.com/ref/python/list-comp', 'https://syntaxdb.com/ref/python/tuples', 'https://syntaxdb.com/ref/python/dictionaries', 'https://syntaxdb.com/ref/python/sets', 'https://syntaxdb.com/ref/python/if', 'https://syntaxdb.com/ref/python/for-loop', 'https://syntaxdb.com/ref/python/while', 'https://syntaxdb.com/ref/python/ternary', 'https://syntaxdb.com/ref/python/try-catch', 'https://syntaxdb.com/ref/python/with', 'https://syntaxdb.com/ref/python/generators', 'https://syntaxdb.com/ref/python/functions', 'https://syntaxdb.com/ref/python/first-class', 'https://syntaxdb.com/ref/python/lambda', 'https://syntaxdb.com/ref/python/map', 'https://syntaxdb.com/ref/python/filter', 'https://syntaxdb.com/ref/python/class-declare', 'https://syntaxdb.com/ref/python/class-variables', 'https://syntaxdb.com/ref/python/constructor', 'https://syntaxdb.com/ref/python/instantiation', 'https://syntaxdb.com/ref/python/methods', 'https://syntaxdb.com/ref/python/inheritance'] 30\n"
     ]
    }
   ],
   "source": [
    "urls = []\n",
    "res = requests.get('https://syntaxdb.com/ref/python')\n",
    "if res.status_code == requests.codes.ok:\n",
    "    ressoup = bs4.BeautifulSoup(res.text, 'lxml')\n",
    "    elems = ressoup.select('ul li a')\n",
    "    for i, e in enumerate(elems[10:-39]):\n",
    "#         print(i)\n",
    "#         print(e.getText())\n",
    "#         print(e.get('href'))\n",
    "        if e.get('href'):\n",
    "            urls.append('https://syntaxdb.com'+str(e.get('href')))\n",
    "else:\n",
    "    print('Something went wrong')\n",
    "syntax_dict['Python'] = urls   \n",
    "print(syntax_dict['Python'], len(syntax_dict['Python']))"
   ]
  },
  {
   "cell_type": "markdown",
   "metadata": {},
   "source": [
    "### Ruby"
   ]
  },
  {
   "cell_type": "code",
   "execution_count": 10,
   "metadata": {
    "ExecuteTime": {
     "end_time": "2019-05-10T06:20:05.757265Z",
     "start_time": "2019-05-10T06:20:04.563308Z"
    }
   },
   "outputs": [
    {
     "name": "stdout",
     "output_type": "stream",
     "text": [
      "['https://syntaxdb.com/ref/ruby/print', 'https://syntaxdb.com/ref/ruby/user-input', 'https://syntaxdb.com/ref/ruby/commenting', 'https://syntaxdb.com/ref/ruby/read-files', 'https://syntaxdb.com/ref/ruby/write-file', 'https://syntaxdb.com/ref/ruby/variable-dec', 'https://syntaxdb.com/ref/ruby/constants', 'https://syntaxdb.com/ref/ruby/arrays', 'https://syntaxdb.com/ref/ruby/symbols', 'https://syntaxdb.com/ref/ruby/hash', 'https://syntaxdb.com/ref/ruby/if', 'https://syntaxdb.com/ref/ruby/case', 'https://syntaxdb.com/ref/ruby/for-loop', 'https://syntaxdb.com/ref/ruby/for-each', 'https://syntaxdb.com/ref/ruby/while', 'https://syntaxdb.com/ref/ruby/do-while', 'https://syntaxdb.com/ref/ruby/exception', 'https://syntaxdb.com/ref/ruby/ternary', 'https://syntaxdb.com/ref/ruby/throw-catch', 'https://syntaxdb.com/ref/ruby/functions', 'https://syntaxdb.com/ref/ruby/blocks', 'https://syntaxdb.com/ref/ruby/collect', 'https://syntaxdb.com/ref/ruby/yield-to-block', 'https://syntaxdb.com/ref/ruby/proc', 'https://syntaxdb.com/ref/ruby/lambda', 'https://syntaxdb.com/ref/ruby/class-declare', 'https://syntaxdb.com/ref/ruby/class-variables', 'https://syntaxdb.com/ref/ruby/constructor', 'https://syntaxdb.com/ref/ruby/instantiation', 'https://syntaxdb.com/ref/ruby/inheritance', 'https://syntaxdb.com/ref/ruby/modules', 'https://syntaxdb.com/ref/ruby/class-methods'] 32\n"
     ]
    }
   ],
   "source": [
    "urls = []\n",
    "res = requests.get('https://syntaxdb.com/ref/ruby')\n",
    "if res.status_code == requests.codes.ok:\n",
    "    ressoup = bs4.BeautifulSoup(res.text, 'lxml')\n",
    "    elems = ressoup.select('ul li a')\n",
    "    for i, e in enumerate(elems[10:-41]):\n",
    "#         print(i)\n",
    "#         print(e.getText())\n",
    "#         print(e.get('href'))\n",
    "        if e.get('href'):\n",
    "            urls.append('https://syntaxdb.com'+str(e.get('href')))\n",
    "else:\n",
    "    print('Something went wrong')\n",
    "syntax_dict['Ruby'] = urls   \n",
    "print(syntax_dict['Ruby'], len(syntax_dict['Ruby']))"
   ]
  },
  {
   "cell_type": "markdown",
   "metadata": {},
   "source": [
    "### JavaScript"
   ]
  },
  {
   "cell_type": "code",
   "execution_count": 11,
   "metadata": {
    "ExecuteTime": {
     "end_time": "2019-05-10T06:20:06.919281Z",
     "start_time": "2019-05-10T06:20:05.761252Z"
    }
   },
   "outputs": [
    {
     "name": "stdout",
     "output_type": "stream",
     "text": [
      "['https://syntaxdb.com/ref/javascript/console-output', 'https://syntaxdb.com/ref/javascript/commenting', 'https://syntaxdb.com/ref/javascript/read-file', 'https://syntaxdb.com/ref/javascript/variable-dec', 'https://syntaxdb.com/ref/javascript/global-var', 'https://syntaxdb.com/ref/javascript/arrays', 'https://syntaxdb.com/ref/javascript/type-of', 'https://syntaxdb.com/ref/javascript/if', 'https://syntaxdb.com/ref/javascript/switch', 'https://syntaxdb.com/ref/javascript/ternary', 'https://syntaxdb.com/ref/javascript/for-loop', 'https://syntaxdb.com/ref/javascript/for-each', 'https://syntaxdb.com/ref/javascript/while', 'https://syntaxdb.com/ref/javascript/do-while-loop', 'https://syntaxdb.com/ref/javascript/try-catch', 'https://syntaxdb.com/ref/javascript/functions', 'https://syntaxdb.com/ref/javascript/anonymous-func', 'https://syntaxdb.com/ref/javascript/closures', 'https://syntaxdb.com/ref/javascript/function-assign', 'https://syntaxdb.com/ref/javascript/object-dec', 'https://syntaxdb.com/ref/javascript/methods', 'https://syntaxdb.com/ref/javascript/object-create', 'https://syntaxdb.com/ref/javascript/constructor'] 23\n"
     ]
    }
   ],
   "source": [
    "urls = []\n",
    "res = requests.get('https://syntaxdb.com/ref/javascript')\n",
    "if res.status_code == requests.codes.ok:\n",
    "    ressoup = bs4.BeautifulSoup(res.text, 'lxml')\n",
    "    elems = ressoup.select('ul li a')\n",
    "    for i, e in enumerate(elems[10:-32]):\n",
    "#         print(i)\n",
    "#         print(e.getText())\n",
    "#         print(e.get('href'))\n",
    "        if e.get('href'):\n",
    "            urls.append('https://syntaxdb.com'+str(e.get('href')))\n",
    "else:\n",
    "    print('Something went wrong')\n",
    "syntax_dict['JavaScript'] = urls   \n",
    "print(syntax_dict['JavaScript'], len(syntax_dict['JavaScript']))"
   ]
  },
  {
   "cell_type": "markdown",
   "metadata": {},
   "source": [
    "### Swift"
   ]
  },
  {
   "cell_type": "code",
   "execution_count": 12,
   "metadata": {
    "ExecuteTime": {
     "end_time": "2019-05-10T06:20:08.120710Z",
     "start_time": "2019-05-10T06:20:06.923270Z"
    }
   },
   "outputs": [
    {
     "name": "stdout",
     "output_type": "stream",
     "text": [
      "['https://syntaxdb.com/ref/swift/print', 'https://syntaxdb.com/ref/swift/commenting', 'https://syntaxdb.com/ref/swift/import', 'https://syntaxdb.com/ref/swift/variable-dec', 'https://syntaxdb.com/ref/swift/constants', 'https://syntaxdb.com/ref/swift/optionals', 'https://syntaxdb.com/ref/swift/arrays', 'https://syntaxdb.com/ref/swift/dictionaries', 'https://syntaxdb.com/ref/swift/sets', 'https://syntaxdb.com/ref/swift/enumerations', 'https://syntaxdb.com/ref/swift/if-statement', 'https://syntaxdb.com/ref/swift/switch', 'https://syntaxdb.com/ref/swift/for-in', 'https://syntaxdb.com/ref/swift/while', 'https://syntaxdb.com/ref/swift/repeat-while', 'https://syntaxdb.com/ref/swift/ternary', 'https://syntaxdb.com/ref/swift/functions', 'https://syntaxdb.com/ref/swift/closures', 'https://syntaxdb.com/ref/swift/map', 'https://syntaxdb.com/ref/swift/structures', 'https://syntaxdb.com/ref/swift/class-declare', 'https://syntaxdb.com/ref/swift/access-mod', 'https://syntaxdb.com/ref/swift/Initializer', 'https://syntaxdb.com/ref/swift/instantiation', 'https://syntaxdb.com/ref/swift/type-methods', 'https://syntaxdb.com/ref/swift/properties', 'https://syntaxdb.com/ref/swift/getters-setters', 'https://syntaxdb.com/ref/swift/inheritance'] 28\n"
     ]
    }
   ],
   "source": [
    "urls = []\n",
    "res = requests.get('https://syntaxdb.com/ref/swift')\n",
    "if res.status_code == requests.codes.ok:\n",
    "    ressoup = bs4.BeautifulSoup(res.text, 'lxml')\n",
    "    elems = ressoup.select('ul li a')\n",
    "    for i, e in enumerate(elems[10:-37]):\n",
    "#         print(i)\n",
    "#         print(e.getText())\n",
    "#         print(e.get('href'))\n",
    "        if e.get('href'):\n",
    "            urls.append('https://syntaxdb.com'+str(e.get('href')))\n",
    "else:\n",
    "    print('Something went wrong')\n",
    "syntax_dict['Swift'] = urls   \n",
    "print(syntax_dict['Swift'], len(syntax_dict['Swift']))"
   ]
  },
  {
   "cell_type": "markdown",
   "metadata": {},
   "source": [
    "### Go"
   ]
  },
  {
   "cell_type": "code",
   "execution_count": 13,
   "metadata": {
    "ExecuteTime": {
     "end_time": "2019-05-10T06:20:09.280775Z",
     "start_time": "2019-05-10T06:20:08.124697Z"
    }
   },
   "outputs": [
    {
     "name": "stdout",
     "output_type": "stream",
     "text": [
      "['https://syntaxdb.com/ref/go/print', 'https://syntaxdb.com/ref/go/user-input', 'https://syntaxdb.com/ref/go/commenting', 'https://syntaxdb.com/ref/go/read-file', 'https://syntaxdb.com/ref/go/write-file', 'https://syntaxdb.com/ref/go/import', 'https://syntaxdb.com/ref/go/package', 'https://syntaxdb.com/ref/go/data-types', 'https://syntaxdb.com/ref/go/type-conversion', 'https://syntaxdb.com/ref/go/variable-dec', 'https://syntaxdb.com/ref/go/constants', 'https://syntaxdb.com/ref/go/pointers', 'https://syntaxdb.com/ref/go/reference', 'https://syntaxdb.com/ref/go/arrays', 'https://syntaxdb.com/ref/go/slices', 'https://syntaxdb.com/ref/go/maps', 'https://syntaxdb.com/ref/go/structs', 'https://syntaxdb.com/ref/go/if', 'https://syntaxdb.com/ref/go/switch-case', 'https://syntaxdb.com/ref/go/for-loop', 'https://syntaxdb.com/ref/go/for-each', 'https://syntaxdb.com/ref/go/while-loop', 'https://syntaxdb.com/ref/go/function-dec', 'https://syntaxdb.com/ref/go/func-literal', 'https://syntaxdb.com/ref/go/closures', 'https://syntaxdb.com/ref/go/methods', 'https://syntaxdb.com/ref/go/interfaces', 'https://syntaxdb.com/ref/go/defer'] 28\n"
     ]
    }
   ],
   "source": [
    "urls = []\n",
    "res = requests.get('https://syntaxdb.com/ref/go')\n",
    "if res.status_code == requests.codes.ok:\n",
    "    ressoup = bs4.BeautifulSoup(res.text, 'lxml')\n",
    "    elems = ressoup.select('ul li a')\n",
    "    for i, e in enumerate(elems[10:-37]):\n",
    "#         print(i)\n",
    "#         print(e.getText())\n",
    "#         print(e.get('href'))\n",
    "        if e.get('href'):\n",
    "            urls.append('https://syntaxdb.com'+str(e.get('href')))\n",
    "else:\n",
    "    print('Something went wrong')\n",
    "syntax_dict['Go'] = urls   \n",
    "print(syntax_dict['Go'], len(syntax_dict['Go']))"
   ]
  },
  {
   "cell_type": "code",
   "execution_count": 14,
   "metadata": {
    "ExecuteTime": {
     "end_time": "2019-05-10T06:20:09.330644Z",
     "start_time": "2019-05-10T06:20:09.283767Z"
    }
   },
   "outputs": [
    {
     "name": "stdout",
     "output_type": "stream",
     "text": [
      "Java\n",
      "https://syntaxdb.com/ref/java/print\n",
      "https://syntaxdb.com/ref/java/user-input\n",
      "https://syntaxdb.com/ref/java/commenting\n",
      "https://syntaxdb.com/ref/java/read-files\n",
      "https://syntaxdb.com/ref/java/write-file\n",
      "https://syntaxdb.com/ref/java/import\n",
      "https://syntaxdb.com/ref/java/data-types\n",
      "https://syntaxdb.com/ref/java/type-cast\n",
      "https://syntaxdb.com/ref/java/variable-dec\n",
      "https://syntaxdb.com/ref/java/constants\n",
      "https://syntaxdb.com/ref/java/arrays\n",
      "https://syntaxdb.com/ref/java/hash-maps\n",
      "https://syntaxdb.com/ref/java/hashset\n",
      "https://syntaxdb.com/ref/java/if\n",
      "https://syntaxdb.com/ref/java/switch\n",
      "https://syntaxdb.com/ref/java/ternary\n",
      "https://syntaxdb.com/ref/java/for-loop\n",
      "https://syntaxdb.com/ref/java/for-each\n",
      "https://syntaxdb.com/ref/java/while\n",
      "https://syntaxdb.com/ref/java/do-while-loop\n",
      "https://syntaxdb.com/ref/java/try-catch\n",
      "https://syntaxdb.com/ref/java/class-declare\n",
      "https://syntaxdb.com/ref/java/access-mod\n",
      "https://syntaxdb.com/ref/java/constructor\n",
      "https://syntaxdb.com/ref/java/instantiation\n",
      "https://syntaxdb.com/ref/java/class-var\n",
      "https://syntaxdb.com/ref/java/method-dec\n",
      "https://syntaxdb.com/ref/java/class-methods\n",
      "https://syntaxdb.com/ref/java/inheritance\n",
      "https://syntaxdb.com/ref/java/interfaces\n",
      "https://syntaxdb.com/ref/java/abstract\n",
      "https://syntaxdb.com/ref/java/anonymous\n",
      "https://syntaxdb.com/ref/java/dec-exception\n",
      "https://syntaxdb.com/ref/java/throw-excep\n",
      "https://syntaxdb.com/ref/java/string-var\n",
      "https://syntaxdb.com/ref/java/string-length\n",
      "https://syntaxdb.com/ref/java/string-compare\n",
      "https://syntaxdb.com/ref/java/trim\n",
      "https://syntaxdb.com/ref/java/split\n",
      "https://syntaxdb.com/ref/java/substring\n",
      "https://syntaxdb.com/ref/java/string-rep\n",
      "41\n",
      "\n",
      "\n",
      "\n",
      "C\n",
      "https://syntaxdb.com/ref/c/print\n",
      "https://syntaxdb.com/ref/c/user-input\n",
      "https://syntaxdb.com/ref/c/commenting\n",
      "https://syntaxdb.com/ref/c/include\n",
      "https://syntaxdb.com/ref/c/local-variables\n",
      "https://syntaxdb.com/ref/c/constants\n",
      "https://syntaxdb.com/ref/c/array\n",
      "https://syntaxdb.com/ref/c/pointers\n",
      "https://syntaxdb.com/ref/c/structures\n",
      "https://syntaxdb.com/ref/c/typedef\n",
      "https://syntaxdb.com/ref/c/if\n",
      "https://syntaxdb.com/ref/c/switch\n",
      "https://syntaxdb.com/ref/c/for-loop\n",
      "https://syntaxdb.com/ref/c/while\n",
      "https://syntaxdb.com/ref/c/do-while-loop\n",
      "https://syntaxdb.com/ref/c/function-dec\n",
      "https://syntaxdb.com/ref/c/ternary\n",
      "17\n",
      "\n",
      "\n",
      "\n",
      "C++\n",
      "https://syntaxdb.com/ref/cpp/output\n",
      "https://syntaxdb.com/ref/cpp/user-input\n",
      "https://syntaxdb.com/ref/cpp/commenting\n",
      "https://syntaxdb.com/ref/cpp/include\n",
      "https://syntaxdb.com/ref/cpp/namespaces\n",
      "https://syntaxdb.com/ref/cpp/read-files\n",
      "https://syntaxdb.com/ref/cpp/write-file\n",
      "https://syntaxdb.com/ref/cpp/local-variables\n",
      "https://syntaxdb.com/ref/cpp/constants\n",
      "https://syntaxdb.com/ref/cpp/array\n",
      "https://syntaxdb.com/ref/cpp/pointers\n",
      "https://syntaxdb.com/ref/cpp/structures\n",
      "https://syntaxdb.com/ref/cpp/typedef\n",
      "https://syntaxdb.com/ref/cpp/vectors\n",
      "https://syntaxdb.com/ref/cpp/smart-pointers\n",
      "https://syntaxdb.com/ref/cpp/if\n",
      "https://syntaxdb.com/ref/cpp/switch\n",
      "https://syntaxdb.com/ref/cpp/ternary\n",
      "https://syntaxdb.com/ref/cpp/for-loop\n",
      "https://syntaxdb.com/ref/cpp/while\n",
      "https://syntaxdb.com/ref/cpp/do-while\n",
      "https://syntaxdb.com/ref/cpp/class-declare\n",
      "https://syntaxdb.com/ref/cpp/constructor\n",
      "https://syntaxdb.com/ref/cpp/instantiation\n",
      "https://syntaxdb.com/ref/cpp/functions\n",
      "https://syntaxdb.com/ref/cpp/overload-op\n",
      "https://syntaxdb.com/ref/cpp/inheritance\n",
      "https://syntaxdb.com/ref/cpp/friend-function\n",
      "https://syntaxdb.com/ref/cpp/friend-class\n",
      "https://syntaxdb.com/ref/cpp/destructor\n",
      "https://syntaxdb.com/ref/cpp/string-var\n",
      "31\n",
      "\n",
      "\n",
      "\n",
      "C#\n",
      "https://syntaxdb.com/ref/csharp/write-console\n",
      "https://syntaxdb.com/ref/csharp/commenting\n",
      "https://syntaxdb.com/ref/csharp/user-input\n",
      "https://syntaxdb.com/ref/csharp/read-file\n",
      "https://syntaxdb.com/ref/csharp/write-file\n",
      "https://syntaxdb.com/ref/csharp/namespace\n",
      "https://syntaxdb.com/ref/csharp/data-types\n",
      "https://syntaxdb.com/ref/csharp/variable-dec\n",
      "https://syntaxdb.com/ref/csharp/parse\n",
      "https://syntaxdb.com/ref/csharp/constants\n",
      "https://syntaxdb.com/ref/csharp/pointers\n",
      "https://syntaxdb.com/ref/csharp/array\n",
      "https://syntaxdb.com/ref/csharp/lists\n",
      "https://syntaxdb.com/ref/csharp/dictionaries\n",
      "https://syntaxdb.com/ref/csharp/type-convert\n",
      "https://syntaxdb.com/ref/csharp/struct\n",
      "https://syntaxdb.com/ref/csharp/if-statement\n",
      "https://syntaxdb.com/ref/csharp/switch\n",
      "https://syntaxdb.com/ref/csharp/forloop\n",
      "https://syntaxdb.com/ref/csharp/foreach\n",
      "https://syntaxdb.com/ref/csharp/while\n",
      "https://syntaxdb.com/ref/csharp/dowhile\n",
      "https://syntaxdb.com/ref/csharp/try-catch\n",
      "https://syntaxdb.com/ref/csharp/class-declare\n",
      "https://syntaxdb.com/ref/csharp/access-mod\n",
      "https://syntaxdb.com/ref/csharp/class-var\n",
      "https://syntaxdb.com/ref/csharp/methods\n",
      "https://syntaxdb.com/ref/csharp/static-methods\n",
      "https://syntaxdb.com/ref/csharp/constructor\n",
      "https://syntaxdb.com/ref/csharp/instantiation\n",
      "https://syntaxdb.com/ref/csharp/interfaces\n",
      "https://syntaxdb.com/ref/csharp/abstract\n",
      "https://syntaxdb.com/ref/csharp/inheritance\n",
      "https://syntaxdb.com/ref/csharp/string-var\n",
      "https://syntaxdb.com/ref/csharp/string-length\n",
      "https://syntaxdb.com/ref/csharp/string-compare\n",
      "https://syntaxdb.com/ref/csharp/trim\n",
      "https://syntaxdb.com/ref/csharp/string-split\n",
      "https://syntaxdb.com/ref/csharp/string-rep\n",
      "39\n",
      "\n",
      "\n",
      "\n",
      "Python\n",
      "https://syntaxdb.com/ref/python/print\n",
      "https://syntaxdb.com/ref/python/user-input\n",
      "https://syntaxdb.com/ref/python/commenting\n",
      "https://syntaxdb.com/ref/python/read-file\n",
      "https://syntaxdb.com/ref/python/write-file\n",
      "https://syntaxdb.com/ref/python/import\n",
      "https://syntaxdb.com/ref/python/variable-dec\n",
      "https://syntaxdb.com/ref/python/lists\n",
      "https://syntaxdb.com/ref/python/list-comp\n",
      "https://syntaxdb.com/ref/python/tuples\n",
      "https://syntaxdb.com/ref/python/dictionaries\n",
      "https://syntaxdb.com/ref/python/sets\n",
      "https://syntaxdb.com/ref/python/if\n",
      "https://syntaxdb.com/ref/python/for-loop\n",
      "https://syntaxdb.com/ref/python/while\n",
      "https://syntaxdb.com/ref/python/ternary\n",
      "https://syntaxdb.com/ref/python/try-catch\n",
      "https://syntaxdb.com/ref/python/with\n",
      "https://syntaxdb.com/ref/python/generators\n",
      "https://syntaxdb.com/ref/python/functions\n",
      "https://syntaxdb.com/ref/python/first-class\n",
      "https://syntaxdb.com/ref/python/lambda\n",
      "https://syntaxdb.com/ref/python/map\n",
      "https://syntaxdb.com/ref/python/filter\n",
      "https://syntaxdb.com/ref/python/class-declare\n",
      "https://syntaxdb.com/ref/python/class-variables\n",
      "https://syntaxdb.com/ref/python/constructor\n",
      "https://syntaxdb.com/ref/python/instantiation\n",
      "https://syntaxdb.com/ref/python/methods\n",
      "https://syntaxdb.com/ref/python/inheritance\n",
      "30\n",
      "\n",
      "\n",
      "\n",
      "Ruby\n",
      "https://syntaxdb.com/ref/ruby/print\n",
      "https://syntaxdb.com/ref/ruby/user-input\n",
      "https://syntaxdb.com/ref/ruby/commenting\n",
      "https://syntaxdb.com/ref/ruby/read-files\n",
      "https://syntaxdb.com/ref/ruby/write-file\n",
      "https://syntaxdb.com/ref/ruby/variable-dec\n",
      "https://syntaxdb.com/ref/ruby/constants\n",
      "https://syntaxdb.com/ref/ruby/arrays\n",
      "https://syntaxdb.com/ref/ruby/symbols\n",
      "https://syntaxdb.com/ref/ruby/hash\n",
      "https://syntaxdb.com/ref/ruby/if\n",
      "https://syntaxdb.com/ref/ruby/case\n",
      "https://syntaxdb.com/ref/ruby/for-loop\n",
      "https://syntaxdb.com/ref/ruby/for-each\n",
      "https://syntaxdb.com/ref/ruby/while\n",
      "https://syntaxdb.com/ref/ruby/do-while\n",
      "https://syntaxdb.com/ref/ruby/exception\n",
      "https://syntaxdb.com/ref/ruby/ternary\n",
      "https://syntaxdb.com/ref/ruby/throw-catch\n",
      "https://syntaxdb.com/ref/ruby/functions\n",
      "https://syntaxdb.com/ref/ruby/blocks\n",
      "https://syntaxdb.com/ref/ruby/collect\n",
      "https://syntaxdb.com/ref/ruby/yield-to-block\n",
      "https://syntaxdb.com/ref/ruby/proc\n",
      "https://syntaxdb.com/ref/ruby/lambda\n",
      "https://syntaxdb.com/ref/ruby/class-declare\n",
      "https://syntaxdb.com/ref/ruby/class-variables\n",
      "https://syntaxdb.com/ref/ruby/constructor\n",
      "https://syntaxdb.com/ref/ruby/instantiation\n",
      "https://syntaxdb.com/ref/ruby/inheritance\n",
      "https://syntaxdb.com/ref/ruby/modules\n",
      "https://syntaxdb.com/ref/ruby/class-methods\n",
      "32\n",
      "\n",
      "\n",
      "\n",
      "JavaScript\n",
      "https://syntaxdb.com/ref/javascript/console-output\n",
      "https://syntaxdb.com/ref/javascript/commenting\n",
      "https://syntaxdb.com/ref/javascript/read-file\n",
      "https://syntaxdb.com/ref/javascript/variable-dec\n",
      "https://syntaxdb.com/ref/javascript/global-var\n",
      "https://syntaxdb.com/ref/javascript/arrays\n",
      "https://syntaxdb.com/ref/javascript/type-of\n",
      "https://syntaxdb.com/ref/javascript/if\n",
      "https://syntaxdb.com/ref/javascript/switch\n",
      "https://syntaxdb.com/ref/javascript/ternary\n",
      "https://syntaxdb.com/ref/javascript/for-loop\n",
      "https://syntaxdb.com/ref/javascript/for-each\n",
      "https://syntaxdb.com/ref/javascript/while\n",
      "https://syntaxdb.com/ref/javascript/do-while-loop\n",
      "https://syntaxdb.com/ref/javascript/try-catch\n",
      "https://syntaxdb.com/ref/javascript/functions\n",
      "https://syntaxdb.com/ref/javascript/anonymous-func\n",
      "https://syntaxdb.com/ref/javascript/closures\n",
      "https://syntaxdb.com/ref/javascript/function-assign\n",
      "https://syntaxdb.com/ref/javascript/object-dec\n",
      "https://syntaxdb.com/ref/javascript/methods\n",
      "https://syntaxdb.com/ref/javascript/object-create\n",
      "https://syntaxdb.com/ref/javascript/constructor\n",
      "23\n",
      "\n",
      "\n",
      "\n",
      "Swift\n",
      "https://syntaxdb.com/ref/swift/print\n",
      "https://syntaxdb.com/ref/swift/commenting\n",
      "https://syntaxdb.com/ref/swift/import\n",
      "https://syntaxdb.com/ref/swift/variable-dec\n",
      "https://syntaxdb.com/ref/swift/constants\n",
      "https://syntaxdb.com/ref/swift/optionals\n",
      "https://syntaxdb.com/ref/swift/arrays\n",
      "https://syntaxdb.com/ref/swift/dictionaries\n",
      "https://syntaxdb.com/ref/swift/sets\n",
      "https://syntaxdb.com/ref/swift/enumerations\n",
      "https://syntaxdb.com/ref/swift/if-statement\n",
      "https://syntaxdb.com/ref/swift/switch\n",
      "https://syntaxdb.com/ref/swift/for-in\n",
      "https://syntaxdb.com/ref/swift/while\n",
      "https://syntaxdb.com/ref/swift/repeat-while\n",
      "https://syntaxdb.com/ref/swift/ternary\n",
      "https://syntaxdb.com/ref/swift/functions\n",
      "https://syntaxdb.com/ref/swift/closures\n",
      "https://syntaxdb.com/ref/swift/map\n",
      "https://syntaxdb.com/ref/swift/structures\n",
      "https://syntaxdb.com/ref/swift/class-declare\n",
      "https://syntaxdb.com/ref/swift/access-mod\n",
      "https://syntaxdb.com/ref/swift/Initializer\n",
      "https://syntaxdb.com/ref/swift/instantiation\n",
      "https://syntaxdb.com/ref/swift/type-methods\n",
      "https://syntaxdb.com/ref/swift/properties\n",
      "https://syntaxdb.com/ref/swift/getters-setters\n",
      "https://syntaxdb.com/ref/swift/inheritance\n",
      "28\n",
      "\n",
      "\n",
      "\n",
      "Go\n",
      "https://syntaxdb.com/ref/go/print\n",
      "https://syntaxdb.com/ref/go/user-input\n",
      "https://syntaxdb.com/ref/go/commenting\n",
      "https://syntaxdb.com/ref/go/read-file\n",
      "https://syntaxdb.com/ref/go/write-file\n",
      "https://syntaxdb.com/ref/go/import\n",
      "https://syntaxdb.com/ref/go/package\n",
      "https://syntaxdb.com/ref/go/data-types\n",
      "https://syntaxdb.com/ref/go/type-conversion\n",
      "https://syntaxdb.com/ref/go/variable-dec\n",
      "https://syntaxdb.com/ref/go/constants\n",
      "https://syntaxdb.com/ref/go/pointers\n",
      "https://syntaxdb.com/ref/go/reference\n",
      "https://syntaxdb.com/ref/go/arrays\n",
      "https://syntaxdb.com/ref/go/slices\n",
      "https://syntaxdb.com/ref/go/maps\n",
      "https://syntaxdb.com/ref/go/structs\n",
      "https://syntaxdb.com/ref/go/if\n",
      "https://syntaxdb.com/ref/go/switch-case\n",
      "https://syntaxdb.com/ref/go/for-loop\n",
      "https://syntaxdb.com/ref/go/for-each\n",
      "https://syntaxdb.com/ref/go/while-loop\n",
      "https://syntaxdb.com/ref/go/function-dec\n",
      "https://syntaxdb.com/ref/go/func-literal\n",
      "https://syntaxdb.com/ref/go/closures\n",
      "https://syntaxdb.com/ref/go/methods\n",
      "https://syntaxdb.com/ref/go/interfaces\n",
      "https://syntaxdb.com/ref/go/defer\n",
      "28\n",
      "\n",
      "\n",
      "\n",
      "269\n"
     ]
    }
   ],
   "source": [
    "total_urls = 0\n",
    "for k, v in syntax_dict.items():\n",
    "    print(k)\n",
    "    for val in v:\n",
    "        print(val)\n",
    "    print(len(v))\n",
    "    total_urls += len(v)\n",
    "    print('\\n\\n')\n",
    "print(total_urls)"
   ]
  },
  {
   "cell_type": "code",
   "execution_count": null,
   "metadata": {},
   "outputs": [],
   "source": []
  }
 ],
 "metadata": {
  "kernelspec": {
   "display_name": "Python 3",
   "language": "python",
   "name": "python3"
  },
  "language_info": {
   "codemirror_mode": {
    "name": "ipython",
    "version": 3
   },
   "file_extension": ".py",
   "mimetype": "text/x-python",
   "name": "python",
   "nbconvert_exporter": "python",
   "pygments_lexer": "ipython3",
   "version": "3.7.3"
  },
  "toc": {
   "base_numbering": 1,
   "nav_menu": {},
   "number_sections": true,
   "sideBar": true,
   "skip_h1_title": false,
   "title_cell": "Table of Contents",
   "title_sidebar": "Contents",
   "toc_cell": false,
   "toc_position": {},
   "toc_section_display": true,
   "toc_window_display": false
  },
  "varInspector": {
   "cols": {
    "lenName": 16,
    "lenType": 16,
    "lenVar": 40
   },
   "kernels_config": {
    "python": {
     "delete_cmd_postfix": "",
     "delete_cmd_prefix": "del ",
     "library": "var_list.py",
     "varRefreshCmd": "print(var_dic_list())"
    },
    "r": {
     "delete_cmd_postfix": ") ",
     "delete_cmd_prefix": "rm(",
     "library": "var_list.r",
     "varRefreshCmd": "cat(var_dic_list()) "
    }
   },
   "types_to_exclude": [
    "module",
    "function",
    "builtin_function_or_method",
    "instance",
    "_Feature"
   ],
   "window_display": false
  }
 },
 "nbformat": 4,
 "nbformat_minor": 2
}
