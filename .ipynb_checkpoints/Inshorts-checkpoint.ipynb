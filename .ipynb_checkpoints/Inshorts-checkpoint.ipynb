{
 "cells": [
  {
   "cell_type": "code",
   "execution_count": 1,
   "metadata": {
    "ExecuteTime": {
     "end_time": "2020-04-26T09:37:12.023625Z",
     "start_time": "2020-04-26T09:36:57.296567Z"
    }
   },
   "outputs": [],
   "source": [
    "import requests, bs4\n",
    "import pandas as pd"
   ]
  },
  {
   "cell_type": "code",
   "execution_count": 2,
   "metadata": {
    "ExecuteTime": {
     "end_time": "2020-04-26T09:37:12.845430Z",
     "start_time": "2020-04-26T09:37:12.026617Z"
    }
   },
   "outputs": [],
   "source": [
    "titles = []\n",
    "articles = []\n",
    "url = 'https://inshorts.com/en/read'\n",
    "res = requests.get(url)\n",
    "if res.status_code == requests.codes.ok:\n",
    "    ressoup = bs4.BeautifulSoup(res.text, 'lxml')\n",
    "    elems = ressoup.select('div.news-card.z-depth-1')\n",
    "    for e in elems:\n",
    "        post = e.getText().strip().split('\\n')\n",
    "        titles.append(post[0])\n",
    "        articles.append(post[8])\n",
    "else:\n",
    "    print('Something went wrong')"
   ]
  },
  {
   "cell_type": "code",
   "execution_count": 3,
   "metadata": {
    "ExecuteTime": {
     "end_time": "2020-04-26T09:37:12.948663Z",
     "start_time": "2020-04-26T09:37:12.848421Z"
    }
   },
   "outputs": [],
   "source": [
    "pd.DataFrame({'Title': titles,\n",
    "             'Article':articles}).to_csv('News.csv', index=False)"
   ]
  },
  {
   "cell_type": "code",
   "execution_count": null,
   "metadata": {},
   "outputs": [],
   "source": []
  }
 ],
 "metadata": {
  "kernelspec": {
   "display_name": "Python 3",
   "language": "python",
   "name": "python3"
  },
  "language_info": {
   "codemirror_mode": {
    "name": "ipython",
    "version": 3
   },
   "file_extension": ".py",
   "mimetype": "text/x-python",
   "name": "python",
   "nbconvert_exporter": "python",
   "pygments_lexer": "ipython3",
   "version": "3.6.4"
  },
  "toc": {
   "base_numbering": 1,
   "nav_menu": {},
   "number_sections": true,
   "sideBar": true,
   "skip_h1_title": false,
   "title_cell": "Table of Contents",
   "title_sidebar": "Contents",
   "toc_cell": false,
   "toc_position": {},
   "toc_section_display": true,
   "toc_window_display": false
  },
  "varInspector": {
   "cols": {
    "lenName": 16,
    "lenType": 16,
    "lenVar": 40
   },
   "kernels_config": {
    "python": {
     "delete_cmd_postfix": "",
     "delete_cmd_prefix": "del ",
     "library": "var_list.py",
     "varRefreshCmd": "print(var_dic_list())"
    },
    "r": {
     "delete_cmd_postfix": ") ",
     "delete_cmd_prefix": "rm(",
     "library": "var_list.r",
     "varRefreshCmd": "cat(var_dic_list()) "
    }
   },
   "types_to_exclude": [
    "module",
    "function",
    "builtin_function_or_method",
    "instance",
    "_Feature"
   ],
   "window_display": false
  }
 },
 "nbformat": 4,
 "nbformat_minor": 2
}
