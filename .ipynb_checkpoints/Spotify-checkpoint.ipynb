{
 "cells": [
  {
   "cell_type": "markdown",
   "metadata": {},
   "source": [
    "# Libraries"
   ]
  },
  {
   "cell_type": "code",
   "execution_count": 1,
   "metadata": {
    "ExecuteTime": {
     "end_time": "2019-09-20T18:32:37.959811Z",
     "start_time": "2019-09-20T18:32:36.374052Z"
    }
   },
   "outputs": [],
   "source": [
    "import spotipy\n",
    "from spotipy.oauth2 import SpotifyClientCredentials\n",
    "import pandas as pd\n",
    "from tqdm.auto import tqdm"
   ]
  },
  {
   "cell_type": "code",
   "execution_count": 2,
   "metadata": {
    "ExecuteTime": {
     "end_time": "2019-09-20T18:32:37.972778Z",
     "start_time": "2019-09-20T18:32:37.964800Z"
    }
   },
   "outputs": [],
   "source": [
    "pd.options.display.max_colwidth = -1"
   ]
  },
  {
   "cell_type": "markdown",
   "metadata": {},
   "source": [
    "# Authentication"
   ]
  },
  {
   "cell_type": "code",
   "execution_count": 3,
   "metadata": {
    "ExecuteTime": {
     "end_time": "2019-09-20T18:32:38.115395Z",
     "start_time": "2019-09-20T18:32:37.979762Z"
    }
   },
   "outputs": [],
   "source": [
    "with open('E:/API-Credentials/Spotify.txt') as f:\n",
    "    credentials = list(map(lambda x: x.strip(), f.readlines()))"
   ]
  },
  {
   "cell_type": "code",
   "execution_count": 4,
   "metadata": {
    "ExecuteTime": {
     "end_time": "2019-09-20T18:32:38.239172Z",
     "start_time": "2019-09-20T18:32:38.120381Z"
    }
   },
   "outputs": [],
   "source": [
    "client_credentials_manager = SpotifyClientCredentials(client_id=credentials[0], client_secret=credentials[1])\n",
    "sptfy = spotipy.Spotify(client_credentials_manager=client_credentials_manager)"
   ]
  },
  {
   "cell_type": "code",
   "execution_count": 5,
   "metadata": {
    "ExecuteTime": {
     "end_time": "2019-09-20T18:32:39.177559Z",
     "start_time": "2019-09-20T18:32:38.243058Z"
    }
   },
   "outputs": [],
   "source": [
    "result = sptfy.search('Arijit Singh')"
   ]
  },
  {
   "cell_type": "code",
   "execution_count": 6,
   "metadata": {
    "ExecuteTime": {
     "end_time": "2019-09-20T18:32:39.202523Z",
     "start_time": "2019-09-20T18:32:39.181546Z"
    },
    "scrolled": true
   },
   "outputs": [
    {
     "data": {
      "text/plain": [
       "'spotify:artist:4YRxDV8wJFPHPTeXepOstw'"
      ]
     },
     "execution_count": 6,
     "metadata": {},
     "output_type": "execute_result"
    }
   ],
   "source": [
    "result['tracks']['items'][0]['artists'][0]['uri']"
   ]
  },
  {
   "cell_type": "code",
   "execution_count": 7,
   "metadata": {
    "ExecuteTime": {
     "end_time": "2019-09-20T18:32:39.578488Z",
     "start_time": "2019-09-20T18:32:39.205483Z"
    }
   },
   "outputs": [],
   "source": [
    "albums = sptfy.artist_albums(result['tracks']['items'][0]['artists'][0]['uri'], album_type='album')"
   ]
  },
  {
   "cell_type": "code",
   "execution_count": 8,
   "metadata": {
    "ExecuteTime": {
     "end_time": "2019-09-20T18:32:39.592012Z",
     "start_time": "2019-09-20T18:32:39.584471Z"
    }
   },
   "outputs": [],
   "source": [
    "album_names = []\n",
    "album_uris = []\n",
    "for i in range(len(albums['items'])):\n",
    "    album_names.append(albums['items'][i]['name'])\n",
    "    album_uris.append(albums['items'][i]['uri'])"
   ]
  },
  {
   "cell_type": "code",
   "execution_count": 9,
   "metadata": {
    "ExecuteTime": {
     "end_time": "2019-09-20T18:32:39.729083Z",
     "start_time": "2019-09-20T18:32:39.596436Z"
    }
   },
   "outputs": [
    {
     "data": {
      "text/plain": [
       "['Amazing Arijit Best Bengali Hits',\n",
       " 'Acche Din, Acche Gaane',\n",
       " 'Groove With Arijit Singh',\n",
       " 'Arijit Singh Broken Strings',\n",
       " 'Loveholic Arijit Singh',\n",
       " 'Chokher Bahire (Original Motion Picture Soundtrack)',\n",
       " 'Murshida and Other Hits (Studio)',\n",
       " 'Yours Truly Arijit',\n",
       " 'Gangster (Original Motion Picture Soundtrack)',\n",
       " 'Arijit Singh - Ultimate Love Songs',\n",
       " 'Musical Bond: Jeet Gannguli & Arijit Singh',\n",
       " 'Ghazals By Trending Voices']"
      ]
     },
     "execution_count": 9,
     "metadata": {},
     "output_type": "execute_result"
    }
   ],
   "source": [
    "album_names"
   ]
  },
  {
   "cell_type": "code",
   "execution_count": 10,
   "metadata": {
    "ExecuteTime": {
     "end_time": "2019-09-20T18:32:39.855864Z",
     "start_time": "2019-09-20T18:32:39.732077Z"
    }
   },
   "outputs": [
    {
     "data": {
      "text/plain": [
       "['spotify:album:0XiWDzOmO9FuwtEWuFUeeY',\n",
       " 'spotify:album:2b1jRXut0UQBfL5VLfsjFG',\n",
       " 'spotify:album:7kSY0fqrPep5vcwOb1juye',\n",
       " 'spotify:album:6jk3ucx33D7CLURgcfVFOT',\n",
       " 'spotify:album:7patNeMdCSnjhX082Uv3yg',\n",
       " 'spotify:album:7ByzvLaUbfQycIrJvbGudU',\n",
       " 'spotify:album:0HSS4XZTx9QoCVxtugU2vk',\n",
       " 'spotify:album:3tzrtZvTODgW7tDew5E7nb',\n",
       " 'spotify:album:5pc4oM0XvLK96w7z0fNg68',\n",
       " 'spotify:album:252YtNVYFu7GlS6DQ3HUZ1',\n",
       " 'spotify:album:5Z5vhemw4ig06H73KolMti',\n",
       " 'spotify:album:2eKYIKV83kh2m2Xbdm95F4']"
      ]
     },
     "execution_count": 10,
     "metadata": {},
     "output_type": "execute_result"
    }
   ],
   "source": [
    "album_uris"
   ]
  },
  {
   "cell_type": "code",
   "execution_count": 11,
   "metadata": {
    "ExecuteTime": {
     "end_time": "2019-09-20T18:32:40.004350Z",
     "start_time": "2019-09-20T18:32:39.858737Z"
    }
   },
   "outputs": [],
   "source": [
    "def albumSongs(uri):\n",
    "    album = uri\n",
    "    spotify_albums[album] = {}\n",
    "    spotify_albums[album]['album'] = []\n",
    "    spotify_albums[album]['track_number'] = []\n",
    "    spotify_albums[album]['id'] = []\n",
    "    spotify_albums[album]['name'] = []\n",
    "    spotify_albums[album]['uri'] = []\n",
    "    tracks = sptfy.album_tracks(album)\n",
    "    for n in range(len(tracks['items'])): \n",
    "            spotify_albums[album]['album'].append(album_names[album_count])\n",
    "            spotify_albums[album]['track_number'].append(tracks['items'][n]['track_number'])\n",
    "            spotify_albums[album]['id'].append(tracks['items'][n]['id'])\n",
    "            spotify_albums[album]['name'].append(tracks['items'][n]['name'])\n",
    "            spotify_albums[album]['uri'].append(tracks['items'][n]['uri'])"
   ]
  },
  {
   "cell_type": "code",
   "execution_count": 12,
   "metadata": {
    "ExecuteTime": {
     "end_time": "2019-09-20T18:32:42.938758Z",
     "start_time": "2019-09-20T18:32:40.011329Z"
    }
   },
   "outputs": [
    {
     "name": "stdout",
     "output_type": "stream",
     "text": [
      "Album Amazing Arijit Best Bengali Hits songs has been added to spotify_albums dictionary\n",
      "Album Acche Din, Acche Gaane songs has been added to spotify_albums dictionary\n",
      "Album Groove With Arijit Singh songs has been added to spotify_albums dictionary\n",
      "Album Arijit Singh Broken Strings songs has been added to spotify_albums dictionary\n",
      "Album Loveholic Arijit Singh songs has been added to spotify_albums dictionary\n",
      "Album Chokher Bahire (Original Motion Picture Soundtrack) songs has been added to spotify_albums dictionary\n",
      "Album Murshida and Other Hits (Studio) songs has been added to spotify_albums dictionary\n",
      "Album Yours Truly Arijit songs has been added to spotify_albums dictionary\n",
      "Album Gangster (Original Motion Picture Soundtrack) songs has been added to spotify_albums dictionary\n",
      "Album Arijit Singh - Ultimate Love Songs songs has been added to spotify_albums dictionary\n",
      "Album Musical Bond: Jeet Gannguli & Arijit Singh songs has been added to spotify_albums dictionary\n",
      "Album Ghazals By Trending Voices songs has been added to spotify_albums dictionary\n"
     ]
    }
   ],
   "source": [
    "spotify_albums = {}\n",
    "album_count = 0\n",
    "for i in album_uris:\n",
    "    albumSongs(i)\n",
    "    print(\"Album \" + str(album_names[album_count]) + \" songs has been added to spotify_albums dictionary\")\n",
    "    album_count+=1"
   ]
  },
  {
   "cell_type": "code",
   "execution_count": 13,
   "metadata": {
    "ExecuteTime": {
     "end_time": "2019-09-20T18:32:42.964714Z",
     "start_time": "2019-09-20T18:32:42.941751Z"
    }
   },
   "outputs": [],
   "source": [
    "def audio_features(album):\n",
    "    spotify_albums[album]['acousticness'] = []\n",
    "    spotify_albums[album]['danceability'] = []\n",
    "    spotify_albums[album]['energy'] = []\n",
    "    spotify_albums[album]['instrumentalness'] = []\n",
    "    spotify_albums[album]['liveness'] = []\n",
    "    spotify_albums[album]['loudness'] = []\n",
    "    spotify_albums[album]['speechiness'] = []\n",
    "    spotify_albums[album]['tempo'] = []\n",
    "    spotify_albums[album]['valence'] = []\n",
    "    spotify_albums[album]['popularity'] = []\n",
    "    track_count = 0\n",
    "    for track in spotify_albums[album]['uri']:\n",
    "        features = sptfy.audio_features(track)\n",
    "        spotify_albums[album]['acousticness'].append(features[0]['acousticness'])\n",
    "        spotify_albums[album]['danceability'].append(features[0]['danceability'])\n",
    "        spotify_albums[album]['energy'].append(features[0]['energy'])\n",
    "        spotify_albums[album]['instrumentalness'].append(features[0]['instrumentalness'])\n",
    "        spotify_albums[album]['liveness'].append(features[0]['liveness'])\n",
    "        spotify_albums[album]['loudness'].append(features[0]['loudness'])\n",
    "        spotify_albums[album]['speechiness'].append(features[0]['speechiness'])\n",
    "        spotify_albums[album]['tempo'].append(features[0]['tempo'])\n",
    "        spotify_albums[album]['valence'].append(features[0]['valence'])\n",
    "        pop = sptfy.track(track)\n",
    "        spotify_albums[album]['popularity'].append(pop['popularity'])\n",
    "        track_count+=1"
   ]
  },
  {
   "cell_type": "code",
   "execution_count": 14,
   "metadata": {
    "ExecuteTime": {
     "end_time": "2019-09-20T18:33:47.756356Z",
     "start_time": "2019-09-20T18:32:42.968678Z"
    }
   },
   "outputs": [
    {
     "data": {
      "application/vnd.jupyter.widget-view+json": {
       "model_id": "90ee4f8527a449d58aadc27c26767379",
       "version_major": 2,
       "version_minor": 0
      },
      "text/plain": [
       "HBox(children=(IntProgress(value=0, max=12), HTML(value='')))"
      ]
     },
     "metadata": {},
     "output_type": "display_data"
    },
    {
     "name": "stdout",
     "output_type": "stream",
     "text": [
      "\n"
     ]
    }
   ],
   "source": [
    "for i in tqdm(spotify_albums):\n",
    "    audio_features(i)"
   ]
  },
  {
   "cell_type": "code",
   "execution_count": 15,
   "metadata": {
    "ExecuteTime": {
     "end_time": "2019-09-20T18:33:47.777298Z",
     "start_time": "2019-09-20T18:33:47.760343Z"
    }
   },
   "outputs": [
    {
     "data": {
      "text/plain": [
       "145"
      ]
     },
     "execution_count": 15,
     "metadata": {},
     "output_type": "execute_result"
    }
   ],
   "source": [
    "dic_df = {}\n",
    "dic_df['album'] = []\n",
    "dic_df['track_number'] = []\n",
    "dic_df['id'] = []\n",
    "dic_df['name'] = []\n",
    "dic_df['uri'] = []\n",
    "dic_df['acousticness'] = []\n",
    "dic_df['danceability'] = []\n",
    "dic_df['energy'] = []\n",
    "dic_df['instrumentalness'] = []\n",
    "dic_df['liveness'] = []\n",
    "dic_df['loudness'] = []\n",
    "dic_df['speechiness'] = []\n",
    "dic_df['tempo'] = []\n",
    "dic_df['valence'] = []\n",
    "dic_df['popularity'] = []\n",
    "for album in spotify_albums: \n",
    "    for feature in spotify_albums[album]:\n",
    "        dic_df[feature].extend(spotify_albums[album][feature])\n",
    "        \n",
    "len(dic_df['album'])"
   ]
  },
  {
   "cell_type": "code",
   "execution_count": 16,
   "metadata": {
    "ExecuteTime": {
     "end_time": "2019-09-20T18:33:47.983745Z",
     "start_time": "2019-09-20T18:33:47.780289Z"
    }
   },
   "outputs": [],
   "source": [
    "df = pd.DataFrame.from_dict(dic_df)\n",
    "df['artist'] = 'Arijit Singh'"
   ]
  },
  {
   "cell_type": "code",
   "execution_count": 17,
   "metadata": {
    "ExecuteTime": {
     "end_time": "2019-09-20T18:33:48.170278Z",
     "start_time": "2019-09-20T18:33:47.987735Z"
    }
   },
   "outputs": [
    {
     "data": {
      "text/html": [
       "<div>\n",
       "<style scoped>\n",
       "    .dataframe tbody tr th:only-of-type {\n",
       "        vertical-align: middle;\n",
       "    }\n",
       "\n",
       "    .dataframe tbody tr th {\n",
       "        vertical-align: top;\n",
       "    }\n",
       "\n",
       "    .dataframe thead th {\n",
       "        text-align: right;\n",
       "    }\n",
       "</style>\n",
       "<table border=\"1\" class=\"dataframe\">\n",
       "  <thead>\n",
       "    <tr style=\"text-align: right;\">\n",
       "      <th></th>\n",
       "      <th>album</th>\n",
       "      <th>track_number</th>\n",
       "      <th>id</th>\n",
       "      <th>name</th>\n",
       "      <th>uri</th>\n",
       "      <th>acousticness</th>\n",
       "      <th>danceability</th>\n",
       "      <th>energy</th>\n",
       "      <th>instrumentalness</th>\n",
       "      <th>liveness</th>\n",
       "      <th>loudness</th>\n",
       "      <th>speechiness</th>\n",
       "      <th>tempo</th>\n",
       "      <th>valence</th>\n",
       "      <th>popularity</th>\n",
       "      <th>artist</th>\n",
       "    </tr>\n",
       "  </thead>\n",
       "  <tbody>\n",
       "    <tr>\n",
       "      <td>0</td>\n",
       "      <td>Amazing Arijit Best Bengali Hits</td>\n",
       "      <td>1</td>\n",
       "      <td>5zSTeBKf29soRmlIjDIzdU</td>\n",
       "      <td>Keno (From \"Amanush 2 \")</td>\n",
       "      <td>spotify:track:5zSTeBKf29soRmlIjDIzdU</td>\n",
       "      <td>0.258</td>\n",
       "      <td>0.473</td>\n",
       "      <td>0.683</td>\n",
       "      <td>0.000000</td>\n",
       "      <td>0.4390</td>\n",
       "      <td>-5.181</td>\n",
       "      <td>0.0339</td>\n",
       "      <td>171.771</td>\n",
       "      <td>0.603</td>\n",
       "      <td>23</td>\n",
       "      <td>Arijit Singh</td>\n",
       "    </tr>\n",
       "    <tr>\n",
       "      <td>1</td>\n",
       "      <td>Amazing Arijit Best Bengali Hits</td>\n",
       "      <td>2</td>\n",
       "      <td>2z5SaZahiVSXPdzWkY5zS5</td>\n",
       "      <td>Chol Naa Jai (From \"Amazon Obhijaan\")</td>\n",
       "      <td>spotify:track:2z5SaZahiVSXPdzWkY5zS5</td>\n",
       "      <td>0.736</td>\n",
       "      <td>0.584</td>\n",
       "      <td>0.622</td>\n",
       "      <td>0.000000</td>\n",
       "      <td>0.3610</td>\n",
       "      <td>-7.128</td>\n",
       "      <td>0.0558</td>\n",
       "      <td>97.963</td>\n",
       "      <td>0.424</td>\n",
       "      <td>21</td>\n",
       "      <td>Arijit Singh</td>\n",
       "    </tr>\n",
       "    <tr>\n",
       "      <td>2</td>\n",
       "      <td>Amazing Arijit Best Bengali Hits</td>\n",
       "      <td>3</td>\n",
       "      <td>0YAMr7Mm1Hocs20yE9CHFh</td>\n",
       "      <td>Apur Payer Chhap (From \"Apur Panchali\")</td>\n",
       "      <td>spotify:track:0YAMr7Mm1Hocs20yE9CHFh</td>\n",
       "      <td>0.885</td>\n",
       "      <td>0.268</td>\n",
       "      <td>0.276</td>\n",
       "      <td>0.000003</td>\n",
       "      <td>0.0789</td>\n",
       "      <td>-9.641</td>\n",
       "      <td>0.0321</td>\n",
       "      <td>90.429</td>\n",
       "      <td>0.337</td>\n",
       "      <td>19</td>\n",
       "      <td>Arijit Singh</td>\n",
       "    </tr>\n",
       "    <tr>\n",
       "      <td>3</td>\n",
       "      <td>Amazing Arijit Best Bengali Hits</td>\n",
       "      <td>4</td>\n",
       "      <td>61VWshE75KDVRg9YRYdCvY</td>\n",
       "      <td>Ore Mon Udashi (From \"Bengali Babu English Mem\")</td>\n",
       "      <td>spotify:track:61VWshE75KDVRg9YRYdCvY</td>\n",
       "      <td>0.188</td>\n",
       "      <td>0.492</td>\n",
       "      <td>0.805</td>\n",
       "      <td>0.000000</td>\n",
       "      <td>0.2290</td>\n",
       "      <td>-5.508</td>\n",
       "      <td>0.0463</td>\n",
       "      <td>80.004</td>\n",
       "      <td>0.764</td>\n",
       "      <td>20</td>\n",
       "      <td>Arijit Singh</td>\n",
       "    </tr>\n",
       "    <tr>\n",
       "      <td>4</td>\n",
       "      <td>Amazing Arijit Best Bengali Hits</td>\n",
       "      <td>5</td>\n",
       "      <td>4chcixD5paRPFvcTZONziI</td>\n",
       "      <td>Parbona Ami Chharte Toke (From \"Borbaad\")</td>\n",
       "      <td>spotify:track:4chcixD5paRPFvcTZONziI</td>\n",
       "      <td>0.369</td>\n",
       "      <td>0.556</td>\n",
       "      <td>0.780</td>\n",
       "      <td>0.000000</td>\n",
       "      <td>0.2670</td>\n",
       "      <td>-4.690</td>\n",
       "      <td>0.0352</td>\n",
       "      <td>90.048</td>\n",
       "      <td>0.526</td>\n",
       "      <td>23</td>\n",
       "      <td>Arijit Singh</td>\n",
       "    </tr>\n",
       "    <tr>\n",
       "      <td>...</td>\n",
       "      <td>...</td>\n",
       "      <td>...</td>\n",
       "      <td>...</td>\n",
       "      <td>...</td>\n",
       "      <td>...</td>\n",
       "      <td>...</td>\n",
       "      <td>...</td>\n",
       "      <td>...</td>\n",
       "      <td>...</td>\n",
       "      <td>...</td>\n",
       "      <td>...</td>\n",
       "      <td>...</td>\n",
       "      <td>...</td>\n",
       "      <td>...</td>\n",
       "      <td>...</td>\n",
       "      <td>...</td>\n",
       "    </tr>\n",
       "    <tr>\n",
       "      <td>140</td>\n",
       "      <td>Ghazals By Trending Voices</td>\n",
       "      <td>6</td>\n",
       "      <td>5Ks9JQnsFiUnyY17i1TNvH</td>\n",
       "      <td>Dil Ki Chalegi</td>\n",
       "      <td>spotify:track:5Ks9JQnsFiUnyY17i1TNvH</td>\n",
       "      <td>0.556</td>\n",
       "      <td>0.508</td>\n",
       "      <td>0.379</td>\n",
       "      <td>0.000203</td>\n",
       "      <td>0.1020</td>\n",
       "      <td>-15.160</td>\n",
       "      <td>0.0402</td>\n",
       "      <td>99.779</td>\n",
       "      <td>0.471</td>\n",
       "      <td>9</td>\n",
       "      <td>Arijit Singh</td>\n",
       "    </tr>\n",
       "    <tr>\n",
       "      <td>141</td>\n",
       "      <td>Ghazals By Trending Voices</td>\n",
       "      <td>7</td>\n",
       "      <td>3lQFpRG2GXkDu54XbwtYMx</td>\n",
       "      <td>Jab Khud Par</td>\n",
       "      <td>spotify:track:3lQFpRG2GXkDu54XbwtYMx</td>\n",
       "      <td>0.926</td>\n",
       "      <td>0.559</td>\n",
       "      <td>0.448</td>\n",
       "      <td>0.000030</td>\n",
       "      <td>0.1020</td>\n",
       "      <td>-7.619</td>\n",
       "      <td>0.0328</td>\n",
       "      <td>79.890</td>\n",
       "      <td>0.283</td>\n",
       "      <td>8</td>\n",
       "      <td>Arijit Singh</td>\n",
       "    </tr>\n",
       "    <tr>\n",
       "      <td>142</td>\n",
       "      <td>Ghazals By Trending Voices</td>\n",
       "      <td>8</td>\n",
       "      <td>1Ias3EjYIKypmt7yTa8v8p</td>\n",
       "      <td>Tera Khayaal</td>\n",
       "      <td>spotify:track:1Ias3EjYIKypmt7yTa8v8p</td>\n",
       "      <td>0.701</td>\n",
       "      <td>0.433</td>\n",
       "      <td>0.627</td>\n",
       "      <td>0.000366</td>\n",
       "      <td>0.1900</td>\n",
       "      <td>-8.137</td>\n",
       "      <td>0.0396</td>\n",
       "      <td>115.812</td>\n",
       "      <td>0.269</td>\n",
       "      <td>9</td>\n",
       "      <td>Arijit Singh</td>\n",
       "    </tr>\n",
       "    <tr>\n",
       "      <td>143</td>\n",
       "      <td>Ghazals By Trending Voices</td>\n",
       "      <td>9</td>\n",
       "      <td>1dS5EkJUMTEWEYsWx6B3tH</td>\n",
       "      <td>Kuch Aise Meri</td>\n",
       "      <td>spotify:track:1dS5EkJUMTEWEYsWx6B3tH</td>\n",
       "      <td>0.496</td>\n",
       "      <td>0.646</td>\n",
       "      <td>0.534</td>\n",
       "      <td>0.000000</td>\n",
       "      <td>0.0698</td>\n",
       "      <td>-9.397</td>\n",
       "      <td>0.0483</td>\n",
       "      <td>89.948</td>\n",
       "      <td>0.590</td>\n",
       "      <td>9</td>\n",
       "      <td>Arijit Singh</td>\n",
       "    </tr>\n",
       "    <tr>\n",
       "      <td>144</td>\n",
       "      <td>Ghazals By Trending Voices</td>\n",
       "      <td>10</td>\n",
       "      <td>6goK2gVc3VtgKiF9f2OVX7</td>\n",
       "      <td>Barsengi Aaj Rehmatein</td>\n",
       "      <td>spotify:track:6goK2gVc3VtgKiF9f2OVX7</td>\n",
       "      <td>0.139</td>\n",
       "      <td>0.690</td>\n",
       "      <td>0.540</td>\n",
       "      <td>0.000000</td>\n",
       "      <td>0.1990</td>\n",
       "      <td>-9.560</td>\n",
       "      <td>0.0389</td>\n",
       "      <td>114.080</td>\n",
       "      <td>0.285</td>\n",
       "      <td>8</td>\n",
       "      <td>Arijit Singh</td>\n",
       "    </tr>\n",
       "  </tbody>\n",
       "</table>\n",
       "<p>145 rows × 16 columns</p>\n",
       "</div>"
      ],
      "text/plain": [
       "                                album  track_number                      id  \\\n",
       "0    Amazing Arijit Best Bengali Hits  1             5zSTeBKf29soRmlIjDIzdU   \n",
       "1    Amazing Arijit Best Bengali Hits  2             2z5SaZahiVSXPdzWkY5zS5   \n",
       "2    Amazing Arijit Best Bengali Hits  3             0YAMr7Mm1Hocs20yE9CHFh   \n",
       "3    Amazing Arijit Best Bengali Hits  4             61VWshE75KDVRg9YRYdCvY   \n",
       "4    Amazing Arijit Best Bengali Hits  5             4chcixD5paRPFvcTZONziI   \n",
       "..                                ... ..                                ...   \n",
       "140  Ghazals By Trending Voices        6             5Ks9JQnsFiUnyY17i1TNvH   \n",
       "141  Ghazals By Trending Voices        7             3lQFpRG2GXkDu54XbwtYMx   \n",
       "142  Ghazals By Trending Voices        8             1Ias3EjYIKypmt7yTa8v8p   \n",
       "143  Ghazals By Trending Voices        9             1dS5EkJUMTEWEYsWx6B3tH   \n",
       "144  Ghazals By Trending Voices        10            6goK2gVc3VtgKiF9f2OVX7   \n",
       "\n",
       "                                                 name  \\\n",
       "0    Keno (From \"Amanush 2 \")                           \n",
       "1    Chol Naa Jai (From \"Amazon Obhijaan\")              \n",
       "2    Apur Payer Chhap (From \"Apur Panchali\")            \n",
       "3    Ore Mon Udashi (From \"Bengali Babu English Mem\")   \n",
       "4    Parbona Ami Chharte Toke (From \"Borbaad\")          \n",
       "..                                         ...          \n",
       "140  Dil Ki Chalegi                                     \n",
       "141  Jab Khud Par                                       \n",
       "142  Tera Khayaal                                       \n",
       "143  Kuch Aise Meri                                     \n",
       "144  Barsengi Aaj Rehmatein                             \n",
       "\n",
       "                                      uri  acousticness  danceability  energy  \\\n",
       "0    spotify:track:5zSTeBKf29soRmlIjDIzdU  0.258         0.473         0.683    \n",
       "1    spotify:track:2z5SaZahiVSXPdzWkY5zS5  0.736         0.584         0.622    \n",
       "2    spotify:track:0YAMr7Mm1Hocs20yE9CHFh  0.885         0.268         0.276    \n",
       "3    spotify:track:61VWshE75KDVRg9YRYdCvY  0.188         0.492         0.805    \n",
       "4    spotify:track:4chcixD5paRPFvcTZONziI  0.369         0.556         0.780    \n",
       "..                                    ...    ...           ...           ...    \n",
       "140  spotify:track:5Ks9JQnsFiUnyY17i1TNvH  0.556         0.508         0.379    \n",
       "141  spotify:track:3lQFpRG2GXkDu54XbwtYMx  0.926         0.559         0.448    \n",
       "142  spotify:track:1Ias3EjYIKypmt7yTa8v8p  0.701         0.433         0.627    \n",
       "143  spotify:track:1dS5EkJUMTEWEYsWx6B3tH  0.496         0.646         0.534    \n",
       "144  spotify:track:6goK2gVc3VtgKiF9f2OVX7  0.139         0.690         0.540    \n",
       "\n",
       "     instrumentalness  liveness  loudness  speechiness    tempo  valence  \\\n",
       "0    0.000000          0.4390   -5.181     0.0339       171.771  0.603     \n",
       "1    0.000000          0.3610   -7.128     0.0558       97.963   0.424     \n",
       "2    0.000003          0.0789   -9.641     0.0321       90.429   0.337     \n",
       "3    0.000000          0.2290   -5.508     0.0463       80.004   0.764     \n",
       "4    0.000000          0.2670   -4.690     0.0352       90.048   0.526     \n",
       "..        ...             ...      ...        ...          ...     ...     \n",
       "140  0.000203          0.1020   -15.160    0.0402       99.779   0.471     \n",
       "141  0.000030          0.1020   -7.619     0.0328       79.890   0.283     \n",
       "142  0.000366          0.1900   -8.137     0.0396       115.812  0.269     \n",
       "143  0.000000          0.0698   -9.397     0.0483       89.948   0.590     \n",
       "144  0.000000          0.1990   -9.560     0.0389       114.080  0.285     \n",
       "\n",
       "     popularity        artist  \n",
       "0    23          Arijit Singh  \n",
       "1    21          Arijit Singh  \n",
       "2    19          Arijit Singh  \n",
       "3    20          Arijit Singh  \n",
       "4    23          Arijit Singh  \n",
       "..   ..                   ...  \n",
       "140  9           Arijit Singh  \n",
       "141  8           Arijit Singh  \n",
       "142  9           Arijit Singh  \n",
       "143  9           Arijit Singh  \n",
       "144  8           Arijit Singh  \n",
       "\n",
       "[145 rows x 16 columns]"
      ]
     },
     "execution_count": 17,
     "metadata": {},
     "output_type": "execute_result"
    }
   ],
   "source": [
    "df"
   ]
  },
  {
   "cell_type": "code",
   "execution_count": 18,
   "metadata": {
    "ExecuteTime": {
     "end_time": "2019-09-20T18:34:30.063379Z",
     "start_time": "2019-09-20T18:34:29.772158Z"
    }
   },
   "outputs": [],
   "source": [
    "df.to_csv('E:/Scrapped-Data/Spotify-ArijitSingh.csv', index=False)"
   ]
  },
  {
   "cell_type": "code",
   "execution_count": null,
   "metadata": {},
   "outputs": [],
   "source": []
  }
 ],
 "metadata": {
  "kernelspec": {
   "display_name": "Python 3",
   "language": "python",
   "name": "python3"
  },
  "language_info": {
   "codemirror_mode": {
    "name": "ipython",
    "version": 3
   },
   "file_extension": ".py",
   "mimetype": "text/x-python",
   "name": "python",
   "nbconvert_exporter": "python",
   "pygments_lexer": "ipython3",
   "version": "3.7.3"
  },
  "toc": {
   "base_numbering": 1,
   "nav_menu": {},
   "number_sections": true,
   "sideBar": true,
   "skip_h1_title": false,
   "title_cell": "Table of Contents",
   "title_sidebar": "Contents",
   "toc_cell": false,
   "toc_position": {},
   "toc_section_display": true,
   "toc_window_display": false
  },
  "varInspector": {
   "cols": {
    "lenName": 16,
    "lenType": 16,
    "lenVar": 40
   },
   "kernels_config": {
    "python": {
     "delete_cmd_postfix": "",
     "delete_cmd_prefix": "del ",
     "library": "var_list.py",
     "varRefreshCmd": "print(var_dic_list())"
    },
    "r": {
     "delete_cmd_postfix": ") ",
     "delete_cmd_prefix": "rm(",
     "library": "var_list.r",
     "varRefreshCmd": "cat(var_dic_list()) "
    }
   },
   "types_to_exclude": [
    "module",
    "function",
    "builtin_function_or_method",
    "instance",
    "_Feature"
   ],
   "window_display": false
  }
 },
 "nbformat": 4,
 "nbformat_minor": 2
}
