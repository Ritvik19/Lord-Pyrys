{
 "cells": [
  {
   "cell_type": "code",
   "execution_count": 1,
   "metadata": {
    "ExecuteTime": {
     "end_time": "2019-06-02T11:06:32.842090Z",
     "start_time": "2019-06-02T11:06:32.545786Z"
    }
   },
   "outputs": [],
   "source": [
    "import requests, bs4, json"
   ]
  },
  {
   "cell_type": "code",
   "execution_count": 2,
   "metadata": {
    "ExecuteTime": {
     "end_time": "2019-06-02T11:06:32.867929Z",
     "start_time": "2019-06-02T11:06:32.844990Z"
    }
   },
   "outputs": [],
   "source": [
    "def websiteInfo(website, path):\n",
    "    url = 'https://www.whois.com/whois/'+website\n",
    "    website_details = {}\n",
    "    res = requests.get(url)\n",
    "    if res.status_code == requests.codes.ok:\n",
    "        ressoup = bs4.BeautifulSoup(res.text, 'lxml')\n",
    "        elems = ressoup.select('.df-value')\n",
    "        try:\n",
    "            website_details['Domain'] = elems[0].getText()\n",
    "            website_details['Registrar'] = elems[1].getText()\n",
    "            website_details['Registered On'] = elems[2].getText()\n",
    "            website_details['Expires On'] = elems[3].getText()\n",
    "            website_details['Updated On'] = elems[4].getText()\n",
    "            website_details['Registrant Organization'] = elems[7].getText()\n",
    "            website_details['Registrant State'] = elems[8].getText()\n",
    "            website_details['Registrant Country'] = elems[9].getText()\n",
    "        except IndexError:\n",
    "            pass\n",
    "        \n",
    "    \n",
    "    url = 'https://www.alexa.com/siteinfo/'+website\n",
    "    res = requests.get(url)\n",
    "    if res.status_code == requests.codes.ok:\n",
    "        ressoup = bs4.BeautifulSoup(res.text, 'lxml')\n",
    "        \n",
    "        elems = ressoup.select('.num.purple')\n",
    "        try:\n",
    "            website_details['Search Traffic'] = elems[0].getText()\n",
    "            website_details['Bounce Rate'] = elems[1].getText()\n",
    "        except IndexError:\n",
    "            pass \n",
    "        \n",
    "        elems = ressoup.select('.big.data')\n",
    "        try:\n",
    "            website_details['Total Sites Linking in'] = elems[1].getText()\n",
    "        except IndexError:\n",
    "            pass \n",
    "        \n",
    "        elems = ressoup.select('.rankmini-rank')\n",
    "        try:\n",
    "            website_details['Alexa Rank'] = elems[0].getText().strip()\n",
    "        except IndexError:\n",
    "            pass \n",
    "        elems = ressoup.select('.small.data')\n",
    "        try:\n",
    "            website_details['Daily Views per Visitor'] = elems[1].getText().strip().split()[0]\n",
    "            website_details['Daily Time on Site'] = elems[2].getText().strip().split()[0]\n",
    "            website_details['Bounce Rate'] = elems[3].getText().strip().split()[0]\n",
    "        except IndexError:\n",
    "            pass \n",
    "        print(website_details)\n",
    "    try:\n",
    "        with open(path, 'w') as outfile:\n",
    "            json.dump(website_details, outfile, indent=4)\n",
    "    except FileNotFoundError:\n",
    "        print('Invalid path')"
   ]
  },
  {
   "cell_type": "code",
   "execution_count": 3,
   "metadata": {
    "ExecuteTime": {
     "end_time": "2019-06-02T11:07:44.940829Z",
     "start_time": "2019-06-02T11:06:32.870924Z"
    }
   },
   "outputs": [
    {
     "name": "stdout",
     "output_type": "stream",
     "text": [
      "Website:  google.com\n",
      "Complete path to json:  \n",
      "{'Domain': 'google.com', 'Registrar': 'MarkMonitor Inc.', 'Registered On': '1997-09-15', 'Expires On': '2020-09-13', 'Updated On': '2018-02-21', 'Registrant Organization': 'Google LLC', 'Registrant State': 'CA', 'Registrant Country': 'US', 'Search Traffic': '0.3%', 'Bounce Rate': '33.5%', 'Total Sites Linking in': '2,327,077', 'Alexa Rank': '#1', 'Daily Views per Visitor': '10.71', 'Daily Time on Site': '8:10'}\n",
      "Invalid path\n"
     ]
    }
   ],
   "source": [
    "website = input('Website:  ')\n",
    "path = input('Complete path to json:  ')\n",
    "websiteInfo(website, path)"
   ]
  }
 ],
 "metadata": {
  "kernelspec": {
   "display_name": "Python 3",
   "language": "python",
   "name": "python3"
  },
  "language_info": {
   "codemirror_mode": {
    "name": "ipython",
    "version": 3
   },
   "file_extension": ".py",
   "mimetype": "text/x-python",
   "name": "python",
   "nbconvert_exporter": "python",
   "pygments_lexer": "ipython3",
   "version": "3.7.3"
  },
  "toc": {
   "base_numbering": 1,
   "nav_menu": {},
   "number_sections": true,
   "sideBar": true,
   "skip_h1_title": false,
   "title_cell": "Table of Contents",
   "title_sidebar": "Contents",
   "toc_cell": false,
   "toc_position": {},
   "toc_section_display": true,
   "toc_window_display": false
  },
  "varInspector": {
   "cols": {
    "lenName": 16,
    "lenType": 16,
    "lenVar": 40
   },
   "kernels_config": {
    "python": {
     "delete_cmd_postfix": "",
     "delete_cmd_prefix": "del ",
     "library": "var_list.py",
     "varRefreshCmd": "print(var_dic_list())"
    },
    "r": {
     "delete_cmd_postfix": ") ",
     "delete_cmd_prefix": "rm(",
     "library": "var_list.r",
     "varRefreshCmd": "cat(var_dic_list()) "
    }
   },
   "types_to_exclude": [
    "module",
    "function",
    "builtin_function_or_method",
    "instance",
    "_Feature"
   ],
   "window_display": false
  }
 },
 "nbformat": 4,
 "nbformat_minor": 2
}
