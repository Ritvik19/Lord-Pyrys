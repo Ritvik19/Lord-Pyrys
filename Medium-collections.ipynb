{
 "cells": [
  {
   "cell_type": "code",
   "execution_count": 1,
   "metadata": {
    "ExecuteTime": {
     "end_time": "2019-08-01T14:27:48.534149Z",
     "start_time": "2019-08-01T14:27:44.039555Z"
    }
   },
   "outputs": [],
   "source": [
    "from selenium import webdriver\n",
    "import pandas as pd"
   ]
  },
  {
   "cell_type": "code",
   "execution_count": 2,
   "metadata": {
    "ExecuteTime": {
     "end_time": "2019-08-01T14:27:48.546217Z",
     "start_time": "2019-08-01T14:27:48.539003Z"
    }
   },
   "outputs": [],
   "source": [
    "import datetime\n",
    "import time"
   ]
  },
  {
   "cell_type": "code",
   "execution_count": 4,
   "metadata": {
    "ExecuteTime": {
     "end_time": "2019-08-01T14:30:09.080548Z",
     "start_time": "2019-08-01T14:29:34.360726Z"
    }
   },
   "outputs": [
    {
     "name": "stdout",
     "output_type": "stream",
     "text": [
      "[INFO] Total time taken to scroll till the end 0:00:24.612265\n"
     ]
    }
   ],
   "source": [
    "url = 'https://medium.com/collections'\n",
    "\n",
    "options = webdriver.ChromeOptions()\n",
    "options.add_argument(\"--start-maximized\")\n",
    "\n",
    "driver = webdriver.Chrome(options=options)\n",
    "driver.get(url)\n",
    "\n",
    "pause_time = 2\n",
    "\n",
    "last_height = driver.execute_script(\"return document.body.scrollHeight\")\n",
    "\n",
    "start = datetime.datetime.now()\n",
    "\n",
    "while True:\n",
    "    driver.execute_script(\"window.scrollTo(0, document.body.scrollHeight);\")\n",
    "    time.sleep(pause_time)\n",
    "\n",
    "    new_height = driver.execute_script(\"return document.body.scrollHeight\")\n",
    "    if new_height == last_height: # which means end of page\n",
    "        break\n",
    "    last_height = new_height\n",
    "\n",
    "end = datetime.datetime.now()\n",
    "delta = end-start\n",
    "print(\"[INFO] Total time taken to scroll till the end {}\".format(delta))\n",
    "\n",
    "collections = driver.find_elements_by_css_selector('article a')\n",
    "\n",
    "collections_ = []\n",
    "\n",
    "for i, tag in enumerate(collections):\n",
    "    collections_.append(tag.get_attribute('href'))"
   ]
  },
  {
   "cell_type": "code",
   "execution_count": 7,
   "metadata": {
    "ExecuteTime": {
     "end_time": "2019-08-01T14:31:47.501329Z",
     "start_time": "2019-08-01T14:31:13.914527Z"
    }
   },
   "outputs": [
    {
     "name": "stdout",
     "output_type": "stream",
     "text": [
      "[INFO] Total time taken to scroll till the end 0:00:20.264050\n",
      "465\n"
     ]
    }
   ],
   "source": [
    "url = collections_[0]\n",
    "\n",
    "options = webdriver.ChromeOptions()\n",
    "options.add_argument(\"--start-maximized\")\n",
    "\n",
    "driver = webdriver.Chrome(options=options)\n",
    "driver.get(url)\n",
    "\n",
    "pause_time = 2\n",
    "\n",
    "last_height = driver.execute_script(\"return document.body.scrollHeight\")\n",
    "\n",
    "start = datetime.datetime.now()\n",
    "\n",
    "while True:\n",
    "    driver.execute_script(\"window.scrollTo(0, document.body.scrollHeight);\")\n",
    "    time.sleep(pause_time)\n",
    "\n",
    "    new_height = driver.execute_script(\"return document.body.scrollHeight\")\n",
    "    if new_height == last_height: # which means end of page\n",
    "        break\n",
    "    last_height = new_height\n",
    "\n",
    "end = datetime.datetime.now()\n",
    "delta = end-start\n",
    "print(\"[INFO] Total time taken to scroll till the end {}\".format(delta))\n",
    "\n",
    "articles = driver.find_elements_by_css_selector('section a')\n",
    "\n",
    "articles_ = []\n",
    "print(len(articles))\n",
    "for i, tag in enumerate(articles):\n",
    "    articles_.append(tag.get_attribute('href'))\n",
    "    \n",
    "articles__ = []\n",
    "for a in articles_:\n",
    "    if a.count('/') >= 5:\n",
    "        articles__.append(a)\n",
    "printt(len(articles__))"
   ]
  },
  {
   "cell_type": "code",
   "execution_count": 15,
   "metadata": {
    "ExecuteTime": {
     "end_time": "2019-08-01T14:37:55.923354Z",
     "start_time": "2019-08-01T14:37:55.730824Z"
    }
   },
   "outputs": [],
   "source": [
    "import pdfkit"
   ]
  },
  {
   "cell_type": "code",
   "execution_count": 16,
   "metadata": {
    "ExecuteTime": {
     "end_time": "2019-08-01T14:45:45.322720Z",
     "start_time": "2019-08-01T14:45:16.543658Z"
    }
   },
   "outputs": [
    {
     "name": "stdout",
     "output_type": "stream",
     "text": [
      "Loading pages (1/6)\r\n",
      "[>                                                           ] 0%\r",
      "[======>                                                     ] 10%\r",
      "[================>                                           ] 27%\r",
      "[=====================>                                      ] 35%\r",
      "[========================>                                   ] 41%\r",
      "[=========================>                                  ] 43%\r",
      "[===========================>                                ] 46%\r",
      "[============================>                               ] 47%\r",
      "[==============================>                             ] 51%\r",
      "[===================================>                        ] 59%\r",
      "[=======================================>                    ] 65%\r",
      "[========================================>                   ] 67%\r",
      "[============================================>               ] 74%\r",
      "[==============================================>             ] 77%\r",
      "[===============================================>            ] 79%\r",
      "[=================================================>          ] 82%\r",
      "[===================================================>        ] 85%\r",
      "[===================================================>        ] 86%\r",
      "[=====================================================>      ] 89%\r",
      "[=====================================================>      ] 89%\r",
      "[============================================================] 100%\r",
      "Counting pages (2/6)                                               \r\n",
      "[============================================================] Object 1 of 1\r",
      "Resolving links (4/6)                                                       \r\n",
      "[============================================================] Object 1 of 1\r",
      "Loading headers and footers (5/6)                                           \r\n",
      "Printing pages (6/6)\r\n",
      "[>                                                           ] Preparing\r",
      "[===>                                                        ] Page 1 of 16\r",
      "[=======>                                                    ] Page 2 of 16\r",
      "[==========>                                                 ] Page 3 of 16\r",
      "[===============>                                            ] Page 4 of 16\r",
      "[==================>                                         ] Page 5 of 16\r",
      "[======================>                                     ] Page 6 of 16\r",
      "[=========================>                                  ] Page 7 of 16\r",
      "[==============================>                             ] Page 8 of 16\r",
      "[=================================>                          ] Page 9 of 16\r",
      "[=====================================>                      ] Page 10 of 16\r",
      "[========================================>                   ] Page 11 of 16\r",
      "[=============================================>              ] Page 12 of 16\r",
      "[================================================>           ] Page 13 of 16\r",
      "[====================================================>       ] Page 14 of 16\r",
      "[=======================================================>    ] Page 15 of 16\r",
      "[============================================================] Page 16 of 16\r",
      "Done                                                                        \r\n"
     ]
    },
    {
     "data": {
      "text/plain": [
       "True"
      ]
     },
     "execution_count": 16,
     "metadata": {},
     "output_type": "execute_result"
    }
   ],
   "source": [
    "a = articles__[0]\n",
    "title = 'title'\n",
    "pdfkit.from_url(a, 'E:\\\\'+title+'.pdf')"
   ]
  },
  {
   "cell_type": "code",
   "execution_count": null,
   "metadata": {},
   "outputs": [],
   "source": []
  }
 ],
 "metadata": {
  "kernelspec": {
   "display_name": "Python 3",
   "language": "python",
   "name": "python3"
  },
  "language_info": {
   "codemirror_mode": {
    "name": "ipython",
    "version": 3
   },
   "file_extension": ".py",
   "mimetype": "text/x-python",
   "name": "python",
   "nbconvert_exporter": "python",
   "pygments_lexer": "ipython3",
   "version": "3.7.3"
  },
  "toc": {
   "base_numbering": 1,
   "nav_menu": {},
   "number_sections": true,
   "sideBar": true,
   "skip_h1_title": false,
   "title_cell": "Table of Contents",
   "title_sidebar": "Contents",
   "toc_cell": false,
   "toc_position": {},
   "toc_section_display": true,
   "toc_window_display": false
  },
  "varInspector": {
   "cols": {
    "lenName": 16,
    "lenType": 16,
    "lenVar": 40
   },
   "kernels_config": {
    "python": {
     "delete_cmd_postfix": "",
     "delete_cmd_prefix": "del ",
     "library": "var_list.py",
     "varRefreshCmd": "print(var_dic_list())"
    },
    "r": {
     "delete_cmd_postfix": ") ",
     "delete_cmd_prefix": "rm(",
     "library": "var_list.r",
     "varRefreshCmd": "cat(var_dic_list()) "
    }
   },
   "types_to_exclude": [
    "module",
    "function",
    "builtin_function_or_method",
    "instance",
    "_Feature"
   ],
   "window_display": false
  }
 },
 "nbformat": 4,
 "nbformat_minor": 2
}
