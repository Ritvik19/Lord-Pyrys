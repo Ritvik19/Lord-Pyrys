{
 "cells": [
  {
   "cell_type": "markdown",
   "metadata": {},
   "source": [
    "# Libraries"
   ]
  },
  {
   "cell_type": "code",
   "execution_count": 1,
   "metadata": {
    "ExecuteTime": {
     "end_time": "2019-05-28T18:07:23.613407Z",
     "start_time": "2019-05-28T18:07:22.167578Z"
    }
   },
   "outputs": [],
   "source": [
    "import requests, bs4\n",
    "import re\n",
    "import pandas as pd"
   ]
  },
  {
   "cell_type": "markdown",
   "metadata": {},
   "source": [
    "# Scraping"
   ]
  },
  {
   "cell_type": "code",
   "execution_count": 2,
   "metadata": {
    "ExecuteTime": {
     "end_time": "2019-05-28T18:07:26.056547Z",
     "start_time": "2019-05-28T18:07:23.617396Z"
    }
   },
   "outputs": [],
   "source": [
    "url = 'https://sebsauvage.net/python/snyppets/'\n",
    "res = requests.get(url)"
   ]
  },
  {
   "cell_type": "code",
   "execution_count": 3,
   "metadata": {
    "ExecuteTime": {
     "end_time": "2019-05-28T18:07:26.065525Z",
     "start_time": "2019-05-28T18:07:26.059541Z"
    }
   },
   "outputs": [],
   "source": [
    "h2_REGEX = re.compile('<h2>((.|\\n)*?)</h2>')"
   ]
  },
  {
   "cell_type": "code",
   "execution_count": 4,
   "metadata": {
    "ExecuteTime": {
     "end_time": "2019-05-28T18:07:26.225612Z",
     "start_time": "2019-05-28T18:07:26.069516Z"
    }
   },
   "outputs": [],
   "source": [
    "codeblock_REGEX = re.compile(r'<div class=\"codeblock\">((.|\\n)*?)</div>')"
   ]
  },
  {
   "cell_type": "code",
   "execution_count": 5,
   "metadata": {
    "ExecuteTime": {
     "end_time": "2019-05-28T18:07:26.339818Z",
     "start_time": "2019-05-28T18:07:26.228605Z"
    }
   },
   "outputs": [],
   "source": [
    "heads = h2_REGEX.findall(res.text)"
   ]
  },
  {
   "cell_type": "code",
   "execution_count": 6,
   "metadata": {
    "ExecuteTime": {
     "end_time": "2019-05-28T18:07:26.438566Z",
     "start_time": "2019-05-28T18:07:26.341813Z"
    }
   },
   "outputs": [],
   "source": [
    "def text_head(var):\n",
    "    var_ = str(var[0])\n",
    "    var_ = re.sub(r'<.*.>', ' ', var_)\n",
    "    var_ = var_.replace('\\n', ' ')\n",
    "    var_ = var_.replace('\\r', ' ')\n",
    "    var_ = re.sub('\\s+', ' ', var_)\n",
    "    return var_.strip()"
   ]
  },
  {
   "cell_type": "code",
   "execution_count": 7,
   "metadata": {
    "ExecuteTime": {
     "end_time": "2019-05-28T18:07:26.550270Z",
     "start_time": "2019-05-28T18:07:26.440563Z"
    }
   },
   "outputs": [],
   "source": [
    "titles = []\n",
    "for i in range(108):\n",
    "    titles.append(text_head(heads[i]))"
   ]
  },
  {
   "cell_type": "code",
   "execution_count": 8,
   "metadata": {
    "ExecuteTime": {
     "end_time": "2019-05-28T18:07:26.687902Z",
     "start_time": "2019-05-28T18:07:26.554259Z"
    }
   },
   "outputs": [
    {
     "data": {
      "text/plain": [
       "108"
      ]
     },
     "execution_count": 8,
     "metadata": {},
     "output_type": "execute_result"
    }
   ],
   "source": [
    "len(titles)"
   ]
  },
  {
   "cell_type": "code",
   "execution_count": 9,
   "metadata": {
    "ExecuteTime": {
     "end_time": "2019-05-28T18:07:26.806594Z",
     "start_time": "2019-05-28T18:07:26.691893Z"
    }
   },
   "outputs": [],
   "source": [
    "chunks = h2_REGEX.split(res.text)"
   ]
  },
  {
   "cell_type": "code",
   "execution_count": 10,
   "metadata": {
    "ExecuteTime": {
     "end_time": "2019-05-28T18:07:26.926274Z",
     "start_time": "2019-05-28T18:07:26.809589Z"
    }
   },
   "outputs": [],
   "source": [
    "def text_code(var):\n",
    "    var_ = ''\n",
    "    for _ in var:\n",
    "        var_ += str(_[0]) + '<br> <br> '\n",
    "    var_ = var_.replace('&gt;', '>')\n",
    "    var_ = var_.replace('&nbsp;', ' ')\n",
    "    var_ = var_.replace('\\n', '')\n",
    "    var_ = var_.replace('\\r', ' ')\n",
    "    var_ = var_.replace('<br> ', '\\n')\n",
    "    return var_"
   ]
  },
  {
   "cell_type": "code",
   "execution_count": 11,
   "metadata": {
    "ExecuteTime": {
     "end_time": "2019-05-28T18:07:27.055929Z",
     "start_time": "2019-05-28T18:07:26.928268Z"
    }
   },
   "outputs": [],
   "source": [
    "codes = []\n",
    "for i in range(len(chunks)):\n",
    "    if i>0 and i%3== 0:\n",
    "        codes.append(text_code(codeblock_REGEX.findall(chunks[i])))"
   ]
  },
  {
   "cell_type": "code",
   "execution_count": 12,
   "metadata": {
    "ExecuteTime": {
     "end_time": "2019-05-28T18:07:27.160162Z",
     "start_time": "2019-05-28T18:07:27.058921Z"
    }
   },
   "outputs": [
    {
     "data": {
      "text/plain": [
       "108"
      ]
     },
     "execution_count": 12,
     "metadata": {},
     "output_type": "execute_result"
    }
   ],
   "source": [
    "len(codes)"
   ]
  },
  {
   "cell_type": "code",
   "execution_count": 13,
   "metadata": {
    "ExecuteTime": {
     "end_time": "2019-05-28T18:07:27.329112Z",
     "start_time": "2019-05-28T18:07:27.165151Z"
    }
   },
   "outputs": [],
   "source": [
    "pd.DataFrame({\n",
    "    'Title' : titles,\n",
    "    'Code' : codes\n",
    "}).drop(107).to_csv('E:/Scrapped-Data/Seb Sauvage.csv', index=False)"
   ]
  },
  {
   "cell_type": "code",
   "execution_count": null,
   "metadata": {},
   "outputs": [],
   "source": []
  }
 ],
 "metadata": {
  "kernelspec": {
   "display_name": "Python 3",
   "language": "python",
   "name": "python3"
  },
  "language_info": {
   "codemirror_mode": {
    "name": "ipython",
    "version": 3
   },
   "file_extension": ".py",
   "mimetype": "text/x-python",
   "name": "python",
   "nbconvert_exporter": "python",
   "pygments_lexer": "ipython3",
   "version": "3.7.3"
  },
  "toc": {
   "base_numbering": 1,
   "nav_menu": {},
   "number_sections": true,
   "sideBar": true,
   "skip_h1_title": false,
   "title_cell": "Table of Contents",
   "title_sidebar": "Contents",
   "toc_cell": false,
   "toc_position": {},
   "toc_section_display": true,
   "toc_window_display": false
  },
  "varInspector": {
   "cols": {
    "lenName": 16,
    "lenType": 16,
    "lenVar": 40
   },
   "kernels_config": {
    "python": {
     "delete_cmd_postfix": "",
     "delete_cmd_prefix": "del ",
     "library": "var_list.py",
     "varRefreshCmd": "print(var_dic_list())"
    },
    "r": {
     "delete_cmd_postfix": ") ",
     "delete_cmd_prefix": "rm(",
     "library": "var_list.r",
     "varRefreshCmd": "cat(var_dic_list()) "
    }
   },
   "types_to_exclude": [
    "module",
    "function",
    "builtin_function_or_method",
    "instance",
    "_Feature"
   ],
   "window_display": false
  }
 },
 "nbformat": 4,
 "nbformat_minor": 2
}
