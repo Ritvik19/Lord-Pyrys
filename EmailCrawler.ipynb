{
 "cells": [
  {
   "cell_type": "markdown",
   "metadata": {},
   "source": [
    "# Libraries"
   ]
  },
  {
   "cell_type": "code",
   "execution_count": 1,
   "metadata": {
    "ExecuteTime": {
     "end_time": "2019-11-06T13:01:33.253857Z",
     "start_time": "2019-11-06T13:01:32.422840Z"
    }
   },
   "outputs": [
    {
     "name": "stderr",
     "output_type": "stream",
     "text": [
      "D:\\Users\\Ritvik\\Anaconda3\\envs\\datascience\\lib\\site-packages\\fuzzywuzzy\\fuzz.py:11: UserWarning: Using slow pure-python SequenceMatcher. Install python-Levenshtein to remove this warning\n",
      "  warnings.warn('Using slow pure-python SequenceMatcher. Install python-Levenshtein to remove this warning')\n"
     ]
    }
   ],
   "source": [
    "import requests, bs4\n",
    "from urllib.parse import urlsplit\n",
    "from fuzzywuzzy import fuzz\n",
    "import re"
   ]
  },
  {
   "cell_type": "markdown",
   "metadata": {},
   "source": [
    "# Scraping"
   ]
  },
  {
   "cell_type": "code",
   "execution_count": 2,
   "metadata": {
    "ExecuteTime": {
     "end_time": "2019-11-06T13:01:33.283115Z",
     "start_time": "2019-11-06T13:01:33.264792Z"
    }
   },
   "outputs": [],
   "source": [
    "EMAIL = re.compile(r'[a-z0-9\\.\\-+_]+@[a-z0-9\\.\\-+_]+\\.[a-z]+')\n",
    "CSS = re.compile(r'<style(.|\\n)*?>(.|\\n)*?</style>')\n",
    "JS = re.compile(r'<script(.|\\n)*?>(.|\\n)*?</script>')\n",
    "HTML = re.compile(r'<(.|\\n)*?>')"
   ]
  },
  {
   "cell_type": "code",
   "execution_count": 3,
   "metadata": {
    "ExecuteTime": {
     "end_time": "2019-11-06T13:01:33.418225Z",
     "start_time": "2019-11-06T13:01:33.290722Z"
    }
   },
   "outputs": [],
   "source": [
    "url = 'http://www.miet.ac.in'"
   ]
  },
  {
   "cell_type": "code",
   "execution_count": 4,
   "metadata": {
    "ExecuteTime": {
     "end_time": "2019-11-06T13:01:38.299882Z",
     "start_time": "2019-11-06T13:01:33.430159Z"
    }
   },
   "outputs": [
    {
     "name": "stdout",
     "output_type": "stream",
     "text": [
      "Crawling http://www.miet.ac.in\n",
      "Adding: About\n",
      "Adding: Placement Office Contact\n",
      "Adding: Contact Us\n",
      "Adding: Contact Us\n",
      "Adding:  Placement Office Contact\n",
      "Crawling #\n",
      "Invalid URL '#': No schema supplied. Perhaps you meant http://#?\n",
      "Crawling https://miet.ac.in/contact-us\n",
      "Crawling contact\n",
      "Invalid URL 'contact': No schema supplied. Perhaps you meant http://contact?\n",
      "Crawling https://miet.ac.in/contact\n",
      "Crawling contact-us\n",
      "Invalid URL 'contact-us': No schema supplied. Perhaps you meant http://contact-us?\n"
     ]
    }
   ],
   "source": [
    "emails = set()\n",
    "unscraped = [url]\n",
    "scraped = []\n",
    "while len(unscraped):\n",
    "    url = unscraped.pop(0)\n",
    "    scraped.append(url)\n",
    "    print('Crawling', url)\n",
    "    parts = urlsplit(url)\n",
    "    base_url = \"{0.scheme}://{0.netloc}\".format(parts)\n",
    "    if '/' in parts.path:\n",
    "        path = url[:url.rfind('/')+1]\n",
    "    else:\n",
    "        path = url\n",
    "    try:\n",
    "        res = requests.get(url)\n",
    "    except Exception as e:\n",
    "        print(e)\n",
    "    \n",
    "    if res.status_code == requests.codes.ok:\n",
    "        contents  = res.text\n",
    "        contents = CSS.sub(' ', contents)\n",
    "        contents = JS.sub(' ', contents)\n",
    "        contents = HTML.sub(' ', contents)\n",
    "        contents = re.sub(r\"\\s+\", ' ', contents)\n",
    "        new_emails = set(EMAIL.findall(contents))\n",
    "        emails = emails |new_emails\n",
    "        \n",
    "        \n",
    "        ressoup = bs4.BeautifulSoup(res.text, 'lxml')\n",
    "        for anchor in ressoup.find_all(\"a\"):\n",
    "            _ = anchor.getText()\n",
    "            if \"href\" in anchor.attrs:\n",
    "                link = anchor.attrs[\"href\"]\n",
    "            else:\n",
    "                link = ''\n",
    "\n",
    "            if link.startswith('/'):\n",
    "                link = base_url + link\n",
    "            if fuzz.token_set_ratio(_, 'about us') > 80 or fuzz.token_set_ratio(_, 'contact us') > 80:\n",
    "                if not link in unscraped and not link in scraped:\n",
    "                    print('Adding:', _)\n",
    "                    unscraped.append(link)\n",
    "                             \n",
    "    else:\n",
    "        print('Something went wrong')"
   ]
  },
  {
   "cell_type": "code",
   "execution_count": 5,
   "metadata": {
    "ExecuteTime": {
     "end_time": "2019-11-06T13:01:38.311089Z",
     "start_time": "2019-11-06T13:01:38.303047Z"
    }
   },
   "outputs": [
    {
     "name": "stdout",
     "output_type": "stream",
     "text": [
      "{'placement@miet.ac.in', 'contact@miet.ac.in'}\n"
     ]
    }
   ],
   "source": [
    "print(emails)"
   ]
  },
  {
   "cell_type": "code",
   "execution_count": null,
   "metadata": {},
   "outputs": [],
   "source": []
  }
 ],
 "metadata": {
  "kernelspec": {
   "display_name": "Python 3",
   "language": "python",
   "name": "python3"
  },
  "language_info": {
   "codemirror_mode": {
    "name": "ipython",
    "version": 3
   },
   "file_extension": ".py",
   "mimetype": "text/x-python",
   "name": "python",
   "nbconvert_exporter": "python",
   "pygments_lexer": "ipython3",
   "version": "3.7.3"
  },
  "toc": {
   "base_numbering": 1,
   "nav_menu": {},
   "number_sections": true,
   "sideBar": true,
   "skip_h1_title": false,
   "title_cell": "Table of Contents",
   "title_sidebar": "Contents",
   "toc_cell": false,
   "toc_position": {},
   "toc_section_display": true,
   "toc_window_display": false
  },
  "varInspector": {
   "cols": {
    "lenName": 16,
    "lenType": 16,
    "lenVar": 40
   },
   "kernels_config": {
    "python": {
     "delete_cmd_postfix": "",
     "delete_cmd_prefix": "del ",
     "library": "var_list.py",
     "varRefreshCmd": "print(var_dic_list())"
    },
    "r": {
     "delete_cmd_postfix": ") ",
     "delete_cmd_prefix": "rm(",
     "library": "var_list.r",
     "varRefreshCmd": "cat(var_dic_list()) "
    }
   },
   "types_to_exclude": [
    "module",
    "function",
    "builtin_function_or_method",
    "instance",
    "_Feature"
   ],
   "window_display": false
  }
 },
 "nbformat": 4,
 "nbformat_minor": 2
}
