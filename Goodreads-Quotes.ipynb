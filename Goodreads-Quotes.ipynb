{
 "cells": [
  {
   "cell_type": "markdown",
   "metadata": {},
   "source": [
    "# Libraries"
   ]
  },
  {
   "cell_type": "code",
   "execution_count": 1,
   "metadata": {
    "ExecuteTime": {
     "end_time": "2019-09-21T12:28:29.013724Z",
     "start_time": "2019-09-21T12:28:27.775647Z"
    }
   },
   "outputs": [],
   "source": [
    "import requests, bs4\n",
    "import numpy as np\n",
    "import pandas as pd\n",
    "from IPython.display import clear_output\n",
    "from tqdm.auto import tqdm\n",
    "from time import sleep\n",
    "from random import random"
   ]
  },
  {
   "cell_type": "code",
   "execution_count": 2,
   "metadata": {
    "ExecuteTime": {
     "end_time": "2019-09-21T12:28:29.021656Z",
     "start_time": "2019-09-21T12:28:29.016670Z"
    }
   },
   "outputs": [],
   "source": [
    "import re\n",
    "EXTRASPACES = re.compile(r'\\s+')\n",
    "HTML = re.compile(r'<(.|\\n)*>')"
   ]
  },
  {
   "cell_type": "markdown",
   "metadata": {},
   "source": [
    "# Categories"
   ]
  },
  {
   "cell_type": "code",
   "execution_count": 3,
   "metadata": {
    "ExecuteTime": {
     "end_time": "2019-09-21T12:28:31.510724Z",
     "start_time": "2019-09-21T12:28:29.024638Z"
    }
   },
   "outputs": [],
   "source": [
    "categories = []\n",
    "url = 'https://www.goodreads.com/quotes'\n",
    "res = requests.get(url)\n",
    "if res.status_code == requests.codes.ok:\n",
    "    ressoup = bs4.BeautifulSoup(res.text, 'lxml')\n",
    "    elems = ressoup.select('a.gr-hyperlink')\n",
    "    for e in elems[62:]:\n",
    "        k = e.getText().replace('Quotes', '').strip()\n",
    "        v = e.get('href')\n",
    "        categories.append((k, v))\n",
    "        \n",
    "else:\n",
    "    print('Something went wrong')"
   ]
  },
  {
   "cell_type": "code",
   "execution_count": 7,
   "metadata": {
    "ExecuteTime": {
     "end_time": "2019-09-21T13:26:44.849359Z",
     "start_time": "2019-09-21T13:26:44.718225Z"
    }
   },
   "outputs": [
    {
     "name": "stdout",
     "output_type": "stream",
     "text": [
      "1 ('Love', '/quotes/tag/love')\n",
      "2 ('Life', '/quotes/tag/life')\n",
      "3 ('Inspirational', '/quotes/tag/inspirational')\n",
      "4 ('Humor', '/quotes/tag/humor')\n",
      "5 ('Philosophy', '/quotes/tag/philosophy')\n",
      "6 ('God', '/quotes/tag/god')\n",
      "7 ('Inspirational2', '/quotes/tag/inspirational-quotes')\n",
      "8 ('Truth', '/quotes/tag/truth')\n",
      "9 ('Wisdom', '/quotes/tag/wisdom')\n",
      "10 ('Romance', '/quotes/tag/romance')\n",
      "11 ('Poetry', '/quotes/tag/poetry')\n",
      "12 ('Death', '/quotes/tag/death')\n",
      "13 ('Happiness', '/quotes/tag/happiness')\n",
      "14 ('Hope', '/quotes/tag/hope')\n",
      "15 ('Faith', '/quotes/tag/faith')\n",
      "16 ('Writing', '/quotes/tag/writing')\n",
      "17 ('Inspiration', '/quotes/tag/inspiration')\n",
      "18 ('Miscellaneous', '/quotes/tag/quotes')\n",
      "19 ('Religion', '/quotes/tag/religion')\n",
      "20 ('Success', '/quotes/tag/success')\n",
      "21 ('Relationships', '/quotes/tag/relationships')\n",
      "22 ('Life Lessons', '/quotes/tag/life-lessons')\n",
      "23 ('Motivational', '/quotes/tag/motivational')\n",
      "24 ('Time', '/quotes/tag/time')\n",
      "25 ('Knowledge', '/quotes/tag/knowledge')\n",
      "26 ('Love2', '/quotes/tag/love-quotes')\n",
      "27 ('Spirituality', '/quotes/tag/spirituality')\n",
      "28 ('Science', '/quotes/tag/science')\n",
      "29 ('Education', '/quotes/tag/education')\n",
      "30 ('Books', '/quotes/tag/books')\n"
     ]
    }
   ],
   "source": [
    "categories[6] = ('Inspirational2', categories[6][1])\n",
    "categories[17] = ('Miscellaneous', categories[17][1])\n",
    "categories[25] = ('Love2', categories[25][1])\n",
    "for e, c in enumerate(categories):\n",
    "    print(e+1, c)"
   ]
  },
  {
   "cell_type": "markdown",
   "metadata": {},
   "source": [
    "# Scraping"
   ]
  },
  {
   "cell_type": "code",
   "execution_count": 5,
   "metadata": {
    "ExecuteTime": {
     "end_time": "2019-09-21T12:32:55.855168Z",
     "start_time": "2019-09-21T12:28:31.669304Z"
    }
   },
   "outputs": [
    {
     "data": {
      "application/vnd.jupyter.widget-view+json": {
       "model_id": "17bbdc1468274bb1b056bf31dbd8940a",
       "version_major": 2,
       "version_minor": 0
      },
      "text/plain": [
       "HBox(children=(IntProgress(value=0), HTML(value='')))"
      ]
     },
     "metadata": {},
     "output_type": "display_data"
    },
    {
     "name": "stdout",
     "output_type": "stream",
     "text": [
      "\n"
     ]
    }
   ],
   "source": [
    "quotes = []\n",
    "for i in tqdm(range(1,101)):\n",
    "    url = 'https://www.goodreads.com/quotes?page='+str(i)\n",
    "    res = requests.get(url)\n",
    "    if res.status_code == requests.codes.ok:\n",
    "        ressoup = bs4.BeautifulSoup(res.text, 'lxml')\n",
    "        elems = ressoup.select('div.quoteText')\n",
    "        for e in elems:\n",
    "            q = EXTRASPACES.sub(' ', e.getText().strip()).strip()\n",
    "            quotes.append(HTML.sub('', q))\n",
    "    else:\n",
    "        print('Something went wrong')\n",
    "\n",
    "pd.DataFrame({\n",
    "    'Quote':quotes\n",
    "}).to_csv('E:/Scrapped-Data/Quotes-Goodreads/Popular.csv', index=False)"
   ]
  },
  {
   "cell_type": "code",
   "execution_count": 8,
   "metadata": {
    "ExecuteTime": {
     "end_time": "2019-09-21T15:31:19.170537Z",
     "start_time": "2019-09-21T13:26:49.957928Z"
    }
   },
   "outputs": [
    {
     "name": "stdout",
     "output_type": "stream",
     "text": [
      "30/30: Books\n"
     ]
    },
    {
     "data": {
      "application/vnd.jupyter.widget-view+json": {
       "model_id": "2043c226f66e4a7f95b7d89761ae7bee",
       "version_major": 2,
       "version_minor": 0
      },
      "text/plain": [
       "HBox(children=(IntProgress(value=0), HTML(value='')))"
      ]
     },
     "metadata": {},
     "output_type": "display_data"
    }
   ],
   "source": [
    "for c in range(30):\n",
    "    clear_output(wait=True)\n",
    "    print(f'{c+1:{2}}/{30}: {categories[c][0]}')\n",
    "    quotes = []\n",
    "    for i in tqdm(range(1, 101)):\n",
    "        url = 'https://www.goodreads.com'+categories[c][1]+'?page='+str(i)\n",
    "        res = requests.get(url)\n",
    "        if res.status_code == requests.codes.ok:\n",
    "            ressoup = bs4.BeautifulSoup(res.text, 'lxml')\n",
    "            elems = ressoup.select('div.quoteText')\n",
    "            for e in elems:\n",
    "                q = EXTRASPACES.sub(' ', e.getText().strip()).strip()\n",
    "                quotes.append(HTML.sub('', q))\n",
    "        else:\n",
    "            print('Something went wrong')\n",
    "        sleep(random())\n",
    "    pd.DataFrame({\n",
    "        'Quote':quotes\n",
    "    }).to_csv(f'E:/Scrapped-Data/Quotes-Goodreads/{categories[c][0]}.csv', index=False)"
   ]
  },
  {
   "cell_type": "code",
   "execution_count": null,
   "metadata": {},
   "outputs": [],
   "source": []
  }
 ],
 "metadata": {
  "kernelspec": {
   "display_name": "Python 3",
   "language": "python",
   "name": "python3"
  },
  "language_info": {
   "codemirror_mode": {
    "name": "ipython",
    "version": 3
   },
   "file_extension": ".py",
   "mimetype": "text/x-python",
   "name": "python",
   "nbconvert_exporter": "python",
   "pygments_lexer": "ipython3",
   "version": "3.7.3"
  },
  "toc": {
   "base_numbering": 1,
   "nav_menu": {},
   "number_sections": true,
   "sideBar": true,
   "skip_h1_title": false,
   "title_cell": "Table of Contents",
   "title_sidebar": "Contents",
   "toc_cell": false,
   "toc_position": {},
   "toc_section_display": true,
   "toc_window_display": false
  },
  "varInspector": {
   "cols": {
    "lenName": 16,
    "lenType": 16,
    "lenVar": 40
   },
   "kernels_config": {
    "python": {
     "delete_cmd_postfix": "",
     "delete_cmd_prefix": "del ",
     "library": "var_list.py",
     "varRefreshCmd": "print(var_dic_list())"
    },
    "r": {
     "delete_cmd_postfix": ") ",
     "delete_cmd_prefix": "rm(",
     "library": "var_list.r",
     "varRefreshCmd": "cat(var_dic_list()) "
    }
   },
   "types_to_exclude": [
    "module",
    "function",
    "builtin_function_or_method",
    "instance",
    "_Feature"
   ],
   "window_display": false
  }
 },
 "nbformat": 4,
 "nbformat_minor": 2
}
