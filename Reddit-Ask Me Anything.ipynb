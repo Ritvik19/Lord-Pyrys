{
 "cells": [
  {
   "cell_type": "markdown",
   "metadata": {},
   "source": [
    "# Libraries"
   ]
  },
  {
   "cell_type": "code",
   "execution_count": 1,
   "metadata": {
    "ExecuteTime": {
     "end_time": "2019-08-02T16:42:30.901290Z",
     "start_time": "2019-08-02T16:42:27.950357Z"
    }
   },
   "outputs": [],
   "source": [
    "import praw\n",
    "import pandas as pd\n",
    "from tqdm import tqdm\n",
    "from datetime import datetime"
   ]
  },
  {
   "cell_type": "code",
   "execution_count": 2,
   "metadata": {
    "ExecuteTime": {
     "end_time": "2019-08-02T16:42:30.909269Z",
     "start_time": "2019-08-02T16:42:30.904285Z"
    }
   },
   "outputs": [],
   "source": [
    "pd.options.display.max_colwidth = -1"
   ]
  },
  {
   "cell_type": "markdown",
   "metadata": {},
   "source": [
    "# Scraping"
   ]
  },
  {
   "cell_type": "code",
   "execution_count": 3,
   "metadata": {
    "ExecuteTime": {
     "end_time": "2019-08-02T16:42:31.255779Z",
     "start_time": "2019-08-02T16:42:30.913259Z"
    }
   },
   "outputs": [],
   "source": [
    "with open('E:/RedditCredentials.txt') as f:\n",
    "    credentials = list(map(lambda x: x.strip(), f.readlines()))"
   ]
  },
  {
   "cell_type": "code",
   "execution_count": 4,
   "metadata": {
    "ExecuteTime": {
     "end_time": "2019-08-02T16:42:35.556852Z",
     "start_time": "2019-08-02T16:42:31.267719Z"
    }
   },
   "outputs": [
    {
     "name": "stdout",
     "output_type": "stream",
     "text": [
      "Ritvik19\n"
     ]
    }
   ],
   "source": [
    "reddit = praw.Reddit(client_id=credentials[0],\n",
    "                     client_secret=credentials[1],\n",
    "                     password=credentials[2],\n",
    "                     user_agent=credentials[3],\n",
    "                     username=credentials[4])\n",
    "print(reddit.user.me())"
   ]
  },
  {
   "cell_type": "code",
   "execution_count": 5,
   "metadata": {
    "ExecuteTime": {
     "end_time": "2019-08-02T17:03:48.835584Z",
     "start_time": "2019-08-02T16:42:35.559817Z"
    }
   },
   "outputs": [
    {
     "name": "stderr",
     "output_type": "stream",
     "text": [
      "990it [21:13,  1.37s/it]\n"
     ]
    }
   ],
   "source": [
    "subreddit = reddit.subreddit('AMA')\n",
    "redds = []\n",
    "ts = []\n",
    "comment1 = []\n",
    "comment2 = []\n",
    "comment3 = []\n",
    "comment4 = []\n",
    "comment5 = []\n",
    "\n",
    "top_subreddit = subreddit.hot(limit=1000)\n",
    "for sr in tqdm(top_subreddit):\n",
    "    try:\n",
    "        if not sr.stickied:\n",
    "            comments = sr.comments.list()\n",
    "            if len(comments) >= 5:\n",
    "                redds.append(sr.title)\n",
    "                ts.append(sr.created_utc)\n",
    "                try:\n",
    "                    comment1.append(comments[0].body)\n",
    "                except Exception as e:\n",
    "                    print(e)\n",
    "                    comment1.append('')\n",
    "                try:\n",
    "                    comment2.append(comments[1].body)\n",
    "                except Exception as e:\n",
    "                    print(e)\n",
    "                    comment2.append('')\n",
    "                try:\n",
    "                    comment3.append(comments[2].body)\n",
    "                except Exception as e:\n",
    "                    print(e)\n",
    "                    comment3.append('')\n",
    "                try:\n",
    "                    comment4.append(comments[3].body)\n",
    "                except Exception as e:\n",
    "                    print(e)\n",
    "                    comment4.append('')\n",
    "                try:\n",
    "                    comment5.append(comments[4].body)\n",
    "                except Exception as e:\n",
    "                    print(e)\n",
    "                    comment5.append('')\n",
    "    except Exception as e:\n",
    "        print(e)"
   ]
  },
  {
   "cell_type": "code",
   "execution_count": 6,
   "metadata": {
    "ExecuteTime": {
     "end_time": "2019-08-02T17:03:48.857524Z",
     "start_time": "2019-08-02T17:03:48.838575Z"
    }
   },
   "outputs": [],
   "source": [
    "ts = list(map(lambda x : datetime.fromtimestamp(x).strftime(\"%Y/%m/%d %H:%M:%S\"), ts))"
   ]
  },
  {
   "cell_type": "code",
   "execution_count": 7,
   "metadata": {
    "ExecuteTime": {
     "end_time": "2019-08-02T17:03:48.999791Z",
     "start_time": "2019-08-02T17:03:48.860516Z"
    }
   },
   "outputs": [],
   "source": [
    "FILEPATH = 'E:/Scrapped-Data/Reddit-Ask Me Anything.csv'"
   ]
  },
  {
   "cell_type": "code",
   "execution_count": 8,
   "metadata": {
    "ExecuteTime": {
     "end_time": "2019-08-02T17:03:49.155684Z",
     "start_time": "2019-08-02T17:03:49.003781Z"
    }
   },
   "outputs": [],
   "source": [
    "# First Time\n",
    "# d_all = pd.DataFrame({'Reddit':redds, 'TimeStamp':ts, 'Comment1':comment1, 'Comment2':comment2, 'Comment3':comment3, \n",
    "#                       'Comment4':comment4, 'Comment5':comment5})\n",
    "# d_all.drop_duplicates(subset=['Reddit'],inplace=True)\n",
    "# d_all.sort_values('TimeStamp', ascending=False, inplace=True)\n",
    "# d_all.to_csv(FILEPATH, index=False)"
   ]
  },
  {
   "cell_type": "code",
   "execution_count": 9,
   "metadata": {
    "ExecuteTime": {
     "end_time": "2019-08-02T17:03:49.349304Z",
     "start_time": "2019-08-02T17:03:49.160668Z"
    }
   },
   "outputs": [
    {
     "name": "stdout",
     "output_type": "stream",
     "text": [
      "873\n"
     ]
    }
   ],
   "source": [
    "d_old = pd.read_csv(FILEPATH)\n",
    "d_new = pd.DataFrame({'Reddit':redds, 'TimeStamp':ts, 'Comment1':comment1, 'Comment2':comment2, 'Comment3':comment3, \n",
    "                      'Comment4':comment4, 'Comment5':comment5})\n",
    "print(len(d_new))\n",
    "d_all = pd.concat([d_new, d_old], axis=0)\n",
    "d_all.drop_duplicates(subset=['Reddit'],inplace=True)\n",
    "d_all.sort_values('TimeStamp', ascending=False, inplace=True)\n",
    "d_all.to_csv(FILEPATH, index=False)"
   ]
  },
  {
   "cell_type": "code",
   "execution_count": 10,
   "metadata": {
    "ExecuteTime": {
     "end_time": "2019-08-02T17:03:49.449933Z",
     "start_time": "2019-08-02T17:03:49.352197Z"
    }
   },
   "outputs": [
    {
     "data": {
      "text/html": [
       "<div>\n",
       "<style scoped>\n",
       "    .dataframe tbody tr th:only-of-type {\n",
       "        vertical-align: middle;\n",
       "    }\n",
       "\n",
       "    .dataframe tbody tr th {\n",
       "        vertical-align: top;\n",
       "    }\n",
       "\n",
       "    .dataframe thead th {\n",
       "        text-align: right;\n",
       "    }\n",
       "</style>\n",
       "<table border=\"1\" class=\"dataframe\">\n",
       "  <thead>\n",
       "    <tr style=\"text-align: right;\">\n",
       "      <th></th>\n",
       "      <th>Reddit</th>\n",
       "      <th>TimeStamp</th>\n",
       "      <th>Comment1</th>\n",
       "      <th>Comment2</th>\n",
       "      <th>Comment3</th>\n",
       "      <th>Comment4</th>\n",
       "      <th>Comment5</th>\n",
       "    </tr>\n",
       "  </thead>\n",
       "  <tbody>\n",
       "    <tr>\n",
       "      <th>14</th>\n",
       "      <td>I'm diagnosed with general anxiety disorder AMA</td>\n",
       "      <td>2019/08/02 21:48:47</td>\n",
       "      <td>What age are you? Do you take anything for it?</td>\n",
       "      <td>What sort of things relax you, make you calm?</td>\n",
       "      <td>Hi :D \\n\\nI'm 18 and I've never taken any medication for that  but I'm glad I didn't!</td>\n",
       "      <td>this is funny because, and I talked to my therapist about it, I seem to never relax, you know? I'm always active and I'm always doing something and when I don't, I get even more anxious!\\n\\nbut the only time when I get really relaxed, calm and really zen is when I meditate, Headspace, the App, really revolutionized my life, Everyone should try it.</td>\n",
       "      <td>I'm glad you have some way of coping!!  I hope it gets easier for you the more you do it.</td>\n",
       "    </tr>\n",
       "    <tr>\n",
       "      <th>3</th>\n",
       "      <td>After 4 years, today is my last day working as a receptionist at a giant online retailer that rhymes with flamazan, AMA.</td>\n",
       "      <td>2019/08/02 21:41:24</td>\n",
       "      <td>So, Wal-Mart?</td>\n",
       "      <td>What’s the weirdest call you’ve gotten from a customer?</td>\n",
       "      <td>Did you like your job? Where to next?</td>\n",
       "      <td>rightrightright.</td>\n",
       "      <td>A seller called in furious because they sold.......adult.. toy.. products. and it was cropping up in the childrens toy searches, so it was getting wildly negative reviews by angry moms.</td>\n",
       "    </tr>\n",
       "    <tr>\n",
       "      <th>4</th>\n",
       "      <td>I volunteered answering calls at a suicide hotline for a year. AMA!</td>\n",
       "      <td>2019/08/02 21:29:27</td>\n",
       "      <td>Do you get burnt out? Have issues with  callers who cross the line?</td>\n",
       "      <td>My questions are for the suicide hotline...  \\n  \\nWithout disclosing too much personal information, what was the main reason why people felt that way?  \\n  \\nDid you ever wonder if you truly helped someone or if the call ended up not mattering? Basically, what happened after y’all hung up. How did you determine they were ready to hang up?  \\n  \\nHave you ever had the same person call you more than once? If so, how long was it between their calls?</td>\n",
       "      <td>Were you ever tempted to steer them towards their goal?</td>\n",
       "      <td>Yes, it does take a big emotional toll. I struggle with mental health and have experienced suicidal ideation myself as well. These aspects of myself were incredibly important when it came to building trust, rapport, and empathy with callers but did also contribute to the burnout. I'd like to come back to it at some point, though. Hearing that turning point in someone's voice was extraordinarily rewarding.</td>\n",
       "      <td>Of course not. When someone calls, they are looking to restore hope but just don't know how. Someone who is 100% committed to suicide is not going to call the line to try to find a way out.</td>\n",
       "    </tr>\n",
       "    <tr>\n",
       "      <th>17</th>\n",
       "      <td>I (27/f) worked for 6 years at a Wilderness Camp with zero electricity/cell phone connection/internet and just came back to civilization. AMA.</td>\n",
       "      <td>2019/08/02 21:28:31</td>\n",
       "      <td>Wilderness canoe base in the BWCA?</td>\n",
       "      <td>First thing you did?</td>\n",
       "      <td>Where you back at all during those 6 years into society as it is now ?</td>\n",
       "      <td>Pendola Wilderness Reservation in the Sierra Nevadas.</td>\n",
       "      <td>Got a hotel just to lay on a real bed, enjoy AC and wifi. Just discovered Postmates, I may never leave.</td>\n",
       "    </tr>\n",
       "    <tr>\n",
       "      <th>1</th>\n",
       "      <td>Just got out of the hospital after being kidnapped and stabbed 15 times by a complete stranger AMA</td>\n",
       "      <td>2019/08/02 20:17:02</td>\n",
       "      <td>Do you have a news article that you can share collaborating your story?</td>\n",
       "      <td>Where do you live?</td>\n",
       "      <td>Are you okay?? Also, what does being stabbed feel like?</td>\n",
       "      <td>What did they *stab* you with?\\n\\nDid they atleast take you to dinner first?</td>\n",
       "      <td>1. Is the perpetrator arrested and charged for stabbing?\\n\\n2. How old are you when this happened?  Male or female?\\n\\n3, what was the argument or cause for stabbing?  To me, it sounds like an overkill.\\n\\nI’m sending you support and strength for your recovery.</td>\n",
       "    </tr>\n",
       "  </tbody>\n",
       "</table>\n",
       "</div>"
      ],
      "text/plain": [
       "                                                                                                                                            Reddit  \\\n",
       "14  I'm diagnosed with general anxiety disorder AMA                                                                                                  \n",
       "3   After 4 years, today is my last day working as a receptionist at a giant online retailer that rhymes with flamazan, AMA.                         \n",
       "4   I volunteered answering calls at a suicide hotline for a year. AMA!                                                                              \n",
       "17  I (27/f) worked for 6 years at a Wilderness Camp with zero electricity/cell phone connection/internet and just came back to civilization. AMA.   \n",
       "1   Just got out of the hospital after being kidnapped and stabbed 15 times by a complete stranger AMA                                               \n",
       "\n",
       "              TimeStamp  \\\n",
       "14  2019/08/02 21:48:47   \n",
       "3   2019/08/02 21:41:24   \n",
       "4   2019/08/02 21:29:27   \n",
       "17  2019/08/02 21:28:31   \n",
       "1   2019/08/02 20:17:02   \n",
       "\n",
       "                                                                   Comment1  \\\n",
       "14  What age are you? Do you take anything for it?                            \n",
       "3   So, Wal-Mart?                                                             \n",
       "4   Do you get burnt out? Have issues with  callers who cross the line?       \n",
       "17  Wilderness canoe base in the BWCA?                                        \n",
       "1   Do you have a news article that you can share collaborating your story?   \n",
       "\n",
       "                                                                                                                                                                                                                                                                                                                                                                                                                                                               Comment2  \\\n",
       "14  What sort of things relax you, make you calm?                                                                                                                                                                                                                                                                                                                                                                                                                         \n",
       "3   What’s the weirdest call you’ve gotten from a customer?                                                                                                                                                                                                                                                                                                                                                                                                               \n",
       "4   My questions are for the suicide hotline...  \\n  \\nWithout disclosing too much personal information, what was the main reason why people felt that way?  \\n  \\nDid you ever wonder if you truly helped someone or if the call ended up not mattering? Basically, what happened after y’all hung up. How did you determine they were ready to hang up?  \\n  \\nHave you ever had the same person call you more than once? If so, how long was it between their calls?   \n",
       "17  First thing you did?                                                                                                                                                                                                                                                                                                                                                                                                                                                  \n",
       "1   Where do you live?                                                                                                                                                                                                                                                                                                                                                                                                                                                    \n",
       "\n",
       "                                                                                 Comment3  \\\n",
       "14  Hi :D \\n\\nI'm 18 and I've never taken any medication for that  but I'm glad I didn't!   \n",
       "3   Did you like your job? Where to next?                                                   \n",
       "4   Were you ever tempted to steer them towards their goal?                                 \n",
       "17  Where you back at all during those 6 years into society as it is now ?                  \n",
       "1   Are you okay?? Also, what does being stabbed feel like?                                 \n",
       "\n",
       "                                                                                                                                                                                                                                                                                                                                                                                                                    Comment4  \\\n",
       "14  this is funny because, and I talked to my therapist about it, I seem to never relax, you know? I'm always active and I'm always doing something and when I don't, I get even more anxious!\\n\\nbut the only time when I get really relaxed, calm and really zen is when I meditate, Headspace, the App, really revolutionized my life, Everyone should try it.                                                              \n",
       "3   rightrightright.                                                                                                                                                                                                                                                                                                                                                                                                           \n",
       "4   Yes, it does take a big emotional toll. I struggle with mental health and have experienced suicidal ideation myself as well. These aspects of myself were incredibly important when it came to building trust, rapport, and empathy with callers but did also contribute to the burnout. I'd like to come back to it at some point, though. Hearing that turning point in someone's voice was extraordinarily rewarding.   \n",
       "17  Pendola Wilderness Reservation in the Sierra Nevadas.                                                                                                                                                                                                                                                                                                                                                                      \n",
       "1   What did they *stab* you with?\\n\\nDid they atleast take you to dinner first?                                                                                                                                                                                                                                                                                                                                               \n",
       "\n",
       "                                                                                                                                                                                                                                                                 Comment5  \n",
       "14  I'm glad you have some way of coping!!  I hope it gets easier for you the more you do it.                                                                                                                                                                              \n",
       "3   A seller called in furious because they sold.......adult.. toy.. products. and it was cropping up in the childrens toy searches, so it was getting wildly negative reviews by angry moms.                                                                              \n",
       "4   Of course not. When someone calls, they are looking to restore hope but just don't know how. Someone who is 100% committed to suicide is not going to call the line to try to find a way out.                                                                          \n",
       "17  Got a hotel just to lay on a real bed, enjoy AC and wifi. Just discovered Postmates, I may never leave.                                                                                                                                                                \n",
       "1   1. Is the perpetrator arrested and charged for stabbing?\\n\\n2. How old are you when this happened?  Male or female?\\n\\n3, what was the argument or cause for stabbing?  To me, it sounds like an overkill.\\n\\nI’m sending you support and strength for your recovery.  "
      ]
     },
     "execution_count": 10,
     "metadata": {},
     "output_type": "execute_result"
    }
   ],
   "source": [
    "d_all.head()"
   ]
  },
  {
   "cell_type": "code",
   "execution_count": 11,
   "metadata": {
    "ExecuteTime": {
     "end_time": "2019-08-02T17:03:49.584374Z",
     "start_time": "2019-08-02T17:03:49.451928Z"
    }
   },
   "outputs": [
    {
     "name": "stdout",
     "output_type": "stream",
     "text": [
      "3 New Reddits\n"
     ]
    }
   ],
   "source": [
    "print(f'{len(d_all)-len(d_old)} New Reddits')"
   ]
  },
  {
   "cell_type": "code",
   "execution_count": 12,
   "metadata": {
    "ExecuteTime": {
     "end_time": "2019-08-02T17:03:49.725242Z",
     "start_time": "2019-08-02T17:03:49.588363Z"
    }
   },
   "outputs": [
    {
     "data": {
      "text/plain": [
       "869"
      ]
     },
     "execution_count": 12,
     "metadata": {},
     "output_type": "execute_result"
    }
   ],
   "source": [
    "len(d_all)"
   ]
  },
  {
   "cell_type": "code",
   "execution_count": null,
   "metadata": {},
   "outputs": [],
   "source": []
  }
 ],
 "metadata": {
  "kernelspec": {
   "display_name": "Python 3",
   "language": "python",
   "name": "python3"
  },
  "language_info": {
   "codemirror_mode": {
    "name": "ipython",
    "version": 3
   },
   "file_extension": ".py",
   "mimetype": "text/x-python",
   "name": "python",
   "nbconvert_exporter": "python",
   "pygments_lexer": "ipython3",
   "version": "3.7.3"
  },
  "toc": {
   "base_numbering": 1,
   "nav_menu": {},
   "number_sections": true,
   "sideBar": true,
   "skip_h1_title": false,
   "title_cell": "Table of Contents",
   "title_sidebar": "Contents",
   "toc_cell": false,
   "toc_position": {},
   "toc_section_display": true,
   "toc_window_display": false
  },
  "varInspector": {
   "cols": {
    "lenName": 16,
    "lenType": 16,
    "lenVar": 40
   },
   "kernels_config": {
    "python": {
     "delete_cmd_postfix": "",
     "delete_cmd_prefix": "del ",
     "library": "var_list.py",
     "varRefreshCmd": "print(var_dic_list())"
    },
    "r": {
     "delete_cmd_postfix": ") ",
     "delete_cmd_prefix": "rm(",
     "library": "var_list.r",
     "varRefreshCmd": "cat(var_dic_list()) "
    }
   },
   "types_to_exclude": [
    "module",
    "function",
    "builtin_function_or_method",
    "instance",
    "_Feature"
   ],
   "window_display": false
  }
 },
 "nbformat": 4,
 "nbformat_minor": 2
}
