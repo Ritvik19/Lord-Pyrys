{
 "cells": [
  {
   "cell_type": "markdown",
   "metadata": {},
   "source": [
    "# Libraries"
   ]
  },
  {
   "cell_type": "code",
   "execution_count": 1,
   "metadata": {
    "ExecuteTime": {
     "end_time": "2019-08-25T04:21:50.329845Z",
     "start_time": "2019-08-25T04:21:49.024839Z"
    }
   },
   "outputs": [],
   "source": [
    "import praw\n",
    "import pandas as pd\n",
    "from tqdm.auto import tqdm\n",
    "from datetime import datetime\n",
    "import os.path"
   ]
  },
  {
   "cell_type": "code",
   "execution_count": 2,
   "metadata": {
    "ExecuteTime": {
     "end_time": "2019-08-25T04:21:50.338363Z",
     "start_time": "2019-08-25T04:21:50.333375Z"
    }
   },
   "outputs": [],
   "source": [
    "pd.options.display.max_colwidth = -1"
   ]
  },
  {
   "cell_type": "markdown",
   "metadata": {},
   "source": [
    "# Scraping"
   ]
  },
  {
   "cell_type": "code",
   "execution_count": 3,
   "metadata": {
    "ExecuteTime": {
     "end_time": "2019-08-25T04:21:50.510836Z",
     "start_time": "2019-08-25T04:21:50.342239Z"
    }
   },
   "outputs": [],
   "source": [
    "with open('E:/RedditCredentials.txt') as f:\n",
    "    credentials = list(map(lambda x: x.strip(), f.readlines()))"
   ]
  },
  {
   "cell_type": "code",
   "execution_count": 4,
   "metadata": {
    "ExecuteTime": {
     "end_time": "2019-08-25T04:21:51.916011Z",
     "start_time": "2019-08-25T04:21:50.514798Z"
    }
   },
   "outputs": [
    {
     "name": "stdout",
     "output_type": "stream",
     "text": [
      "Ritvik19\n"
     ]
    }
   ],
   "source": [
    "reddit = praw.Reddit(client_id=credentials[0],\n",
    "                     client_secret=credentials[1],\n",
    "                     password=credentials[2],\n",
    "                     user_agent=credentials[3],\n",
    "                     username=credentials[4])\n",
    "print(reddit.user.me())"
   ]
  },
  {
   "cell_type": "code",
   "execution_count": 5,
   "metadata": {
    "ExecuteTime": {
     "end_time": "2019-08-25T05:49:40.470836Z",
     "start_time": "2019-08-25T04:21:51.924692Z"
    }
   },
   "outputs": [
    {
     "data": {
      "application/vnd.jupyter.widget-view+json": {
       "model_id": "0ac96f0ffa1d442097ecc66a05d3e793",
       "version_major": 2,
       "version_minor": 0
      },
      "text/plain": [
       "HBox(children=(IntProgress(value=1, bar_style='info', max=1), HTML(value='')))"
      ]
     },
     "metadata": {},
     "output_type": "display_data"
    },
    {
     "name": "stdout",
     "output_type": "stream",
     "text": [
      "\n"
     ]
    }
   ],
   "source": [
    "subreddit = reddit.subreddit('AMA')\n",
    "redds = []\n",
    "ts = []\n",
    "comment1 = []\n",
    "comment2 = []\n",
    "comment3 = []\n",
    "comment4 = []\n",
    "comment5 = []\n",
    "\n",
    "top_subreddit = subreddit.hot(limit=1000)\n",
    "for sr in tqdm(top_subreddit):\n",
    "    try:\n",
    "        if not sr.stickied:\n",
    "            comments = sr.comments.list()\n",
    "            if len(comments) >= 5:\n",
    "                redds.append(sr.title)\n",
    "                ts.append(sr.created_utc)\n",
    "                try:\n",
    "                    comment1.append(comments[0].body)\n",
    "                except Exception as e:\n",
    "                    print(e)\n",
    "                    comment1.append('')\n",
    "                try:\n",
    "                    comment2.append(comments[1].body)\n",
    "                except Exception as e:\n",
    "                    print(e)\n",
    "                    comment2.append('')\n",
    "                try:\n",
    "                    comment3.append(comments[2].body)\n",
    "                except Exception as e:\n",
    "                    print(e)\n",
    "                    comment3.append('')\n",
    "                try:\n",
    "                    comment4.append(comments[3].body)\n",
    "                except Exception as e:\n",
    "                    print(e)\n",
    "                    comment4.append('')\n",
    "                try:\n",
    "                    comment5.append(comments[4].body)\n",
    "                except Exception as e:\n",
    "                    print(e)\n",
    "                    comment5.append('')\n",
    "    except Exception as e:\n",
    "        print(e)"
   ]
  },
  {
   "cell_type": "code",
   "execution_count": 6,
   "metadata": {
    "ExecuteTime": {
     "end_time": "2019-08-25T05:49:40.519708Z",
     "start_time": "2019-08-25T05:49:40.478816Z"
    }
   },
   "outputs": [],
   "source": [
    "ts = list(map(lambda x : datetime.fromtimestamp(x).strftime(\"%Y/%m/%d %H:%M:%S\"), ts))"
   ]
  },
  {
   "cell_type": "code",
   "execution_count": 7,
   "metadata": {
    "ExecuteTime": {
     "end_time": "2019-08-25T05:49:40.727060Z",
     "start_time": "2019-08-25T05:49:40.523698Z"
    }
   },
   "outputs": [],
   "source": [
    "FILEPATH = 'E:/Scrapped-Data/Reddit-Ask Me Anything.csv'"
   ]
  },
  {
   "cell_type": "code",
   "execution_count": 8,
   "metadata": {
    "ExecuteTime": {
     "end_time": "2019-08-25T05:49:41.267804Z",
     "start_time": "2019-08-25T05:49:40.740283Z"
    }
   },
   "outputs": [
    {
     "name": "stdout",
     "output_type": "stream",
     "text": [
      "818\n",
      "813 New Reddits\n",
      "1864\n"
     ]
    }
   ],
   "source": [
    "if os.path.exists(FILEPATH):\n",
    "    d_old = pd.read_csv(FILEPATH)\n",
    "    d_new = pd.DataFrame({'Reddit':redds, 'TimeStamp':ts, 'Comment1':comment1, 'Comment2':comment2, 'Comment3':comment3, \n",
    "                          'Comment4':comment4, 'Comment5':comment5})\n",
    "    print(len(d_new))\n",
    "    d_all = pd.concat([d_new, d_old], axis=0)\n",
    "else:\n",
    "    d_all = pd.DataFrame({'Reddit':redds, 'TimeStamp':ts, 'Comment1':comment1, 'Comment2':comment2, 'Comment3':comment3, \n",
    "                      'Comment4':comment4, 'Comment5':comment5})\n",
    "d_all.drop_duplicates(subset=['Reddit'],inplace=True)\n",
    "d_all.sort_values('TimeStamp', ascending=False, inplace=True)\n",
    "d_all.to_csv(FILEPATH, index=False)\n",
    "print(f'{len(d_all)-len(d_old)} New Reddits') if os.path.exists(FILEPATH) else ()\n",
    "print(len(d_all))"
   ]
  },
  {
   "cell_type": "code",
   "execution_count": 9,
   "metadata": {
    "ExecuteTime": {
     "end_time": "2019-08-25T05:49:41.329121Z",
     "start_time": "2019-08-25T05:49:41.272771Z"
    }
   },
   "outputs": [
    {
     "data": {
      "text/html": [
       "<div>\n",
       "<style scoped>\n",
       "    .dataframe tbody tr th:only-of-type {\n",
       "        vertical-align: middle;\n",
       "    }\n",
       "\n",
       "    .dataframe tbody tr th {\n",
       "        vertical-align: top;\n",
       "    }\n",
       "\n",
       "    .dataframe thead th {\n",
       "        text-align: right;\n",
       "    }\n",
       "</style>\n",
       "<table border=\"1\" class=\"dataframe\">\n",
       "  <thead>\n",
       "    <tr style=\"text-align: right;\">\n",
       "      <th></th>\n",
       "      <th>Reddit</th>\n",
       "      <th>TimeStamp</th>\n",
       "      <th>Comment1</th>\n",
       "      <th>Comment2</th>\n",
       "      <th>Comment3</th>\n",
       "      <th>Comment4</th>\n",
       "      <th>Comment5</th>\n",
       "    </tr>\n",
       "  </thead>\n",
       "  <tbody>\n",
       "    <tr>\n",
       "      <th>23</th>\n",
       "      <td>I’m a 17 year old male who’s cheated, snitched a Coke dealer, and been heart broken recently. AMA</td>\n",
       "      <td>2019/08/25 09:31:50</td>\n",
       "      <td>elaborate the title</td>\n",
       "      <td>Whose....</td>\n",
       "      <td>I’d been in a relationship with a girl my age and I cheated on her 3 times, and then got caught. We broke up, got back together, and things went well but now we’re split up and it feels so much worse. Like anxiety attack, suicidal thoughts, etc. \\n\\nAlso I snitched on a cocaine dealer at school</td>\n",
       "      <td>Whose what?</td>\n",
       "      <td>ok, but why?\\n\\nand also, why?</td>\n",
       "    </tr>\n",
       "    <tr>\n",
       "      <th>25</th>\n",
       "      <td>I was on my deathbed after getting Bacterial meningitis. AMA</td>\n",
       "      <td>2019/08/25 09:16:38</td>\n",
       "      <td>Were you scared?</td>\n",
       "      <td>Did you experience anything that could be described as \"a near-death experience?.</td>\n",
       "      <td>Of course, I was scared for my life, I was scared what my mother was going to do without me, I was scared what my son was going to do without me. All around it was a very frightening moment of my life.</td>\n",
       "      <td>I would consider the whole ordeal as a near-death experience. I just remember sitting in the hospital in End-of-life care, and then it was over. Like I said when I woke up I was basically healthy again (Besides the weeks of medication and trying to get over it).</td>\n",
       "      <td>Not for others, were you scared that YOU were gonna die?</td>\n",
       "    </tr>\n",
       "    <tr>\n",
       "      <th>26</th>\n",
       "      <td>I just turned 18 yesterday, AMA?</td>\n",
       "      <td>2019/08/25 08:56:45</td>\n",
       "      <td>Why so desperate? You are 18, isn't that liberating?</td>\n",
       "      <td>How was your run?</td>\n",
       "      <td>Whats your favorite dildo or vibrator and can you pm me it?</td>\n",
       "      <td>What’s your plan now?</td>\n",
       "      <td>A little overwhelming. Recently I went from not having a vehicle, license, school, or a job. Now I have a truck, I just got my license, just started college, and just got hired yesterday. Liberating? Maybe.</td>\n",
       "    </tr>\n",
       "    <tr>\n",
       "      <th>13</th>\n",
       "      <td>I just unexpectedly got a happy ending massage and I’m feeling all sorts of emotions - AMA</td>\n",
       "      <td>2019/08/25 08:51:04</td>\n",
       "      <td>How did the event unfold?</td>\n",
       "      <td>Do you not feel happy?</td>\n",
       "      <td>HHHHHAAAAYYYYY!  Do you feel good about it or do you feel like you are traumatized?</td>\n",
       "      <td>Will you be going back?</td>\n",
       "      <td>&gt; I walked into the massage parlor and said I'd like a medium pressure massage. There weren't busy, so she took me back straight away. She asked if I also wanted a table shower. I had no idea what that was and she said it's just a way to get clean after the oils and such. My 60 minute massage was great. A little more revealing than I normally do, as she didn't really care much about the towel I was using to cover my midsection. Other than a few close swipes to my private bits, I had no way of anticipating what was about to happen. When the massage finished, she gave me a robe and took me to the table shower room. I layed face down on the table and she started cleaning every crack in my body. When I flipped over, she did the same until she got to my private parts. She started to clean them and I though, \"wow, this is kind of intense right now.\" For the first 20 seconds or so I just legitimately thought she was thoroughly cleaning my crotch area, but then I got a little, uh, aroused. I didn't say a damn thing though. She just started going after it. It was actually really awesome, but very unexpected? Still trying to sort out my feelings on it.</td>\n",
       "    </tr>\n",
       "    <tr>\n",
       "      <th>92</th>\n",
       "      <td>Im A 13 year old Atheist Skeptic. AMA!</td>\n",
       "      <td>2019/08/25 08:50:43</td>\n",
       "      <td>What makes you think you're right?</td>\n",
       "      <td>Skeptic as in part of the skeptic community. Which focuses on critical thinking and is mostly made up of other atheists.</td>\n",
       "      <td>It was my understanding that you couldn't be both atheist and skeptic, since Atheism is just not believing in god, while skepticism is supporting the possibility of a God, but doesn't believe strongly in Theism or Atheism\\n\\nCould you explain?</td>\n",
       "      <td>Thoughts on reddit's age limit?</td>\n",
       "      <td>right about what? specifically.</td>\n",
       "    </tr>\n",
       "  </tbody>\n",
       "</table>\n",
       "</div>"
      ],
      "text/plain": [
       "                                                                                               Reddit  \\\n",
       "23  I’m a 17 year old male who’s cheated, snitched a Coke dealer, and been heart broken recently. AMA   \n",
       "25  I was on my deathbed after getting Bacterial meningitis. AMA                                        \n",
       "26  I just turned 18 yesterday, AMA?                                                                    \n",
       "13  I just unexpectedly got a happy ending massage and I’m feeling all sorts of emotions - AMA          \n",
       "92  Im A 13 year old Atheist Skeptic. AMA!                                                              \n",
       "\n",
       "              TimeStamp                                              Comment1  \\\n",
       "23  2019/08/25 09:31:50  elaborate the title                                    \n",
       "25  2019/08/25 09:16:38  Were you scared?                                       \n",
       "26  2019/08/25 08:56:45  Why so desperate? You are 18, isn't that liberating?   \n",
       "13  2019/08/25 08:51:04  How did the event unfold?                              \n",
       "92  2019/08/25 08:50:43  What makes you think you're right?                     \n",
       "\n",
       "                                                                                                                    Comment2  \\\n",
       "23  Whose....                                                                                                                  \n",
       "25  Did you experience anything that could be described as \"a near-death experience?.                                          \n",
       "26  How was your run?                                                                                                          \n",
       "13  Do you not feel happy?                                                                                                     \n",
       "92  Skeptic as in part of the skeptic community. Which focuses on critical thinking and is mostly made up of other atheists.   \n",
       "\n",
       "                                                                                                                                                                                                                                                                                                   Comment3  \\\n",
       "23  I’d been in a relationship with a girl my age and I cheated on her 3 times, and then got caught. We broke up, got back together, and things went well but now we’re split up and it feels so much worse. Like anxiety attack, suicidal thoughts, etc. \\n\\nAlso I snitched on a cocaine dealer at school   \n",
       "25  Of course, I was scared for my life, I was scared what my mother was going to do without me, I was scared what my son was going to do without me. All around it was a very frightening moment of my life.                                                                                                 \n",
       "26  Whats your favorite dildo or vibrator and can you pm me it?                                                                                                                                                                                                                                               \n",
       "13  HHHHHAAAAYYYYY!  Do you feel good about it or do you feel like you are traumatized?                                                                                                                                                                                                                       \n",
       "92  It was my understanding that you couldn't be both atheist and skeptic, since Atheism is just not believing in god, while skepticism is supporting the possibility of a God, but doesn't believe strongly in Theism or Atheism\\n\\nCould you explain?                                                       \n",
       "\n",
       "                                                                                                                                                                                                                                                                  Comment4  \\\n",
       "23  Whose what?                                                                                                                                                                                                                                                              \n",
       "25  I would consider the whole ordeal as a near-death experience. I just remember sitting in the hospital in End-of-life care, and then it was over. Like I said when I woke up I was basically healthy again (Besides the weeks of medication and trying to get over it).   \n",
       "26  What’s your plan now?                                                                                                                                                                                                                                                    \n",
       "13  Will you be going back?                                                                                                                                                                                                                                                  \n",
       "92  Thoughts on reddit's age limit?                                                                                                                                                                                                                                          \n",
       "\n",
       "                                                                                                                                                                                                                                                                                                                                                                                                                                                                                                                                                                                                                                                                                                                                                                                                                                                                                                                                                                                                                                                                                                                                                                                                    Comment5  \n",
       "23  ok, but why?\\n\\nand also, why?                                                                                                                                                                                                                                                                                                                                                                                                                                                                                                                                                                                                                                                                                                                                                                                                                                                                                                                                                                                                                                                                                                                                                                            \n",
       "25  Not for others, were you scared that YOU were gonna die?                                                                                                                                                                                                                                                                                                                                                                                                                                                                                                                                                                                                                                                                                                                                                                                                                                                                                                                                                                                                                                                                                                                                                  \n",
       "26  A little overwhelming. Recently I went from not having a vehicle, license, school, or a job. Now I have a truck, I just got my license, just started college, and just got hired yesterday. Liberating? Maybe.                                                                                                                                                                                                                                                                                                                                                                                                                                                                                                                                                                                                                                                                                                                                                                                                                                                                                                                                                                                            \n",
       "13  > I walked into the massage parlor and said I'd like a medium pressure massage. There weren't busy, so she took me back straight away. She asked if I also wanted a table shower. I had no idea what that was and she said it's just a way to get clean after the oils and such. My 60 minute massage was great. A little more revealing than I normally do, as she didn't really care much about the towel I was using to cover my midsection. Other than a few close swipes to my private bits, I had no way of anticipating what was about to happen. When the massage finished, she gave me a robe and took me to the table shower room. I layed face down on the table and she started cleaning every crack in my body. When I flipped over, she did the same until she got to my private parts. She started to clean them and I though, \"wow, this is kind of intense right now.\" For the first 20 seconds or so I just legitimately thought she was thoroughly cleaning my crotch area, but then I got a little, uh, aroused. I didn't say a damn thing though. She just started going after it. It was actually really awesome, but very unexpected? Still trying to sort out my feelings on it.  \n",
       "92  right about what? specifically.                                                                                                                                                                                                                                                                                                                                                                                                                                                                                                                                                                                                                                                                                                                                                                                                                                                                                                                                                                                                                                                                                                                                                                           "
      ]
     },
     "execution_count": 9,
     "metadata": {},
     "output_type": "execute_result"
    }
   ],
   "source": [
    "d_all.head()"
   ]
  }
 ],
 "metadata": {
  "kernelspec": {
   "display_name": "Python 3",
   "language": "python",
   "name": "python3"
  },
  "language_info": {
   "codemirror_mode": {
    "name": "ipython",
    "version": 3
   },
   "file_extension": ".py",
   "mimetype": "text/x-python",
   "name": "python",
   "nbconvert_exporter": "python",
   "pygments_lexer": "ipython3",
   "version": "3.7.3"
  },
  "toc": {
   "base_numbering": 1,
   "nav_menu": {},
   "number_sections": true,
   "sideBar": true,
   "skip_h1_title": false,
   "title_cell": "Table of Contents",
   "title_sidebar": "Contents",
   "toc_cell": false,
   "toc_position": {},
   "toc_section_display": true,
   "toc_window_display": false
  },
  "varInspector": {
   "cols": {
    "lenName": 16,
    "lenType": 16,
    "lenVar": 40
   },
   "kernels_config": {
    "python": {
     "delete_cmd_postfix": "",
     "delete_cmd_prefix": "del ",
     "library": "var_list.py",
     "varRefreshCmd": "print(var_dic_list())"
    },
    "r": {
     "delete_cmd_postfix": ") ",
     "delete_cmd_prefix": "rm(",
     "library": "var_list.r",
     "varRefreshCmd": "cat(var_dic_list()) "
    }
   },
   "types_to_exclude": [
    "module",
    "function",
    "builtin_function_or_method",
    "instance",
    "_Feature"
   ],
   "window_display": false
  }
 },
 "nbformat": 4,
 "nbformat_minor": 2
}
