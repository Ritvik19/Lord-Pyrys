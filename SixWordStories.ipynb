{
 "cells": [
  {
   "cell_type": "markdown",
   "metadata": {},
   "source": [
    "# Libraries"
   ]
  },
  {
   "cell_type": "code",
   "execution_count": 1,
   "metadata": {
    "ExecuteTime": {
     "end_time": "2019-10-14T12:05:16.112732Z",
     "start_time": "2019-10-14T12:05:14.923450Z"
    }
   },
   "outputs": [],
   "source": [
    "import requests, bs4\n",
    "import numpy as np\n",
    "import pandas as pd\n",
    "from IPython.display import clear_output\n",
    "from tqdm.auto import tqdm\n",
    "from random import random\n",
    "from time import sleep"
   ]
  },
  {
   "cell_type": "markdown",
   "metadata": {},
   "source": [
    "# Scraping"
   ]
  },
  {
   "cell_type": "code",
   "execution_count": 2,
   "metadata": {
    "ExecuteTime": {
     "end_time": "2019-10-14T12:12:31.855994Z",
     "start_time": "2019-10-14T12:05:16.115665Z"
    },
    "scrolled": true
   },
   "outputs": [
    {
     "name": "stdout",
     "output_type": "stream",
     "text": [
      "120 /120\n",
      "Vacuum collision. Orbits diverge. Farewell, love.\n",
      "Lucky, yes, but my twin wasn’t.\n",
      "Automobile warranty expires. So does engine.\n",
      "Computer, did we bring batteries? Computer?\n",
      "I came.  I saw.  I conquered.\n",
      "Failed SAT. Lost scholarship. Invented rocket.\n",
      "For sale: baby shoes, never worn.\n",
      "Submit a story\n",
      "Stories told in just six words.\n"
     ]
    }
   ],
   "source": [
    "headers = {\n",
    "    'User-Agent': 'Mozilla/5.0 (Windows NT 6.1)'\n",
    "}\n",
    "stories = []\n",
    "for i in range(1, 121):\n",
    "    url = f'http://www.sixwordstories.net/page/{i}/'\n",
    "    sleep(random()*5)\n",
    "    clear_output(wait=True)\n",
    "    print(i, '/120')\n",
    "    res = requests.get(url, headers=headers)\n",
    "    if res.status_code == requests.codes.ok:\n",
    "        ressoup = bs4.BeautifulSoup(res.text, 'lxml')\n",
    "        elems = ressoup.select('div.post h2')\n",
    "        for e in elems:\n",
    "            stories.append(e.getText())\n",
    "            print(e.getText())\n",
    "        pd.DataFrame({\n",
    "            'Story':[stories]\n",
    "        }).to_csv('E:/Scrapped-Data/SixWordStories.csv', index=False)\n",
    "    else:\n",
    "        print('Something went wrong')"
   ]
  },
  {
   "cell_type": "code",
   "execution_count": 3,
   "metadata": {
    "ExecuteTime": {
     "end_time": "2019-10-14T12:13:36.192933Z",
     "start_time": "2019-10-14T12:13:36.180934Z"
    }
   },
   "outputs": [],
   "source": [
    "pd.DataFrame({\n",
    "    'Story':[stories[:-2]]\n",
    "}).to_csv('E:/Scrapped-Data/SixWordStories.csv', index=False)"
   ]
  },
  {
   "cell_type": "code",
   "execution_count": 4,
   "metadata": {
    "ExecuteTime": {
     "end_time": "2019-10-14T12:13:49.530268Z",
     "start_time": "2019-10-14T12:13:49.514339Z"
    }
   },
   "outputs": [
    {
     "data": {
      "text/plain": [
       "1792"
      ]
     },
     "execution_count": 4,
     "metadata": {},
     "output_type": "execute_result"
    }
   ],
   "source": [
    "len(stories)-2"
   ]
  },
  {
   "cell_type": "code",
   "execution_count": null,
   "metadata": {},
   "outputs": [],
   "source": []
  }
 ],
 "metadata": {
  "kernelspec": {
   "display_name": "Python 3",
   "language": "python",
   "name": "python3"
  },
  "language_info": {
   "codemirror_mode": {
    "name": "ipython",
    "version": 3
   },
   "file_extension": ".py",
   "mimetype": "text/x-python",
   "name": "python",
   "nbconvert_exporter": "python",
   "pygments_lexer": "ipython3",
   "version": "3.7.3"
  },
  "toc": {
   "base_numbering": 1,
   "nav_menu": {},
   "number_sections": true,
   "sideBar": true,
   "skip_h1_title": false,
   "title_cell": "Table of Contents",
   "title_sidebar": "Contents",
   "toc_cell": false,
   "toc_position": {},
   "toc_section_display": true,
   "toc_window_display": false
  },
  "varInspector": {
   "cols": {
    "lenName": 16,
    "lenType": 16,
    "lenVar": 40
   },
   "kernels_config": {
    "python": {
     "delete_cmd_postfix": "",
     "delete_cmd_prefix": "del ",
     "library": "var_list.py",
     "varRefreshCmd": "print(var_dic_list())"
    },
    "r": {
     "delete_cmd_postfix": ") ",
     "delete_cmd_prefix": "rm(",
     "library": "var_list.r",
     "varRefreshCmd": "cat(var_dic_list()) "
    }
   },
   "types_to_exclude": [
    "module",
    "function",
    "builtin_function_or_method",
    "instance",
    "_Feature"
   ],
   "window_display": false
  }
 },
 "nbformat": 4,
 "nbformat_minor": 2
}
