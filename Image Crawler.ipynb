{
 "cells": [
  {
   "cell_type": "code",
   "execution_count": 1,
   "metadata": {
    "ExecuteTime": {
     "end_time": "2019-06-21T17:04:12.608810Z",
     "start_time": "2019-06-21T17:04:12.150017Z"
    }
   },
   "outputs": [],
   "source": [
    "import requests, bs4\n",
    "from IPython.display import clear_output\n",
    "import re, os"
   ]
  },
  {
   "cell_type": "code",
   "execution_count": 2,
   "metadata": {
    "ExecuteTime": {
     "end_time": "2019-06-21T17:04:12.618783Z",
     "start_time": "2019-06-21T17:04:12.612951Z"
    }
   },
   "outputs": [],
   "source": [
    "url = input()"
   ]
  },
  {
   "cell_type": "code",
   "execution_count": 4,
   "metadata": {
    "ExecuteTime": {
     "end_time": "2019-06-21T17:09:13.601910Z",
     "start_time": "2019-06-21T17:04:30.179285Z"
    }
   },
   "outputs": [],
   "source": [
    "res = requests.get(url)\n",
    "if res.status_code == requests.codes.ok:\n",
    "    ressoup = bs4.BeautifulSoup(res.text, 'lxml')\n",
    "    name = re.sub(r'\\s+', ' ', re.sub(r'[^\\w\\s]', '', ressoup.select('title')[0].getText()))\n",
    "    os.mkdir(name)\n",
    "    elems = ressoup.select('img')\n",
    "    for i, e in enumerate(elems):\n",
    "        try:\n",
    "            print(f'{i+1:{3}}/ {len(elems)}')\n",
    "            u = e.get('src')\n",
    "#             print('url:', u)\n",
    "            ext = re.findall(r'([.](jpg|gif|png|svg|jpeg))', u)\n",
    "#             print('ext:', ext)\n",
    "            res_ = requests.get(u)\n",
    "            print('os: ',os.path.join(name, str(i+1)+ext[0][0]))\n",
    "            with open(os.path.join(name, str(i+1)+ext[0][0]), 'wb') as f:\n",
    "                for chunk in res_.iter_content(100000):\n",
    "                    f.write(chunk)\n",
    "        except Exception as s:\n",
    "            print(e)\n",
    "        clear_output(wait=True)\n",
    "else:\n",
    "    print('Something went wrong')"
   ]
  },
  {
   "cell_type": "code",
   "execution_count": null,
   "metadata": {},
   "outputs": [],
   "source": []
  }
 ],
 "metadata": {
  "kernelspec": {
   "display_name": "Python 3",
   "language": "python",
   "name": "python3"
  },
  "language_info": {
   "codemirror_mode": {
    "name": "ipython",
    "version": 3
   },
   "file_extension": ".py",
   "mimetype": "text/x-python",
   "name": "python",
   "nbconvert_exporter": "python",
   "pygments_lexer": "ipython3",
   "version": "3.7.3"
  },
  "toc": {
   "base_numbering": 1,
   "nav_menu": {},
   "number_sections": true,
   "sideBar": true,
   "skip_h1_title": false,
   "title_cell": "Table of Contents",
   "title_sidebar": "Contents",
   "toc_cell": false,
   "toc_position": {},
   "toc_section_display": true,
   "toc_window_display": false
  },
  "varInspector": {
   "cols": {
    "lenName": 16,
    "lenType": 16,
    "lenVar": 40
   },
   "kernels_config": {
    "python": {
     "delete_cmd_postfix": "",
     "delete_cmd_prefix": "del ",
     "library": "var_list.py",
     "varRefreshCmd": "print(var_dic_list())"
    },
    "r": {
     "delete_cmd_postfix": ") ",
     "delete_cmd_prefix": "rm(",
     "library": "var_list.r",
     "varRefreshCmd": "cat(var_dic_list()) "
    }
   },
   "types_to_exclude": [
    "module",
    "function",
    "builtin_function_or_method",
    "instance",
    "_Feature"
   ],
   "window_display": false
  }
 },
 "nbformat": 4,
 "nbformat_minor": 2
}
